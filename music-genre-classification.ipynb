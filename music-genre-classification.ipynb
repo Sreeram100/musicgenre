{
 "cells": [
  {
   "cell_type": "code",
   "execution_count": 2,
   "metadata": {
    "execution": {
     "iopub.execute_input": "2023-04-17T05:50:29.334603Z",
     "iopub.status.busy": "2023-04-17T05:50:29.334310Z",
     "iopub.status.idle": "2023-04-17T05:50:39.252923Z",
     "shell.execute_reply": "2023-04-17T05:50:39.251813Z",
     "shell.execute_reply.started": "2023-04-17T05:50:29.334577Z"
    }
   },
   "outputs": [],
   "source": [
    "import numpy as np \n",
    "from scipy.io import wavfile\n",
    "import matplotlib.pyplot as plt\n",
    "import os\n",
    "from tqdm import tqdm\n",
    "import librosa\n",
    "from librosa.feature import mfcc"
   ]
  },
  {
   "cell_type": "code",
   "execution_count": 3,
   "metadata": {
    "execution": {
     "iopub.execute_input": "2023-04-17T05:50:39.256872Z",
     "iopub.status.busy": "2023-04-17T05:50:39.255882Z",
     "iopub.status.idle": "2023-04-17T05:50:39.270088Z",
     "shell.execute_reply": "2023-04-17T05:50:39.269040Z",
     "shell.execute_reply.started": "2023-04-17T05:50:39.256830Z"
    }
   },
   "outputs": [],
   "source": [
    "#files \n",
    "genre_path = 'new dataset'\n",
    "file_path = [os.path.join(genre_path,x) for x in os.listdir(genre_path)]\n",
    "genres = [x for x in os.listdir(genre_path)]"
   ]
  },
  {
   "cell_type": "code",
   "execution_count": 5,
   "metadata": {
    "execution": {
     "iopub.execute_input": "2023-04-17T05:50:39.272761Z",
     "iopub.status.busy": "2023-04-17T05:50:39.271848Z",
     "iopub.status.idle": "2023-04-17T05:50:39.282215Z",
     "shell.execute_reply": "2023-04-17T05:50:39.281248Z",
     "shell.execute_reply.started": "2023-04-17T05:50:39.272719Z"
    }
   },
   "outputs": [
    {
     "data": {
      "text/plain": [
       "['carnatic', 'folk', 'ghazal', 'semiclassical', 'sufi']"
      ]
     },
     "execution_count": 5,
     "metadata": {},
     "output_type": "execute_result"
    }
   ],
   "source": [
    "genres"
   ]
  },
  {
   "cell_type": "code",
   "execution_count": 11,
   "metadata": {
    "execution": {
     "iopub.execute_input": "2023-04-17T05:51:05.301827Z",
     "iopub.status.busy": "2023-04-17T05:51:05.301109Z",
     "iopub.status.idle": "2023-04-17T05:51:05.373514Z",
     "shell.execute_reply": "2023-04-17T05:51:05.372465Z",
     "shell.execute_reply.started": "2023-04-17T05:51:05.301790Z"
    }
   },
   "outputs": [
    {
     "name": "stderr",
     "output_type": "stream",
     "text": [
      "100%|███████████████████████████████████████████████████████████████████████████████████| 5/5 [00:00<00:00, 338.98it/s]\n"
     ]
    }
   ],
   "source": [
    "audio_paths = []\n",
    "for i in tqdm(file_path):\n",
    "    for j in os.listdir(i):\n",
    "        file = os.path.join(i,j)\n",
    "        audio_paths.append(file)\n",
    "\n"
   ]
  },
  {
   "cell_type": "code",
   "execution_count": 22,
   "metadata": {
    "execution": {
     "iopub.execute_input": "2023-04-17T05:50:39.285137Z",
     "iopub.status.busy": "2023-04-17T05:50:39.284666Z",
     "iopub.status.idle": "2023-04-17T05:50:39.291407Z",
     "shell.execute_reply": "2023-04-17T05:50:39.290239Z",
     "shell.execute_reply.started": "2023-04-17T05:50:39.285098Z"
    }
   },
   "outputs": [],
   "source": [
    "def get_mfcc(path):\n",
    "    audio, sr = librosa.load(path)\n",
    "    mfccs = mfcc(y=audio,sr=sr,n_mfcc=13,hop_length=512,n_fft=2048)\n",
    "    return mfccs"
   ]
  },
  {
   "cell_type": "code",
   "execution_count": 18,
   "metadata": {
    "execution": {
     "iopub.execute_input": "2023-04-16T19:46:41.115888Z",
     "iopub.status.busy": "2023-04-16T19:46:41.114674Z",
     "iopub.status.idle": "2023-04-16T19:46:41.154059Z",
     "shell.execute_reply": "2023-04-16T19:46:41.152342Z",
     "shell.execute_reply.started": "2023-04-16T19:46:41.115843Z"
    }
   },
   "outputs": [
    {
     "data": {
      "image/png": "[encoded data removed]",
      "text/plain": [
       "<Figure size 720x288 with 2 Axes>"
      ]
     },
     "metadata": {
      "needs_background": "light"
     },
     "output_type": "display_data"
    }
   ],
   "source": [
    "mfccs = get_mfcc('new dataset/carnatic/carnatic1.wav')\n",
    "plt.figure(figsize=(10, 4))\n",
    "librosa.display.specshow(mfccs, x_axis='time')\n",
    "plt.colorbar()\n",
    "plt.title('MFCCs')\n",
    "plt.tight_layout()\n",
    "plt.show()"
   ]
  },
  {
   "cell_type": "code",
   "execution_count": 8,
   "metadata": {
    "execution": {
     "iopub.execute_input": "2023-04-17T05:50:39.293365Z",
     "iopub.status.busy": "2023-04-17T05:50:39.292926Z",
     "iopub.status.idle": "2023-04-17T05:50:39.303266Z",
     "shell.execute_reply": "2023-04-17T05:50:39.302250Z",
     "shell.execute_reply.started": "2023-04-17T05:50:39.293305Z"
    }
   },
   "outputs": [],
   "source": [
    "def get_frame_mfccs(path):\n",
    "    '''\n",
    "    -------------------------------------------------\n",
    "    Loads the .wav audio file and split into 3-second slices and then calculate mfccs for all slices\n",
    "    -------------------------------------------------\n",
    "    :params path : path to .wav file\n",
    "    :returns : list of mfcc values'''\n",
    "    audio, sr = librosa.load(path)\n",
    "    frames = librosa.util.frame(audio, frame_length=sr*3, hop_length=sr*3)\n",
    "    frame_mfccs = []\n",
    "    for i in range(frames.shape[1]):\n",
    "        mfccs = mfcc(y=frames[:,i],sr=sr,n_mfcc=13,hop_length=512,n_fft=2048)\n",
    "        frame_mfccs.append(mfccs)\n",
    "    return frame_mfccs\n",
    "    "
   ]
  },
  {
   "cell_type": "code",
   "execution_count": 7,
   "metadata": {
    "execution": {
     "iopub.execute_input": "2023-04-16T19:46:49.039185Z",
     "iopub.status.busy": "2023-04-16T19:46:49.038067Z",
     "iopub.status.idle": "2023-04-16T19:46:49.301224Z",
     "shell.execute_reply": "2023-04-16T19:46:49.299770Z",
     "shell.execute_reply.started": "2023-04-16T19:46:49.039145Z"
    }
   },
   "outputs": [
    {
     "ename": "NameError",
     "evalue": "name 'demo' is not defined",
     "output_type": "error",
     "traceback": [
      "\u001b[1;31m---------------------------------------------------------------------------\u001b[0m",
      "\u001b[1;31mNameError\u001b[0m                                 Traceback (most recent call last)",
      "Input \u001b[1;32mIn [7]\u001b[0m, in \u001b[0;36m<cell line: 2>\u001b[1;34m()\u001b[0m\n\u001b[0;32m      1\u001b[0m \u001b[38;5;66;03m# get window mfcc for demo audio\u001b[39;00m\n\u001b[1;32m----> 2\u001b[0m frames_mfc \u001b[38;5;241m=\u001b[39m get_frame_mfccs(\u001b[43mdemo\u001b[49m)\n",
      "\u001b[1;31mNameError\u001b[0m: name 'demo' is not defined"
     ]
    }
   ],
   "source": [
    "# get window mfcc for demo audio\n",
    "frames_mfc = get_frame_mfccs(demo)"
   ]
  },
  {
   "cell_type": "code",
   "execution_count": 23,
   "metadata": {
    "execution": {
     "iopub.execute_input": "2023-04-16T19:46:50.576023Z",
     "iopub.status.busy": "2023-04-16T19:46:50.575344Z",
     "iopub.status.idle": "2023-04-16T19:46:50.828632Z",
     "shell.execute_reply": "2023-04-16T19:46:50.827626Z",
     "shell.execute_reply.started": "2023-04-16T19:46:50.575984Z"
    }
   },
   "outputs": [
    {
     "ename": "NameError",
     "evalue": "name 'frames_mfc' is not defined",
     "output_type": "error",
     "traceback": [
      "\u001b[1;31m---------------------------------------------------------------------------\u001b[0m",
      "\u001b[1;31mNameError\u001b[0m                                 Traceback (most recent call last)",
      "Input \u001b[1;32mIn [23]\u001b[0m, in \u001b[0;36m<cell line: 3>\u001b[1;34m()\u001b[0m\n\u001b[0;32m      1\u001b[0m \u001b[38;5;66;03m# plot mfcc of a single window\u001b[39;00m\n\u001b[0;32m      2\u001b[0m plt\u001b[38;5;241m.\u001b[39mfigure(figsize\u001b[38;5;241m=\u001b[39m(\u001b[38;5;241m10\u001b[39m, \u001b[38;5;241m4\u001b[39m))\n\u001b[1;32m----> 3\u001b[0m librosa\u001b[38;5;241m.\u001b[39mdisplay\u001b[38;5;241m.\u001b[39mspecshow(\u001b[43mframes_mfc\u001b[49m[\u001b[38;5;241m0\u001b[39m], x_axis\u001b[38;5;241m=\u001b[39m\u001b[38;5;124m'\u001b[39m\u001b[38;5;124mtime\u001b[39m\u001b[38;5;124m'\u001b[39m)\n\u001b[0;32m      4\u001b[0m plt\u001b[38;5;241m.\u001b[39mcolorbar()\n\u001b[0;32m      5\u001b[0m plt\u001b[38;5;241m.\u001b[39mtitle(\u001b[38;5;124m'\u001b[39m\u001b[38;5;124mMFCCs\u001b[39m\u001b[38;5;124m'\u001b[39m)\n",
      "\u001b[1;31mNameError\u001b[0m: name 'frames_mfc' is not defined"
     ]
    },
    {
     "data": {
      "text/plain": [
       "<Figure size 720x288 with 0 Axes>"
      ]
     },
     "metadata": {},
     "output_type": "display_data"
    }
   ],
   "source": [
    "# plot mfcc of a single window\n",
    "plt.figure(figsize=(10, 4))\n",
    "librosa.display.specshow(frames_mfc[0], x_axis='time')\n",
    "plt.colorbar()\n",
    "plt.title('MFCCs')\n",
    "plt.tight_layout()\n",
    "plt.show()"
   ]
  },
  {
   "cell_type": "code",
   "execution_count": 9,
   "metadata": {
    "scrolled": true
   },
   "outputs": [
    {
     "ename": "NameError",
     "evalue": "name 'path' is not defined",
     "output_type": "error",
     "traceback": [
      "\u001b[1;31m---------------------------------------------------------------------------\u001b[0m",
      "\u001b[1;31mNameError\u001b[0m                                 Traceback (most recent call last)",
      "Input \u001b[1;32mIn [9]\u001b[0m, in \u001b[0;36m<cell line: 1>\u001b[1;34m()\u001b[0m\n\u001b[1;32m----> 1\u001b[0m \u001b[38;5;28mprint\u001b[39m(\u001b[43mpath\u001b[49m\u001b[38;5;241m.\u001b[39msplit(\u001b[38;5;124m'\u001b[39m\u001b[38;5;130;01m\\\\\u001b[39;00m\u001b[38;5;124m'\u001b[39m))\n",
      "\u001b[1;31mNameError\u001b[0m: name 'path' is not defined"
     ]
    }
   ],
   "source": [
    "print(path.split('\\\\'))"
   ]
  },
  {
   "cell_type": "code",
   "execution_count": 24,
   "metadata": {
    "execution": {
     "iopub.execute_input": "2023-04-17T05:51:13.913449Z",
     "iopub.status.busy": "2023-04-17T05:51:13.912430Z",
     "iopub.status.idle": "2023-04-17T05:54:20.215035Z",
     "shell.execute_reply": "2023-04-17T05:54:20.213768Z",
     "shell.execute_reply.started": "2023-04-17T05:51:13.913409Z"
    },
    "scrolled": true
   },
   "outputs": [
    {
     "name": "stderr",
     "output_type": "stream",
     "text": [
      "\r",
      "  0%|                                                                                         | 0/1873 [00:00<?, ?it/s]"
     ]
    },
    {
     "data": {
      "text/plain": [
       "'new dataset\\\\carnatic\\\\carnatic1.wav'"
      ]
     },
     "metadata": {},
     "output_type": "display_data"
    },
    {
     "name": "stderr",
     "output_type": "stream",
     "text": [
      "\r",
      "  0%|                                                                                 | 1/1873 [00:00<05:03,  6.16it/s]"
     ]
    },
    {
     "data": {
      "text/plain": [
       "'new dataset\\\\carnatic\\\\carnatic100.wav'"
      ]
     },
     "metadata": {},
     "output_type": "display_data"
    },
    {
     "name": "stderr",
     "output_type": "stream",
     "text": [
      "\r",
      "  0%|                                                                                 | 2/1873 [00:00<05:27,  5.71it/s]"
     ]
    },
    {
     "data": {
      "text/plain": [
       "'new dataset\\\\carnatic\\\\carnatic101.wav'"
      ]
     },
     "metadata": {},
     "output_type": "display_data"
    },
    {
     "name": "stderr",
     "output_type": "stream",
     "text": [
      "\r",
      "  0%|▏                                                                                | 3/1873 [00:00<05:51,  5.32it/s]"
     ]
    },
    {
     "data": {
      "text/plain": [
       "'new dataset\\\\carnatic\\\\carnatic102.wav'"
      ]
     },
     "metadata": {},
     "output_type": "display_data"
    },
    {
     "name": "stderr",
     "output_type": "stream",
     "text": [
      "\r",
      "  0%|▏                                                                                | 4/1873 [00:00<05:39,  5.50it/s]"
     ]
    },
    {
     "data": {
      "text/plain": [
       "'new dataset\\\\carnatic\\\\carnatic103.wav'"
      ]
     },
     "metadata": {},
     "output_type": "display_data"
    },
    {
     "name": "stderr",
     "output_type": "stream",
     "text": [
      "\r",
      "  0%|▏                                                                                | 5/1873 [00:00<05:40,  5.49it/s]"
     ]
    },
    {
     "data": {
      "text/plain": [
       "'new dataset\\\\carnatic\\\\carnatic104.wav'"
      ]
     },
     "metadata": {},
     "output_type": "display_data"
    },
    {
     "name": "stderr",
     "output_type": "stream",
     "text": [
      "\r",
      "  0%|▎                                                                                | 6/1873 [00:01<05:58,  5.21it/s]"
     ]
    },
    {
     "data": {
      "text/plain": [
       "'new dataset\\\\carnatic\\\\carnatic105.wav'"
      ]
     },
     "metadata": {},
     "output_type": "display_data"
    },
    {
     "name": "stderr",
     "output_type": "stream",
     "text": [
      "\r",
      "  0%|▎                                                                                | 7/1873 [00:01<05:49,  5.34it/s]"
     ]
    },
    {
     "data": {
      "text/plain": [
       "'new dataset\\\\carnatic\\\\carnatic106.wav'"
      ]
     },
     "metadata": {},
     "output_type": "display_data"
    },
    {
     "name": "stderr",
     "output_type": "stream",
     "text": [
      "\r",
      "  0%|▎                                                                                | 8/1873 [00:01<05:39,  5.49it/s]"
     ]
    },
    {
     "data": {
      "text/plain": [
       "'new dataset\\\\carnatic\\\\carnatic107.wav'"
      ]
     },
     "metadata": {},
     "output_type": "display_data"
    },
    {
     "name": "stderr",
     "output_type": "stream",
     "text": [
      "\r",
      "  0%|▍                                                                                | 9/1873 [00:01<05:45,  5.39it/s]"
     ]
    },
    {
     "data": {
      "text/plain": [
       "'new dataset\\\\carnatic\\\\carnatic108.wav'"
      ]
     },
     "metadata": {},
     "output_type": "display_data"
    },
    {
     "name": "stderr",
     "output_type": "stream",
     "text": [
      "\r",
      "  1%|▍                                                                               | 10/1873 [00:01<05:32,  5.61it/s]"
     ]
    },
    {
     "data": {
      "text/plain": [
       "'new dataset\\\\carnatic\\\\carnatic109.wav'"
      ]
     },
     "metadata": {},
     "output_type": "display_data"
    },
    {
     "name": "stderr",
     "output_type": "stream",
     "text": [
      "\r",
      "  1%|▍                                                                               | 11/1873 [00:01<05:23,  5.76it/s]"
     ]
    },
    {
     "data": {
      "text/plain": [
       "'new dataset\\\\carnatic\\\\carnatic110.wav'"
      ]
     },
     "metadata": {},
     "output_type": "display_data"
    },
    {
     "name": "stderr",
     "output_type": "stream",
     "text": [
      "\r",
      "  1%|▌                                                                               | 12/1873 [00:02<05:22,  5.77it/s]"
     ]
    },
    {
     "data": {
      "text/plain": [
       "'new dataset\\\\carnatic\\\\carnatic111.wav'"
      ]
     },
     "metadata": {},
     "output_type": "display_data"
    },
    {
     "name": "stderr",
     "output_type": "stream",
     "text": [
      "\r",
      "  1%|▌                                                                               | 13/1873 [00:02<05:22,  5.77it/s]"
     ]
    },
    {
     "data": {
      "text/plain": [
       "'new dataset\\\\carnatic\\\\carnatic112.wav'"
      ]
     },
     "metadata": {},
     "output_type": "display_data"
    },
    {
     "name": "stderr",
     "output_type": "stream",
     "text": [
      "\r",
      "  1%|▌                                                                               | 14/1873 [00:02<05:18,  5.84it/s]"
     ]
    },
    {
     "data": {
      "text/plain": [
       "'new dataset\\\\carnatic\\\\carnatic113.wav'"
      ]
     },
     "metadata": {},
     "output_type": "display_data"
    },
    {
     "name": "stderr",
     "output_type": "stream",
     "text": [
      "\r",
      "  1%|▋                                                                               | 15/1873 [00:02<05:11,  5.97it/s]"
     ]
    },
    {
     "data": {
      "text/plain": [
       "'new dataset\\\\carnatic\\\\carnatic114.wav'"
      ]
     },
     "metadata": {},
     "output_type": "display_data"
    },
    {
     "name": "stderr",
     "output_type": "stream",
     "text": [
      "\r",
      "  1%|▋                                                                               | 16/1873 [00:02<05:18,  5.83it/s]"
     ]
    },
    {
     "data": {
      "text/plain": [
       "'new dataset\\\\carnatic\\\\carnatic115.wav'"
      ]
     },
     "metadata": {},
     "output_type": "display_data"
    },
    {
     "name": "stderr",
     "output_type": "stream",
     "text": [
      "\r",
      "  1%|▋                                                                               | 17/1873 [00:03<05:24,  5.72it/s]"
     ]
    },
    {
     "data": {
      "text/plain": [
       "'new dataset\\\\carnatic\\\\carnatic116.wav'"
      ]
     },
     "metadata": {},
     "output_type": "display_data"
    },
    {
     "name": "stderr",
     "output_type": "stream",
     "text": [
      "\r",
      "  1%|▊                                                                               | 18/1873 [00:03<05:30,  5.61it/s]"
     ]
    },
    {
     "data": {
      "text/plain": [
       "'new dataset\\\\carnatic\\\\carnatic117.wav'"
      ]
     },
     "metadata": {},
     "output_type": "display_data"
    },
    {
     "name": "stderr",
     "output_type": "stream",
     "text": [
      "\r",
      "  1%|▊                                                                               | 19/1873 [00:03<05:27,  5.67it/s]"
     ]
    },
    {
     "data": {
      "text/plain": [
       "'new dataset\\\\carnatic\\\\carnatic118.wav'"
      ]
     },
     "metadata": {},
     "output_type": "display_data"
    },
    {
     "name": "stderr",
     "output_type": "stream",
     "text": [
      "\r",
      "  1%|▊                                                                               | 20/1873 [00:03<05:51,  5.27it/s]"
     ]
    },
    {
     "data": {
      "text/plain": [
       "'new dataset\\\\carnatic\\\\carnatic120.wav'"
      ]
     },
     "metadata": {},
     "output_type": "display_data"
    },
    {
     "name": "stderr",
     "output_type": "stream",
     "text": [
      "\r",
      "  1%|▉                                                                               | 21/1873 [00:03<05:47,  5.34it/s]"
     ]
    },
    {
     "data": {
      "text/plain": [
       "'new dataset\\\\carnatic\\\\carnatic121.wav'"
      ]
     },
     "metadata": {},
     "output_type": "display_data"
    },
    {
     "name": "stderr",
     "output_type": "stream",
     "text": [
      "\r",
      "  1%|▉                                                                               | 22/1873 [00:03<05:41,  5.41it/s]"
     ]
    },
    {
     "data": {
      "text/plain": [
       "'new dataset\\\\carnatic\\\\carnatic122.wav'"
      ]
     },
     "metadata": {},
     "output_type": "display_data"
    },
    {
     "name": "stderr",
     "output_type": "stream",
     "text": [
      "\r",
      "  1%|▉                                                                               | 23/1873 [00:04<05:40,  5.44it/s]"
     ]
    },
    {
     "data": {
      "text/plain": [
       "'new dataset\\\\carnatic\\\\carnatic123.wav'"
      ]
     },
     "metadata": {},
     "output_type": "display_data"
    },
    {
     "name": "stderr",
     "output_type": "stream",
     "text": [
      "\r",
      "  1%|█                                                                               | 24/1873 [00:04<05:44,  5.37it/s]"
     ]
    },
    {
     "data": {
      "text/plain": [
       "'new dataset\\\\carnatic\\\\carnatic124.wav'"
      ]
     },
     "metadata": {},
     "output_type": "display_data"
    },
    {
     "name": "stderr",
     "output_type": "stream",
     "text": [
      "\r",
      "  1%|█                                                                               | 25/1873 [00:04<05:31,  5.57it/s]"
     ]
    },
    {
     "data": {
      "text/plain": [
       "'new dataset\\\\carnatic\\\\carnatic125.wav'"
      ]
     },
     "metadata": {},
     "output_type": "display_data"
    },
    {
     "name": "stderr",
     "output_type": "stream",
     "text": [
      "\r",
      "  1%|█                                                                               | 26/1873 [00:04<05:28,  5.63it/s]"
     ]
    },
    {
     "data": {
      "text/plain": [
       "'new dataset\\\\carnatic\\\\carnatic126.wav'"
      ]
     },
     "metadata": {},
     "output_type": "display_data"
    },
    {
     "name": "stderr",
     "output_type": "stream",
     "text": [
      "\r",
      "  1%|█▏                                                                              | 27/1873 [00:04<05:28,  5.61it/s]"
     ]
    },
    {
     "data": {
      "text/plain": [
       "'new dataset\\\\carnatic\\\\carnatic127.wav'"
      ]
     },
     "metadata": {},
     "output_type": "display_data"
    },
    {
     "name": "stderr",
     "output_type": "stream",
     "text": [
      "\r",
      "  1%|█▏                                                                              | 28/1873 [00:05<05:34,  5.51it/s]"
     ]
    },
    {
     "data": {
      "text/plain": [
       "'new dataset\\\\carnatic\\\\carnatic128.wav'"
      ]
     },
     "metadata": {},
     "output_type": "display_data"
    },
    {
     "name": "stderr",
     "output_type": "stream",
     "text": [
      "\r",
      "  2%|█▏                                                                              | 29/1873 [00:05<05:26,  5.65it/s]"
     ]
    },
    {
     "data": {
      "text/plain": [
       "'new dataset\\\\carnatic\\\\carnatic129.wav'"
      ]
     },
     "metadata": {},
     "output_type": "display_data"
    },
    {
     "name": "stderr",
     "output_type": "stream",
     "text": [
      "\r",
      "  2%|█▎                                                                              | 30/1873 [00:05<05:26,  5.64it/s]"
     ]
    },
    {
     "data": {
      "text/plain": [
       "'new dataset\\\\carnatic\\\\carnatic137.wav'"
      ]
     },
     "metadata": {},
     "output_type": "display_data"
    },
    {
     "name": "stderr",
     "output_type": "stream",
     "text": [
      "\r",
      "  2%|█▎                                                                              | 31/1873 [00:05<05:24,  5.67it/s]"
     ]
    },
    {
     "data": {
      "text/plain": [
       "'new dataset\\\\carnatic\\\\carnatic138.wav'"
      ]
     },
     "metadata": {},
     "output_type": "display_data"
    },
    {
     "name": "stderr",
     "output_type": "stream",
     "text": [
      "\r",
      "  2%|█▎                                                                              | 32/1873 [00:05<05:20,  5.74it/s]"
     ]
    },
    {
     "data": {
      "text/plain": [
       "'new dataset\\\\carnatic\\\\carnatic148.wav'"
      ]
     },
     "metadata": {},
     "output_type": "display_data"
    },
    {
     "name": "stderr",
     "output_type": "stream",
     "text": [
      "\r",
      "  2%|█▍                                                                              | 33/1873 [00:05<05:17,  5.79it/s]"
     ]
    },
    {
     "data": {
      "text/plain": [
       "'new dataset\\\\carnatic\\\\carnatic149.wav'"
      ]
     },
     "metadata": {},
     "output_type": "display_data"
    },
    {
     "name": "stderr",
     "output_type": "stream",
     "text": [
      "\r",
      "  2%|█▍                                                                              | 34/1873 [00:06<05:18,  5.78it/s]"
     ]
    },
    {
     "data": {
      "text/plain": [
       "'new dataset\\\\carnatic\\\\carnatic150.wav'"
      ]
     },
     "metadata": {},
     "output_type": "display_data"
    },
    {
     "name": "stderr",
     "output_type": "stream",
     "text": [
      "\r",
      "  2%|█▍                                                                              | 35/1873 [00:06<05:19,  5.75it/s]"
     ]
    },
    {
     "data": {
      "text/plain": [
       "'new dataset\\\\carnatic\\\\carnatic151.wav'"
      ]
     },
     "metadata": {},
     "output_type": "display_data"
    },
    {
     "name": "stderr",
     "output_type": "stream",
     "text": [
      "\r",
      "  2%|█▌                                                                              | 36/1873 [00:06<05:19,  5.75it/s]"
     ]
    },
    {
     "data": {
      "text/plain": [
       "'new dataset\\\\carnatic\\\\carnatic152.wav'"
      ]
     },
     "metadata": {},
     "output_type": "display_data"
    },
    {
     "name": "stderr",
     "output_type": "stream",
     "text": [
      "\r",
      "  2%|█▌                                                                              | 37/1873 [00:06<05:13,  5.85it/s]"
     ]
    },
    {
     "data": {
      "text/plain": [
       "'new dataset\\\\carnatic\\\\carnatic153.wav'"
      ]
     },
     "metadata": {},
     "output_type": "display_data"
    },
    {
     "name": "stderr",
     "output_type": "stream",
     "text": [
      "\r",
      "  2%|█▌                                                                              | 38/1873 [00:06<05:08,  5.94it/s]"
     ]
    },
    {
     "data": {
      "text/plain": [
       "'new dataset\\\\carnatic\\\\carnatic154.wav'"
      ]
     },
     "metadata": {},
     "output_type": "display_data"
    },
    {
     "name": "stderr",
     "output_type": "stream",
     "text": [
      "\r",
      "  2%|█▋                                                                              | 39/1873 [00:06<05:18,  5.75it/s]"
     ]
    },
    {
     "data": {
      "text/plain": [
       "'new dataset\\\\carnatic\\\\carnatic155.wav'"
      ]
     },
     "metadata": {},
     "output_type": "display_data"
    },
    {
     "name": "stderr",
     "output_type": "stream",
     "text": [
      "\r",
      "  2%|█▋                                                                              | 40/1873 [00:07<05:14,  5.83it/s]"
     ]
    },
    {
     "data": {
      "text/plain": [
       "'new dataset\\\\carnatic\\\\carnatic156.wav'"
      ]
     },
     "metadata": {},
     "output_type": "display_data"
    },
    {
     "name": "stderr",
     "output_type": "stream",
     "text": [
      "\r",
      "  2%|█▊                                                                              | 41/1873 [00:07<05:12,  5.86it/s]"
     ]
    },
    {
     "data": {
      "text/plain": [
       "'new dataset\\\\carnatic\\\\carnatic157.wav'"
      ]
     },
     "metadata": {},
     "output_type": "display_data"
    },
    {
     "name": "stderr",
     "output_type": "stream",
     "text": [
      "\r",
      "  2%|█▊                                                                              | 42/1873 [00:07<05:12,  5.86it/s]"
     ]
    },
    {
     "data": {
      "text/plain": [
       "'new dataset\\\\carnatic\\\\carnatic158.wav'"
      ]
     },
     "metadata": {},
     "output_type": "display_data"
    },
    {
     "name": "stderr",
     "output_type": "stream",
     "text": [
      "\r",
      "  2%|█▊                                                                              | 43/1873 [00:07<05:16,  5.78it/s]"
     ]
    },
    {
     "data": {
      "text/plain": [
       "'new dataset\\\\carnatic\\\\carnatic159.wav'"
      ]
     },
     "metadata": {},
     "output_type": "display_data"
    },
    {
     "name": "stderr",
     "output_type": "stream",
     "text": [
      "\r",
      "  2%|█▉                                                                              | 44/1873 [00:07<05:11,  5.87it/s]"
     ]
    },
    {
     "data": {
      "text/plain": [
       "'new dataset\\\\carnatic\\\\carnatic160.wav'"
      ]
     },
     "metadata": {},
     "output_type": "display_data"
    },
    {
     "name": "stderr",
     "output_type": "stream",
     "text": [
      "\r",
      "  2%|█▉                                                                              | 45/1873 [00:07<05:35,  5.45it/s]"
     ]
    },
    {
     "data": {
      "text/plain": [
       "'new dataset\\\\carnatic\\\\carnatic161.wav'"
      ]
     },
     "metadata": {},
     "output_type": "display_data"
    },
    {
     "name": "stderr",
     "output_type": "stream",
     "text": [
      "\r",
      "  2%|█▉                                                                              | 46/1873 [00:08<05:48,  5.24it/s]"
     ]
    },
    {
     "data": {
      "text/plain": [
       "'new dataset\\\\carnatic\\\\carnatic162.wav'"
      ]
     },
     "metadata": {},
     "output_type": "display_data"
    },
    {
     "name": "stderr",
     "output_type": "stream",
     "text": [
      "\r",
      "  3%|██                                                                              | 47/1873 [00:08<05:40,  5.36it/s]"
     ]
    },
    {
     "data": {
      "text/plain": [
       "'new dataset\\\\carnatic\\\\carnatic163.wav'"
      ]
     },
     "metadata": {},
     "output_type": "display_data"
    },
    {
     "name": "stderr",
     "output_type": "stream",
     "text": [
      "\r",
      "  3%|██                                                                              | 48/1873 [00:08<05:37,  5.41it/s]"
     ]
    },
    {
     "data": {
      "text/plain": [
       "'new dataset\\\\carnatic\\\\carnatic164.wav'"
      ]
     },
     "metadata": {},
     "output_type": "display_data"
    },
    {
     "name": "stderr",
     "output_type": "stream",
     "text": [
      "\r",
      "  3%|██                                                                              | 49/1873 [00:08<05:26,  5.58it/s]"
     ]
    },
    {
     "data": {
      "text/plain": [
       "'new dataset\\\\carnatic\\\\carnatic165.wav'"
      ]
     },
     "metadata": {},
     "output_type": "display_data"
    },
    {
     "name": "stderr",
     "output_type": "stream",
     "text": [
      "\r",
      "  3%|██▏                                                                             | 50/1873 [00:08<05:30,  5.51it/s]"
     ]
    },
    {
     "data": {
      "text/plain": [
       "'new dataset\\\\carnatic\\\\carnatic166.wav'"
      ]
     },
     "metadata": {},
     "output_type": "display_data"
    },
    {
     "name": "stderr",
     "output_type": "stream",
     "text": [
      "\r",
      "  3%|██▏                                                                             | 51/1873 [00:09<05:32,  5.48it/s]"
     ]
    },
    {
     "data": {
      "text/plain": [
       "'new dataset\\\\carnatic\\\\carnatic167.wav'"
      ]
     },
     "metadata": {},
     "output_type": "display_data"
    },
    {
     "name": "stderr",
     "output_type": "stream",
     "text": [
      "\r",
      "  3%|██▏                                                                             | 52/1873 [00:09<05:28,  5.54it/s]"
     ]
    },
    {
     "data": {
      "text/plain": [
       "'new dataset\\\\carnatic\\\\carnatic168.wav'"
      ]
     },
     "metadata": {},
     "output_type": "display_data"
    },
    {
     "name": "stderr",
     "output_type": "stream",
     "text": [
      "\r",
      "  3%|██▎                                                                             | 53/1873 [00:09<05:44,  5.29it/s]"
     ]
    },
    {
     "data": {
      "text/plain": [
       "'new dataset\\\\carnatic\\\\carnatic169.wav'"
      ]
     },
     "metadata": {},
     "output_type": "display_data"
    },
    {
     "name": "stderr",
     "output_type": "stream",
     "text": [
      "\r",
      "  3%|██▎                                                                             | 54/1873 [00:09<05:26,  5.58it/s]"
     ]
    },
    {
     "data": {
      "text/plain": [
       "'new dataset\\\\carnatic\\\\carnatic170.wav'"
      ]
     },
     "metadata": {},
     "output_type": "display_data"
    },
    {
     "name": "stderr",
     "output_type": "stream",
     "text": [
      "\r",
      "  3%|██▎                                                                             | 55/1873 [00:09<05:14,  5.77it/s]"
     ]
    },
    {
     "data": {
      "text/plain": [
       "'new dataset\\\\carnatic\\\\carnatic171.wav'"
      ]
     },
     "metadata": {},
     "output_type": "display_data"
    },
    {
     "name": "stderr",
     "output_type": "stream",
     "text": [
      "\r",
      "  3%|██▍                                                                             | 56/1873 [00:09<05:09,  5.87it/s]"
     ]
    },
    {
     "data": {
      "text/plain": [
       "'new dataset\\\\carnatic\\\\carnatic172.wav'"
      ]
     },
     "metadata": {},
     "output_type": "display_data"
    },
    {
     "name": "stderr",
     "output_type": "stream",
     "text": [
      "\r",
      "  3%|██▍                                                                             | 57/1873 [00:10<05:08,  5.88it/s]"
     ]
    },
    {
     "data": {
      "text/plain": [
       "'new dataset\\\\carnatic\\\\carnatic173.wav'"
      ]
     },
     "metadata": {},
     "output_type": "display_data"
    },
    {
     "name": "stderr",
     "output_type": "stream",
     "text": [
      "\r",
      "  3%|██▍                                                                             | 58/1873 [00:10<05:14,  5.77it/s]"
     ]
    },
    {
     "data": {
      "text/plain": [
       "'new dataset\\\\carnatic\\\\carnatic174.wav'"
      ]
     },
     "metadata": {},
     "output_type": "display_data"
    },
    {
     "name": "stderr",
     "output_type": "stream",
     "text": [
      "\r",
      "  3%|██▌                                                                             | 59/1873 [00:10<05:23,  5.60it/s]"
     ]
    },
    {
     "data": {
      "text/plain": [
       "'new dataset\\\\carnatic\\\\carnatic175.wav'"
      ]
     },
     "metadata": {},
     "output_type": "display_data"
    },
    {
     "name": "stderr",
     "output_type": "stream",
     "text": [
      "\r",
      "  3%|██▌                                                                             | 60/1873 [00:10<05:09,  5.85it/s]"
     ]
    },
    {
     "data": {
      "text/plain": [
       "'new dataset\\\\carnatic\\\\carnatic176.wav'"
      ]
     },
     "metadata": {},
     "output_type": "display_data"
    },
    {
     "name": "stderr",
     "output_type": "stream",
     "text": [
      "\r",
      "  3%|██▌                                                                             | 61/1873 [00:10<05:13,  5.78it/s]"
     ]
    },
    {
     "data": {
      "text/plain": [
       "'new dataset\\\\carnatic\\\\carnatic177.wav'"
      ]
     },
     "metadata": {},
     "output_type": "display_data"
    },
    {
     "name": "stderr",
     "output_type": "stream",
     "text": [
      "\r",
      "  3%|██▋                                                                             | 62/1873 [00:10<05:02,  5.98it/s]"
     ]
    },
    {
     "data": {
      "text/plain": [
       "'new dataset\\\\carnatic\\\\carnatic178.wav'"
      ]
     },
     "metadata": {},
     "output_type": "display_data"
    },
    {
     "name": "stderr",
     "output_type": "stream",
     "text": [
      "\r",
      "  3%|██▋                                                                             | 63/1873 [00:11<05:01,  6.01it/s]"
     ]
    },
    {
     "data": {
      "text/plain": [
       "'new dataset\\\\carnatic\\\\carnatic179.wav'"
      ]
     },
     "metadata": {},
     "output_type": "display_data"
    },
    {
     "name": "stderr",
     "output_type": "stream",
     "text": [
      "\r",
      "  3%|██▋                                                                             | 64/1873 [00:11<04:59,  6.03it/s]"
     ]
    },
    {
     "data": {
      "text/plain": [
       "'new dataset\\\\carnatic\\\\carnatic180.wav'"
      ]
     },
     "metadata": {},
     "output_type": "display_data"
    },
    {
     "name": "stderr",
     "output_type": "stream",
     "text": [
      "\r",
      "  3%|██▊                                                                             | 65/1873 [00:11<05:07,  5.89it/s]"
     ]
    },
    {
     "data": {
      "text/plain": [
       "'new dataset\\\\carnatic\\\\carnatic198.wav'"
      ]
     },
     "metadata": {},
     "output_type": "display_data"
    },
    {
     "name": "stderr",
     "output_type": "stream",
     "text": [
      "\r",
      "  4%|██▊                                                                             | 66/1873 [00:11<05:16,  5.70it/s]"
     ]
    },
    {
     "data": {
      "text/plain": [
       "'new dataset\\\\carnatic\\\\carnatic199.wav'"
      ]
     },
     "metadata": {},
     "output_type": "display_data"
    },
    {
     "name": "stderr",
     "output_type": "stream",
     "text": [
      "\r",
      "  4%|██▊                                                                             | 67/1873 [00:11<05:37,  5.34it/s]"
     ]
    },
    {
     "data": {
      "text/plain": [
       "'new dataset\\\\carnatic\\\\carnatic200.wav'"
      ]
     },
     "metadata": {},
     "output_type": "display_data"
    },
    {
     "name": "stderr",
     "output_type": "stream",
     "text": [
      "\r",
      "  4%|██▉                                                                             | 68/1873 [00:12<05:33,  5.42it/s]"
     ]
    },
    {
     "data": {
      "text/plain": [
       "'new dataset\\\\carnatic\\\\carnatic201.wav'"
      ]
     },
     "metadata": {},
     "output_type": "display_data"
    },
    {
     "name": "stderr",
     "output_type": "stream",
     "text": [
      "\r",
      "  4%|██▉                                                                             | 69/1873 [00:12<05:25,  5.55it/s]"
     ]
    },
    {
     "data": {
      "text/plain": [
       "'new dataset\\\\carnatic\\\\carnatic202.wav'"
      ]
     },
     "metadata": {},
     "output_type": "display_data"
    },
    {
     "name": "stderr",
     "output_type": "stream",
     "text": [
      "\r",
      "  4%|██▉                                                                             | 70/1873 [00:12<05:35,  5.37it/s]"
     ]
    },
    {
     "data": {
      "text/plain": [
       "'new dataset\\\\carnatic\\\\carnatic203.wav'"
      ]
     },
     "metadata": {},
     "output_type": "display_data"
    },
    {
     "name": "stderr",
     "output_type": "stream",
     "text": [
      "\r",
      "  4%|███                                                                             | 71/1873 [00:12<05:21,  5.61it/s]"
     ]
    },
    {
     "data": {
      "text/plain": [
       "'new dataset\\\\carnatic\\\\carnatic204.wav'"
      ]
     },
     "metadata": {},
     "output_type": "display_data"
    },
    {
     "name": "stderr",
     "output_type": "stream",
     "text": [
      "\r",
      "  4%|███                                                                             | 72/1873 [00:12<05:22,  5.58it/s]"
     ]
    },
    {
     "data": {
      "text/plain": [
       "'new dataset\\\\carnatic\\\\carnatic205.wav'"
      ]
     },
     "metadata": {},
     "output_type": "display_data"
    },
    {
     "name": "stderr",
     "output_type": "stream",
     "text": [
      "\r",
      "  4%|███                                                                             | 73/1873 [00:12<05:21,  5.59it/s]"
     ]
    },
    {
     "data": {
      "text/plain": [
       "'new dataset\\\\carnatic\\\\carnatic206.wav'"
      ]
     },
     "metadata": {},
     "output_type": "display_data"
    },
    {
     "name": "stderr",
     "output_type": "stream",
     "text": [
      "\r",
      "  4%|███▏                                                                            | 74/1873 [00:13<05:24,  5.54it/s]"
     ]
    },
    {
     "data": {
      "text/plain": [
       "'new dataset\\\\carnatic\\\\carnatic207.wav'"
      ]
     },
     "metadata": {},
     "output_type": "display_data"
    },
    {
     "name": "stderr",
     "output_type": "stream",
     "text": [
      "\r",
      "  4%|███▏                                                                            | 75/1873 [00:13<05:11,  5.77it/s]"
     ]
    },
    {
     "data": {
      "text/plain": [
       "'new dataset\\\\carnatic\\\\carnatic208.wav'"
      ]
     },
     "metadata": {},
     "output_type": "display_data"
    },
    {
     "name": "stderr",
     "output_type": "stream",
     "text": [
      "\r",
      "  4%|███▏                                                                            | 76/1873 [00:13<05:07,  5.84it/s]"
     ]
    },
    {
     "data": {
      "text/plain": [
       "'new dataset\\\\carnatic\\\\carnatic209.wav'"
      ]
     },
     "metadata": {},
     "output_type": "display_data"
    },
    {
     "name": "stderr",
     "output_type": "stream",
     "text": [
      "\r",
      "  4%|███▎                                                                            | 77/1873 [00:13<05:08,  5.83it/s]"
     ]
    },
    {
     "data": {
      "text/plain": [
       "'new dataset\\\\carnatic\\\\carnatic210.wav'"
      ]
     },
     "metadata": {},
     "output_type": "display_data"
    },
    {
     "name": "stderr",
     "output_type": "stream",
     "text": [
      "\r",
      "  4%|███▎                                                                            | 78/1873 [00:13<05:32,  5.40it/s]"
     ]
    },
    {
     "data": {
      "text/plain": [
       "'new dataset\\\\carnatic\\\\carnatic211.wav'"
      ]
     },
     "metadata": {},
     "output_type": "display_data"
    },
    {
     "name": "stderr",
     "output_type": "stream",
     "text": [
      "\r",
      "  4%|███▎                                                                            | 79/1873 [00:14<05:35,  5.34it/s]"
     ]
    },
    {
     "data": {
      "text/plain": [
       "'new dataset\\\\carnatic\\\\carnatic212.wav'"
      ]
     },
     "metadata": {},
     "output_type": "display_data"
    },
    {
     "name": "stderr",
     "output_type": "stream",
     "text": [
      "\r",
      "  4%|███▍                                                                            | 80/1873 [00:14<05:21,  5.58it/s]"
     ]
    },
    {
     "data": {
      "text/plain": [
       "'new dataset\\\\carnatic\\\\carnatic213.wav'"
      ]
     },
     "metadata": {},
     "output_type": "display_data"
    },
    {
     "name": "stderr",
     "output_type": "stream",
     "text": [
      "\r",
      "  4%|███▍                                                                            | 81/1873 [00:14<05:27,  5.46it/s]"
     ]
    },
    {
     "data": {
      "text/plain": [
       "'new dataset\\\\carnatic\\\\carnatic214.wav'"
      ]
     },
     "metadata": {},
     "output_type": "display_data"
    },
    {
     "name": "stderr",
     "output_type": "stream",
     "text": [
      "\r",
      "  4%|███▌                                                                            | 82/1873 [00:14<05:47,  5.15it/s]"
     ]
    },
    {
     "data": {
      "text/plain": [
       "'new dataset\\\\carnatic\\\\carnatic215.wav'"
      ]
     },
     "metadata": {},
     "output_type": "display_data"
    },
    {
     "name": "stderr",
     "output_type": "stream",
     "text": [
      "\r",
      "  4%|███▌                                                                            | 83/1873 [00:14<05:56,  5.03it/s]"
     ]
    },
    {
     "data": {
      "text/plain": [
       "'new dataset\\\\carnatic\\\\carnatic216.wav'"
      ]
     },
     "metadata": {},
     "output_type": "display_data"
    },
    {
     "name": "stderr",
     "output_type": "stream",
     "text": [
      "\r",
      "  4%|███▌                                                                            | 84/1873 [00:15<05:45,  5.19it/s]"
     ]
    },
    {
     "data": {
      "text/plain": [
       "'new dataset\\\\carnatic\\\\carnatic217.wav'"
      ]
     },
     "metadata": {},
     "output_type": "display_data"
    },
    {
     "name": "stderr",
     "output_type": "stream",
     "text": [
      "\r",
      "  5%|███▋                                                                            | 85/1873 [00:15<05:35,  5.33it/s]"
     ]
    },
    {
     "data": {
      "text/plain": [
       "'new dataset\\\\carnatic\\\\carnatic218.wav'"
      ]
     },
     "metadata": {},
     "output_type": "display_data"
    },
    {
     "name": "stderr",
     "output_type": "stream",
     "text": [
      "\r",
      "  5%|███▋                                                                            | 86/1873 [00:15<05:29,  5.42it/s]"
     ]
    },
    {
     "data": {
      "text/plain": [
       "'new dataset\\\\carnatic\\\\carnatic219.wav'"
      ]
     },
     "metadata": {},
     "output_type": "display_data"
    },
    {
     "name": "stderr",
     "output_type": "stream",
     "text": [
      "\r",
      "  5%|███▋                                                                            | 87/1873 [00:15<05:18,  5.61it/s]"
     ]
    },
    {
     "data": {
      "text/plain": [
       "'new dataset\\\\carnatic\\\\carnatic22.wav'"
      ]
     },
     "metadata": {},
     "output_type": "display_data"
    },
    {
     "name": "stderr",
     "output_type": "stream",
     "text": [
      "\r",
      "  5%|███▊                                                                            | 88/1873 [00:15<05:10,  5.75it/s]"
     ]
    },
    {
     "data": {
      "text/plain": [
       "'new dataset\\\\carnatic\\\\carnatic220.wav'"
      ]
     },
     "metadata": {},
     "output_type": "display_data"
    },
    {
     "name": "stderr",
     "output_type": "stream",
     "text": [
      "\r",
      "  5%|███▊                                                                            | 89/1873 [00:15<05:22,  5.54it/s]"
     ]
    },
    {
     "data": {
      "text/plain": [
       "'new dataset\\\\carnatic\\\\carnatic221.wav'"
      ]
     },
     "metadata": {},
     "output_type": "display_data"
    },
    {
     "name": "stderr",
     "output_type": "stream",
     "text": [
      "\r",
      "  5%|███▊                                                                            | 90/1873 [00:16<05:18,  5.59it/s]"
     ]
    },
    {
     "data": {
      "text/plain": [
       "'new dataset\\\\carnatic\\\\carnatic222.wav'"
      ]
     },
     "metadata": {},
     "output_type": "display_data"
    },
    {
     "name": "stderr",
     "output_type": "stream",
     "text": [
      "\r",
      "  5%|███▉                                                                            | 91/1873 [00:16<05:08,  5.77it/s]"
     ]
    },
    {
     "data": {
      "text/plain": [
       "'new dataset\\\\carnatic\\\\carnatic223.wav'"
      ]
     },
     "metadata": {},
     "output_type": "display_data"
    },
    {
     "name": "stderr",
     "output_type": "stream",
     "text": [
      "\r",
      "  5%|███▉                                                                            | 92/1873 [00:16<05:07,  5.78it/s]"
     ]
    },
    {
     "data": {
      "text/plain": [
       "'new dataset\\\\carnatic\\\\carnatic224.wav'"
      ]
     },
     "metadata": {},
     "output_type": "display_data"
    },
    {
     "name": "stderr",
     "output_type": "stream",
     "text": [
      "\r",
      "  5%|███▉                                                                            | 93/1873 [00:16<05:12,  5.69it/s]"
     ]
    },
    {
     "data": {
      "text/plain": [
       "'new dataset\\\\carnatic\\\\carnatic225.wav'"
      ]
     },
     "metadata": {},
     "output_type": "display_data"
    },
    {
     "name": "stderr",
     "output_type": "stream",
     "text": [
      "\r",
      "  5%|████                                                                            | 94/1873 [00:16<05:19,  5.57it/s]"
     ]
    },
    {
     "data": {
      "text/plain": [
       "'new dataset\\\\carnatic\\\\carnatic226.wav'"
      ]
     },
     "metadata": {},
     "output_type": "display_data"
    },
    {
     "name": "stderr",
     "output_type": "stream",
     "text": [
      "\r",
      "  5%|████                                                                            | 95/1873 [00:16<05:08,  5.77it/s]"
     ]
    },
    {
     "data": {
      "text/plain": [
       "'new dataset\\\\carnatic\\\\carnatic227.wav'"
      ]
     },
     "metadata": {},
     "output_type": "display_data"
    },
    {
     "name": "stderr",
     "output_type": "stream",
     "text": [
      "\r",
      "  5%|████                                                                            | 96/1873 [00:17<05:10,  5.71it/s]"
     ]
    },
    {
     "data": {
      "text/plain": [
       "'new dataset\\\\carnatic\\\\carnatic228.wav'"
      ]
     },
     "metadata": {},
     "output_type": "display_data"
    },
    {
     "name": "stderr",
     "output_type": "stream",
     "text": [
      "\r",
      "  5%|████▏                                                                           | 97/1873 [00:17<05:05,  5.81it/s]"
     ]
    },
    {
     "data": {
      "text/plain": [
       "'new dataset\\\\carnatic\\\\carnatic229.wav'"
      ]
     },
     "metadata": {},
     "output_type": "display_data"
    },
    {
     "name": "stderr",
     "output_type": "stream",
     "text": [
      "\r",
      "  5%|████▏                                                                           | 98/1873 [00:17<04:59,  5.92it/s]"
     ]
    },
    {
     "data": {
      "text/plain": [
       "'new dataset\\\\carnatic\\\\carnatic23.wav'"
      ]
     },
     "metadata": {},
     "output_type": "display_data"
    },
    {
     "name": "stderr",
     "output_type": "stream",
     "text": [
      "\r",
      "  5%|████▏                                                                           | 99/1873 [00:17<07:32,  3.92it/s]"
     ]
    },
    {
     "data": {
      "text/plain": [
       "'new dataset\\\\carnatic\\\\carnatic230.wav'"
      ]
     },
     "metadata": {},
     "output_type": "display_data"
    },
    {
     "name": "stderr",
     "output_type": "stream",
     "text": [
      "\r",
      "  5%|████▏                                                                          | 100/1873 [00:18<07:34,  3.90it/s]"
     ]
    },
    {
     "data": {
      "text/plain": [
       "'new dataset\\\\carnatic\\\\carnatic231.wav'"
      ]
     },
     "metadata": {},
     "output_type": "display_data"
    },
    {
     "name": "stderr",
     "output_type": "stream",
     "text": [
      "\r",
      "  5%|████▎                                                                          | 101/1873 [00:18<07:57,  3.71it/s]"
     ]
    },
    {
     "data": {
      "text/plain": [
       "'new dataset\\\\carnatic\\\\carnatic232.wav'"
      ]
     },
     "metadata": {},
     "output_type": "display_data"
    },
    {
     "name": "stderr",
     "output_type": "stream",
     "text": [
      "\r",
      "  5%|████▎                                                                          | 102/1873 [00:18<07:36,  3.88it/s]"
     ]
    },
    {
     "data": {
      "text/plain": [
       "'new dataset\\\\carnatic\\\\carnatic233.wav'"
      ]
     },
     "metadata": {},
     "output_type": "display_data"
    },
    {
     "name": "stderr",
     "output_type": "stream",
     "text": [
      "\r",
      "  5%|████▎                                                                          | 103/1873 [00:18<07:25,  3.98it/s]"
     ]
    },
    {
     "data": {
      "text/plain": [
       "'new dataset\\\\carnatic\\\\carnatic234.wav'"
      ]
     },
     "metadata": {},
     "output_type": "display_data"
    },
    {
     "name": "stderr",
     "output_type": "stream",
     "text": [
      "\r",
      "  6%|████▍                                                                          | 104/1873 [00:19<07:20,  4.02it/s]"
     ]
    },
    {
     "data": {
      "text/plain": [
       "'new dataset\\\\carnatic\\\\carnatic235.wav'"
      ]
     },
     "metadata": {},
     "output_type": "display_data"
    },
    {
     "name": "stderr",
     "output_type": "stream",
     "text": [
      "\r",
      "  6%|████▍                                                                          | 105/1873 [00:19<07:22,  3.99it/s]"
     ]
    },
    {
     "data": {
      "text/plain": [
       "'new dataset\\\\carnatic\\\\carnatic236.wav'"
      ]
     },
     "metadata": {},
     "output_type": "display_data"
    },
    {
     "name": "stderr",
     "output_type": "stream",
     "text": [
      "\r",
      "  6%|████▍                                                                          | 106/1873 [00:19<07:21,  4.00it/s]"
     ]
    },
    {
     "data": {
      "text/plain": [
       "'new dataset\\\\carnatic\\\\carnatic237.wav'"
      ]
     },
     "metadata": {},
     "output_type": "display_data"
    },
    {
     "name": "stderr",
     "output_type": "stream",
     "text": [
      "\r",
      "  6%|████▌                                                                          | 107/1873 [00:19<07:16,  4.05it/s]"
     ]
    },
    {
     "data": {
      "text/plain": [
       "'new dataset\\\\carnatic\\\\carnatic24.wav'"
      ]
     },
     "metadata": {},
     "output_type": "display_data"
    },
    {
     "name": "stderr",
     "output_type": "stream",
     "text": [
      "\r",
      "  6%|████▌                                                                          | 108/1873 [00:20<07:13,  4.07it/s]"
     ]
    },
    {
     "data": {
      "text/plain": [
       "'new dataset\\\\carnatic\\\\carnatic240.wav'"
      ]
     },
     "metadata": {},
     "output_type": "display_data"
    },
    {
     "name": "stderr",
     "output_type": "stream",
     "text": [
      "\r",
      "  6%|████▌                                                                          | 109/1873 [00:20<07:18,  4.02it/s]"
     ]
    },
    {
     "data": {
      "text/plain": [
       "'new dataset\\\\carnatic\\\\carnatic241.wav'"
      ]
     },
     "metadata": {},
     "output_type": "display_data"
    },
    {
     "name": "stderr",
     "output_type": "stream",
     "text": [
      "\r",
      "  6%|████▋                                                                          | 110/1873 [00:20<07:16,  4.04it/s]"
     ]
    },
    {
     "data": {
      "text/plain": [
       "'new dataset\\\\carnatic\\\\carnatic242.wav'"
      ]
     },
     "metadata": {},
     "output_type": "display_data"
    },
    {
     "name": "stderr",
     "output_type": "stream",
     "text": [
      "\r",
      "  6%|████▋                                                                          | 111/1873 [00:20<07:11,  4.08it/s]"
     ]
    },
    {
     "data": {
      "text/plain": [
       "'new dataset\\\\carnatic\\\\carnatic243.wav'"
      ]
     },
     "metadata": {},
     "output_type": "display_data"
    },
    {
     "name": "stderr",
     "output_type": "stream",
     "text": [
      "\r",
      "  6%|████▋                                                                          | 112/1873 [00:21<07:03,  4.15it/s]"
     ]
    },
    {
     "data": {
      "text/plain": [
       "'new dataset\\\\carnatic\\\\carnatic244.wav'"
      ]
     },
     "metadata": {},
     "output_type": "display_data"
    },
    {
     "name": "stderr",
     "output_type": "stream",
     "text": [
      "\r",
      "  6%|████▊                                                                          | 113/1873 [00:21<07:03,  4.15it/s]"
     ]
    },
    {
     "data": {
      "text/plain": [
       "'new dataset\\\\carnatic\\\\carnatic25.wav'"
      ]
     },
     "metadata": {},
     "output_type": "display_data"
    },
    {
     "name": "stderr",
     "output_type": "stream",
     "text": [
      "\r",
      "  6%|████▊                                                                          | 114/1873 [00:21<07:12,  4.06it/s]"
     ]
    },
    {
     "data": {
      "text/plain": [
       "'new dataset\\\\carnatic\\\\carnatic251.wav'"
      ]
     },
     "metadata": {},
     "output_type": "display_data"
    },
    {
     "name": "stderr",
     "output_type": "stream",
     "text": [
      "\r",
      "  6%|████▊                                                                          | 115/1873 [00:21<07:07,  4.12it/s]"
     ]
    },
    {
     "data": {
      "text/plain": [
       "'new dataset\\\\carnatic\\\\carnatic252.wav'"
      ]
     },
     "metadata": {},
     "output_type": "display_data"
    },
    {
     "name": "stderr",
     "output_type": "stream",
     "text": [
      "\r",
      "  6%|████▉                                                                          | 116/1873 [00:22<06:59,  4.19it/s]"
     ]
    },
    {
     "data": {
      "text/plain": [
       "'new dataset\\\\carnatic\\\\carnatic253.wav'"
      ]
     },
     "metadata": {},
     "output_type": "display_data"
    },
    {
     "name": "stderr",
     "output_type": "stream",
     "text": [
      "\r",
      "  6%|████▉                                                                          | 117/1873 [00:22<07:04,  4.14it/s]"
     ]
    },
    {
     "data": {
      "text/plain": [
       "'new dataset\\\\carnatic\\\\carnatic254.wav'"
      ]
     },
     "metadata": {},
     "output_type": "display_data"
    },
    {
     "name": "stderr",
     "output_type": "stream",
     "text": [
      "\r",
      "  6%|████▉                                                                          | 118/1873 [00:22<07:02,  4.16it/s]"
     ]
    },
    {
     "data": {
      "text/plain": [
       "'new dataset\\\\carnatic\\\\carnatic255.wav'"
      ]
     },
     "metadata": {},
     "output_type": "display_data"
    },
    {
     "name": "stderr",
     "output_type": "stream",
     "text": [
      "\r",
      "  6%|█████                                                                          | 119/1873 [00:22<06:58,  4.19it/s]"
     ]
    },
    {
     "data": {
      "text/plain": [
       "'new dataset\\\\carnatic\\\\carnatic256.wav'"
      ]
     },
     "metadata": {},
     "output_type": "display_data"
    },
    {
     "name": "stderr",
     "output_type": "stream",
     "text": [
      "\r",
      "  6%|█████                                                                          | 120/1873 [00:23<06:53,  4.24it/s]"
     ]
    },
    {
     "data": {
      "text/plain": [
       "'new dataset\\\\carnatic\\\\carnatic257.wav'"
      ]
     },
     "metadata": {},
     "output_type": "display_data"
    },
    {
     "name": "stderr",
     "output_type": "stream",
     "text": [
      "\r",
      "  6%|█████                                                                          | 121/1873 [00:23<06:54,  4.23it/s]"
     ]
    },
    {
     "data": {
      "text/plain": [
       "'new dataset\\\\carnatic\\\\carnatic258.wav'"
      ]
     },
     "metadata": {},
     "output_type": "display_data"
    },
    {
     "name": "stderr",
     "output_type": "stream",
     "text": [
      "\r",
      "  7%|█████▏                                                                         | 122/1873 [00:23<06:52,  4.24it/s]"
     ]
    },
    {
     "data": {
      "text/plain": [
       "'new dataset\\\\carnatic\\\\carnatic259.wav'"
      ]
     },
     "metadata": {},
     "output_type": "display_data"
    },
    {
     "name": "stderr",
     "output_type": "stream",
     "text": [
      "\r",
      "  7%|█████▏                                                                         | 123/1873 [00:23<06:47,  4.29it/s]"
     ]
    },
    {
     "data": {
      "text/plain": [
       "'new dataset\\\\carnatic\\\\carnatic26.wav'"
      ]
     },
     "metadata": {},
     "output_type": "display_data"
    },
    {
     "name": "stderr",
     "output_type": "stream",
     "text": [
      "\r",
      "  7%|█████▏                                                                         | 124/1873 [00:23<07:07,  4.09it/s]"
     ]
    },
    {
     "data": {
      "text/plain": [
       "'new dataset\\\\carnatic\\\\carnatic260.wav'"
      ]
     },
     "metadata": {},
     "output_type": "display_data"
    },
    {
     "name": "stderr",
     "output_type": "stream",
     "text": [
      "\r",
      "  7%|█████▎                                                                         | 125/1873 [00:24<07:23,  3.94it/s]"
     ]
    },
    {
     "data": {
      "text/plain": [
       "'new dataset\\\\carnatic\\\\carnatic261.wav'"
      ]
     },
     "metadata": {},
     "output_type": "display_data"
    },
    {
     "name": "stderr",
     "output_type": "stream",
     "text": [
      "\r",
      "  7%|█████▎                                                                         | 126/1873 [00:24<07:14,  4.02it/s]"
     ]
    },
    {
     "data": {
      "text/plain": [
       "'new dataset\\\\carnatic\\\\carnatic262.wav'"
      ]
     },
     "metadata": {},
     "output_type": "display_data"
    },
    {
     "name": "stderr",
     "output_type": "stream",
     "text": [
      "\r",
      "  7%|█████▎                                                                         | 127/1873 [00:24<07:12,  4.04it/s]"
     ]
    },
    {
     "data": {
      "text/plain": [
       "'new dataset\\\\carnatic\\\\carnatic263.wav'"
      ]
     },
     "metadata": {},
     "output_type": "display_data"
    },
    {
     "name": "stderr",
     "output_type": "stream",
     "text": [
      "\r",
      "  7%|█████▍                                                                         | 128/1873 [00:24<07:05,  4.10it/s]"
     ]
    },
    {
     "data": {
      "text/plain": [
       "'new dataset\\\\carnatic\\\\carnatic264.wav'"
      ]
     },
     "metadata": {},
     "output_type": "display_data"
    },
    {
     "name": "stderr",
     "output_type": "stream",
     "text": [
      "\r",
      "  7%|█████▍                                                                         | 129/1873 [00:25<06:55,  4.20it/s]"
     ]
    },
    {
     "data": {
      "text/plain": [
       "'new dataset\\\\carnatic\\\\carnatic265.wav'"
      ]
     },
     "metadata": {},
     "output_type": "display_data"
    },
    {
     "name": "stderr",
     "output_type": "stream",
     "text": [
      "\r",
      "  7%|█████▍                                                                         | 130/1873 [00:25<06:51,  4.24it/s]"
     ]
    },
    {
     "data": {
      "text/plain": [
       "'new dataset\\\\carnatic\\\\carnatic266.wav'"
      ]
     },
     "metadata": {},
     "output_type": "display_data"
    },
    {
     "name": "stderr",
     "output_type": "stream",
     "text": [
      "\r",
      "  7%|█████▌                                                                         | 131/1873 [00:25<06:53,  4.21it/s]"
     ]
    },
    {
     "data": {
      "text/plain": [
       "'new dataset\\\\carnatic\\\\carnatic267.wav'"
      ]
     },
     "metadata": {},
     "output_type": "display_data"
    },
    {
     "name": "stderr",
     "output_type": "stream",
     "text": [
      "\r",
      "  7%|█████▌                                                                         | 132/1873 [00:25<06:47,  4.27it/s]"
     ]
    },
    {
     "data": {
      "text/plain": [
       "'new dataset\\\\carnatic\\\\carnatic268.wav'"
      ]
     },
     "metadata": {},
     "output_type": "display_data"
    },
    {
     "name": "stderr",
     "output_type": "stream",
     "text": [
      "\r",
      "  7%|█████▌                                                                         | 133/1873 [00:26<06:55,  4.19it/s]"
     ]
    },
    {
     "data": {
      "text/plain": [
       "'new dataset\\\\carnatic\\\\carnatic269.wav'"
      ]
     },
     "metadata": {},
     "output_type": "display_data"
    },
    {
     "name": "stderr",
     "output_type": "stream",
     "text": [
      "\r",
      "  7%|█████▋                                                                         | 134/1873 [00:26<06:51,  4.23it/s]"
     ]
    },
    {
     "data": {
      "text/plain": [
       "'new dataset\\\\carnatic\\\\carnatic27.wav'"
      ]
     },
     "metadata": {},
     "output_type": "display_data"
    },
    {
     "name": "stderr",
     "output_type": "stream",
     "text": [
      "\r",
      "  7%|█████▋                                                                         | 135/1873 [00:26<06:45,  4.28it/s]"
     ]
    },
    {
     "data": {
      "text/plain": [
       "'new dataset\\\\carnatic\\\\carnatic270.wav'"
      ]
     },
     "metadata": {},
     "output_type": "display_data"
    },
    {
     "name": "stderr",
     "output_type": "stream",
     "text": [
      "\r",
      "  7%|█████▋                                                                         | 136/1873 [00:26<06:49,  4.25it/s]"
     ]
    },
    {
     "data": {
      "text/plain": [
       "'new dataset\\\\carnatic\\\\carnatic271.wav'"
      ]
     },
     "metadata": {},
     "output_type": "display_data"
    },
    {
     "name": "stderr",
     "output_type": "stream",
     "text": [
      "\r",
      "  7%|█████▊                                                                         | 137/1873 [00:27<06:45,  4.28it/s]"
     ]
    },
    {
     "data": {
      "text/plain": [
       "'new dataset\\\\carnatic\\\\carnatic272.wav'"
      ]
     },
     "metadata": {},
     "output_type": "display_data"
    },
    {
     "name": "stderr",
     "output_type": "stream",
     "text": [
      "\r",
      "  7%|█████▊                                                                         | 138/1873 [00:27<06:43,  4.30it/s]"
     ]
    },
    {
     "data": {
      "text/plain": [
       "'new dataset\\\\carnatic\\\\carnatic273.wav'"
      ]
     },
     "metadata": {},
     "output_type": "display_data"
    },
    {
     "name": "stderr",
     "output_type": "stream",
     "text": [
      "\r",
      "  7%|█████▊                                                                         | 139/1873 [00:27<06:45,  4.27it/s]"
     ]
    },
    {
     "data": {
      "text/plain": [
       "'new dataset\\\\carnatic\\\\carnatic274.wav'"
      ]
     },
     "metadata": {},
     "output_type": "display_data"
    },
    {
     "name": "stderr",
     "output_type": "stream",
     "text": [
      "\r",
      "  7%|█████▉                                                                         | 140/1873 [00:27<06:57,  4.15it/s]"
     ]
    },
    {
     "data": {
      "text/plain": [
       "'new dataset\\\\carnatic\\\\carnatic275.wav'"
      ]
     },
     "metadata": {},
     "output_type": "display_data"
    },
    {
     "name": "stderr",
     "output_type": "stream",
     "text": [
      "\r",
      "  8%|█████▉                                                                         | 141/1873 [00:28<07:01,  4.11it/s]"
     ]
    },
    {
     "data": {
      "text/plain": [
       "'new dataset\\\\carnatic\\\\carnatic276.wav'"
      ]
     },
     "metadata": {},
     "output_type": "display_data"
    },
    {
     "name": "stderr",
     "output_type": "stream",
     "text": [
      "\r",
      "  8%|█████▉                                                                         | 142/1873 [00:28<06:59,  4.13it/s]"
     ]
    },
    {
     "data": {
      "text/plain": [
       "'new dataset\\\\carnatic\\\\carnatic277.wav'"
      ]
     },
     "metadata": {},
     "output_type": "display_data"
    },
    {
     "name": "stderr",
     "output_type": "stream",
     "text": [
      "\r",
      "  8%|██████                                                                         | 143/1873 [00:28<06:51,  4.21it/s]"
     ]
    },
    {
     "data": {
      "text/plain": [
       "'new dataset\\\\carnatic\\\\carnatic278.wav'"
      ]
     },
     "metadata": {},
     "output_type": "display_data"
    },
    {
     "name": "stderr",
     "output_type": "stream",
     "text": [
      "\r",
      "  8%|██████                                                                         | 144/1873 [00:28<07:03,  4.08it/s]"
     ]
    },
    {
     "data": {
      "text/plain": [
       "'new dataset\\\\carnatic\\\\carnatic279.wav'"
      ]
     },
     "metadata": {},
     "output_type": "display_data"
    },
    {
     "name": "stderr",
     "output_type": "stream",
     "text": [
      "\r",
      "  8%|██████                                                                         | 145/1873 [00:29<06:58,  4.13it/s]"
     ]
    },
    {
     "data": {
      "text/plain": [
       "'new dataset\\\\carnatic\\\\carnatic28.wav'"
      ]
     },
     "metadata": {},
     "output_type": "display_data"
    },
    {
     "name": "stderr",
     "output_type": "stream",
     "text": [
      "\r",
      "  8%|██████▏                                                                        | 146/1873 [00:29<06:50,  4.20it/s]"
     ]
    },
    {
     "data": {
      "text/plain": [
       "'new dataset\\\\carnatic\\\\carnatic280.wav'"
      ]
     },
     "metadata": {},
     "output_type": "display_data"
    },
    {
     "name": "stderr",
     "output_type": "stream",
     "text": [
      "\r",
      "  8%|██████▏                                                                        | 147/1873 [00:29<06:55,  4.15it/s]"
     ]
    },
    {
     "data": {
      "text/plain": [
       "'new dataset\\\\carnatic\\\\carnatic281.wav'"
      ]
     },
     "metadata": {},
     "output_type": "display_data"
    },
    {
     "name": "stderr",
     "output_type": "stream",
     "text": [
      "\r",
      "  8%|██████▏                                                                        | 148/1873 [00:29<06:51,  4.19it/s]"
     ]
    },
    {
     "data": {
      "text/plain": [
       "'new dataset\\\\carnatic\\\\carnatic282.wav'"
      ]
     },
     "metadata": {},
     "output_type": "display_data"
    },
    {
     "name": "stderr",
     "output_type": "stream",
     "text": [
      "\r",
      "  8%|██████▎                                                                        | 149/1873 [00:29<06:55,  4.15it/s]"
     ]
    },
    {
     "data": {
      "text/plain": [
       "'new dataset\\\\carnatic\\\\carnatic283.wav'"
      ]
     },
     "metadata": {},
     "output_type": "display_data"
    },
    {
     "name": "stderr",
     "output_type": "stream",
     "text": [
      "\r",
      "  8%|██████▎                                                                        | 150/1873 [00:30<06:56,  4.13it/s]"
     ]
    },
    {
     "data": {
      "text/plain": [
       "'new dataset\\\\carnatic\\\\carnatic284.wav'"
      ]
     },
     "metadata": {},
     "output_type": "display_data"
    },
    {
     "name": "stderr",
     "output_type": "stream",
     "text": [
      "\r",
      "  8%|██████▎                                                                        | 151/1873 [00:30<07:00,  4.09it/s]"
     ]
    },
    {
     "data": {
      "text/plain": [
       "'new dataset\\\\carnatic\\\\carnatic285.wav'"
      ]
     },
     "metadata": {},
     "output_type": "display_data"
    },
    {
     "name": "stderr",
     "output_type": "stream",
     "text": [
      "\r",
      "  8%|██████▍                                                                        | 152/1873 [00:30<07:04,  4.06it/s]"
     ]
    },
    {
     "data": {
      "text/plain": [
       "'new dataset\\\\carnatic\\\\carnatic286.wav'"
      ]
     },
     "metadata": {},
     "output_type": "display_data"
    },
    {
     "name": "stderr",
     "output_type": "stream",
     "text": [
      "\r",
      "  8%|██████▍                                                                        | 153/1873 [00:30<07:06,  4.03it/s]"
     ]
    },
    {
     "data": {
      "text/plain": [
       "'new dataset\\\\carnatic\\\\carnatic287.wav'"
      ]
     },
     "metadata": {},
     "output_type": "display_data"
    },
    {
     "name": "stderr",
     "output_type": "stream",
     "text": [
      "\r",
      "  8%|██████▍                                                                        | 154/1873 [00:31<06:58,  4.11it/s]"
     ]
    },
    {
     "data": {
      "text/plain": [
       "'new dataset\\\\carnatic\\\\carnatic288.wav'"
      ]
     },
     "metadata": {},
     "output_type": "display_data"
    },
    {
     "name": "stderr",
     "output_type": "stream",
     "text": [
      "\r",
      "  8%|██████▌                                                                        | 155/1873 [00:31<07:03,  4.06it/s]"
     ]
    },
    {
     "data": {
      "text/plain": [
       "'new dataset\\\\carnatic\\\\carnatic289.wav'"
      ]
     },
     "metadata": {},
     "output_type": "display_data"
    },
    {
     "name": "stderr",
     "output_type": "stream",
     "text": [
      "\r",
      "  8%|██████▌                                                                        | 156/1873 [00:31<07:39,  3.74it/s]"
     ]
    },
    {
     "data": {
      "text/plain": [
       "'new dataset\\\\carnatic\\\\carnatic29.wav'"
      ]
     },
     "metadata": {},
     "output_type": "display_data"
    },
    {
     "name": "stderr",
     "output_type": "stream",
     "text": [
      "\r",
      "  8%|██████▌                                                                        | 157/1873 [00:32<07:41,  3.72it/s]"
     ]
    },
    {
     "data": {
      "text/plain": [
       "'new dataset\\\\carnatic\\\\carnatic290.wav'"
      ]
     },
     "metadata": {},
     "output_type": "display_data"
    },
    {
     "name": "stderr",
     "output_type": "stream",
     "text": [
      "\r",
      "  8%|██████▋                                                                        | 158/1873 [00:32<07:21,  3.89it/s]"
     ]
    },
    {
     "data": {
      "text/plain": [
       "'new dataset\\\\carnatic\\\\carnatic291.wav'"
      ]
     },
     "metadata": {},
     "output_type": "display_data"
    },
    {
     "name": "stderr",
     "output_type": "stream",
     "text": [
      "\r",
      "  8%|██████▋                                                                        | 159/1873 [00:32<07:31,  3.80it/s]"
     ]
    },
    {
     "data": {
      "text/plain": [
       "'new dataset\\\\carnatic\\\\carnatic293.wav'"
      ]
     },
     "metadata": {},
     "output_type": "display_data"
    },
    {
     "name": "stderr",
     "output_type": "stream",
     "text": [
      "\r",
      "  9%|██████▋                                                                        | 160/1873 [00:32<07:34,  3.77it/s]"
     ]
    },
    {
     "data": {
      "text/plain": [
       "'new dataset\\\\carnatic\\\\carnatic294.wav'"
      ]
     },
     "metadata": {},
     "output_type": "display_data"
    },
    {
     "name": "stderr",
     "output_type": "stream",
     "text": [
      "\r",
      "  9%|██████▊                                                                        | 161/1873 [00:33<07:26,  3.84it/s]"
     ]
    },
    {
     "data": {
      "text/plain": [
       "'new dataset\\\\carnatic\\\\carnatic295.wav'"
      ]
     },
     "metadata": {},
     "output_type": "display_data"
    },
    {
     "name": "stderr",
     "output_type": "stream",
     "text": [
      "\r",
      "  9%|██████▊                                                                        | 162/1873 [00:33<07:38,  3.73it/s]"
     ]
    },
    {
     "data": {
      "text/plain": [
       "'new dataset\\\\carnatic\\\\carnatic296.wav'"
      ]
     },
     "metadata": {},
     "output_type": "display_data"
    },
    {
     "name": "stderr",
     "output_type": "stream",
     "text": [
      "\r",
      "  9%|██████▉                                                                        | 163/1873 [00:33<07:26,  3.83it/s]"
     ]
    },
    {
     "data": {
      "text/plain": [
       "'new dataset\\\\carnatic\\\\carnatic297.wav'"
      ]
     },
     "metadata": {},
     "output_type": "display_data"
    },
    {
     "name": "stderr",
     "output_type": "stream",
     "text": [
      "\r",
      "  9%|██████▉                                                                        | 164/1873 [00:33<07:15,  3.92it/s]"
     ]
    },
    {
     "data": {
      "text/plain": [
       "'new dataset\\\\carnatic\\\\carnatic298.wav'"
      ]
     },
     "metadata": {},
     "output_type": "display_data"
    },
    {
     "name": "stderr",
     "output_type": "stream",
     "text": [
      "\r",
      "  9%|██████▉                                                                        | 165/1873 [00:34<07:10,  3.96it/s]"
     ]
    },
    {
     "data": {
      "text/plain": [
       "'new dataset\\\\carnatic\\\\carnatic299.wav'"
      ]
     },
     "metadata": {},
     "output_type": "display_data"
    },
    {
     "name": "stderr",
     "output_type": "stream",
     "text": [
      "\r",
      "  9%|███████                                                                        | 166/1873 [00:34<07:06,  4.00it/s]"
     ]
    },
    {
     "data": {
      "text/plain": [
       "'new dataset\\\\carnatic\\\\carnatic3.wav'"
      ]
     },
     "metadata": {},
     "output_type": "display_data"
    },
    {
     "name": "stderr",
     "output_type": "stream",
     "text": [
      "\r",
      "  9%|███████                                                                        | 167/1873 [00:34<07:03,  4.03it/s]"
     ]
    },
    {
     "data": {
      "text/plain": [
       "'new dataset\\\\carnatic\\\\carnatic30.wav'"
      ]
     },
     "metadata": {},
     "output_type": "display_data"
    },
    {
     "name": "stderr",
     "output_type": "stream",
     "text": [
      "\r",
      "  9%|███████                                                                        | 168/1873 [00:34<06:59,  4.07it/s]"
     ]
    },
    {
     "data": {
      "text/plain": [
       "'new dataset\\\\carnatic\\\\carnatic300.wav'"
      ]
     },
     "metadata": {},
     "output_type": "display_data"
    },
    {
     "name": "stderr",
     "output_type": "stream",
     "text": [
      "\r",
      "  9%|███████▏                                                                       | 169/1873 [00:35<07:00,  4.05it/s]"
     ]
    },
    {
     "data": {
      "text/plain": [
       "'new dataset\\\\carnatic\\\\carnatic301.wav'"
      ]
     },
     "metadata": {},
     "output_type": "display_data"
    },
    {
     "name": "stderr",
     "output_type": "stream",
     "text": [
      "\r",
      "  9%|███████▏                                                                       | 170/1873 [00:35<06:52,  4.13it/s]"
     ]
    },
    {
     "data": {
      "text/plain": [
       "'new dataset\\\\carnatic\\\\carnatic302.wav'"
      ]
     },
     "metadata": {},
     "output_type": "display_data"
    },
    {
     "name": "stderr",
     "output_type": "stream",
     "text": [
      "\r",
      "  9%|███████▏                                                                       | 171/1873 [00:35<06:53,  4.11it/s]"
     ]
    },
    {
     "data": {
      "text/plain": [
       "'new dataset\\\\carnatic\\\\carnatic303.wav'"
      ]
     },
     "metadata": {},
     "output_type": "display_data"
    },
    {
     "name": "stderr",
     "output_type": "stream",
     "text": [
      "\r",
      "  9%|███████▎                                                                       | 172/1873 [00:35<06:54,  4.10it/s]"
     ]
    },
    {
     "data": {
      "text/plain": [
       "'new dataset\\\\carnatic\\\\carnatic304.wav'"
      ]
     },
     "metadata": {},
     "output_type": "display_data"
    },
    {
     "name": "stderr",
     "output_type": "stream",
     "text": [
      "\r",
      "  9%|███████▎                                                                       | 173/1873 [00:36<06:55,  4.09it/s]"
     ]
    },
    {
     "data": {
      "text/plain": [
       "'new dataset\\\\carnatic\\\\carnatic305.wav'"
      ]
     },
     "metadata": {},
     "output_type": "display_data"
    },
    {
     "name": "stderr",
     "output_type": "stream",
     "text": [
      "\r",
      "  9%|███████▎                                                                       | 174/1873 [00:36<06:49,  4.15it/s]"
     ]
    },
    {
     "data": {
      "text/plain": [
       "'new dataset\\\\carnatic\\\\carnatic306.wav'"
      ]
     },
     "metadata": {},
     "output_type": "display_data"
    },
    {
     "name": "stderr",
     "output_type": "stream",
     "text": [
      "\r",
      "  9%|███████▍                                                                       | 175/1873 [00:36<06:44,  4.20it/s]"
     ]
    },
    {
     "data": {
      "text/plain": [
       "'new dataset\\\\carnatic\\\\carnatic307.wav'"
      ]
     },
     "metadata": {},
     "output_type": "display_data"
    },
    {
     "name": "stderr",
     "output_type": "stream",
     "text": [
      "\r",
      "  9%|███████▍                                                                       | 176/1873 [00:36<06:43,  4.21it/s]"
     ]
    },
    {
     "data": {
      "text/plain": [
       "'new dataset\\\\carnatic\\\\carnatic308.wav'"
      ]
     },
     "metadata": {},
     "output_type": "display_data"
    },
    {
     "name": "stderr",
     "output_type": "stream",
     "text": [
      "\r",
      "  9%|███████▍                                                                       | 177/1873 [00:36<06:40,  4.24it/s]"
     ]
    },
    {
     "data": {
      "text/plain": [
       "'new dataset\\\\carnatic\\\\carnatic31.wav'"
      ]
     },
     "metadata": {},
     "output_type": "display_data"
    },
    {
     "name": "stderr",
     "output_type": "stream",
     "text": [
      "\r",
      " 10%|███████▌                                                                       | 178/1873 [00:37<06:50,  4.13it/s]"
     ]
    },
    {
     "data": {
      "text/plain": [
       "'new dataset\\\\carnatic\\\\carnatic314.wav'"
      ]
     },
     "metadata": {},
     "output_type": "display_data"
    },
    {
     "name": "stderr",
     "output_type": "stream",
     "text": [
      "\r",
      " 10%|███████▌                                                                       | 179/1873 [00:37<07:00,  4.03it/s]"
     ]
    },
    {
     "data": {
      "text/plain": [
       "'new dataset\\\\carnatic\\\\carnatic315.wav'"
      ]
     },
     "metadata": {},
     "output_type": "display_data"
    },
    {
     "name": "stderr",
     "output_type": "stream",
     "text": [
      "\r",
      " 10%|███████▌                                                                       | 180/1873 [00:37<06:57,  4.06it/s]"
     ]
    },
    {
     "data": {
      "text/plain": [
       "'new dataset\\\\carnatic\\\\carnatic316.wav'"
      ]
     },
     "metadata": {},
     "output_type": "display_data"
    },
    {
     "name": "stderr",
     "output_type": "stream",
     "text": [
      "\r",
      " 10%|███████▋                                                                       | 181/1873 [00:37<06:51,  4.11it/s]"
     ]
    },
    {
     "data": {
      "text/plain": [
       "'new dataset\\\\carnatic\\\\carnatic317.wav'"
      ]
     },
     "metadata": {},
     "output_type": "display_data"
    },
    {
     "name": "stderr",
     "output_type": "stream",
     "text": [
      "\r",
      " 10%|███████▋                                                                       | 182/1873 [00:38<06:45,  4.17it/s]"
     ]
    },
    {
     "data": {
      "text/plain": [
       "'new dataset\\\\carnatic\\\\carnatic318.wav'"
      ]
     },
     "metadata": {},
     "output_type": "display_data"
    },
    {
     "name": "stderr",
     "output_type": "stream",
     "text": [
      "\r",
      " 10%|███████▋                                                                       | 183/1873 [00:38<06:50,  4.12it/s]"
     ]
    },
    {
     "data": {
      "text/plain": [
       "'new dataset\\\\carnatic\\\\carnatic319.wav'"
      ]
     },
     "metadata": {},
     "output_type": "display_data"
    },
    {
     "name": "stderr",
     "output_type": "stream",
     "text": [
      "\r",
      " 10%|███████▊                                                                       | 184/1873 [00:38<06:47,  4.14it/s]"
     ]
    },
    {
     "data": {
      "text/plain": [
       "'new dataset\\\\carnatic\\\\carnatic32.wav'"
      ]
     },
     "metadata": {},
     "output_type": "display_data"
    },
    {
     "name": "stderr",
     "output_type": "stream",
     "text": [
      "\r",
      " 10%|███████▊                                                                       | 185/1873 [00:38<06:36,  4.26it/s]"
     ]
    },
    {
     "data": {
      "text/plain": [
       "'new dataset\\\\carnatic\\\\carnatic320.wav'"
      ]
     },
     "metadata": {},
     "output_type": "display_data"
    },
    {
     "name": "stderr",
     "output_type": "stream",
     "text": [
      "\r",
      " 10%|███████▊                                                                       | 186/1873 [00:39<06:37,  4.24it/s]"
     ]
    },
    {
     "data": {
      "text/plain": [
       "'new dataset\\\\carnatic\\\\carnatic321.wav'"
      ]
     },
     "metadata": {},
     "output_type": "display_data"
    },
    {
     "name": "stderr",
     "output_type": "stream",
     "text": [
      "\r",
      " 10%|███████▉                                                                       | 187/1873 [00:39<06:38,  4.23it/s]"
     ]
    },
    {
     "data": {
      "text/plain": [
       "'new dataset\\\\carnatic\\\\carnatic322.wav'"
      ]
     },
     "metadata": {},
     "output_type": "display_data"
    },
    {
     "name": "stderr",
     "output_type": "stream",
     "text": [
      "\r",
      " 10%|███████▉                                                                       | 188/1873 [00:39<06:38,  4.23it/s]"
     ]
    },
    {
     "data": {
      "text/plain": [
       "'new dataset\\\\carnatic\\\\carnatic323.wav'"
      ]
     },
     "metadata": {},
     "output_type": "display_data"
    },
    {
     "name": "stderr",
     "output_type": "stream",
     "text": [
      "\r",
      " 10%|███████▉                                                                       | 189/1873 [00:39<06:35,  4.26it/s]"
     ]
    },
    {
     "data": {
      "text/plain": [
       "'new dataset\\\\carnatic\\\\carnatic324.wav'"
      ]
     },
     "metadata": {},
     "output_type": "display_data"
    },
    {
     "name": "stderr",
     "output_type": "stream",
     "text": [
      "\r",
      " 10%|████████                                                                       | 190/1873 [00:40<06:35,  4.26it/s]"
     ]
    },
    {
     "data": {
      "text/plain": [
       "'new dataset\\\\carnatic\\\\carnatic325.wav'"
      ]
     },
     "metadata": {},
     "output_type": "display_data"
    },
    {
     "name": "stderr",
     "output_type": "stream",
     "text": [
      "\r",
      " 10%|████████                                                                       | 191/1873 [00:40<06:36,  4.24it/s]"
     ]
    },
    {
     "data": {
      "text/plain": [
       "'new dataset\\\\carnatic\\\\carnatic326.wav'"
      ]
     },
     "metadata": {},
     "output_type": "display_data"
    },
    {
     "name": "stderr",
     "output_type": "stream",
     "text": [
      "\r",
      " 10%|████████                                                                       | 192/1873 [00:40<06:46,  4.13it/s]"
     ]
    },
    {
     "data": {
      "text/plain": [
       "'new dataset\\\\carnatic\\\\carnatic327.wav'"
      ]
     },
     "metadata": {},
     "output_type": "display_data"
    },
    {
     "name": "stderr",
     "output_type": "stream",
     "text": [
      "\r",
      " 10%|████████▏                                                                      | 193/1873 [00:40<06:51,  4.08it/s]"
     ]
    },
    {
     "data": {
      "text/plain": [
       "'new dataset\\\\carnatic\\\\carnatic328.wav'"
      ]
     },
     "metadata": {},
     "output_type": "display_data"
    },
    {
     "name": "stderr",
     "output_type": "stream",
     "text": [
      "\r",
      " 10%|████████▏                                                                      | 194/1873 [00:41<06:42,  4.17it/s]"
     ]
    },
    {
     "data": {
      "text/plain": [
       "'new dataset\\\\carnatic\\\\carnatic329.wav'"
      ]
     },
     "metadata": {},
     "output_type": "display_data"
    },
    {
     "name": "stderr",
     "output_type": "stream",
     "text": [
      "\r",
      " 10%|████████▏                                                                      | 195/1873 [00:41<06:42,  4.17it/s]"
     ]
    },
    {
     "data": {
      "text/plain": [
       "'new dataset\\\\carnatic\\\\carnatic33.wav'"
      ]
     },
     "metadata": {},
     "output_type": "display_data"
    },
    {
     "name": "stderr",
     "output_type": "stream",
     "text": [
      "\r",
      " 10%|████████▎                                                                      | 196/1873 [00:41<06:43,  4.16it/s]"
     ]
    },
    {
     "data": {
      "text/plain": [
       "'new dataset\\\\carnatic\\\\carnatic337.wav'"
      ]
     },
     "metadata": {},
     "output_type": "display_data"
    },
    {
     "name": "stderr",
     "output_type": "stream",
     "text": [
      "\r",
      " 11%|████████▎                                                                      | 197/1873 [00:41<06:53,  4.05it/s]"
     ]
    },
    {
     "data": {
      "text/plain": [
       "'new dataset\\\\carnatic\\\\carnatic338.wav'"
      ]
     },
     "metadata": {},
     "output_type": "display_data"
    },
    {
     "name": "stderr",
     "output_type": "stream",
     "text": [
      "\r",
      " 11%|████████▎                                                                      | 198/1873 [00:42<07:04,  3.95it/s]"
     ]
    },
    {
     "data": {
      "text/plain": [
       "'new dataset\\\\carnatic\\\\carnatic339.wav'"
      ]
     },
     "metadata": {},
     "output_type": "display_data"
    },
    {
     "name": "stderr",
     "output_type": "stream",
     "text": [
      "\r",
      " 11%|████████▍                                                                      | 199/1873 [00:42<06:55,  4.03it/s]"
     ]
    },
    {
     "data": {
      "text/plain": [
       "'new dataset\\\\carnatic\\\\carnatic34.wav'"
      ]
     },
     "metadata": {},
     "output_type": "display_data"
    },
    {
     "name": "stderr",
     "output_type": "stream",
     "text": [
      "\r",
      " 11%|████████▍                                                                      | 200/1873 [00:42<06:50,  4.08it/s]"
     ]
    },
    {
     "data": {
      "text/plain": [
       "'new dataset\\\\carnatic\\\\carnatic340.wav'"
      ]
     },
     "metadata": {},
     "output_type": "display_data"
    },
    {
     "name": "stderr",
     "output_type": "stream",
     "text": [
      "\r",
      " 11%|████████▍                                                                      | 201/1873 [00:42<06:49,  4.08it/s]"
     ]
    },
    {
     "data": {
      "text/plain": [
       "'new dataset\\\\carnatic\\\\carnatic341.wav'"
      ]
     },
     "metadata": {},
     "output_type": "display_data"
    },
    {
     "name": "stderr",
     "output_type": "stream",
     "text": [
      "\r",
      " 11%|████████▌                                                                      | 202/1873 [00:43<07:06,  3.92it/s]"
     ]
    },
    {
     "data": {
      "text/plain": [
       "'new dataset\\\\carnatic\\\\carnatic342.wav'"
      ]
     },
     "metadata": {},
     "output_type": "display_data"
    },
    {
     "name": "stderr",
     "output_type": "stream",
     "text": [
      "\r",
      " 11%|████████▌                                                                      | 203/1873 [00:43<07:45,  3.59it/s]"
     ]
    },
    {
     "data": {
      "text/plain": [
       "'new dataset\\\\carnatic\\\\carnatic343.wav'"
      ]
     },
     "metadata": {},
     "output_type": "display_data"
    },
    {
     "name": "stderr",
     "output_type": "stream",
     "text": [
      "\r",
      " 11%|████████▌                                                                      | 204/1873 [00:43<07:29,  3.71it/s]"
     ]
    },
    {
     "data": {
      "text/plain": [
       "'new dataset\\\\carnatic\\\\carnatic344.wav'"
      ]
     },
     "metadata": {},
     "output_type": "display_data"
    },
    {
     "name": "stderr",
     "output_type": "stream",
     "text": [
      "\r",
      " 11%|████████▋                                                                      | 205/1873 [00:43<07:24,  3.75it/s]"
     ]
    },
    {
     "data": {
      "text/plain": [
       "'new dataset\\\\carnatic\\\\carnatic345.wav'"
      ]
     },
     "metadata": {},
     "output_type": "display_data"
    },
    {
     "name": "stderr",
     "output_type": "stream",
     "text": [
      "\r",
      " 11%|████████▋                                                                      | 206/1873 [00:44<07:17,  3.81it/s]"
     ]
    },
    {
     "data": {
      "text/plain": [
       "'new dataset\\\\carnatic\\\\carnatic346.wav'"
      ]
     },
     "metadata": {},
     "output_type": "display_data"
    },
    {
     "name": "stderr",
     "output_type": "stream",
     "text": [
      "\r",
      " 11%|████████▋                                                                      | 207/1873 [00:44<07:02,  3.94it/s]"
     ]
    },
    {
     "data": {
      "text/plain": [
       "'new dataset\\\\carnatic\\\\carnatic347.wav'"
      ]
     },
     "metadata": {},
     "output_type": "display_data"
    },
    {
     "name": "stderr",
     "output_type": "stream",
     "text": [
      "\r",
      " 11%|████████▊                                                                      | 208/1873 [00:44<06:51,  4.05it/s]"
     ]
    },
    {
     "data": {
      "text/plain": [
       "'new dataset\\\\carnatic\\\\carnatic348.wav'"
      ]
     },
     "metadata": {},
     "output_type": "display_data"
    },
    {
     "name": "stderr",
     "output_type": "stream",
     "text": [
      "\r",
      " 11%|████████▊                                                                      | 209/1873 [00:44<06:52,  4.03it/s]"
     ]
    },
    {
     "data": {
      "text/plain": [
       "'new dataset\\\\carnatic\\\\carnatic349.wav'"
      ]
     },
     "metadata": {},
     "output_type": "display_data"
    },
    {
     "name": "stderr",
     "output_type": "stream",
     "text": [
      "\r",
      " 11%|████████▊                                                                      | 210/1873 [00:45<06:49,  4.06it/s]"
     ]
    },
    {
     "data": {
      "text/plain": [
       "'new dataset\\\\carnatic\\\\carnatic35.wav'"
      ]
     },
     "metadata": {},
     "output_type": "display_data"
    },
    {
     "name": "stderr",
     "output_type": "stream",
     "text": [
      "\r",
      " 11%|████████▉                                                                      | 211/1873 [00:45<06:51,  4.04it/s]"
     ]
    },
    {
     "data": {
      "text/plain": [
       "'new dataset\\\\carnatic\\\\carnatic350.wav'"
      ]
     },
     "metadata": {},
     "output_type": "display_data"
    },
    {
     "name": "stderr",
     "output_type": "stream",
     "text": [
      "\r",
      " 11%|████████▉                                                                      | 212/1873 [00:45<06:45,  4.10it/s]"
     ]
    },
    {
     "data": {
      "text/plain": [
       "'new dataset\\\\carnatic\\\\carnatic351.wav'"
      ]
     },
     "metadata": {},
     "output_type": "display_data"
    },
    {
     "name": "stderr",
     "output_type": "stream",
     "text": [
      "\r",
      " 11%|████████▉                                                                      | 213/1873 [00:45<06:41,  4.14it/s]"
     ]
    },
    {
     "data": {
      "text/plain": [
       "'new dataset\\\\carnatic\\\\carnatic352.wav'"
      ]
     },
     "metadata": {},
     "output_type": "display_data"
    },
    {
     "name": "stderr",
     "output_type": "stream",
     "text": [
      "\r",
      " 11%|█████████                                                                      | 214/1873 [00:46<06:38,  4.17it/s]"
     ]
    },
    {
     "data": {
      "text/plain": [
       "'new dataset\\\\carnatic\\\\carnatic353.wav'"
      ]
     },
     "metadata": {},
     "output_type": "display_data"
    },
    {
     "name": "stderr",
     "output_type": "stream",
     "text": [
      "\r",
      " 11%|█████████                                                                      | 215/1873 [00:46<06:40,  4.14it/s]"
     ]
    },
    {
     "data": {
      "text/plain": [
       "'new dataset\\\\carnatic\\\\carnatic354.wav'"
      ]
     },
     "metadata": {},
     "output_type": "display_data"
    },
    {
     "name": "stderr",
     "output_type": "stream",
     "text": [
      "\r",
      " 12%|█████████                                                                      | 216/1873 [00:46<07:09,  3.86it/s]"
     ]
    },
    {
     "data": {
      "text/plain": [
       "'new dataset\\\\carnatic\\\\carnatic355.wav'"
      ]
     },
     "metadata": {},
     "output_type": "display_data"
    },
    {
     "name": "stderr",
     "output_type": "stream",
     "text": [
      "\r",
      " 12%|█████████▏                                                                     | 217/1873 [00:46<07:06,  3.89it/s]"
     ]
    },
    {
     "data": {
      "text/plain": [
       "'new dataset\\\\carnatic\\\\carnatic356.wav'"
      ]
     },
     "metadata": {},
     "output_type": "display_data"
    },
    {
     "name": "stderr",
     "output_type": "stream",
     "text": [
      "\r",
      " 12%|█████████▏                                                                     | 218/1873 [00:47<06:58,  3.95it/s]"
     ]
    },
    {
     "data": {
      "text/plain": [
       "'new dataset\\\\carnatic\\\\carnatic359.wav'"
      ]
     },
     "metadata": {},
     "output_type": "display_data"
    },
    {
     "name": "stderr",
     "output_type": "stream",
     "text": [
      "\r",
      " 12%|█████████▏                                                                     | 219/1873 [00:47<06:50,  4.03it/s]"
     ]
    },
    {
     "data": {
      "text/plain": [
       "'new dataset\\\\carnatic\\\\carnatic360.wav'"
      ]
     },
     "metadata": {},
     "output_type": "display_data"
    },
    {
     "name": "stderr",
     "output_type": "stream",
     "text": [
      "\r",
      " 12%|█████████▎                                                                     | 220/1873 [00:47<06:43,  4.09it/s]"
     ]
    },
    {
     "data": {
      "text/plain": [
       "'new dataset\\\\carnatic\\\\carnatic364.wav'"
      ]
     },
     "metadata": {},
     "output_type": "display_data"
    },
    {
     "name": "stderr",
     "output_type": "stream",
     "text": [
      "\r",
      " 12%|█████████▎                                                                     | 221/1873 [00:47<06:41,  4.11it/s]"
     ]
    },
    {
     "data": {
      "text/plain": [
       "'new dataset\\\\carnatic\\\\carnatic365.wav'"
      ]
     },
     "metadata": {},
     "output_type": "display_data"
    },
    {
     "name": "stderr",
     "output_type": "stream",
     "text": [
      "\r",
      " 12%|█████████▎                                                                     | 222/1873 [00:48<06:34,  4.19it/s]"
     ]
    },
    {
     "data": {
      "text/plain": [
       "'new dataset\\\\carnatic\\\\carnatic366.wav'"
      ]
     },
     "metadata": {},
     "output_type": "display_data"
    },
    {
     "name": "stderr",
     "output_type": "stream",
     "text": [
      "\r",
      " 12%|█████████▍                                                                     | 223/1873 [00:48<06:30,  4.22it/s]"
     ]
    },
    {
     "data": {
      "text/plain": [
       "'new dataset\\\\carnatic\\\\carnatic367.wav'"
      ]
     },
     "metadata": {},
     "output_type": "display_data"
    },
    {
     "name": "stderr",
     "output_type": "stream",
     "text": [
      "\r",
      " 12%|█████████▍                                                                     | 224/1873 [00:48<06:25,  4.28it/s]"
     ]
    },
    {
     "data": {
      "text/plain": [
       "'new dataset\\\\carnatic\\\\carnatic368.wav'"
      ]
     },
     "metadata": {},
     "output_type": "display_data"
    },
    {
     "name": "stderr",
     "output_type": "stream",
     "text": [
      "\r",
      " 12%|█████████▍                                                                     | 225/1873 [00:48<06:26,  4.27it/s]"
     ]
    },
    {
     "data": {
      "text/plain": [
       "'new dataset\\\\carnatic\\\\carnatic369.wav'"
      ]
     },
     "metadata": {},
     "output_type": "display_data"
    },
    {
     "name": "stderr",
     "output_type": "stream",
     "text": [
      "\r",
      " 12%|█████████▌                                                                     | 226/1873 [00:48<06:21,  4.32it/s]"
     ]
    },
    {
     "data": {
      "text/plain": [
       "'new dataset\\\\carnatic\\\\carnatic370.wav'"
      ]
     },
     "metadata": {},
     "output_type": "display_data"
    },
    {
     "name": "stderr",
     "output_type": "stream",
     "text": [
      "\r",
      " 12%|█████████▌                                                                     | 227/1873 [00:49<06:16,  4.37it/s]"
     ]
    },
    {
     "data": {
      "text/plain": [
       "'new dataset\\\\carnatic\\\\carnatic371.wav'"
      ]
     },
     "metadata": {},
     "output_type": "display_data"
    },
    {
     "name": "stderr",
     "output_type": "stream",
     "text": [
      "\r",
      " 12%|█████████▌                                                                     | 228/1873 [00:49<06:24,  4.28it/s]"
     ]
    },
    {
     "data": {
      "text/plain": [
       "'new dataset\\\\carnatic\\\\carnatic372.wav'"
      ]
     },
     "metadata": {},
     "output_type": "display_data"
    },
    {
     "name": "stderr",
     "output_type": "stream",
     "text": [
      "\r",
      " 12%|█████████▋                                                                     | 229/1873 [00:49<06:53,  3.98it/s]"
     ]
    },
    {
     "data": {
      "text/plain": [
       "'new dataset\\\\carnatic\\\\carnatic373.wav'"
      ]
     },
     "metadata": {},
     "output_type": "display_data"
    },
    {
     "name": "stderr",
     "output_type": "stream",
     "text": [
      "\r",
      " 12%|█████████▋                                                                     | 230/1873 [00:50<06:55,  3.96it/s]"
     ]
    },
    {
     "data": {
      "text/plain": [
       "'new dataset\\\\carnatic\\\\carnatic374.wav'"
      ]
     },
     "metadata": {},
     "output_type": "display_data"
    },
    {
     "name": "stderr",
     "output_type": "stream",
     "text": [
      "\r",
      " 12%|█████████▋                                                                     | 231/1873 [00:50<06:56,  3.94it/s]"
     ]
    },
    {
     "data": {
      "text/plain": [
       "'new dataset\\\\carnatic\\\\carnatic375.wav'"
      ]
     },
     "metadata": {},
     "output_type": "display_data"
    },
    {
     "name": "stderr",
     "output_type": "stream",
     "text": [
      "\r",
      " 12%|█████████▊                                                                     | 232/1873 [00:50<06:43,  4.07it/s]"
     ]
    },
    {
     "data": {
      "text/plain": [
       "'new dataset\\\\carnatic\\\\carnatic376.wav'"
      ]
     },
     "metadata": {},
     "output_type": "display_data"
    },
    {
     "name": "stderr",
     "output_type": "stream",
     "text": [
      "\r",
      " 12%|█████████▊                                                                     | 233/1873 [00:50<06:45,  4.05it/s]"
     ]
    },
    {
     "data": {
      "text/plain": [
       "'new dataset\\\\carnatic\\\\carnatic377.wav'"
      ]
     },
     "metadata": {},
     "output_type": "display_data"
    },
    {
     "name": "stderr",
     "output_type": "stream",
     "text": [
      "\r",
      " 12%|█████████▊                                                                     | 234/1873 [00:50<06:40,  4.09it/s]"
     ]
    },
    {
     "data": {
      "text/plain": [
       "'new dataset\\\\carnatic\\\\carnatic378.wav'"
      ]
     },
     "metadata": {},
     "output_type": "display_data"
    },
    {
     "name": "stderr",
     "output_type": "stream",
     "text": [
      "\r",
      " 13%|█████████▉                                                                     | 235/1873 [00:51<06:37,  4.12it/s]"
     ]
    },
    {
     "data": {
      "text/plain": [
       "'new dataset\\\\carnatic\\\\carnatic379.wav'"
      ]
     },
     "metadata": {},
     "output_type": "display_data"
    },
    {
     "name": "stderr",
     "output_type": "stream",
     "text": [
      "\r",
      " 13%|█████████▉                                                                     | 236/1873 [00:51<06:30,  4.19it/s]"
     ]
    },
    {
     "data": {
      "text/plain": [
       "'new dataset\\\\carnatic\\\\carnatic380.wav'"
      ]
     },
     "metadata": {},
     "output_type": "display_data"
    },
    {
     "name": "stderr",
     "output_type": "stream",
     "text": [
      "\r",
      " 13%|█████████▉                                                                     | 237/1873 [00:51<06:40,  4.09it/s]"
     ]
    },
    {
     "data": {
      "text/plain": [
       "'new dataset\\\\carnatic\\\\carnatic381.wav'"
      ]
     },
     "metadata": {},
     "output_type": "display_data"
    },
    {
     "name": "stderr",
     "output_type": "stream",
     "text": [
      "\r",
      " 13%|██████████                                                                     | 238/1873 [00:51<06:48,  4.00it/s]"
     ]
    },
    {
     "data": {
      "text/plain": [
       "'new dataset\\\\carnatic\\\\carnatic382.wav'"
      ]
     },
     "metadata": {},
     "output_type": "display_data"
    },
    {
     "name": "stderr",
     "output_type": "stream",
     "text": [
      "\r",
      " 13%|██████████                                                                     | 239/1873 [00:52<07:02,  3.87it/s]"
     ]
    },
    {
     "data": {
      "text/plain": [
       "'new dataset\\\\carnatic\\\\carnatic383.wav'"
      ]
     },
     "metadata": {},
     "output_type": "display_data"
    },
    {
     "name": "stderr",
     "output_type": "stream",
     "text": [
      "\r",
      " 13%|██████████                                                                     | 240/1873 [00:52<07:26,  3.66it/s]"
     ]
    },
    {
     "data": {
      "text/plain": [
       "'new dataset\\\\carnatic\\\\carnatic384.wav'"
      ]
     },
     "metadata": {},
     "output_type": "display_data"
    },
    {
     "name": "stderr",
     "output_type": "stream",
     "text": [
      "\r",
      " 13%|██████████▏                                                                    | 241/1873 [00:52<07:13,  3.77it/s]"
     ]
    },
    {
     "data": {
      "text/plain": [
       "'new dataset\\\\carnatic\\\\carnatic385.wav'"
      ]
     },
     "metadata": {},
     "output_type": "display_data"
    },
    {
     "name": "stderr",
     "output_type": "stream",
     "text": [
      "\r",
      " 13%|██████████▏                                                                    | 242/1873 [00:53<07:06,  3.82it/s]"
     ]
    },
    {
     "data": {
      "text/plain": [
       "'new dataset\\\\carnatic\\\\carnatic386.wav'"
      ]
     },
     "metadata": {},
     "output_type": "display_data"
    },
    {
     "name": "stderr",
     "output_type": "stream",
     "text": [
      "\r",
      " 13%|██████████▏                                                                    | 243/1873 [00:53<06:59,  3.89it/s]"
     ]
    },
    {
     "data": {
      "text/plain": [
       "'new dataset\\\\carnatic\\\\carnatic387.wav'"
      ]
     },
     "metadata": {},
     "output_type": "display_data"
    },
    {
     "name": "stderr",
     "output_type": "stream",
     "text": [
      "\r",
      " 13%|██████████▎                                                                    | 244/1873 [00:53<06:53,  3.94it/s]"
     ]
    },
    {
     "data": {
      "text/plain": [
       "'new dataset\\\\carnatic\\\\carnatic392.wav'"
      ]
     },
     "metadata": {},
     "output_type": "display_data"
    },
    {
     "name": "stderr",
     "output_type": "stream",
     "text": [
      "\r",
      " 13%|██████████▎                                                                    | 245/1873 [00:53<06:48,  3.99it/s]"
     ]
    },
    {
     "data": {
      "text/plain": [
       "'new dataset\\\\carnatic\\\\carnatic393.wav'"
      ]
     },
     "metadata": {},
     "output_type": "display_data"
    },
    {
     "name": "stderr",
     "output_type": "stream",
     "text": [
      "\r",
      " 13%|██████████▍                                                                    | 246/1873 [00:54<07:01,  3.86it/s]"
     ]
    },
    {
     "data": {
      "text/plain": [
       "'new dataset\\\\carnatic\\\\carnatic394.wav'"
      ]
     },
     "metadata": {},
     "output_type": "display_data"
    },
    {
     "name": "stderr",
     "output_type": "stream",
     "text": [
      "\r",
      " 13%|██████████▍                                                                    | 247/1873 [00:54<06:57,  3.89it/s]"
     ]
    },
    {
     "data": {
      "text/plain": [
       "'new dataset\\\\carnatic\\\\carnatic395.wav'"
      ]
     },
     "metadata": {},
     "output_type": "display_data"
    },
    {
     "name": "stderr",
     "output_type": "stream",
     "text": [
      "\r",
      " 13%|██████████▍                                                                    | 248/1873 [00:54<07:03,  3.84it/s]"
     ]
    },
    {
     "data": {
      "text/plain": [
       "'new dataset\\\\carnatic\\\\carnatic396.wav'"
      ]
     },
     "metadata": {},
     "output_type": "display_data"
    },
    {
     "name": "stderr",
     "output_type": "stream",
     "text": [
      "\r",
      " 13%|██████████▌                                                                    | 249/1873 [00:54<06:53,  3.92it/s]"
     ]
    },
    {
     "data": {
      "text/plain": [
       "'new dataset\\\\carnatic\\\\carnatic397.wav'"
      ]
     },
     "metadata": {},
     "output_type": "display_data"
    },
    {
     "name": "stderr",
     "output_type": "stream",
     "text": [
      "\r",
      " 13%|██████████▌                                                                    | 250/1873 [00:55<06:55,  3.90it/s]"
     ]
    },
    {
     "data": {
      "text/plain": [
       "'new dataset\\\\carnatic\\\\carnatic398.wav'"
      ]
     },
     "metadata": {},
     "output_type": "display_data"
    },
    {
     "name": "stderr",
     "output_type": "stream",
     "text": [
      "\r",
      " 13%|██████████▌                                                                    | 251/1873 [00:55<06:45,  4.00it/s]"
     ]
    },
    {
     "data": {
      "text/plain": [
       "'new dataset\\\\carnatic\\\\carnatic399.wav'"
      ]
     },
     "metadata": {},
     "output_type": "display_data"
    },
    {
     "name": "stderr",
     "output_type": "stream",
     "text": [
      "\r",
      " 13%|██████████▋                                                                    | 252/1873 [00:55<06:57,  3.88it/s]"
     ]
    },
    {
     "data": {
      "text/plain": [
       "'new dataset\\\\carnatic\\\\carnatic4.wav'"
      ]
     },
     "metadata": {},
     "output_type": "display_data"
    },
    {
     "name": "stderr",
     "output_type": "stream",
     "text": [
      "\r",
      " 14%|██████████▋                                                                    | 253/1873 [00:55<06:56,  3.89it/s]"
     ]
    },
    {
     "data": {
      "text/plain": [
       "'new dataset\\\\carnatic\\\\carnatic400.wav'"
      ]
     },
     "metadata": {},
     "output_type": "display_data"
    },
    {
     "name": "stderr",
     "output_type": "stream",
     "text": [
      "\r",
      " 14%|██████████▋                                                                    | 254/1873 [00:56<06:45,  3.99it/s]"
     ]
    },
    {
     "data": {
      "text/plain": [
       "'new dataset\\\\carnatic\\\\carnatic401.wav'"
      ]
     },
     "metadata": {},
     "output_type": "display_data"
    },
    {
     "name": "stderr",
     "output_type": "stream",
     "text": [
      "\r",
      " 14%|██████████▊                                                                    | 255/1873 [00:56<06:45,  3.99it/s]"
     ]
    },
    {
     "data": {
      "text/plain": [
       "'new dataset\\\\carnatic\\\\carnatic402.wav'"
      ]
     },
     "metadata": {},
     "output_type": "display_data"
    },
    {
     "name": "stderr",
     "output_type": "stream",
     "text": [
      "\r",
      " 14%|██████████▊                                                                    | 256/1873 [00:56<06:46,  3.98it/s]"
     ]
    },
    {
     "data": {
      "text/plain": [
       "'new dataset\\\\carnatic\\\\carnatic403.wav'"
      ]
     },
     "metadata": {},
     "output_type": "display_data"
    },
    {
     "name": "stderr",
     "output_type": "stream",
     "text": [
      "\r",
      " 14%|██████████▊                                                                    | 257/1873 [00:56<06:48,  3.96it/s]"
     ]
    },
    {
     "data": {
      "text/plain": [
       "'new dataset\\\\carnatic\\\\carnatic404.wav'"
      ]
     },
     "metadata": {},
     "output_type": "display_data"
    },
    {
     "name": "stderr",
     "output_type": "stream",
     "text": [
      "\r",
      " 14%|██████████▉                                                                    | 258/1873 [00:57<06:41,  4.02it/s]"
     ]
    },
    {
     "data": {
      "text/plain": [
       "'new dataset\\\\carnatic\\\\carnatic405.wav'"
      ]
     },
     "metadata": {},
     "output_type": "display_data"
    },
    {
     "name": "stderr",
     "output_type": "stream",
     "text": [
      "\r",
      " 14%|██████████▉                                                                    | 259/1873 [00:57<06:53,  3.91it/s]"
     ]
    },
    {
     "data": {
      "text/plain": [
       "'new dataset\\\\carnatic\\\\carnatic406.wav'"
      ]
     },
     "metadata": {},
     "output_type": "display_data"
    },
    {
     "name": "stderr",
     "output_type": "stream",
     "text": [
      "\r",
      " 14%|██████████▉                                                                    | 260/1873 [00:57<07:22,  3.65it/s]"
     ]
    },
    {
     "data": {
      "text/plain": [
       "'new dataset\\\\carnatic\\\\carnatic407.wav'"
      ]
     },
     "metadata": {},
     "output_type": "display_data"
    },
    {
     "name": "stderr",
     "output_type": "stream",
     "text": [
      "\r",
      " 14%|███████████                                                                    | 261/1873 [00:58<07:49,  3.43it/s]"
     ]
    },
    {
     "data": {
      "text/plain": [
       "'new dataset\\\\carnatic\\\\carnatic408.wav'"
      ]
     },
     "metadata": {},
     "output_type": "display_data"
    },
    {
     "name": "stderr",
     "output_type": "stream",
     "text": [
      "\r",
      " 14%|███████████                                                                    | 262/1873 [00:58<07:43,  3.47it/s]"
     ]
    },
    {
     "data": {
      "text/plain": [
       "'new dataset\\\\carnatic\\\\carnatic409.wav'"
      ]
     },
     "metadata": {},
     "output_type": "display_data"
    },
    {
     "name": "stderr",
     "output_type": "stream",
     "text": [
      "\r",
      " 14%|███████████                                                                    | 263/1873 [00:58<07:37,  3.52it/s]"
     ]
    },
    {
     "data": {
      "text/plain": [
       "'new dataset\\\\carnatic\\\\carnatic410.wav'"
      ]
     },
     "metadata": {},
     "output_type": "display_data"
    },
    {
     "name": "stderr",
     "output_type": "stream",
     "text": [
      "\r",
      " 14%|███████████▏                                                                   | 264/1873 [00:58<07:41,  3.49it/s]"
     ]
    },
    {
     "data": {
      "text/plain": [
       "'new dataset\\\\carnatic\\\\carnatic411.wav'"
      ]
     },
     "metadata": {},
     "output_type": "display_data"
    },
    {
     "name": "stderr",
     "output_type": "stream",
     "text": [
      "\r",
      " 14%|███████████▏                                                                   | 265/1873 [00:59<07:37,  3.51it/s]"
     ]
    },
    {
     "data": {
      "text/plain": [
       "'new dataset\\\\carnatic\\\\carnatic412.wav'"
      ]
     },
     "metadata": {},
     "output_type": "display_data"
    },
    {
     "name": "stderr",
     "output_type": "stream",
     "text": [
      "\r",
      " 14%|███████████▏                                                                   | 266/1873 [00:59<07:40,  3.49it/s]"
     ]
    },
    {
     "data": {
      "text/plain": [
       "'new dataset\\\\carnatic\\\\carnatic413.wav'"
      ]
     },
     "metadata": {},
     "output_type": "display_data"
    },
    {
     "name": "stderr",
     "output_type": "stream",
     "text": [
      "\r",
      " 14%|███████████▎                                                                   | 267/1873 [00:59<07:47,  3.44it/s]"
     ]
    },
    {
     "data": {
      "text/plain": [
       "'new dataset\\\\carnatic\\\\carnatic414.wav'"
      ]
     },
     "metadata": {},
     "output_type": "display_data"
    },
    {
     "name": "stderr",
     "output_type": "stream",
     "text": [
      "\r",
      " 14%|███████████▎                                                                   | 268/1873 [01:00<07:52,  3.40it/s]"
     ]
    },
    {
     "data": {
      "text/plain": [
       "'new dataset\\\\carnatic\\\\carnatic415.wav'"
      ]
     },
     "metadata": {},
     "output_type": "display_data"
    },
    {
     "name": "stderr",
     "output_type": "stream",
     "text": [
      "\r",
      " 14%|███████████▎                                                                   | 269/1873 [01:00<07:28,  3.58it/s]"
     ]
    },
    {
     "data": {
      "text/plain": [
       "'new dataset\\\\carnatic\\\\carnatic416.wav'"
      ]
     },
     "metadata": {},
     "output_type": "display_data"
    },
    {
     "name": "stderr",
     "output_type": "stream",
     "text": [
      "\r",
      " 14%|███████████▍                                                                   | 270/1873 [01:00<07:13,  3.70it/s]"
     ]
    },
    {
     "data": {
      "text/plain": [
       "'new dataset\\\\carnatic\\\\carnatic417.wav'"
      ]
     },
     "metadata": {},
     "output_type": "display_data"
    },
    {
     "name": "stderr",
     "output_type": "stream",
     "text": [
      "\r",
      " 14%|███████████▍                                                                   | 271/1873 [01:00<07:09,  3.73it/s]"
     ]
    },
    {
     "data": {
      "text/plain": [
       "'new dataset\\\\carnatic\\\\carnatic418.wav'"
      ]
     },
     "metadata": {},
     "output_type": "display_data"
    },
    {
     "name": "stderr",
     "output_type": "stream",
     "text": [
      "\r",
      " 15%|███████████▍                                                                   | 272/1873 [01:01<06:54,  3.86it/s]"
     ]
    },
    {
     "data": {
      "text/plain": [
       "'new dataset\\\\carnatic\\\\carnatic419.wav'"
      ]
     },
     "metadata": {},
     "output_type": "display_data"
    },
    {
     "name": "stderr",
     "output_type": "stream",
     "text": [
      "\r",
      " 15%|███████████▌                                                                   | 273/1873 [01:01<06:46,  3.94it/s]"
     ]
    },
    {
     "data": {
      "text/plain": [
       "'new dataset\\\\carnatic\\\\carnatic420.wav'"
      ]
     },
     "metadata": {},
     "output_type": "display_data"
    },
    {
     "name": "stderr",
     "output_type": "stream",
     "text": [
      "\r",
      " 15%|███████████▌                                                                   | 274/1873 [01:01<06:33,  4.06it/s]"
     ]
    },
    {
     "data": {
      "text/plain": [
       "'new dataset\\\\carnatic\\\\carnatic421.wav'"
      ]
     },
     "metadata": {},
     "output_type": "display_data"
    },
    {
     "name": "stderr",
     "output_type": "stream",
     "text": [
      "\r",
      " 15%|███████████▌                                                                   | 275/1873 [01:01<06:51,  3.89it/s]"
     ]
    },
    {
     "data": {
      "text/plain": [
       "'new dataset\\\\carnatic\\\\carnatic422.wav'"
      ]
     },
     "metadata": {},
     "output_type": "display_data"
    },
    {
     "name": "stderr",
     "output_type": "stream",
     "text": [
      "\r",
      " 15%|███████████▋                                                                   | 276/1873 [01:02<06:42,  3.97it/s]"
     ]
    },
    {
     "data": {
      "text/plain": [
       "'new dataset\\\\carnatic\\\\carnatic423.wav'"
      ]
     },
     "metadata": {},
     "output_type": "display_data"
    },
    {
     "name": "stderr",
     "output_type": "stream",
     "text": [
      "\r",
      " 15%|███████████▋                                                                   | 277/1873 [01:02<06:38,  4.01it/s]"
     ]
    },
    {
     "data": {
      "text/plain": [
       "'new dataset\\\\carnatic\\\\carnatic425.wav'"
      ]
     },
     "metadata": {},
     "output_type": "display_data"
    },
    {
     "name": "stderr",
     "output_type": "stream",
     "text": [
      "\r",
      " 15%|███████████▋                                                                   | 278/1873 [01:02<06:58,  3.81it/s]"
     ]
    },
    {
     "data": {
      "text/plain": [
       "'new dataset\\\\carnatic\\\\carnatic427.wav'"
      ]
     },
     "metadata": {},
     "output_type": "display_data"
    },
    {
     "name": "stderr",
     "output_type": "stream",
     "text": [
      "\r",
      " 15%|███████████▊                                                                   | 279/1873 [01:02<07:05,  3.75it/s]"
     ]
    },
    {
     "data": {
      "text/plain": [
       "'new dataset\\\\carnatic\\\\carnatic433.wav'"
      ]
     },
     "metadata": {},
     "output_type": "display_data"
    },
    {
     "name": "stderr",
     "output_type": "stream",
     "text": [
      "\r",
      " 15%|███████████▊                                                                   | 280/1873 [01:03<07:12,  3.68it/s]"
     ]
    },
    {
     "data": {
      "text/plain": [
       "'new dataset\\\\carnatic\\\\carnatic434.wav'"
      ]
     },
     "metadata": {},
     "output_type": "display_data"
    },
    {
     "name": "stderr",
     "output_type": "stream",
     "text": [
      "\r",
      " 15%|███████████▊                                                                   | 281/1873 [01:03<07:09,  3.71it/s]"
     ]
    },
    {
     "data": {
      "text/plain": [
       "'new dataset\\\\carnatic\\\\carnatic435.wav'"
      ]
     },
     "metadata": {},
     "output_type": "display_data"
    },
    {
     "name": "stderr",
     "output_type": "stream",
     "text": [
      "\r",
      " 15%|███████████▉                                                                   | 282/1873 [01:03<07:04,  3.74it/s]"
     ]
    },
    {
     "data": {
      "text/plain": [
       "'new dataset\\\\carnatic\\\\carnatic436.wav'"
      ]
     },
     "metadata": {},
     "output_type": "display_data"
    },
    {
     "name": "stderr",
     "output_type": "stream",
     "text": [
      "\r",
      " 15%|███████████▉                                                                   | 283/1873 [01:03<07:14,  3.66it/s]"
     ]
    },
    {
     "data": {
      "text/plain": [
       "'new dataset\\\\carnatic\\\\carnatic437.wav'"
      ]
     },
     "metadata": {},
     "output_type": "display_data"
    },
    {
     "name": "stderr",
     "output_type": "stream",
     "text": [
      "\r",
      " 15%|███████████▉                                                                   | 284/1873 [01:04<07:27,  3.55it/s]"
     ]
    },
    {
     "data": {
      "text/plain": [
       "'new dataset\\\\carnatic\\\\carnatic441.wav'"
      ]
     },
     "metadata": {},
     "output_type": "display_data"
    },
    {
     "name": "stderr",
     "output_type": "stream",
     "text": [
      "\r",
      " 15%|████████████                                                                   | 285/1873 [01:04<07:14,  3.66it/s]"
     ]
    },
    {
     "data": {
      "text/plain": [
       "'new dataset\\\\carnatic\\\\carnatic442.wav'"
      ]
     },
     "metadata": {},
     "output_type": "display_data"
    },
    {
     "name": "stderr",
     "output_type": "stream",
     "text": [
      "\r",
      " 15%|████████████                                                                   | 286/1873 [01:04<07:31,  3.52it/s]"
     ]
    },
    {
     "data": {
      "text/plain": [
       "'new dataset\\\\carnatic\\\\carnatic443.wav'"
      ]
     },
     "metadata": {},
     "output_type": "display_data"
    },
    {
     "name": "stderr",
     "output_type": "stream",
     "text": [
      "\r",
      " 15%|████████████                                                                   | 287/1873 [01:05<07:12,  3.67it/s]"
     ]
    },
    {
     "data": {
      "text/plain": [
       "'new dataset\\\\carnatic\\\\carnatic444.wav'"
      ]
     },
     "metadata": {},
     "output_type": "display_data"
    },
    {
     "name": "stderr",
     "output_type": "stream",
     "text": [
      "\r",
      " 15%|████████████▏                                                                  | 288/1873 [01:05<06:52,  3.84it/s]"
     ]
    },
    {
     "data": {
      "text/plain": [
       "'new dataset\\\\carnatic\\\\carnatic445.wav'"
      ]
     },
     "metadata": {},
     "output_type": "display_data"
    },
    {
     "name": "stderr",
     "output_type": "stream",
     "text": [
      "\r",
      " 15%|████████████▏                                                                  | 289/1873 [01:05<06:46,  3.90it/s]"
     ]
    },
    {
     "data": {
      "text/plain": [
       "'new dataset\\\\carnatic\\\\carnatic446.wav'"
      ]
     },
     "metadata": {},
     "output_type": "display_data"
    },
    {
     "name": "stderr",
     "output_type": "stream",
     "text": [
      "\r",
      " 15%|████████████▏                                                                  | 290/1873 [01:05<06:39,  3.97it/s]"
     ]
    },
    {
     "data": {
      "text/plain": [
       "'new dataset\\\\carnatic\\\\carnatic447.wav'"
      ]
     },
     "metadata": {},
     "output_type": "display_data"
    },
    {
     "name": "stderr",
     "output_type": "stream",
     "text": [
      "\r",
      " 16%|████████████▎                                                                  | 291/1873 [01:06<06:39,  3.96it/s]"
     ]
    },
    {
     "data": {
      "text/plain": [
       "'new dataset\\\\carnatic\\\\carnatic448.wav'"
      ]
     },
     "metadata": {},
     "output_type": "display_data"
    },
    {
     "name": "stderr",
     "output_type": "stream",
     "text": [
      "\r",
      " 16%|████████████▎                                                                  | 292/1873 [01:06<06:37,  3.98it/s]"
     ]
    },
    {
     "data": {
      "text/plain": [
       "'new dataset\\\\carnatic\\\\carnatic449.wav'"
      ]
     },
     "metadata": {},
     "output_type": "display_data"
    },
    {
     "name": "stderr",
     "output_type": "stream",
     "text": [
      "\r",
      " 16%|████████████▎                                                                  | 293/1873 [01:06<06:28,  4.06it/s]"
     ]
    },
    {
     "data": {
      "text/plain": [
       "'new dataset\\\\carnatic\\\\carnatic450.wav'"
      ]
     },
     "metadata": {},
     "output_type": "display_data"
    },
    {
     "name": "stderr",
     "output_type": "stream",
     "text": [
      "\r",
      " 16%|████████████▍                                                                  | 294/1873 [01:06<06:24,  4.10it/s]"
     ]
    },
    {
     "data": {
      "text/plain": [
       "'new dataset\\\\carnatic\\\\carnatic462.wav'"
      ]
     },
     "metadata": {},
     "output_type": "display_data"
    },
    {
     "name": "stderr",
     "output_type": "stream",
     "text": [
      "\r",
      " 16%|████████████▍                                                                  | 295/1873 [01:06<06:22,  4.13it/s]"
     ]
    },
    {
     "data": {
      "text/plain": [
       "'new dataset\\\\carnatic\\\\carnatic463.wav'"
      ]
     },
     "metadata": {},
     "output_type": "display_data"
    },
    {
     "name": "stderr",
     "output_type": "stream",
     "text": [
      "\r",
      " 16%|████████████▍                                                                  | 296/1873 [01:07<06:23,  4.11it/s]"
     ]
    },
    {
     "data": {
      "text/plain": [
       "'new dataset\\\\carnatic\\\\carnatic464.wav'"
      ]
     },
     "metadata": {},
     "output_type": "display_data"
    },
    {
     "name": "stderr",
     "output_type": "stream",
     "text": [
      "\r",
      " 16%|████████████▌                                                                  | 297/1873 [01:07<06:17,  4.18it/s]"
     ]
    },
    {
     "data": {
      "text/plain": [
       "'new dataset\\\\carnatic\\\\carnatic465.wav'"
      ]
     },
     "metadata": {},
     "output_type": "display_data"
    },
    {
     "name": "stderr",
     "output_type": "stream",
     "text": [
      "\r",
      " 16%|████████████▌                                                                  | 298/1873 [01:07<06:14,  4.20it/s]"
     ]
    },
    {
     "data": {
      "text/plain": [
       "'new dataset\\\\carnatic\\\\carnatic466.wav'"
      ]
     },
     "metadata": {},
     "output_type": "display_data"
    },
    {
     "name": "stderr",
     "output_type": "stream",
     "text": [
      "\r",
      " 16%|████████████▌                                                                  | 299/1873 [01:07<06:10,  4.25it/s]"
     ]
    },
    {
     "data": {
      "text/plain": [
       "'new dataset\\\\carnatic\\\\carnatic467.wav'"
      ]
     },
     "metadata": {},
     "output_type": "display_data"
    },
    {
     "name": "stderr",
     "output_type": "stream",
     "text": [
      "\r",
      " 16%|████████████▋                                                                  | 300/1873 [01:08<06:33,  3.99it/s]"
     ]
    },
    {
     "data": {
      "text/plain": [
       "'new dataset\\\\carnatic\\\\carnatic468.wav'"
      ]
     },
     "metadata": {},
     "output_type": "display_data"
    },
    {
     "name": "stderr",
     "output_type": "stream",
     "text": [
      "\r",
      " 16%|████████████▋                                                                  | 301/1873 [01:08<06:34,  3.99it/s]"
     ]
    },
    {
     "data": {
      "text/plain": [
       "'new dataset\\\\carnatic\\\\carnatic469.wav'"
      ]
     },
     "metadata": {},
     "output_type": "display_data"
    },
    {
     "name": "stderr",
     "output_type": "stream",
     "text": [
      "\r",
      " 16%|████████████▋                                                                  | 302/1873 [01:08<06:24,  4.09it/s]"
     ]
    },
    {
     "data": {
      "text/plain": [
       "'new dataset\\\\carnatic\\\\carnatic47.wav'"
      ]
     },
     "metadata": {},
     "output_type": "display_data"
    },
    {
     "name": "stderr",
     "output_type": "stream",
     "text": [
      "\r",
      " 16%|████████████▊                                                                  | 303/1873 [01:08<06:19,  4.14it/s]"
     ]
    },
    {
     "data": {
      "text/plain": [
       "'new dataset\\\\carnatic\\\\carnatic470.wav'"
      ]
     },
     "metadata": {},
     "output_type": "display_data"
    },
    {
     "name": "stderr",
     "output_type": "stream",
     "text": [
      "\r",
      " 16%|████████████▊                                                                  | 304/1873 [01:09<06:16,  4.17it/s]"
     ]
    },
    {
     "data": {
      "text/plain": [
       "'new dataset\\\\carnatic\\\\carnatic471.wav'"
      ]
     },
     "metadata": {},
     "output_type": "display_data"
    },
    {
     "name": "stderr",
     "output_type": "stream",
     "text": [
      "\r",
      " 16%|████████████▊                                                                  | 305/1873 [01:09<06:14,  4.19it/s]"
     ]
    },
    {
     "data": {
      "text/plain": [
       "'new dataset\\\\carnatic\\\\carnatic472.wav'"
      ]
     },
     "metadata": {},
     "output_type": "display_data"
    },
    {
     "name": "stderr",
     "output_type": "stream",
     "text": [
      "\r",
      " 16%|████████████▉                                                                  | 306/1873 [01:09<06:17,  4.16it/s]"
     ]
    },
    {
     "data": {
      "text/plain": [
       "'new dataset\\\\carnatic\\\\carnatic473.wav'"
      ]
     },
     "metadata": {},
     "output_type": "display_data"
    },
    {
     "name": "stderr",
     "output_type": "stream",
     "text": [
      "\r",
      " 16%|████████████▉                                                                  | 307/1873 [01:09<06:19,  4.12it/s]"
     ]
    },
    {
     "data": {
      "text/plain": [
       "'new dataset\\\\carnatic\\\\carnatic474.wav'"
      ]
     },
     "metadata": {},
     "output_type": "display_data"
    },
    {
     "name": "stderr",
     "output_type": "stream",
     "text": [
      "\r",
      " 16%|████████████▉                                                                  | 308/1873 [01:10<06:12,  4.20it/s]"
     ]
    },
    {
     "data": {
      "text/plain": [
       "'new dataset\\\\carnatic\\\\carnatic475.wav'"
      ]
     },
     "metadata": {},
     "output_type": "display_data"
    },
    {
     "name": "stderr",
     "output_type": "stream",
     "text": [
      "\r",
      " 16%|█████████████                                                                  | 309/1873 [01:10<06:17,  4.14it/s]"
     ]
    },
    {
     "data": {
      "text/plain": [
       "'new dataset\\\\carnatic\\\\carnatic476.wav'"
      ]
     },
     "metadata": {},
     "output_type": "display_data"
    },
    {
     "name": "stderr",
     "output_type": "stream",
     "text": [
      "\r",
      " 17%|█████████████                                                                  | 310/1873 [01:10<06:10,  4.22it/s]"
     ]
    },
    {
     "data": {
      "text/plain": [
       "'new dataset\\\\carnatic\\\\carnatic477.wav'"
      ]
     },
     "metadata": {},
     "output_type": "display_data"
    },
    {
     "name": "stderr",
     "output_type": "stream",
     "text": [
      "\r",
      " 17%|█████████████                                                                  | 311/1873 [01:10<06:08,  4.24it/s]"
     ]
    },
    {
     "data": {
      "text/plain": [
       "'new dataset\\\\carnatic\\\\carnatic478.wav'"
      ]
     },
     "metadata": {},
     "output_type": "display_data"
    },
    {
     "name": "stderr",
     "output_type": "stream",
     "text": [
      "\r",
      " 17%|█████████████▏                                                                 | 312/1873 [01:11<06:05,  4.27it/s]"
     ]
    },
    {
     "data": {
      "text/plain": [
       "'new dataset\\\\carnatic\\\\carnatic479.wav'"
      ]
     },
     "metadata": {},
     "output_type": "display_data"
    },
    {
     "name": "stderr",
     "output_type": "stream",
     "text": [
      "\r",
      " 17%|█████████████▏                                                                 | 313/1873 [01:11<06:03,  4.29it/s]"
     ]
    },
    {
     "data": {
      "text/plain": [
       "'new dataset\\\\carnatic\\\\carnatic48.wav'"
      ]
     },
     "metadata": {},
     "output_type": "display_data"
    },
    {
     "name": "stderr",
     "output_type": "stream",
     "text": [
      "\r",
      " 17%|█████████████▏                                                                 | 314/1873 [01:11<06:06,  4.26it/s]"
     ]
    },
    {
     "data": {
      "text/plain": [
       "'new dataset\\\\carnatic\\\\carnatic480.wav'"
      ]
     },
     "metadata": {},
     "output_type": "display_data"
    },
    {
     "name": "stderr",
     "output_type": "stream",
     "text": [
      "\r",
      " 17%|█████████████▎                                                                 | 315/1873 [01:11<06:04,  4.27it/s]"
     ]
    },
    {
     "data": {
      "text/plain": [
       "'new dataset\\\\carnatic\\\\carnatic481.wav'"
      ]
     },
     "metadata": {},
     "output_type": "display_data"
    },
    {
     "name": "stderr",
     "output_type": "stream",
     "text": [
      "\r",
      " 17%|█████████████▎                                                                 | 316/1873 [01:12<06:16,  4.13it/s]"
     ]
    },
    {
     "data": {
      "text/plain": [
       "'new dataset\\\\carnatic\\\\carnatic482.wav'"
      ]
     },
     "metadata": {},
     "output_type": "display_data"
    },
    {
     "name": "stderr",
     "output_type": "stream",
     "text": [
      "\r",
      " 17%|█████████████▎                                                                 | 317/1873 [01:12<06:17,  4.12it/s]"
     ]
    },
    {
     "data": {
      "text/plain": [
       "'new dataset\\\\carnatic\\\\carnatic483.wav'"
      ]
     },
     "metadata": {},
     "output_type": "display_data"
    },
    {
     "name": "stderr",
     "output_type": "stream",
     "text": [
      "\r",
      " 17%|█████████████▍                                                                 | 318/1873 [01:12<06:13,  4.16it/s]"
     ]
    },
    {
     "data": {
      "text/plain": [
       "'new dataset\\\\carnatic\\\\carnatic484.wav'"
      ]
     },
     "metadata": {},
     "output_type": "display_data"
    },
    {
     "name": "stderr",
     "output_type": "stream",
     "text": [
      "\r",
      " 17%|█████████████▍                                                                 | 319/1873 [01:12<06:17,  4.12it/s]"
     ]
    },
    {
     "data": {
      "text/plain": [
       "'new dataset\\\\carnatic\\\\carnatic485.wav'"
      ]
     },
     "metadata": {},
     "output_type": "display_data"
    },
    {
     "name": "stderr",
     "output_type": "stream",
     "text": [
      "\r",
      " 17%|█████████████▍                                                                 | 320/1873 [01:12<06:20,  4.08it/s]"
     ]
    },
    {
     "data": {
      "text/plain": [
       "'new dataset\\\\carnatic\\\\carnatic486.wav'"
      ]
     },
     "metadata": {},
     "output_type": "display_data"
    },
    {
     "name": "stderr",
     "output_type": "stream",
     "text": [
      "\r",
      " 17%|█████████████▌                                                                 | 321/1873 [01:13<06:17,  4.11it/s]"
     ]
    },
    {
     "data": {
      "text/plain": [
       "'new dataset\\\\carnatic\\\\carnatic487.wav'"
      ]
     },
     "metadata": {},
     "output_type": "display_data"
    },
    {
     "name": "stderr",
     "output_type": "stream",
     "text": [
      "\r",
      " 17%|█████████████▌                                                                 | 322/1873 [01:13<06:13,  4.15it/s]"
     ]
    },
    {
     "data": {
      "text/plain": [
       "'new dataset\\\\carnatic\\\\carnatic488.wav'"
      ]
     },
     "metadata": {},
     "output_type": "display_data"
    },
    {
     "name": "stderr",
     "output_type": "stream",
     "text": [
      "\r",
      " 17%|█████████████▌                                                                 | 323/1873 [01:13<06:11,  4.17it/s]"
     ]
    },
    {
     "data": {
      "text/plain": [
       "'new dataset\\\\carnatic\\\\carnatic489.wav'"
      ]
     },
     "metadata": {},
     "output_type": "display_data"
    },
    {
     "name": "stderr",
     "output_type": "stream",
     "text": [
      "\r",
      " 17%|█████████████▋                                                                 | 324/1873 [01:13<06:09,  4.19it/s]"
     ]
    },
    {
     "data": {
      "text/plain": [
       "'new dataset\\\\carnatic\\\\carnatic490.wav'"
      ]
     },
     "metadata": {},
     "output_type": "display_data"
    },
    {
     "name": "stderr",
     "output_type": "stream",
     "text": [
      "\r",
      " 17%|█████████████▋                                                                 | 325/1873 [01:14<06:06,  4.23it/s]"
     ]
    },
    {
     "data": {
      "text/plain": [
       "'new dataset\\\\carnatic\\\\carnatic491.wav'"
      ]
     },
     "metadata": {},
     "output_type": "display_data"
    },
    {
     "name": "stderr",
     "output_type": "stream",
     "text": [
      "\r",
      " 17%|█████████████▊                                                                 | 326/1873 [01:14<06:04,  4.24it/s]"
     ]
    },
    {
     "data": {
      "text/plain": [
       "'new dataset\\\\carnatic\\\\carnatic492.wav'"
      ]
     },
     "metadata": {},
     "output_type": "display_data"
    },
    {
     "name": "stderr",
     "output_type": "stream",
     "text": [
      "\r",
      " 17%|█████████████▊                                                                 | 327/1873 [01:14<06:01,  4.27it/s]"
     ]
    },
    {
     "data": {
      "text/plain": [
       "'new dataset\\\\carnatic\\\\carnatic493.wav'"
      ]
     },
     "metadata": {},
     "output_type": "display_data"
    },
    {
     "name": "stderr",
     "output_type": "stream",
     "text": [
      "\r",
      " 18%|█████████████▊                                                                 | 328/1873 [01:14<06:12,  4.15it/s]"
     ]
    },
    {
     "data": {
      "text/plain": [
       "'new dataset\\\\carnatic\\\\carnatic494.wav'"
      ]
     },
     "metadata": {},
     "output_type": "display_data"
    },
    {
     "name": "stderr",
     "output_type": "stream",
     "text": [
      "\r",
      " 18%|█████████████▉                                                                 | 329/1873 [01:15<06:27,  3.99it/s]"
     ]
    },
    {
     "data": {
      "text/plain": [
       "'new dataset\\\\carnatic\\\\carnatic495.wav'"
      ]
     },
     "metadata": {},
     "output_type": "display_data"
    },
    {
     "name": "stderr",
     "output_type": "stream",
     "text": [
      "\r",
      " 18%|█████████████▉                                                                 | 330/1873 [01:15<06:13,  4.13it/s]"
     ]
    },
    {
     "data": {
      "text/plain": [
       "'new dataset\\\\carnatic\\\\carnatic496.wav'"
      ]
     },
     "metadata": {},
     "output_type": "display_data"
    },
    {
     "name": "stderr",
     "output_type": "stream",
     "text": [
      "\r",
      " 18%|█████████████▉                                                                 | 331/1873 [01:15<06:07,  4.20it/s]"
     ]
    },
    {
     "data": {
      "text/plain": [
       "'new dataset\\\\carnatic\\\\carnatic497.wav'"
      ]
     },
     "metadata": {},
     "output_type": "display_data"
    },
    {
     "name": "stderr",
     "output_type": "stream",
     "text": [
      "\r",
      " 18%|██████████████                                                                 | 332/1873 [01:15<06:06,  4.21it/s]"
     ]
    },
    {
     "data": {
      "text/plain": [
       "'new dataset\\\\carnatic\\\\carnatic498.wav'"
      ]
     },
     "metadata": {},
     "output_type": "display_data"
    },
    {
     "name": "stderr",
     "output_type": "stream",
     "text": [
      "\r",
      " 18%|██████████████                                                                 | 333/1873 [01:16<06:05,  4.22it/s]"
     ]
    },
    {
     "data": {
      "text/plain": [
       "'new dataset\\\\carnatic\\\\carnatic499.wav'"
      ]
     },
     "metadata": {},
     "output_type": "display_data"
    },
    {
     "name": "stderr",
     "output_type": "stream",
     "text": [
      "\r",
      " 18%|██████████████                                                                 | 334/1873 [01:16<06:02,  4.24it/s]"
     ]
    },
    {
     "data": {
      "text/plain": [
       "'new dataset\\\\carnatic\\\\carnatic5.wav'"
      ]
     },
     "metadata": {},
     "output_type": "display_data"
    },
    {
     "name": "stderr",
     "output_type": "stream",
     "text": [
      "\r",
      " 18%|██████████████▏                                                                | 335/1873 [01:16<06:00,  4.26it/s]"
     ]
    },
    {
     "data": {
      "text/plain": [
       "'new dataset\\\\carnatic\\\\carnatic510.wav'"
      ]
     },
     "metadata": {},
     "output_type": "display_data"
    },
    {
     "name": "stderr",
     "output_type": "stream",
     "text": [
      "\r",
      " 18%|██████████████▏                                                                | 336/1873 [01:16<05:59,  4.28it/s]"
     ]
    },
    {
     "data": {
      "text/plain": [
       "'new dataset\\\\carnatic\\\\carnatic512.wav'"
      ]
     },
     "metadata": {},
     "output_type": "display_data"
    },
    {
     "name": "stderr",
     "output_type": "stream",
     "text": [
      "\r",
      " 18%|██████████████▏                                                                | 337/1873 [01:17<05:56,  4.31it/s]"
     ]
    },
    {
     "data": {
      "text/plain": [
       "'new dataset\\\\carnatic\\\\carnatic513.wav'"
      ]
     },
     "metadata": {},
     "output_type": "display_data"
    },
    {
     "name": "stderr",
     "output_type": "stream",
     "text": [
      "\r",
      " 18%|██████████████▎                                                                | 338/1873 [01:17<06:09,  4.15it/s]"
     ]
    },
    {
     "data": {
      "text/plain": [
       "'new dataset\\\\carnatic\\\\carnatic514.wav'"
      ]
     },
     "metadata": {},
     "output_type": "display_data"
    },
    {
     "name": "stderr",
     "output_type": "stream",
     "text": [
      "\r",
      " 18%|██████████████▎                                                                | 339/1873 [01:17<06:01,  4.24it/s]"
     ]
    },
    {
     "data": {
      "text/plain": [
       "'new dataset\\\\carnatic\\\\carnatic515.wav'"
      ]
     },
     "metadata": {},
     "output_type": "display_data"
    },
    {
     "name": "stderr",
     "output_type": "stream",
     "text": [
      "\r",
      " 18%|██████████████▎                                                                | 340/1873 [01:17<06:02,  4.23it/s]"
     ]
    },
    {
     "data": {
      "text/plain": [
       "'new dataset\\\\carnatic\\\\carnatic516.wav'"
      ]
     },
     "metadata": {},
     "output_type": "display_data"
    },
    {
     "name": "stderr",
     "output_type": "stream",
     "text": [
      "\r",
      " 18%|██████████████▍                                                                | 341/1873 [01:17<06:00,  4.25it/s]"
     ]
    },
    {
     "data": {
      "text/plain": [
       "'new dataset\\\\carnatic\\\\carnatic517.wav'"
      ]
     },
     "metadata": {},
     "output_type": "display_data"
    },
    {
     "name": "stderr",
     "output_type": "stream",
     "text": [
      "\r",
      " 18%|██████████████▍                                                                | 342/1873 [01:18<05:59,  4.26it/s]"
     ]
    },
    {
     "data": {
      "text/plain": [
       "'new dataset\\\\carnatic\\\\carnatic518.wav'"
      ]
     },
     "metadata": {},
     "output_type": "display_data"
    },
    {
     "name": "stderr",
     "output_type": "stream",
     "text": [
      "\r",
      " 18%|██████████████▍                                                                | 343/1873 [01:18<05:58,  4.26it/s]"
     ]
    },
    {
     "data": {
      "text/plain": [
       "'new dataset\\\\carnatic\\\\carnatic519.wav'"
      ]
     },
     "metadata": {},
     "output_type": "display_data"
    },
    {
     "name": "stderr",
     "output_type": "stream",
     "text": [
      "\r",
      " 18%|██████████████▌                                                                | 344/1873 [01:18<05:57,  4.28it/s]"
     ]
    },
    {
     "data": {
      "text/plain": [
       "'new dataset\\\\carnatic\\\\carnatic520.wav'"
      ]
     },
     "metadata": {},
     "output_type": "display_data"
    },
    {
     "name": "stderr",
     "output_type": "stream",
     "text": [
      "\r",
      " 18%|██████████████▌                                                                | 345/1873 [01:18<06:00,  4.24it/s]"
     ]
    },
    {
     "data": {
      "text/plain": [
       "'new dataset\\\\carnatic\\\\carnatic521.wav'"
      ]
     },
     "metadata": {},
     "output_type": "display_data"
    },
    {
     "name": "stderr",
     "output_type": "stream",
     "text": [
      "\r",
      " 18%|██████████████▌                                                                | 346/1873 [01:19<06:01,  4.22it/s]"
     ]
    },
    {
     "data": {
      "text/plain": [
       "'new dataset\\\\carnatic\\\\carnatic522.wav'"
      ]
     },
     "metadata": {},
     "output_type": "display_data"
    },
    {
     "name": "stderr",
     "output_type": "stream",
     "text": [
      "\r",
      " 19%|██████████████▋                                                                | 347/1873 [01:19<06:02,  4.21it/s]"
     ]
    },
    {
     "data": {
      "text/plain": [
       "'new dataset\\\\carnatic\\\\carnatic523.wav'"
      ]
     },
     "metadata": {},
     "output_type": "display_data"
    },
    {
     "name": "stderr",
     "output_type": "stream",
     "text": [
      "\r",
      " 19%|██████████████▋                                                                | 348/1873 [01:19<06:08,  4.14it/s]"
     ]
    },
    {
     "data": {
      "text/plain": [
       "'new dataset\\\\carnatic\\\\carnatic525.wav'"
      ]
     },
     "metadata": {},
     "output_type": "display_data"
    },
    {
     "name": "stderr",
     "output_type": "stream",
     "text": [
      "\r",
      " 19%|██████████████▋                                                                | 349/1873 [01:19<06:00,  4.23it/s]"
     ]
    },
    {
     "data": {
      "text/plain": [
       "'new dataset\\\\carnatic\\\\carnatic526.wav'"
      ]
     },
     "metadata": {},
     "output_type": "display_data"
    },
    {
     "name": "stderr",
     "output_type": "stream",
     "text": [
      "\r",
      " 19%|██████████████▊                                                                | 350/1873 [01:20<06:08,  4.13it/s]"
     ]
    },
    {
     "data": {
      "text/plain": [
       "'new dataset\\\\carnatic\\\\carnatic527.wav'"
      ]
     },
     "metadata": {},
     "output_type": "display_data"
    },
    {
     "name": "stderr",
     "output_type": "stream",
     "text": [
      "\r",
      " 19%|██████████████▊                                                                | 351/1873 [01:20<06:01,  4.21it/s]"
     ]
    },
    {
     "data": {
      "text/plain": [
       "'new dataset\\\\carnatic\\\\carnatic528.wav'"
      ]
     },
     "metadata": {},
     "output_type": "display_data"
    },
    {
     "name": "stderr",
     "output_type": "stream",
     "text": [
      "\r",
      " 19%|██████████████▊                                                                | 352/1873 [01:20<06:07,  4.14it/s]"
     ]
    },
    {
     "data": {
      "text/plain": [
       "'new dataset\\\\carnatic\\\\carnatic529.wav'"
      ]
     },
     "metadata": {},
     "output_type": "display_data"
    },
    {
     "name": "stderr",
     "output_type": "stream",
     "text": [
      "\r",
      " 19%|██████████████▉                                                                | 353/1873 [01:20<06:03,  4.19it/s]"
     ]
    },
    {
     "data": {
      "text/plain": [
       "'new dataset\\\\carnatic\\\\carnatic530.wav'"
      ]
     },
     "metadata": {},
     "output_type": "display_data"
    },
    {
     "name": "stderr",
     "output_type": "stream",
     "text": [
      "\r",
      " 19%|██████████████▉                                                                | 354/1873 [01:21<06:00,  4.22it/s]"
     ]
    },
    {
     "data": {
      "text/plain": [
       "'new dataset\\\\carnatic\\\\carnatic531.wav'"
      ]
     },
     "metadata": {},
     "output_type": "display_data"
    },
    {
     "name": "stderr",
     "output_type": "stream",
     "text": [
      "\r",
      " 19%|██████████████▉                                                                | 355/1873 [01:21<05:55,  4.26it/s]"
     ]
    },
    {
     "data": {
      "text/plain": [
       "'new dataset\\\\carnatic\\\\carnatic532.wav'"
      ]
     },
     "metadata": {},
     "output_type": "display_data"
    },
    {
     "name": "stderr",
     "output_type": "stream",
     "text": [
      "\r",
      " 19%|███████████████                                                                | 356/1873 [01:21<05:53,  4.29it/s]"
     ]
    },
    {
     "data": {
      "text/plain": [
       "'new dataset\\\\carnatic\\\\carnatic533.wav'"
      ]
     },
     "metadata": {},
     "output_type": "display_data"
    },
    {
     "name": "stderr",
     "output_type": "stream",
     "text": [
      "\r",
      " 19%|███████████████                                                                | 357/1873 [01:21<05:55,  4.26it/s]"
     ]
    },
    {
     "data": {
      "text/plain": [
       "'new dataset\\\\carnatic\\\\carnatic534.wav'"
      ]
     },
     "metadata": {},
     "output_type": "display_data"
    },
    {
     "name": "stderr",
     "output_type": "stream",
     "text": [
      "\r",
      " 19%|███████████████                                                                | 358/1873 [01:21<05:52,  4.30it/s]"
     ]
    },
    {
     "data": {
      "text/plain": [
       "'new dataset\\\\carnatic\\\\carnatic535.wav'"
      ]
     },
     "metadata": {},
     "output_type": "display_data"
    },
    {
     "name": "stderr",
     "output_type": "stream",
     "text": [
      "\r",
      " 19%|███████████████▏                                                               | 359/1873 [01:22<05:58,  4.23it/s]"
     ]
    },
    {
     "data": {
      "text/plain": [
       "'new dataset\\\\carnatic\\\\carnatic536.wav'"
      ]
     },
     "metadata": {},
     "output_type": "display_data"
    },
    {
     "name": "stderr",
     "output_type": "stream",
     "text": [
      "\r",
      " 19%|███████████████▏                                                               | 360/1873 [01:22<06:13,  4.05it/s]"
     ]
    },
    {
     "data": {
      "text/plain": [
       "'new dataset\\\\carnatic\\\\carnatic537.wav'"
      ]
     },
     "metadata": {},
     "output_type": "display_data"
    },
    {
     "name": "stderr",
     "output_type": "stream",
     "text": [
      "\r",
      " 19%|███████████████▏                                                               | 361/1873 [01:22<06:16,  4.01it/s]"
     ]
    },
    {
     "data": {
      "text/plain": [
       "'new dataset\\\\carnatic\\\\carnatic538.wav'"
      ]
     },
     "metadata": {},
     "output_type": "display_data"
    },
    {
     "name": "stderr",
     "output_type": "stream",
     "text": [
      "\r",
      " 19%|███████████████▎                                                               | 362/1873 [01:22<06:12,  4.06it/s]"
     ]
    },
    {
     "data": {
      "text/plain": [
       "'new dataset\\\\carnatic\\\\carnatic539.wav'"
      ]
     },
     "metadata": {},
     "output_type": "display_data"
    },
    {
     "name": "stderr",
     "output_type": "stream",
     "text": [
      "\r",
      " 19%|███████████████▎                                                               | 363/1873 [01:23<06:07,  4.11it/s]"
     ]
    },
    {
     "data": {
      "text/plain": [
       "'new dataset\\\\carnatic\\\\carnatic540.wav'"
      ]
     },
     "metadata": {},
     "output_type": "display_data"
    },
    {
     "name": "stderr",
     "output_type": "stream",
     "text": [
      "\r",
      " 19%|███████████████▎                                                               | 364/1873 [01:23<06:09,  4.08it/s]"
     ]
    },
    {
     "data": {
      "text/plain": [
       "'new dataset\\\\carnatic\\\\carnatic541.wav'"
      ]
     },
     "metadata": {},
     "output_type": "display_data"
    },
    {
     "name": "stderr",
     "output_type": "stream",
     "text": [
      "\r",
      " 19%|███████████████▍                                                               | 365/1873 [01:23<06:06,  4.11it/s]"
     ]
    },
    {
     "data": {
      "text/plain": [
       "'new dataset\\\\carnatic\\\\carnatic542.wav'"
      ]
     },
     "metadata": {},
     "output_type": "display_data"
    },
    {
     "name": "stderr",
     "output_type": "stream",
     "text": [
      "\r",
      " 20%|███████████████▍                                                               | 366/1873 [01:23<06:11,  4.06it/s]"
     ]
    },
    {
     "data": {
      "text/plain": [
       "'new dataset\\\\carnatic\\\\carnatic543.wav'"
      ]
     },
     "metadata": {},
     "output_type": "display_data"
    },
    {
     "name": "stderr",
     "output_type": "stream",
     "text": [
      "\r",
      " 20%|███████████████▍                                                               | 367/1873 [01:24<06:06,  4.11it/s]"
     ]
    },
    {
     "data": {
      "text/plain": [
       "'new dataset\\\\carnatic\\\\carnatic544.wav'"
      ]
     },
     "metadata": {},
     "output_type": "display_data"
    },
    {
     "name": "stderr",
     "output_type": "stream",
     "text": [
      "\r",
      " 20%|███████████████▌                                                               | 368/1873 [01:24<05:59,  4.19it/s]"
     ]
    },
    {
     "data": {
      "text/plain": [
       "'new dataset\\\\carnatic\\\\carnatic545.wav'"
      ]
     },
     "metadata": {},
     "output_type": "display_data"
    },
    {
     "name": "stderr",
     "output_type": "stream",
     "text": [
      "\r",
      " 20%|███████████████▌                                                               | 369/1873 [01:24<05:54,  4.24it/s]"
     ]
    },
    {
     "data": {
      "text/plain": [
       "'new dataset\\\\carnatic\\\\carnatic546.wav'"
      ]
     },
     "metadata": {},
     "output_type": "display_data"
    },
    {
     "name": "stderr",
     "output_type": "stream",
     "text": [
      "\r",
      " 20%|███████████████▌                                                               | 370/1873 [01:24<05:48,  4.31it/s]"
     ]
    },
    {
     "data": {
      "text/plain": [
       "'new dataset\\\\carnatic\\\\carnatic547.wav'"
      ]
     },
     "metadata": {},
     "output_type": "display_data"
    },
    {
     "name": "stderr",
     "output_type": "stream",
     "text": [
      "\r",
      " 20%|███████████████▋                                                               | 371/1873 [01:25<05:51,  4.27it/s]"
     ]
    },
    {
     "data": {
      "text/plain": [
       "'new dataset\\\\carnatic\\\\carnatic548.wav'"
      ]
     },
     "metadata": {},
     "output_type": "display_data"
    },
    {
     "name": "stderr",
     "output_type": "stream",
     "text": [
      "\r",
      " 20%|███████████████▋                                                               | 372/1873 [01:25<05:53,  4.25it/s]"
     ]
    },
    {
     "data": {
      "text/plain": [
       "'new dataset\\\\carnatic\\\\carnatic549.wav'"
      ]
     },
     "metadata": {},
     "output_type": "display_data"
    },
    {
     "name": "stderr",
     "output_type": "stream",
     "text": [
      "\r",
      " 20%|███████████████▋                                                               | 373/1873 [01:25<05:56,  4.21it/s]"
     ]
    },
    {
     "data": {
      "text/plain": [
       "'new dataset\\\\carnatic\\\\carnatic550.wav'"
      ]
     },
     "metadata": {},
     "output_type": "display_data"
    },
    {
     "name": "stderr",
     "output_type": "stream",
     "text": [
      "\r",
      " 20%|███████████████▊                                                               | 374/1873 [01:25<05:58,  4.18it/s]"
     ]
    },
    {
     "data": {
      "text/plain": [
       "'new dataset\\\\carnatic\\\\carnatic551.wav'"
      ]
     },
     "metadata": {},
     "output_type": "display_data"
    },
    {
     "name": "stderr",
     "output_type": "stream",
     "text": [
      "\r",
      " 20%|███████████████▊                                                               | 375/1873 [01:26<06:00,  4.15it/s]"
     ]
    },
    {
     "data": {
      "text/plain": [
       "'new dataset\\\\carnatic\\\\carnatic552.wav'"
      ]
     },
     "metadata": {},
     "output_type": "display_data"
    },
    {
     "name": "stderr",
     "output_type": "stream",
     "text": [
      "\r",
      " 20%|███████████████▊                                                               | 376/1873 [01:26<06:06,  4.09it/s]"
     ]
    },
    {
     "data": {
      "text/plain": [
       "'new dataset\\\\carnatic\\\\carnatic553.wav'"
      ]
     },
     "metadata": {},
     "output_type": "display_data"
    },
    {
     "name": "stderr",
     "output_type": "stream",
     "text": [
      "\r",
      " 20%|███████████████▉                                                               | 377/1873 [01:26<06:01,  4.14it/s]"
     ]
    },
    {
     "data": {
      "text/plain": [
       "'new dataset\\\\carnatic\\\\carnatic554.wav'"
      ]
     },
     "metadata": {},
     "output_type": "display_data"
    },
    {
     "name": "stderr",
     "output_type": "stream",
     "text": [
      "\r",
      " 20%|███████████████▉                                                               | 378/1873 [01:26<05:54,  4.21it/s]"
     ]
    },
    {
     "data": {
      "text/plain": [
       "'new dataset\\\\carnatic\\\\carnatic555.wav'"
      ]
     },
     "metadata": {},
     "output_type": "display_data"
    },
    {
     "name": "stderr",
     "output_type": "stream",
     "text": [
      "\r",
      " 20%|███████████████▉                                                               | 379/1873 [01:27<05:50,  4.26it/s]"
     ]
    },
    {
     "data": {
      "text/plain": [
       "'new dataset\\\\carnatic\\\\carnatic556.wav'"
      ]
     },
     "metadata": {},
     "output_type": "display_data"
    },
    {
     "name": "stderr",
     "output_type": "stream",
     "text": [
      "\r",
      " 20%|████████████████                                                               | 380/1873 [01:27<06:33,  3.79it/s]"
     ]
    },
    {
     "data": {
      "text/plain": [
       "'new dataset\\\\carnatic\\\\carnatic557.wav'"
      ]
     },
     "metadata": {},
     "output_type": "display_data"
    },
    {
     "name": "stderr",
     "output_type": "stream",
     "text": [
      "\r",
      " 20%|████████████████                                                               | 381/1873 [01:27<06:14,  3.98it/s]"
     ]
    },
    {
     "data": {
      "text/plain": [
       "'new dataset\\\\carnatic\\\\carnatic560.wav'"
      ]
     },
     "metadata": {},
     "output_type": "display_data"
    },
    {
     "name": "stderr",
     "output_type": "stream",
     "text": [
      "\r",
      " 20%|████████████████                                                               | 382/1873 [01:27<06:17,  3.95it/s]"
     ]
    },
    {
     "data": {
      "text/plain": [
       "'new dataset\\\\carnatic\\\\carnatic561.wav'"
      ]
     },
     "metadata": {},
     "output_type": "display_data"
    },
    {
     "name": "stderr",
     "output_type": "stream",
     "text": [
      "\r",
      " 20%|████████████████▏                                                              | 383/1873 [01:28<06:17,  3.94it/s]"
     ]
    },
    {
     "data": {
      "text/plain": [
       "'new dataset\\\\carnatic\\\\carnatic562.wav'"
      ]
     },
     "metadata": {},
     "output_type": "display_data"
    },
    {
     "name": "stderr",
     "output_type": "stream",
     "text": [
      "\r",
      " 21%|████████████████▏                                                              | 384/1873 [01:28<06:20,  3.91it/s]"
     ]
    },
    {
     "data": {
      "text/plain": [
       "'new dataset\\\\carnatic\\\\carnatic567.wav'"
      ]
     },
     "metadata": {},
     "output_type": "display_data"
    },
    {
     "name": "stderr",
     "output_type": "stream",
     "text": [
      "\r",
      " 21%|████████████████▏                                                              | 385/1873 [01:28<06:21,  3.90it/s]"
     ]
    },
    {
     "data": {
      "text/plain": [
       "'new dataset\\\\carnatic\\\\carnatic568.wav'"
      ]
     },
     "metadata": {},
     "output_type": "display_data"
    },
    {
     "name": "stderr",
     "output_type": "stream",
     "text": [
      "\r",
      " 21%|████████████████▎                                                              | 386/1873 [01:28<06:17,  3.94it/s]"
     ]
    },
    {
     "data": {
      "text/plain": [
       "'new dataset\\\\carnatic\\\\carnatic569.wav'"
      ]
     },
     "metadata": {},
     "output_type": "display_data"
    },
    {
     "name": "stderr",
     "output_type": "stream",
     "text": [
      "\r",
      " 21%|████████████████▎                                                              | 387/1873 [01:29<06:12,  3.99it/s]"
     ]
    },
    {
     "data": {
      "text/plain": [
       "'new dataset\\\\carnatic\\\\carnatic57.wav'"
      ]
     },
     "metadata": {},
     "output_type": "display_data"
    },
    {
     "name": "stderr",
     "output_type": "stream",
     "text": [
      "\r",
      " 21%|████████████████▎                                                              | 388/1873 [01:29<06:10,  4.01it/s]"
     ]
    },
    {
     "data": {
      "text/plain": [
       "'new dataset\\\\carnatic\\\\carnatic570.wav'"
      ]
     },
     "metadata": {},
     "output_type": "display_data"
    },
    {
     "name": "stderr",
     "output_type": "stream",
     "text": [
      "\r",
      " 21%|████████████████▍                                                              | 389/1873 [01:29<06:10,  4.01it/s]"
     ]
    },
    {
     "data": {
      "text/plain": [
       "'new dataset\\\\carnatic\\\\carnatic571.wav'"
      ]
     },
     "metadata": {},
     "output_type": "display_data"
    },
    {
     "name": "stderr",
     "output_type": "stream",
     "text": [
      "\r",
      " 21%|████████████████▍                                                              | 390/1873 [01:29<06:10,  4.00it/s]"
     ]
    },
    {
     "data": {
      "text/plain": [
       "'new dataset\\\\carnatic\\\\carnatic572.wav'"
      ]
     },
     "metadata": {},
     "output_type": "display_data"
    },
    {
     "name": "stderr",
     "output_type": "stream",
     "text": [
      "\r",
      " 21%|████████████████▍                                                              | 391/1873 [01:30<06:07,  4.03it/s]"
     ]
    },
    {
     "data": {
      "text/plain": [
       "'new dataset\\\\carnatic\\\\carnatic58.wav'"
      ]
     },
     "metadata": {},
     "output_type": "display_data"
    },
    {
     "name": "stderr",
     "output_type": "stream",
     "text": [
      "\r",
      " 21%|████████████████▌                                                              | 392/1873 [01:30<06:06,  4.04it/s]"
     ]
    },
    {
     "data": {
      "text/plain": [
       "'new dataset\\\\carnatic\\\\carnatic59.wav'"
      ]
     },
     "metadata": {},
     "output_type": "display_data"
    },
    {
     "name": "stderr",
     "output_type": "stream",
     "text": [
      "\r",
      " 21%|████████████████▌                                                              | 393/1873 [01:30<06:00,  4.11it/s]"
     ]
    },
    {
     "data": {
      "text/plain": [
       "'new dataset\\\\carnatic\\\\carnatic6.wav'"
      ]
     },
     "metadata": {},
     "output_type": "display_data"
    },
    {
     "name": "stderr",
     "output_type": "stream",
     "text": [
      "\r",
      " 21%|████████████████▌                                                              | 394/1873 [01:30<06:01,  4.09it/s]"
     ]
    },
    {
     "data": {
      "text/plain": [
       "'new dataset\\\\carnatic\\\\carnatic60.wav'"
      ]
     },
     "metadata": {},
     "output_type": "display_data"
    },
    {
     "name": "stderr",
     "output_type": "stream",
     "text": [
      "\r",
      " 21%|████████████████▋                                                              | 395/1873 [01:31<05:55,  4.15it/s]"
     ]
    },
    {
     "data": {
      "text/plain": [
       "'new dataset\\\\carnatic\\\\carnatic61.wav'"
      ]
     },
     "metadata": {},
     "output_type": "display_data"
    },
    {
     "name": "stderr",
     "output_type": "stream",
     "text": [
      "\r",
      " 21%|████████████████▋                                                              | 396/1873 [01:31<05:53,  4.18it/s]"
     ]
    },
    {
     "data": {
      "text/plain": [
       "'new dataset\\\\carnatic\\\\carnatic62.wav'"
      ]
     },
     "metadata": {},
     "output_type": "display_data"
    },
    {
     "name": "stderr",
     "output_type": "stream",
     "text": [
      "\r",
      " 21%|████████████████▋                                                              | 397/1873 [01:31<05:52,  4.19it/s]"
     ]
    },
    {
     "data": {
      "text/plain": [
       "'new dataset\\\\carnatic\\\\carnatic63.wav'"
      ]
     },
     "metadata": {},
     "output_type": "display_data"
    },
    {
     "name": "stderr",
     "output_type": "stream",
     "text": [
      "\r",
      " 21%|████████████████▊                                                              | 398/1873 [01:31<06:01,  4.08it/s]"
     ]
    },
    {
     "data": {
      "text/plain": [
       "'new dataset\\\\carnatic\\\\carnatic64.wav'"
      ]
     },
     "metadata": {},
     "output_type": "display_data"
    },
    {
     "name": "stderr",
     "output_type": "stream",
     "text": [
      "\r",
      " 21%|████████████████▊                                                              | 399/1873 [01:32<06:01,  4.07it/s]"
     ]
    },
    {
     "data": {
      "text/plain": [
       "'new dataset\\\\carnatic\\\\carnatic65.wav'"
      ]
     },
     "metadata": {},
     "output_type": "display_data"
    },
    {
     "name": "stderr",
     "output_type": "stream",
     "text": [
      "\r",
      " 21%|████████████████▊                                                              | 400/1873 [01:32<06:06,  4.02it/s]"
     ]
    },
    {
     "data": {
      "text/plain": [
       "'new dataset\\\\carnatic\\\\carnatic66.wav'"
      ]
     },
     "metadata": {},
     "output_type": "display_data"
    },
    {
     "name": "stderr",
     "output_type": "stream",
     "text": [
      "\r",
      " 21%|████████████████▉                                                              | 401/1873 [01:32<05:59,  4.10it/s]"
     ]
    },
    {
     "data": {
      "text/plain": [
       "'new dataset\\\\carnatic\\\\carnatic67.wav'"
      ]
     },
     "metadata": {},
     "output_type": "display_data"
    },
    {
     "name": "stderr",
     "output_type": "stream",
     "text": [
      "\r",
      " 21%|████████████████▉                                                              | 402/1873 [01:32<05:55,  4.13it/s]"
     ]
    },
    {
     "data": {
      "text/plain": [
       "'new dataset\\\\carnatic\\\\carnatic68.wav'"
      ]
     },
     "metadata": {},
     "output_type": "display_data"
    },
    {
     "name": "stderr",
     "output_type": "stream",
     "text": [
      "\r",
      " 22%|████████████████▉                                                              | 403/1873 [01:33<06:07,  4.00it/s]"
     ]
    },
    {
     "data": {
      "text/plain": [
       "'new dataset\\\\carnatic\\\\carnatic69.wav'"
      ]
     },
     "metadata": {},
     "output_type": "display_data"
    },
    {
     "name": "stderr",
     "output_type": "stream",
     "text": [
      "\r",
      " 22%|█████████████████                                                              | 404/1873 [01:33<06:06,  4.01it/s]"
     ]
    },
    {
     "data": {
      "text/plain": [
       "'new dataset\\\\carnatic\\\\carnatic7.wav'"
      ]
     },
     "metadata": {},
     "output_type": "display_data"
    },
    {
     "name": "stderr",
     "output_type": "stream",
     "text": [
      "\r",
      " 22%|█████████████████                                                              | 405/1873 [01:33<05:59,  4.08it/s]"
     ]
    },
    {
     "data": {
      "text/plain": [
       "'new dataset\\\\carnatic\\\\carnatic77.wav'"
      ]
     },
     "metadata": {},
     "output_type": "display_data"
    },
    {
     "name": "stderr",
     "output_type": "stream",
     "text": [
      "\r",
      " 22%|█████████████████                                                              | 406/1873 [01:33<05:55,  4.13it/s]"
     ]
    },
    {
     "data": {
      "text/plain": [
       "'new dataset\\\\carnatic\\\\carnatic78.wav'"
      ]
     },
     "metadata": {},
     "output_type": "display_data"
    },
    {
     "name": "stderr",
     "output_type": "stream",
     "text": [
      "\r",
      " 22%|█████████████████▏                                                             | 407/1873 [01:33<05:52,  4.16it/s]"
     ]
    },
    {
     "data": {
      "text/plain": [
       "'new dataset\\\\carnatic\\\\carnatic79.wav'"
      ]
     },
     "metadata": {},
     "output_type": "display_data"
    },
    {
     "name": "stderr",
     "output_type": "stream",
     "text": [
      "\r",
      " 22%|█████████████████▏                                                             | 408/1873 [01:34<05:58,  4.09it/s]"
     ]
    },
    {
     "data": {
      "text/plain": [
       "'new dataset\\\\carnatic\\\\carnatic80.wav'"
      ]
     },
     "metadata": {},
     "output_type": "display_data"
    },
    {
     "name": "stderr",
     "output_type": "stream",
     "text": [
      "\r",
      " 22%|█████████████████▎                                                             | 409/1873 [01:34<05:55,  4.12it/s]"
     ]
    },
    {
     "data": {
      "text/plain": [
       "'new dataset\\\\carnatic\\\\carnatic81.wav'"
      ]
     },
     "metadata": {},
     "output_type": "display_data"
    },
    {
     "name": "stderr",
     "output_type": "stream",
     "text": [
      "\r",
      " 22%|█████████████████▎                                                             | 410/1873 [01:34<05:53,  4.13it/s]"
     ]
    },
    {
     "data": {
      "text/plain": [
       "'new dataset\\\\carnatic\\\\carnatic82.wav'"
      ]
     },
     "metadata": {},
     "output_type": "display_data"
    },
    {
     "name": "stderr",
     "output_type": "stream",
     "text": [
      "\r",
      " 22%|█████████████████▎                                                             | 411/1873 [01:34<05:53,  4.14it/s]"
     ]
    },
    {
     "data": {
      "text/plain": [
       "'new dataset\\\\carnatic\\\\carnatic83.wav'"
      ]
     },
     "metadata": {},
     "output_type": "display_data"
    },
    {
     "name": "stderr",
     "output_type": "stream",
     "text": [
      "\r",
      " 22%|█████████████████▍                                                             | 412/1873 [01:35<05:48,  4.20it/s]"
     ]
    },
    {
     "data": {
      "text/plain": [
       "'new dataset\\\\carnatic\\\\carnatic84.wav'"
      ]
     },
     "metadata": {},
     "output_type": "display_data"
    },
    {
     "name": "stderr",
     "output_type": "stream",
     "text": [
      "\r",
      " 22%|█████████████████▍                                                             | 413/1873 [01:35<05:49,  4.18it/s]"
     ]
    },
    {
     "data": {
      "text/plain": [
       "'new dataset\\\\carnatic\\\\carnatic85.wav'"
      ]
     },
     "metadata": {},
     "output_type": "display_data"
    },
    {
     "name": "stderr",
     "output_type": "stream",
     "text": [
      "\r",
      " 22%|█████████████████▍                                                             | 414/1873 [01:35<05:47,  4.19it/s]"
     ]
    },
    {
     "data": {
      "text/plain": [
       "'new dataset\\\\carnatic\\\\carnatic86.wav'"
      ]
     },
     "metadata": {},
     "output_type": "display_data"
    },
    {
     "name": "stderr",
     "output_type": "stream",
     "text": [
      "\r",
      " 22%|█████████████████▌                                                             | 415/1873 [01:35<05:46,  4.20it/s]"
     ]
    },
    {
     "data": {
      "text/plain": [
       "'new dataset\\\\carnatic\\\\carnatic87.wav'"
      ]
     },
     "metadata": {},
     "output_type": "display_data"
    },
    {
     "name": "stderr",
     "output_type": "stream",
     "text": [
      "\r",
      " 22%|█████████████████▌                                                             | 416/1873 [01:36<05:48,  4.18it/s]"
     ]
    },
    {
     "data": {
      "text/plain": [
       "'new dataset\\\\carnatic\\\\carnatic88.wav'"
      ]
     },
     "metadata": {},
     "output_type": "display_data"
    },
    {
     "name": "stderr",
     "output_type": "stream",
     "text": [
      "\r",
      " 22%|█████████████████▌                                                             | 417/1873 [01:36<05:55,  4.09it/s]"
     ]
    },
    {
     "data": {
      "text/plain": [
       "'new dataset\\\\carnatic\\\\carnatic89.wav'"
      ]
     },
     "metadata": {},
     "output_type": "display_data"
    },
    {
     "name": "stderr",
     "output_type": "stream",
     "text": [
      "\r",
      " 22%|█████████████████▋                                                             | 418/1873 [01:36<05:48,  4.18it/s]"
     ]
    },
    {
     "data": {
      "text/plain": [
       "'new dataset\\\\carnatic\\\\carnatic90.wav'"
      ]
     },
     "metadata": {},
     "output_type": "display_data"
    },
    {
     "name": "stderr",
     "output_type": "stream",
     "text": [
      "\r",
      " 22%|█████████████████▋                                                             | 419/1873 [01:36<05:43,  4.23it/s]"
     ]
    },
    {
     "data": {
      "text/plain": [
       "'new dataset\\\\carnatic\\\\carnatic91.wav'"
      ]
     },
     "metadata": {},
     "output_type": "display_data"
    },
    {
     "name": "stderr",
     "output_type": "stream",
     "text": [
      "\r",
      " 22%|█████████████████▋                                                             | 420/1873 [01:37<05:46,  4.20it/s]"
     ]
    },
    {
     "data": {
      "text/plain": [
       "'new dataset\\\\carnatic\\\\carnatic92.wav'"
      ]
     },
     "metadata": {},
     "output_type": "display_data"
    },
    {
     "name": "stderr",
     "output_type": "stream",
     "text": [
      "\r",
      " 22%|█████████████████▊                                                             | 421/1873 [01:37<05:44,  4.22it/s]"
     ]
    },
    {
     "data": {
      "text/plain": [
       "'new dataset\\\\carnatic\\\\carnatic93.wav'"
      ]
     },
     "metadata": {},
     "output_type": "display_data"
    },
    {
     "name": "stderr",
     "output_type": "stream",
     "text": [
      "\r",
      " 23%|█████████████████▊                                                             | 422/1873 [01:37<05:51,  4.12it/s]"
     ]
    },
    {
     "data": {
      "text/plain": [
       "'new dataset\\\\carnatic\\\\carnatic94.wav'"
      ]
     },
     "metadata": {},
     "output_type": "display_data"
    },
    {
     "name": "stderr",
     "output_type": "stream",
     "text": [
      "\r",
      " 23%|█████████████████▊                                                             | 423/1873 [01:37<05:49,  4.15it/s]"
     ]
    },
    {
     "data": {
      "text/plain": [
       "'new dataset\\\\carnatic\\\\carnatic95.wav'"
      ]
     },
     "metadata": {},
     "output_type": "display_data"
    },
    {
     "name": "stderr",
     "output_type": "stream",
     "text": [
      "\r",
      " 23%|█████████████████▉                                                             | 424/1873 [01:38<05:41,  4.24it/s]"
     ]
    },
    {
     "data": {
      "text/plain": [
       "'new dataset\\\\carnatic\\\\carnatic96.wav'"
      ]
     },
     "metadata": {},
     "output_type": "display_data"
    },
    {
     "name": "stderr",
     "output_type": "stream",
     "text": [
      "\r",
      " 23%|█████████████████▉                                                             | 425/1873 [01:38<05:43,  4.22it/s]"
     ]
    },
    {
     "data": {
      "text/plain": [
       "'new dataset\\\\carnatic\\\\carnatic97.wav'"
      ]
     },
     "metadata": {},
     "output_type": "display_data"
    },
    {
     "name": "stderr",
     "output_type": "stream",
     "text": [
      "\r",
      " 23%|█████████████████▉                                                             | 426/1873 [01:38<05:43,  4.21it/s]"
     ]
    },
    {
     "data": {
      "text/plain": [
       "'new dataset\\\\carnatic\\\\carnatic98.wav'"
      ]
     },
     "metadata": {},
     "output_type": "display_data"
    },
    {
     "name": "stderr",
     "output_type": "stream",
     "text": [
      "\r",
      " 23%|██████████████████                                                             | 427/1873 [01:38<06:04,  3.97it/s]"
     ]
    },
    {
     "data": {
      "text/plain": [
       "'new dataset\\\\carnatic\\\\carnatic99.wav'"
      ]
     },
     "metadata": {},
     "output_type": "display_data"
    },
    {
     "name": "stderr",
     "output_type": "stream",
     "text": [
      "\r",
      " 23%|██████████████████                                                             | 428/1873 [01:39<06:06,  3.94it/s]"
     ]
    },
    {
     "data": {
      "text/plain": [
       "'new dataset\\\\folk\\\\#chithiraproductions #nadanpattukal താലാലം താലം  #pandavas11.wav'"
      ]
     },
     "metadata": {},
     "output_type": "display_data"
    },
    {
     "name": "stderr",
     "output_type": "stream",
     "text": [
      "\r",
      " 23%|██████████████████                                                             | 429/1873 [01:39<05:58,  4.03it/s]"
     ]
    },
    {
     "data": {
      "text/plain": [
       "'new dataset\\\\folk\\\\106668151518.wav'"
      ]
     },
     "metadata": {},
     "output_type": "display_data"
    },
    {
     "name": "stderr",
     "output_type": "stream",
     "text": [
      "\r",
      " 23%|██████████████████▏                                                            | 430/1873 [01:39<05:56,  4.04it/s]"
     ]
    },
    {
     "data": {
      "text/plain": [
       "'new dataset\\\\folk\\\\cut 10 sec പണ്ടുള്ളകാലംതൊട്ടേ നമ്മൾ വല്ലിപണിക്കാരല്ലേ # 2019 ഒരു പ്രണയ വിരഹ നാടൻപാട്ട്  Nadan Pattukal9.wav'"
      ]
     },
     "metadata": {},
     "output_type": "display_data"
    },
    {
     "name": "stderr",
     "output_type": "stream",
     "text": [
      "\r",
      " 23%|██████████████████▏                                                            | 431/1873 [01:39<05:54,  4.06it/s]"
     ]
    },
    {
     "data": {
      "text/plain": [
       "'new dataset\\\\folk\\\\cut 20sec - ആടാട്\\u200c - Lyrical video song  Aadaad  Thaalam Midhun Chandran7.wav'"
      ]
     },
     "metadata": {},
     "output_type": "display_data"
    },
    {
     "name": "stderr",
     "output_type": "stream",
     "text": [
      "\r",
      " 23%|██████████████████▏                                                            | 432/1873 [01:40<05:58,  4.03it/s]"
     ]
    },
    {
     "data": {
      "text/plain": [
       "'new dataset\\\\folk\\\\cut 30 sec ഒരു അടിപൊളി നാടോടിപ്പാട്ട് NadanpattukalManikandan NadanpattFolk Song12.wav'"
      ]
     },
     "metadata": {},
     "output_type": "display_data"
    },
    {
     "name": "stderr",
     "output_type": "stream",
     "text": [
      "\r",
      " 23%|██████████████████▎                                                            | 433/1873 [01:40<05:51,  4.10it/s]"
     ]
    },
    {
     "data": {
      "text/plain": [
       "'new dataset\\\\folk\\\\cut 38 sec കേട്ടുനോക്കൂ നിങ്ങൾ ഏറ്റുപാടും കിടിലൻ പാട്ട്   വടക്കുംകൊല്ലം വാഴുന്നോളേ  காலி அம்மா കാളി  KAALI12.wav'"
      ]
     },
     "metadata": {},
     "output_type": "display_data"
    },
    {
     "name": "stderr",
     "output_type": "stream",
     "text": [
      "\r",
      " 23%|██████████████████▎                                                            | 434/1873 [01:40<05:50,  4.11it/s]"
     ]
    },
    {
     "data": {
      "text/plain": [
       "'new dataset\\\\folk\\\\folk2.wav'"
      ]
     },
     "metadata": {},
     "output_type": "display_data"
    },
    {
     "name": "stderr",
     "output_type": "stream",
     "text": [
      "\r",
      " 23%|██████████████████▎                                                            | 435/1873 [01:40<05:50,  4.10it/s]"
     ]
    },
    {
     "data": {
      "text/plain": [
       "'new dataset\\\\folk\\\\folk3.wav'"
      ]
     },
     "metadata": {},
     "output_type": "display_data"
    },
    {
     "name": "stderr",
     "output_type": "stream",
     "text": [
      "\r",
      " 23%|██████████████████▍                                                            | 436/1873 [01:41<05:55,  4.05it/s]"
     ]
    },
    {
     "data": {
      "text/plain": [
       "'new dataset\\\\folk\\\\folk4.wav'"
      ]
     },
     "metadata": {},
     "output_type": "display_data"
    },
    {
     "name": "stderr",
     "output_type": "stream",
     "text": [
      "\r",
      " 23%|██████████████████▍                                                            | 437/1873 [01:41<05:52,  4.08it/s]"
     ]
    },
    {
     "data": {
      "text/plain": [
       "'new dataset\\\\folk\\\\folk5.wav'"
      ]
     },
     "metadata": {},
     "output_type": "display_data"
    },
    {
     "name": "stderr",
     "output_type": "stream",
     "text": [
      "\r",
      " 23%|██████████████████▍                                                            | 438/1873 [01:41<05:56,  4.03it/s]"
     ]
    },
    {
     "data": {
      "text/plain": [
       "'new dataset\\\\folk\\\\folk6.wav'"
      ]
     },
     "metadata": {},
     "output_type": "display_data"
    },
    {
     "name": "stderr",
     "output_type": "stream",
     "text": [
      "\r",
      " 23%|██████████████████▌                                                            | 439/1873 [01:41<05:53,  4.06it/s]"
     ]
    },
    {
     "data": {
      "text/plain": [
       "'new dataset\\\\folk\\\\folk7.wav'"
      ]
     },
     "metadata": {},
     "output_type": "display_data"
    },
    {
     "name": "stderr",
     "output_type": "stream",
     "text": [
      "\r",
      " 23%|██████████████████▌                                                            | 440/1873 [01:42<05:51,  4.07it/s]"
     ]
    },
    {
     "data": {
      "text/plain": [
       "'new dataset\\\\folk\\\\folk8.wav'"
      ]
     },
     "metadata": {},
     "output_type": "display_data"
    },
    {
     "name": "stderr",
     "output_type": "stream",
     "text": [
      "\r",
      " 24%|██████████████████▌                                                            | 441/1873 [01:42<05:52,  4.06it/s]"
     ]
    },
    {
     "data": {
      "text/plain": [
       "'new dataset\\\\folk\\\\folkA2.wav'"
      ]
     },
     "metadata": {},
     "output_type": "display_data"
    },
    {
     "name": "stderr",
     "output_type": "stream",
     "text": [
      "\r",
      " 24%|██████████████████▋                                                            | 442/1873 [01:42<05:46,  4.12it/s]"
     ]
    },
    {
     "data": {
      "text/plain": [
       "'new dataset\\\\folk\\\\folkA3.wav'"
      ]
     },
     "metadata": {},
     "output_type": "display_data"
    },
    {
     "name": "stderr",
     "output_type": "stream",
     "text": [
      "\r",
      " 24%|██████████████████▋                                                            | 443/1873 [01:42<05:48,  4.10it/s]"
     ]
    },
    {
     "data": {
      "text/plain": [
       "'new dataset\\\\folk\\\\folkA4.wav'"
      ]
     },
     "metadata": {},
     "output_type": "display_data"
    },
    {
     "name": "stderr",
     "output_type": "stream",
     "text": [
      "\r",
      " 24%|██████████████████▋                                                            | 444/1873 [01:42<05:43,  4.16it/s]"
     ]
    },
    {
     "data": {
      "text/plain": [
       "'new dataset\\\\folk\\\\folkA5.wav'"
      ]
     },
     "metadata": {},
     "output_type": "display_data"
    },
    {
     "name": "stderr",
     "output_type": "stream",
     "text": [
      "\r",
      " 24%|██████████████████▊                                                            | 445/1873 [01:43<05:49,  4.08it/s]"
     ]
    },
    {
     "data": {
      "text/plain": [
       "'new dataset\\\\folk\\\\folkA6.wav'"
      ]
     },
     "metadata": {},
     "output_type": "display_data"
    },
    {
     "name": "stderr",
     "output_type": "stream",
     "text": [
      "\r",
      " 24%|██████████████████▊                                                            | 446/1873 [01:43<05:50,  4.07it/s]"
     ]
    },
    {
     "data": {
      "text/plain": [
       "'new dataset\\\\folk\\\\folkB10.wav'"
      ]
     },
     "metadata": {},
     "output_type": "display_data"
    },
    {
     "name": "stderr",
     "output_type": "stream",
     "text": [
      "\r",
      " 24%|██████████████████▊                                                            | 447/1873 [01:43<05:48,  4.09it/s]"
     ]
    },
    {
     "data": {
      "text/plain": [
       "'new dataset\\\\folk\\\\folkB11.wav'"
      ]
     },
     "metadata": {},
     "output_type": "display_data"
    },
    {
     "name": "stderr",
     "output_type": "stream",
     "text": [
      "\r",
      " 24%|██████████████████▉                                                            | 448/1873 [01:43<05:43,  4.14it/s]"
     ]
    },
    {
     "data": {
      "text/plain": [
       "'new dataset\\\\folk\\\\folkB2.wav'"
      ]
     },
     "metadata": {},
     "output_type": "display_data"
    },
    {
     "name": "stderr",
     "output_type": "stream",
     "text": [
      "\r",
      " 24%|██████████████████▉                                                            | 449/1873 [01:44<05:45,  4.13it/s]"
     ]
    },
    {
     "data": {
      "text/plain": [
       "'new dataset\\\\folk\\\\folkB3.wav'"
      ]
     },
     "metadata": {},
     "output_type": "display_data"
    },
    {
     "name": "stderr",
     "output_type": "stream",
     "text": [
      "\r",
      " 24%|██████████████████▉                                                            | 450/1873 [01:44<05:45,  4.11it/s]"
     ]
    },
    {
     "data": {
      "text/plain": [
       "'new dataset\\\\folk\\\\folkB4.wav'"
      ]
     },
     "metadata": {},
     "output_type": "display_data"
    },
    {
     "name": "stderr",
     "output_type": "stream",
     "text": [
      "\r",
      " 24%|███████████████████                                                            | 451/1873 [01:44<05:42,  4.16it/s]"
     ]
    },
    {
     "data": {
      "text/plain": [
       "'new dataset\\\\folk\\\\folkB5.wav'"
      ]
     },
     "metadata": {},
     "output_type": "display_data"
    },
    {
     "name": "stderr",
     "output_type": "stream",
     "text": [
      "\r",
      " 24%|███████████████████                                                            | 452/1873 [01:44<05:40,  4.17it/s]"
     ]
    },
    {
     "data": {
      "text/plain": [
       "'new dataset\\\\folk\\\\folkB6.wav'"
      ]
     },
     "metadata": {},
     "output_type": "display_data"
    },
    {
     "name": "stderr",
     "output_type": "stream",
     "text": [
      "\r",
      " 24%|███████████████████                                                            | 453/1873 [01:45<05:36,  4.22it/s]"
     ]
    },
    {
     "data": {
      "text/plain": [
       "'new dataset\\\\folk\\\\folkB7.wav'"
      ]
     },
     "metadata": {},
     "output_type": "display_data"
    },
    {
     "name": "stderr",
     "output_type": "stream",
     "text": [
      "\r",
      " 24%|███████████████████▏                                                           | 454/1873 [01:45<05:33,  4.26it/s]"
     ]
    },
    {
     "data": {
      "text/plain": [
       "'new dataset\\\\folk\\\\folkB8.wav'"
      ]
     },
     "metadata": {},
     "output_type": "display_data"
    },
    {
     "name": "stderr",
     "output_type": "stream",
     "text": [
      "\r",
      " 24%|███████████████████▏                                                           | 455/1873 [01:45<05:40,  4.17it/s]"
     ]
    },
    {
     "data": {
      "text/plain": [
       "'new dataset\\\\folk\\\\folkB9.wav'"
      ]
     },
     "metadata": {},
     "output_type": "display_data"
    },
    {
     "name": "stderr",
     "output_type": "stream",
     "text": [
      "\r",
      " 24%|███████████████████▏                                                           | 456/1873 [01:45<05:43,  4.13it/s]"
     ]
    },
    {
     "data": {
      "text/plain": [
       "'new dataset\\\\folk\\\\folkC10.wav'"
      ]
     },
     "metadata": {},
     "output_type": "display_data"
    },
    {
     "name": "stderr",
     "output_type": "stream",
     "text": [
      "\r",
      " 24%|███████████████████▎                                                           | 457/1873 [01:46<05:39,  4.17it/s]"
     ]
    },
    {
     "data": {
      "text/plain": [
       "'new dataset\\\\folk\\\\folkC11.wav'"
      ]
     },
     "metadata": {},
     "output_type": "display_data"
    },
    {
     "name": "stderr",
     "output_type": "stream",
     "text": [
      "\r",
      " 24%|███████████████████▎                                                           | 458/1873 [01:46<05:41,  4.14it/s]"
     ]
    },
    {
     "data": {
      "text/plain": [
       "'new dataset\\\\folk\\\\folkC3.wav'"
      ]
     },
     "metadata": {},
     "output_type": "display_data"
    },
    {
     "name": "stderr",
     "output_type": "stream",
     "text": [
      "\r",
      " 25%|███████████████████▎                                                           | 459/1873 [01:46<05:46,  4.08it/s]"
     ]
    },
    {
     "data": {
      "text/plain": [
       "'new dataset\\\\folk\\\\folkC4.wav'"
      ]
     },
     "metadata": {},
     "output_type": "display_data"
    },
    {
     "name": "stderr",
     "output_type": "stream",
     "text": [
      "\r",
      " 25%|███████████████████▍                                                           | 460/1873 [01:46<05:47,  4.07it/s]"
     ]
    },
    {
     "data": {
      "text/plain": [
       "'new dataset\\\\folk\\\\folkC5.wav'"
      ]
     },
     "metadata": {},
     "output_type": "display_data"
    },
    {
     "name": "stderr",
     "output_type": "stream",
     "text": [
      "\r",
      " 25%|███████████████████▍                                                           | 461/1873 [01:47<05:48,  4.05it/s]"
     ]
    },
    {
     "data": {
      "text/plain": [
       "'new dataset\\\\folk\\\\folkC6.wav'"
      ]
     },
     "metadata": {},
     "output_type": "display_data"
    },
    {
     "name": "stderr",
     "output_type": "stream",
     "text": [
      "\r",
      " 25%|███████████████████▍                                                           | 462/1873 [01:47<05:47,  4.06it/s]"
     ]
    },
    {
     "data": {
      "text/plain": [
       "'new dataset\\\\folk\\\\folkC7.wav'"
      ]
     },
     "metadata": {},
     "output_type": "display_data"
    },
    {
     "name": "stderr",
     "output_type": "stream",
     "text": [
      "\r",
      " 25%|███████████████████▌                                                           | 463/1873 [01:47<05:43,  4.10it/s]"
     ]
    },
    {
     "data": {
      "text/plain": [
       "'new dataset\\\\folk\\\\folkC8.wav'"
      ]
     },
     "metadata": {},
     "output_type": "display_data"
    },
    {
     "name": "stderr",
     "output_type": "stream",
     "text": [
      "\r",
      " 25%|███████████████████▌                                                           | 464/1873 [01:47<05:45,  4.08it/s]"
     ]
    },
    {
     "data": {
      "text/plain": [
       "'new dataset\\\\folk\\\\folkC9.wav'"
      ]
     },
     "metadata": {},
     "output_type": "display_data"
    },
    {
     "name": "stderr",
     "output_type": "stream",
     "text": [
      "\r",
      " 25%|███████████████████▌                                                           | 465/1873 [01:48<05:40,  4.14it/s]"
     ]
    },
    {
     "data": {
      "text/plain": [
       "'new dataset\\\\folk\\\\folkD1.wav'"
      ]
     },
     "metadata": {},
     "output_type": "display_data"
    },
    {
     "name": "stderr",
     "output_type": "stream",
     "text": [
      "\r",
      " 25%|███████████████████▋                                                           | 466/1873 [01:48<05:51,  4.00it/s]"
     ]
    },
    {
     "data": {
      "text/plain": [
       "'new dataset\\\\folk\\\\folkD10.wav'"
      ]
     },
     "metadata": {},
     "output_type": "display_data"
    },
    {
     "name": "stderr",
     "output_type": "stream",
     "text": [
      "\r",
      " 25%|███████████████████▋                                                           | 467/1873 [01:48<05:47,  4.05it/s]"
     ]
    },
    {
     "data": {
      "text/plain": [
       "'new dataset\\\\folk\\\\folkD11.wav'"
      ]
     },
     "metadata": {},
     "output_type": "display_data"
    },
    {
     "name": "stderr",
     "output_type": "stream",
     "text": [
      "\r",
      " 25%|███████████████████▋                                                           | 468/1873 [01:48<05:58,  3.92it/s]"
     ]
    },
    {
     "data": {
      "text/plain": [
       "'new dataset\\\\folk\\\\folkD12.wav'"
      ]
     },
     "metadata": {},
     "output_type": "display_data"
    },
    {
     "name": "stderr",
     "output_type": "stream",
     "text": [
      "\r",
      " 25%|███████████████████▊                                                           | 469/1873 [01:49<05:50,  4.00it/s]"
     ]
    },
    {
     "data": {
      "text/plain": [
       "'new dataset\\\\folk\\\\folkD13.wav'"
      ]
     },
     "metadata": {},
     "output_type": "display_data"
    },
    {
     "name": "stderr",
     "output_type": "stream",
     "text": [
      "\r",
      " 25%|███████████████████▊                                                           | 470/1873 [01:49<05:46,  4.05it/s]"
     ]
    },
    {
     "data": {
      "text/plain": [
       "'new dataset\\\\folk\\\\folkD14.wav'"
      ]
     },
     "metadata": {},
     "output_type": "display_data"
    },
    {
     "name": "stderr",
     "output_type": "stream",
     "text": [
      "\r",
      " 25%|███████████████████▊                                                           | 471/1873 [01:49<05:41,  4.11it/s]"
     ]
    },
    {
     "data": {
      "text/plain": [
       "'new dataset\\\\folk\\\\folkD15.wav'"
      ]
     },
     "metadata": {},
     "output_type": "display_data"
    },
    {
     "name": "stderr",
     "output_type": "stream",
     "text": [
      "\r",
      " 25%|███████████████████▉                                                           | 472/1873 [01:49<05:45,  4.06it/s]"
     ]
    },
    {
     "data": {
      "text/plain": [
       "'new dataset\\\\folk\\\\folkD16.wav'"
      ]
     },
     "metadata": {},
     "output_type": "display_data"
    },
    {
     "name": "stderr",
     "output_type": "stream",
     "text": [
      "\r",
      " 25%|███████████████████▉                                                           | 473/1873 [01:50<05:56,  3.93it/s]"
     ]
    },
    {
     "data": {
      "text/plain": [
       "'new dataset\\\\folk\\\\folkD17.wav'"
      ]
     },
     "metadata": {},
     "output_type": "display_data"
    },
    {
     "name": "stderr",
     "output_type": "stream",
     "text": [
      "\r",
      " 25%|███████████████████▉                                                           | 474/1873 [01:50<05:45,  4.04it/s]"
     ]
    },
    {
     "data": {
      "text/plain": [
       "'new dataset\\\\folk\\\\folkD2.wav'"
      ]
     },
     "metadata": {},
     "output_type": "display_data"
    },
    {
     "name": "stderr",
     "output_type": "stream",
     "text": [
      "\r",
      " 25%|████████████████████                                                           | 475/1873 [01:50<05:43,  4.07it/s]"
     ]
    },
    {
     "data": {
      "text/plain": [
       "'new dataset\\\\folk\\\\folkD3.wav'"
      ]
     },
     "metadata": {},
     "output_type": "display_data"
    },
    {
     "name": "stderr",
     "output_type": "stream",
     "text": [
      "\r",
      " 25%|████████████████████                                                           | 476/1873 [01:50<05:40,  4.10it/s]"
     ]
    },
    {
     "data": {
      "text/plain": [
       "'new dataset\\\\folk\\\\folkD4.wav'"
      ]
     },
     "metadata": {},
     "output_type": "display_data"
    },
    {
     "name": "stderr",
     "output_type": "stream",
     "text": [
      "\r",
      " 25%|████████████████████                                                           | 477/1873 [01:51<05:50,  3.99it/s]"
     ]
    },
    {
     "data": {
      "text/plain": [
       "'new dataset\\\\folk\\\\folkD5.wav'"
      ]
     },
     "metadata": {},
     "output_type": "display_data"
    },
    {
     "name": "stderr",
     "output_type": "stream",
     "text": [
      "\r",
      " 26%|████████████████████▏                                                          | 478/1873 [01:51<05:53,  3.94it/s]"
     ]
    },
    {
     "data": {
      "text/plain": [
       "'new dataset\\\\folk\\\\folkD6.wav'"
      ]
     },
     "metadata": {},
     "output_type": "display_data"
    },
    {
     "name": "stderr",
     "output_type": "stream",
     "text": [
      "\r",
      " 26%|████████████████████▏                                                          | 479/1873 [01:51<05:52,  3.96it/s]"
     ]
    },
    {
     "data": {
      "text/plain": [
       "'new dataset\\\\folk\\\\folkD7.wav'"
      ]
     },
     "metadata": {},
     "output_type": "display_data"
    },
    {
     "name": "stderr",
     "output_type": "stream",
     "text": [
      "\r",
      " 26%|████████████████████▏                                                          | 480/1873 [01:51<05:42,  4.06it/s]"
     ]
    },
    {
     "data": {
      "text/plain": [
       "'new dataset\\\\folk\\\\folkD8.wav'"
      ]
     },
     "metadata": {},
     "output_type": "display_data"
    },
    {
     "name": "stderr",
     "output_type": "stream",
     "text": [
      "\r",
      " 26%|████████████████████▎                                                          | 481/1873 [01:52<05:39,  4.09it/s]"
     ]
    },
    {
     "data": {
      "text/plain": [
       "'new dataset\\\\folk\\\\folkD9.wav'"
      ]
     },
     "metadata": {},
     "output_type": "display_data"
    },
    {
     "name": "stderr",
     "output_type": "stream",
     "text": [
      "\r",
      " 26%|████████████████████▎                                                          | 482/1873 [01:52<05:38,  4.11it/s]"
     ]
    },
    {
     "data": {
      "text/plain": [
       "'new dataset\\\\folk\\\\folkG1.wav'"
      ]
     },
     "metadata": {},
     "output_type": "display_data"
    },
    {
     "name": "stderr",
     "output_type": "stream",
     "text": [
      "\r",
      " 26%|████████████████████▎                                                          | 483/1873 [01:52<05:47,  4.00it/s]"
     ]
    },
    {
     "data": {
      "text/plain": [
       "'new dataset\\\\folk\\\\folkG10.wav'"
      ]
     },
     "metadata": {},
     "output_type": "display_data"
    },
    {
     "name": "stderr",
     "output_type": "stream",
     "text": [
      "\r",
      " 26%|████████████████████▍                                                          | 484/1873 [01:52<05:47,  3.99it/s]"
     ]
    },
    {
     "data": {
      "text/plain": [
       "'new dataset\\\\folk\\\\folkG100.wav'"
      ]
     },
     "metadata": {},
     "output_type": "display_data"
    },
    {
     "name": "stderr",
     "output_type": "stream",
     "text": [
      "\r",
      " 26%|████████████████████▍                                                          | 485/1873 [01:53<05:47,  3.99it/s]"
     ]
    },
    {
     "data": {
      "text/plain": [
       "'new dataset\\\\folk\\\\folkG101.wav'"
      ]
     },
     "metadata": {},
     "output_type": "display_data"
    },
    {
     "name": "stderr",
     "output_type": "stream",
     "text": [
      "\r",
      " 26%|████████████████████▍                                                          | 486/1873 [01:53<05:53,  3.93it/s]"
     ]
    },
    {
     "data": {
      "text/plain": [
       "'new dataset\\\\folk\\\\folkG102.wav'"
      ]
     },
     "metadata": {},
     "output_type": "display_data"
    },
    {
     "name": "stderr",
     "output_type": "stream",
     "text": [
      "\r",
      " 26%|████████████████████▌                                                          | 487/1873 [01:53<06:00,  3.85it/s]"
     ]
    },
    {
     "data": {
      "text/plain": [
       "'new dataset\\\\folk\\\\folkG103.wav'"
      ]
     },
     "metadata": {},
     "output_type": "display_data"
    },
    {
     "name": "stderr",
     "output_type": "stream",
     "text": [
      "\r",
      " 26%|████████████████████▌                                                          | 488/1873 [01:53<05:58,  3.87it/s]"
     ]
    },
    {
     "data": {
      "text/plain": [
       "'new dataset\\\\folk\\\\folkG104.wav'"
      ]
     },
     "metadata": {},
     "output_type": "display_data"
    },
    {
     "name": "stderr",
     "output_type": "stream",
     "text": [
      "\r",
      " 26%|████████████████████▋                                                          | 489/1873 [01:54<05:56,  3.89it/s]"
     ]
    },
    {
     "data": {
      "text/plain": [
       "'new dataset\\\\folk\\\\folkG105.wav'"
      ]
     },
     "metadata": {},
     "output_type": "display_data"
    },
    {
     "name": "stderr",
     "output_type": "stream",
     "text": [
      "\r",
      " 26%|████████████████████▋                                                          | 490/1873 [01:54<05:55,  3.89it/s]"
     ]
    },
    {
     "data": {
      "text/plain": [
       "'new dataset\\\\folk\\\\folkG106.wav'"
      ]
     },
     "metadata": {},
     "output_type": "display_data"
    },
    {
     "name": "stderr",
     "output_type": "stream",
     "text": [
      "\r",
      " 26%|████████████████████▋                                                          | 491/1873 [01:54<05:56,  3.88it/s]"
     ]
    },
    {
     "data": {
      "text/plain": [
       "'new dataset\\\\folk\\\\folkG107.wav'"
      ]
     },
     "metadata": {},
     "output_type": "display_data"
    },
    {
     "name": "stderr",
     "output_type": "stream",
     "text": [
      "\r",
      " 26%|████████████████████▊                                                          | 492/1873 [01:54<05:58,  3.85it/s]"
     ]
    },
    {
     "data": {
      "text/plain": [
       "'new dataset\\\\folk\\\\folkG108.wav'"
      ]
     },
     "metadata": {},
     "output_type": "display_data"
    },
    {
     "name": "stderr",
     "output_type": "stream",
     "text": [
      "\r",
      " 26%|████████████████████▊                                                          | 493/1873 [01:55<05:57,  3.86it/s]"
     ]
    },
    {
     "data": {
      "text/plain": [
       "'new dataset\\\\folk\\\\folkG109.wav'"
      ]
     },
     "metadata": {},
     "output_type": "display_data"
    },
    {
     "name": "stderr",
     "output_type": "stream",
     "text": [
      "\r",
      " 26%|████████████████████▊                                                          | 494/1873 [01:55<05:57,  3.86it/s]"
     ]
    },
    {
     "data": {
      "text/plain": [
       "'new dataset\\\\folk\\\\folkG11.wav'"
      ]
     },
     "metadata": {},
     "output_type": "display_data"
    },
    {
     "name": "stderr",
     "output_type": "stream",
     "text": [
      "\r",
      " 26%|████████████████████▉                                                          | 495/1873 [01:55<05:54,  3.89it/s]"
     ]
    },
    {
     "data": {
      "text/plain": [
       "'new dataset\\\\folk\\\\folkG110.wav'"
      ]
     },
     "metadata": {},
     "output_type": "display_data"
    },
    {
     "name": "stderr",
     "output_type": "stream",
     "text": [
      "\r",
      " 26%|████████████████████▉                                                          | 496/1873 [01:55<05:56,  3.86it/s]"
     ]
    },
    {
     "data": {
      "text/plain": [
       "'new dataset\\\\folk\\\\folkG111.wav'"
      ]
     },
     "metadata": {},
     "output_type": "display_data"
    },
    {
     "name": "stderr",
     "output_type": "stream",
     "text": [
      "\r",
      " 27%|████████████████████▉                                                          | 497/1873 [01:56<05:54,  3.88it/s]"
     ]
    },
    {
     "data": {
      "text/plain": [
       "'new dataset\\\\folk\\\\folkG112.wav'"
      ]
     },
     "metadata": {},
     "output_type": "display_data"
    },
    {
     "name": "stderr",
     "output_type": "stream",
     "text": [
      "\r",
      " 27%|█████████████████████                                                          | 498/1873 [01:56<05:58,  3.84it/s]"
     ]
    },
    {
     "data": {
      "text/plain": [
       "'new dataset\\\\folk\\\\folkG113.wav'"
      ]
     },
     "metadata": {},
     "output_type": "display_data"
    },
    {
     "name": "stderr",
     "output_type": "stream",
     "text": [
      "\r",
      " 27%|█████████████████████                                                          | 499/1873 [01:56<05:55,  3.87it/s]"
     ]
    },
    {
     "data": {
      "text/plain": [
       "'new dataset\\\\folk\\\\folkG114.wav'"
      ]
     },
     "metadata": {},
     "output_type": "display_data"
    },
    {
     "name": "stderr",
     "output_type": "stream",
     "text": [
      "\r",
      " 27%|█████████████████████                                                          | 500/1873 [01:56<06:03,  3.77it/s]"
     ]
    },
    {
     "data": {
      "text/plain": [
       "'new dataset\\\\folk\\\\folkG115.wav'"
      ]
     },
     "metadata": {},
     "output_type": "display_data"
    },
    {
     "name": "stderr",
     "output_type": "stream",
     "text": [
      "\r",
      " 27%|█████████████████████▏                                                         | 501/1873 [01:57<05:56,  3.84it/s]"
     ]
    },
    {
     "data": {
      "text/plain": [
       "'new dataset\\\\folk\\\\folkG116.wav'"
      ]
     },
     "metadata": {},
     "output_type": "display_data"
    },
    {
     "name": "stderr",
     "output_type": "stream",
     "text": [
      "\r",
      " 27%|█████████████████████▏                                                         | 502/1873 [01:57<05:52,  3.89it/s]"
     ]
    },
    {
     "data": {
      "text/plain": [
       "'new dataset\\\\folk\\\\folkG117.wav'"
      ]
     },
     "metadata": {},
     "output_type": "display_data"
    },
    {
     "name": "stderr",
     "output_type": "stream",
     "text": [
      "\r",
      " 27%|█████████████████████▏                                                         | 503/1873 [01:57<05:52,  3.89it/s]"
     ]
    },
    {
     "data": {
      "text/plain": [
       "'new dataset\\\\folk\\\\folkG118.wav'"
      ]
     },
     "metadata": {},
     "output_type": "display_data"
    },
    {
     "name": "stderr",
     "output_type": "stream",
     "text": [
      "\r",
      " 27%|█████████████████████▎                                                         | 504/1873 [01:58<05:58,  3.81it/s]"
     ]
    },
    {
     "data": {
      "text/plain": [
       "'new dataset\\\\folk\\\\folkG119.wav'"
      ]
     },
     "metadata": {},
     "output_type": "display_data"
    },
    {
     "name": "stderr",
     "output_type": "stream",
     "text": [
      "\r",
      " 27%|█████████████████████▎                                                         | 505/1873 [01:58<05:57,  3.83it/s]"
     ]
    },
    {
     "data": {
      "text/plain": [
       "'new dataset\\\\folk\\\\folkG12.wav'"
      ]
     },
     "metadata": {},
     "output_type": "display_data"
    },
    {
     "name": "stderr",
     "output_type": "stream",
     "text": [
      "\r",
      " 27%|█████████████████████▎                                                         | 506/1873 [01:58<05:50,  3.90it/s]"
     ]
    },
    {
     "data": {
      "text/plain": [
       "'new dataset\\\\folk\\\\folkG120.wav'"
      ]
     },
     "metadata": {},
     "output_type": "display_data"
    },
    {
     "name": "stderr",
     "output_type": "stream",
     "text": [
      "\r",
      " 27%|█████████████████████▍                                                         | 507/1873 [01:58<05:49,  3.90it/s]"
     ]
    },
    {
     "data": {
      "text/plain": [
       "'new dataset\\\\folk\\\\folkG121.wav'"
      ]
     },
     "metadata": {},
     "output_type": "display_data"
    },
    {
     "name": "stderr",
     "output_type": "stream",
     "text": [
      "\r",
      " 27%|█████████████████████▍                                                         | 508/1873 [01:59<05:49,  3.91it/s]"
     ]
    },
    {
     "data": {
      "text/plain": [
       "'new dataset\\\\folk\\\\folkG122.wav'"
      ]
     },
     "metadata": {},
     "output_type": "display_data"
    },
    {
     "name": "stderr",
     "output_type": "stream",
     "text": [
      "\r",
      " 27%|█████████████████████▍                                                         | 509/1873 [01:59<05:52,  3.87it/s]"
     ]
    },
    {
     "data": {
      "text/plain": [
       "'new dataset\\\\folk\\\\folkG123.wav'"
      ]
     },
     "metadata": {},
     "output_type": "display_data"
    },
    {
     "name": "stderr",
     "output_type": "stream",
     "text": [
      "\r",
      " 27%|█████████████████████▌                                                         | 510/1873 [01:59<05:51,  3.88it/s]"
     ]
    },
    {
     "data": {
      "text/plain": [
       "'new dataset\\\\folk\\\\folkG124.wav'"
      ]
     },
     "metadata": {},
     "output_type": "display_data"
    },
    {
     "name": "stderr",
     "output_type": "stream",
     "text": [
      "\r",
      " 27%|█████████████████████▌                                                         | 511/1873 [01:59<05:42,  3.97it/s]"
     ]
    },
    {
     "data": {
      "text/plain": [
       "'new dataset\\\\folk\\\\folkG125.wav'"
      ]
     },
     "metadata": {},
     "output_type": "display_data"
    },
    {
     "name": "stderr",
     "output_type": "stream",
     "text": [
      "\r",
      " 27%|█████████████████████▌                                                         | 512/1873 [02:00<05:50,  3.88it/s]"
     ]
    },
    {
     "data": {
      "text/plain": [
       "'new dataset\\\\folk\\\\folkG126.wav'"
      ]
     },
     "metadata": {},
     "output_type": "display_data"
    },
    {
     "name": "stderr",
     "output_type": "stream",
     "text": [
      "\r",
      " 27%|█████████████████████▋                                                         | 513/1873 [02:00<05:56,  3.82it/s]"
     ]
    },
    {
     "data": {
      "text/plain": [
       "'new dataset\\\\folk\\\\folkG127.wav'"
      ]
     },
     "metadata": {},
     "output_type": "display_data"
    },
    {
     "name": "stderr",
     "output_type": "stream",
     "text": [
      "\r",
      " 27%|█████████████████████▋                                                         | 514/1873 [02:00<05:51,  3.87it/s]"
     ]
    },
    {
     "data": {
      "text/plain": [
       "'new dataset\\\\folk\\\\folkG128.wav'"
      ]
     },
     "metadata": {},
     "output_type": "display_data"
    },
    {
     "name": "stderr",
     "output_type": "stream",
     "text": [
      "\r",
      " 27%|█████████████████████▋                                                         | 515/1873 [02:00<05:50,  3.88it/s]"
     ]
    },
    {
     "data": {
      "text/plain": [
       "'new dataset\\\\folk\\\\folkG129.wav'"
      ]
     },
     "metadata": {},
     "output_type": "display_data"
    },
    {
     "name": "stderr",
     "output_type": "stream",
     "text": [
      "\r",
      " 28%|█████████████████████▊                                                         | 516/1873 [02:01<05:47,  3.91it/s]"
     ]
    },
    {
     "data": {
      "text/plain": [
       "'new dataset\\\\folk\\\\folkG13.wav'"
      ]
     },
     "metadata": {},
     "output_type": "display_data"
    },
    {
     "name": "stderr",
     "output_type": "stream",
     "text": [
      "\r",
      " 28%|█████████████████████▊                                                         | 517/1873 [02:01<05:45,  3.92it/s]"
     ]
    },
    {
     "data": {
      "text/plain": [
       "'new dataset\\\\folk\\\\folkG130.wav'"
      ]
     },
     "metadata": {},
     "output_type": "display_data"
    },
    {
     "name": "stderr",
     "output_type": "stream",
     "text": [
      "\r",
      " 28%|█████████████████████▊                                                         | 518/1873 [02:01<05:53,  3.83it/s]"
     ]
    },
    {
     "data": {
      "text/plain": [
       "'new dataset\\\\folk\\\\folkG14.wav'"
      ]
     },
     "metadata": {},
     "output_type": "display_data"
    },
    {
     "name": "stderr",
     "output_type": "stream",
     "text": [
      "\r",
      " 28%|█████████████████████▉                                                         | 519/1873 [02:01<05:44,  3.93it/s]"
     ]
    },
    {
     "data": {
      "text/plain": [
       "'new dataset\\\\folk\\\\folkG140.wav'"
      ]
     },
     "metadata": {},
     "output_type": "display_data"
    },
    {
     "name": "stderr",
     "output_type": "stream",
     "text": [
      "\r",
      " 28%|█████████████████████▉                                                         | 520/1873 [02:02<06:01,  3.75it/s]"
     ]
    },
    {
     "data": {
      "text/plain": [
       "'new dataset\\\\folk\\\\folkG141.wav'"
      ]
     },
     "metadata": {},
     "output_type": "display_data"
    },
    {
     "name": "stderr",
     "output_type": "stream",
     "text": [
      "\r",
      " 28%|█████████████████████▉                                                         | 521/1873 [02:02<05:58,  3.77it/s]"
     ]
    },
    {
     "data": {
      "text/plain": [
       "'new dataset\\\\folk\\\\folkG142.wav'"
      ]
     },
     "metadata": {},
     "output_type": "display_data"
    },
    {
     "name": "stderr",
     "output_type": "stream",
     "text": [
      "\r",
      " 28%|██████████████████████                                                         | 522/1873 [02:02<05:54,  3.81it/s]"
     ]
    },
    {
     "data": {
      "text/plain": [
       "'new dataset\\\\folk\\\\folkG143.wav'"
      ]
     },
     "metadata": {},
     "output_type": "display_data"
    },
    {
     "name": "stderr",
     "output_type": "stream",
     "text": [
      "\r",
      " 28%|██████████████████████                                                         | 523/1873 [02:02<05:45,  3.90it/s]"
     ]
    },
    {
     "data": {
      "text/plain": [
       "'new dataset\\\\folk\\\\folkG144.wav'"
      ]
     },
     "metadata": {},
     "output_type": "display_data"
    },
    {
     "name": "stderr",
     "output_type": "stream",
     "text": [
      "\r",
      " 28%|██████████████████████                                                         | 524/1873 [02:03<05:47,  3.88it/s]"
     ]
    },
    {
     "data": {
      "text/plain": [
       "'new dataset\\\\folk\\\\folkG145.wav'"
      ]
     },
     "metadata": {},
     "output_type": "display_data"
    },
    {
     "name": "stderr",
     "output_type": "stream",
     "text": [
      "\r",
      " 28%|██████████████████████▏                                                        | 525/1873 [02:03<05:38,  3.99it/s]"
     ]
    },
    {
     "data": {
      "text/plain": [
       "'new dataset\\\\folk\\\\folkG146.wav'"
      ]
     },
     "metadata": {},
     "output_type": "display_data"
    },
    {
     "name": "stderr",
     "output_type": "stream",
     "text": [
      "\r",
      " 28%|██████████████████████▏                                                        | 526/1873 [02:03<05:38,  3.98it/s]"
     ]
    },
    {
     "data": {
      "text/plain": [
       "'new dataset\\\\folk\\\\folkG147.wav'"
      ]
     },
     "metadata": {},
     "output_type": "display_data"
    },
    {
     "name": "stderr",
     "output_type": "stream",
     "text": [
      "\r",
      " 28%|██████████████████████▏                                                        | 527/1873 [02:03<05:35,  4.01it/s]"
     ]
    },
    {
     "data": {
      "text/plain": [
       "'new dataset\\\\folk\\\\folkG148.wav'"
      ]
     },
     "metadata": {},
     "output_type": "display_data"
    },
    {
     "name": "stderr",
     "output_type": "stream",
     "text": [
      "\r",
      " 28%|██████████████████████▎                                                        | 528/1873 [02:04<05:34,  4.03it/s]"
     ]
    },
    {
     "data": {
      "text/plain": [
       "'new dataset\\\\folk\\\\folkG149.wav'"
      ]
     },
     "metadata": {},
     "output_type": "display_data"
    },
    {
     "name": "stderr",
     "output_type": "stream",
     "text": [
      "\r",
      " 28%|██████████████████████▎                                                        | 529/1873 [02:04<05:31,  4.06it/s]"
     ]
    },
    {
     "data": {
      "text/plain": [
       "'new dataset\\\\folk\\\\folkG15.wav'"
      ]
     },
     "metadata": {},
     "output_type": "display_data"
    },
    {
     "name": "stderr",
     "output_type": "stream",
     "text": [
      "\r",
      " 28%|██████████████████████▎                                                        | 530/1873 [02:04<05:28,  4.09it/s]"
     ]
    },
    {
     "data": {
      "text/plain": [
       "'new dataset\\\\folk\\\\folkG150.wav'"
      ]
     },
     "metadata": {},
     "output_type": "display_data"
    },
    {
     "name": "stderr",
     "output_type": "stream",
     "text": [
      "\r",
      " 28%|██████████████████████▍                                                        | 531/1873 [02:04<05:40,  3.94it/s]"
     ]
    },
    {
     "data": {
      "text/plain": [
       "'new dataset\\\\folk\\\\folkG151.wav'"
      ]
     },
     "metadata": {},
     "output_type": "display_data"
    },
    {
     "name": "stderr",
     "output_type": "stream",
     "text": [
      "\r",
      " 28%|██████████████████████▍                                                        | 532/1873 [02:05<05:40,  3.94it/s]"
     ]
    },
    {
     "data": {
      "text/plain": [
       "'new dataset\\\\folk\\\\folkG152.wav'"
      ]
     },
     "metadata": {},
     "output_type": "display_data"
    },
    {
     "name": "stderr",
     "output_type": "stream",
     "text": [
      "\r",
      " 28%|██████████████████████▍                                                        | 533/1873 [02:05<05:44,  3.89it/s]"
     ]
    },
    {
     "data": {
      "text/plain": [
       "'new dataset\\\\folk\\\\folkG153.wav'"
      ]
     },
     "metadata": {},
     "output_type": "display_data"
    },
    {
     "name": "stderr",
     "output_type": "stream",
     "text": [
      "\r",
      " 29%|██████████████████████▌                                                        | 534/1873 [02:05<05:41,  3.92it/s]"
     ]
    },
    {
     "data": {
      "text/plain": [
       "'new dataset\\\\folk\\\\folkG154.wav'"
      ]
     },
     "metadata": {},
     "output_type": "display_data"
    },
    {
     "name": "stderr",
     "output_type": "stream",
     "text": [
      "\r",
      " 29%|██████████████████████▌                                                        | 535/1873 [02:05<05:50,  3.82it/s]"
     ]
    },
    {
     "data": {
      "text/plain": [
       "'new dataset\\\\folk\\\\folkG155.wav'"
      ]
     },
     "metadata": {},
     "output_type": "display_data"
    },
    {
     "name": "stderr",
     "output_type": "stream",
     "text": [
      "\r",
      " 29%|██████████████████████▌                                                        | 536/1873 [02:06<05:43,  3.89it/s]"
     ]
    },
    {
     "data": {
      "text/plain": [
       "'new dataset\\\\folk\\\\folkG156.wav'"
      ]
     },
     "metadata": {},
     "output_type": "display_data"
    },
    {
     "name": "stderr",
     "output_type": "stream",
     "text": [
      "\r",
      " 29%|██████████████████████▋                                                        | 537/1873 [02:06<05:38,  3.95it/s]"
     ]
    },
    {
     "data": {
      "text/plain": [
       "'new dataset\\\\folk\\\\folkG157.wav'"
      ]
     },
     "metadata": {},
     "output_type": "display_data"
    },
    {
     "name": "stderr",
     "output_type": "stream",
     "text": [
      "\r",
      " 29%|██████████████████████▋                                                        | 538/1873 [02:06<05:37,  3.96it/s]"
     ]
    },
    {
     "data": {
      "text/plain": [
       "'new dataset\\\\folk\\\\folkG158.wav'"
      ]
     },
     "metadata": {},
     "output_type": "display_data"
    },
    {
     "name": "stderr",
     "output_type": "stream",
     "text": [
      "\r",
      " 29%|██████████████████████▋                                                        | 539/1873 [02:06<05:35,  3.98it/s]"
     ]
    },
    {
     "data": {
      "text/plain": [
       "'new dataset\\\\folk\\\\folkG159.wav'"
      ]
     },
     "metadata": {},
     "output_type": "display_data"
    },
    {
     "name": "stderr",
     "output_type": "stream",
     "text": [
      "\r",
      " 29%|██████████████████████▊                                                        | 540/1873 [02:07<05:41,  3.90it/s]"
     ]
    },
    {
     "data": {
      "text/plain": [
       "'new dataset\\\\folk\\\\folkG16.wav'"
      ]
     },
     "metadata": {},
     "output_type": "display_data"
    },
    {
     "name": "stderr",
     "output_type": "stream",
     "text": [
      "\r",
      " 29%|██████████████████████▊                                                        | 541/1873 [02:07<05:35,  3.97it/s]"
     ]
    },
    {
     "data": {
      "text/plain": [
       "'new dataset\\\\folk\\\\folkG160.wav'"
      ]
     },
     "metadata": {},
     "output_type": "display_data"
    },
    {
     "name": "stderr",
     "output_type": "stream",
     "text": [
      "\r",
      " 29%|██████████████████████▊                                                        | 542/1873 [02:07<05:42,  3.89it/s]"
     ]
    },
    {
     "data": {
      "text/plain": [
       "'new dataset\\\\folk\\\\folkG161.wav'"
      ]
     },
     "metadata": {},
     "output_type": "display_data"
    },
    {
     "name": "stderr",
     "output_type": "stream",
     "text": [
      "\r",
      " 29%|██████████████████████▉                                                        | 543/1873 [02:07<05:49,  3.80it/s]"
     ]
    },
    {
     "data": {
      "text/plain": [
       "'new dataset\\\\folk\\\\folkG162.wav'"
      ]
     },
     "metadata": {},
     "output_type": "display_data"
    },
    {
     "name": "stderr",
     "output_type": "stream",
     "text": [
      "\r",
      " 29%|██████████████████████▉                                                        | 544/1873 [02:08<05:51,  3.78it/s]"
     ]
    },
    {
     "data": {
      "text/plain": [
       "'new dataset\\\\folk\\\\folkG163.wav'"
      ]
     },
     "metadata": {},
     "output_type": "display_data"
    },
    {
     "name": "stderr",
     "output_type": "stream",
     "text": [
      "\r",
      " 29%|██████████████████████▉                                                        | 545/1873 [02:08<05:49,  3.80it/s]"
     ]
    },
    {
     "data": {
      "text/plain": [
       "'new dataset\\\\folk\\\\folkG164.wav'"
      ]
     },
     "metadata": {},
     "output_type": "display_data"
    },
    {
     "name": "stderr",
     "output_type": "stream",
     "text": [
      "\r",
      " 29%|███████████████████████                                                        | 546/1873 [02:08<05:41,  3.89it/s]"
     ]
    },
    {
     "data": {
      "text/plain": [
       "'new dataset\\\\folk\\\\folkG165.wav'"
      ]
     },
     "metadata": {},
     "output_type": "display_data"
    },
    {
     "name": "stderr",
     "output_type": "stream",
     "text": [
      "\r",
      " 29%|███████████████████████                                                        | 547/1873 [02:09<05:38,  3.92it/s]"
     ]
    },
    {
     "data": {
      "text/plain": [
       "'new dataset\\\\folk\\\\folkG166.wav'"
      ]
     },
     "metadata": {},
     "output_type": "display_data"
    },
    {
     "name": "stderr",
     "output_type": "stream",
     "text": [
      "\r",
      " 29%|███████████████████████                                                        | 548/1873 [02:09<05:44,  3.85it/s]"
     ]
    },
    {
     "data": {
      "text/plain": [
       "'new dataset\\\\folk\\\\folkG167.wav'"
      ]
     },
     "metadata": {},
     "output_type": "display_data"
    },
    {
     "name": "stderr",
     "output_type": "stream",
     "text": [
      "\r",
      " 29%|███████████████████████▏                                                       | 549/1873 [02:09<05:35,  3.95it/s]"
     ]
    },
    {
     "data": {
      "text/plain": [
       "'new dataset\\\\folk\\\\folkG168.wav'"
      ]
     },
     "metadata": {},
     "output_type": "display_data"
    },
    {
     "name": "stderr",
     "output_type": "stream",
     "text": [
      "\r",
      " 29%|███████████████████████▏                                                       | 550/1873 [02:09<05:32,  3.98it/s]"
     ]
    },
    {
     "data": {
      "text/plain": [
       "'new dataset\\\\folk\\\\folkG169.wav'"
      ]
     },
     "metadata": {},
     "output_type": "display_data"
    },
    {
     "name": "stderr",
     "output_type": "stream",
     "text": [
      "\r",
      " 29%|███████████████████████▏                                                       | 551/1873 [02:10<05:31,  3.99it/s]"
     ]
    },
    {
     "data": {
      "text/plain": [
       "'new dataset\\\\folk\\\\folkG17.wav'"
      ]
     },
     "metadata": {},
     "output_type": "display_data"
    },
    {
     "name": "stderr",
     "output_type": "stream",
     "text": [
      "\r",
      " 29%|███████████████████████▎                                                       | 552/1873 [02:10<05:36,  3.93it/s]"
     ]
    },
    {
     "data": {
      "text/plain": [
       "'new dataset\\\\folk\\\\folkG170.wav'"
      ]
     },
     "metadata": {},
     "output_type": "display_data"
    },
    {
     "name": "stderr",
     "output_type": "stream",
     "text": [
      "\r",
      " 30%|███████████████████████▎                                                       | 553/1873 [02:10<05:33,  3.95it/s]"
     ]
    },
    {
     "data": {
      "text/plain": [
       "'new dataset\\\\folk\\\\folkG171.wav'"
      ]
     },
     "metadata": {},
     "output_type": "display_data"
    },
    {
     "name": "stderr",
     "output_type": "stream",
     "text": [
      "\r",
      " 30%|███████████████████████▎                                                       | 554/1873 [02:10<05:35,  3.93it/s]"
     ]
    },
    {
     "data": {
      "text/plain": [
       "'new dataset\\\\folk\\\\folkG172.wav'"
      ]
     },
     "metadata": {},
     "output_type": "display_data"
    },
    {
     "name": "stderr",
     "output_type": "stream",
     "text": [
      "\r",
      " 30%|███████████████████████▍                                                       | 555/1873 [02:11<05:39,  3.88it/s]"
     ]
    },
    {
     "data": {
      "text/plain": [
       "'new dataset\\\\folk\\\\folkG173.wav'"
      ]
     },
     "metadata": {},
     "output_type": "display_data"
    },
    {
     "name": "stderr",
     "output_type": "stream",
     "text": [
      "\r",
      " 30%|███████████████████████▍                                                       | 556/1873 [02:11<05:46,  3.81it/s]"
     ]
    },
    {
     "data": {
      "text/plain": [
       "'new dataset\\\\folk\\\\folkG174.wav'"
      ]
     },
     "metadata": {},
     "output_type": "display_data"
    },
    {
     "name": "stderr",
     "output_type": "stream",
     "text": [
      "\r",
      " 30%|███████████████████████▍                                                       | 557/1873 [02:11<05:40,  3.87it/s]"
     ]
    },
    {
     "data": {
      "text/plain": [
       "'new dataset\\\\folk\\\\folkG175.wav'"
      ]
     },
     "metadata": {},
     "output_type": "display_data"
    },
    {
     "name": "stderr",
     "output_type": "stream",
     "text": [
      "\r",
      " 30%|███████████████████████▌                                                       | 558/1873 [02:11<05:39,  3.87it/s]"
     ]
    },
    {
     "data": {
      "text/plain": [
       "'new dataset\\\\folk\\\\folkG176.wav'"
      ]
     },
     "metadata": {},
     "output_type": "display_data"
    },
    {
     "name": "stderr",
     "output_type": "stream",
     "text": [
      "\r",
      " 30%|███████████████████████▌                                                       | 559/1873 [02:12<05:39,  3.87it/s]"
     ]
    },
    {
     "data": {
      "text/plain": [
       "'new dataset\\\\folk\\\\folkG177.wav'"
      ]
     },
     "metadata": {},
     "output_type": "display_data"
    },
    {
     "name": "stderr",
     "output_type": "stream",
     "text": [
      "\r",
      " 30%|███████████████████████▌                                                       | 560/1873 [02:12<05:44,  3.81it/s]"
     ]
    },
    {
     "data": {
      "text/plain": [
       "'new dataset\\\\folk\\\\folkG178.wav'"
      ]
     },
     "metadata": {},
     "output_type": "display_data"
    },
    {
     "name": "stderr",
     "output_type": "stream",
     "text": [
      "\r",
      " 30%|███████████████████████▋                                                       | 561/1873 [02:12<05:45,  3.80it/s]"
     ]
    },
    {
     "data": {
      "text/plain": [
       "'new dataset\\\\folk\\\\folkG179.wav'"
      ]
     },
     "metadata": {},
     "output_type": "display_data"
    },
    {
     "name": "stderr",
     "output_type": "stream",
     "text": [
      "\r",
      " 30%|███████████████████████▋                                                       | 562/1873 [02:12<05:38,  3.88it/s]"
     ]
    },
    {
     "data": {
      "text/plain": [
       "'new dataset\\\\folk\\\\folkG18.wav'"
      ]
     },
     "metadata": {},
     "output_type": "display_data"
    },
    {
     "name": "stderr",
     "output_type": "stream",
     "text": [
      "\r",
      " 30%|███████████████████████▋                                                       | 563/1873 [02:13<05:44,  3.80it/s]"
     ]
    },
    {
     "data": {
      "text/plain": [
       "'new dataset\\\\folk\\\\folkG180.wav'"
      ]
     },
     "metadata": {},
     "output_type": "display_data"
    },
    {
     "name": "stderr",
     "output_type": "stream",
     "text": [
      "\r",
      " 30%|███████████████████████▊                                                       | 564/1873 [02:13<05:42,  3.82it/s]"
     ]
    },
    {
     "data": {
      "text/plain": [
       "'new dataset\\\\folk\\\\folkG181.wav'"
      ]
     },
     "metadata": {},
     "output_type": "display_data"
    },
    {
     "name": "stderr",
     "output_type": "stream",
     "text": [
      "\r",
      " 30%|███████████████████████▊                                                       | 565/1873 [02:13<05:43,  3.81it/s]"
     ]
    },
    {
     "data": {
      "text/plain": [
       "'new dataset\\\\folk\\\\folkG182.wav'"
      ]
     },
     "metadata": {},
     "output_type": "display_data"
    },
    {
     "name": "stderr",
     "output_type": "stream",
     "text": [
      "\r",
      " 30%|███████████████████████▊                                                       | 566/1873 [02:13<05:54,  3.69it/s]"
     ]
    },
    {
     "data": {
      "text/plain": [
       "'new dataset\\\\folk\\\\folkG183.wav'"
      ]
     },
     "metadata": {},
     "output_type": "display_data"
    },
    {
     "name": "stderr",
     "output_type": "stream",
     "text": [
      "\r",
      " 30%|███████████████████████▉                                                       | 567/1873 [02:14<05:50,  3.72it/s]"
     ]
    },
    {
     "data": {
      "text/plain": [
       "'new dataset\\\\folk\\\\folkG184.wav'"
      ]
     },
     "metadata": {},
     "output_type": "display_data"
    },
    {
     "name": "stderr",
     "output_type": "stream",
     "text": [
      "\r",
      " 30%|███████████████████████▉                                                       | 568/1873 [02:14<05:42,  3.81it/s]"
     ]
    },
    {
     "data": {
      "text/plain": [
       "'new dataset\\\\folk\\\\folkG185.wav'"
      ]
     },
     "metadata": {},
     "output_type": "display_data"
    },
    {
     "name": "stderr",
     "output_type": "stream",
     "text": [
      "\r",
      " 30%|███████████████████████▉                                                       | 569/1873 [02:14<05:41,  3.81it/s]"
     ]
    },
    {
     "data": {
      "text/plain": [
       "'new dataset\\\\folk\\\\folkG186.wav'"
      ]
     },
     "metadata": {},
     "output_type": "display_data"
    },
    {
     "name": "stderr",
     "output_type": "stream",
     "text": [
      "\r",
      " 30%|████████████████████████                                                       | 570/1873 [02:15<05:46,  3.76it/s]"
     ]
    },
    {
     "data": {
      "text/plain": [
       "'new dataset\\\\folk\\\\folkG187.wav'"
      ]
     },
     "metadata": {},
     "output_type": "display_data"
    },
    {
     "name": "stderr",
     "output_type": "stream",
     "text": [
      "\r",
      " 30%|████████████████████████                                                       | 571/1873 [02:15<05:46,  3.76it/s]"
     ]
    },
    {
     "data": {
      "text/plain": [
       "'new dataset\\\\folk\\\\folkG188.wav'"
      ]
     },
     "metadata": {},
     "output_type": "display_data"
    },
    {
     "name": "stderr",
     "output_type": "stream",
     "text": [
      "\r",
      " 31%|████████████████████████▏                                                      | 572/1873 [02:15<05:48,  3.73it/s]"
     ]
    },
    {
     "data": {
      "text/plain": [
       "'new dataset\\\\folk\\\\folkG189.wav'"
      ]
     },
     "metadata": {},
     "output_type": "display_data"
    },
    {
     "name": "stderr",
     "output_type": "stream",
     "text": [
      "\r",
      " 31%|████████████████████████▏                                                      | 573/1873 [02:15<05:51,  3.70it/s]"
     ]
    },
    {
     "data": {
      "text/plain": [
       "'new dataset\\\\folk\\\\folkG19.wav'"
      ]
     },
     "metadata": {},
     "output_type": "display_data"
    },
    {
     "name": "stderr",
     "output_type": "stream",
     "text": [
      "\r",
      " 31%|████████████████████████▏                                                      | 574/1873 [02:16<05:51,  3.70it/s]"
     ]
    },
    {
     "data": {
      "text/plain": [
       "'new dataset\\\\folk\\\\folkG190.wav'"
      ]
     },
     "metadata": {},
     "output_type": "display_data"
    },
    {
     "name": "stderr",
     "output_type": "stream",
     "text": [
      "\r",
      " 31%|████████████████████████▎                                                      | 575/1873 [02:16<05:45,  3.75it/s]"
     ]
    },
    {
     "data": {
      "text/plain": [
       "'new dataset\\\\folk\\\\folkG191.wav'"
      ]
     },
     "metadata": {},
     "output_type": "display_data"
    },
    {
     "name": "stderr",
     "output_type": "stream",
     "text": [
      "\r",
      " 31%|████████████████████████▎                                                      | 576/1873 [02:16<05:41,  3.80it/s]"
     ]
    },
    {
     "data": {
      "text/plain": [
       "'new dataset\\\\folk\\\\folkG192.wav'"
      ]
     },
     "metadata": {},
     "output_type": "display_data"
    },
    {
     "name": "stderr",
     "output_type": "stream",
     "text": [
      "\r",
      " 31%|████████████████████████▎                                                      | 577/1873 [02:16<05:45,  3.75it/s]"
     ]
    },
    {
     "data": {
      "text/plain": [
       "'new dataset\\\\folk\\\\folkG193.wav'"
      ]
     },
     "metadata": {},
     "output_type": "display_data"
    },
    {
     "name": "stderr",
     "output_type": "stream",
     "text": [
      "\r",
      " 31%|████████████████████████▍                                                      | 578/1873 [02:17<05:47,  3.73it/s]"
     ]
    },
    {
     "data": {
      "text/plain": [
       "'new dataset\\\\folk\\\\folkG194.wav'"
      ]
     },
     "metadata": {},
     "output_type": "display_data"
    },
    {
     "name": "stderr",
     "output_type": "stream",
     "text": [
      "\r",
      " 31%|████████████████████████▍                                                      | 579/1873 [02:17<05:44,  3.75it/s]"
     ]
    },
    {
     "data": {
      "text/plain": [
       "'new dataset\\\\folk\\\\folkG195.wav'"
      ]
     },
     "metadata": {},
     "output_type": "display_data"
    },
    {
     "name": "stderr",
     "output_type": "stream",
     "text": [
      "\r",
      " 31%|████████████████████████▍                                                      | 580/1873 [02:17<05:39,  3.81it/s]"
     ]
    },
    {
     "data": {
      "text/plain": [
       "'new dataset\\\\folk\\\\folkG196.wav'"
      ]
     },
     "metadata": {},
     "output_type": "display_data"
    },
    {
     "name": "stderr",
     "output_type": "stream",
     "text": [
      "\r",
      " 31%|████████████████████████▌                                                      | 581/1873 [02:17<05:35,  3.85it/s]"
     ]
    },
    {
     "data": {
      "text/plain": [
       "'new dataset\\\\folk\\\\folkG197.wav'"
      ]
     },
     "metadata": {},
     "output_type": "display_data"
    },
    {
     "name": "stderr",
     "output_type": "stream",
     "text": [
      "\r",
      " 31%|████████████████████████▌                                                      | 582/1873 [02:18<05:36,  3.84it/s]"
     ]
    },
    {
     "data": {
      "text/plain": [
       "'new dataset\\\\folk\\\\folkG198.wav'"
      ]
     },
     "metadata": {},
     "output_type": "display_data"
    },
    {
     "name": "stderr",
     "output_type": "stream",
     "text": [
      "\r",
      " 31%|████████████████████████▌                                                      | 583/1873 [02:18<05:38,  3.81it/s]"
     ]
    },
    {
     "data": {
      "text/plain": [
       "'new dataset\\\\folk\\\\folkG199.wav'"
      ]
     },
     "metadata": {},
     "output_type": "display_data"
    },
    {
     "name": "stderr",
     "output_type": "stream",
     "text": [
      "\r",
      " 31%|████████████████████████▋                                                      | 584/1873 [02:18<05:43,  3.75it/s]"
     ]
    },
    {
     "data": {
      "text/plain": [
       "'new dataset\\\\folk\\\\folkG2.wav'"
      ]
     },
     "metadata": {},
     "output_type": "display_data"
    },
    {
     "name": "stderr",
     "output_type": "stream",
     "text": [
      "\r",
      " 31%|████████████████████████▋                                                      | 585/1873 [02:18<05:41,  3.77it/s]"
     ]
    },
    {
     "data": {
      "text/plain": [
       "'new dataset\\\\folk\\\\folkG20.wav'"
      ]
     },
     "metadata": {},
     "output_type": "display_data"
    },
    {
     "name": "stderr",
     "output_type": "stream",
     "text": [
      "\r",
      " 31%|████████████████████████▋                                                      | 586/1873 [02:19<05:40,  3.78it/s]"
     ]
    },
    {
     "data": {
      "text/plain": [
       "'new dataset\\\\folk\\\\folkG200.wav'"
      ]
     },
     "metadata": {},
     "output_type": "display_data"
    },
    {
     "name": "stderr",
     "output_type": "stream",
     "text": [
      "\r",
      " 31%|████████████████████████▊                                                      | 587/1873 [02:19<05:48,  3.69it/s]"
     ]
    },
    {
     "data": {
      "text/plain": [
       "'new dataset\\\\folk\\\\folkG201.wav'"
      ]
     },
     "metadata": {},
     "output_type": "display_data"
    },
    {
     "name": "stderr",
     "output_type": "stream",
     "text": [
      "\r",
      " 31%|████████████████████████▊                                                      | 588/1873 [02:19<06:06,  3.51it/s]"
     ]
    },
    {
     "data": {
      "text/plain": [
       "'new dataset\\\\folk\\\\folkG202.wav'"
      ]
     },
     "metadata": {},
     "output_type": "display_data"
    },
    {
     "name": "stderr",
     "output_type": "stream",
     "text": [
      "\r",
      " 31%|████████████████████████▊                                                      | 589/1873 [02:20<05:56,  3.60it/s]"
     ]
    },
    {
     "data": {
      "text/plain": [
       "'new dataset\\\\folk\\\\folkG203.wav'"
      ]
     },
     "metadata": {},
     "output_type": "display_data"
    },
    {
     "name": "stderr",
     "output_type": "stream",
     "text": [
      "\r",
      " 32%|████████████████████████▉                                                      | 590/1873 [02:20<05:50,  3.66it/s]"
     ]
    },
    {
     "data": {
      "text/plain": [
       "'new dataset\\\\folk\\\\folkG204.wav'"
      ]
     },
     "metadata": {},
     "output_type": "display_data"
    },
    {
     "name": "stderr",
     "output_type": "stream",
     "text": [
      "\r",
      " 32%|████████████████████████▉                                                      | 591/1873 [02:20<05:52,  3.64it/s]"
     ]
    },
    {
     "data": {
      "text/plain": [
       "'new dataset\\\\folk\\\\folkG205.wav'"
      ]
     },
     "metadata": {},
     "output_type": "display_data"
    },
    {
     "name": "stderr",
     "output_type": "stream",
     "text": [
      "\r",
      " 32%|████████████████████████▉                                                      | 592/1873 [02:20<05:58,  3.57it/s]"
     ]
    },
    {
     "data": {
      "text/plain": [
       "'new dataset\\\\folk\\\\folkG206.wav'"
      ]
     },
     "metadata": {},
     "output_type": "display_data"
    },
    {
     "name": "stderr",
     "output_type": "stream",
     "text": [
      "\r",
      " 32%|█████████████████████████                                                      | 593/1873 [02:21<05:58,  3.57it/s]"
     ]
    },
    {
     "data": {
      "text/plain": [
       "'new dataset\\\\folk\\\\folkG207.wav'"
      ]
     },
     "metadata": {},
     "output_type": "display_data"
    },
    {
     "name": "stderr",
     "output_type": "stream",
     "text": [
      "\r",
      " 32%|█████████████████████████                                                      | 594/1873 [02:21<05:57,  3.58it/s]"
     ]
    },
    {
     "data": {
      "text/plain": [
       "'new dataset\\\\folk\\\\folkG208.wav'"
      ]
     },
     "metadata": {},
     "output_type": "display_data"
    },
    {
     "name": "stderr",
     "output_type": "stream",
     "text": [
      "\r",
      " 32%|█████████████████████████                                                      | 595/1873 [02:21<05:58,  3.57it/s]"
     ]
    },
    {
     "data": {
      "text/plain": [
       "'new dataset\\\\folk\\\\folkG209.wav'"
      ]
     },
     "metadata": {},
     "output_type": "display_data"
    },
    {
     "name": "stderr",
     "output_type": "stream",
     "text": [
      "\r",
      " 32%|█████████████████████████▏                                                     | 596/1873 [02:22<05:50,  3.64it/s]"
     ]
    },
    {
     "data": {
      "text/plain": [
       "'new dataset\\\\folk\\\\folkG21.wav'"
      ]
     },
     "metadata": {},
     "output_type": "display_data"
    },
    {
     "name": "stderr",
     "output_type": "stream",
     "text": [
      "\r",
      " 32%|█████████████████████████▏                                                     | 597/1873 [02:22<05:45,  3.70it/s]"
     ]
    },
    {
     "data": {
      "text/plain": [
       "'new dataset\\\\folk\\\\folkG210.wav'"
      ]
     },
     "metadata": {},
     "output_type": "display_data"
    },
    {
     "name": "stderr",
     "output_type": "stream",
     "text": [
      "\r",
      " 32%|█████████████████████████▏                                                     | 598/1873 [02:22<05:45,  3.70it/s]"
     ]
    },
    {
     "data": {
      "text/plain": [
       "'new dataset\\\\folk\\\\folkG211.wav'"
      ]
     },
     "metadata": {},
     "output_type": "display_data"
    },
    {
     "name": "stderr",
     "output_type": "stream",
     "text": [
      "\r",
      " 32%|█████████████████████████▎                                                     | 599/1873 [02:22<05:45,  3.69it/s]"
     ]
    },
    {
     "data": {
      "text/plain": [
       "'new dataset\\\\folk\\\\folkG212.wav'"
      ]
     },
     "metadata": {},
     "output_type": "display_data"
    },
    {
     "name": "stderr",
     "output_type": "stream",
     "text": [
      "\r",
      " 32%|█████████████████████████▎                                                     | 600/1873 [02:23<05:48,  3.66it/s]"
     ]
    },
    {
     "data": {
      "text/plain": [
       "'new dataset\\\\folk\\\\folkG213.wav'"
      ]
     },
     "metadata": {},
     "output_type": "display_data"
    },
    {
     "name": "stderr",
     "output_type": "stream",
     "text": [
      "\r",
      " 32%|█████████████████████████▎                                                     | 601/1873 [02:23<05:41,  3.72it/s]"
     ]
    },
    {
     "data": {
      "text/plain": [
       "'new dataset\\\\folk\\\\folkG214.wav'"
      ]
     },
     "metadata": {},
     "output_type": "display_data"
    },
    {
     "name": "stderr",
     "output_type": "stream",
     "text": [
      "\r",
      " 32%|█████████████████████████▍                                                     | 602/1873 [02:23<05:46,  3.67it/s]"
     ]
    },
    {
     "data": {
      "text/plain": [
       "'new dataset\\\\folk\\\\folkG215.wav'"
      ]
     },
     "metadata": {},
     "output_type": "display_data"
    },
    {
     "name": "stderr",
     "output_type": "stream",
     "text": [
      "\r",
      " 32%|█████████████████████████▍                                                     | 603/1873 [02:23<05:42,  3.71it/s]"
     ]
    },
    {
     "data": {
      "text/plain": [
       "'new dataset\\\\folk\\\\folkG216.wav'"
      ]
     },
     "metadata": {},
     "output_type": "display_data"
    },
    {
     "name": "stderr",
     "output_type": "stream",
     "text": [
      "\r",
      " 32%|█████████████████████████▍                                                     | 604/1873 [02:24<05:48,  3.64it/s]"
     ]
    },
    {
     "data": {
      "text/plain": [
       "'new dataset\\\\folk\\\\folkG217.wav'"
      ]
     },
     "metadata": {},
     "output_type": "display_data"
    },
    {
     "name": "stderr",
     "output_type": "stream",
     "text": [
      "\r",
      " 32%|█████████████████████████▌                                                     | 605/1873 [02:24<05:48,  3.64it/s]"
     ]
    },
    {
     "data": {
      "text/plain": [
       "'new dataset\\\\folk\\\\folkG218.wav'"
      ]
     },
     "metadata": {},
     "output_type": "display_data"
    },
    {
     "name": "stderr",
     "output_type": "stream",
     "text": [
      "\r",
      " 32%|█████████████████████████▌                                                     | 606/1873 [02:24<05:47,  3.64it/s]"
     ]
    },
    {
     "data": {
      "text/plain": [
       "'new dataset\\\\folk\\\\folkG219.wav'"
      ]
     },
     "metadata": {},
     "output_type": "display_data"
    },
    {
     "name": "stderr",
     "output_type": "stream",
     "text": [
      "\r",
      " 32%|█████████████████████████▌                                                     | 607/1873 [02:25<05:49,  3.62it/s]"
     ]
    },
    {
     "data": {
      "text/plain": [
       "'new dataset\\\\folk\\\\folkG22.wav'"
      ]
     },
     "metadata": {},
     "output_type": "display_data"
    },
    {
     "name": "stderr",
     "output_type": "stream",
     "text": [
      "\r",
      " 32%|█████████████████████████▋                                                     | 608/1873 [02:25<05:59,  3.52it/s]"
     ]
    },
    {
     "data": {
      "text/plain": [
       "'new dataset\\\\folk\\\\folkG220.wav'"
      ]
     },
     "metadata": {},
     "output_type": "display_data"
    },
    {
     "name": "stderr",
     "output_type": "stream",
     "text": [
      "\r",
      " 33%|█████████████████████████▋                                                     | 609/1873 [02:25<05:53,  3.57it/s]"
     ]
    },
    {
     "data": {
      "text/plain": [
       "'new dataset\\\\folk\\\\folkG221.wav'"
      ]
     },
     "metadata": {},
     "output_type": "display_data"
    },
    {
     "name": "stderr",
     "output_type": "stream",
     "text": [
      "\r",
      " 33%|█████████████████████████▋                                                     | 610/1873 [02:25<05:50,  3.61it/s]"
     ]
    },
    {
     "data": {
      "text/plain": [
       "'new dataset\\\\folk\\\\folkG222.wav'"
      ]
     },
     "metadata": {},
     "output_type": "display_data"
    },
    {
     "name": "stderr",
     "output_type": "stream",
     "text": [
      "\r",
      " 33%|█████████████████████████▊                                                     | 611/1873 [02:26<05:44,  3.66it/s]"
     ]
    },
    {
     "data": {
      "text/plain": [
       "'new dataset\\\\folk\\\\folkG223.wav'"
      ]
     },
     "metadata": {},
     "output_type": "display_data"
    },
    {
     "name": "stderr",
     "output_type": "stream",
     "text": [
      "\r",
      " 33%|█████████████████████████▊                                                     | 612/1873 [02:26<05:46,  3.64it/s]"
     ]
    },
    {
     "data": {
      "text/plain": [
       "'new dataset\\\\folk\\\\folkG224.wav'"
      ]
     },
     "metadata": {},
     "output_type": "display_data"
    },
    {
     "name": "stderr",
     "output_type": "stream",
     "text": [
      "\r",
      " 33%|█████████████████████████▊                                                     | 613/1873 [02:26<05:43,  3.67it/s]"
     ]
    },
    {
     "data": {
      "text/plain": [
       "'new dataset\\\\folk\\\\folkG225.wav'"
      ]
     },
     "metadata": {},
     "output_type": "display_data"
    },
    {
     "name": "stderr",
     "output_type": "stream",
     "text": [
      "\r",
      " 33%|█████████████████████████▉                                                     | 614/1873 [02:26<05:46,  3.63it/s]"
     ]
    },
    {
     "data": {
      "text/plain": [
       "'new dataset\\\\folk\\\\folkG226.wav'"
      ]
     },
     "metadata": {},
     "output_type": "display_data"
    },
    {
     "name": "stderr",
     "output_type": "stream",
     "text": [
      "\r",
      " 33%|█████████████████████████▉                                                     | 615/1873 [02:27<05:45,  3.64it/s]"
     ]
    },
    {
     "data": {
      "text/plain": [
       "'new dataset\\\\folk\\\\folkG227.wav'"
      ]
     },
     "metadata": {},
     "output_type": "display_data"
    },
    {
     "name": "stderr",
     "output_type": "stream",
     "text": [
      "\r",
      " 33%|█████████████████████████▉                                                     | 616/1873 [02:27<05:41,  3.68it/s]"
     ]
    },
    {
     "data": {
      "text/plain": [
       "'new dataset\\\\folk\\\\folkG228.wav'"
      ]
     },
     "metadata": {},
     "output_type": "display_data"
    },
    {
     "name": "stderr",
     "output_type": "stream",
     "text": [
      "\r",
      " 33%|██████████████████████████                                                     | 617/1873 [02:27<05:36,  3.73it/s]"
     ]
    },
    {
     "data": {
      "text/plain": [
       "'new dataset\\\\folk\\\\folkG229.wav'"
      ]
     },
     "metadata": {},
     "output_type": "display_data"
    },
    {
     "name": "stderr",
     "output_type": "stream",
     "text": [
      "\r",
      " 33%|██████████████████████████                                                     | 618/1873 [02:28<05:37,  3.72it/s]"
     ]
    },
    {
     "data": {
      "text/plain": [
       "'new dataset\\\\folk\\\\folkG23.wav'"
      ]
     },
     "metadata": {},
     "output_type": "display_data"
    },
    {
     "name": "stderr",
     "output_type": "stream",
     "text": [
      "\r",
      " 33%|██████████████████████████                                                     | 619/1873 [02:28<05:35,  3.73it/s]"
     ]
    },
    {
     "data": {
      "text/plain": [
       "'new dataset\\\\folk\\\\folkG230.wav'"
      ]
     },
     "metadata": {},
     "output_type": "display_data"
    },
    {
     "name": "stderr",
     "output_type": "stream",
     "text": [
      "\r",
      " 33%|██████████████████████████▏                                                    | 620/1873 [02:28<05:37,  3.72it/s]"
     ]
    },
    {
     "data": {
      "text/plain": [
       "'new dataset\\\\folk\\\\folkG231.wav'"
      ]
     },
     "metadata": {},
     "output_type": "display_data"
    },
    {
     "name": "stderr",
     "output_type": "stream",
     "text": [
      "\r",
      " 33%|██████████████████████████▏                                                    | 621/1873 [02:28<05:36,  3.72it/s]"
     ]
    },
    {
     "data": {
      "text/plain": [
       "'new dataset\\\\folk\\\\folkG232.wav'"
      ]
     },
     "metadata": {},
     "output_type": "display_data"
    },
    {
     "name": "stderr",
     "output_type": "stream",
     "text": [
      "\r",
      " 33%|██████████████████████████▏                                                    | 622/1873 [02:29<05:34,  3.74it/s]"
     ]
    },
    {
     "data": {
      "text/plain": [
       "'new dataset\\\\folk\\\\folkG233.wav'"
      ]
     },
     "metadata": {},
     "output_type": "display_data"
    },
    {
     "name": "stderr",
     "output_type": "stream",
     "text": [
      "\r",
      " 33%|██████████████████████████▎                                                    | 623/1873 [02:29<05:47,  3.60it/s]"
     ]
    },
    {
     "data": {
      "text/plain": [
       "'new dataset\\\\folk\\\\folkG234.wav'"
      ]
     },
     "metadata": {},
     "output_type": "display_data"
    },
    {
     "name": "stderr",
     "output_type": "stream",
     "text": [
      "\r",
      " 33%|██████████████████████████▎                                                    | 624/1873 [02:29<05:58,  3.49it/s]"
     ]
    },
    {
     "data": {
      "text/plain": [
       "'new dataset\\\\folk\\\\folkG235.wav'"
      ]
     },
     "metadata": {},
     "output_type": "display_data"
    },
    {
     "name": "stderr",
     "output_type": "stream",
     "text": [
      "\r",
      " 33%|██████████████████████████▎                                                    | 625/1873 [02:29<05:43,  3.63it/s]"
     ]
    },
    {
     "data": {
      "text/plain": [
       "'new dataset\\\\folk\\\\folkG236.wav'"
      ]
     },
     "metadata": {},
     "output_type": "display_data"
    },
    {
     "name": "stderr",
     "output_type": "stream",
     "text": [
      "\r",
      " 33%|██████████████████████████▍                                                    | 626/1873 [02:30<05:51,  3.55it/s]"
     ]
    },
    {
     "data": {
      "text/plain": [
       "'new dataset\\\\folk\\\\folkG237.wav'"
      ]
     },
     "metadata": {},
     "output_type": "display_data"
    },
    {
     "name": "stderr",
     "output_type": "stream",
     "text": [
      "\r",
      " 33%|██████████████████████████▍                                                    | 627/1873 [02:30<05:44,  3.62it/s]"
     ]
    },
    {
     "data": {
      "text/plain": [
       "'new dataset\\\\folk\\\\folkG238.wav'"
      ]
     },
     "metadata": {},
     "output_type": "display_data"
    },
    {
     "name": "stderr",
     "output_type": "stream",
     "text": [
      "\r",
      " 34%|██████████████████████████▍                                                    | 628/1873 [02:30<05:45,  3.61it/s]"
     ]
    },
    {
     "data": {
      "text/plain": [
       "'new dataset\\\\folk\\\\folkG239.wav'"
      ]
     },
     "metadata": {},
     "output_type": "display_data"
    },
    {
     "name": "stderr",
     "output_type": "stream",
     "text": [
      "\r",
      " 34%|██████████████████████████▌                                                    | 629/1873 [02:31<05:31,  3.75it/s]"
     ]
    },
    {
     "data": {
      "text/plain": [
       "'new dataset\\\\folk\\\\folkG24.wav'"
      ]
     },
     "metadata": {},
     "output_type": "display_data"
    },
    {
     "name": "stderr",
     "output_type": "stream",
     "text": [
      "\r",
      " 34%|██████████████████████████▌                                                    | 630/1873 [02:31<05:25,  3.82it/s]"
     ]
    },
    {
     "data": {
      "text/plain": [
       "'new dataset\\\\folk\\\\folkG240.wav'"
      ]
     },
     "metadata": {},
     "output_type": "display_data"
    },
    {
     "name": "stderr",
     "output_type": "stream",
     "text": [
      "\r",
      " 34%|██████████████████████████▌                                                    | 631/1873 [02:31<05:21,  3.86it/s]"
     ]
    },
    {
     "data": {
      "text/plain": [
       "'new dataset\\\\folk\\\\folkG241.wav'"
      ]
     },
     "metadata": {},
     "output_type": "display_data"
    },
    {
     "name": "stderr",
     "output_type": "stream",
     "text": [
      "\r",
      " 34%|██████████████████████████▋                                                    | 632/1873 [02:31<05:29,  3.77it/s]"
     ]
    },
    {
     "data": {
      "text/plain": [
       "'new dataset\\\\folk\\\\folkG242.wav'"
      ]
     },
     "metadata": {},
     "output_type": "display_data"
    },
    {
     "name": "stderr",
     "output_type": "stream",
     "text": [
      "\r",
      " 34%|██████████████████████████▋                                                    | 633/1873 [02:32<05:33,  3.72it/s]"
     ]
    },
    {
     "data": {
      "text/plain": [
       "'new dataset\\\\folk\\\\folkG243.wav'"
      ]
     },
     "metadata": {},
     "output_type": "display_data"
    },
    {
     "name": "stderr",
     "output_type": "stream",
     "text": [
      "\r",
      " 34%|██████████████████████████▋                                                    | 634/1873 [02:32<05:26,  3.79it/s]"
     ]
    },
    {
     "data": {
      "text/plain": [
       "'new dataset\\\\folk\\\\folkG244.wav'"
      ]
     },
     "metadata": {},
     "output_type": "display_data"
    },
    {
     "name": "stderr",
     "output_type": "stream",
     "text": [
      "\r",
      " 34%|██████████████████████████▊                                                    | 635/1873 [02:32<05:22,  3.83it/s]"
     ]
    },
    {
     "data": {
      "text/plain": [
       "'new dataset\\\\folk\\\\folkG245.wav'"
      ]
     },
     "metadata": {},
     "output_type": "display_data"
    },
    {
     "name": "stderr",
     "output_type": "stream",
     "text": [
      "\r",
      " 34%|██████████████████████████▊                                                    | 636/1873 [02:32<05:15,  3.92it/s]"
     ]
    },
    {
     "data": {
      "text/plain": [
       "'new dataset\\\\folk\\\\folkG246.wav'"
      ]
     },
     "metadata": {},
     "output_type": "display_data"
    },
    {
     "name": "stderr",
     "output_type": "stream",
     "text": [
      "\r",
      " 34%|██████████████████████████▊                                                    | 637/1873 [02:33<05:20,  3.86it/s]"
     ]
    },
    {
     "data": {
      "text/plain": [
       "'new dataset\\\\folk\\\\folkG247.wav'"
      ]
     },
     "metadata": {},
     "output_type": "display_data"
    },
    {
     "name": "stderr",
     "output_type": "stream",
     "text": [
      "\r",
      " 34%|██████████████████████████▉                                                    | 638/1873 [02:33<05:10,  3.98it/s]"
     ]
    },
    {
     "data": {
      "text/plain": [
       "'new dataset\\\\folk\\\\folkG248.wav'"
      ]
     },
     "metadata": {},
     "output_type": "display_data"
    },
    {
     "name": "stderr",
     "output_type": "stream",
     "text": [
      "\r",
      " 34%|██████████████████████████▉                                                    | 639/1873 [02:33<05:05,  4.04it/s]"
     ]
    },
    {
     "data": {
      "text/plain": [
       "'new dataset\\\\folk\\\\folkG249.wav'"
      ]
     },
     "metadata": {},
     "output_type": "display_data"
    },
    {
     "name": "stderr",
     "output_type": "stream",
     "text": [
      "\r",
      " 34%|██████████████████████████▉                                                    | 640/1873 [02:33<05:05,  4.04it/s]"
     ]
    },
    {
     "data": {
      "text/plain": [
       "'new dataset\\\\folk\\\\folkG25.wav'"
      ]
     },
     "metadata": {},
     "output_type": "display_data"
    },
    {
     "name": "stderr",
     "output_type": "stream",
     "text": [
      "\r",
      " 34%|███████████████████████████                                                    | 641/1873 [02:34<05:08,  4.00it/s]"
     ]
    },
    {
     "data": {
      "text/plain": [
       "'new dataset\\\\folk\\\\folkG250.wav'"
      ]
     },
     "metadata": {},
     "output_type": "display_data"
    },
    {
     "name": "stderr",
     "output_type": "stream",
     "text": [
      "\r",
      " 34%|███████████████████████████                                                    | 642/1873 [02:34<05:23,  3.80it/s]"
     ]
    },
    {
     "data": {
      "text/plain": [
       "'new dataset\\\\folk\\\\folkG251.wav'"
      ]
     },
     "metadata": {},
     "output_type": "display_data"
    },
    {
     "name": "stderr",
     "output_type": "stream",
     "text": [
      "\r",
      " 34%|███████████████████████████                                                    | 643/1873 [02:34<05:23,  3.80it/s]"
     ]
    },
    {
     "data": {
      "text/plain": [
       "'new dataset\\\\folk\\\\folkG252.wav'"
      ]
     },
     "metadata": {},
     "output_type": "display_data"
    },
    {
     "name": "stderr",
     "output_type": "stream",
     "text": [
      "\r",
      " 34%|███████████████████████████▏                                                   | 644/1873 [02:34<05:21,  3.83it/s]"
     ]
    },
    {
     "data": {
      "text/plain": [
       "'new dataset\\\\folk\\\\folkG253.wav'"
      ]
     },
     "metadata": {},
     "output_type": "display_data"
    },
    {
     "name": "stderr",
     "output_type": "stream",
     "text": [
      "\r",
      " 34%|███████████████████████████▏                                                   | 645/1873 [02:35<05:18,  3.85it/s]"
     ]
    },
    {
     "data": {
      "text/plain": [
       "'new dataset\\\\folk\\\\folkG254.wav'"
      ]
     },
     "metadata": {},
     "output_type": "display_data"
    },
    {
     "name": "stderr",
     "output_type": "stream",
     "text": [
      "\r",
      " 34%|███████████████████████████▏                                                   | 646/1873 [02:35<05:19,  3.84it/s]"
     ]
    },
    {
     "data": {
      "text/plain": [
       "'new dataset\\\\folk\\\\folkG255.wav'"
      ]
     },
     "metadata": {},
     "output_type": "display_data"
    },
    {
     "name": "stderr",
     "output_type": "stream",
     "text": [
      "\r",
      " 35%|███████████████████████████▎                                                   | 647/1873 [02:35<05:10,  3.95it/s]"
     ]
    },
    {
     "data": {
      "text/plain": [
       "'new dataset\\\\folk\\\\folkG256.wav'"
      ]
     },
     "metadata": {},
     "output_type": "display_data"
    },
    {
     "name": "stderr",
     "output_type": "stream",
     "text": [
      "\r",
      " 35%|███████████████████████████▎                                                   | 648/1873 [02:35<05:11,  3.93it/s]"
     ]
    },
    {
     "data": {
      "text/plain": [
       "'new dataset\\\\folk\\\\folkG257.wav'"
      ]
     },
     "metadata": {},
     "output_type": "display_data"
    },
    {
     "name": "stderr",
     "output_type": "stream",
     "text": [
      "\r",
      " 35%|███████████████████████████▎                                                   | 649/1873 [02:36<05:10,  3.94it/s]"
     ]
    },
    {
     "data": {
      "text/plain": [
       "'new dataset\\\\folk\\\\folkG258.wav'"
      ]
     },
     "metadata": {},
     "output_type": "display_data"
    },
    {
     "name": "stderr",
     "output_type": "stream",
     "text": [
      "\r",
      " 35%|███████████████████████████▍                                                   | 650/1873 [02:36<05:11,  3.93it/s]"
     ]
    },
    {
     "data": {
      "text/plain": [
       "'new dataset\\\\folk\\\\folkG259.wav'"
      ]
     },
     "metadata": {},
     "output_type": "display_data"
    },
    {
     "name": "stderr",
     "output_type": "stream",
     "text": [
      "\r",
      " 35%|███████████████████████████▍                                                   | 651/1873 [02:36<05:10,  3.93it/s]"
     ]
    },
    {
     "data": {
      "text/plain": [
       "'new dataset\\\\folk\\\\folkG26.wav'"
      ]
     },
     "metadata": {},
     "output_type": "display_data"
    },
    {
     "name": "stderr",
     "output_type": "stream",
     "text": [
      "\r",
      " 35%|███████████████████████████▌                                                   | 652/1873 [02:36<05:12,  3.90it/s]"
     ]
    },
    {
     "data": {
      "text/plain": [
       "'new dataset\\\\folk\\\\folkG260.wav'"
      ]
     },
     "metadata": {},
     "output_type": "display_data"
    },
    {
     "name": "stderr",
     "output_type": "stream",
     "text": [
      "\r",
      " 35%|███████████████████████████▌                                                   | 653/1873 [02:37<05:16,  3.86it/s]"
     ]
    },
    {
     "data": {
      "text/plain": [
       "'new dataset\\\\folk\\\\folkG261.wav'"
      ]
     },
     "metadata": {},
     "output_type": "display_data"
    },
    {
     "name": "stderr",
     "output_type": "stream",
     "text": [
      "\r",
      " 35%|███████████████████████████▌                                                   | 654/1873 [02:37<05:14,  3.88it/s]"
     ]
    },
    {
     "data": {
      "text/plain": [
       "'new dataset\\\\folk\\\\folkG262.wav'"
      ]
     },
     "metadata": {},
     "output_type": "display_data"
    },
    {
     "name": "stderr",
     "output_type": "stream",
     "text": [
      "\r",
      " 35%|███████████████████████████▋                                                   | 655/1873 [02:37<05:21,  3.79it/s]"
     ]
    },
    {
     "data": {
      "text/plain": [
       "'new dataset\\\\folk\\\\folkG263.wav'"
      ]
     },
     "metadata": {},
     "output_type": "display_data"
    },
    {
     "name": "stderr",
     "output_type": "stream",
     "text": [
      "\r",
      " 35%|███████████████████████████▋                                                   | 656/1873 [02:38<05:23,  3.76it/s]"
     ]
    },
    {
     "data": {
      "text/plain": [
       "'new dataset\\\\folk\\\\folkG264.wav'"
      ]
     },
     "metadata": {},
     "output_type": "display_data"
    },
    {
     "name": "stderr",
     "output_type": "stream",
     "text": [
      "\r",
      " 35%|███████████████████████████▋                                                   | 657/1873 [02:38<05:21,  3.78it/s]"
     ]
    },
    {
     "data": {
      "text/plain": [
       "'new dataset\\\\folk\\\\folkG265.wav'"
      ]
     },
     "metadata": {},
     "output_type": "display_data"
    },
    {
     "name": "stderr",
     "output_type": "stream",
     "text": [
      "\r",
      " 35%|███████████████████████████▊                                                   | 658/1873 [02:38<05:23,  3.76it/s]"
     ]
    },
    {
     "data": {
      "text/plain": [
       "'new dataset\\\\folk\\\\folkG266.wav'"
      ]
     },
     "metadata": {},
     "output_type": "display_data"
    },
    {
     "name": "stderr",
     "output_type": "stream",
     "text": [
      "\r",
      " 35%|███████████████████████████▊                                                   | 659/1873 [02:38<05:22,  3.77it/s]"
     ]
    },
    {
     "data": {
      "text/plain": [
       "'new dataset\\\\folk\\\\folkG267.wav'"
      ]
     },
     "metadata": {},
     "output_type": "display_data"
    },
    {
     "name": "stderr",
     "output_type": "stream",
     "text": [
      "\r",
      " 35%|███████████████████████████▊                                                   | 660/1873 [02:39<05:22,  3.76it/s]"
     ]
    },
    {
     "data": {
      "text/plain": [
       "'new dataset\\\\folk\\\\folkG268.wav'"
      ]
     },
     "metadata": {},
     "output_type": "display_data"
    },
    {
     "name": "stderr",
     "output_type": "stream",
     "text": [
      "\r",
      " 35%|███████████████████████████▉                                                   | 661/1873 [02:39<05:13,  3.86it/s]"
     ]
    },
    {
     "data": {
      "text/plain": [
       "'new dataset\\\\folk\\\\folkG269.wav'"
      ]
     },
     "metadata": {},
     "output_type": "display_data"
    },
    {
     "name": "stderr",
     "output_type": "stream",
     "text": [
      "\r",
      " 35%|███████████████████████████▉                                                   | 662/1873 [02:39<05:14,  3.85it/s]"
     ]
    },
    {
     "data": {
      "text/plain": [
       "'new dataset\\\\folk\\\\folkG27.wav'"
      ]
     },
     "metadata": {},
     "output_type": "display_data"
    },
    {
     "name": "stderr",
     "output_type": "stream",
     "text": [
      "\r",
      " 35%|███████████████████████████▉                                                   | 663/1873 [02:39<05:17,  3.81it/s]"
     ]
    },
    {
     "data": {
      "text/plain": [
       "'new dataset\\\\folk\\\\folkG270.wav'"
      ]
     },
     "metadata": {},
     "output_type": "display_data"
    },
    {
     "name": "stderr",
     "output_type": "stream",
     "text": [
      "\r",
      " 35%|████████████████████████████                                                   | 664/1873 [02:40<05:21,  3.76it/s]"
     ]
    },
    {
     "data": {
      "text/plain": [
       "'new dataset\\\\folk\\\\folkG271.wav'"
      ]
     },
     "metadata": {},
     "output_type": "display_data"
    },
    {
     "name": "stderr",
     "output_type": "stream",
     "text": [
      "\r",
      " 36%|████████████████████████████                                                   | 665/1873 [02:40<05:17,  3.80it/s]"
     ]
    },
    {
     "data": {
      "text/plain": [
       "'new dataset\\\\folk\\\\folkG272.wav'"
      ]
     },
     "metadata": {},
     "output_type": "display_data"
    },
    {
     "name": "stderr",
     "output_type": "stream",
     "text": [
      "\r",
      " 36%|████████████████████████████                                                   | 666/1873 [02:40<05:16,  3.81it/s]"
     ]
    },
    {
     "data": {
      "text/plain": [
       "'new dataset\\\\folk\\\\folkG273.wav'"
      ]
     },
     "metadata": {},
     "output_type": "display_data"
    },
    {
     "name": "stderr",
     "output_type": "stream",
     "text": [
      "\r",
      " 36%|████████████████████████████▏                                                  | 667/1873 [02:40<05:17,  3.80it/s]"
     ]
    },
    {
     "data": {
      "text/plain": [
       "'new dataset\\\\folk\\\\folkG274.wav'"
      ]
     },
     "metadata": {},
     "output_type": "display_data"
    },
    {
     "name": "stderr",
     "output_type": "stream",
     "text": [
      "\r",
      " 36%|████████████████████████████▏                                                  | 668/1873 [02:41<05:22,  3.74it/s]"
     ]
    },
    {
     "data": {
      "text/plain": [
       "'new dataset\\\\folk\\\\folkG275.wav'"
      ]
     },
     "metadata": {},
     "output_type": "display_data"
    },
    {
     "name": "stderr",
     "output_type": "stream",
     "text": [
      "\r",
      " 36%|████████████████████████████▏                                                  | 669/1873 [02:41<05:14,  3.83it/s]"
     ]
    },
    {
     "data": {
      "text/plain": [
       "'new dataset\\\\folk\\\\folkG276.wav'"
      ]
     },
     "metadata": {},
     "output_type": "display_data"
    },
    {
     "name": "stderr",
     "output_type": "stream",
     "text": [
      "\r",
      " 36%|████████████████████████████▎                                                  | 670/1873 [02:41<05:10,  3.87it/s]"
     ]
    },
    {
     "data": {
      "text/plain": [
       "'new dataset\\\\folk\\\\folkG277.wav'"
      ]
     },
     "metadata": {},
     "output_type": "display_data"
    },
    {
     "name": "stderr",
     "output_type": "stream",
     "text": [
      "\r",
      " 36%|████████████████████████████▎                                                  | 671/1873 [02:41<05:11,  3.86it/s]"
     ]
    },
    {
     "data": {
      "text/plain": [
       "'new dataset\\\\folk\\\\folkG278.wav'"
      ]
     },
     "metadata": {},
     "output_type": "display_data"
    },
    {
     "name": "stderr",
     "output_type": "stream",
     "text": [
      "\r",
      " 36%|████████████████████████████▎                                                  | 672/1873 [02:42<05:13,  3.83it/s]"
     ]
    },
    {
     "data": {
      "text/plain": [
       "'new dataset\\\\folk\\\\folkG279.wav'"
      ]
     },
     "metadata": {},
     "output_type": "display_data"
    },
    {
     "name": "stderr",
     "output_type": "stream",
     "text": [
      "\r",
      " 36%|████████████████████████████▍                                                  | 673/1873 [02:42<05:16,  3.80it/s]"
     ]
    },
    {
     "data": {
      "text/plain": [
       "'new dataset\\\\folk\\\\folkG28.wav'"
      ]
     },
     "metadata": {},
     "output_type": "display_data"
    },
    {
     "name": "stderr",
     "output_type": "stream",
     "text": [
      "\r",
      " 36%|████████████████████████████▍                                                  | 674/1873 [02:42<05:12,  3.83it/s]"
     ]
    },
    {
     "data": {
      "text/plain": [
       "'new dataset\\\\folk\\\\folkG280.wav'"
      ]
     },
     "metadata": {},
     "output_type": "display_data"
    },
    {
     "name": "stderr",
     "output_type": "stream",
     "text": [
      "\r",
      " 36%|████████████████████████████▍                                                  | 675/1873 [02:43<05:12,  3.83it/s]"
     ]
    },
    {
     "data": {
      "text/plain": [
       "'new dataset\\\\folk\\\\folkG281.wav'"
      ]
     },
     "metadata": {},
     "output_type": "display_data"
    },
    {
     "name": "stderr",
     "output_type": "stream",
     "text": [
      "\r",
      " 36%|████████████████████████████▌                                                  | 676/1873 [02:43<05:29,  3.63it/s]"
     ]
    },
    {
     "data": {
      "text/plain": [
       "'new dataset\\\\folk\\\\folkG282.wav'"
      ]
     },
     "metadata": {},
     "output_type": "display_data"
    },
    {
     "name": "stderr",
     "output_type": "stream",
     "text": [
      "\r",
      " 36%|████████████████████████████▌                                                  | 677/1873 [02:43<05:37,  3.55it/s]"
     ]
    },
    {
     "data": {
      "text/plain": [
       "'new dataset\\\\folk\\\\folkG283.wav'"
      ]
     },
     "metadata": {},
     "output_type": "display_data"
    },
    {
     "name": "stderr",
     "output_type": "stream",
     "text": [
      "\r",
      " 36%|████████████████████████████▌                                                  | 678/1873 [02:43<05:34,  3.57it/s]"
     ]
    },
    {
     "data": {
      "text/plain": [
       "'new dataset\\\\folk\\\\folkG284.wav'"
      ]
     },
     "metadata": {},
     "output_type": "display_data"
    },
    {
     "name": "stderr",
     "output_type": "stream",
     "text": [
      "\r",
      " 36%|████████████████████████████▋                                                  | 679/1873 [02:44<05:27,  3.64it/s]"
     ]
    },
    {
     "data": {
      "text/plain": [
       "'new dataset\\\\folk\\\\folkG285.wav'"
      ]
     },
     "metadata": {},
     "output_type": "display_data"
    },
    {
     "name": "stderr",
     "output_type": "stream",
     "text": [
      "\r",
      " 36%|████████████████████████████▋                                                  | 680/1873 [02:44<05:20,  3.72it/s]"
     ]
    },
    {
     "data": {
      "text/plain": [
       "'new dataset\\\\folk\\\\folkG286.wav'"
      ]
     },
     "metadata": {},
     "output_type": "display_data"
    },
    {
     "name": "stderr",
     "output_type": "stream",
     "text": [
      "\r",
      " 36%|████████████████████████████▋                                                  | 681/1873 [02:44<05:22,  3.69it/s]"
     ]
    },
    {
     "data": {
      "text/plain": [
       "'new dataset\\\\folk\\\\folkG287.wav'"
      ]
     },
     "metadata": {},
     "output_type": "display_data"
    },
    {
     "name": "stderr",
     "output_type": "stream",
     "text": [
      "\r",
      " 36%|████████████████████████████▊                                                  | 682/1873 [02:44<05:19,  3.73it/s]"
     ]
    },
    {
     "data": {
      "text/plain": [
       "'new dataset\\\\folk\\\\folkG288.wav'"
      ]
     },
     "metadata": {},
     "output_type": "display_data"
    },
    {
     "name": "stderr",
     "output_type": "stream",
     "text": [
      "\r",
      " 36%|████████████████████████████▊                                                  | 683/1873 [02:45<05:22,  3.70it/s]"
     ]
    },
    {
     "data": {
      "text/plain": [
       "'new dataset\\\\folk\\\\folkG289.wav'"
      ]
     },
     "metadata": {},
     "output_type": "display_data"
    },
    {
     "name": "stderr",
     "output_type": "stream",
     "text": [
      "\r",
      " 37%|████████████████████████████▊                                                  | 684/1873 [02:45<05:21,  3.69it/s]"
     ]
    },
    {
     "data": {
      "text/plain": [
       "'new dataset\\\\folk\\\\folkG29.wav'"
      ]
     },
     "metadata": {},
     "output_type": "display_data"
    },
    {
     "name": "stderr",
     "output_type": "stream",
     "text": [
      "\r",
      " 37%|████████████████████████████▉                                                  | 685/1873 [02:45<05:18,  3.73it/s]"
     ]
    },
    {
     "data": {
      "text/plain": [
       "'new dataset\\\\folk\\\\folkG290.wav'"
      ]
     },
     "metadata": {},
     "output_type": "display_data"
    },
    {
     "name": "stderr",
     "output_type": "stream",
     "text": [
      "\r",
      " 37%|████████████████████████████▉                                                  | 686/1873 [02:46<05:18,  3.73it/s]"
     ]
    },
    {
     "data": {
      "text/plain": [
       "'new dataset\\\\folk\\\\folkG291.wav'"
      ]
     },
     "metadata": {},
     "output_type": "display_data"
    },
    {
     "name": "stderr",
     "output_type": "stream",
     "text": [
      "\r",
      " 37%|████████████████████████████▉                                                  | 687/1873 [02:46<05:17,  3.74it/s]"
     ]
    },
    {
     "data": {
      "text/plain": [
       "'new dataset\\\\folk\\\\folkG292.wav'"
      ]
     },
     "metadata": {},
     "output_type": "display_data"
    },
    {
     "name": "stderr",
     "output_type": "stream",
     "text": [
      "\r",
      " 37%|█████████████████████████████                                                  | 688/1873 [02:46<05:17,  3.74it/s]"
     ]
    },
    {
     "data": {
      "text/plain": [
       "'new dataset\\\\folk\\\\folkG293.wav'"
      ]
     },
     "metadata": {},
     "output_type": "display_data"
    },
    {
     "name": "stderr",
     "output_type": "stream",
     "text": [
      "\r",
      " 37%|█████████████████████████████                                                  | 689/1873 [02:46<05:18,  3.71it/s]"
     ]
    },
    {
     "data": {
      "text/plain": [
       "'new dataset\\\\folk\\\\folkG294.wav'"
      ]
     },
     "metadata": {},
     "output_type": "display_data"
    },
    {
     "name": "stderr",
     "output_type": "stream",
     "text": [
      "\r",
      " 37%|█████████████████████████████                                                  | 690/1873 [02:47<05:14,  3.76it/s]"
     ]
    },
    {
     "data": {
      "text/plain": [
       "'new dataset\\\\folk\\\\folkG295.wav'"
      ]
     },
     "metadata": {},
     "output_type": "display_data"
    },
    {
     "name": "stderr",
     "output_type": "stream",
     "text": [
      "\r",
      " 37%|█████████████████████████████▏                                                 | 691/1873 [02:47<05:17,  3.73it/s]"
     ]
    },
    {
     "data": {
      "text/plain": [
       "'new dataset\\\\folk\\\\folkG296.wav'"
      ]
     },
     "metadata": {},
     "output_type": "display_data"
    },
    {
     "name": "stderr",
     "output_type": "stream",
     "text": [
      "\r",
      " 37%|█████████████████████████████▏                                                 | 692/1873 [02:47<05:09,  3.82it/s]"
     ]
    },
    {
     "data": {
      "text/plain": [
       "'new dataset\\\\folk\\\\folkG297.wav'"
      ]
     },
     "metadata": {},
     "output_type": "display_data"
    },
    {
     "name": "stderr",
     "output_type": "stream",
     "text": [
      "\r",
      " 37%|█████████████████████████████▏                                                 | 693/1873 [02:47<05:14,  3.75it/s]"
     ]
    },
    {
     "data": {
      "text/plain": [
       "'new dataset\\\\folk\\\\folkG298.wav'"
      ]
     },
     "metadata": {},
     "output_type": "display_data"
    },
    {
     "name": "stderr",
     "output_type": "stream",
     "text": [
      "\r",
      " 37%|█████████████████████████████▎                                                 | 694/1873 [02:48<05:16,  3.72it/s]"
     ]
    },
    {
     "data": {
      "text/plain": [
       "'new dataset\\\\folk\\\\folkG299.wav'"
      ]
     },
     "metadata": {},
     "output_type": "display_data"
    },
    {
     "name": "stderr",
     "output_type": "stream",
     "text": [
      "\r",
      " 37%|█████████████████████████████▎                                                 | 695/1873 [02:48<05:11,  3.79it/s]"
     ]
    },
    {
     "data": {
      "text/plain": [
       "'new dataset\\\\folk\\\\folkG3.wav'"
      ]
     },
     "metadata": {},
     "output_type": "display_data"
    },
    {
     "name": "stderr",
     "output_type": "stream",
     "text": [
      "\r",
      " 37%|█████████████████████████████▎                                                 | 696/1873 [02:48<05:05,  3.85it/s]"
     ]
    },
    {
     "data": {
      "text/plain": [
       "'new dataset\\\\folk\\\\folkG30.wav'"
      ]
     },
     "metadata": {},
     "output_type": "display_data"
    },
    {
     "name": "stderr",
     "output_type": "stream",
     "text": [
      "\r",
      " 37%|█████████████████████████████▍                                                 | 697/1873 [02:48<04:59,  3.93it/s]"
     ]
    },
    {
     "data": {
      "text/plain": [
       "'new dataset\\\\folk\\\\folkG300.wav'"
      ]
     },
     "metadata": {},
     "output_type": "display_data"
    },
    {
     "name": "stderr",
     "output_type": "stream",
     "text": [
      "\r",
      " 37%|█████████████████████████████▍                                                 | 698/1873 [02:49<05:08,  3.81it/s]"
     ]
    },
    {
     "data": {
      "text/plain": [
       "'new dataset\\\\folk\\\\folkG301.wav'"
      ]
     },
     "metadata": {},
     "output_type": "display_data"
    },
    {
     "name": "stderr",
     "output_type": "stream",
     "text": [
      "\r",
      " 37%|█████████████████████████████▍                                                 | 699/1873 [02:49<05:01,  3.90it/s]"
     ]
    },
    {
     "data": {
      "text/plain": [
       "'new dataset\\\\folk\\\\folkG302.wav'"
      ]
     },
     "metadata": {},
     "output_type": "display_data"
    },
    {
     "name": "stderr",
     "output_type": "stream",
     "text": [
      "\r",
      " 37%|█████████████████████████████▌                                                 | 700/1873 [02:49<05:00,  3.91it/s]"
     ]
    },
    {
     "data": {
      "text/plain": [
       "'new dataset\\\\folk\\\\folkG303.wav'"
      ]
     },
     "metadata": {},
     "output_type": "display_data"
    },
    {
     "name": "stderr",
     "output_type": "stream",
     "text": [
      "\r",
      " 37%|█████████████████████████████▌                                                 | 701/1873 [02:49<04:58,  3.92it/s]"
     ]
    },
    {
     "data": {
      "text/plain": [
       "'new dataset\\\\folk\\\\folkG304.wav'"
      ]
     },
     "metadata": {},
     "output_type": "display_data"
    },
    {
     "name": "stderr",
     "output_type": "stream",
     "text": [
      "\r",
      " 37%|█████████████████████████████▌                                                 | 702/1873 [02:50<05:10,  3.77it/s]"
     ]
    },
    {
     "data": {
      "text/plain": [
       "'new dataset\\\\folk\\\\folkG305.wav'"
      ]
     },
     "metadata": {},
     "output_type": "display_data"
    },
    {
     "name": "stderr",
     "output_type": "stream",
     "text": [
      "\r",
      " 38%|█████████████████████████████▋                                                 | 703/1873 [02:50<05:14,  3.72it/s]"
     ]
    },
    {
     "data": {
      "text/plain": [
       "'new dataset\\\\folk\\\\folkG306.wav'"
      ]
     },
     "metadata": {},
     "output_type": "display_data"
    },
    {
     "name": "stderr",
     "output_type": "stream",
     "text": [
      "\r",
      " 38%|█████████████████████████████▋                                                 | 704/1873 [02:50<05:15,  3.70it/s]"
     ]
    },
    {
     "data": {
      "text/plain": [
       "'new dataset\\\\folk\\\\folkG307.wav'"
      ]
     },
     "metadata": {},
     "output_type": "display_data"
    },
    {
     "name": "stderr",
     "output_type": "stream",
     "text": [
      "\r",
      " 38%|█████████████████████████████▋                                                 | 705/1873 [02:51<05:10,  3.76it/s]"
     ]
    },
    {
     "data": {
      "text/plain": [
       "'new dataset\\\\folk\\\\folkG308.wav'"
      ]
     },
     "metadata": {},
     "output_type": "display_data"
    },
    {
     "name": "stderr",
     "output_type": "stream",
     "text": [
      "\r",
      " 38%|█████████████████████████████▊                                                 | 706/1873 [02:51<05:14,  3.71it/s]"
     ]
    },
    {
     "data": {
      "text/plain": [
       "'new dataset\\\\folk\\\\folkG309.wav'"
      ]
     },
     "metadata": {},
     "output_type": "display_data"
    },
    {
     "name": "stderr",
     "output_type": "stream",
     "text": [
      "\r",
      " 38%|█████████████████████████████▊                                                 | 707/1873 [02:51<05:13,  3.72it/s]"
     ]
    },
    {
     "data": {
      "text/plain": [
       "'new dataset\\\\folk\\\\folkG31.wav'"
      ]
     },
     "metadata": {},
     "output_type": "display_data"
    },
    {
     "name": "stderr",
     "output_type": "stream",
     "text": [
      "\r",
      " 38%|█████████████████████████████▊                                                 | 708/1873 [02:51<05:12,  3.73it/s]"
     ]
    },
    {
     "data": {
      "text/plain": [
       "'new dataset\\\\folk\\\\folkG310.wav'"
      ]
     },
     "metadata": {},
     "output_type": "display_data"
    },
    {
     "name": "stderr",
     "output_type": "stream",
     "text": [
      "\r",
      " 38%|█████████████████████████████▉                                                 | 709/1873 [02:52<05:07,  3.79it/s]"
     ]
    },
    {
     "data": {
      "text/plain": [
       "'new dataset\\\\folk\\\\folkG311.wav'"
      ]
     },
     "metadata": {},
     "output_type": "display_data"
    },
    {
     "name": "stderr",
     "output_type": "stream",
     "text": [
      "\r",
      " 38%|█████████████████████████████▉                                                 | 710/1873 [02:52<05:05,  3.81it/s]"
     ]
    },
    {
     "data": {
      "text/plain": [
       "'new dataset\\\\folk\\\\folkG312.wav'"
      ]
     },
     "metadata": {},
     "output_type": "display_data"
    },
    {
     "name": "stderr",
     "output_type": "stream",
     "text": [
      "\r",
      " 38%|█████████████████████████████▉                                                 | 711/1873 [02:52<05:04,  3.82it/s]"
     ]
    },
    {
     "data": {
      "text/plain": [
       "'new dataset\\\\folk\\\\folkG313.wav'"
      ]
     },
     "metadata": {},
     "output_type": "display_data"
    },
    {
     "name": "stderr",
     "output_type": "stream",
     "text": [
      "\r",
      " 38%|██████████████████████████████                                                 | 712/1873 [02:52<05:11,  3.73it/s]"
     ]
    },
    {
     "data": {
      "text/plain": [
       "'new dataset\\\\folk\\\\folkG32.wav'"
      ]
     },
     "metadata": {},
     "output_type": "display_data"
    },
    {
     "name": "stderr",
     "output_type": "stream",
     "text": [
      "\r",
      " 38%|██████████████████████████████                                                 | 713/1873 [02:53<05:19,  3.63it/s]"
     ]
    },
    {
     "data": {
      "text/plain": [
       "'new dataset\\\\folk\\\\folkG33.wav'"
      ]
     },
     "metadata": {},
     "output_type": "display_data"
    },
    {
     "name": "stderr",
     "output_type": "stream",
     "text": [
      "\r",
      " 38%|██████████████████████████████                                                 | 714/1873 [02:53<05:20,  3.61it/s]"
     ]
    },
    {
     "data": {
      "text/plain": [
       "'new dataset\\\\folk\\\\folkG34.wav'"
      ]
     },
     "metadata": {},
     "output_type": "display_data"
    },
    {
     "name": "stderr",
     "output_type": "stream",
     "text": [
      "\r",
      " 38%|██████████████████████████████▏                                                | 715/1873 [02:53<05:19,  3.62it/s]"
     ]
    },
    {
     "data": {
      "text/plain": [
       "'new dataset\\\\folk\\\\folkG35.wav'"
      ]
     },
     "metadata": {},
     "output_type": "display_data"
    },
    {
     "name": "stderr",
     "output_type": "stream",
     "text": [
      "\r",
      " 38%|██████████████████████████████▏                                                | 716/1873 [02:54<05:19,  3.62it/s]"
     ]
    },
    {
     "data": {
      "text/plain": [
       "'new dataset\\\\folk\\\\folkG36.wav'"
      ]
     },
     "metadata": {},
     "output_type": "display_data"
    },
    {
     "name": "stderr",
     "output_type": "stream",
     "text": [
      "\r",
      " 38%|██████████████████████████████▏                                                | 717/1873 [02:54<05:23,  3.57it/s]"
     ]
    },
    {
     "data": {
      "text/plain": [
       "'new dataset\\\\folk\\\\folkG37.wav'"
      ]
     },
     "metadata": {},
     "output_type": "display_data"
    },
    {
     "name": "stderr",
     "output_type": "stream",
     "text": [
      "\r",
      " 38%|██████████████████████████████▎                                                | 718/1873 [02:54<05:37,  3.42it/s]"
     ]
    },
    {
     "data": {
      "text/plain": [
       "'new dataset\\\\folk\\\\folkG38.wav'"
      ]
     },
     "metadata": {},
     "output_type": "display_data"
    },
    {
     "name": "stderr",
     "output_type": "stream",
     "text": [
      "\r",
      " 38%|██████████████████████████████▎                                                | 719/1873 [02:54<05:43,  3.36it/s]"
     ]
    },
    {
     "data": {
      "text/plain": [
       "'new dataset\\\\folk\\\\folkG39.wav'"
      ]
     },
     "metadata": {},
     "output_type": "display_data"
    },
    {
     "name": "stderr",
     "output_type": "stream",
     "text": [
      "\r",
      " 38%|██████████████████████████████▎                                                | 720/1873 [02:55<05:35,  3.44it/s]"
     ]
    },
    {
     "data": {
      "text/plain": [
       "'new dataset\\\\folk\\\\folkG4.wav'"
      ]
     },
     "metadata": {},
     "output_type": "display_data"
    },
    {
     "name": "stderr",
     "output_type": "stream",
     "text": [
      "\r",
      " 38%|██████████████████████████████▍                                                | 721/1873 [02:55<05:26,  3.52it/s]"
     ]
    },
    {
     "data": {
      "text/plain": [
       "'new dataset\\\\folk\\\\folkG40.wav'"
      ]
     },
     "metadata": {},
     "output_type": "display_data"
    },
    {
     "name": "stderr",
     "output_type": "stream",
     "text": [
      "\r",
      " 39%|██████████████████████████████▍                                                | 722/1873 [02:55<05:34,  3.44it/s]"
     ]
    },
    {
     "data": {
      "text/plain": [
       "'new dataset\\\\folk\\\\folkG41.wav'"
      ]
     },
     "metadata": {},
     "output_type": "display_data"
    },
    {
     "name": "stderr",
     "output_type": "stream",
     "text": [
      "\r",
      " 39%|██████████████████████████████▍                                                | 723/1873 [02:56<05:22,  3.57it/s]"
     ]
    },
    {
     "data": {
      "text/plain": [
       "'new dataset\\\\folk\\\\folkG42.wav'"
      ]
     },
     "metadata": {},
     "output_type": "display_data"
    },
    {
     "name": "stderr",
     "output_type": "stream",
     "text": [
      "\r",
      " 39%|██████████████████████████████▌                                                | 724/1873 [02:56<05:14,  3.65it/s]"
     ]
    },
    {
     "data": {
      "text/plain": [
       "'new dataset\\\\folk\\\\folkG43.wav'"
      ]
     },
     "metadata": {},
     "output_type": "display_data"
    },
    {
     "name": "stderr",
     "output_type": "stream",
     "text": [
      "\r",
      " 39%|██████████████████████████████▌                                                | 725/1873 [02:56<05:13,  3.66it/s]"
     ]
    },
    {
     "data": {
      "text/plain": [
       "'new dataset\\\\folk\\\\folkG44.wav'"
      ]
     },
     "metadata": {},
     "output_type": "display_data"
    },
    {
     "name": "stderr",
     "output_type": "stream",
     "text": [
      "\r",
      " 39%|██████████████████████████████▌                                                | 726/1873 [02:56<05:10,  3.69it/s]"
     ]
    },
    {
     "data": {
      "text/plain": [
       "'new dataset\\\\folk\\\\folkG45.wav'"
      ]
     },
     "metadata": {},
     "output_type": "display_data"
    },
    {
     "name": "stderr",
     "output_type": "stream",
     "text": [
      "\r",
      " 39%|██████████████████████████████▋                                                | 727/1873 [02:57<05:12,  3.67it/s]"
     ]
    },
    {
     "data": {
      "text/plain": [
       "'new dataset\\\\folk\\\\folkG46.wav'"
      ]
     },
     "metadata": {},
     "output_type": "display_data"
    },
    {
     "name": "stderr",
     "output_type": "stream",
     "text": [
      "\r",
      " 39%|██████████████████████████████▋                                                | 728/1873 [02:57<05:12,  3.66it/s]"
     ]
    },
    {
     "data": {
      "text/plain": [
       "'new dataset\\\\folk\\\\folkG47.wav'"
      ]
     },
     "metadata": {},
     "output_type": "display_data"
    },
    {
     "name": "stderr",
     "output_type": "stream",
     "text": [
      "\r",
      " 39%|██████████████████████████████▋                                                | 729/1873 [02:57<05:07,  3.72it/s]"
     ]
    },
    {
     "data": {
      "text/plain": [
       "'new dataset\\\\folk\\\\folkG48.wav'"
      ]
     },
     "metadata": {},
     "output_type": "display_data"
    },
    {
     "name": "stderr",
     "output_type": "stream",
     "text": [
      "\r",
      " 39%|██████████████████████████████▊                                                | 730/1873 [02:57<05:05,  3.74it/s]"
     ]
    },
    {
     "data": {
      "text/plain": [
       "'new dataset\\\\folk\\\\folkG49.wav'"
      ]
     },
     "metadata": {},
     "output_type": "display_data"
    },
    {
     "name": "stderr",
     "output_type": "stream",
     "text": [
      "\r",
      " 39%|██████████████████████████████▊                                                | 731/1873 [02:58<05:05,  3.74it/s]"
     ]
    },
    {
     "data": {
      "text/plain": [
       "'new dataset\\\\folk\\\\folkG5.wav'"
      ]
     },
     "metadata": {},
     "output_type": "display_data"
    },
    {
     "name": "stderr",
     "output_type": "stream",
     "text": [
      "\r",
      " 39%|██████████████████████████████▊                                                | 732/1873 [02:58<05:02,  3.77it/s]"
     ]
    },
    {
     "data": {
      "text/plain": [
       "'new dataset\\\\folk\\\\folkG50.wav'"
      ]
     },
     "metadata": {},
     "output_type": "display_data"
    },
    {
     "name": "stderr",
     "output_type": "stream",
     "text": [
      "\r",
      " 39%|██████████████████████████████▉                                                | 733/1873 [02:58<05:05,  3.74it/s]"
     ]
    },
    {
     "data": {
      "text/plain": [
       "'new dataset\\\\folk\\\\folkG51.wav'"
      ]
     },
     "metadata": {},
     "output_type": "display_data"
    },
    {
     "name": "stderr",
     "output_type": "stream",
     "text": [
      "\r",
      " 39%|██████████████████████████████▉                                                | 734/1873 [02:59<05:12,  3.65it/s]"
     ]
    },
    {
     "data": {
      "text/plain": [
       "'new dataset\\\\folk\\\\folkG52.wav'"
      ]
     },
     "metadata": {},
     "output_type": "display_data"
    },
    {
     "name": "stderr",
     "output_type": "stream",
     "text": [
      "\r",
      " 39%|███████████████████████████████                                                | 735/1873 [02:59<05:10,  3.66it/s]"
     ]
    },
    {
     "data": {
      "text/plain": [
       "'new dataset\\\\folk\\\\folkG53.wav'"
      ]
     },
     "metadata": {},
     "output_type": "display_data"
    },
    {
     "name": "stderr",
     "output_type": "stream",
     "text": [
      "\r",
      " 39%|███████████████████████████████                                                | 736/1873 [02:59<05:08,  3.69it/s]"
     ]
    },
    {
     "data": {
      "text/plain": [
       "'new dataset\\\\folk\\\\folkG54.wav'"
      ]
     },
     "metadata": {},
     "output_type": "display_data"
    },
    {
     "name": "stderr",
     "output_type": "stream",
     "text": [
      "\r",
      " 39%|███████████████████████████████                                                | 737/1873 [02:59<05:05,  3.72it/s]"
     ]
    },
    {
     "data": {
      "text/plain": [
       "'new dataset\\\\folk\\\\folkG55.wav'"
      ]
     },
     "metadata": {},
     "output_type": "display_data"
    },
    {
     "name": "stderr",
     "output_type": "stream",
     "text": [
      "\r",
      " 39%|███████████████████████████████▏                                               | 738/1873 [03:00<05:06,  3.70it/s]"
     ]
    },
    {
     "data": {
      "text/plain": [
       "'new dataset\\\\folk\\\\folkG56.wav'"
      ]
     },
     "metadata": {},
     "output_type": "display_data"
    },
    {
     "name": "stderr",
     "output_type": "stream",
     "text": [
      "\r",
      " 39%|███████████████████████████████▏                                               | 739/1873 [03:00<05:10,  3.65it/s]"
     ]
    },
    {
     "data": {
      "text/plain": [
       "'new dataset\\\\folk\\\\folkG57.wav'"
      ]
     },
     "metadata": {},
     "output_type": "display_data"
    },
    {
     "name": "stderr",
     "output_type": "stream",
     "text": [
      "\r",
      " 40%|███████████████████████████████▏                                               | 740/1873 [03:00<05:07,  3.68it/s]"
     ]
    },
    {
     "data": {
      "text/plain": [
       "'new dataset\\\\folk\\\\folkG58.wav'"
      ]
     },
     "metadata": {},
     "output_type": "display_data"
    },
    {
     "name": "stderr",
     "output_type": "stream",
     "text": [
      "\r",
      " 40%|███████████████████████████████▎                                               | 741/1873 [03:00<05:06,  3.70it/s]"
     ]
    },
    {
     "data": {
      "text/plain": [
       "'new dataset\\\\folk\\\\folkG59.wav'"
      ]
     },
     "metadata": {},
     "output_type": "display_data"
    },
    {
     "name": "stderr",
     "output_type": "stream",
     "text": [
      "\r",
      " 40%|███████████████████████████████▎                                               | 742/1873 [03:01<05:09,  3.66it/s]"
     ]
    },
    {
     "data": {
      "text/plain": [
       "'new dataset\\\\folk\\\\folkG6.wav'"
      ]
     },
     "metadata": {},
     "output_type": "display_data"
    },
    {
     "name": "stderr",
     "output_type": "stream",
     "text": [
      "\r",
      " 40%|███████████████████████████████▎                                               | 743/1873 [03:01<05:11,  3.62it/s]"
     ]
    },
    {
     "data": {
      "text/plain": [
       "'new dataset\\\\folk\\\\folkG60.wav'"
      ]
     },
     "metadata": {},
     "output_type": "display_data"
    },
    {
     "name": "stderr",
     "output_type": "stream",
     "text": [
      "\r",
      " 40%|███████████████████████████████▍                                               | 744/1873 [03:01<05:06,  3.68it/s]"
     ]
    },
    {
     "data": {
      "text/plain": [
       "'new dataset\\\\folk\\\\folkG61.wav'"
      ]
     },
     "metadata": {},
     "output_type": "display_data"
    },
    {
     "name": "stderr",
     "output_type": "stream",
     "text": [
      "\r",
      " 40%|███████████████████████████████▍                                               | 745/1873 [03:01<04:58,  3.78it/s]"
     ]
    },
    {
     "data": {
      "text/plain": [
       "'new dataset\\\\folk\\\\folkG62.wav'"
      ]
     },
     "metadata": {},
     "output_type": "display_data"
    },
    {
     "name": "stderr",
     "output_type": "stream",
     "text": [
      "\r",
      " 40%|███████████████████████████████▍                                               | 746/1873 [03:02<04:59,  3.77it/s]"
     ]
    },
    {
     "data": {
      "text/plain": [
       "'new dataset\\\\folk\\\\folkG63.wav'"
      ]
     },
     "metadata": {},
     "output_type": "display_data"
    },
    {
     "name": "stderr",
     "output_type": "stream",
     "text": [
      "\r",
      " 40%|███████████████████████████████▌                                               | 747/1873 [03:02<04:59,  3.76it/s]"
     ]
    },
    {
     "data": {
      "text/plain": [
       "'new dataset\\\\folk\\\\folkG64.wav'"
      ]
     },
     "metadata": {},
     "output_type": "display_data"
    },
    {
     "name": "stderr",
     "output_type": "stream",
     "text": [
      "\r",
      " 40%|███████████████████████████████▌                                               | 748/1873 [03:02<04:56,  3.79it/s]"
     ]
    },
    {
     "data": {
      "text/plain": [
       "'new dataset\\\\folk\\\\folkG65.wav'"
      ]
     },
     "metadata": {},
     "output_type": "display_data"
    },
    {
     "name": "stderr",
     "output_type": "stream",
     "text": [
      "\r",
      " 40%|███████████████████████████████▌                                               | 749/1873 [03:03<04:54,  3.82it/s]"
     ]
    },
    {
     "data": {
      "text/plain": [
       "'new dataset\\\\folk\\\\folkG66.wav'"
      ]
     },
     "metadata": {},
     "output_type": "display_data"
    },
    {
     "name": "stderr",
     "output_type": "stream",
     "text": [
      "\r",
      " 40%|███████████████████████████████▋                                               | 750/1873 [03:03<04:54,  3.82it/s]"
     ]
    },
    {
     "data": {
      "text/plain": [
       "'new dataset\\\\folk\\\\folkG67.wav'"
      ]
     },
     "metadata": {},
     "output_type": "display_data"
    },
    {
     "name": "stderr",
     "output_type": "stream",
     "text": [
      "\r",
      " 40%|███████████████████████████████▋                                               | 751/1873 [03:03<04:50,  3.86it/s]"
     ]
    },
    {
     "data": {
      "text/plain": [
       "'new dataset\\\\folk\\\\folkG68.wav'"
      ]
     },
     "metadata": {},
     "output_type": "display_data"
    },
    {
     "name": "stderr",
     "output_type": "stream",
     "text": [
      "\r",
      " 40%|███████████████████████████████▋                                               | 752/1873 [03:03<04:51,  3.84it/s]"
     ]
    },
    {
     "data": {
      "text/plain": [
       "'new dataset\\\\folk\\\\folkG69.wav'"
      ]
     },
     "metadata": {},
     "output_type": "display_data"
    },
    {
     "name": "stderr",
     "output_type": "stream",
     "text": [
      "\r",
      " 40%|███████████████████████████████▊                                               | 753/1873 [03:04<04:52,  3.82it/s]"
     ]
    },
    {
     "data": {
      "text/plain": [
       "'new dataset\\\\folk\\\\folkG7.wav'"
      ]
     },
     "metadata": {},
     "output_type": "display_data"
    },
    {
     "name": "stderr",
     "output_type": "stream",
     "text": [
      "\r",
      " 40%|███████████████████████████████▊                                               | 754/1873 [03:04<05:07,  3.63it/s]"
     ]
    },
    {
     "data": {
      "text/plain": [
       "'new dataset\\\\folk\\\\folkG70.wav'"
      ]
     },
     "metadata": {},
     "output_type": "display_data"
    },
    {
     "name": "stderr",
     "output_type": "stream",
     "text": [
      "\r",
      " 40%|███████████████████████████████▊                                               | 755/1873 [03:04<05:05,  3.66it/s]"
     ]
    },
    {
     "data": {
      "text/plain": [
       "'new dataset\\\\folk\\\\folkG71.wav'"
      ]
     },
     "metadata": {},
     "output_type": "display_data"
    },
    {
     "name": "stderr",
     "output_type": "stream",
     "text": [
      "\r",
      " 40%|███████████████████████████████▉                                               | 756/1873 [03:04<05:12,  3.58it/s]"
     ]
    },
    {
     "data": {
      "text/plain": [
       "'new dataset\\\\folk\\\\folkG72.wav'"
      ]
     },
     "metadata": {},
     "output_type": "display_data"
    },
    {
     "name": "stderr",
     "output_type": "stream",
     "text": [
      "\r",
      " 40%|███████████████████████████████▉                                               | 757/1873 [03:05<05:07,  3.63it/s]"
     ]
    },
    {
     "data": {
      "text/plain": [
       "'new dataset\\\\folk\\\\folkG73.wav'"
      ]
     },
     "metadata": {},
     "output_type": "display_data"
    },
    {
     "name": "stderr",
     "output_type": "stream",
     "text": [
      "\r",
      " 40%|███████████████████████████████▉                                               | 758/1873 [03:05<05:01,  3.70it/s]"
     ]
    },
    {
     "data": {
      "text/plain": [
       "'new dataset\\\\folk\\\\folkG74.wav'"
      ]
     },
     "metadata": {},
     "output_type": "display_data"
    },
    {
     "name": "stderr",
     "output_type": "stream",
     "text": [
      "\r",
      " 41%|████████████████████████████████                                               | 759/1873 [03:05<05:00,  3.71it/s]"
     ]
    },
    {
     "data": {
      "text/plain": [
       "'new dataset\\\\folk\\\\folkG75.wav'"
      ]
     },
     "metadata": {},
     "output_type": "display_data"
    },
    {
     "name": "stderr",
     "output_type": "stream",
     "text": [
      "\r",
      " 41%|████████████████████████████████                                               | 760/1873 [03:05<04:56,  3.76it/s]"
     ]
    },
    {
     "data": {
      "text/plain": [
       "'new dataset\\\\folk\\\\folkG76.wav'"
      ]
     },
     "metadata": {},
     "output_type": "display_data"
    },
    {
     "name": "stderr",
     "output_type": "stream",
     "text": [
      "\r",
      " 41%|████████████████████████████████                                               | 761/1873 [03:06<05:02,  3.68it/s]"
     ]
    },
    {
     "data": {
      "text/plain": [
       "'new dataset\\\\folk\\\\folkG77.wav'"
      ]
     },
     "metadata": {},
     "output_type": "display_data"
    },
    {
     "name": "stderr",
     "output_type": "stream",
     "text": [
      "\r",
      " 41%|████████████████████████████████▏                                              | 762/1873 [03:06<04:59,  3.71it/s]"
     ]
    },
    {
     "data": {
      "text/plain": [
       "'new dataset\\\\folk\\\\folkG78.wav'"
      ]
     },
     "metadata": {},
     "output_type": "display_data"
    },
    {
     "name": "stderr",
     "output_type": "stream",
     "text": [
      "\r",
      " 41%|████████████████████████████████▏                                              | 763/1873 [03:06<04:55,  3.75it/s]"
     ]
    },
    {
     "data": {
      "text/plain": [
       "'new dataset\\\\folk\\\\folkG79.wav'"
      ]
     },
     "metadata": {},
     "output_type": "display_data"
    },
    {
     "name": "stderr",
     "output_type": "stream",
     "text": [
      "\r",
      " 41%|████████████████████████████████▏                                              | 764/1873 [03:07<04:52,  3.79it/s]"
     ]
    },
    {
     "data": {
      "text/plain": [
       "'new dataset\\\\folk\\\\folkG8.wav'"
      ]
     },
     "metadata": {},
     "output_type": "display_data"
    },
    {
     "name": "stderr",
     "output_type": "stream",
     "text": [
      "\r",
      " 41%|████████████████████████████████▎                                              | 765/1873 [03:07<04:54,  3.77it/s]"
     ]
    },
    {
     "data": {
      "text/plain": [
       "'new dataset\\\\folk\\\\folkG80.wav'"
      ]
     },
     "metadata": {},
     "output_type": "display_data"
    },
    {
     "name": "stderr",
     "output_type": "stream",
     "text": [
      "\r",
      " 41%|████████████████████████████████▎                                              | 766/1873 [03:07<04:50,  3.81it/s]"
     ]
    },
    {
     "data": {
      "text/plain": [
       "'new dataset\\\\folk\\\\folkG81.wav'"
      ]
     },
     "metadata": {},
     "output_type": "display_data"
    },
    {
     "name": "stderr",
     "output_type": "stream",
     "text": [
      "\r",
      " 41%|████████████████████████████████▎                                              | 767/1873 [03:07<04:52,  3.78it/s]"
     ]
    },
    {
     "data": {
      "text/plain": [
       "'new dataset\\\\folk\\\\folkG82.wav'"
      ]
     },
     "metadata": {},
     "output_type": "display_data"
    },
    {
     "name": "stderr",
     "output_type": "stream",
     "text": [
      "\r",
      " 41%|████████████████████████████████▍                                              | 768/1873 [03:08<04:55,  3.75it/s]"
     ]
    },
    {
     "data": {
      "text/plain": [
       "'new dataset\\\\folk\\\\folkG83.wav'"
      ]
     },
     "metadata": {},
     "output_type": "display_data"
    },
    {
     "name": "stderr",
     "output_type": "stream",
     "text": [
      "\r",
      " 41%|████████████████████████████████▍                                              | 769/1873 [03:08<04:56,  3.72it/s]"
     ]
    },
    {
     "data": {
      "text/plain": [
       "'new dataset\\\\folk\\\\folkG84.wav'"
      ]
     },
     "metadata": {},
     "output_type": "display_data"
    },
    {
     "name": "stderr",
     "output_type": "stream",
     "text": [
      "\r",
      " 41%|████████████████████████████████▍                                              | 770/1873 [03:08<04:53,  3.76it/s]"
     ]
    },
    {
     "data": {
      "text/plain": [
       "'new dataset\\\\folk\\\\folkG85.wav'"
      ]
     },
     "metadata": {},
     "output_type": "display_data"
    },
    {
     "name": "stderr",
     "output_type": "stream",
     "text": [
      "\r",
      " 41%|████████████████████████████████▌                                              | 771/1873 [03:08<04:47,  3.83it/s]"
     ]
    },
    {
     "data": {
      "text/plain": [
       "'new dataset\\\\folk\\\\folkG86.wav'"
      ]
     },
     "metadata": {},
     "output_type": "display_data"
    },
    {
     "name": "stderr",
     "output_type": "stream",
     "text": [
      "\r",
      " 41%|████████████████████████████████▌                                              | 772/1873 [03:09<04:49,  3.80it/s]"
     ]
    },
    {
     "data": {
      "text/plain": [
       "'new dataset\\\\folk\\\\folkG87.wav'"
      ]
     },
     "metadata": {},
     "output_type": "display_data"
    },
    {
     "name": "stderr",
     "output_type": "stream",
     "text": [
      "\r",
      " 41%|████████████████████████████████▌                                              | 773/1873 [03:09<04:51,  3.77it/s]"
     ]
    },
    {
     "data": {
      "text/plain": [
       "'new dataset\\\\folk\\\\folkG88.wav'"
      ]
     },
     "metadata": {},
     "output_type": "display_data"
    },
    {
     "name": "stderr",
     "output_type": "stream",
     "text": [
      "\r",
      " 41%|████████████████████████████████▋                                              | 774/1873 [03:09<04:50,  3.79it/s]"
     ]
    },
    {
     "data": {
      "text/plain": [
       "'new dataset\\\\folk\\\\folkG89.wav'"
      ]
     },
     "metadata": {},
     "output_type": "display_data"
    },
    {
     "name": "stderr",
     "output_type": "stream",
     "text": [
      "\r",
      " 41%|████████████████████████████████▋                                              | 775/1873 [03:09<04:51,  3.76it/s]"
     ]
    },
    {
     "data": {
      "text/plain": [
       "'new dataset\\\\folk\\\\folkG9.wav'"
      ]
     },
     "metadata": {},
     "output_type": "display_data"
    },
    {
     "name": "stderr",
     "output_type": "stream",
     "text": [
      "\r",
      " 41%|████████████████████████████████▋                                              | 776/1873 [03:10<04:48,  3.80it/s]"
     ]
    },
    {
     "data": {
      "text/plain": [
       "'new dataset\\\\folk\\\\folkG90.wav'"
      ]
     },
     "metadata": {},
     "output_type": "display_data"
    },
    {
     "name": "stderr",
     "output_type": "stream",
     "text": [
      "\r",
      " 41%|████████████████████████████████▊                                              | 777/1873 [03:10<04:53,  3.73it/s]"
     ]
    },
    {
     "data": {
      "text/plain": [
       "'new dataset\\\\folk\\\\folkG91.wav'"
      ]
     },
     "metadata": {},
     "output_type": "display_data"
    },
    {
     "name": "stderr",
     "output_type": "stream",
     "text": [
      "\r",
      " 42%|████████████████████████████████▊                                              | 778/1873 [03:10<04:48,  3.79it/s]"
     ]
    },
    {
     "data": {
      "text/plain": [
       "'new dataset\\\\folk\\\\folkG92.wav'"
      ]
     },
     "metadata": {},
     "output_type": "display_data"
    },
    {
     "name": "stderr",
     "output_type": "stream",
     "text": [
      "\r",
      " 42%|████████████████████████████████▊                                              | 779/1873 [03:11<04:50,  3.76it/s]"
     ]
    },
    {
     "data": {
      "text/plain": [
       "'new dataset\\\\folk\\\\folkG93.wav'"
      ]
     },
     "metadata": {},
     "output_type": "display_data"
    },
    {
     "name": "stderr",
     "output_type": "stream",
     "text": [
      "\r",
      " 42%|████████████████████████████████▉                                              | 780/1873 [03:11<05:00,  3.64it/s]"
     ]
    },
    {
     "data": {
      "text/plain": [
       "'new dataset\\\\folk\\\\folkG94.wav'"
      ]
     },
     "metadata": {},
     "output_type": "display_data"
    },
    {
     "name": "stderr",
     "output_type": "stream",
     "text": [
      "\r",
      " 42%|████████████████████████████████▉                                              | 781/1873 [03:11<04:57,  3.67it/s]"
     ]
    },
    {
     "data": {
      "text/plain": [
       "'new dataset\\\\folk\\\\folkG95.wav'"
      ]
     },
     "metadata": {},
     "output_type": "display_data"
    },
    {
     "name": "stderr",
     "output_type": "stream",
     "text": [
      "\r",
      " 42%|████████████████████████████████▉                                              | 782/1873 [03:11<04:56,  3.68it/s]"
     ]
    },
    {
     "data": {
      "text/plain": [
       "'new dataset\\\\folk\\\\folkG96.wav'"
      ]
     },
     "metadata": {},
     "output_type": "display_data"
    },
    {
     "name": "stderr",
     "output_type": "stream",
     "text": [
      "\r",
      " 42%|█████████████████████████████████                                              | 783/1873 [03:12<04:48,  3.78it/s]"
     ]
    },
    {
     "data": {
      "text/plain": [
       "'new dataset\\\\folk\\\\folkG97.wav'"
      ]
     },
     "metadata": {},
     "output_type": "display_data"
    },
    {
     "name": "stderr",
     "output_type": "stream",
     "text": [
      "\r",
      " 42%|█████████████████████████████████                                              | 784/1873 [03:12<04:44,  3.83it/s]"
     ]
    },
    {
     "data": {
      "text/plain": [
       "'new dataset\\\\folk\\\\folkG98.wav'"
      ]
     },
     "metadata": {},
     "output_type": "display_data"
    },
    {
     "name": "stderr",
     "output_type": "stream",
     "text": [
      "\r",
      " 42%|█████████████████████████████████                                              | 785/1873 [03:12<04:49,  3.75it/s]"
     ]
    },
    {
     "data": {
      "text/plain": [
       "'new dataset\\\\folk\\\\folkG99.wav'"
      ]
     },
     "metadata": {},
     "output_type": "display_data"
    },
    {
     "name": "stderr",
     "output_type": "stream",
     "text": [
      "\r",
      " 42%|█████████████████████████████████▏                                             | 786/1873 [03:12<04:55,  3.67it/s]"
     ]
    },
    {
     "data": {
      "text/plain": [
       "'new dataset\\\\folk\\\\Malayalam10.wav'"
      ]
     },
     "metadata": {},
     "output_type": "display_data"
    },
    {
     "name": "stderr",
     "output_type": "stream",
     "text": [
      "\r",
      " 42%|█████████████████████████████████▏                                             | 787/1873 [03:13<04:50,  3.74it/s]"
     ]
    },
    {
     "data": {
      "text/plain": [
       "'new dataset\\\\folk\\\\Malayalam11.wav'"
      ]
     },
     "metadata": {},
     "output_type": "display_data"
    },
    {
     "name": "stderr",
     "output_type": "stream",
     "text": [
      "\r",
      " 42%|█████████████████████████████████▏                                             | 788/1873 [03:13<04:47,  3.78it/s]"
     ]
    },
    {
     "data": {
      "text/plain": [
       "'new dataset\\\\folk\\\\Malayalam12.wav'"
      ]
     },
     "metadata": {},
     "output_type": "display_data"
    },
    {
     "name": "stderr",
     "output_type": "stream",
     "text": [
      "\r",
      " 42%|█████████████████████████████████▎                                             | 789/1873 [03:13<04:50,  3.73it/s]"
     ]
    },
    {
     "data": {
      "text/plain": [
       "'new dataset\\\\folk\\\\Malayalam13.wav'"
      ]
     },
     "metadata": {},
     "output_type": "display_data"
    },
    {
     "name": "stderr",
     "output_type": "stream",
     "text": [
      "\r",
      " 42%|█████████████████████████████████▎                                             | 790/1873 [03:13<04:48,  3.76it/s]"
     ]
    },
    {
     "data": {
      "text/plain": [
       "'new dataset\\\\folk\\\\Malayalam14.wav'"
      ]
     },
     "metadata": {},
     "output_type": "display_data"
    },
    {
     "name": "stderr",
     "output_type": "stream",
     "text": [
      "\r",
      " 42%|█████████████████████████████████▎                                             | 791/1873 [03:14<04:35,  3.93it/s]"
     ]
    },
    {
     "data": {
      "text/plain": [
       "'new dataset\\\\folk\\\\Malayalam15.wav'"
      ]
     },
     "metadata": {},
     "output_type": "display_data"
    },
    {
     "name": "stderr",
     "output_type": "stream",
     "text": [
      "\r",
      " 42%|█████████████████████████████████▍                                             | 792/1873 [03:14<04:31,  3.99it/s]"
     ]
    },
    {
     "data": {
      "text/plain": [
       "'new dataset\\\\folk\\\\Malayalam16.wav'"
      ]
     },
     "metadata": {},
     "output_type": "display_data"
    },
    {
     "name": "stderr",
     "output_type": "stream",
     "text": [
      "\r",
      " 42%|█████████████████████████████████▍                                             | 793/1873 [03:14<04:29,  4.01it/s]"
     ]
    },
    {
     "data": {
      "text/plain": [
       "'new dataset\\\\folk\\\\Malayalam17.wav'"
      ]
     },
     "metadata": {},
     "output_type": "display_data"
    },
    {
     "name": "stderr",
     "output_type": "stream",
     "text": [
      "\r",
      " 42%|█████████████████████████████████▍                                             | 794/1873 [03:14<04:30,  4.00it/s]"
     ]
    },
    {
     "data": {
      "text/plain": [
       "'new dataset\\\\folk\\\\Malayalam18.wav'"
      ]
     },
     "metadata": {},
     "output_type": "display_data"
    },
    {
     "name": "stderr",
     "output_type": "stream",
     "text": [
      "\r",
      " 42%|█████████████████████████████████▌                                             | 795/1873 [03:15<04:31,  3.97it/s]"
     ]
    },
    {
     "data": {
      "text/plain": [
       "'new dataset\\\\folk\\\\Malayalam19.wav'"
      ]
     },
     "metadata": {},
     "output_type": "display_data"
    },
    {
     "name": "stderr",
     "output_type": "stream",
     "text": [
      "\r",
      " 42%|█████████████████████████████████▌                                             | 796/1873 [03:15<04:32,  3.95it/s]"
     ]
    },
    {
     "data": {
      "text/plain": [
       "'new dataset\\\\folk\\\\Malayalam20.wav'"
      ]
     },
     "metadata": {},
     "output_type": "display_data"
    },
    {
     "name": "stderr",
     "output_type": "stream",
     "text": [
      "\r",
      " 43%|█████████████████████████████████▌                                             | 797/1873 [03:15<04:30,  3.98it/s]"
     ]
    },
    {
     "data": {
      "text/plain": [
       "'new dataset\\\\folk\\\\Malayalam21.wav'"
      ]
     },
     "metadata": {},
     "output_type": "display_data"
    },
    {
     "name": "stderr",
     "output_type": "stream",
     "text": [
      "\r",
      " 43%|█████████████████████████████████▋                                             | 798/1873 [03:15<04:33,  3.93it/s]"
     ]
    },
    {
     "data": {
      "text/plain": [
       "'new dataset\\\\folk\\\\Malayalam22.wav'"
      ]
     },
     "metadata": {},
     "output_type": "display_data"
    },
    {
     "name": "stderr",
     "output_type": "stream",
     "text": [
      "\r",
      " 43%|█████████████████████████████████▋                                             | 799/1873 [03:16<04:38,  3.86it/s]"
     ]
    },
    {
     "data": {
      "text/plain": [
       "'new dataset\\\\folk\\\\Malayalam23.wav'"
      ]
     },
     "metadata": {},
     "output_type": "display_data"
    },
    {
     "name": "stderr",
     "output_type": "stream",
     "text": [
      "\r",
      " 43%|█████████████████████████████████▋                                             | 800/1873 [03:16<04:32,  3.94it/s]"
     ]
    },
    {
     "data": {
      "text/plain": [
       "'new dataset\\\\folk\\\\Malayalam24.wav'"
      ]
     },
     "metadata": {},
     "output_type": "display_data"
    },
    {
     "name": "stderr",
     "output_type": "stream",
     "text": [
      "\r",
      " 43%|█████████████████████████████████▊                                             | 801/1873 [03:16<04:36,  3.87it/s]"
     ]
    },
    {
     "data": {
      "text/plain": [
       "'new dataset\\\\folk\\\\Malayalam25.wav'"
      ]
     },
     "metadata": {},
     "output_type": "display_data"
    },
    {
     "name": "stderr",
     "output_type": "stream",
     "text": [
      "\r",
      " 43%|█████████████████████████████████▊                                             | 802/1873 [03:17<04:35,  3.89it/s]"
     ]
    },
    {
     "data": {
      "text/plain": [
       "'new dataset\\\\folk\\\\Malayalam26.wav'"
      ]
     },
     "metadata": {},
     "output_type": "display_data"
    },
    {
     "name": "stderr",
     "output_type": "stream",
     "text": [
      "\r",
      " 43%|█████████████████████████████████▊                                             | 803/1873 [03:17<04:33,  3.92it/s]"
     ]
    },
    {
     "data": {
      "text/plain": [
       "'new dataset\\\\folk\\\\Malayalam27.wav'"
      ]
     },
     "metadata": {},
     "output_type": "display_data"
    },
    {
     "name": "stderr",
     "output_type": "stream",
     "text": [
      "\r",
      " 43%|█████████████████████████████████▉                                             | 804/1873 [03:17<04:29,  3.96it/s]"
     ]
    },
    {
     "data": {
      "text/plain": [
       "'new dataset\\\\folk\\\\Malayalam28.wav'"
      ]
     },
     "metadata": {},
     "output_type": "display_data"
    },
    {
     "name": "stderr",
     "output_type": "stream",
     "text": [
      "\r",
      " 43%|█████████████████████████████████▉                                             | 805/1873 [03:17<04:23,  4.05it/s]"
     ]
    },
    {
     "data": {
      "text/plain": [
       "'new dataset\\\\folk\\\\Malayalam29.wav'"
      ]
     },
     "metadata": {},
     "output_type": "display_data"
    },
    {
     "name": "stderr",
     "output_type": "stream",
     "text": [
      "\r",
      " 43%|█████████████████████████████████▉                                             | 806/1873 [03:17<04:24,  4.03it/s]"
     ]
    },
    {
     "data": {
      "text/plain": [
       "'new dataset\\\\folk\\\\Malayalam30.wav'"
      ]
     },
     "metadata": {},
     "output_type": "display_data"
    },
    {
     "name": "stderr",
     "output_type": "stream",
     "text": [
      "\r",
      " 43%|██████████████████████████████████                                             | 807/1873 [03:18<04:26,  3.99it/s]"
     ]
    },
    {
     "data": {
      "text/plain": [
       "'new dataset\\\\folk\\\\Malayalam31.wav'"
      ]
     },
     "metadata": {},
     "output_type": "display_data"
    },
    {
     "name": "stderr",
     "output_type": "stream",
     "text": [
      "\r",
      " 43%|██████████████████████████████████                                             | 808/1873 [03:18<04:27,  3.99it/s]"
     ]
    },
    {
     "data": {
      "text/plain": [
       "'new dataset\\\\folk\\\\Malayalam32.wav'"
      ]
     },
     "metadata": {},
     "output_type": "display_data"
    },
    {
     "name": "stderr",
     "output_type": "stream",
     "text": [
      "\r",
      " 43%|██████████████████████████████████                                             | 809/1873 [03:18<04:29,  3.95it/s]"
     ]
    },
    {
     "data": {
      "text/plain": [
       "'new dataset\\\\folk\\\\Malayalam33.wav'"
      ]
     },
     "metadata": {},
     "output_type": "display_data"
    },
    {
     "name": "stderr",
     "output_type": "stream",
     "text": [
      "\r",
      " 43%|██████████████████████████████████▏                                            | 810/1873 [03:19<04:38,  3.82it/s]"
     ]
    },
    {
     "data": {
      "text/plain": [
       "'new dataset\\\\folk\\\\Malayalam34.wav'"
      ]
     },
     "metadata": {},
     "output_type": "display_data"
    },
    {
     "name": "stderr",
     "output_type": "stream",
     "text": [
      "\r",
      " 43%|██████████████████████████████████▏                                            | 811/1873 [03:19<04:43,  3.75it/s]"
     ]
    },
    {
     "data": {
      "text/plain": [
       "'new dataset\\\\folk\\\\Malayalam6.wav'"
      ]
     },
     "metadata": {},
     "output_type": "display_data"
    },
    {
     "name": "stderr",
     "output_type": "stream",
     "text": [
      "\r",
      " 43%|██████████████████████████████████▏                                            | 812/1873 [03:19<04:37,  3.82it/s]"
     ]
    },
    {
     "data": {
      "text/plain": [
       "'new dataset\\\\folk\\\\Malayalam7.wav'"
      ]
     },
     "metadata": {},
     "output_type": "display_data"
    },
    {
     "name": "stderr",
     "output_type": "stream",
     "text": [
      "\r",
      " 43%|██████████████████████████████████▎                                            | 813/1873 [03:19<04:29,  3.93it/s]"
     ]
    },
    {
     "data": {
      "text/plain": [
       "'new dataset\\\\folk\\\\Malayalam8.wav'"
      ]
     },
     "metadata": {},
     "output_type": "display_data"
    },
    {
     "name": "stderr",
     "output_type": "stream",
     "text": [
      "\r",
      " 43%|██████████████████████████████████▎                                            | 814/1873 [03:20<04:29,  3.93it/s]"
     ]
    },
    {
     "data": {
      "text/plain": [
       "'new dataset\\\\folk\\\\Malayalam9.wav'"
      ]
     },
     "metadata": {},
     "output_type": "display_data"
    },
    {
     "name": "stderr",
     "output_type": "stream",
     "text": [
      "\r",
      " 44%|██████████████████████████████████▍                                            | 815/1873 [03:20<04:21,  4.04it/s]"
     ]
    },
    {
     "data": {
      "text/plain": [
       "'new dataset\\\\folk\\\\Pranvam Sasiyoude Nadanpattukal   Latest Malayalam Nadan Pattukal   Non Stop   Pranavam Sasi314.wav'"
      ]
     },
     "metadata": {},
     "output_type": "display_data"
    },
    {
     "name": "stderr",
     "output_type": "stream",
     "text": [
      "\r",
      " 44%|██████████████████████████████████▍                                            | 816/1873 [03:20<04:26,  3.97it/s]"
     ]
    },
    {
     "data": {
      "text/plain": [
       "'new dataset\\\\ghazal\\\\Ab Kya Ghazal Sunaoon12.wav'"
      ]
     },
     "metadata": {},
     "output_type": "display_data"
    },
    {
     "name": "stderr",
     "output_type": "stream",
     "text": [
      "\r",
      " 44%|██████████████████████████████████▍                                            | 817/1873 [03:20<04:29,  3.92it/s]"
     ]
    },
    {
     "data": {
      "text/plain": [
       "'new dataset\\\\ghazal\\\\Chaak jigar ke see lete hain Jagjit Singh25.wav'"
      ]
     },
     "metadata": {},
     "output_type": "display_data"
    },
    {
     "name": "stderr",
     "output_type": "stream",
     "text": [
      "\r",
      " 44%|██████████████████████████████████▌                                            | 818/1873 [03:21<04:28,  3.93it/s]"
     ]
    },
    {
     "data": {
      "text/plain": [
       "'new dataset\\\\ghazal\\\\Chupke chupke Raat din aansu bahana yaad hai {छुपके छुपके रात दिन }Ghulam ali40.wav'"
      ]
     },
     "metadata": {},
     "output_type": "display_data"
    },
    {
     "name": "stderr",
     "output_type": "stream",
     "text": [
      "\r",
      " 44%|██████████████████████████████████▌                                            | 819/1873 [03:21<04:25,  3.98it/s]"
     ]
    },
    {
     "data": {
      "text/plain": [
       "'new dataset\\\\ghazal\\\\cut 10 sec Jagjit Singh Ghazals  Dil-E-Nadan Tujhe  दिल-ए-नादान तुझे  Chitra Singh  Evergreen Ghazals11.wav'"
      ]
     },
     "metadata": {},
     "output_type": "display_data"
    },
    {
     "name": "stderr",
     "output_type": "stream",
     "text": [
      "\r",
      " 44%|██████████████████████████████████▌                                            | 820/1873 [03:21<04:21,  4.02it/s]"
     ]
    },
    {
     "data": {
      "text/plain": [
       "'new dataset\\\\ghazal\\\\cut 10 sec Justuju Jiski Thi with lyrics  Asha Bhosle  Umrao Jaan  Rekha11.wav'"
      ]
     },
     "metadata": {},
     "output_type": "display_data"
    },
    {
     "name": "stderr",
     "output_type": "stream",
     "text": [
      "\r",
      " 44%|██████████████████████████████████▋                                            | 821/1873 [03:21<04:24,  3.98it/s]"
     ]
    },
    {
     "data": {
      "text/plain": [
       "'new dataset\\\\ghazal\\\\cut 10 sec-Huzoor Is Kadar with lyrics  हुज़ूर इस कदर गाने के बोल  Masoom  Naseeruddin Shah, Shabana Azmi9.wav'"
      ]
     },
     "metadata": {},
     "output_type": "display_data"
    },
    {
     "name": "stderr",
     "output_type": "stream",
     "text": [
      "\r",
      " 44%|██████████████████████████████████▋                                            | 822/1873 [03:22<04:33,  3.85it/s]"
     ]
    },
    {
     "data": {
      "text/plain": [
       "'new dataset\\\\ghazal\\\\Dard Bhari Ghazal 2021  Hum Tere Shahar Mein Aaye Hai Musafir Ki Tarah ग़ुलाम अली  दर्द भरी ग़ज़ल53.wav'"
      ]
     },
     "metadata": {},
     "output_type": "display_data"
    },
    {
     "name": "stderr",
     "output_type": "stream",
     "text": [
      "\r",
      " 44%|██████████████████████████████████▋                                            | 823/1873 [03:22<04:29,  3.90it/s]"
     ]
    },
    {
     "data": {
      "text/plain": [
       "'new dataset\\\\ghazal\\\\Dard Pattharon Ko62.wav'"
      ]
     },
     "metadata": {},
     "output_type": "display_data"
    },
    {
     "name": "stderr",
     "output_type": "stream",
     "text": [
      "\r",
      " 44%|██████████████████████████████████▊                                            | 824/1873 [03:22<04:25,  3.95it/s]"
     ]
    },
    {
     "data": {
      "text/plain": [
       "'new dataset\\\\ghazal\\\\ghazalA10.wav'"
      ]
     },
     "metadata": {},
     "output_type": "display_data"
    },
    {
     "name": "stderr",
     "output_type": "stream",
     "text": [
      "\r",
      " 44%|██████████████████████████████████▊                                            | 825/1873 [03:22<04:26,  3.94it/s]"
     ]
    },
    {
     "data": {
      "text/plain": [
       "'new dataset\\\\ghazal\\\\ghazalA2.wav'"
      ]
     },
     "metadata": {},
     "output_type": "display_data"
    },
    {
     "name": "stderr",
     "output_type": "stream",
     "text": [
      "\r",
      " 44%|██████████████████████████████████▊                                            | 826/1873 [03:23<04:33,  3.83it/s]"
     ]
    },
    {
     "data": {
      "text/plain": [
       "'new dataset\\\\ghazal\\\\ghazalA3.wav'"
      ]
     },
     "metadata": {},
     "output_type": "display_data"
    },
    {
     "name": "stderr",
     "output_type": "stream",
     "text": [
      "\r",
      " 44%|██████████████████████████████████▉                                            | 827/1873 [03:23<04:29,  3.88it/s]"
     ]
    },
    {
     "data": {
      "text/plain": [
       "'new dataset\\\\ghazal\\\\ghazalA4.wav'"
      ]
     },
     "metadata": {},
     "output_type": "display_data"
    },
    {
     "name": "stderr",
     "output_type": "stream",
     "text": [
      "\r",
      " 44%|██████████████████████████████████▉                                            | 828/1873 [03:23<04:25,  3.94it/s]"
     ]
    },
    {
     "data": {
      "text/plain": [
       "'new dataset\\\\ghazal\\\\ghazalA5.wav'"
      ]
     },
     "metadata": {},
     "output_type": "display_data"
    },
    {
     "name": "stderr",
     "output_type": "stream",
     "text": [
      "\r",
      " 44%|██████████████████████████████████▉                                            | 829/1873 [03:23<04:29,  3.88it/s]"
     ]
    },
    {
     "data": {
      "text/plain": [
       "'new dataset\\\\ghazal\\\\ghazalA6.wav'"
      ]
     },
     "metadata": {},
     "output_type": "display_data"
    },
    {
     "name": "stderr",
     "output_type": "stream",
     "text": [
      "\r",
      " 44%|███████████████████████████████████                                            | 830/1873 [03:24<04:28,  3.89it/s]"
     ]
    },
    {
     "data": {
      "text/plain": [
       "'new dataset\\\\ghazal\\\\ghazalA7.wav'"
      ]
     },
     "metadata": {},
     "output_type": "display_data"
    },
    {
     "name": "stderr",
     "output_type": "stream",
     "text": [
      "\r",
      " 44%|███████████████████████████████████                                            | 831/1873 [03:24<04:25,  3.92it/s]"
     ]
    },
    {
     "data": {
      "text/plain": [
       "'new dataset\\\\ghazal\\\\ghazalA8.wav'"
      ]
     },
     "metadata": {},
     "output_type": "display_data"
    },
    {
     "name": "stderr",
     "output_type": "stream",
     "text": [
      "\r",
      " 44%|███████████████████████████████████                                            | 832/1873 [03:24<04:28,  3.87it/s]"
     ]
    },
    {
     "data": {
      "text/plain": [
       "'new dataset\\\\ghazal\\\\ghazalA9.wav'"
      ]
     },
     "metadata": {},
     "output_type": "display_data"
    },
    {
     "name": "stderr",
     "output_type": "stream",
     "text": [
      "\r",
      " 44%|███████████████████████████████████▏                                           | 833/1873 [03:24<04:21,  3.98it/s]"
     ]
    },
    {
     "data": {
      "text/plain": [
       "'new dataset\\\\ghazal\\\\ghazalB10.wav'"
      ]
     },
     "metadata": {},
     "output_type": "display_data"
    },
    {
     "name": "stderr",
     "output_type": "stream",
     "text": [
      "\r",
      " 45%|███████████████████████████████████▏                                           | 834/1873 [03:25<04:26,  3.90it/s]"
     ]
    },
    {
     "data": {
      "text/plain": [
       "'new dataset\\\\ghazal\\\\ghazalB2.wav'"
      ]
     },
     "metadata": {},
     "output_type": "display_data"
    },
    {
     "name": "stderr",
     "output_type": "stream",
     "text": [
      "\r",
      " 45%|███████████████████████████████████▏                                           | 835/1873 [03:25<04:28,  3.87it/s]"
     ]
    },
    {
     "data": {
      "text/plain": [
       "'new dataset\\\\ghazal\\\\ghazalB3.wav'"
      ]
     },
     "metadata": {},
     "output_type": "display_data"
    },
    {
     "name": "stderr",
     "output_type": "stream",
     "text": [
      "\r",
      " 45%|███████████████████████████████████▎                                           | 836/1873 [03:25<04:28,  3.87it/s]"
     ]
    },
    {
     "data": {
      "text/plain": [
       "'new dataset\\\\ghazal\\\\ghazalB4.wav'"
      ]
     },
     "metadata": {},
     "output_type": "display_data"
    },
    {
     "name": "stderr",
     "output_type": "stream",
     "text": [
      "\r",
      " 45%|███████████████████████████████████▎                                           | 837/1873 [03:25<04:26,  3.89it/s]"
     ]
    },
    {
     "data": {
      "text/plain": [
       "'new dataset\\\\ghazal\\\\ghazalB5.wav'"
      ]
     },
     "metadata": {},
     "output_type": "display_data"
    },
    {
     "name": "stderr",
     "output_type": "stream",
     "text": [
      "\r",
      " 45%|███████████████████████████████████▎                                           | 838/1873 [03:26<04:34,  3.78it/s]"
     ]
    },
    {
     "data": {
      "text/plain": [
       "'new dataset\\\\ghazal\\\\ghazalB6.wav'"
      ]
     },
     "metadata": {},
     "output_type": "display_data"
    },
    {
     "name": "stderr",
     "output_type": "stream",
     "text": [
      "\r",
      " 45%|███████████████████████████████████▍                                           | 839/1873 [03:26<04:36,  3.75it/s]"
     ]
    },
    {
     "data": {
      "text/plain": [
       "'new dataset\\\\ghazal\\\\ghazalB7.wav'"
      ]
     },
     "metadata": {},
     "output_type": "display_data"
    },
    {
     "name": "stderr",
     "output_type": "stream",
     "text": [
      "\r",
      " 45%|███████████████████████████████████▍                                           | 840/1873 [03:26<04:35,  3.74it/s]"
     ]
    },
    {
     "data": {
      "text/plain": [
       "'new dataset\\\\ghazal\\\\ghazalB8.wav'"
      ]
     },
     "metadata": {},
     "output_type": "display_data"
    },
    {
     "name": "stderr",
     "output_type": "stream",
     "text": [
      "\r",
      " 45%|███████████████████████████████████▍                                           | 841/1873 [03:26<04:25,  3.88it/s]"
     ]
    },
    {
     "data": {
      "text/plain": [
       "'new dataset\\\\ghazal\\\\ghazalB9.wav'"
      ]
     },
     "metadata": {},
     "output_type": "display_data"
    },
    {
     "name": "stderr",
     "output_type": "stream",
     "text": [
      "\r",
      " 45%|███████████████████████████████████▌                                           | 842/1873 [03:27<04:28,  3.84it/s]"
     ]
    },
    {
     "data": {
      "text/plain": [
       "'new dataset\\\\ghazal\\\\ghazalC10.wav'"
      ]
     },
     "metadata": {},
     "output_type": "display_data"
    },
    {
     "name": "stderr",
     "output_type": "stream",
     "text": [
      "\r",
      " 45%|███████████████████████████████████▌                                           | 843/1873 [03:27<04:27,  3.85it/s]"
     ]
    },
    {
     "data": {
      "text/plain": [
       "'new dataset\\\\ghazal\\\\ghazalC11.wav'"
      ]
     },
     "metadata": {},
     "output_type": "display_data"
    },
    {
     "name": "stderr",
     "output_type": "stream",
     "text": [
      "\r",
      " 45%|███████████████████████████████████▌                                           | 844/1873 [03:27<04:33,  3.76it/s]"
     ]
    },
    {
     "data": {
      "text/plain": [
       "'new dataset\\\\ghazal\\\\ghazalC12.wav'"
      ]
     },
     "metadata": {},
     "output_type": "display_data"
    },
    {
     "name": "stderr",
     "output_type": "stream",
     "text": [
      "\r",
      " 45%|███████████████████████████████████▋                                           | 845/1873 [03:28<04:39,  3.68it/s]"
     ]
    },
    {
     "data": {
      "text/plain": [
       "'new dataset\\\\ghazal\\\\ghazalC2.wav'"
      ]
     },
     "metadata": {},
     "output_type": "display_data"
    },
    {
     "name": "stderr",
     "output_type": "stream",
     "text": [
      "\r",
      " 45%|███████████████████████████████████▋                                           | 846/1873 [03:28<04:41,  3.64it/s]"
     ]
    },
    {
     "data": {
      "text/plain": [
       "'new dataset\\\\ghazal\\\\ghazalC3.wav'"
      ]
     },
     "metadata": {},
     "output_type": "display_data"
    },
    {
     "name": "stderr",
     "output_type": "stream",
     "text": [
      "\r",
      " 45%|███████████████████████████████████▋                                           | 847/1873 [03:28<04:39,  3.67it/s]"
     ]
    },
    {
     "data": {
      "text/plain": [
       "'new dataset\\\\ghazal\\\\ghazalC4.wav'"
      ]
     },
     "metadata": {},
     "output_type": "display_data"
    },
    {
     "name": "stderr",
     "output_type": "stream",
     "text": [
      "\r",
      " 45%|███████████████████████████████████▊                                           | 848/1873 [03:28<04:53,  3.50it/s]"
     ]
    },
    {
     "data": {
      "text/plain": [
       "'new dataset\\\\ghazal\\\\ghazalC5.wav'"
      ]
     },
     "metadata": {},
     "output_type": "display_data"
    },
    {
     "name": "stderr",
     "output_type": "stream",
     "text": [
      "\r",
      " 45%|███████████████████████████████████▊                                           | 849/1873 [03:29<04:58,  3.43it/s]"
     ]
    },
    {
     "data": {
      "text/plain": [
       "'new dataset\\\\ghazal\\\\ghazalC6.wav'"
      ]
     },
     "metadata": {},
     "output_type": "display_data"
    },
    {
     "name": "stderr",
     "output_type": "stream",
     "text": [
      "\r",
      " 45%|███████████████████████████████████▊                                           | 850/1873 [03:29<04:54,  3.48it/s]"
     ]
    },
    {
     "data": {
      "text/plain": [
       "'new dataset\\\\ghazal\\\\ghazalC7.wav'"
      ]
     },
     "metadata": {},
     "output_type": "display_data"
    },
    {
     "name": "stderr",
     "output_type": "stream",
     "text": [
      "\r",
      " 45%|███████████████████████████████████▉                                           | 851/1873 [03:29<05:06,  3.33it/s]"
     ]
    },
    {
     "data": {
      "text/plain": [
       "'new dataset\\\\ghazal\\\\ghazalC8.wav'"
      ]
     },
     "metadata": {},
     "output_type": "display_data"
    },
    {
     "name": "stderr",
     "output_type": "stream",
     "text": [
      "\r",
      " 45%|███████████████████████████████████▉                                           | 852/1873 [03:30<04:58,  3.43it/s]"
     ]
    },
    {
     "data": {
      "text/plain": [
       "'new dataset\\\\ghazal\\\\ghazalC9.wav'"
      ]
     },
     "metadata": {},
     "output_type": "display_data"
    },
    {
     "name": "stderr",
     "output_type": "stream",
     "text": [
      "\r",
      " 46%|███████████████████████████████████▉                                           | 853/1873 [03:30<04:47,  3.55it/s]"
     ]
    },
    {
     "data": {
      "text/plain": [
       "'new dataset\\\\ghazal\\\\ghazalD2.wav'"
      ]
     },
     "metadata": {},
     "output_type": "display_data"
    },
    {
     "name": "stderr",
     "output_type": "stream",
     "text": [
      "\r",
      " 46%|████████████████████████████████████                                           | 854/1873 [03:30<04:39,  3.64it/s]"
     ]
    },
    {
     "data": {
      "text/plain": [
       "'new dataset\\\\ghazal\\\\ghazalD3.wav'"
      ]
     },
     "metadata": {},
     "output_type": "display_data"
    },
    {
     "name": "stderr",
     "output_type": "stream",
     "text": [
      "\r",
      " 46%|████████████████████████████████████                                           | 855/1873 [03:30<04:28,  3.79it/s]"
     ]
    },
    {
     "data": {
      "text/plain": [
       "'new dataset\\\\ghazal\\\\ghazalD4.wav'"
      ]
     },
     "metadata": {},
     "output_type": "display_data"
    },
    {
     "name": "stderr",
     "output_type": "stream",
     "text": [
      "\r",
      " 46%|████████████████████████████████████                                           | 856/1873 [03:31<04:27,  3.80it/s]"
     ]
    },
    {
     "data": {
      "text/plain": [
       "'new dataset\\\\ghazal\\\\ghazalD5.wav'"
      ]
     },
     "metadata": {},
     "output_type": "display_data"
    },
    {
     "name": "stderr",
     "output_type": "stream",
     "text": [
      "\r",
      " 46%|████████████████████████████████████▏                                          | 857/1873 [03:31<04:21,  3.88it/s]"
     ]
    },
    {
     "data": {
      "text/plain": [
       "'new dataset\\\\ghazal\\\\ghazalD6.wav'"
      ]
     },
     "metadata": {},
     "output_type": "display_data"
    },
    {
     "name": "stderr",
     "output_type": "stream",
     "text": [
      "\r",
      " 46%|████████████████████████████████████▏                                          | 858/1873 [03:31<04:24,  3.84it/s]"
     ]
    },
    {
     "data": {
      "text/plain": [
       "'new dataset\\\\ghazal\\\\ghazalD7.wav'"
      ]
     },
     "metadata": {},
     "output_type": "display_data"
    },
    {
     "name": "stderr",
     "output_type": "stream",
     "text": [
      "\r",
      " 46%|████████████████████████████████████▏                                          | 859/1873 [03:31<04:21,  3.88it/s]"
     ]
    },
    {
     "data": {
      "text/plain": [
       "'new dataset\\\\ghazal\\\\ghazalD8.wav'"
      ]
     },
     "metadata": {},
     "output_type": "display_data"
    },
    {
     "name": "stderr",
     "output_type": "stream",
     "text": [
      "\r",
      " 46%|████████████████████████████████████▎                                          | 860/1873 [03:32<04:18,  3.92it/s]"
     ]
    },
    {
     "data": {
      "text/plain": [
       "'new dataset\\\\ghazal\\\\ghazalE1.wav'"
      ]
     },
     "metadata": {},
     "output_type": "display_data"
    },
    {
     "name": "stderr",
     "output_type": "stream",
     "text": [
      "\r",
      " 46%|████████████████████████████████████▎                                          | 861/1873 [03:32<04:19,  3.90it/s]"
     ]
    },
    {
     "data": {
      "text/plain": [
       "'new dataset\\\\ghazal\\\\ghazalE10.wav'"
      ]
     },
     "metadata": {},
     "output_type": "display_data"
    },
    {
     "name": "stderr",
     "output_type": "stream",
     "text": [
      "\r",
      " 46%|████████████████████████████████████▎                                          | 862/1873 [03:32<04:19,  3.90it/s]"
     ]
    },
    {
     "data": {
      "text/plain": [
       "'new dataset\\\\ghazal\\\\ghazalE100.wav'"
      ]
     },
     "metadata": {},
     "output_type": "display_data"
    },
    {
     "name": "stderr",
     "output_type": "stream",
     "text": [
      "\r",
      " 46%|████████████████████████████████████▍                                          | 863/1873 [03:32<04:13,  3.98it/s]"
     ]
    },
    {
     "data": {
      "text/plain": [
       "'new dataset\\\\ghazal\\\\ghazalE101.wav'"
      ]
     },
     "metadata": {},
     "output_type": "display_data"
    },
    {
     "name": "stderr",
     "output_type": "stream",
     "text": [
      "\r",
      " 46%|████████████████████████████████████▍                                          | 864/1873 [03:33<04:15,  3.95it/s]"
     ]
    },
    {
     "data": {
      "text/plain": [
       "'new dataset\\\\ghazal\\\\ghazalE102.wav'"
      ]
     },
     "metadata": {},
     "output_type": "display_data"
    },
    {
     "name": "stderr",
     "output_type": "stream",
     "text": [
      "\r",
      " 46%|████████████████████████████████████▍                                          | 865/1873 [03:33<04:17,  3.91it/s]"
     ]
    },
    {
     "data": {
      "text/plain": [
       "'new dataset\\\\ghazal\\\\ghazalE103.wav'"
      ]
     },
     "metadata": {},
     "output_type": "display_data"
    },
    {
     "name": "stderr",
     "output_type": "stream",
     "text": [
      "\r",
      " 46%|████████████████████████████████████▌                                          | 866/1873 [03:33<04:16,  3.93it/s]"
     ]
    },
    {
     "data": {
      "text/plain": [
       "'new dataset\\\\ghazal\\\\ghazalE104.wav'"
      ]
     },
     "metadata": {},
     "output_type": "display_data"
    },
    {
     "name": "stderr",
     "output_type": "stream",
     "text": [
      "\r",
      " 46%|████████████████████████████████████▌                                          | 867/1873 [03:33<04:12,  3.98it/s]"
     ]
    },
    {
     "data": {
      "text/plain": [
       "'new dataset\\\\ghazal\\\\ghazalE105.wav'"
      ]
     },
     "metadata": {},
     "output_type": "display_data"
    },
    {
     "name": "stderr",
     "output_type": "stream",
     "text": [
      "\r",
      " 46%|████████████████████████████████████▌                                          | 868/1873 [03:34<04:08,  4.04it/s]"
     ]
    },
    {
     "data": {
      "text/plain": [
       "'new dataset\\\\ghazal\\\\ghazalE106.wav'"
      ]
     },
     "metadata": {},
     "output_type": "display_data"
    },
    {
     "name": "stderr",
     "output_type": "stream",
     "text": [
      "\r",
      " 46%|████████████████████████████████████▋                                          | 869/1873 [03:34<04:12,  3.98it/s]"
     ]
    },
    {
     "data": {
      "text/plain": [
       "'new dataset\\\\ghazal\\\\ghazalE107.wav'"
      ]
     },
     "metadata": {},
     "output_type": "display_data"
    },
    {
     "name": "stderr",
     "output_type": "stream",
     "text": [
      "\r",
      " 46%|████████████████████████████████████▋                                          | 870/1873 [03:34<04:08,  4.03it/s]"
     ]
    },
    {
     "data": {
      "text/plain": [
       "'new dataset\\\\ghazal\\\\ghazalE108.wav'"
      ]
     },
     "metadata": {},
     "output_type": "display_data"
    },
    {
     "name": "stderr",
     "output_type": "stream",
     "text": [
      "\r",
      " 47%|████████████████████████████████████▋                                          | 871/1873 [03:34<04:15,  3.93it/s]"
     ]
    },
    {
     "data": {
      "text/plain": [
       "'new dataset\\\\ghazal\\\\ghazalE109.wav'"
      ]
     },
     "metadata": {},
     "output_type": "display_data"
    },
    {
     "name": "stderr",
     "output_type": "stream",
     "text": [
      "\r",
      " 47%|████████████████████████████████████▊                                          | 872/1873 [03:35<04:14,  3.93it/s]"
     ]
    },
    {
     "data": {
      "text/plain": [
       "'new dataset\\\\ghazal\\\\ghazalE11.wav'"
      ]
     },
     "metadata": {},
     "output_type": "display_data"
    },
    {
     "name": "stderr",
     "output_type": "stream",
     "text": [
      "\r",
      " 47%|████████████████████████████████████▊                                          | 873/1873 [03:35<04:14,  3.94it/s]"
     ]
    },
    {
     "data": {
      "text/plain": [
       "'new dataset\\\\ghazal\\\\ghazalE110.wav'"
      ]
     },
     "metadata": {},
     "output_type": "display_data"
    },
    {
     "name": "stderr",
     "output_type": "stream",
     "text": [
      "\r",
      " 47%|████████████████████████████████████▊                                          | 874/1873 [03:35<04:15,  3.92it/s]"
     ]
    },
    {
     "data": {
      "text/plain": [
       "'new dataset\\\\ghazal\\\\ghazalE111.wav'"
      ]
     },
     "metadata": {},
     "output_type": "display_data"
    },
    {
     "name": "stderr",
     "output_type": "stream",
     "text": [
      "\r",
      " 47%|████████████████████████████████████▉                                          | 875/1873 [03:35<04:10,  3.98it/s]"
     ]
    },
    {
     "data": {
      "text/plain": [
       "'new dataset\\\\ghazal\\\\ghazalE112.wav'"
      ]
     },
     "metadata": {},
     "output_type": "display_data"
    },
    {
     "name": "stderr",
     "output_type": "stream",
     "text": [
      "\r",
      " 47%|████████████████████████████████████▉                                          | 876/1873 [03:36<04:11,  3.96it/s]"
     ]
    },
    {
     "data": {
      "text/plain": [
       "'new dataset\\\\ghazal\\\\ghazalE113.wav'"
      ]
     },
     "metadata": {},
     "output_type": "display_data"
    },
    {
     "name": "stderr",
     "output_type": "stream",
     "text": [
      "\r",
      " 47%|████████████████████████████████████▉                                          | 877/1873 [03:36<04:06,  4.04it/s]"
     ]
    },
    {
     "data": {
      "text/plain": [
       "'new dataset\\\\ghazal\\\\ghazalE114.wav'"
      ]
     },
     "metadata": {},
     "output_type": "display_data"
    },
    {
     "name": "stderr",
     "output_type": "stream",
     "text": [
      "\r",
      " 47%|█████████████████████████████████████                                          | 878/1873 [03:36<04:06,  4.03it/s]"
     ]
    },
    {
     "data": {
      "text/plain": [
       "'new dataset\\\\ghazal\\\\ghazalE115.wav'"
      ]
     },
     "metadata": {},
     "output_type": "display_data"
    },
    {
     "name": "stderr",
     "output_type": "stream",
     "text": [
      "\r",
      " 47%|█████████████████████████████████████                                          | 879/1873 [03:36<03:59,  4.15it/s]"
     ]
    },
    {
     "data": {
      "text/plain": [
       "'new dataset\\\\ghazal\\\\ghazalE116.wav'"
      ]
     },
     "metadata": {},
     "output_type": "display_data"
    },
    {
     "name": "stderr",
     "output_type": "stream",
     "text": [
      "\r",
      " 47%|█████████████████████████████████████                                          | 880/1873 [03:37<03:57,  4.18it/s]"
     ]
    },
    {
     "data": {
      "text/plain": [
       "'new dataset\\\\ghazal\\\\ghazalE117.wav'"
      ]
     },
     "metadata": {},
     "output_type": "display_data"
    },
    {
     "name": "stderr",
     "output_type": "stream",
     "text": [
      "\r",
      " 47%|█████████████████████████████████████▏                                         | 881/1873 [03:37<04:02,  4.09it/s]"
     ]
    },
    {
     "data": {
      "text/plain": [
       "'new dataset\\\\ghazal\\\\ghazalE118.wav'"
      ]
     },
     "metadata": {},
     "output_type": "display_data"
    },
    {
     "name": "stderr",
     "output_type": "stream",
     "text": [
      "\r",
      " 47%|█████████████████████████████████████▏                                         | 882/1873 [03:37<04:05,  4.04it/s]"
     ]
    },
    {
     "data": {
      "text/plain": [
       "'new dataset\\\\ghazal\\\\ghazalE119.wav'"
      ]
     },
     "metadata": {},
     "output_type": "display_data"
    },
    {
     "name": "stderr",
     "output_type": "stream",
     "text": [
      "\r",
      " 47%|█████████████████████████████████████▏                                         | 883/1873 [03:37<04:09,  3.97it/s]"
     ]
    },
    {
     "data": {
      "text/plain": [
       "'new dataset\\\\ghazal\\\\ghazalE12.wav'"
      ]
     },
     "metadata": {},
     "output_type": "display_data"
    },
    {
     "name": "stderr",
     "output_type": "stream",
     "text": [
      "\r",
      " 47%|█████████████████████████████████████▎                                         | 884/1873 [03:38<04:04,  4.05it/s]"
     ]
    },
    {
     "data": {
      "text/plain": [
       "'new dataset\\\\ghazal\\\\ghazalE120.wav'"
      ]
     },
     "metadata": {},
     "output_type": "display_data"
    },
    {
     "name": "stderr",
     "output_type": "stream",
     "text": [
      "\r",
      " 47%|█████████████████████████████████████▎                                         | 885/1873 [03:38<04:00,  4.10it/s]"
     ]
    },
    {
     "data": {
      "text/plain": [
       "'new dataset\\\\ghazal\\\\ghazalE121.wav'"
      ]
     },
     "metadata": {},
     "output_type": "display_data"
    },
    {
     "name": "stderr",
     "output_type": "stream",
     "text": [
      "\r",
      " 47%|█████████████████████████████████████▎                                         | 886/1873 [03:38<04:00,  4.10it/s]"
     ]
    },
    {
     "data": {
      "text/plain": [
       "'new dataset\\\\ghazal\\\\ghazalE122.wav'"
      ]
     },
     "metadata": {},
     "output_type": "display_data"
    },
    {
     "name": "stderr",
     "output_type": "stream",
     "text": [
      "\r",
      " 47%|█████████████████████████████████████▍                                         | 887/1873 [03:38<04:01,  4.08it/s]"
     ]
    },
    {
     "data": {
      "text/plain": [
       "'new dataset\\\\ghazal\\\\ghazalE123.wav'"
      ]
     },
     "metadata": {},
     "output_type": "display_data"
    },
    {
     "name": "stderr",
     "output_type": "stream",
     "text": [
      "\r",
      " 47%|█████████████████████████████████████▍                                         | 888/1873 [03:39<04:04,  4.03it/s]"
     ]
    },
    {
     "data": {
      "text/plain": [
       "'new dataset\\\\ghazal\\\\ghazalE124.wav'"
      ]
     },
     "metadata": {},
     "output_type": "display_data"
    },
    {
     "name": "stderr",
     "output_type": "stream",
     "text": [
      "\r",
      " 47%|█████████████████████████████████████▍                                         | 889/1873 [03:39<04:04,  4.03it/s]"
     ]
    },
    {
     "data": {
      "text/plain": [
       "'new dataset\\\\ghazal\\\\ghazalE125.wav'"
      ]
     },
     "metadata": {},
     "output_type": "display_data"
    },
    {
     "name": "stderr",
     "output_type": "stream",
     "text": [
      "\r",
      " 48%|█████████████████████████████████████▌                                         | 890/1873 [03:39<04:04,  4.02it/s]"
     ]
    },
    {
     "data": {
      "text/plain": [
       "'new dataset\\\\ghazal\\\\ghazalE126.wav'"
      ]
     },
     "metadata": {},
     "output_type": "display_data"
    },
    {
     "name": "stderr",
     "output_type": "stream",
     "text": [
      "\r",
      " 48%|█████████████████████████████████████▌                                         | 891/1873 [03:39<04:00,  4.09it/s]"
     ]
    },
    {
     "data": {
      "text/plain": [
       "'new dataset\\\\ghazal\\\\ghazalE127.wav'"
      ]
     },
     "metadata": {},
     "output_type": "display_data"
    },
    {
     "name": "stderr",
     "output_type": "stream",
     "text": [
      "\r",
      " 48%|█████████████████████████████████████▌                                         | 892/1873 [03:40<04:01,  4.06it/s]"
     ]
    },
    {
     "data": {
      "text/plain": [
       "'new dataset\\\\ghazal\\\\ghazalE128.wav'"
      ]
     },
     "metadata": {},
     "output_type": "display_data"
    },
    {
     "name": "stderr",
     "output_type": "stream",
     "text": [
      "\r",
      " 48%|█████████████████████████████████████▋                                         | 893/1873 [03:40<04:02,  4.04it/s]"
     ]
    },
    {
     "data": {
      "text/plain": [
       "'new dataset\\\\ghazal\\\\ghazalE129.wav'"
      ]
     },
     "metadata": {},
     "output_type": "display_data"
    },
    {
     "name": "stderr",
     "output_type": "stream",
     "text": [
      "\r",
      " 48%|█████████████████████████████████████▋                                         | 894/1873 [03:40<04:03,  4.03it/s]"
     ]
    },
    {
     "data": {
      "text/plain": [
       "'new dataset\\\\ghazal\\\\ghazalE13.wav'"
      ]
     },
     "metadata": {},
     "output_type": "display_data"
    },
    {
     "name": "stderr",
     "output_type": "stream",
     "text": [
      "\r",
      " 48%|█████████████████████████████████████▋                                         | 895/1873 [03:40<04:01,  4.05it/s]"
     ]
    },
    {
     "data": {
      "text/plain": [
       "'new dataset\\\\ghazal\\\\ghazalE130.wav'"
      ]
     },
     "metadata": {},
     "output_type": "display_data"
    },
    {
     "name": "stderr",
     "output_type": "stream",
     "text": [
      "\r",
      " 48%|█████████████████████████████████████▊                                         | 896/1873 [03:41<04:01,  4.05it/s]"
     ]
    },
    {
     "data": {
      "text/plain": [
       "'new dataset\\\\ghazal\\\\ghazalE131.wav'"
      ]
     },
     "metadata": {},
     "output_type": "display_data"
    },
    {
     "name": "stderr",
     "output_type": "stream",
     "text": [
      "\r",
      " 48%|█████████████████████████████████████▊                                         | 897/1873 [03:41<04:06,  3.96it/s]"
     ]
    },
    {
     "data": {
      "text/plain": [
       "'new dataset\\\\ghazal\\\\ghazalE132.wav'"
      ]
     },
     "metadata": {},
     "output_type": "display_data"
    },
    {
     "name": "stderr",
     "output_type": "stream",
     "text": [
      "\r",
      " 48%|█████████████████████████████████████▉                                         | 898/1873 [03:41<04:03,  4.00it/s]"
     ]
    },
    {
     "data": {
      "text/plain": [
       "'new dataset\\\\ghazal\\\\ghazalE133.wav'"
      ]
     },
     "metadata": {},
     "output_type": "display_data"
    },
    {
     "name": "stderr",
     "output_type": "stream",
     "text": [
      "\r",
      " 48%|█████████████████████████████████████▉                                         | 899/1873 [03:41<04:07,  3.93it/s]"
     ]
    },
    {
     "data": {
      "text/plain": [
       "'new dataset\\\\ghazal\\\\ghazalE134.wav'"
      ]
     },
     "metadata": {},
     "output_type": "display_data"
    },
    {
     "name": "stderr",
     "output_type": "stream",
     "text": [
      "\r",
      " 48%|█████████████████████████████████████▉                                         | 900/1873 [03:42<04:09,  3.90it/s]"
     ]
    },
    {
     "data": {
      "text/plain": [
       "'new dataset\\\\ghazal\\\\ghazalE135.wav'"
      ]
     },
     "metadata": {},
     "output_type": "display_data"
    },
    {
     "name": "stderr",
     "output_type": "stream",
     "text": [
      "\r",
      " 48%|██████████████████████████████████████                                         | 901/1873 [03:42<04:12,  3.85it/s]"
     ]
    },
    {
     "data": {
      "text/plain": [
       "'new dataset\\\\ghazal\\\\ghazalE136.wav'"
      ]
     },
     "metadata": {},
     "output_type": "display_data"
    },
    {
     "name": "stderr",
     "output_type": "stream",
     "text": [
      "\r",
      " 48%|██████████████████████████████████████                                         | 902/1873 [03:42<04:15,  3.79it/s]"
     ]
    },
    {
     "data": {
      "text/plain": [
       "'new dataset\\\\ghazal\\\\ghazalE137.wav'"
      ]
     },
     "metadata": {},
     "output_type": "display_data"
    },
    {
     "name": "stderr",
     "output_type": "stream",
     "text": [
      "\r",
      " 48%|██████████████████████████████████████                                         | 903/1873 [03:42<04:17,  3.77it/s]"
     ]
    },
    {
     "data": {
      "text/plain": [
       "'new dataset\\\\ghazal\\\\ghazalE138.wav'"
      ]
     },
     "metadata": {},
     "output_type": "display_data"
    },
    {
     "name": "stderr",
     "output_type": "stream",
     "text": [
      "\r",
      " 48%|██████████████████████████████████████▏                                        | 904/1873 [03:43<04:18,  3.75it/s]"
     ]
    },
    {
     "data": {
      "text/plain": [
       "'new dataset\\\\ghazal\\\\ghazalE139.wav'"
      ]
     },
     "metadata": {},
     "output_type": "display_data"
    },
    {
     "name": "stderr",
     "output_type": "stream",
     "text": [
      "\r",
      " 48%|██████████████████████████████████████▏                                        | 905/1873 [03:43<04:23,  3.67it/s]"
     ]
    },
    {
     "data": {
      "text/plain": [
       "'new dataset\\\\ghazal\\\\ghazalE14.wav'"
      ]
     },
     "metadata": {},
     "output_type": "display_data"
    },
    {
     "name": "stderr",
     "output_type": "stream",
     "text": [
      "\r",
      " 48%|██████████████████████████████████████▏                                        | 906/1873 [03:43<04:14,  3.80it/s]"
     ]
    },
    {
     "data": {
      "text/plain": [
       "'new dataset\\\\ghazal\\\\ghazalE140.wav'"
      ]
     },
     "metadata": {},
     "output_type": "display_data"
    },
    {
     "name": "stderr",
     "output_type": "stream",
     "text": [
      "\r",
      " 48%|██████████████████████████████████████▎                                        | 907/1873 [03:44<04:14,  3.79it/s]"
     ]
    },
    {
     "data": {
      "text/plain": [
       "'new dataset\\\\ghazal\\\\ghazalE141.wav'"
      ]
     },
     "metadata": {},
     "output_type": "display_data"
    },
    {
     "name": "stderr",
     "output_type": "stream",
     "text": [
      "\r",
      " 48%|██████████████████████████████████████▎                                        | 908/1873 [03:44<04:07,  3.90it/s]"
     ]
    },
    {
     "data": {
      "text/plain": [
       "'new dataset\\\\ghazal\\\\ghazalE142.wav'"
      ]
     },
     "metadata": {},
     "output_type": "display_data"
    },
    {
     "name": "stderr",
     "output_type": "stream",
     "text": [
      "\r",
      " 49%|██████████████████████████████████████▎                                        | 909/1873 [03:44<04:05,  3.93it/s]"
     ]
    },
    {
     "data": {
      "text/plain": [
       "'new dataset\\\\ghazal\\\\ghazalE143.wav'"
      ]
     },
     "metadata": {},
     "output_type": "display_data"
    },
    {
     "name": "stderr",
     "output_type": "stream",
     "text": [
      "\r",
      " 49%|██████████████████████████████████████▍                                        | 910/1873 [03:44<04:08,  3.87it/s]"
     ]
    },
    {
     "data": {
      "text/plain": [
       "'new dataset\\\\ghazal\\\\ghazalE144.wav'"
      ]
     },
     "metadata": {},
     "output_type": "display_data"
    },
    {
     "name": "stderr",
     "output_type": "stream",
     "text": [
      "\r",
      " 49%|██████████████████████████████████████▍                                        | 911/1873 [03:45<04:07,  3.88it/s]"
     ]
    },
    {
     "data": {
      "text/plain": [
       "'new dataset\\\\ghazal\\\\ghazalE145.wav'"
      ]
     },
     "metadata": {},
     "output_type": "display_data"
    },
    {
     "name": "stderr",
     "output_type": "stream",
     "text": [
      "\r",
      " 49%|██████████████████████████████████████▍                                        | 912/1873 [03:45<04:05,  3.92it/s]"
     ]
    },
    {
     "data": {
      "text/plain": [
       "'new dataset\\\\ghazal\\\\ghazalE146.wav'"
      ]
     },
     "metadata": {},
     "output_type": "display_data"
    },
    {
     "name": "stderr",
     "output_type": "stream",
     "text": [
      "\r",
      " 49%|██████████████████████████████████████▌                                        | 913/1873 [03:45<04:20,  3.68it/s]"
     ]
    },
    {
     "data": {
      "text/plain": [
       "'new dataset\\\\ghazal\\\\ghazalE147.wav'"
      ]
     },
     "metadata": {},
     "output_type": "display_data"
    },
    {
     "name": "stderr",
     "output_type": "stream",
     "text": [
      "\r",
      " 49%|██████████████████████████████████████▌                                        | 914/1873 [03:45<04:09,  3.84it/s]"
     ]
    },
    {
     "data": {
      "text/plain": [
       "'new dataset\\\\ghazal\\\\ghazalE148.wav'"
      ]
     },
     "metadata": {},
     "output_type": "display_data"
    },
    {
     "name": "stderr",
     "output_type": "stream",
     "text": [
      "\r",
      " 49%|██████████████████████████████████████▌                                        | 915/1873 [03:46<03:59,  3.99it/s]"
     ]
    },
    {
     "data": {
      "text/plain": [
       "'new dataset\\\\ghazal\\\\ghazalE149.wav'"
      ]
     },
     "metadata": {},
     "output_type": "display_data"
    },
    {
     "name": "stderr",
     "output_type": "stream",
     "text": [
      "\r",
      " 49%|██████████████████████████████████████▋                                        | 916/1873 [03:46<03:56,  4.04it/s]"
     ]
    },
    {
     "data": {
      "text/plain": [
       "'new dataset\\\\ghazal\\\\ghazalE15.wav'"
      ]
     },
     "metadata": {},
     "output_type": "display_data"
    },
    {
     "name": "stderr",
     "output_type": "stream",
     "text": [
      "\r",
      " 49%|██████████████████████████████████████▋                                        | 917/1873 [03:46<03:54,  4.07it/s]"
     ]
    },
    {
     "data": {
      "text/plain": [
       "'new dataset\\\\ghazal\\\\ghazalE150.wav'"
      ]
     },
     "metadata": {},
     "output_type": "display_data"
    },
    {
     "name": "stderr",
     "output_type": "stream",
     "text": [
      "\r",
      " 49%|██████████████████████████████████████▋                                        | 918/1873 [03:46<03:53,  4.09it/s]"
     ]
    },
    {
     "data": {
      "text/plain": [
       "'new dataset\\\\ghazal\\\\ghazalE151.wav'"
      ]
     },
     "metadata": {},
     "output_type": "display_data"
    },
    {
     "name": "stderr",
     "output_type": "stream",
     "text": [
      "\r",
      " 49%|██████████████████████████████████████▊                                        | 919/1873 [03:47<03:55,  4.06it/s]"
     ]
    },
    {
     "data": {
      "text/plain": [
       "'new dataset\\\\ghazal\\\\ghazalE152.wav'"
      ]
     },
     "metadata": {},
     "output_type": "display_data"
    },
    {
     "name": "stderr",
     "output_type": "stream",
     "text": [
      "\r",
      " 49%|██████████████████████████████████████▊                                        | 920/1873 [03:47<03:52,  4.10it/s]"
     ]
    },
    {
     "data": {
      "text/plain": [
       "'new dataset\\\\ghazal\\\\ghazalE153.wav'"
      ]
     },
     "metadata": {},
     "output_type": "display_data"
    },
    {
     "name": "stderr",
     "output_type": "stream",
     "text": [
      "\r",
      " 49%|██████████████████████████████████████▊                                        | 921/1873 [03:47<03:58,  3.99it/s]"
     ]
    },
    {
     "data": {
      "text/plain": [
       "'new dataset\\\\ghazal\\\\ghazalE154.wav'"
      ]
     },
     "metadata": {},
     "output_type": "display_data"
    },
    {
     "name": "stderr",
     "output_type": "stream",
     "text": [
      "\r",
      " 49%|██████████████████████████████████████▉                                        | 922/1873 [03:47<04:04,  3.90it/s]"
     ]
    },
    {
     "data": {
      "text/plain": [
       "'new dataset\\\\ghazal\\\\ghazalE155.wav'"
      ]
     },
     "metadata": {},
     "output_type": "display_data"
    },
    {
     "name": "stderr",
     "output_type": "stream",
     "text": [
      "\r",
      " 49%|██████████████████████████████████████▉                                        | 923/1873 [03:48<04:10,  3.79it/s]"
     ]
    },
    {
     "data": {
      "text/plain": [
       "'new dataset\\\\ghazal\\\\ghazalE156.wav'"
      ]
     },
     "metadata": {},
     "output_type": "display_data"
    },
    {
     "name": "stderr",
     "output_type": "stream",
     "text": [
      "\r",
      " 49%|██████████████████████████████████████▉                                        | 924/1873 [03:48<04:11,  3.77it/s]"
     ]
    },
    {
     "data": {
      "text/plain": [
       "'new dataset\\\\ghazal\\\\ghazalE157.wav'"
      ]
     },
     "metadata": {},
     "output_type": "display_data"
    },
    {
     "name": "stderr",
     "output_type": "stream",
     "text": [
      "\r",
      " 49%|███████████████████████████████████████                                        | 925/1873 [03:48<04:09,  3.80it/s]"
     ]
    },
    {
     "data": {
      "text/plain": [
       "'new dataset\\\\ghazal\\\\ghazalE158.wav'"
      ]
     },
     "metadata": {},
     "output_type": "display_data"
    },
    {
     "name": "stderr",
     "output_type": "stream",
     "text": [
      "\r",
      " 49%|███████████████████████████████████████                                        | 926/1873 [03:48<04:11,  3.77it/s]"
     ]
    },
    {
     "data": {
      "text/plain": [
       "'new dataset\\\\ghazal\\\\ghazalE159.wav'"
      ]
     },
     "metadata": {},
     "output_type": "display_data"
    },
    {
     "name": "stderr",
     "output_type": "stream",
     "text": [
      "\r",
      " 49%|███████████████████████████████████████                                        | 927/1873 [03:49<04:12,  3.75it/s]"
     ]
    },
    {
     "data": {
      "text/plain": [
       "'new dataset\\\\ghazal\\\\ghazalE16.wav'"
      ]
     },
     "metadata": {},
     "output_type": "display_data"
    },
    {
     "name": "stderr",
     "output_type": "stream",
     "text": [
      "\r",
      " 50%|███████████████████████████████████████▏                                       | 928/1873 [03:49<04:08,  3.81it/s]"
     ]
    },
    {
     "data": {
      "text/plain": [
       "'new dataset\\\\ghazal\\\\ghazalE160.wav'"
      ]
     },
     "metadata": {},
     "output_type": "display_data"
    },
    {
     "name": "stderr",
     "output_type": "stream",
     "text": [
      "\r",
      " 50%|███████████████████████████████████████▏                                       | 929/1873 [03:49<04:09,  3.79it/s]"
     ]
    },
    {
     "data": {
      "text/plain": [
       "'new dataset\\\\ghazal\\\\ghazalE161.wav'"
      ]
     },
     "metadata": {},
     "output_type": "display_data"
    },
    {
     "name": "stderr",
     "output_type": "stream",
     "text": [
      "\r",
      " 50%|███████████████████████████████████████▏                                       | 930/1873 [03:49<04:11,  3.75it/s]"
     ]
    },
    {
     "data": {
      "text/plain": [
       "'new dataset\\\\ghazal\\\\ghazalE162.wav'"
      ]
     },
     "metadata": {},
     "output_type": "display_data"
    },
    {
     "name": "stderr",
     "output_type": "stream",
     "text": [
      "\r",
      " 50%|███████████████████████████████████████▎                                       | 931/1873 [03:50<04:13,  3.72it/s]"
     ]
    },
    {
     "data": {
      "text/plain": [
       "'new dataset\\\\ghazal\\\\ghazalE163.wav'"
      ]
     },
     "metadata": {},
     "output_type": "display_data"
    },
    {
     "name": "stderr",
     "output_type": "stream",
     "text": [
      "\r",
      " 50%|███████████████████████████████████████▎                                       | 932/1873 [03:50<04:05,  3.83it/s]"
     ]
    },
    {
     "data": {
      "text/plain": [
       "'new dataset\\\\ghazal\\\\ghazalE164.wav'"
      ]
     },
     "metadata": {},
     "output_type": "display_data"
    },
    {
     "name": "stderr",
     "output_type": "stream",
     "text": [
      "\r",
      " 50%|███████████████████████████████████████▎                                       | 933/1873 [03:50<04:00,  3.90it/s]"
     ]
    },
    {
     "data": {
      "text/plain": [
       "'new dataset\\\\ghazal\\\\ghazalE165.wav'"
      ]
     },
     "metadata": {},
     "output_type": "display_data"
    },
    {
     "name": "stderr",
     "output_type": "stream",
     "text": [
      "\r",
      " 50%|███████████████████████████████████████▍                                       | 934/1873 [03:50<04:01,  3.88it/s]"
     ]
    },
    {
     "data": {
      "text/plain": [
       "'new dataset\\\\ghazal\\\\ghazalE166.wav'"
      ]
     },
     "metadata": {},
     "output_type": "display_data"
    },
    {
     "name": "stderr",
     "output_type": "stream",
     "text": [
      "\r",
      " 50%|███████████████████████████████████████▍                                       | 935/1873 [03:51<04:01,  3.89it/s]"
     ]
    },
    {
     "data": {
      "text/plain": [
       "'new dataset\\\\ghazal\\\\ghazalE167.wav'"
      ]
     },
     "metadata": {},
     "output_type": "display_data"
    },
    {
     "name": "stderr",
     "output_type": "stream",
     "text": [
      "\r",
      " 50%|███████████████████████████████████████▍                                       | 936/1873 [03:51<04:00,  3.90it/s]"
     ]
    },
    {
     "data": {
      "text/plain": [
       "'new dataset\\\\ghazal\\\\ghazalE168.wav'"
      ]
     },
     "metadata": {},
     "output_type": "display_data"
    },
    {
     "name": "stderr",
     "output_type": "stream",
     "text": [
      "\r",
      " 50%|███████████████████████████████████████▌                                       | 937/1873 [03:51<03:57,  3.95it/s]"
     ]
    },
    {
     "data": {
      "text/plain": [
       "'new dataset\\\\ghazal\\\\ghazalE169.wav'"
      ]
     },
     "metadata": {},
     "output_type": "display_data"
    },
    {
     "name": "stderr",
     "output_type": "stream",
     "text": [
      "\r",
      " 50%|███████████████████████████████████████▌                                       | 938/1873 [03:51<03:54,  3.98it/s]"
     ]
    },
    {
     "data": {
      "text/plain": [
       "'new dataset\\\\ghazal\\\\ghazalE17.wav'"
      ]
     },
     "metadata": {},
     "output_type": "display_data"
    },
    {
     "name": "stderr",
     "output_type": "stream",
     "text": [
      "\r",
      " 50%|███████████████████████████████████████▌                                       | 939/1873 [03:52<03:50,  4.05it/s]"
     ]
    },
    {
     "data": {
      "text/plain": [
       "'new dataset\\\\ghazal\\\\ghazalE170.wav'"
      ]
     },
     "metadata": {},
     "output_type": "display_data"
    },
    {
     "name": "stderr",
     "output_type": "stream",
     "text": [
      "\r",
      " 50%|███████████████████████████████████████▋                                       | 940/1873 [03:52<03:53,  3.99it/s]"
     ]
    },
    {
     "data": {
      "text/plain": [
       "'new dataset\\\\ghazal\\\\ghazalE171.wav'"
      ]
     },
     "metadata": {},
     "output_type": "display_data"
    },
    {
     "name": "stderr",
     "output_type": "stream",
     "text": [
      "\r",
      " 50%|███████████████████████████████████████▋                                       | 941/1873 [03:52<03:56,  3.93it/s]"
     ]
    },
    {
     "data": {
      "text/plain": [
       "'new dataset\\\\ghazal\\\\ghazalE172.wav'"
      ]
     },
     "metadata": {},
     "output_type": "display_data"
    },
    {
     "name": "stderr",
     "output_type": "stream",
     "text": [
      "\r",
      " 50%|███████████████████████████████████████▋                                       | 942/1873 [03:52<03:59,  3.90it/s]"
     ]
    },
    {
     "data": {
      "text/plain": [
       "'new dataset\\\\ghazal\\\\ghazalE173.wav'"
      ]
     },
     "metadata": {},
     "output_type": "display_data"
    },
    {
     "name": "stderr",
     "output_type": "stream",
     "text": [
      "\r",
      " 50%|███████████████████████████████████████▊                                       | 943/1873 [03:53<03:58,  3.90it/s]"
     ]
    },
    {
     "data": {
      "text/plain": [
       "'new dataset\\\\ghazal\\\\ghazalE174.wav'"
      ]
     },
     "metadata": {},
     "output_type": "display_data"
    },
    {
     "name": "stderr",
     "output_type": "stream",
     "text": [
      "\r",
      " 50%|███████████████████████████████████████▊                                       | 944/1873 [03:53<03:57,  3.92it/s]"
     ]
    },
    {
     "data": {
      "text/plain": [
       "'new dataset\\\\ghazal\\\\ghazalE175.wav'"
      ]
     },
     "metadata": {},
     "output_type": "display_data"
    },
    {
     "name": "stderr",
     "output_type": "stream",
     "text": [
      "\r",
      " 50%|███████████████████████████████████████▊                                       | 945/1873 [03:53<04:17,  3.60it/s]"
     ]
    },
    {
     "data": {
      "text/plain": [
       "'new dataset\\\\ghazal\\\\ghazalE176.wav'"
      ]
     },
     "metadata": {},
     "output_type": "display_data"
    },
    {
     "name": "stderr",
     "output_type": "stream",
     "text": [
      "\r",
      " 51%|███████████████████████████████████████▉                                       | 946/1873 [03:54<04:03,  3.80it/s]"
     ]
    },
    {
     "data": {
      "text/plain": [
       "'new dataset\\\\ghazal\\\\ghazalE177.wav'"
      ]
     },
     "metadata": {},
     "output_type": "display_data"
    },
    {
     "name": "stderr",
     "output_type": "stream",
     "text": [
      "\r",
      " 51%|███████████████████████████████████████▉                                       | 947/1873 [03:54<03:56,  3.91it/s]"
     ]
    },
    {
     "data": {
      "text/plain": [
       "'new dataset\\\\ghazal\\\\ghazalE178.wav'"
      ]
     },
     "metadata": {},
     "output_type": "display_data"
    },
    {
     "name": "stderr",
     "output_type": "stream",
     "text": [
      "\r",
      " 51%|███████████████████████████████████████▉                                       | 948/1873 [03:54<04:20,  3.55it/s]"
     ]
    },
    {
     "data": {
      "text/plain": [
       "'new dataset\\\\ghazal\\\\ghazalE179.wav'"
      ]
     },
     "metadata": {},
     "output_type": "display_data"
    },
    {
     "name": "stderr",
     "output_type": "stream",
     "text": [
      "\r",
      " 51%|████████████████████████████████████████                                       | 949/1873 [03:54<04:18,  3.57it/s]"
     ]
    },
    {
     "data": {
      "text/plain": [
       "'new dataset\\\\ghazal\\\\ghazalE18.wav'"
      ]
     },
     "metadata": {},
     "output_type": "display_data"
    },
    {
     "name": "stderr",
     "output_type": "stream",
     "text": [
      "\r",
      " 51%|████████████████████████████████████████                                       | 950/1873 [03:55<04:10,  3.69it/s]"
     ]
    },
    {
     "data": {
      "text/plain": [
       "'new dataset\\\\ghazal\\\\ghazalE180.wav'"
      ]
     },
     "metadata": {},
     "output_type": "display_data"
    },
    {
     "name": "stderr",
     "output_type": "stream",
     "text": [
      "\r",
      " 51%|████████████████████████████████████████                                       | 951/1873 [03:55<04:08,  3.71it/s]"
     ]
    },
    {
     "data": {
      "text/plain": [
       "'new dataset\\\\ghazal\\\\ghazalE181.wav'"
      ]
     },
     "metadata": {},
     "output_type": "display_data"
    },
    {
     "name": "stderr",
     "output_type": "stream",
     "text": [
      "\r",
      " 51%|████████████████████████████████████████▏                                      | 952/1873 [03:55<04:01,  3.81it/s]"
     ]
    },
    {
     "data": {
      "text/plain": [
       "'new dataset\\\\ghazal\\\\ghazalE182.wav'"
      ]
     },
     "metadata": {},
     "output_type": "display_data"
    },
    {
     "name": "stderr",
     "output_type": "stream",
     "text": [
      "\r",
      " 51%|████████████████████████████████████████▏                                      | 953/1873 [03:55<04:03,  3.78it/s]"
     ]
    },
    {
     "data": {
      "text/plain": [
       "'new dataset\\\\ghazal\\\\ghazalE183.wav'"
      ]
     },
     "metadata": {},
     "output_type": "display_data"
    },
    {
     "name": "stderr",
     "output_type": "stream",
     "text": [
      "\r",
      " 51%|████████████████████████████████████████▏                                      | 954/1873 [03:56<03:57,  3.87it/s]"
     ]
    },
    {
     "data": {
      "text/plain": [
       "'new dataset\\\\ghazal\\\\ghazalE184.wav'"
      ]
     },
     "metadata": {},
     "output_type": "display_data"
    },
    {
     "name": "stderr",
     "output_type": "stream",
     "text": [
      "\r",
      " 51%|████████████████████████████████████████▎                                      | 955/1873 [03:56<03:50,  3.99it/s]"
     ]
    },
    {
     "data": {
      "text/plain": [
       "'new dataset\\\\ghazal\\\\ghazalE185.wav'"
      ]
     },
     "metadata": {},
     "output_type": "display_data"
    },
    {
     "name": "stderr",
     "output_type": "stream",
     "text": [
      "\r",
      " 51%|████████████████████████████████████████▎                                      | 956/1873 [03:56<03:54,  3.90it/s]"
     ]
    },
    {
     "data": {
      "text/plain": [
       "'new dataset\\\\ghazal\\\\ghazalE186.wav'"
      ]
     },
     "metadata": {},
     "output_type": "display_data"
    },
    {
     "name": "stderr",
     "output_type": "stream",
     "text": [
      "\r",
      " 51%|████████████████████████████████████████▎                                      | 957/1873 [03:56<03:52,  3.94it/s]"
     ]
    },
    {
     "data": {
      "text/plain": [
       "'new dataset\\\\ghazal\\\\ghazalE187.wav'"
      ]
     },
     "metadata": {},
     "output_type": "display_data"
    },
    {
     "name": "stderr",
     "output_type": "stream",
     "text": [
      "\r",
      " 51%|████████████████████████████████████████▍                                      | 958/1873 [03:57<03:59,  3.83it/s]"
     ]
    },
    {
     "data": {
      "text/plain": [
       "'new dataset\\\\ghazal\\\\ghazalE188.wav'"
      ]
     },
     "metadata": {},
     "output_type": "display_data"
    },
    {
     "name": "stderr",
     "output_type": "stream",
     "text": [
      "\r",
      " 51%|████████████████████████████████████████▍                                      | 959/1873 [03:57<03:55,  3.88it/s]"
     ]
    },
    {
     "data": {
      "text/plain": [
       "'new dataset\\\\ghazal\\\\ghazalE19.wav'"
      ]
     },
     "metadata": {},
     "output_type": "display_data"
    },
    {
     "name": "stderr",
     "output_type": "stream",
     "text": [
      "\r",
      " 51%|████████████████████████████████████████▍                                      | 960/1873 [03:57<03:51,  3.94it/s]"
     ]
    },
    {
     "data": {
      "text/plain": [
       "'new dataset\\\\ghazal\\\\ghazalE2.wav'"
      ]
     },
     "metadata": {},
     "output_type": "display_data"
    },
    {
     "name": "stderr",
     "output_type": "stream",
     "text": [
      "\r",
      " 51%|████████████████████████████████████████▌                                      | 961/1873 [03:57<03:48,  4.00it/s]"
     ]
    },
    {
     "data": {
      "text/plain": [
       "'new dataset\\\\ghazal\\\\ghazalE20.wav'"
      ]
     },
     "metadata": {},
     "output_type": "display_data"
    },
    {
     "name": "stderr",
     "output_type": "stream",
     "text": [
      "\r",
      " 51%|████████████████████████████████████████▌                                      | 962/1873 [03:58<03:55,  3.87it/s]"
     ]
    },
    {
     "data": {
      "text/plain": [
       "'new dataset\\\\ghazal\\\\ghazalE21.wav'"
      ]
     },
     "metadata": {},
     "output_type": "display_data"
    },
    {
     "name": "stderr",
     "output_type": "stream",
     "text": [
      "\r",
      " 51%|████████████████████████████████████████▌                                      | 963/1873 [03:58<03:54,  3.88it/s]"
     ]
    },
    {
     "data": {
      "text/plain": [
       "'new dataset\\\\ghazal\\\\ghazalE22.wav'"
      ]
     },
     "metadata": {},
     "output_type": "display_data"
    },
    {
     "name": "stderr",
     "output_type": "stream",
     "text": [
      "\r",
      " 51%|████████████████████████████████████████▋                                      | 964/1873 [03:58<03:53,  3.90it/s]"
     ]
    },
    {
     "data": {
      "text/plain": [
       "'new dataset\\\\ghazal\\\\ghazalE23.wav'"
      ]
     },
     "metadata": {},
     "output_type": "display_data"
    },
    {
     "name": "stderr",
     "output_type": "stream",
     "text": [
      "\r",
      " 52%|████████████████████████████████████████▋                                      | 965/1873 [03:58<03:50,  3.94it/s]"
     ]
    },
    {
     "data": {
      "text/plain": [
       "'new dataset\\\\ghazal\\\\GhazalE238.wav'"
      ]
     },
     "metadata": {},
     "output_type": "display_data"
    },
    {
     "name": "stderr",
     "output_type": "stream",
     "text": [
      "\r",
      " 52%|████████████████████████████████████████▋                                      | 966/1873 [03:59<03:54,  3.87it/s]"
     ]
    },
    {
     "data": {
      "text/plain": [
       "'new dataset\\\\ghazal\\\\GhazalE239.wav'"
      ]
     },
     "metadata": {},
     "output_type": "display_data"
    },
    {
     "name": "stderr",
     "output_type": "stream",
     "text": [
      "\r",
      " 52%|████████████████████████████████████████▊                                      | 967/1873 [03:59<03:52,  3.90it/s]"
     ]
    },
    {
     "data": {
      "text/plain": [
       "'new dataset\\\\ghazal\\\\ghazalE24.wav'"
      ]
     },
     "metadata": {},
     "output_type": "display_data"
    },
    {
     "name": "stderr",
     "output_type": "stream",
     "text": [
      "\r",
      " 52%|████████████████████████████████████████▊                                      | 968/1873 [03:59<03:50,  3.93it/s]"
     ]
    },
    {
     "data": {
      "text/plain": [
       "'new dataset\\\\ghazal\\\\GhazalE240.wav'"
      ]
     },
     "metadata": {},
     "output_type": "display_data"
    },
    {
     "name": "stderr",
     "output_type": "stream",
     "text": [
      "\r",
      " 52%|████████████████████████████████████████▊                                      | 969/1873 [04:00<03:44,  4.02it/s]"
     ]
    },
    {
     "data": {
      "text/plain": [
       "'new dataset\\\\ghazal\\\\GhazalE241.wav'"
      ]
     },
     "metadata": {},
     "output_type": "display_data"
    },
    {
     "name": "stderr",
     "output_type": "stream",
     "text": [
      "\r",
      " 52%|████████████████████████████████████████▉                                      | 970/1873 [04:00<03:40,  4.09it/s]"
     ]
    },
    {
     "data": {
      "text/plain": [
       "'new dataset\\\\ghazal\\\\GhazalE242.wav'"
      ]
     },
     "metadata": {},
     "output_type": "display_data"
    },
    {
     "name": "stderr",
     "output_type": "stream",
     "text": [
      "\r",
      " 52%|████████████████████████████████████████▉                                      | 971/1873 [04:00<03:54,  3.85it/s]"
     ]
    },
    {
     "data": {
      "text/plain": [
       "'new dataset\\\\ghazal\\\\GhazalE243.wav'"
      ]
     },
     "metadata": {},
     "output_type": "display_data"
    },
    {
     "name": "stderr",
     "output_type": "stream",
     "text": [
      "\r",
      " 52%|████████████████████████████████████████▉                                      | 972/1873 [04:00<03:56,  3.82it/s]"
     ]
    },
    {
     "data": {
      "text/plain": [
       "'new dataset\\\\ghazal\\\\GhazalE244.wav'"
      ]
     },
     "metadata": {},
     "output_type": "display_data"
    },
    {
     "name": "stderr",
     "output_type": "stream",
     "text": [
      "\r",
      " 52%|█████████████████████████████████████████                                      | 973/1873 [04:01<03:56,  3.80it/s]"
     ]
    },
    {
     "data": {
      "text/plain": [
       "'new dataset\\\\ghazal\\\\GhazalE245.wav'"
      ]
     },
     "metadata": {},
     "output_type": "display_data"
    },
    {
     "name": "stderr",
     "output_type": "stream",
     "text": [
      "\r",
      " 52%|█████████████████████████████████████████                                      | 974/1873 [04:01<03:51,  3.89it/s]"
     ]
    },
    {
     "data": {
      "text/plain": [
       "'new dataset\\\\ghazal\\\\GhazalE246.wav'"
      ]
     },
     "metadata": {},
     "output_type": "display_data"
    },
    {
     "name": "stderr",
     "output_type": "stream",
     "text": [
      "\r",
      " 52%|█████████████████████████████████████████                                      | 975/1873 [04:01<03:54,  3.82it/s]"
     ]
    },
    {
     "data": {
      "text/plain": [
       "'new dataset\\\\ghazal\\\\GhazalE247.wav'"
      ]
     },
     "metadata": {},
     "output_type": "display_data"
    },
    {
     "name": "stderr",
     "output_type": "stream",
     "text": [
      "\r",
      " 52%|█████████████████████████████████████████▏                                     | 976/1873 [04:01<03:48,  3.92it/s]"
     ]
    },
    {
     "data": {
      "text/plain": [
       "'new dataset\\\\ghazal\\\\GhazalE248.wav'"
      ]
     },
     "metadata": {},
     "output_type": "display_data"
    },
    {
     "name": "stderr",
     "output_type": "stream",
     "text": [
      "\r",
      " 52%|█████████████████████████████████████████▏                                     | 977/1873 [04:02<03:40,  4.06it/s]"
     ]
    },
    {
     "data": {
      "text/plain": [
       "'new dataset\\\\ghazal\\\\GhazalE249.wav'"
      ]
     },
     "metadata": {},
     "output_type": "display_data"
    },
    {
     "name": "stderr",
     "output_type": "stream",
     "text": [
      "\r",
      " 52%|█████████████████████████████████████████▎                                     | 978/1873 [04:02<03:50,  3.88it/s]"
     ]
    },
    {
     "data": {
      "text/plain": [
       "'new dataset\\\\ghazal\\\\ghazalE25.wav'"
      ]
     },
     "metadata": {},
     "output_type": "display_data"
    },
    {
     "name": "stderr",
     "output_type": "stream",
     "text": [
      "\r",
      " 52%|█████████████████████████████████████████▎                                     | 979/1873 [04:02<03:43,  4.01it/s]"
     ]
    },
    {
     "data": {
      "text/plain": [
       "'new dataset\\\\ghazal\\\\GhazalE250.wav'"
      ]
     },
     "metadata": {},
     "output_type": "display_data"
    },
    {
     "name": "stderr",
     "output_type": "stream",
     "text": [
      "\r",
      " 52%|█████████████████████████████████████████▎                                     | 980/1873 [04:02<03:53,  3.83it/s]"
     ]
    },
    {
     "data": {
      "text/plain": [
       "'new dataset\\\\ghazal\\\\GhazalE251.wav'"
      ]
     },
     "metadata": {},
     "output_type": "display_data"
    },
    {
     "name": "stderr",
     "output_type": "stream",
     "text": [
      "\r",
      " 52%|█████████████████████████████████████████▍                                     | 981/1873 [04:03<03:56,  3.78it/s]"
     ]
    },
    {
     "data": {
      "text/plain": [
       "'new dataset\\\\ghazal\\\\GhazalE252.wav'"
      ]
     },
     "metadata": {},
     "output_type": "display_data"
    },
    {
     "name": "stderr",
     "output_type": "stream",
     "text": [
      "\r",
      " 52%|█████████████████████████████████████████▍                                     | 982/1873 [04:03<04:00,  3.71it/s]"
     ]
    },
    {
     "data": {
      "text/plain": [
       "'new dataset\\\\ghazal\\\\GhazalE253.wav'"
      ]
     },
     "metadata": {},
     "output_type": "display_data"
    },
    {
     "name": "stderr",
     "output_type": "stream",
     "text": [
      "\r",
      " 52%|█████████████████████████████████████████▍                                     | 983/1873 [04:03<03:53,  3.81it/s]"
     ]
    },
    {
     "data": {
      "text/plain": [
       "'new dataset\\\\ghazal\\\\ghazalE26.wav'"
      ]
     },
     "metadata": {},
     "output_type": "display_data"
    },
    {
     "name": "stderr",
     "output_type": "stream",
     "text": [
      "\r",
      " 53%|█████████████████████████████████████████▌                                     | 984/1873 [04:03<03:52,  3.82it/s]"
     ]
    },
    {
     "data": {
      "text/plain": [
       "'new dataset\\\\ghazal\\\\ghazalE27.wav'"
      ]
     },
     "metadata": {},
     "output_type": "display_data"
    },
    {
     "name": "stderr",
     "output_type": "stream",
     "text": [
      "\r",
      " 53%|█████████████████████████████████████████▌                                     | 985/1873 [04:04<03:54,  3.78it/s]"
     ]
    },
    {
     "data": {
      "text/plain": [
       "'new dataset\\\\ghazal\\\\ghazalE28.wav'"
      ]
     },
     "metadata": {},
     "output_type": "display_data"
    },
    {
     "name": "stderr",
     "output_type": "stream",
     "text": [
      "\r",
      " 53%|█████████████████████████████████████████▌                                     | 986/1873 [04:04<03:53,  3.80it/s]"
     ]
    },
    {
     "data": {
      "text/plain": [
       "'new dataset\\\\ghazal\\\\ghazalE29.wav'"
      ]
     },
     "metadata": {},
     "output_type": "display_data"
    },
    {
     "name": "stderr",
     "output_type": "stream",
     "text": [
      "\r",
      " 53%|█████████████████████████████████████████▋                                     | 987/1873 [04:04<03:50,  3.84it/s]"
     ]
    },
    {
     "data": {
      "text/plain": [
       "'new dataset\\\\ghazal\\\\ghazalE3.wav'"
      ]
     },
     "metadata": {},
     "output_type": "display_data"
    },
    {
     "name": "stderr",
     "output_type": "stream",
     "text": [
      "\r",
      " 53%|█████████████████████████████████████████▋                                     | 988/1873 [04:04<03:51,  3.83it/s]"
     ]
    },
    {
     "data": {
      "text/plain": [
       "'new dataset\\\\ghazal\\\\ghazalE30.wav'"
      ]
     },
     "metadata": {},
     "output_type": "display_data"
    },
    {
     "name": "stderr",
     "output_type": "stream",
     "text": [
      "\r",
      " 53%|█████████████████████████████████████████▋                                     | 989/1873 [04:05<03:47,  3.88it/s]"
     ]
    },
    {
     "data": {
      "text/plain": [
       "'new dataset\\\\ghazal\\\\ghazalE31.wav'"
      ]
     },
     "metadata": {},
     "output_type": "display_data"
    },
    {
     "name": "stderr",
     "output_type": "stream",
     "text": [
      "\r",
      " 53%|█████████████████████████████████████████▊                                     | 990/1873 [04:05<03:46,  3.91it/s]"
     ]
    },
    {
     "data": {
      "text/plain": [
       "'new dataset\\\\ghazal\\\\ghazalE32.wav'"
      ]
     },
     "metadata": {},
     "output_type": "display_data"
    },
    {
     "name": "stderr",
     "output_type": "stream",
     "text": [
      "\r",
      " 53%|█████████████████████████████████████████▊                                     | 991/1873 [04:05<03:44,  3.93it/s]"
     ]
    },
    {
     "data": {
      "text/plain": [
       "'new dataset\\\\ghazal\\\\ghazalE33.wav'"
      ]
     },
     "metadata": {},
     "output_type": "display_data"
    },
    {
     "name": "stderr",
     "output_type": "stream",
     "text": [
      "\r",
      " 53%|█████████████████████████████████████████▊                                     | 992/1873 [04:05<03:41,  3.99it/s]"
     ]
    },
    {
     "data": {
      "text/plain": [
       "'new dataset\\\\ghazal\\\\ghazalE34.wav'"
      ]
     },
     "metadata": {},
     "output_type": "display_data"
    },
    {
     "name": "stderr",
     "output_type": "stream",
     "text": [
      "\r",
      " 53%|█████████████████████████████████████████▉                                     | 993/1873 [04:06<03:40,  3.99it/s]"
     ]
    },
    {
     "data": {
      "text/plain": [
       "'new dataset\\\\ghazal\\\\ghazalE35.wav'"
      ]
     },
     "metadata": {},
     "output_type": "display_data"
    },
    {
     "name": "stderr",
     "output_type": "stream",
     "text": [
      "\r",
      " 53%|█████████████████████████████████████████▉                                     | 994/1873 [04:06<03:39,  4.00it/s]"
     ]
    },
    {
     "data": {
      "text/plain": [
       "'new dataset\\\\ghazal\\\\ghazalE36.wav'"
      ]
     },
     "metadata": {},
     "output_type": "display_data"
    },
    {
     "name": "stderr",
     "output_type": "stream",
     "text": [
      "\r",
      " 53%|█████████████████████████████████████████▉                                     | 995/1873 [04:06<03:41,  3.97it/s]"
     ]
    },
    {
     "data": {
      "text/plain": [
       "'new dataset\\\\ghazal\\\\ghazalE37.wav'"
      ]
     },
     "metadata": {},
     "output_type": "display_data"
    },
    {
     "name": "stderr",
     "output_type": "stream",
     "text": [
      "\r",
      " 53%|██████████████████████████████████████████                                     | 996/1873 [04:06<03:44,  3.91it/s]"
     ]
    },
    {
     "data": {
      "text/plain": [
       "'new dataset\\\\ghazal\\\\ghazalE38.wav'"
      ]
     },
     "metadata": {},
     "output_type": "display_data"
    },
    {
     "name": "stderr",
     "output_type": "stream",
     "text": [
      "\r",
      " 53%|██████████████████████████████████████████                                     | 997/1873 [04:07<03:41,  3.95it/s]"
     ]
    },
    {
     "data": {
      "text/plain": [
       "'new dataset\\\\ghazal\\\\ghazalE39.wav'"
      ]
     },
     "metadata": {},
     "output_type": "display_data"
    },
    {
     "name": "stderr",
     "output_type": "stream",
     "text": [
      "\r",
      " 53%|██████████████████████████████████████████                                     | 998/1873 [04:07<03:49,  3.81it/s]"
     ]
    },
    {
     "data": {
      "text/plain": [
       "'new dataset\\\\ghazal\\\\ghazalE4.wav'"
      ]
     },
     "metadata": {},
     "output_type": "display_data"
    },
    {
     "name": "stderr",
     "output_type": "stream",
     "text": [
      "\r",
      " 53%|██████████████████████████████████████████▏                                    | 999/1873 [04:07<03:57,  3.68it/s]"
     ]
    },
    {
     "data": {
      "text/plain": [
       "'new dataset\\\\ghazal\\\\ghazalE40.wav'"
      ]
     },
     "metadata": {},
     "output_type": "display_data"
    },
    {
     "name": "stderr",
     "output_type": "stream",
     "text": [
      "\r",
      " 53%|█████████████████████████████████████████▋                                    | 1000/1873 [04:08<03:51,  3.77it/s]"
     ]
    },
    {
     "data": {
      "text/plain": [
       "'new dataset\\\\ghazal\\\\ghazalE41.wav'"
      ]
     },
     "metadata": {},
     "output_type": "display_data"
    },
    {
     "name": "stderr",
     "output_type": "stream",
     "text": [
      "\r",
      " 53%|█████████████████████████████████████████▋                                    | 1001/1873 [04:08<03:50,  3.78it/s]"
     ]
    },
    {
     "data": {
      "text/plain": [
       "'new dataset\\\\ghazal\\\\ghazalE42.wav'"
      ]
     },
     "metadata": {},
     "output_type": "display_data"
    },
    {
     "name": "stderr",
     "output_type": "stream",
     "text": [
      "\r",
      " 53%|█████████████████████████████████████████▋                                    | 1002/1873 [04:08<03:44,  3.88it/s]"
     ]
    },
    {
     "data": {
      "text/plain": [
       "'new dataset\\\\ghazal\\\\ghazalE43.wav'"
      ]
     },
     "metadata": {},
     "output_type": "display_data"
    },
    {
     "name": "stderr",
     "output_type": "stream",
     "text": [
      "\r",
      " 54%|█████████████████████████████████████████▊                                    | 1003/1873 [04:08<03:41,  3.93it/s]"
     ]
    },
    {
     "data": {
      "text/plain": [
       "'new dataset\\\\ghazal\\\\ghazalE44.wav'"
      ]
     },
     "metadata": {},
     "output_type": "display_data"
    },
    {
     "name": "stderr",
     "output_type": "stream",
     "text": [
      "\r",
      " 54%|█████████████████████████████████████████▊                                    | 1004/1873 [04:09<03:42,  3.91it/s]"
     ]
    },
    {
     "data": {
      "text/plain": [
       "'new dataset\\\\ghazal\\\\ghazalE45.wav'"
      ]
     },
     "metadata": {},
     "output_type": "display_data"
    },
    {
     "name": "stderr",
     "output_type": "stream",
     "text": [
      "\r",
      " 54%|█████████████████████████████████████████▊                                    | 1005/1873 [04:09<03:35,  4.03it/s]"
     ]
    },
    {
     "data": {
      "text/plain": [
       "'new dataset\\\\ghazal\\\\ghazalE46.wav'"
      ]
     },
     "metadata": {},
     "output_type": "display_data"
    },
    {
     "name": "stderr",
     "output_type": "stream",
     "text": [
      "\r",
      " 54%|█████████████████████████████████████████▉                                    | 1006/1873 [04:09<03:40,  3.94it/s]"
     ]
    },
    {
     "data": {
      "text/plain": [
       "'new dataset\\\\ghazal\\\\ghazalE47.wav'"
      ]
     },
     "metadata": {},
     "output_type": "display_data"
    },
    {
     "name": "stderr",
     "output_type": "stream",
     "text": [
      "\r",
      " 54%|█████████████████████████████████████████▉                                    | 1007/1873 [04:09<03:40,  3.93it/s]"
     ]
    },
    {
     "data": {
      "text/plain": [
       "'new dataset\\\\ghazal\\\\ghazalE48.wav'"
      ]
     },
     "metadata": {},
     "output_type": "display_data"
    },
    {
     "name": "stderr",
     "output_type": "stream",
     "text": [
      "\r",
      " 54%|█████████████████████████████████████████▉                                    | 1008/1873 [04:10<03:39,  3.95it/s]"
     ]
    },
    {
     "data": {
      "text/plain": [
       "'new dataset\\\\ghazal\\\\ghazalE49.wav'"
      ]
     },
     "metadata": {},
     "output_type": "display_data"
    },
    {
     "name": "stderr",
     "output_type": "stream",
     "text": [
      "\r",
      " 54%|██████████████████████████████████████████                                    | 1009/1873 [04:10<03:35,  4.01it/s]"
     ]
    },
    {
     "data": {
      "text/plain": [
       "'new dataset\\\\ghazal\\\\ghazalE5.wav'"
      ]
     },
     "metadata": {},
     "output_type": "display_data"
    },
    {
     "name": "stderr",
     "output_type": "stream",
     "text": [
      "\r",
      " 54%|██████████████████████████████████████████                                    | 1010/1873 [04:10<03:34,  4.03it/s]"
     ]
    },
    {
     "data": {
      "text/plain": [
       "'new dataset\\\\ghazal\\\\ghazalE50.wav'"
      ]
     },
     "metadata": {},
     "output_type": "display_data"
    },
    {
     "name": "stderr",
     "output_type": "stream",
     "text": [
      "\r",
      " 54%|██████████████████████████████████████████                                    | 1011/1873 [04:10<03:32,  4.06it/s]"
     ]
    },
    {
     "data": {
      "text/plain": [
       "'new dataset\\\\ghazal\\\\ghazalE51.wav'"
      ]
     },
     "metadata": {},
     "output_type": "display_data"
    },
    {
     "name": "stderr",
     "output_type": "stream",
     "text": [
      "\r",
      " 54%|██████████████████████████████████████████▏                                   | 1012/1873 [04:11<03:32,  4.05it/s]"
     ]
    },
    {
     "data": {
      "text/plain": [
       "'new dataset\\\\ghazal\\\\ghazalE52.wav'"
      ]
     },
     "metadata": {},
     "output_type": "display_data"
    },
    {
     "name": "stderr",
     "output_type": "stream",
     "text": [
      "\r",
      " 54%|██████████████████████████████████████████▏                                   | 1013/1873 [04:11<03:30,  4.08it/s]"
     ]
    },
    {
     "data": {
      "text/plain": [
       "'new dataset\\\\ghazal\\\\ghazalE53.wav'"
      ]
     },
     "metadata": {},
     "output_type": "display_data"
    },
    {
     "name": "stderr",
     "output_type": "stream",
     "text": [
      "\r",
      " 54%|██████████████████████████████████████████▏                                   | 1014/1873 [04:11<03:34,  4.01it/s]"
     ]
    },
    {
     "data": {
      "text/plain": [
       "'new dataset\\\\ghazal\\\\ghazalE54.wav'"
      ]
     },
     "metadata": {},
     "output_type": "display_data"
    },
    {
     "name": "stderr",
     "output_type": "stream",
     "text": [
      "\r",
      " 54%|██████████████████████████████████████████▎                                   | 1015/1873 [04:11<03:39,  3.91it/s]"
     ]
    },
    {
     "data": {
      "text/plain": [
       "'new dataset\\\\ghazal\\\\ghazalE55.wav'"
      ]
     },
     "metadata": {},
     "output_type": "display_data"
    },
    {
     "name": "stderr",
     "output_type": "stream",
     "text": [
      "\r",
      " 54%|██████████████████████████████████████████▎                                   | 1016/1873 [04:12<03:43,  3.84it/s]"
     ]
    },
    {
     "data": {
      "text/plain": [
       "'new dataset\\\\ghazal\\\\ghazalE56.wav'"
      ]
     },
     "metadata": {},
     "output_type": "display_data"
    },
    {
     "name": "stderr",
     "output_type": "stream",
     "text": [
      "\r",
      " 54%|██████████████████████████████████████████▎                                   | 1017/1873 [04:12<03:43,  3.83it/s]"
     ]
    },
    {
     "data": {
      "text/plain": [
       "'new dataset\\\\ghazal\\\\ghazalE57.wav'"
      ]
     },
     "metadata": {},
     "output_type": "display_data"
    },
    {
     "name": "stderr",
     "output_type": "stream",
     "text": [
      "\r",
      " 54%|██████████████████████████████████████████▍                                   | 1018/1873 [04:12<03:41,  3.87it/s]"
     ]
    },
    {
     "data": {
      "text/plain": [
       "'new dataset\\\\ghazal\\\\ghazalE58.wav'"
      ]
     },
     "metadata": {},
     "output_type": "display_data"
    },
    {
     "name": "stderr",
     "output_type": "stream",
     "text": [
      "\r",
      " 54%|██████████████████████████████████████████▍                                   | 1019/1873 [04:12<03:39,  3.90it/s]"
     ]
    },
    {
     "data": {
      "text/plain": [
       "'new dataset\\\\ghazal\\\\ghazalE59.wav'"
      ]
     },
     "metadata": {},
     "output_type": "display_data"
    },
    {
     "name": "stderr",
     "output_type": "stream",
     "text": [
      "\r",
      " 54%|██████████████████████████████████████████▍                                   | 1020/1873 [04:13<03:34,  3.97it/s]"
     ]
    },
    {
     "data": {
      "text/plain": [
       "'new dataset\\\\ghazal\\\\ghazalE6.wav'"
      ]
     },
     "metadata": {},
     "output_type": "display_data"
    },
    {
     "name": "stderr",
     "output_type": "stream",
     "text": [
      "\r",
      " 55%|██████████████████████████████████████████▌                                   | 1021/1873 [04:13<03:29,  4.07it/s]"
     ]
    },
    {
     "data": {
      "text/plain": [
       "'new dataset\\\\ghazal\\\\ghazalE60.wav'"
      ]
     },
     "metadata": {},
     "output_type": "display_data"
    },
    {
     "name": "stderr",
     "output_type": "stream",
     "text": [
      "\r",
      " 55%|██████████████████████████████████████████▌                                   | 1022/1873 [04:13<03:29,  4.06it/s]"
     ]
    },
    {
     "data": {
      "text/plain": [
       "'new dataset\\\\ghazal\\\\ghazalE61.wav'"
      ]
     },
     "metadata": {},
     "output_type": "display_data"
    },
    {
     "name": "stderr",
     "output_type": "stream",
     "text": [
      "\r",
      " 55%|██████████████████████████████████████████▌                                   | 1023/1873 [04:13<03:40,  3.85it/s]"
     ]
    },
    {
     "data": {
      "text/plain": [
       "'new dataset\\\\ghazal\\\\ghazalE62.wav'"
      ]
     },
     "metadata": {},
     "output_type": "display_data"
    },
    {
     "name": "stderr",
     "output_type": "stream",
     "text": [
      "\r",
      " 55%|██████████████████████████████████████████▋                                   | 1024/1873 [04:14<03:46,  3.75it/s]"
     ]
    },
    {
     "data": {
      "text/plain": [
       "'new dataset\\\\ghazal\\\\ghazalE63.wav'"
      ]
     },
     "metadata": {},
     "output_type": "display_data"
    },
    {
     "name": "stderr",
     "output_type": "stream",
     "text": [
      "\r",
      " 55%|██████████████████████████████████████████▋                                   | 1025/1873 [04:14<03:46,  3.74it/s]"
     ]
    },
    {
     "data": {
      "text/plain": [
       "'new dataset\\\\ghazal\\\\ghazalE64.wav'"
      ]
     },
     "metadata": {},
     "output_type": "display_data"
    },
    {
     "name": "stderr",
     "output_type": "stream",
     "text": [
      "\r",
      " 55%|██████████████████████████████████████████▋                                   | 1026/1873 [04:14<03:36,  3.92it/s]"
     ]
    },
    {
     "data": {
      "text/plain": [
       "'new dataset\\\\ghazal\\\\ghazalE65.wav'"
      ]
     },
     "metadata": {},
     "output_type": "display_data"
    },
    {
     "name": "stderr",
     "output_type": "stream",
     "text": [
      "\r",
      " 55%|██████████████████████████████████████████▊                                   | 1027/1873 [04:14<03:37,  3.89it/s]"
     ]
    },
    {
     "data": {
      "text/plain": [
       "'new dataset\\\\ghazal\\\\ghazalE66.wav'"
      ]
     },
     "metadata": {},
     "output_type": "display_data"
    },
    {
     "name": "stderr",
     "output_type": "stream",
     "text": [
      "\r",
      " 55%|██████████████████████████████████████████▊                                   | 1028/1873 [04:15<03:32,  3.98it/s]"
     ]
    },
    {
     "data": {
      "text/plain": [
       "'new dataset\\\\ghazal\\\\ghazalE67.wav'"
      ]
     },
     "metadata": {},
     "output_type": "display_data"
    },
    {
     "name": "stderr",
     "output_type": "stream",
     "text": [
      "\r",
      " 55%|██████████████████████████████████████████▊                                   | 1029/1873 [04:15<03:43,  3.78it/s]"
     ]
    },
    {
     "data": {
      "text/plain": [
       "'new dataset\\\\ghazal\\\\ghazalE68.wav'"
      ]
     },
     "metadata": {},
     "output_type": "display_data"
    },
    {
     "name": "stderr",
     "output_type": "stream",
     "text": [
      "\r",
      " 55%|██████████████████████████████████████████▉                                   | 1030/1873 [04:15<03:41,  3.81it/s]"
     ]
    },
    {
     "data": {
      "text/plain": [
       "'new dataset\\\\ghazal\\\\ghazalE69.wav'"
      ]
     },
     "metadata": {},
     "output_type": "display_data"
    },
    {
     "name": "stderr",
     "output_type": "stream",
     "text": [
      "\r",
      " 55%|██████████████████████████████████████████▉                                   | 1031/1873 [04:15<03:38,  3.86it/s]"
     ]
    },
    {
     "data": {
      "text/plain": [
       "'new dataset\\\\ghazal\\\\ghazalE7.wav'"
      ]
     },
     "metadata": {},
     "output_type": "display_data"
    },
    {
     "name": "stderr",
     "output_type": "stream",
     "text": [
      "\r",
      " 55%|██████████████████████████████████████████▉                                   | 1032/1873 [04:16<03:37,  3.87it/s]"
     ]
    },
    {
     "data": {
      "text/plain": [
       "'new dataset\\\\ghazal\\\\ghazalE70.wav'"
      ]
     },
     "metadata": {},
     "output_type": "display_data"
    },
    {
     "name": "stderr",
     "output_type": "stream",
     "text": [
      "\r",
      " 55%|███████████████████████████████████████████                                   | 1033/1873 [04:16<03:40,  3.82it/s]"
     ]
    },
    {
     "data": {
      "text/plain": [
       "'new dataset\\\\ghazal\\\\ghazalE71.wav'"
      ]
     },
     "metadata": {},
     "output_type": "display_data"
    },
    {
     "name": "stderr",
     "output_type": "stream",
     "text": [
      "\r",
      " 55%|███████████████████████████████████████████                                   | 1034/1873 [04:16<03:38,  3.84it/s]"
     ]
    },
    {
     "data": {
      "text/plain": [
       "'new dataset\\\\ghazal\\\\ghazalE72.wav'"
      ]
     },
     "metadata": {},
     "output_type": "display_data"
    },
    {
     "name": "stderr",
     "output_type": "stream",
     "text": [
      "\r",
      " 55%|███████████████████████████████████████████                                   | 1035/1873 [04:16<03:34,  3.91it/s]"
     ]
    },
    {
     "data": {
      "text/plain": [
       "'new dataset\\\\ghazal\\\\ghazalE73.wav'"
      ]
     },
     "metadata": {},
     "output_type": "display_data"
    },
    {
     "name": "stderr",
     "output_type": "stream",
     "text": [
      "\r",
      " 55%|███████████████████████████████████████████▏                                  | 1036/1873 [04:17<03:33,  3.92it/s]"
     ]
    },
    {
     "data": {
      "text/plain": [
       "'new dataset\\\\ghazal\\\\ghazalE74.wav'"
      ]
     },
     "metadata": {},
     "output_type": "display_data"
    },
    {
     "name": "stderr",
     "output_type": "stream",
     "text": [
      "\r",
      " 55%|███████████████████████████████████████████▏                                  | 1037/1873 [04:17<03:35,  3.87it/s]"
     ]
    },
    {
     "data": {
      "text/plain": [
       "'new dataset\\\\ghazal\\\\ghazalE75.wav'"
      ]
     },
     "metadata": {},
     "output_type": "display_data"
    },
    {
     "name": "stderr",
     "output_type": "stream",
     "text": [
      "\r",
      " 55%|███████████████████████████████████████████▏                                  | 1038/1873 [04:17<03:36,  3.85it/s]"
     ]
    },
    {
     "data": {
      "text/plain": [
       "'new dataset\\\\ghazal\\\\ghazalE76.wav'"
      ]
     },
     "metadata": {},
     "output_type": "display_data"
    },
    {
     "name": "stderr",
     "output_type": "stream",
     "text": [
      "\r",
      " 55%|███████████████████████████████████████████▎                                  | 1039/1873 [04:18<03:34,  3.88it/s]"
     ]
    },
    {
     "data": {
      "text/plain": [
       "'new dataset\\\\ghazal\\\\ghazalE77.wav'"
      ]
     },
     "metadata": {},
     "output_type": "display_data"
    },
    {
     "name": "stderr",
     "output_type": "stream",
     "text": [
      "\r",
      " 56%|███████████████████████████████████████████▎                                  | 1040/1873 [04:18<03:33,  3.91it/s]"
     ]
    },
    {
     "data": {
      "text/plain": [
       "'new dataset\\\\ghazal\\\\ghazalE78.wav'"
      ]
     },
     "metadata": {},
     "output_type": "display_data"
    },
    {
     "name": "stderr",
     "output_type": "stream",
     "text": [
      "\r",
      " 56%|███████████████████████████████████████████▎                                  | 1041/1873 [04:18<03:30,  3.95it/s]"
     ]
    },
    {
     "data": {
      "text/plain": [
       "'new dataset\\\\ghazal\\\\ghazalE79.wav'"
      ]
     },
     "metadata": {},
     "output_type": "display_data"
    },
    {
     "name": "stderr",
     "output_type": "stream",
     "text": [
      "\r",
      " 56%|███████████████████████████████████████████▍                                  | 1042/1873 [04:18<03:30,  3.95it/s]"
     ]
    },
    {
     "data": {
      "text/plain": [
       "'new dataset\\\\ghazal\\\\ghazalE8.wav'"
      ]
     },
     "metadata": {},
     "output_type": "display_data"
    },
    {
     "name": "stderr",
     "output_type": "stream",
     "text": [
      "\r",
      " 56%|███████████████████████████████████████████▍                                  | 1043/1873 [04:19<03:33,  3.88it/s]"
     ]
    },
    {
     "data": {
      "text/plain": [
       "'new dataset\\\\ghazal\\\\ghazalE80.wav'"
      ]
     },
     "metadata": {},
     "output_type": "display_data"
    },
    {
     "name": "stderr",
     "output_type": "stream",
     "text": [
      "\r",
      " 56%|███████████████████████████████████████████▍                                  | 1044/1873 [04:19<03:32,  3.90it/s]"
     ]
    },
    {
     "data": {
      "text/plain": [
       "'new dataset\\\\ghazal\\\\ghazalE81.wav'"
      ]
     },
     "metadata": {},
     "output_type": "display_data"
    },
    {
     "name": "stderr",
     "output_type": "stream",
     "text": [
      "\r",
      " 56%|███████████████████████████████████████████▌                                  | 1045/1873 [04:19<03:30,  3.94it/s]"
     ]
    },
    {
     "data": {
      "text/plain": [
       "'new dataset\\\\ghazal\\\\ghazalE82.wav'"
      ]
     },
     "metadata": {},
     "output_type": "display_data"
    },
    {
     "name": "stderr",
     "output_type": "stream",
     "text": [
      "\r",
      " 56%|███████████████████████████████████████████▌                                  | 1046/1873 [04:19<03:29,  3.94it/s]"
     ]
    },
    {
     "data": {
      "text/plain": [
       "'new dataset\\\\ghazal\\\\ghazalE83.wav'"
      ]
     },
     "metadata": {},
     "output_type": "display_data"
    },
    {
     "name": "stderr",
     "output_type": "stream",
     "text": [
      "\r",
      " 56%|███████████████████████████████████████████▌                                  | 1047/1873 [04:20<03:28,  3.96it/s]"
     ]
    },
    {
     "data": {
      "text/plain": [
       "'new dataset\\\\ghazal\\\\ghazalE84.wav'"
      ]
     },
     "metadata": {},
     "output_type": "display_data"
    },
    {
     "name": "stderr",
     "output_type": "stream",
     "text": [
      "\r",
      " 56%|███████████████████████████████████████████▋                                  | 1048/1873 [04:20<03:28,  3.97it/s]"
     ]
    },
    {
     "data": {
      "text/plain": [
       "'new dataset\\\\ghazal\\\\ghazalE85.wav'"
      ]
     },
     "metadata": {},
     "output_type": "display_data"
    },
    {
     "name": "stderr",
     "output_type": "stream",
     "text": [
      "\r",
      " 56%|███████████████████████████████████████████▋                                  | 1049/1873 [04:20<03:29,  3.93it/s]"
     ]
    },
    {
     "data": {
      "text/plain": [
       "'new dataset\\\\ghazal\\\\ghazalE86.wav'"
      ]
     },
     "metadata": {},
     "output_type": "display_data"
    },
    {
     "name": "stderr",
     "output_type": "stream",
     "text": [
      "\r",
      " 56%|███████████████████████████████████████████▋                                  | 1050/1873 [04:20<03:27,  3.96it/s]"
     ]
    },
    {
     "data": {
      "text/plain": [
       "'new dataset\\\\ghazal\\\\ghazalE87.wav'"
      ]
     },
     "metadata": {},
     "output_type": "display_data"
    },
    {
     "name": "stderr",
     "output_type": "stream",
     "text": [
      "\r",
      " 56%|███████████████████████████████████████████▊                                  | 1051/1873 [04:21<03:29,  3.92it/s]"
     ]
    },
    {
     "data": {
      "text/plain": [
       "'new dataset\\\\ghazal\\\\ghazalE88.wav'"
      ]
     },
     "metadata": {},
     "output_type": "display_data"
    },
    {
     "name": "stderr",
     "output_type": "stream",
     "text": [
      "\r",
      " 56%|███████████████████████████████████████████▊                                  | 1052/1873 [04:21<03:27,  3.96it/s]"
     ]
    },
    {
     "data": {
      "text/plain": [
       "'new dataset\\\\ghazal\\\\ghazalE89.wav'"
      ]
     },
     "metadata": {},
     "output_type": "display_data"
    },
    {
     "name": "stderr",
     "output_type": "stream",
     "text": [
      "\r",
      " 56%|███████████████████████████████████████████▊                                  | 1053/1873 [04:21<03:25,  3.99it/s]"
     ]
    },
    {
     "data": {
      "text/plain": [
       "'new dataset\\\\ghazal\\\\ghazalE9.wav'"
      ]
     },
     "metadata": {},
     "output_type": "display_data"
    },
    {
     "name": "stderr",
     "output_type": "stream",
     "text": [
      "\r",
      " 56%|███████████████████████████████████████████▉                                  | 1054/1873 [04:21<03:22,  4.04it/s]"
     ]
    },
    {
     "data": {
      "text/plain": [
       "'new dataset\\\\ghazal\\\\ghazalE90.wav'"
      ]
     },
     "metadata": {},
     "output_type": "display_data"
    },
    {
     "name": "stderr",
     "output_type": "stream",
     "text": [
      "\r",
      " 56%|███████████████████████████████████████████▉                                  | 1055/1873 [04:22<03:27,  3.94it/s]"
     ]
    },
    {
     "data": {
      "text/plain": [
       "'new dataset\\\\ghazal\\\\ghazalE91.wav'"
      ]
     },
     "metadata": {},
     "output_type": "display_data"
    },
    {
     "name": "stderr",
     "output_type": "stream",
     "text": [
      "\r",
      " 56%|███████████████████████████████████████████▉                                  | 1056/1873 [04:22<03:24,  4.00it/s]"
     ]
    },
    {
     "data": {
      "text/plain": [
       "'new dataset\\\\ghazal\\\\ghazalE92.wav'"
      ]
     },
     "metadata": {},
     "output_type": "display_data"
    },
    {
     "name": "stderr",
     "output_type": "stream",
     "text": [
      "\r",
      " 56%|████████████████████████████████████████████                                  | 1057/1873 [04:22<03:24,  3.99it/s]"
     ]
    },
    {
     "data": {
      "text/plain": [
       "'new dataset\\\\ghazal\\\\ghazalE93.wav'"
      ]
     },
     "metadata": {},
     "output_type": "display_data"
    },
    {
     "name": "stderr",
     "output_type": "stream",
     "text": [
      "\r",
      " 56%|████████████████████████████████████████████                                  | 1058/1873 [04:22<03:23,  4.01it/s]"
     ]
    },
    {
     "data": {
      "text/plain": [
       "'new dataset\\\\ghazal\\\\ghazalE94.wav'"
      ]
     },
     "metadata": {},
     "output_type": "display_data"
    },
    {
     "name": "stderr",
     "output_type": "stream",
     "text": [
      "\r",
      " 57%|████████████████████████████████████████████                                  | 1059/1873 [04:23<03:23,  3.99it/s]"
     ]
    },
    {
     "data": {
      "text/plain": [
       "'new dataset\\\\ghazal\\\\ghazalE95.wav'"
      ]
     },
     "metadata": {},
     "output_type": "display_data"
    },
    {
     "name": "stderr",
     "output_type": "stream",
     "text": [
      "\r",
      " 57%|████████████████████████████████████████████▏                                 | 1060/1873 [04:23<03:28,  3.91it/s]"
     ]
    },
    {
     "data": {
      "text/plain": [
       "'new dataset\\\\ghazal\\\\ghazalE96.wav'"
      ]
     },
     "metadata": {},
     "output_type": "display_data"
    },
    {
     "name": "stderr",
     "output_type": "stream",
     "text": [
      "\r",
      " 57%|████████████████████████████████████████████▏                                 | 1061/1873 [04:23<03:27,  3.92it/s]"
     ]
    },
    {
     "data": {
      "text/plain": [
       "'new dataset\\\\ghazal\\\\ghazalE97.wav'"
      ]
     },
     "metadata": {},
     "output_type": "display_data"
    },
    {
     "name": "stderr",
     "output_type": "stream",
     "text": [
      "\r",
      " 57%|████████████████████████████████████████████▏                                 | 1062/1873 [04:23<03:27,  3.91it/s]"
     ]
    },
    {
     "data": {
      "text/plain": [
       "'new dataset\\\\ghazal\\\\ghazalE98.wav'"
      ]
     },
     "metadata": {},
     "output_type": "display_data"
    },
    {
     "name": "stderr",
     "output_type": "stream",
     "text": [
      "\r",
      " 57%|████████████████████████████████████████████▎                                 | 1063/1873 [04:24<03:25,  3.93it/s]"
     ]
    },
    {
     "data": {
      "text/plain": [
       "'new dataset\\\\ghazal\\\\ghazalE99.wav'"
      ]
     },
     "metadata": {},
     "output_type": "display_data"
    },
    {
     "name": "stderr",
     "output_type": "stream",
     "text": [
      "\r",
      " 57%|████████████████████████████████████████████▎                                 | 1064/1873 [04:24<03:28,  3.88it/s]"
     ]
    },
    {
     "data": {
      "text/plain": [
       "'new dataset\\\\ghazal\\\\Honto Sy Chhu Lo Tum Mera Geet Amar Kar Do  Jagjit Singh Best GhazaL71.wav'"
      ]
     },
     "metadata": {},
     "output_type": "display_data"
    },
    {
     "name": "stderr",
     "output_type": "stream",
     "text": [
      "\r",
      " 57%|████████████████████████████████████████████▎                                 | 1065/1873 [04:24<03:25,  3.93it/s]"
     ]
    },
    {
     "data": {
      "text/plain": [
       "'new dataset\\\\ghazal\\\\KABHI KAHA NA KISI SE - ASHA BHOSLE LIVE GHAZAL89.wav'"
      ]
     },
     "metadata": {},
     "output_type": "display_data"
    },
    {
     "name": "stderr",
     "output_type": "stream",
     "text": [
      "\r",
      " 57%|████████████████████████████████████████████▍                                 | 1066/1873 [04:24<03:24,  3.95it/s]"
     ]
    },
    {
     "data": {
      "text/plain": [
       "'new dataset\\\\ghazal\\\\Pyar mujhse jo kiya to kya paogi by Jagjit Singh98.wav'"
      ]
     },
     "metadata": {},
     "output_type": "display_data"
    },
    {
     "name": "stderr",
     "output_type": "stream",
     "text": [
      "\r",
      " 57%|████████████████████████████████████████████▍                                 | 1067/1873 [04:25<03:25,  3.92it/s]"
     ]
    },
    {
     "data": {
      "text/plain": [
       "'new dataset\\\\ghazal\\\\Rafta Rafta Wo Meri  Muhammad Ali  Melodious Ghazal  Tribute to Mehdi Hasan108.wav'"
      ]
     },
     "metadata": {},
     "output_type": "display_data"
    },
    {
     "name": "stderr",
     "output_type": "stream",
     "text": [
      "\r",
      " 57%|████████████████████████████████████████████▍                                 | 1068/1873 [04:25<03:23,  3.95it/s]"
     ]
    },
    {
     "data": {
      "text/plain": [
       "'new dataset\\\\ghazal\\\\Ranjish hi sahi  Mehdi Hassan132.wav'"
      ]
     },
     "metadata": {},
     "output_type": "display_data"
    },
    {
     "name": "stderr",
     "output_type": "stream",
     "text": [
      "\r",
      " 57%|████████████████████████████████████████████▌                                 | 1069/1873 [04:25<03:26,  3.89it/s]"
     ]
    },
    {
     "data": {
      "text/plain": [
       "'new dataset\\\\ghazal\\\\Shola Tha Jal Bujha149.wav'"
      ]
     },
     "metadata": {},
     "output_type": "display_data"
    },
    {
     "name": "stderr",
     "output_type": "stream",
     "text": [
      "\r",
      " 57%|████████████████████████████████████████████▌                                 | 1070/1873 [04:25<03:28,  3.85it/s]"
     ]
    },
    {
     "data": {
      "text/plain": [
       "'new dataset\\\\ghazal\\\\Tumko Dekha To Yeh Khayal Aaya (Jagjit Singh)158.wav'"
      ]
     },
     "metadata": {},
     "output_type": "display_data"
    },
    {
     "name": "stderr",
     "output_type": "stream",
     "text": [
      "\r",
      " 57%|████████████████████████████████████████████▌                                 | 1071/1873 [04:26<03:26,  3.88it/s]"
     ]
    },
    {
     "data": {
      "text/plain": [
       "'new dataset\\\\ghazal\\\\Ye Jo Halka Halka Original Song by Nusrat Fateh Ali Khan - Full Song with Lyrics Romantic Qawwali173.wav'"
      ]
     },
     "metadata": {},
     "output_type": "display_data"
    },
    {
     "name": "stderr",
     "output_type": "stream",
     "text": [
      "\r",
      " 57%|████████████████████████████████████████████▋                                 | 1072/1873 [04:26<03:21,  3.97it/s]"
     ]
    },
    {
     "data": {
      "text/plain": [
       "'new dataset\\\\ghazal\\\\कोई ये कैसे बताएं  Jagjit Singh Ghazals  Koi Yeh Kaise Bataye   Old songs  Sad ghazals179.wav'"
      ]
     },
     "metadata": {},
     "output_type": "display_data"
    },
    {
     "name": "stderr",
     "output_type": "stream",
     "text": [
      "\r",
      " 57%|████████████████████████████████████████████▋                                 | 1073/1873 [04:26<03:22,  3.94it/s]"
     ]
    },
    {
     "data": {
      "text/plain": [
       "'new dataset\\\\ghazal\\\\तुम इतना जो मुस्कुरा रहे हो  Tum Itna Jo Muskura Rahe Ho  Jagjit Singh  Romantic  Ghazal Song189.wav'"
      ]
     },
     "metadata": {},
     "output_type": "display_data"
    },
    {
     "name": "stderr",
     "output_type": "stream",
     "text": [
      "\r",
      " 57%|████████████████████████████████████████████▋                                 | 1074/1873 [04:26<03:22,  3.94it/s]"
     ]
    },
    {
     "data": {
      "text/plain": [
       "'new dataset\\\\semiclassical\\\\semiclassicalA10.wav'"
      ]
     },
     "metadata": {},
     "output_type": "display_data"
    },
    {
     "name": "stderr",
     "output_type": "stream",
     "text": [
      "\r",
      " 57%|████████████████████████████████████████████▊                                 | 1075/1873 [04:27<03:24,  3.90it/s]"
     ]
    },
    {
     "data": {
      "text/plain": [
       "'new dataset\\\\semiclassical\\\\semiclassicalA100.wav'"
      ]
     },
     "metadata": {},
     "output_type": "display_data"
    },
    {
     "name": "stderr",
     "output_type": "stream",
     "text": [
      "\r",
      " 57%|████████████████████████████████████████████▊                                 | 1076/1873 [04:27<03:23,  3.92it/s]"
     ]
    },
    {
     "data": {
      "text/plain": [
       "'new dataset\\\\semiclassical\\\\semiclassicalA101.wav'"
      ]
     },
     "metadata": {},
     "output_type": "display_data"
    },
    {
     "name": "stderr",
     "output_type": "stream",
     "text": [
      "\r",
      " 58%|████████████████████████████████████████████▊                                 | 1077/1873 [04:27<03:25,  3.87it/s]"
     ]
    },
    {
     "data": {
      "text/plain": [
       "'new dataset\\\\semiclassical\\\\semiclassicalA102.wav'"
      ]
     },
     "metadata": {},
     "output_type": "display_data"
    },
    {
     "name": "stderr",
     "output_type": "stream",
     "text": [
      "\r",
      " 58%|████████████████████████████████████████████▉                                 | 1078/1873 [04:27<03:24,  3.90it/s]"
     ]
    },
    {
     "data": {
      "text/plain": [
       "'new dataset\\\\semiclassical\\\\semiclassicalA104.wav'"
      ]
     },
     "metadata": {},
     "output_type": "display_data"
    },
    {
     "name": "stderr",
     "output_type": "stream",
     "text": [
      "\r",
      " 58%|████████████████████████████████████████████▉                                 | 1079/1873 [04:28<03:21,  3.93it/s]"
     ]
    },
    {
     "data": {
      "text/plain": [
       "'new dataset\\\\semiclassical\\\\semiclassicalA105.wav'"
      ]
     },
     "metadata": {},
     "output_type": "display_data"
    },
    {
     "name": "stderr",
     "output_type": "stream",
     "text": [
      "\r",
      " 58%|████████████████████████████████████████████▉                                 | 1080/1873 [04:28<03:20,  3.96it/s]"
     ]
    },
    {
     "data": {
      "text/plain": [
       "'new dataset\\\\semiclassical\\\\semiclassicalA108.wav'"
      ]
     },
     "metadata": {},
     "output_type": "display_data"
    },
    {
     "name": "stderr",
     "output_type": "stream",
     "text": [
      "\r",
      " 58%|█████████████████████████████████████████████                                 | 1081/1873 [04:28<03:17,  4.01it/s]"
     ]
    },
    {
     "data": {
      "text/plain": [
       "'new dataset\\\\semiclassical\\\\semiclassicalA109.wav'"
      ]
     },
     "metadata": {},
     "output_type": "display_data"
    },
    {
     "name": "stderr",
     "output_type": "stream",
     "text": [
      "\r",
      " 58%|█████████████████████████████████████████████                                 | 1082/1873 [04:28<03:19,  3.96it/s]"
     ]
    },
    {
     "data": {
      "text/plain": [
       "'new dataset\\\\semiclassical\\\\semiclassicalA11.wav'"
      ]
     },
     "metadata": {},
     "output_type": "display_data"
    },
    {
     "name": "stderr",
     "output_type": "stream",
     "text": [
      "\r",
      " 58%|█████████████████████████████████████████████                                 | 1083/1873 [04:29<03:20,  3.94it/s]"
     ]
    },
    {
     "data": {
      "text/plain": [
       "'new dataset\\\\semiclassical\\\\semiclassicalA110.wav'"
      ]
     },
     "metadata": {},
     "output_type": "display_data"
    },
    {
     "name": "stderr",
     "output_type": "stream",
     "text": [
      "\r",
      " 58%|█████████████████████████████████████████████▏                                | 1084/1873 [04:29<03:17,  3.99it/s]"
     ]
    },
    {
     "data": {
      "text/plain": [
       "'new dataset\\\\semiclassical\\\\semiclassicalA111.wav'"
      ]
     },
     "metadata": {},
     "output_type": "display_data"
    },
    {
     "name": "stderr",
     "output_type": "stream",
     "text": [
      "\r",
      " 58%|█████████████████████████████████████████████▏                                | 1085/1873 [04:29<03:15,  4.03it/s]"
     ]
    },
    {
     "data": {
      "text/plain": [
       "'new dataset\\\\semiclassical\\\\semiclassicalA112.wav'"
      ]
     },
     "metadata": {},
     "output_type": "display_data"
    },
    {
     "name": "stderr",
     "output_type": "stream",
     "text": [
      "\r",
      " 58%|█████████████████████████████████████████████▏                                | 1086/1873 [04:29<03:16,  4.00it/s]"
     ]
    },
    {
     "data": {
      "text/plain": [
       "'new dataset\\\\semiclassical\\\\semiclassicalA113.wav'"
      ]
     },
     "metadata": {},
     "output_type": "display_data"
    },
    {
     "name": "stderr",
     "output_type": "stream",
     "text": [
      "\r",
      " 58%|█████████████████████████████████████████████▎                                | 1087/1873 [04:30<03:16,  4.00it/s]"
     ]
    },
    {
     "data": {
      "text/plain": [
       "'new dataset\\\\semiclassical\\\\semiclassicalA114.wav'"
      ]
     },
     "metadata": {},
     "output_type": "display_data"
    },
    {
     "name": "stderr",
     "output_type": "stream",
     "text": [
      "\r",
      " 58%|█████████████████████████████████████████████▎                                | 1088/1873 [04:30<03:17,  3.98it/s]"
     ]
    },
    {
     "data": {
      "text/plain": [
       "'new dataset\\\\semiclassical\\\\semiclassicalA116.wav'"
      ]
     },
     "metadata": {},
     "output_type": "display_data"
    },
    {
     "name": "stderr",
     "output_type": "stream",
     "text": [
      "\r",
      " 58%|█████████████████████████████████████████████▎                                | 1089/1873 [04:30<03:13,  4.06it/s]"
     ]
    },
    {
     "data": {
      "text/plain": [
       "'new dataset\\\\semiclassical\\\\semiclassicalA117.wav'"
      ]
     },
     "metadata": {},
     "output_type": "display_data"
    },
    {
     "name": "stderr",
     "output_type": "stream",
     "text": [
      "\r",
      " 58%|█████████████████████████████████████████████▍                                | 1090/1873 [04:30<03:16,  3.99it/s]"
     ]
    },
    {
     "data": {
      "text/plain": [
       "'new dataset\\\\semiclassical\\\\semiclassicalA118.wav'"
      ]
     },
     "metadata": {},
     "output_type": "display_data"
    },
    {
     "name": "stderr",
     "output_type": "stream",
     "text": [
      "\r",
      " 58%|█████████████████████████████████████████████▍                                | 1091/1873 [04:31<03:19,  3.91it/s]"
     ]
    },
    {
     "data": {
      "text/plain": [
       "'new dataset\\\\semiclassical\\\\semiclassicalA119.wav'"
      ]
     },
     "metadata": {},
     "output_type": "display_data"
    },
    {
     "name": "stderr",
     "output_type": "stream",
     "text": [
      "\r",
      " 58%|█████████████████████████████████████████████▍                                | 1092/1873 [04:31<03:16,  3.97it/s]"
     ]
    },
    {
     "data": {
      "text/plain": [
       "'new dataset\\\\semiclassical\\\\semiclassicalA12.wav'"
      ]
     },
     "metadata": {},
     "output_type": "display_data"
    },
    {
     "name": "stderr",
     "output_type": "stream",
     "text": [
      "\r",
      " 58%|█████████████████████████████████████████████▌                                | 1093/1873 [04:31<03:14,  4.01it/s]"
     ]
    },
    {
     "data": {
      "text/plain": [
       "'new dataset\\\\semiclassical\\\\semiclassicalA120.wav'"
      ]
     },
     "metadata": {},
     "output_type": "display_data"
    },
    {
     "name": "stderr",
     "output_type": "stream",
     "text": [
      "\r",
      " 58%|█████████████████████████████████████████████▌                                | 1094/1873 [04:31<03:13,  4.02it/s]"
     ]
    },
    {
     "data": {
      "text/plain": [
       "'new dataset\\\\semiclassical\\\\semiclassicalA121.wav'"
      ]
     },
     "metadata": {},
     "output_type": "display_data"
    },
    {
     "name": "stderr",
     "output_type": "stream",
     "text": [
      "\r",
      " 58%|█████████████████████████████████████████████▌                                | 1095/1873 [04:32<03:14,  4.00it/s]"
     ]
    },
    {
     "data": {
      "text/plain": [
       "'new dataset\\\\semiclassical\\\\semiclassicalA122.wav'"
      ]
     },
     "metadata": {},
     "output_type": "display_data"
    },
    {
     "name": "stderr",
     "output_type": "stream",
     "text": [
      "\r",
      " 59%|█████████████████████████████████████████████▋                                | 1096/1873 [04:32<03:11,  4.05it/s]"
     ]
    },
    {
     "data": {
      "text/plain": [
       "'new dataset\\\\semiclassical\\\\semiclassicalA123.wav'"
      ]
     },
     "metadata": {},
     "output_type": "display_data"
    },
    {
     "name": "stderr",
     "output_type": "stream",
     "text": [
      "\r",
      " 59%|█████████████████████████████████████████████▋                                | 1097/1873 [04:32<03:15,  3.96it/s]"
     ]
    },
    {
     "data": {
      "text/plain": [
       "'new dataset\\\\semiclassical\\\\semiclassicalA124.wav'"
      ]
     },
     "metadata": {},
     "output_type": "display_data"
    },
    {
     "name": "stderr",
     "output_type": "stream",
     "text": [
      "\r",
      " 59%|█████████████████████████████████████████████▋                                | 1098/1873 [04:32<03:18,  3.91it/s]"
     ]
    },
    {
     "data": {
      "text/plain": [
       "'new dataset\\\\semiclassical\\\\semiclassicalA126.wav'"
      ]
     },
     "metadata": {},
     "output_type": "display_data"
    },
    {
     "name": "stderr",
     "output_type": "stream",
     "text": [
      "\r",
      " 59%|█████████████████████████████████████████████▊                                | 1099/1873 [04:33<03:21,  3.84it/s]"
     ]
    },
    {
     "data": {
      "text/plain": [
       "'new dataset\\\\semiclassical\\\\semiclassicalA127.wav'"
      ]
     },
     "metadata": {},
     "output_type": "display_data"
    },
    {
     "name": "stderr",
     "output_type": "stream",
     "text": [
      "\r",
      " 59%|█████████████████████████████████████████████▊                                | 1100/1873 [04:33<03:18,  3.90it/s]"
     ]
    },
    {
     "data": {
      "text/plain": [
       "'new dataset\\\\semiclassical\\\\semiclassicalA128.wav'"
      ]
     },
     "metadata": {},
     "output_type": "display_data"
    },
    {
     "name": "stderr",
     "output_type": "stream",
     "text": [
      "\r",
      " 59%|█████████████████████████████████████████████▊                                | 1101/1873 [04:33<03:13,  3.98it/s]"
     ]
    },
    {
     "data": {
      "text/plain": [
       "'new dataset\\\\semiclassical\\\\semiclassicalA129.wav'"
      ]
     },
     "metadata": {},
     "output_type": "display_data"
    },
    {
     "name": "stderr",
     "output_type": "stream",
     "text": [
      "\r",
      " 59%|█████████████████████████████████████████████▉                                | 1102/1873 [04:33<03:12,  4.01it/s]"
     ]
    },
    {
     "data": {
      "text/plain": [
       "'new dataset\\\\semiclassical\\\\semiclassicalA13.wav'"
      ]
     },
     "metadata": {},
     "output_type": "display_data"
    },
    {
     "name": "stderr",
     "output_type": "stream",
     "text": [
      "\r",
      " 59%|█████████████████████████████████████████████▉                                | 1103/1873 [04:34<03:12,  4.01it/s]"
     ]
    },
    {
     "data": {
      "text/plain": [
       "'new dataset\\\\semiclassical\\\\semiclassicalA130.wav'"
      ]
     },
     "metadata": {},
     "output_type": "display_data"
    },
    {
     "name": "stderr",
     "output_type": "stream",
     "text": [
      "\r",
      " 59%|█████████████████████████████████████████████▉                                | 1104/1873 [04:34<03:12,  3.99it/s]"
     ]
    },
    {
     "data": {
      "text/plain": [
       "'new dataset\\\\semiclassical\\\\semiclassicalA131.wav'"
      ]
     },
     "metadata": {},
     "output_type": "display_data"
    },
    {
     "name": "stderr",
     "output_type": "stream",
     "text": [
      "\r",
      " 59%|██████████████████████████████████████████████                                | 1105/1873 [04:34<03:14,  3.94it/s]"
     ]
    },
    {
     "data": {
      "text/plain": [
       "'new dataset\\\\semiclassical\\\\semiclassicalA132.wav'"
      ]
     },
     "metadata": {},
     "output_type": "display_data"
    },
    {
     "name": "stderr",
     "output_type": "stream",
     "text": [
      "\r",
      " 59%|██████████████████████████████████████████████                                | 1106/1873 [04:34<03:13,  3.97it/s]"
     ]
    },
    {
     "data": {
      "text/plain": [
       "'new dataset\\\\semiclassical\\\\semiclassicalA133.wav'"
      ]
     },
     "metadata": {},
     "output_type": "display_data"
    },
    {
     "name": "stderr",
     "output_type": "stream",
     "text": [
      "\r",
      " 59%|██████████████████████████████████████████████                                | 1107/1873 [04:35<03:17,  3.89it/s]"
     ]
    },
    {
     "data": {
      "text/plain": [
       "'new dataset\\\\semiclassical\\\\semiclassicalA134.wav'"
      ]
     },
     "metadata": {},
     "output_type": "display_data"
    },
    {
     "name": "stderr",
     "output_type": "stream",
     "text": [
      "\r",
      " 59%|██████████████████████████████████████████████▏                               | 1108/1873 [04:35<03:18,  3.85it/s]"
     ]
    },
    {
     "data": {
      "text/plain": [
       "'new dataset\\\\semiclassical\\\\semiclassicalA135.wav'"
      ]
     },
     "metadata": {},
     "output_type": "display_data"
    },
    {
     "name": "stderr",
     "output_type": "stream",
     "text": [
      "\r",
      " 59%|██████████████████████████████████████████████▏                               | 1109/1873 [04:35<03:22,  3.78it/s]"
     ]
    },
    {
     "data": {
      "text/plain": [
       "'new dataset\\\\semiclassical\\\\semiclassicalA136.wav'"
      ]
     },
     "metadata": {},
     "output_type": "display_data"
    },
    {
     "name": "stderr",
     "output_type": "stream",
     "text": [
      "\r",
      " 59%|██████████████████████████████████████████████▏                               | 1110/1873 [04:36<03:18,  3.84it/s]"
     ]
    },
    {
     "data": {
      "text/plain": [
       "'new dataset\\\\semiclassical\\\\semiclassicalA138.wav'"
      ]
     },
     "metadata": {},
     "output_type": "display_data"
    },
    {
     "name": "stderr",
     "output_type": "stream",
     "text": [
      "\r",
      " 59%|██████████████████████████████████████████████▎                               | 1111/1873 [04:36<03:13,  3.93it/s]"
     ]
    },
    {
     "data": {
      "text/plain": [
       "'new dataset\\\\semiclassical\\\\semiclassicalA139.wav'"
      ]
     },
     "metadata": {},
     "output_type": "display_data"
    },
    {
     "name": "stderr",
     "output_type": "stream",
     "text": [
      "\r",
      " 59%|██████████████████████████████████████████████▎                               | 1112/1873 [04:36<03:09,  4.01it/s]"
     ]
    },
    {
     "data": {
      "text/plain": [
       "'new dataset\\\\semiclassical\\\\semiclassicalA14.wav'"
      ]
     },
     "metadata": {},
     "output_type": "display_data"
    },
    {
     "name": "stderr",
     "output_type": "stream",
     "text": [
      "\r",
      " 59%|██████████████████████████████████████████████▎                               | 1113/1873 [04:36<03:05,  4.10it/s]"
     ]
    },
    {
     "data": {
      "text/plain": [
       "'new dataset\\\\semiclassical\\\\semiclassicalA140.wav'"
      ]
     },
     "metadata": {},
     "output_type": "display_data"
    },
    {
     "name": "stderr",
     "output_type": "stream",
     "text": [
      "\r",
      " 59%|██████████████████████████████████████████████▍                               | 1114/1873 [04:36<03:07,  4.04it/s]"
     ]
    },
    {
     "data": {
      "text/plain": [
       "'new dataset\\\\semiclassical\\\\semiclassicalA141.wav'"
      ]
     },
     "metadata": {},
     "output_type": "display_data"
    },
    {
     "name": "stderr",
     "output_type": "stream",
     "text": [
      "\r",
      " 60%|██████████████████████████████████████████████▍                               | 1115/1873 [04:37<03:07,  4.04it/s]"
     ]
    },
    {
     "data": {
      "text/plain": [
       "'new dataset\\\\semiclassical\\\\semiclassicalA142.wav'"
      ]
     },
     "metadata": {},
     "output_type": "display_data"
    },
    {
     "name": "stderr",
     "output_type": "stream",
     "text": [
      "\r",
      " 60%|██████████████████████████████████████████████▍                               | 1116/1873 [04:37<03:04,  4.09it/s]"
     ]
    },
    {
     "data": {
      "text/plain": [
       "'new dataset\\\\semiclassical\\\\semiclassicalA143.wav'"
      ]
     },
     "metadata": {},
     "output_type": "display_data"
    },
    {
     "name": "stderr",
     "output_type": "stream",
     "text": [
      "\r",
      " 60%|██████████████████████████████████████████████▌                               | 1117/1873 [04:37<03:05,  4.08it/s]"
     ]
    },
    {
     "data": {
      "text/plain": [
       "'new dataset\\\\semiclassical\\\\semiclassicalA144.wav'"
      ]
     },
     "metadata": {},
     "output_type": "display_data"
    },
    {
     "name": "stderr",
     "output_type": "stream",
     "text": [
      "\r",
      " 60%|██████████████████████████████████████████████▌                               | 1118/1873 [04:37<03:05,  4.07it/s]"
     ]
    },
    {
     "data": {
      "text/plain": [
       "'new dataset\\\\semiclassical\\\\semiclassicalA145.wav'"
      ]
     },
     "metadata": {},
     "output_type": "display_data"
    },
    {
     "name": "stderr",
     "output_type": "stream",
     "text": [
      "\r",
      " 60%|██████████████████████████████████████████████▌                               | 1119/1873 [04:38<03:10,  3.96it/s]"
     ]
    },
    {
     "data": {
      "text/plain": [
       "'new dataset\\\\semiclassical\\\\semiclassicalA146.wav'"
      ]
     },
     "metadata": {},
     "output_type": "display_data"
    },
    {
     "name": "stderr",
     "output_type": "stream",
     "text": [
      "\r",
      " 60%|██████████████████████████████████████████████▋                               | 1120/1873 [04:38<03:09,  3.97it/s]"
     ]
    },
    {
     "data": {
      "text/plain": [
       "'new dataset\\\\semiclassical\\\\semiclassicalA147.wav'"
      ]
     },
     "metadata": {},
     "output_type": "display_data"
    },
    {
     "name": "stderr",
     "output_type": "stream",
     "text": [
      "\r",
      " 60%|██████████████████████████████████████████████▋                               | 1121/1873 [04:38<03:09,  3.96it/s]"
     ]
    },
    {
     "data": {
      "text/plain": [
       "'new dataset\\\\semiclassical\\\\semiclassicalA148.wav'"
      ]
     },
     "metadata": {},
     "output_type": "display_data"
    },
    {
     "name": "stderr",
     "output_type": "stream",
     "text": [
      "\r",
      " 60%|██████████████████████████████████████████████▋                               | 1122/1873 [04:38<03:13,  3.88it/s]"
     ]
    },
    {
     "data": {
      "text/plain": [
       "'new dataset\\\\semiclassical\\\\semiclassicalA149.wav'"
      ]
     },
     "metadata": {},
     "output_type": "display_data"
    },
    {
     "name": "stderr",
     "output_type": "stream",
     "text": [
      "\r",
      " 60%|██████████████████████████████████████████████▊                               | 1123/1873 [04:39<03:15,  3.84it/s]"
     ]
    },
    {
     "data": {
      "text/plain": [
       "'new dataset\\\\semiclassical\\\\semiclassicalA15.wav'"
      ]
     },
     "metadata": {},
     "output_type": "display_data"
    },
    {
     "name": "stderr",
     "output_type": "stream",
     "text": [
      "\r",
      " 60%|██████████████████████████████████████████████▊                               | 1124/1873 [04:39<03:13,  3.87it/s]"
     ]
    },
    {
     "data": {
      "text/plain": [
       "'new dataset\\\\semiclassical\\\\semiclassicalA150.wav'"
      ]
     },
     "metadata": {},
     "output_type": "display_data"
    },
    {
     "name": "stderr",
     "output_type": "stream",
     "text": [
      "\r",
      " 60%|██████████████████████████████████████████████▊                               | 1125/1873 [04:39<03:08,  3.96it/s]"
     ]
    },
    {
     "data": {
      "text/plain": [
       "'new dataset\\\\semiclassical\\\\semiclassicalA151.wav'"
      ]
     },
     "metadata": {},
     "output_type": "display_data"
    },
    {
     "name": "stderr",
     "output_type": "stream",
     "text": [
      "\r",
      " 60%|██████████████████████████████████████████████▉                               | 1126/1873 [04:40<03:07,  3.98it/s]"
     ]
    },
    {
     "data": {
      "text/plain": [
       "'new dataset\\\\semiclassical\\\\semiclassicalA152.wav'"
      ]
     },
     "metadata": {},
     "output_type": "display_data"
    },
    {
     "name": "stderr",
     "output_type": "stream",
     "text": [
      "\r",
      " 60%|██████████████████████████████████████████████▉                               | 1127/1873 [04:40<03:11,  3.89it/s]"
     ]
    },
    {
     "data": {
      "text/plain": [
       "'new dataset\\\\semiclassical\\\\semiclassicalA153.wav'"
      ]
     },
     "metadata": {},
     "output_type": "display_data"
    },
    {
     "name": "stderr",
     "output_type": "stream",
     "text": [
      "\r",
      " 60%|██████████████████████████████████████████████▉                               | 1128/1873 [04:40<03:12,  3.87it/s]"
     ]
    },
    {
     "data": {
      "text/plain": [
       "'new dataset\\\\semiclassical\\\\semiclassicalA16.wav'"
      ]
     },
     "metadata": {},
     "output_type": "display_data"
    },
    {
     "name": "stderr",
     "output_type": "stream",
     "text": [
      "\r",
      " 60%|███████████████████████████████████████████████                               | 1129/1873 [04:40<03:08,  3.94it/s]"
     ]
    },
    {
     "data": {
      "text/plain": [
       "'new dataset\\\\semiclassical\\\\semiclassicalA17.wav'"
      ]
     },
     "metadata": {},
     "output_type": "display_data"
    },
    {
     "name": "stderr",
     "output_type": "stream",
     "text": [
      "\r",
      " 60%|███████████████████████████████████████████████                               | 1130/1873 [04:41<03:04,  4.02it/s]"
     ]
    },
    {
     "data": {
      "text/plain": [
       "'new dataset\\\\semiclassical\\\\semiclassicalA18.wav'"
      ]
     },
     "metadata": {},
     "output_type": "display_data"
    },
    {
     "name": "stderr",
     "output_type": "stream",
     "text": [
      "\r",
      " 60%|███████████████████████████████████████████████                               | 1131/1873 [04:41<03:04,  4.03it/s]"
     ]
    },
    {
     "data": {
      "text/plain": [
       "'new dataset\\\\semiclassical\\\\semiclassicalA19.wav'"
      ]
     },
     "metadata": {},
     "output_type": "display_data"
    },
    {
     "name": "stderr",
     "output_type": "stream",
     "text": [
      "\r",
      " 60%|███████████████████████████████████████████████▏                              | 1132/1873 [04:41<03:04,  4.01it/s]"
     ]
    },
    {
     "data": {
      "text/plain": [
       "'new dataset\\\\semiclassical\\\\semiclassicalA2.wav'"
      ]
     },
     "metadata": {},
     "output_type": "display_data"
    },
    {
     "name": "stderr",
     "output_type": "stream",
     "text": [
      "\r",
      " 60%|███████████████████████████████████████████████▏                              | 1133/1873 [04:41<03:03,  4.03it/s]"
     ]
    },
    {
     "data": {
      "text/plain": [
       "'new dataset\\\\semiclassical\\\\semiclassicalA20.wav'"
      ]
     },
     "metadata": {},
     "output_type": "display_data"
    },
    {
     "name": "stderr",
     "output_type": "stream",
     "text": [
      "\r",
      " 61%|███████████████████████████████████████████████▏                              | 1134/1873 [04:41<03:00,  4.10it/s]"
     ]
    },
    {
     "data": {
      "text/plain": [
       "'new dataset\\\\semiclassical\\\\semiclassicalA21.wav'"
      ]
     },
     "metadata": {},
     "output_type": "display_data"
    },
    {
     "name": "stderr",
     "output_type": "stream",
     "text": [
      "\r",
      " 61%|███████████████████████████████████████████████▎                              | 1135/1873 [04:42<03:00,  4.09it/s]"
     ]
    },
    {
     "data": {
      "text/plain": [
       "'new dataset\\\\semiclassical\\\\semiclassicalA22.wav'"
      ]
     },
     "metadata": {},
     "output_type": "display_data"
    },
    {
     "name": "stderr",
     "output_type": "stream",
     "text": [
      "\r",
      " 61%|███████████████████████████████████████████████▎                              | 1136/1873 [04:42<02:58,  4.12it/s]"
     ]
    },
    {
     "data": {
      "text/plain": [
       "'new dataset\\\\semiclassical\\\\semiclassicalA23.wav'"
      ]
     },
     "metadata": {},
     "output_type": "display_data"
    },
    {
     "name": "stderr",
     "output_type": "stream",
     "text": [
      "\r",
      " 61%|███████████████████████████████████████████████▎                              | 1137/1873 [04:42<02:57,  4.15it/s]"
     ]
    },
    {
     "data": {
      "text/plain": [
       "'new dataset\\\\semiclassical\\\\semiclassicalA24.wav'"
      ]
     },
     "metadata": {},
     "output_type": "display_data"
    },
    {
     "name": "stderr",
     "output_type": "stream",
     "text": [
      "\r",
      " 61%|███████████████████████████████████████████████▍                              | 1138/1873 [04:42<02:54,  4.21it/s]"
     ]
    },
    {
     "data": {
      "text/plain": [
       "'new dataset\\\\semiclassical\\\\semiclassicalA25.wav'"
      ]
     },
     "metadata": {},
     "output_type": "display_data"
    },
    {
     "name": "stderr",
     "output_type": "stream",
     "text": [
      "\r",
      " 61%|███████████████████████████████████████████████▍                              | 1139/1873 [04:43<02:55,  4.19it/s]"
     ]
    },
    {
     "data": {
      "text/plain": [
       "'new dataset\\\\semiclassical\\\\semiclassicalA26.wav'"
      ]
     },
     "metadata": {},
     "output_type": "display_data"
    },
    {
     "name": "stderr",
     "output_type": "stream",
     "text": [
      "\r",
      " 61%|███████████████████████████████████████████████▍                              | 1140/1873 [04:43<02:55,  4.17it/s]"
     ]
    },
    {
     "data": {
      "text/plain": [
       "'new dataset\\\\semiclassical\\\\semiclassicalA27.wav'"
      ]
     },
     "metadata": {},
     "output_type": "display_data"
    },
    {
     "name": "stderr",
     "output_type": "stream",
     "text": [
      "\r",
      " 61%|███████████████████████████████████████████████▌                              | 1141/1873 [04:43<03:01,  4.04it/s]"
     ]
    },
    {
     "data": {
      "text/plain": [
       "'new dataset\\\\semiclassical\\\\semiclassicalA28.wav'"
      ]
     },
     "metadata": {},
     "output_type": "display_data"
    },
    {
     "name": "stderr",
     "output_type": "stream",
     "text": [
      "\r",
      " 61%|███████████████████████████████████████████████▌                              | 1142/1873 [04:43<03:00,  4.06it/s]"
     ]
    },
    {
     "data": {
      "text/plain": [
       "'new dataset\\\\semiclassical\\\\semiclassicalA29.wav'"
      ]
     },
     "metadata": {},
     "output_type": "display_data"
    },
    {
     "name": "stderr",
     "output_type": "stream",
     "text": [
      "\r",
      " 61%|███████████████████████████████████████████████▌                              | 1143/1873 [04:44<02:59,  4.07it/s]"
     ]
    },
    {
     "data": {
      "text/plain": [
       "'new dataset\\\\semiclassical\\\\semiclassicalA3.wav'"
      ]
     },
     "metadata": {},
     "output_type": "display_data"
    },
    {
     "name": "stderr",
     "output_type": "stream",
     "text": [
      "\r",
      " 61%|███████████████████████████████████████████████▋                              | 1144/1873 [04:44<03:04,  3.95it/s]"
     ]
    },
    {
     "data": {
      "text/plain": [
       "'new dataset\\\\semiclassical\\\\semiclassicalA30.wav'"
      ]
     },
     "metadata": {},
     "output_type": "display_data"
    },
    {
     "name": "stderr",
     "output_type": "stream",
     "text": [
      "\r",
      " 61%|███████████████████████████████████████████████▋                              | 1145/1873 [04:44<03:02,  3.99it/s]"
     ]
    },
    {
     "data": {
      "text/plain": [
       "'new dataset\\\\semiclassical\\\\semiclassicalA31.wav'"
      ]
     },
     "metadata": {},
     "output_type": "display_data"
    },
    {
     "name": "stderr",
     "output_type": "stream",
     "text": [
      "\r",
      " 61%|███████████████████████████████████████████████▋                              | 1146/1873 [04:44<03:03,  3.96it/s]"
     ]
    },
    {
     "data": {
      "text/plain": [
       "'new dataset\\\\semiclassical\\\\semiclassicalA32.wav'"
      ]
     },
     "metadata": {},
     "output_type": "display_data"
    },
    {
     "name": "stderr",
     "output_type": "stream",
     "text": [
      "\r",
      " 61%|███████████████████████████████████████████████▊                              | 1147/1873 [04:45<03:03,  3.95it/s]"
     ]
    },
    {
     "data": {
      "text/plain": [
       "'new dataset\\\\semiclassical\\\\semiclassicalA33.wav'"
      ]
     },
     "metadata": {},
     "output_type": "display_data"
    },
    {
     "name": "stderr",
     "output_type": "stream",
     "text": [
      "\r",
      " 61%|███████████████████████████████████████████████▊                              | 1148/1873 [04:45<03:00,  4.02it/s]"
     ]
    },
    {
     "data": {
      "text/plain": [
       "'new dataset\\\\semiclassical\\\\semiclassicalA34.wav'"
      ]
     },
     "metadata": {},
     "output_type": "display_data"
    },
    {
     "name": "stderr",
     "output_type": "stream",
     "text": [
      "\r",
      " 61%|███████████████████████████████████████████████▊                              | 1149/1873 [04:45<02:57,  4.07it/s]"
     ]
    },
    {
     "data": {
      "text/plain": [
       "'new dataset\\\\semiclassical\\\\semiclassicalA35.wav'"
      ]
     },
     "metadata": {},
     "output_type": "display_data"
    },
    {
     "name": "stderr",
     "output_type": "stream",
     "text": [
      "\r",
      " 61%|███████████████████████████████████████████████▉                              | 1150/1873 [04:46<03:20,  3.61it/s]"
     ]
    },
    {
     "data": {
      "text/plain": [
       "'new dataset\\\\semiclassical\\\\semiclassicalA36.wav'"
      ]
     },
     "metadata": {},
     "output_type": "display_data"
    },
    {
     "name": "stderr",
     "output_type": "stream",
     "text": [
      "\r",
      " 61%|███████████████████████████████████████████████▉                              | 1151/1873 [04:46<03:12,  3.75it/s]"
     ]
    },
    {
     "data": {
      "text/plain": [
       "'new dataset\\\\semiclassical\\\\semiclassicalA37.wav'"
      ]
     },
     "metadata": {},
     "output_type": "display_data"
    },
    {
     "name": "stderr",
     "output_type": "stream",
     "text": [
      "\r",
      " 62%|███████████████████████████████████████████████▉                              | 1152/1873 [04:46<03:07,  3.84it/s]"
     ]
    },
    {
     "data": {
      "text/plain": [
       "'new dataset\\\\semiclassical\\\\semiclassicalA38.wav'"
      ]
     },
     "metadata": {},
     "output_type": "display_data"
    },
    {
     "name": "stderr",
     "output_type": "stream",
     "text": [
      "\r",
      " 62%|████████████████████████████████████████████████                              | 1153/1873 [04:46<03:02,  3.94it/s]"
     ]
    },
    {
     "data": {
      "text/plain": [
       "'new dataset\\\\semiclassical\\\\semiclassicalA39.wav'"
      ]
     },
     "metadata": {},
     "output_type": "display_data"
    },
    {
     "name": "stderr",
     "output_type": "stream",
     "text": [
      "\r",
      " 62%|████████████████████████████████████████████████                              | 1154/1873 [04:47<03:02,  3.94it/s]"
     ]
    },
    {
     "data": {
      "text/plain": [
       "'new dataset\\\\semiclassical\\\\semiclassicalA4.wav'"
      ]
     },
     "metadata": {},
     "output_type": "display_data"
    },
    {
     "name": "stderr",
     "output_type": "stream",
     "text": [
      "\r",
      " 62%|████████████████████████████████████████████████                              | 1155/1873 [04:47<02:58,  4.01it/s]"
     ]
    },
    {
     "data": {
      "text/plain": [
       "'new dataset\\\\semiclassical\\\\semiclassicalA40.wav'"
      ]
     },
     "metadata": {},
     "output_type": "display_data"
    },
    {
     "name": "stderr",
     "output_type": "stream",
     "text": [
      "\r",
      " 62%|████████████████████████████████████████████████▏                             | 1156/1873 [04:47<02:56,  4.05it/s]"
     ]
    },
    {
     "data": {
      "text/plain": [
       "'new dataset\\\\semiclassical\\\\semiclassicalA41.wav'"
      ]
     },
     "metadata": {},
     "output_type": "display_data"
    },
    {
     "name": "stderr",
     "output_type": "stream",
     "text": [
      "\r",
      " 62%|████████████████████████████████████████████████▏                             | 1157/1873 [04:47<02:55,  4.07it/s]"
     ]
    },
    {
     "data": {
      "text/plain": [
       "'new dataset\\\\semiclassical\\\\semiclassicalA42.wav'"
      ]
     },
     "metadata": {},
     "output_type": "display_data"
    },
    {
     "name": "stderr",
     "output_type": "stream",
     "text": [
      "\r",
      " 62%|████████████████████████████████████████████████▏                             | 1158/1873 [04:47<02:51,  4.18it/s]"
     ]
    },
    {
     "data": {
      "text/plain": [
       "'new dataset\\\\semiclassical\\\\semiclassicalA43.wav'"
      ]
     },
     "metadata": {},
     "output_type": "display_data"
    },
    {
     "name": "stderr",
     "output_type": "stream",
     "text": [
      "\r",
      " 62%|████████████████████████████████████████████████▎                             | 1159/1873 [04:48<02:53,  4.12it/s]"
     ]
    },
    {
     "data": {
      "text/plain": [
       "'new dataset\\\\semiclassical\\\\semiclassicalA44.wav'"
      ]
     },
     "metadata": {},
     "output_type": "display_data"
    },
    {
     "name": "stderr",
     "output_type": "stream",
     "text": [
      "\r",
      " 62%|████████████████████████████████████████████████▎                             | 1160/1873 [04:48<02:50,  4.17it/s]"
     ]
    },
    {
     "data": {
      "text/plain": [
       "'new dataset\\\\semiclassical\\\\semiclassicalA45.wav'"
      ]
     },
     "metadata": {},
     "output_type": "display_data"
    },
    {
     "name": "stderr",
     "output_type": "stream",
     "text": [
      "\r",
      " 62%|████████████████████████████████████████████████▎                             | 1161/1873 [04:48<02:50,  4.18it/s]"
     ]
    },
    {
     "data": {
      "text/plain": [
       "'new dataset\\\\semiclassical\\\\semiclassicalA46.wav'"
      ]
     },
     "metadata": {},
     "output_type": "display_data"
    },
    {
     "name": "stderr",
     "output_type": "stream",
     "text": [
      "\r",
      " 62%|████████████████████████████████████████████████▍                             | 1162/1873 [04:48<02:57,  4.01it/s]"
     ]
    },
    {
     "data": {
      "text/plain": [
       "'new dataset\\\\semiclassical\\\\semiclassicalA47.wav'"
      ]
     },
     "metadata": {},
     "output_type": "display_data"
    },
    {
     "name": "stderr",
     "output_type": "stream",
     "text": [
      "\r",
      " 62%|████████████████████████████████████████████████▍                             | 1163/1873 [04:49<03:00,  3.93it/s]"
     ]
    },
    {
     "data": {
      "text/plain": [
       "'new dataset\\\\semiclassical\\\\semiclassicalA48.wav'"
      ]
     },
     "metadata": {},
     "output_type": "display_data"
    },
    {
     "name": "stderr",
     "output_type": "stream",
     "text": [
      "\r",
      " 62%|████████████████████████████████████████████████▍                             | 1164/1873 [04:49<02:59,  3.96it/s]"
     ]
    },
    {
     "data": {
      "text/plain": [
       "'new dataset\\\\semiclassical\\\\semiclassicalA49.wav'"
      ]
     },
     "metadata": {},
     "output_type": "display_data"
    },
    {
     "name": "stderr",
     "output_type": "stream",
     "text": [
      "\r",
      " 62%|████████████████████████████████████████████████▌                             | 1165/1873 [04:49<02:57,  3.99it/s]"
     ]
    },
    {
     "data": {
      "text/plain": [
       "'new dataset\\\\semiclassical\\\\semiclassicalA5.wav'"
      ]
     },
     "metadata": {},
     "output_type": "display_data"
    },
    {
     "name": "stderr",
     "output_type": "stream",
     "text": [
      "\r",
      " 62%|████████████████████████████████████████████████▌                             | 1166/1873 [04:49<02:57,  3.97it/s]"
     ]
    },
    {
     "data": {
      "text/plain": [
       "'new dataset\\\\semiclassical\\\\semiclassicalA50.wav'"
      ]
     },
     "metadata": {},
     "output_type": "display_data"
    },
    {
     "name": "stderr",
     "output_type": "stream",
     "text": [
      "\r",
      " 62%|████████████████████████████████████████████████▌                             | 1167/1873 [04:50<02:58,  3.96it/s]"
     ]
    },
    {
     "data": {
      "text/plain": [
       "'new dataset\\\\semiclassical\\\\semiclassicalA51.wav'"
      ]
     },
     "metadata": {},
     "output_type": "display_data"
    },
    {
     "name": "stderr",
     "output_type": "stream",
     "text": [
      "\r",
      " 62%|████████████████████████████████████████████████▋                             | 1168/1873 [04:50<02:59,  3.93it/s]"
     ]
    },
    {
     "data": {
      "text/plain": [
       "'new dataset\\\\semiclassical\\\\semiclassicalA52.wav'"
      ]
     },
     "metadata": {},
     "output_type": "display_data"
    },
    {
     "name": "stderr",
     "output_type": "stream",
     "text": [
      "\r",
      " 62%|████████████████████████████████████████████████▋                             | 1169/1873 [04:50<02:57,  3.96it/s]"
     ]
    },
    {
     "data": {
      "text/plain": [
       "'new dataset\\\\semiclassical\\\\semiclassicalA53.wav'"
      ]
     },
     "metadata": {},
     "output_type": "display_data"
    },
    {
     "name": "stderr",
     "output_type": "stream",
     "text": [
      "\r",
      " 62%|████████████████████████████████████████████████▋                             | 1170/1873 [04:50<02:58,  3.94it/s]"
     ]
    },
    {
     "data": {
      "text/plain": [
       "'new dataset\\\\semiclassical\\\\semiclassicalA54.wav'"
      ]
     },
     "metadata": {},
     "output_type": "display_data"
    },
    {
     "name": "stderr",
     "output_type": "stream",
     "text": [
      "\r",
      " 63%|████████████████████████████████████████████████▊                             | 1171/1873 [04:51<02:55,  3.99it/s]"
     ]
    },
    {
     "data": {
      "text/plain": [
       "'new dataset\\\\semiclassical\\\\semiclassicalA55.wav'"
      ]
     },
     "metadata": {},
     "output_type": "display_data"
    },
    {
     "name": "stderr",
     "output_type": "stream",
     "text": [
      "\r",
      " 63%|████████████████████████████████████████████████▊                             | 1172/1873 [04:51<02:53,  4.03it/s]"
     ]
    },
    {
     "data": {
      "text/plain": [
       "'new dataset\\\\semiclassical\\\\semiclassicalA56.wav'"
      ]
     },
     "metadata": {},
     "output_type": "display_data"
    },
    {
     "name": "stderr",
     "output_type": "stream",
     "text": [
      "\r",
      " 63%|████████████████████████████████████████████████▊                             | 1173/1873 [04:51<02:50,  4.12it/s]"
     ]
    },
    {
     "data": {
      "text/plain": [
       "'new dataset\\\\semiclassical\\\\semiclassicalA57.wav'"
      ]
     },
     "metadata": {},
     "output_type": "display_data"
    },
    {
     "name": "stderr",
     "output_type": "stream",
     "text": [
      "\r",
      " 63%|████████████████████████████████████████████████▉                             | 1174/1873 [04:51<02:48,  4.15it/s]"
     ]
    },
    {
     "data": {
      "text/plain": [
       "'new dataset\\\\semiclassical\\\\semiclassicalA58.wav'"
      ]
     },
     "metadata": {},
     "output_type": "display_data"
    },
    {
     "name": "stderr",
     "output_type": "stream",
     "text": [
      "\r",
      " 63%|████████████████████████████████████████████████▉                             | 1175/1873 [04:52<02:52,  4.06it/s]"
     ]
    },
    {
     "data": {
      "text/plain": [
       "'new dataset\\\\semiclassical\\\\semiclassicalA59.wav'"
      ]
     },
     "metadata": {},
     "output_type": "display_data"
    },
    {
     "name": "stderr",
     "output_type": "stream",
     "text": [
      "\r",
      " 63%|████████████████████████████████████████████████▉                             | 1176/1873 [04:52<02:51,  4.05it/s]"
     ]
    },
    {
     "data": {
      "text/plain": [
       "'new dataset\\\\semiclassical\\\\semiclassicalA6.wav'"
      ]
     },
     "metadata": {},
     "output_type": "display_data"
    },
    {
     "name": "stderr",
     "output_type": "stream",
     "text": [
      "\r",
      " 63%|█████████████████████████████████████████████████                             | 1177/1873 [04:52<02:54,  3.99it/s]"
     ]
    },
    {
     "data": {
      "text/plain": [
       "'new dataset\\\\semiclassical\\\\semiclassicalA60.wav'"
      ]
     },
     "metadata": {},
     "output_type": "display_data"
    },
    {
     "name": "stderr",
     "output_type": "stream",
     "text": [
      "\r",
      " 63%|█████████████████████████████████████████████████                             | 1178/1873 [04:52<02:56,  3.95it/s]"
     ]
    },
    {
     "data": {
      "text/plain": [
       "'new dataset\\\\semiclassical\\\\semiclassicalA61.wav'"
      ]
     },
     "metadata": {},
     "output_type": "display_data"
    },
    {
     "name": "stderr",
     "output_type": "stream",
     "text": [
      "\r",
      " 63%|█████████████████████████████████████████████████                             | 1179/1873 [04:53<02:55,  3.96it/s]"
     ]
    },
    {
     "data": {
      "text/plain": [
       "'new dataset\\\\semiclassical\\\\semiclassicalA62.wav'"
      ]
     },
     "metadata": {},
     "output_type": "display_data"
    },
    {
     "name": "stderr",
     "output_type": "stream",
     "text": [
      "\r",
      " 63%|█████████████████████████████████████████████████▏                            | 1180/1873 [04:53<02:56,  3.94it/s]"
     ]
    },
    {
     "data": {
      "text/plain": [
       "'new dataset\\\\semiclassical\\\\semiclassicalA63.wav'"
      ]
     },
     "metadata": {},
     "output_type": "display_data"
    },
    {
     "name": "stderr",
     "output_type": "stream",
     "text": [
      "\r",
      " 63%|█████████████████████████████████████████████████▏                            | 1181/1873 [04:53<02:55,  3.94it/s]"
     ]
    },
    {
     "data": {
      "text/plain": [
       "'new dataset\\\\semiclassical\\\\semiclassicalA64.wav'"
      ]
     },
     "metadata": {},
     "output_type": "display_data"
    },
    {
     "name": "stderr",
     "output_type": "stream",
     "text": [
      "\r",
      " 63%|█████████████████████████████████████████████████▏                            | 1182/1873 [04:53<02:58,  3.86it/s]"
     ]
    },
    {
     "data": {
      "text/plain": [
       "'new dataset\\\\semiclassical\\\\semiclassicalA65.wav'"
      ]
     },
     "metadata": {},
     "output_type": "display_data"
    },
    {
     "name": "stderr",
     "output_type": "stream",
     "text": [
      "\r",
      " 63%|█████████████████████████████████████████████████▎                            | 1183/1873 [04:54<03:00,  3.82it/s]"
     ]
    },
    {
     "data": {
      "text/plain": [
       "'new dataset\\\\semiclassical\\\\semiclassicalA66.wav'"
      ]
     },
     "metadata": {},
     "output_type": "display_data"
    },
    {
     "name": "stderr",
     "output_type": "stream",
     "text": [
      "\r",
      " 63%|█████████████████████████████████████████████████▎                            | 1184/1873 [04:54<02:59,  3.83it/s]"
     ]
    },
    {
     "data": {
      "text/plain": [
       "'new dataset\\\\semiclassical\\\\semiclassicalA67.wav'"
      ]
     },
     "metadata": {},
     "output_type": "display_data"
    },
    {
     "name": "stderr",
     "output_type": "stream",
     "text": [
      "\r",
      " 63%|█████████████████████████████████████████████████▎                            | 1185/1873 [04:54<02:59,  3.84it/s]"
     ]
    },
    {
     "data": {
      "text/plain": [
       "'new dataset\\\\semiclassical\\\\semiclassicalA68.wav'"
      ]
     },
     "metadata": {},
     "output_type": "display_data"
    },
    {
     "name": "stderr",
     "output_type": "stream",
     "text": [
      "\r",
      " 63%|█████████████████████████████████████████████████▍                            | 1186/1873 [04:55<02:58,  3.84it/s]"
     ]
    },
    {
     "data": {
      "text/plain": [
       "'new dataset\\\\semiclassical\\\\semiclassicalA69.wav'"
      ]
     },
     "metadata": {},
     "output_type": "display_data"
    },
    {
     "name": "stderr",
     "output_type": "stream",
     "text": [
      "\r",
      " 63%|█████████████████████████████████████████████████▍                            | 1187/1873 [04:55<02:56,  3.89it/s]"
     ]
    },
    {
     "data": {
      "text/plain": [
       "'new dataset\\\\semiclassical\\\\semiclassicalA7.wav'"
      ]
     },
     "metadata": {},
     "output_type": "display_data"
    },
    {
     "name": "stderr",
     "output_type": "stream",
     "text": [
      "\r",
      " 63%|█████████████████████████████████████████████████▍                            | 1188/1873 [04:55<02:52,  3.98it/s]"
     ]
    },
    {
     "data": {
      "text/plain": [
       "'new dataset\\\\semiclassical\\\\semiclassicalA70.wav'"
      ]
     },
     "metadata": {},
     "output_type": "display_data"
    },
    {
     "name": "stderr",
     "output_type": "stream",
     "text": [
      "\r",
      " 63%|█████████████████████████████████████████████████▌                            | 1189/1873 [04:55<02:49,  4.03it/s]"
     ]
    },
    {
     "data": {
      "text/plain": [
       "'new dataset\\\\semiclassical\\\\semiclassicalA71.wav'"
      ]
     },
     "metadata": {},
     "output_type": "display_data"
    },
    {
     "name": "stderr",
     "output_type": "stream",
     "text": [
      "\r",
      " 64%|█████████████████████████████████████████████████▌                            | 1190/1873 [04:56<02:48,  4.05it/s]"
     ]
    },
    {
     "data": {
      "text/plain": [
       "'new dataset\\\\semiclassical\\\\semiclassicalA72.wav'"
      ]
     },
     "metadata": {},
     "output_type": "display_data"
    },
    {
     "name": "stderr",
     "output_type": "stream",
     "text": [
      "\r",
      " 64%|█████████████████████████████████████████████████▌                            | 1191/1873 [04:56<02:46,  4.09it/s]"
     ]
    },
    {
     "data": {
      "text/plain": [
       "'new dataset\\\\semiclassical\\\\semiclassicalA73.wav'"
      ]
     },
     "metadata": {},
     "output_type": "display_data"
    },
    {
     "name": "stderr",
     "output_type": "stream",
     "text": [
      "\r",
      " 64%|█████████████████████████████████████████████████▋                            | 1192/1873 [04:56<02:50,  3.99it/s]"
     ]
    },
    {
     "data": {
      "text/plain": [
       "'new dataset\\\\semiclassical\\\\semiclassicalA74.wav'"
      ]
     },
     "metadata": {},
     "output_type": "display_data"
    },
    {
     "name": "stderr",
     "output_type": "stream",
     "text": [
      "\r",
      " 64%|█████████████████████████████████████████████████▋                            | 1193/1873 [04:56<02:51,  3.97it/s]"
     ]
    },
    {
     "data": {
      "text/plain": [
       "'new dataset\\\\semiclassical\\\\semiclassicalA75.wav'"
      ]
     },
     "metadata": {},
     "output_type": "display_data"
    },
    {
     "name": "stderr",
     "output_type": "stream",
     "text": [
      "\r",
      " 64%|█████████████████████████████████████████████████▋                            | 1194/1873 [04:57<02:51,  3.96it/s]"
     ]
    },
    {
     "data": {
      "text/plain": [
       "'new dataset\\\\semiclassical\\\\semiclassicalA76.wav'"
      ]
     },
     "metadata": {},
     "output_type": "display_data"
    },
    {
     "name": "stderr",
     "output_type": "stream",
     "text": [
      "\r",
      " 64%|█████████████████████████████████████████████████▊                            | 1195/1873 [04:57<02:53,  3.91it/s]"
     ]
    },
    {
     "data": {
      "text/plain": [
       "'new dataset\\\\semiclassical\\\\semiclassicalA77.wav'"
      ]
     },
     "metadata": {},
     "output_type": "display_data"
    },
    {
     "name": "stderr",
     "output_type": "stream",
     "text": [
      "\r",
      " 64%|█████████████████████████████████████████████████▊                            | 1196/1873 [04:57<02:52,  3.92it/s]"
     ]
    },
    {
     "data": {
      "text/plain": [
       "'new dataset\\\\semiclassical\\\\semiclassicalA78.wav'"
      ]
     },
     "metadata": {},
     "output_type": "display_data"
    },
    {
     "name": "stderr",
     "output_type": "stream",
     "text": [
      "\r",
      " 64%|█████████████████████████████████████████████████▊                            | 1197/1873 [04:57<02:53,  3.90it/s]"
     ]
    },
    {
     "data": {
      "text/plain": [
       "'new dataset\\\\semiclassical\\\\semiclassicalA79.wav'"
      ]
     },
     "metadata": {},
     "output_type": "display_data"
    },
    {
     "name": "stderr",
     "output_type": "stream",
     "text": [
      "\r",
      " 64%|█████████████████████████████████████████████████▉                            | 1198/1873 [04:58<02:50,  3.95it/s]"
     ]
    },
    {
     "data": {
      "text/plain": [
       "'new dataset\\\\semiclassical\\\\semiclassicalA8.wav'"
      ]
     },
     "metadata": {},
     "output_type": "display_data"
    },
    {
     "name": "stderr",
     "output_type": "stream",
     "text": [
      "\r",
      " 64%|█████████████████████████████████████████████████▉                            | 1199/1873 [04:58<02:53,  3.88it/s]"
     ]
    },
    {
     "data": {
      "text/plain": [
       "'new dataset\\\\semiclassical\\\\semiclassicalA80.wav'"
      ]
     },
     "metadata": {},
     "output_type": "display_data"
    },
    {
     "name": "stderr",
     "output_type": "stream",
     "text": [
      "\r",
      " 64%|█████████████████████████████████████████████████▉                            | 1200/1873 [04:58<02:50,  3.94it/s]"
     ]
    },
    {
     "data": {
      "text/plain": [
       "'new dataset\\\\semiclassical\\\\semiclassicalA82.wav'"
      ]
     },
     "metadata": {},
     "output_type": "display_data"
    },
    {
     "name": "stderr",
     "output_type": "stream",
     "text": [
      "\r",
      " 64%|██████████████████████████████████████████████████                            | 1201/1873 [04:58<02:48,  4.00it/s]"
     ]
    },
    {
     "data": {
      "text/plain": [
       "'new dataset\\\\semiclassical\\\\semiclassicalA83.wav'"
      ]
     },
     "metadata": {},
     "output_type": "display_data"
    },
    {
     "name": "stderr",
     "output_type": "stream",
     "text": [
      "\r",
      " 64%|██████████████████████████████████████████████████                            | 1202/1873 [04:59<02:43,  4.11it/s]"
     ]
    },
    {
     "data": {
      "text/plain": [
       "'new dataset\\\\semiclassical\\\\semiclassicalA84.wav'"
      ]
     },
     "metadata": {},
     "output_type": "display_data"
    },
    {
     "name": "stderr",
     "output_type": "stream",
     "text": [
      "\r",
      " 64%|██████████████████████████████████████████████████                            | 1203/1873 [04:59<02:44,  4.07it/s]"
     ]
    },
    {
     "data": {
      "text/plain": [
       "'new dataset\\\\semiclassical\\\\semiclassicalA85.wav'"
      ]
     },
     "metadata": {},
     "output_type": "display_data"
    },
    {
     "name": "stderr",
     "output_type": "stream",
     "text": [
      "\r",
      " 64%|██████████████████████████████████████████████████▏                           | 1204/1873 [04:59<02:45,  4.03it/s]"
     ]
    },
    {
     "data": {
      "text/plain": [
       "'new dataset\\\\semiclassical\\\\semiclassicalA86.wav'"
      ]
     },
     "metadata": {},
     "output_type": "display_data"
    },
    {
     "name": "stderr",
     "output_type": "stream",
     "text": [
      "\r",
      " 64%|██████████████████████████████████████████████████▏                           | 1205/1873 [04:59<02:40,  4.16it/s]"
     ]
    },
    {
     "data": {
      "text/plain": [
       "'new dataset\\\\semiclassical\\\\semiclassicalA87.wav'"
      ]
     },
     "metadata": {},
     "output_type": "display_data"
    },
    {
     "name": "stderr",
     "output_type": "stream",
     "text": [
      "\r",
      " 64%|██████████████████████████████████████████████████▏                           | 1206/1873 [04:59<02:38,  4.22it/s]"
     ]
    },
    {
     "data": {
      "text/plain": [
       "'new dataset\\\\semiclassical\\\\semiclassicalA88.wav'"
      ]
     },
     "metadata": {},
     "output_type": "display_data"
    },
    {
     "name": "stderr",
     "output_type": "stream",
     "text": [
      "\r",
      " 64%|██████████████████████████████████████████████████▎                           | 1207/1873 [05:00<02:37,  4.22it/s]"
     ]
    },
    {
     "data": {
      "text/plain": [
       "'new dataset\\\\semiclassical\\\\semiclassicalA89.wav'"
      ]
     },
     "metadata": {},
     "output_type": "display_data"
    },
    {
     "name": "stderr",
     "output_type": "stream",
     "text": [
      "\r",
      " 64%|██████████████████████████████████████████████████▎                           | 1208/1873 [05:00<02:38,  4.21it/s]"
     ]
    },
    {
     "data": {
      "text/plain": [
       "'new dataset\\\\semiclassical\\\\semiclassicalA9.wav'"
      ]
     },
     "metadata": {},
     "output_type": "display_data"
    },
    {
     "name": "stderr",
     "output_type": "stream",
     "text": [
      "\r",
      " 65%|██████████████████████████████████████████████████▎                           | 1209/1873 [05:00<02:55,  3.79it/s]"
     ]
    },
    {
     "data": {
      "text/plain": [
       "'new dataset\\\\semiclassical\\\\semiclassicalA90.wav'"
      ]
     },
     "metadata": {},
     "output_type": "display_data"
    },
    {
     "name": "stderr",
     "output_type": "stream",
     "text": [
      "\r",
      " 65%|██████████████████████████████████████████████████▍                           | 1210/1873 [05:01<02:54,  3.80it/s]"
     ]
    },
    {
     "data": {
      "text/plain": [
       "'new dataset\\\\semiclassical\\\\semiclassicalA91.wav'"
      ]
     },
     "metadata": {},
     "output_type": "display_data"
    },
    {
     "name": "stderr",
     "output_type": "stream",
     "text": [
      "\r",
      " 65%|██████████████████████████████████████████████████▍                           | 1211/1873 [05:01<03:04,  3.59it/s]"
     ]
    },
    {
     "data": {
      "text/plain": [
       "'new dataset\\\\semiclassical\\\\semiclassicalA92.wav'"
      ]
     },
     "metadata": {},
     "output_type": "display_data"
    },
    {
     "name": "stderr",
     "output_type": "stream",
     "text": [
      "\r",
      " 65%|██████████████████████████████████████████████████▍                           | 1212/1873 [05:01<02:57,  3.73it/s]"
     ]
    },
    {
     "data": {
      "text/plain": [
       "'new dataset\\\\semiclassical\\\\semiclassicalA93.wav'"
      ]
     },
     "metadata": {},
     "output_type": "display_data"
    },
    {
     "name": "stderr",
     "output_type": "stream",
     "text": [
      "\r",
      " 65%|██████████████████████████████████████████████████▌                           | 1213/1873 [05:01<02:57,  3.73it/s]"
     ]
    },
    {
     "data": {
      "text/plain": [
       "'new dataset\\\\semiclassical\\\\semiclassicalA94.wav'"
      ]
     },
     "metadata": {},
     "output_type": "display_data"
    },
    {
     "name": "stderr",
     "output_type": "stream",
     "text": [
      "\r",
      " 65%|██████████████████████████████████████████████████▌                           | 1214/1873 [05:02<02:49,  3.89it/s]"
     ]
    },
    {
     "data": {
      "text/plain": [
       "'new dataset\\\\semiclassical\\\\semiclassicalA95.wav'"
      ]
     },
     "metadata": {},
     "output_type": "display_data"
    },
    {
     "name": "stderr",
     "output_type": "stream",
     "text": [
      "\r",
      " 65%|██████████████████████████████████████████████████▌                           | 1215/1873 [05:02<02:52,  3.82it/s]"
     ]
    },
    {
     "data": {
      "text/plain": [
       "'new dataset\\\\semiclassical\\\\semiclassicalA96.wav'"
      ]
     },
     "metadata": {},
     "output_type": "display_data"
    },
    {
     "name": "stderr",
     "output_type": "stream",
     "text": [
      "\r",
      " 65%|██████████████████████████████████████████████████▋                           | 1216/1873 [05:02<02:56,  3.73it/s]"
     ]
    },
    {
     "data": {
      "text/plain": [
       "'new dataset\\\\semiclassical\\\\semiclassicalA98.wav'"
      ]
     },
     "metadata": {},
     "output_type": "display_data"
    },
    {
     "name": "stderr",
     "output_type": "stream",
     "text": [
      "\r",
      " 65%|██████████████████████████████████████████████████▋                           | 1217/1873 [05:02<02:57,  3.69it/s]"
     ]
    },
    {
     "data": {
      "text/plain": [
       "'new dataset\\\\semiclassical\\\\semiclassicalA99.wav'"
      ]
     },
     "metadata": {},
     "output_type": "display_data"
    },
    {
     "name": "stderr",
     "output_type": "stream",
     "text": [
      "\r",
      " 65%|██████████████████████████████████████████████████▋                           | 1218/1873 [05:03<02:56,  3.72it/s]"
     ]
    },
    {
     "data": {
      "text/plain": [
       "'new dataset\\\\semiclassical\\\\semiclassicalC10.wav'"
      ]
     },
     "metadata": {},
     "output_type": "display_data"
    },
    {
     "name": "stderr",
     "output_type": "stream",
     "text": [
      "\r",
      " 65%|██████████████████████████████████████████████████▊                           | 1219/1873 [05:03<02:51,  3.82it/s]"
     ]
    },
    {
     "data": {
      "text/plain": [
       "'new dataset\\\\semiclassical\\\\semiclassicalC100.wav'"
      ]
     },
     "metadata": {},
     "output_type": "display_data"
    },
    {
     "name": "stderr",
     "output_type": "stream",
     "text": [
      "\r",
      " 65%|██████████████████████████████████████████████████▊                           | 1220/1873 [05:03<02:46,  3.93it/s]"
     ]
    },
    {
     "data": {
      "text/plain": [
       "'new dataset\\\\semiclassical\\\\semiclassicalC101.wav'"
      ]
     },
     "metadata": {},
     "output_type": "display_data"
    },
    {
     "name": "stderr",
     "output_type": "stream",
     "text": [
      "\r",
      " 65%|██████████████████████████████████████████████████▊                           | 1221/1873 [05:03<02:44,  3.96it/s]"
     ]
    },
    {
     "data": {
      "text/plain": [
       "'new dataset\\\\semiclassical\\\\semiclassicalC102.wav'"
      ]
     },
     "metadata": {},
     "output_type": "display_data"
    },
    {
     "name": "stderr",
     "output_type": "stream",
     "text": [
      "\r",
      " 65%|██████████████████████████████████████████████████▉                           | 1222/1873 [05:04<02:58,  3.65it/s]"
     ]
    },
    {
     "data": {
      "text/plain": [
       "'new dataset\\\\semiclassical\\\\semiclassicalC103.wav'"
      ]
     },
     "metadata": {},
     "output_type": "display_data"
    },
    {
     "name": "stderr",
     "output_type": "stream",
     "text": [
      "\r",
      " 65%|██████████████████████████████████████████████████▉                           | 1223/1873 [05:04<02:57,  3.67it/s]"
     ]
    },
    {
     "data": {
      "text/plain": [
       "'new dataset\\\\semiclassical\\\\semiclassicalC104.wav'"
      ]
     },
     "metadata": {},
     "output_type": "display_data"
    },
    {
     "name": "stderr",
     "output_type": "stream",
     "text": [
      "\r",
      " 65%|██████████████████████████████████████████████████▉                           | 1224/1873 [05:04<02:52,  3.76it/s]"
     ]
    },
    {
     "data": {
      "text/plain": [
       "'new dataset\\\\semiclassical\\\\semiclassicalC105.wav'"
      ]
     },
     "metadata": {},
     "output_type": "display_data"
    },
    {
     "name": "stderr",
     "output_type": "stream",
     "text": [
      "\r",
      " 65%|███████████████████████████████████████████████████                           | 1225/1873 [05:05<02:58,  3.63it/s]"
     ]
    },
    {
     "data": {
      "text/plain": [
       "'new dataset\\\\semiclassical\\\\semiclassicalC106.wav'"
      ]
     },
     "metadata": {},
     "output_type": "display_data"
    },
    {
     "name": "stderr",
     "output_type": "stream",
     "text": [
      "\r",
      " 65%|███████████████████████████████████████████████████                           | 1226/1873 [05:05<02:56,  3.67it/s]"
     ]
    },
    {
     "data": {
      "text/plain": [
       "'new dataset\\\\semiclassical\\\\semiclassicalC107.wav'"
      ]
     },
     "metadata": {},
     "output_type": "display_data"
    },
    {
     "name": "stderr",
     "output_type": "stream",
     "text": [
      "\r",
      " 66%|███████████████████████████████████████████████████                           | 1227/1873 [05:05<02:55,  3.68it/s]"
     ]
    },
    {
     "data": {
      "text/plain": [
       "'new dataset\\\\semiclassical\\\\semiclassicalC108.wav'"
      ]
     },
     "metadata": {},
     "output_type": "display_data"
    },
    {
     "name": "stderr",
     "output_type": "stream",
     "text": [
      "\r",
      " 66%|███████████████████████████████████████████████████▏                          | 1228/1873 [05:05<02:48,  3.82it/s]"
     ]
    },
    {
     "data": {
      "text/plain": [
       "'new dataset\\\\semiclassical\\\\semiclassicalC109.wav'"
      ]
     },
     "metadata": {},
     "output_type": "display_data"
    },
    {
     "name": "stderr",
     "output_type": "stream",
     "text": [
      "\r",
      " 66%|███████████████████████████████████████████████████▏                          | 1229/1873 [05:06<02:47,  3.84it/s]"
     ]
    },
    {
     "data": {
      "text/plain": [
       "'new dataset\\\\semiclassical\\\\semiclassicalC110.wav'"
      ]
     },
     "metadata": {},
     "output_type": "display_data"
    },
    {
     "name": "stderr",
     "output_type": "stream",
     "text": [
      "\r",
      " 66%|███████████████████████████████████████████████████▏                          | 1230/1873 [05:06<02:45,  3.89it/s]"
     ]
    },
    {
     "data": {
      "text/plain": [
       "'new dataset\\\\semiclassical\\\\semiclassicalC111.wav'"
      ]
     },
     "metadata": {},
     "output_type": "display_data"
    },
    {
     "name": "stderr",
     "output_type": "stream",
     "text": [
      "\r",
      " 66%|███████████████████████████████████████████████████▎                          | 1231/1873 [05:06<02:41,  3.96it/s]"
     ]
    },
    {
     "data": {
      "text/plain": [
       "'new dataset\\\\semiclassical\\\\semiclassicalC112.wav'"
      ]
     },
     "metadata": {},
     "output_type": "display_data"
    },
    {
     "name": "stderr",
     "output_type": "stream",
     "text": [
      "\r",
      " 66%|███████████████████████████████████████████████████▎                          | 1232/1873 [05:06<02:36,  4.09it/s]"
     ]
    },
    {
     "data": {
      "text/plain": [
       "'new dataset\\\\semiclassical\\\\semiclassicalC113.wav'"
      ]
     },
     "metadata": {},
     "output_type": "display_data"
    },
    {
     "name": "stderr",
     "output_type": "stream",
     "text": [
      "\r",
      " 66%|███████████████████████████████████████████████████▎                          | 1233/1873 [05:07<02:36,  4.09it/s]"
     ]
    },
    {
     "data": {
      "text/plain": [
       "'new dataset\\\\semiclassical\\\\semiclassicalC114.wav'"
      ]
     },
     "metadata": {},
     "output_type": "display_data"
    },
    {
     "name": "stderr",
     "output_type": "stream",
     "text": [
      "\r",
      " 66%|███████████████████████████████████████████████████▍                          | 1234/1873 [05:07<02:37,  4.05it/s]"
     ]
    },
    {
     "data": {
      "text/plain": [
       "'new dataset\\\\semiclassical\\\\semiclassicalC115.wav'"
      ]
     },
     "metadata": {},
     "output_type": "display_data"
    },
    {
     "name": "stderr",
     "output_type": "stream",
     "text": [
      "\r",
      " 66%|███████████████████████████████████████████████████▍                          | 1235/1873 [05:07<02:43,  3.90it/s]"
     ]
    },
    {
     "data": {
      "text/plain": [
       "'new dataset\\\\semiclassical\\\\semiclassicalC116.wav'"
      ]
     },
     "metadata": {},
     "output_type": "display_data"
    },
    {
     "name": "stderr",
     "output_type": "stream",
     "text": [
      "\r",
      " 66%|███████████████████████████████████████████████████▍                          | 1236/1873 [05:07<02:40,  3.96it/s]"
     ]
    },
    {
     "data": {
      "text/plain": [
       "'new dataset\\\\semiclassical\\\\semiclassicalC117.wav'"
      ]
     },
     "metadata": {},
     "output_type": "display_data"
    },
    {
     "name": "stderr",
     "output_type": "stream",
     "text": [
      "\r",
      " 66%|███████████████████████████████████████████████████▌                          | 1237/1873 [05:08<02:41,  3.94it/s]"
     ]
    },
    {
     "data": {
      "text/plain": [
       "'new dataset\\\\semiclassical\\\\semiclassicalC12.wav'"
      ]
     },
     "metadata": {},
     "output_type": "display_data"
    },
    {
     "name": "stderr",
     "output_type": "stream",
     "text": [
      "\r",
      " 66%|███████████████████████████████████████████████████▌                          | 1238/1873 [05:08<02:39,  3.98it/s]"
     ]
    },
    {
     "data": {
      "text/plain": [
       "'new dataset\\\\semiclassical\\\\semiclassicalC13.wav'"
      ]
     },
     "metadata": {},
     "output_type": "display_data"
    },
    {
     "name": "stderr",
     "output_type": "stream",
     "text": [
      "\r",
      " 66%|███████████████████████████████████████████████████▌                          | 1239/1873 [05:08<02:45,  3.84it/s]"
     ]
    },
    {
     "data": {
      "text/plain": [
       "'new dataset\\\\semiclassical\\\\semiclassicalC14.wav'"
      ]
     },
     "metadata": {},
     "output_type": "display_data"
    },
    {
     "name": "stderr",
     "output_type": "stream",
     "text": [
      "\r",
      " 66%|███████████████████████████████████████████████████▋                          | 1240/1873 [05:08<02:41,  3.91it/s]"
     ]
    },
    {
     "data": {
      "text/plain": [
       "'new dataset\\\\semiclassical\\\\semiclassicalC15.wav'"
      ]
     },
     "metadata": {},
     "output_type": "display_data"
    },
    {
     "name": "stderr",
     "output_type": "stream",
     "text": [
      "\r",
      " 66%|███████████████████████████████████████████████████▋                          | 1241/1873 [05:09<02:39,  3.97it/s]"
     ]
    },
    {
     "data": {
      "text/plain": [
       "'new dataset\\\\semiclassical\\\\semiclassicalC16.wav'"
      ]
     },
     "metadata": {},
     "output_type": "display_data"
    },
    {
     "name": "stderr",
     "output_type": "stream",
     "text": [
      "\r",
      " 66%|███████████████████████████████████████████████████▋                          | 1242/1873 [05:09<02:37,  4.00it/s]"
     ]
    },
    {
     "data": {
      "text/plain": [
       "'new dataset\\\\semiclassical\\\\semiclassicalC17.wav'"
      ]
     },
     "metadata": {},
     "output_type": "display_data"
    },
    {
     "name": "stderr",
     "output_type": "stream",
     "text": [
      "\r",
      " 66%|███████████████████████████████████████████████████▊                          | 1243/1873 [05:09<02:37,  4.00it/s]"
     ]
    },
    {
     "data": {
      "text/plain": [
       "'new dataset\\\\semiclassical\\\\semiclassicalC18.wav'"
      ]
     },
     "metadata": {},
     "output_type": "display_data"
    },
    {
     "name": "stderr",
     "output_type": "stream",
     "text": [
      "\r",
      " 66%|███████████████████████████████████████████████████▊                          | 1244/1873 [05:09<02:42,  3.88it/s]"
     ]
    },
    {
     "data": {
      "text/plain": [
       "'new dataset\\\\semiclassical\\\\semiclassicalC19.wav'"
      ]
     },
     "metadata": {},
     "output_type": "display_data"
    },
    {
     "name": "stderr",
     "output_type": "stream",
     "text": [
      "\r",
      " 66%|███████████████████████████████████████████████████▊                          | 1245/1873 [05:10<02:38,  3.96it/s]"
     ]
    },
    {
     "data": {
      "text/plain": [
       "'new dataset\\\\semiclassical\\\\semiclassicalC2.wav'"
      ]
     },
     "metadata": {},
     "output_type": "display_data"
    },
    {
     "name": "stderr",
     "output_type": "stream",
     "text": [
      "\r",
      " 67%|███████████████████████████████████████████████████▉                          | 1246/1873 [05:10<02:39,  3.94it/s]"
     ]
    },
    {
     "data": {
      "text/plain": [
       "'new dataset\\\\semiclassical\\\\semiclassicalC20.wav'"
      ]
     },
     "metadata": {},
     "output_type": "display_data"
    },
    {
     "name": "stderr",
     "output_type": "stream",
     "text": [
      "\r",
      " 67%|███████████████████████████████████████████████████▉                          | 1247/1873 [05:10<02:39,  3.93it/s]"
     ]
    },
    {
     "data": {
      "text/plain": [
       "'new dataset\\\\semiclassical\\\\semiclassicalC21.wav'"
      ]
     },
     "metadata": {},
     "output_type": "display_data"
    },
    {
     "name": "stderr",
     "output_type": "stream",
     "text": [
      "\r",
      " 67%|███████████████████████████████████████████████████▉                          | 1248/1873 [05:10<02:40,  3.89it/s]"
     ]
    },
    {
     "data": {
      "text/plain": [
       "'new dataset\\\\semiclassical\\\\semiclassicalC22.wav'"
      ]
     },
     "metadata": {},
     "output_type": "display_data"
    },
    {
     "name": "stderr",
     "output_type": "stream",
     "text": [
      "\r",
      " 67%|████████████████████████████████████████████████████                          | 1249/1873 [05:11<02:37,  3.96it/s]"
     ]
    },
    {
     "data": {
      "text/plain": [
       "'new dataset\\\\semiclassical\\\\semiclassicalC24.wav'"
      ]
     },
     "metadata": {},
     "output_type": "display_data"
    },
    {
     "name": "stderr",
     "output_type": "stream",
     "text": [
      "\r",
      " 67%|████████████████████████████████████████████████████                          | 1250/1873 [05:11<02:34,  4.03it/s]"
     ]
    },
    {
     "data": {
      "text/plain": [
       "'new dataset\\\\semiclassical\\\\semiclassicalC25.wav'"
      ]
     },
     "metadata": {},
     "output_type": "display_data"
    },
    {
     "name": "stderr",
     "output_type": "stream",
     "text": [
      "\r",
      " 67%|████████████████████████████████████████████████████                          | 1251/1873 [05:11<02:33,  4.06it/s]"
     ]
    },
    {
     "data": {
      "text/plain": [
       "'new dataset\\\\semiclassical\\\\semiclassicalC26.wav'"
      ]
     },
     "metadata": {},
     "output_type": "display_data"
    },
    {
     "name": "stderr",
     "output_type": "stream",
     "text": [
      "\r",
      " 67%|████████████████████████████████████████████████████▏                         | 1252/1873 [05:11<02:34,  4.03it/s]"
     ]
    },
    {
     "data": {
      "text/plain": [
       "'new dataset\\\\semiclassical\\\\semiclassicalC27.wav'"
      ]
     },
     "metadata": {},
     "output_type": "display_data"
    },
    {
     "name": "stderr",
     "output_type": "stream",
     "text": [
      "\r",
      " 67%|████████████████████████████████████████████████████▏                         | 1253/1873 [05:12<02:36,  3.96it/s]"
     ]
    },
    {
     "data": {
      "text/plain": [
       "'new dataset\\\\semiclassical\\\\semiclassicalC3.wav'"
      ]
     },
     "metadata": {},
     "output_type": "display_data"
    },
    {
     "name": "stderr",
     "output_type": "stream",
     "text": [
      "\r",
      " 67%|████████████████████████████████████████████████████▏                         | 1254/1873 [05:12<02:34,  4.00it/s]"
     ]
    },
    {
     "data": {
      "text/plain": [
       "'new dataset\\\\semiclassical\\\\semiclassicalC30.wav'"
      ]
     },
     "metadata": {},
     "output_type": "display_data"
    },
    {
     "name": "stderr",
     "output_type": "stream",
     "text": [
      "\r",
      " 67%|████████████████████████████████████████████████████▎                         | 1255/1873 [05:12<02:37,  3.92it/s]"
     ]
    },
    {
     "data": {
      "text/plain": [
       "'new dataset\\\\semiclassical\\\\semiclassicalC33.wav'"
      ]
     },
     "metadata": {},
     "output_type": "display_data"
    },
    {
     "name": "stderr",
     "output_type": "stream",
     "text": [
      "\r",
      " 67%|████████████████████████████████████████████████████▎                         | 1256/1873 [05:12<02:36,  3.93it/s]"
     ]
    },
    {
     "data": {
      "text/plain": [
       "'new dataset\\\\semiclassical\\\\semiclassicalC34.wav'"
      ]
     },
     "metadata": {},
     "output_type": "display_data"
    },
    {
     "name": "stderr",
     "output_type": "stream",
     "text": [
      "\r",
      " 67%|████████████████████████████████████████████████████▎                         | 1257/1873 [05:13<02:33,  4.01it/s]"
     ]
    },
    {
     "data": {
      "text/plain": [
       "'new dataset\\\\semiclassical\\\\semiclassicalC35.wav'"
      ]
     },
     "metadata": {},
     "output_type": "display_data"
    },
    {
     "name": "stderr",
     "output_type": "stream",
     "text": [
      "\r",
      " 67%|████████████████████████████████████████████████████▍                         | 1258/1873 [05:13<02:33,  4.01it/s]"
     ]
    },
    {
     "data": {
      "text/plain": [
       "'new dataset\\\\semiclassical\\\\semiclassicalC36.wav'"
      ]
     },
     "metadata": {},
     "output_type": "display_data"
    },
    {
     "name": "stderr",
     "output_type": "stream",
     "text": [
      "\r",
      " 67%|████████████████████████████████████████████████████▍                         | 1259/1873 [05:13<02:32,  4.04it/s]"
     ]
    },
    {
     "data": {
      "text/plain": [
       "'new dataset\\\\semiclassical\\\\semiclassicalC37.wav'"
      ]
     },
     "metadata": {},
     "output_type": "display_data"
    },
    {
     "name": "stderr",
     "output_type": "stream",
     "text": [
      "\r",
      " 67%|████████████████████████████████████████████████████▍                         | 1260/1873 [05:13<02:33,  4.00it/s]"
     ]
    },
    {
     "data": {
      "text/plain": [
       "'new dataset\\\\semiclassical\\\\semiclassicalC38.wav'"
      ]
     },
     "metadata": {},
     "output_type": "display_data"
    },
    {
     "name": "stderr",
     "output_type": "stream",
     "text": [
      "\r",
      " 67%|████████████████████████████████████████████████████▌                         | 1261/1873 [05:14<02:29,  4.09it/s]"
     ]
    },
    {
     "data": {
      "text/plain": [
       "'new dataset\\\\semiclassical\\\\semiclassicalC39.wav'"
      ]
     },
     "metadata": {},
     "output_type": "display_data"
    },
    {
     "name": "stderr",
     "output_type": "stream",
     "text": [
      "\r",
      " 67%|████████████████████████████████████████████████████▌                         | 1262/1873 [05:14<02:28,  4.12it/s]"
     ]
    },
    {
     "data": {
      "text/plain": [
       "'new dataset\\\\semiclassical\\\\semiclassicalC4.wav'"
      ]
     },
     "metadata": {},
     "output_type": "display_data"
    },
    {
     "name": "stderr",
     "output_type": "stream",
     "text": [
      "\r",
      " 67%|████████████████████████████████████████████████████▌                         | 1263/1873 [05:14<02:26,  4.18it/s]"
     ]
    },
    {
     "data": {
      "text/plain": [
       "'new dataset\\\\semiclassical\\\\semiclassicalC40.wav'"
      ]
     },
     "metadata": {},
     "output_type": "display_data"
    },
    {
     "name": "stderr",
     "output_type": "stream",
     "text": [
      "\r",
      " 67%|████████████████████████████████████████████████████▋                         | 1264/1873 [05:14<02:25,  4.18it/s]"
     ]
    },
    {
     "data": {
      "text/plain": [
       "'new dataset\\\\semiclassical\\\\semiclassicalC41.wav'"
      ]
     },
     "metadata": {},
     "output_type": "display_data"
    },
    {
     "name": "stderr",
     "output_type": "stream",
     "text": [
      "\r",
      " 68%|████████████████████████████████████████████████████▋                         | 1265/1873 [05:15<02:23,  4.22it/s]"
     ]
    },
    {
     "data": {
      "text/plain": [
       "'new dataset\\\\semiclassical\\\\semiclassicalC42.wav'"
      ]
     },
     "metadata": {},
     "output_type": "display_data"
    },
    {
     "name": "stderr",
     "output_type": "stream",
     "text": [
      "\r",
      " 68%|████████████████████████████████████████████████████▋                         | 1266/1873 [05:15<02:24,  4.20it/s]"
     ]
    },
    {
     "data": {
      "text/plain": [
       "'new dataset\\\\semiclassical\\\\semiclassicalC43.wav'"
      ]
     },
     "metadata": {},
     "output_type": "display_data"
    },
    {
     "name": "stderr",
     "output_type": "stream",
     "text": [
      "\r",
      " 68%|████████████████████████████████████████████████████▊                         | 1267/1873 [05:15<02:29,  4.06it/s]"
     ]
    },
    {
     "data": {
      "text/plain": [
       "'new dataset\\\\semiclassical\\\\semiclassicalC44.wav'"
      ]
     },
     "metadata": {},
     "output_type": "display_data"
    },
    {
     "name": "stderr",
     "output_type": "stream",
     "text": [
      "\r",
      " 68%|████████████████████████████████████████████████████▊                         | 1268/1873 [05:15<02:29,  4.05it/s]"
     ]
    },
    {
     "data": {
      "text/plain": [
       "'new dataset\\\\semiclassical\\\\semiclassicalC45.wav'"
      ]
     },
     "metadata": {},
     "output_type": "display_data"
    },
    {
     "name": "stderr",
     "output_type": "stream",
     "text": [
      "\r",
      " 68%|████████████████████████████████████████████████████▊                         | 1269/1873 [05:16<02:32,  3.95it/s]"
     ]
    },
    {
     "data": {
      "text/plain": [
       "'new dataset\\\\semiclassical\\\\semiclassicalC46.wav'"
      ]
     },
     "metadata": {},
     "output_type": "display_data"
    },
    {
     "name": "stderr",
     "output_type": "stream",
     "text": [
      "\r",
      " 68%|████████████████████████████████████████████████████▉                         | 1270/1873 [05:16<02:35,  3.87it/s]"
     ]
    },
    {
     "data": {
      "text/plain": [
       "'new dataset\\\\semiclassical\\\\semiclassicalC47.wav'"
      ]
     },
     "metadata": {},
     "output_type": "display_data"
    },
    {
     "name": "stderr",
     "output_type": "stream",
     "text": [
      "\r",
      " 68%|████████████████████████████████████████████████████▉                         | 1271/1873 [05:16<02:38,  3.81it/s]"
     ]
    },
    {
     "data": {
      "text/plain": [
       "'new dataset\\\\semiclassical\\\\semiclassicalC48.wav'"
      ]
     },
     "metadata": {},
     "output_type": "display_data"
    },
    {
     "name": "stderr",
     "output_type": "stream",
     "text": [
      "\r",
      " 68%|████████████████████████████████████████████████████▉                         | 1272/1873 [05:16<02:32,  3.95it/s]"
     ]
    },
    {
     "data": {
      "text/plain": [
       "'new dataset\\\\semiclassical\\\\semiclassicalC49.wav'"
      ]
     },
     "metadata": {},
     "output_type": "display_data"
    },
    {
     "name": "stderr",
     "output_type": "stream",
     "text": [
      "\r",
      " 68%|█████████████████████████████████████████████████████                         | 1273/1873 [05:17<02:30,  3.99it/s]"
     ]
    },
    {
     "data": {
      "text/plain": [
       "'new dataset\\\\semiclassical\\\\semiclassicalC5.wav'"
      ]
     },
     "metadata": {},
     "output_type": "display_data"
    },
    {
     "name": "stderr",
     "output_type": "stream",
     "text": [
      "\r",
      " 68%|█████████████████████████████████████████████████████                         | 1274/1873 [05:17<02:28,  4.04it/s]"
     ]
    },
    {
     "data": {
      "text/plain": [
       "'new dataset\\\\semiclassical\\\\semiclassicalC50.wav'"
      ]
     },
     "metadata": {},
     "output_type": "display_data"
    },
    {
     "name": "stderr",
     "output_type": "stream",
     "text": [
      "\r",
      " 68%|█████████████████████████████████████████████████████                         | 1275/1873 [05:17<02:25,  4.10it/s]"
     ]
    },
    {
     "data": {
      "text/plain": [
       "'new dataset\\\\semiclassical\\\\semiclassicalC51.wav'"
      ]
     },
     "metadata": {},
     "output_type": "display_data"
    },
    {
     "name": "stderr",
     "output_type": "stream",
     "text": [
      "\r",
      " 68%|█████████████████████████████████████████████████████▏                        | 1276/1873 [05:17<02:27,  4.06it/s]"
     ]
    },
    {
     "data": {
      "text/plain": [
       "'new dataset\\\\semiclassical\\\\semiclassicalC52.wav'"
      ]
     },
     "metadata": {},
     "output_type": "display_data"
    },
    {
     "name": "stderr",
     "output_type": "stream",
     "text": [
      "\r",
      " 68%|█████████████████████████████████████████████████████▏                        | 1277/1873 [05:18<02:28,  4.02it/s]"
     ]
    },
    {
     "data": {
      "text/plain": [
       "'new dataset\\\\semiclassical\\\\semiclassicalC53.wav'"
      ]
     },
     "metadata": {},
     "output_type": "display_data"
    },
    {
     "name": "stderr",
     "output_type": "stream",
     "text": [
      "\r",
      " 68%|█████████████████████████████████████████████████████▏                        | 1278/1873 [05:18<02:28,  4.00it/s]"
     ]
    },
    {
     "data": {
      "text/plain": [
       "'new dataset\\\\semiclassical\\\\semiclassicalC54.wav'"
      ]
     },
     "metadata": {},
     "output_type": "display_data"
    },
    {
     "name": "stderr",
     "output_type": "stream",
     "text": [
      "\r",
      " 68%|█████████████████████████████████████████████████████▎                        | 1279/1873 [05:18<02:35,  3.83it/s]"
     ]
    },
    {
     "data": {
      "text/plain": [
       "'new dataset\\\\semiclassical\\\\semiclassicalC55.wav'"
      ]
     },
     "metadata": {},
     "output_type": "display_data"
    },
    {
     "name": "stderr",
     "output_type": "stream",
     "text": [
      "\r",
      " 68%|█████████████████████████████████████████████████████▎                        | 1280/1873 [05:18<02:35,  3.82it/s]"
     ]
    },
    {
     "data": {
      "text/plain": [
       "'new dataset\\\\semiclassical\\\\semiclassicalC57.wav'"
      ]
     },
     "metadata": {},
     "output_type": "display_data"
    },
    {
     "name": "stderr",
     "output_type": "stream",
     "text": [
      "\r",
      " 68%|█████████████████████████████████████████████████████▎                        | 1281/1873 [05:19<02:29,  3.97it/s]"
     ]
    },
    {
     "data": {
      "text/plain": [
       "'new dataset\\\\semiclassical\\\\semiclassicalC58.wav'"
      ]
     },
     "metadata": {},
     "output_type": "display_data"
    },
    {
     "name": "stderr",
     "output_type": "stream",
     "text": [
      "\r",
      " 68%|█████████████████████████████████████████████████████▍                        | 1282/1873 [05:19<02:25,  4.06it/s]"
     ]
    },
    {
     "data": {
      "text/plain": [
       "'new dataset\\\\semiclassical\\\\semiclassicalC59.wav'"
      ]
     },
     "metadata": {},
     "output_type": "display_data"
    },
    {
     "name": "stderr",
     "output_type": "stream",
     "text": [
      "\r",
      " 68%|█████████████████████████████████████████████████████▍                        | 1283/1873 [05:19<02:21,  4.16it/s]"
     ]
    },
    {
     "data": {
      "text/plain": [
       "'new dataset\\\\semiclassical\\\\semiclassicalC6.wav'"
      ]
     },
     "metadata": {},
     "output_type": "display_data"
    },
    {
     "name": "stderr",
     "output_type": "stream",
     "text": [
      "\r",
      " 69%|█████████████████████████████████████████████████████▍                        | 1284/1873 [05:19<02:20,  4.18it/s]"
     ]
    },
    {
     "data": {
      "text/plain": [
       "'new dataset\\\\semiclassical\\\\semiclassicalC60.wav'"
      ]
     },
     "metadata": {},
     "output_type": "display_data"
    },
    {
     "name": "stderr",
     "output_type": "stream",
     "text": [
      "\r",
      " 69%|█████████████████████████████████████████████████████▌                        | 1285/1873 [05:20<02:23,  4.09it/s]"
     ]
    },
    {
     "data": {
      "text/plain": [
       "'new dataset\\\\semiclassical\\\\semiclassicalC61.wav'"
      ]
     },
     "metadata": {},
     "output_type": "display_data"
    },
    {
     "name": "stderr",
     "output_type": "stream",
     "text": [
      "\r",
      " 69%|█████████████████████████████████████████████████████▌                        | 1286/1873 [05:20<02:22,  4.12it/s]"
     ]
    },
    {
     "data": {
      "text/plain": [
       "'new dataset\\\\semiclassical\\\\semiclassicalC62.wav'"
      ]
     },
     "metadata": {},
     "output_type": "display_data"
    },
    {
     "name": "stderr",
     "output_type": "stream",
     "text": [
      "\r",
      " 69%|█████████████████████████████████████████████████████▌                        | 1287/1873 [05:20<02:25,  4.04it/s]"
     ]
    },
    {
     "data": {
      "text/plain": [
       "'new dataset\\\\semiclassical\\\\semiclassicalC63.wav'"
      ]
     },
     "metadata": {},
     "output_type": "display_data"
    },
    {
     "name": "stderr",
     "output_type": "stream",
     "text": [
      "\r",
      " 69%|█████████████████████████████████████████████████████▋                        | 1288/1873 [05:20<02:26,  3.99it/s]"
     ]
    },
    {
     "data": {
      "text/plain": [
       "'new dataset\\\\semiclassical\\\\semiclassicalC64.wav'"
      ]
     },
     "metadata": {},
     "output_type": "display_data"
    },
    {
     "name": "stderr",
     "output_type": "stream",
     "text": [
      "\r",
      " 69%|█████████████████████████████████████████████████████▋                        | 1289/1873 [05:21<02:22,  4.10it/s]"
     ]
    },
    {
     "data": {
      "text/plain": [
       "'new dataset\\\\semiclassical\\\\semiclassicalC65.wav'"
      ]
     },
     "metadata": {},
     "output_type": "display_data"
    },
    {
     "name": "stderr",
     "output_type": "stream",
     "text": [
      "\r",
      " 69%|█████████████████████████████████████████████████████▋                        | 1290/1873 [05:21<02:20,  4.16it/s]"
     ]
    },
    {
     "data": {
      "text/plain": [
       "'new dataset\\\\semiclassical\\\\semiclassicalC66.wav'"
      ]
     },
     "metadata": {},
     "output_type": "display_data"
    },
    {
     "name": "stderr",
     "output_type": "stream",
     "text": [
      "\r",
      " 69%|█████████████████████████████████████████████████████▊                        | 1291/1873 [05:21<02:21,  4.10it/s]"
     ]
    },
    {
     "data": {
      "text/plain": [
       "'new dataset\\\\semiclassical\\\\semiclassicalC67.wav'"
      ]
     },
     "metadata": {},
     "output_type": "display_data"
    },
    {
     "name": "stderr",
     "output_type": "stream",
     "text": [
      "\r",
      " 69%|█████████████████████████████████████████████████████▊                        | 1292/1873 [05:21<02:22,  4.09it/s]"
     ]
    },
    {
     "data": {
      "text/plain": [
       "'new dataset\\\\semiclassical\\\\semiclassicalC68.wav'"
      ]
     },
     "metadata": {},
     "output_type": "display_data"
    },
    {
     "name": "stderr",
     "output_type": "stream",
     "text": [
      "\r",
      " 69%|█████████████████████████████████████████████████████▊                        | 1293/1873 [05:22<02:20,  4.13it/s]"
     ]
    },
    {
     "data": {
      "text/plain": [
       "'new dataset\\\\semiclassical\\\\semiclassicalC69.wav'"
      ]
     },
     "metadata": {},
     "output_type": "display_data"
    },
    {
     "name": "stderr",
     "output_type": "stream",
     "text": [
      "\r",
      " 69%|█████████████████████████████████████████████████████▉                        | 1294/1873 [05:22<02:24,  4.01it/s]"
     ]
    },
    {
     "data": {
      "text/plain": [
       "'new dataset\\\\semiclassical\\\\semiclassicalC7.wav'"
      ]
     },
     "metadata": {},
     "output_type": "display_data"
    },
    {
     "name": "stderr",
     "output_type": "stream",
     "text": [
      "\r",
      " 69%|█████████████████████████████████████████████████████▉                        | 1295/1873 [05:22<02:20,  4.11it/s]"
     ]
    },
    {
     "data": {
      "text/plain": [
       "'new dataset\\\\semiclassical\\\\semiclassicalC70.wav'"
      ]
     },
     "metadata": {},
     "output_type": "display_data"
    },
    {
     "name": "stderr",
     "output_type": "stream",
     "text": [
      "\r",
      " 69%|█████████████████████████████████████████████████████▉                        | 1296/1873 [05:22<02:17,  4.19it/s]"
     ]
    },
    {
     "data": {
      "text/plain": [
       "'new dataset\\\\semiclassical\\\\semiclassicalC71.wav'"
      ]
     },
     "metadata": {},
     "output_type": "display_data"
    },
    {
     "name": "stderr",
     "output_type": "stream",
     "text": [
      "\r",
      " 69%|██████████████████████████████████████████████████████                        | 1297/1873 [05:22<02:16,  4.23it/s]"
     ]
    },
    {
     "data": {
      "text/plain": [
       "'new dataset\\\\semiclassical\\\\semiclassicalC72.wav'"
      ]
     },
     "metadata": {},
     "output_type": "display_data"
    },
    {
     "name": "stderr",
     "output_type": "stream",
     "text": [
      "\r",
      " 69%|██████████████████████████████████████████████████████                        | 1298/1873 [05:23<02:15,  4.23it/s]"
     ]
    },
    {
     "data": {
      "text/plain": [
       "'new dataset\\\\semiclassical\\\\semiclassicalC73.wav'"
      ]
     },
     "metadata": {},
     "output_type": "display_data"
    },
    {
     "name": "stderr",
     "output_type": "stream",
     "text": [
      "\r",
      " 69%|██████████████████████████████████████████████████████                        | 1299/1873 [05:23<02:25,  3.96it/s]"
     ]
    },
    {
     "data": {
      "text/plain": [
       "'new dataset\\\\semiclassical\\\\semiclassicalC74.wav'"
      ]
     },
     "metadata": {},
     "output_type": "display_data"
    },
    {
     "name": "stderr",
     "output_type": "stream",
     "text": [
      "\r",
      " 69%|██████████████████████████████████████████████████████▏                       | 1300/1873 [05:23<02:24,  3.97it/s]"
     ]
    },
    {
     "data": {
      "text/plain": [
       "'new dataset\\\\semiclassical\\\\semiclassicalC75.wav'"
      ]
     },
     "metadata": {},
     "output_type": "display_data"
    },
    {
     "name": "stderr",
     "output_type": "stream",
     "text": [
      "\r",
      " 69%|██████████████████████████████████████████████████████▏                       | 1301/1873 [05:23<02:22,  4.01it/s]"
     ]
    },
    {
     "data": {
      "text/plain": [
       "'new dataset\\\\semiclassical\\\\semiclassicalC76.wav'"
      ]
     },
     "metadata": {},
     "output_type": "display_data"
    },
    {
     "name": "stderr",
     "output_type": "stream",
     "text": [
      "\r",
      " 70%|██████████████████████████████████████████████████████▏                       | 1302/1873 [05:24<02:20,  4.07it/s]"
     ]
    },
    {
     "data": {
      "text/plain": [
       "'new dataset\\\\semiclassical\\\\semiclassicalC77.wav'"
      ]
     },
     "metadata": {},
     "output_type": "display_data"
    },
    {
     "name": "stderr",
     "output_type": "stream",
     "text": [
      "\r",
      " 70%|██████████████████████████████████████████████████████▎                       | 1303/1873 [05:24<02:18,  4.11it/s]"
     ]
    },
    {
     "data": {
      "text/plain": [
       "'new dataset\\\\semiclassical\\\\semiclassicalC78.wav'"
      ]
     },
     "metadata": {},
     "output_type": "display_data"
    },
    {
     "name": "stderr",
     "output_type": "stream",
     "text": [
      "\r",
      " 70%|██████████████████████████████████████████████████████▎                       | 1304/1873 [05:24<02:17,  4.13it/s]"
     ]
    },
    {
     "data": {
      "text/plain": [
       "'new dataset\\\\semiclassical\\\\semiclassicalC79.wav'"
      ]
     },
     "metadata": {},
     "output_type": "display_data"
    },
    {
     "name": "stderr",
     "output_type": "stream",
     "text": [
      "\r",
      " 70%|██████████████████████████████████████████████████████▎                       | 1305/1873 [05:24<02:16,  4.17it/s]"
     ]
    },
    {
     "data": {
      "text/plain": [
       "'new dataset\\\\semiclassical\\\\semiclassicalC8.wav'"
      ]
     },
     "metadata": {},
     "output_type": "display_data"
    },
    {
     "name": "stderr",
     "output_type": "stream",
     "text": [
      "\r",
      " 70%|██████████████████████████████████████████████████████▍                       | 1306/1873 [05:25<02:14,  4.21it/s]"
     ]
    },
    {
     "data": {
      "text/plain": [
       "'new dataset\\\\semiclassical\\\\semiclassicalC80.wav'"
      ]
     },
     "metadata": {},
     "output_type": "display_data"
    },
    {
     "name": "stderr",
     "output_type": "stream",
     "text": [
      "\r",
      " 70%|██████████████████████████████████████████████████████▍                       | 1307/1873 [05:25<02:14,  4.20it/s]"
     ]
    },
    {
     "data": {
      "text/plain": [
       "'new dataset\\\\semiclassical\\\\semiclassicalC81.wav'"
      ]
     },
     "metadata": {},
     "output_type": "display_data"
    },
    {
     "name": "stderr",
     "output_type": "stream",
     "text": [
      "\r",
      " 70%|██████████████████████████████████████████████████████▍                       | 1308/1873 [05:25<02:14,  4.19it/s]"
     ]
    },
    {
     "data": {
      "text/plain": [
       "'new dataset\\\\semiclassical\\\\semiclassicalC82.wav'"
      ]
     },
     "metadata": {},
     "output_type": "display_data"
    },
    {
     "name": "stderr",
     "output_type": "stream",
     "text": [
      "\r",
      " 70%|██████████████████████████████████████████████████████▌                       | 1309/1873 [05:25<02:14,  4.21it/s]"
     ]
    },
    {
     "data": {
      "text/plain": [
       "'new dataset\\\\semiclassical\\\\semiclassicalC83.wav'"
      ]
     },
     "metadata": {},
     "output_type": "display_data"
    },
    {
     "name": "stderr",
     "output_type": "stream",
     "text": [
      "\r",
      " 70%|██████████████████████████████████████████████████████▌                       | 1310/1873 [05:26<02:14,  4.19it/s]"
     ]
    },
    {
     "data": {
      "text/plain": [
       "'new dataset\\\\semiclassical\\\\semiclassicalC84.wav'"
      ]
     },
     "metadata": {},
     "output_type": "display_data"
    },
    {
     "name": "stderr",
     "output_type": "stream",
     "text": [
      "\r",
      " 70%|██████████████████████████████████████████████████████▌                       | 1311/1873 [05:26<02:18,  4.06it/s]"
     ]
    },
    {
     "data": {
      "text/plain": [
       "'new dataset\\\\semiclassical\\\\semiclassicalC85.wav'"
      ]
     },
     "metadata": {},
     "output_type": "display_data"
    },
    {
     "name": "stderr",
     "output_type": "stream",
     "text": [
      "\r",
      " 70%|██████████████████████████████████████████████████████▋                       | 1312/1873 [05:26<02:17,  4.07it/s]"
     ]
    },
    {
     "data": {
      "text/plain": [
       "'new dataset\\\\semiclassical\\\\semiclassicalC86.wav'"
      ]
     },
     "metadata": {},
     "output_type": "display_data"
    },
    {
     "name": "stderr",
     "output_type": "stream",
     "text": [
      "\r",
      " 70%|██████████████████████████████████████████████████████▋                       | 1313/1873 [05:26<02:18,  4.04it/s]"
     ]
    },
    {
     "data": {
      "text/plain": [
       "'new dataset\\\\semiclassical\\\\semiclassicalC87.wav'"
      ]
     },
     "metadata": {},
     "output_type": "display_data"
    },
    {
     "name": "stderr",
     "output_type": "stream",
     "text": [
      "\r",
      " 70%|██████████████████████████████████████████████████████▋                       | 1314/1873 [05:27<02:17,  4.06it/s]"
     ]
    },
    {
     "data": {
      "text/plain": [
       "'new dataset\\\\semiclassical\\\\semiclassicalC88.wav'"
      ]
     },
     "metadata": {},
     "output_type": "display_data"
    },
    {
     "name": "stderr",
     "output_type": "stream",
     "text": [
      "\r",
      " 70%|██████████████████████████████████████████████████████▊                       | 1315/1873 [05:27<02:16,  4.08it/s]"
     ]
    },
    {
     "data": {
      "text/plain": [
       "'new dataset\\\\semiclassical\\\\semiclassicalC9.wav'"
      ]
     },
     "metadata": {},
     "output_type": "display_data"
    },
    {
     "name": "stderr",
     "output_type": "stream",
     "text": [
      "\r",
      " 70%|██████████████████████████████████████████████████████▊                       | 1316/1873 [05:27<02:16,  4.07it/s]"
     ]
    },
    {
     "data": {
      "text/plain": [
       "'new dataset\\\\semiclassical\\\\semiclassicalC90.wav'"
      ]
     },
     "metadata": {},
     "output_type": "display_data"
    },
    {
     "name": "stderr",
     "output_type": "stream",
     "text": [
      "\r",
      " 70%|██████████████████████████████████████████████████████▊                       | 1317/1873 [05:27<02:15,  4.10it/s]"
     ]
    },
    {
     "data": {
      "text/plain": [
       "'new dataset\\\\semiclassical\\\\semiclassicalC91.wav'"
      ]
     },
     "metadata": {},
     "output_type": "display_data"
    },
    {
     "name": "stderr",
     "output_type": "stream",
     "text": [
      "\r",
      " 70%|██████████████████████████████████████████████████████▉                       | 1318/1873 [05:28<02:17,  4.03it/s]"
     ]
    },
    {
     "data": {
      "text/plain": [
       "'new dataset\\\\semiclassical\\\\semiclassicalC92.wav'"
      ]
     },
     "metadata": {},
     "output_type": "display_data"
    },
    {
     "name": "stderr",
     "output_type": "stream",
     "text": [
      "\r",
      " 70%|██████████████████████████████████████████████████████▉                       | 1319/1873 [05:28<02:13,  4.15it/s]"
     ]
    },
    {
     "data": {
      "text/plain": [
       "'new dataset\\\\semiclassical\\\\semiclassicalC93.wav'"
      ]
     },
     "metadata": {},
     "output_type": "display_data"
    },
    {
     "name": "stderr",
     "output_type": "stream",
     "text": [
      "\r",
      " 70%|██████████████████████████████████████████████████████▉                       | 1320/1873 [05:28<02:12,  4.18it/s]"
     ]
    },
    {
     "data": {
      "text/plain": [
       "'new dataset\\\\semiclassical\\\\semiclassicalC94.wav'"
      ]
     },
     "metadata": {},
     "output_type": "display_data"
    },
    {
     "name": "stderr",
     "output_type": "stream",
     "text": [
      "\r",
      " 71%|███████████████████████████████████████████████████████                       | 1321/1873 [05:28<02:14,  4.10it/s]"
     ]
    },
    {
     "data": {
      "text/plain": [
       "'new dataset\\\\semiclassical\\\\semiclassicalC95.wav'"
      ]
     },
     "metadata": {},
     "output_type": "display_data"
    },
    {
     "name": "stderr",
     "output_type": "stream",
     "text": [
      "\r",
      " 71%|███████████████████████████████████████████████████████                       | 1322/1873 [05:29<02:22,  3.85it/s]"
     ]
    },
    {
     "data": {
      "text/plain": [
       "'new dataset\\\\semiclassical\\\\semiclassicalC96.wav'"
      ]
     },
     "metadata": {},
     "output_type": "display_data"
    },
    {
     "name": "stderr",
     "output_type": "stream",
     "text": [
      "\r",
      " 71%|███████████████████████████████████████████████████████                       | 1323/1873 [05:29<02:20,  3.92it/s]"
     ]
    },
    {
     "data": {
      "text/plain": [
       "'new dataset\\\\semiclassical\\\\semiclassicalC97.wav'"
      ]
     },
     "metadata": {},
     "output_type": "display_data"
    },
    {
     "name": "stderr",
     "output_type": "stream",
     "text": [
      "\r",
      " 71%|███████████████████████████████████████████████████████▏                      | 1324/1873 [05:29<02:17,  4.00it/s]"
     ]
    },
    {
     "data": {
      "text/plain": [
       "'new dataset\\\\semiclassical\\\\semiclassicalC99.wav'"
      ]
     },
     "metadata": {},
     "output_type": "display_data"
    },
    {
     "name": "stderr",
     "output_type": "stream",
     "text": [
      "\r",
      " 71%|███████████████████████████████████████████████████████▏                      | 1325/1873 [05:29<02:24,  3.80it/s]"
     ]
    },
    {
     "data": {
      "text/plain": [
       "'new dataset\\\\semiclassical\\\\semiclassicalD1.wav'"
      ]
     },
     "metadata": {},
     "output_type": "display_data"
    },
    {
     "name": "stderr",
     "output_type": "stream",
     "text": [
      "\r",
      " 71%|███████████████████████████████████████████████████████▏                      | 1326/1873 [05:30<02:19,  3.92it/s]"
     ]
    },
    {
     "data": {
      "text/plain": [
       "'new dataset\\\\semiclassical\\\\semiclassicalD2.wav'"
      ]
     },
     "metadata": {},
     "output_type": "display_data"
    },
    {
     "name": "stderr",
     "output_type": "stream",
     "text": [
      "\r",
      " 71%|███████████████████████████████████████████████████████▎                      | 1327/1873 [05:30<02:17,  3.97it/s]"
     ]
    },
    {
     "data": {
      "text/plain": [
       "'new dataset\\\\semiclassical\\\\semiclassicalD3.wav'"
      ]
     },
     "metadata": {},
     "output_type": "display_data"
    },
    {
     "name": "stderr",
     "output_type": "stream",
     "text": [
      "\r",
      " 71%|███████████████████████████████████████████████████████▎                      | 1328/1873 [05:30<02:14,  4.05it/s]"
     ]
    },
    {
     "data": {
      "text/plain": [
       "'new dataset\\\\semiclassical\\\\semiclassicalD4.wav'"
      ]
     },
     "metadata": {},
     "output_type": "display_data"
    },
    {
     "name": "stderr",
     "output_type": "stream",
     "text": [
      "\r",
      " 71%|███████████████████████████████████████████████████████▎                      | 1329/1873 [05:30<02:13,  4.09it/s]"
     ]
    },
    {
     "data": {
      "text/plain": [
       "'new dataset\\\\semiclassical\\\\semiclassicalD5.wav'"
      ]
     },
     "metadata": {},
     "output_type": "display_data"
    },
    {
     "name": "stderr",
     "output_type": "stream",
     "text": [
      "\r",
      " 71%|███████████████████████████████████████████████████████▍                      | 1330/1873 [05:31<02:10,  4.15it/s]"
     ]
    },
    {
     "data": {
      "text/plain": [
       "'new dataset\\\\semiclassical\\\\semiclassicalD6.wav'"
      ]
     },
     "metadata": {},
     "output_type": "display_data"
    },
    {
     "name": "stderr",
     "output_type": "stream",
     "text": [
      "\r",
      " 71%|███████████████████████████████████████████████████████▍                      | 1331/1873 [05:31<02:11,  4.13it/s]"
     ]
    },
    {
     "data": {
      "text/plain": [
       "'new dataset\\\\semiclassical\\\\semiclassicalD7.wav'"
      ]
     },
     "metadata": {},
     "output_type": "display_data"
    },
    {
     "name": "stderr",
     "output_type": "stream",
     "text": [
      "\r",
      " 71%|███████████████████████████████████████████████████████▍                      | 1332/1873 [05:31<02:11,  4.11it/s]"
     ]
    },
    {
     "data": {
      "text/plain": [
       "'new dataset\\\\semiclassical\\\\SemiclassicalD8.wav'"
      ]
     },
     "metadata": {},
     "output_type": "display_data"
    },
    {
     "name": "stderr",
     "output_type": "stream",
     "text": [
      "\r",
      " 71%|███████████████████████████████████████████████████████▌                      | 1333/1873 [05:31<02:11,  4.11it/s]"
     ]
    },
    {
     "data": {
      "text/plain": [
       "'new dataset\\\\semiclassical\\\\semiclassicalE1.wav'"
      ]
     },
     "metadata": {},
     "output_type": "display_data"
    },
    {
     "name": "stderr",
     "output_type": "stream",
     "text": [
      "\r",
      " 71%|███████████████████████████████████████████████████████▌                      | 1334/1873 [05:32<02:09,  4.15it/s]"
     ]
    },
    {
     "data": {
      "text/plain": [
       "'new dataset\\\\semiclassical\\\\semiclassicalE10.wav'"
      ]
     },
     "metadata": {},
     "output_type": "display_data"
    },
    {
     "name": "stderr",
     "output_type": "stream",
     "text": [
      "\r",
      " 71%|███████████████████████████████████████████████████████▌                      | 1335/1873 [05:32<02:07,  4.20it/s]"
     ]
    },
    {
     "data": {
      "text/plain": [
       "'new dataset\\\\semiclassical\\\\semiclassicalE12.wav'"
      ]
     },
     "metadata": {},
     "output_type": "display_data"
    },
    {
     "name": "stderr",
     "output_type": "stream",
     "text": [
      "\r",
      " 71%|███████████████████████████████████████████████████████▋                      | 1336/1873 [05:32<02:08,  4.18it/s]"
     ]
    },
    {
     "data": {
      "text/plain": [
       "'new dataset\\\\semiclassical\\\\semiclassicalE13.wav'"
      ]
     },
     "metadata": {},
     "output_type": "display_data"
    },
    {
     "name": "stderr",
     "output_type": "stream",
     "text": [
      "\r",
      " 71%|███████████████████████████████████████████████████████▋                      | 1337/1873 [05:32<02:10,  4.11it/s]"
     ]
    },
    {
     "data": {
      "text/plain": [
       "'new dataset\\\\semiclassical\\\\semiclassicalE14.wav'"
      ]
     },
     "metadata": {},
     "output_type": "display_data"
    },
    {
     "name": "stderr",
     "output_type": "stream",
     "text": [
      "\r",
      " 71%|███████████████████████████████████████████████████████▋                      | 1338/1873 [05:33<02:08,  4.17it/s]"
     ]
    },
    {
     "data": {
      "text/plain": [
       "'new dataset\\\\semiclassical\\\\semiclassicalE15.wav'"
      ]
     },
     "metadata": {},
     "output_type": "display_data"
    },
    {
     "name": "stderr",
     "output_type": "stream",
     "text": [
      "\r",
      " 71%|███████████████████████████████████████████████████████▊                      | 1339/1873 [05:33<02:06,  4.22it/s]"
     ]
    },
    {
     "data": {
      "text/plain": [
       "'new dataset\\\\semiclassical\\\\semiclassicalE16.wav'"
      ]
     },
     "metadata": {},
     "output_type": "display_data"
    },
    {
     "name": "stderr",
     "output_type": "stream",
     "text": [
      "\r",
      " 72%|███████████████████████████████████████████████████████▊                      | 1340/1873 [05:33<02:06,  4.20it/s]"
     ]
    },
    {
     "data": {
      "text/plain": [
       "'new dataset\\\\semiclassical\\\\semiclassicalE17.wav'"
      ]
     },
     "metadata": {},
     "output_type": "display_data"
    },
    {
     "name": "stderr",
     "output_type": "stream",
     "text": [
      "\r",
      " 72%|███████████████████████████████████████████████████████▊                      | 1341/1873 [05:33<02:09,  4.10it/s]"
     ]
    },
    {
     "data": {
      "text/plain": [
       "'new dataset\\\\semiclassical\\\\semiclassicalE18.wav'"
      ]
     },
     "metadata": {},
     "output_type": "display_data"
    },
    {
     "name": "stderr",
     "output_type": "stream",
     "text": [
      "\r",
      " 72%|███████████████████████████████████████████████████████▉                      | 1342/1873 [05:33<02:07,  4.15it/s]"
     ]
    },
    {
     "data": {
      "text/plain": [
       "'new dataset\\\\semiclassical\\\\semiclassicalE19.wav'"
      ]
     },
     "metadata": {},
     "output_type": "display_data"
    },
    {
     "name": "stderr",
     "output_type": "stream",
     "text": [
      "\r",
      " 72%|███████████████████████████████████████████████████████▉                      | 1343/1873 [05:34<02:06,  4.20it/s]"
     ]
    },
    {
     "data": {
      "text/plain": [
       "'new dataset\\\\semiclassical\\\\semiclassicalE2.wav'"
      ]
     },
     "metadata": {},
     "output_type": "display_data"
    },
    {
     "name": "stderr",
     "output_type": "stream",
     "text": [
      "\r",
      " 72%|███████████████████████████████████████████████████████▉                      | 1344/1873 [05:34<02:06,  4.18it/s]"
     ]
    },
    {
     "data": {
      "text/plain": [
       "'new dataset\\\\semiclassical\\\\semiclassicalE20.wav'"
      ]
     },
     "metadata": {},
     "output_type": "display_data"
    },
    {
     "name": "stderr",
     "output_type": "stream",
     "text": [
      "\r",
      " 72%|████████████████████████████████████████████████████████                      | 1345/1873 [05:34<02:09,  4.07it/s]"
     ]
    },
    {
     "data": {
      "text/plain": [
       "'new dataset\\\\semiclassical\\\\semiclassicalE21.wav'"
      ]
     },
     "metadata": {},
     "output_type": "display_data"
    },
    {
     "name": "stderr",
     "output_type": "stream",
     "text": [
      "\r",
      " 72%|████████████████████████████████████████████████████████                      | 1346/1873 [05:34<02:07,  4.14it/s]"
     ]
    },
    {
     "data": {
      "text/plain": [
       "'new dataset\\\\semiclassical\\\\semiclassicalE23.wav'"
      ]
     },
     "metadata": {},
     "output_type": "display_data"
    },
    {
     "name": "stderr",
     "output_type": "stream",
     "text": [
      "\r",
      " 72%|████████████████████████████████████████████████████████                      | 1347/1873 [05:35<02:04,  4.21it/s]"
     ]
    },
    {
     "data": {
      "text/plain": [
       "'new dataset\\\\semiclassical\\\\semiclassicalE24.wav'"
      ]
     },
     "metadata": {},
     "output_type": "display_data"
    },
    {
     "name": "stderr",
     "output_type": "stream",
     "text": [
      "\r",
      " 72%|████████████████████████████████████████████████████████▏                     | 1348/1873 [05:35<02:06,  4.15it/s]"
     ]
    },
    {
     "data": {
      "text/plain": [
       "'new dataset\\\\semiclassical\\\\semiclassicalE25.wav'"
      ]
     },
     "metadata": {},
     "output_type": "display_data"
    },
    {
     "name": "stderr",
     "output_type": "stream",
     "text": [
      "\r",
      " 72%|████████████████████████████████████████████████████████▏                     | 1349/1873 [05:35<02:05,  4.19it/s]"
     ]
    },
    {
     "data": {
      "text/plain": [
       "'new dataset\\\\semiclassical\\\\semiclassicalE26.wav'"
      ]
     },
     "metadata": {},
     "output_type": "display_data"
    },
    {
     "name": "stderr",
     "output_type": "stream",
     "text": [
      "\r",
      " 72%|████████████████████████████████████████████████████████▏                     | 1350/1873 [05:35<02:05,  4.16it/s]"
     ]
    },
    {
     "data": {
      "text/plain": [
       "'new dataset\\\\semiclassical\\\\semiclassicalE27.wav'"
      ]
     },
     "metadata": {},
     "output_type": "display_data"
    },
    {
     "name": "stderr",
     "output_type": "stream",
     "text": [
      "\r",
      " 72%|████████████████████████████████████████████████████████▎                     | 1351/1873 [05:36<02:04,  4.18it/s]"
     ]
    },
    {
     "data": {
      "text/plain": [
       "'new dataset\\\\semiclassical\\\\semiclassicalE28.wav'"
      ]
     },
     "metadata": {},
     "output_type": "display_data"
    },
    {
     "name": "stderr",
     "output_type": "stream",
     "text": [
      "\r",
      " 72%|████████████████████████████████████████████████████████▎                     | 1352/1873 [05:36<02:04,  4.20it/s]"
     ]
    },
    {
     "data": {
      "text/plain": [
       "'new dataset\\\\semiclassical\\\\semiclassicalE29.wav'"
      ]
     },
     "metadata": {},
     "output_type": "display_data"
    },
    {
     "name": "stderr",
     "output_type": "stream",
     "text": [
      "\r",
      " 72%|████████████████████████████████████████████████████████▎                     | 1353/1873 [05:36<02:02,  4.24it/s]"
     ]
    },
    {
     "data": {
      "text/plain": [
       "'new dataset\\\\semiclassical\\\\semiclassicalE3.wav'"
      ]
     },
     "metadata": {},
     "output_type": "display_data"
    },
    {
     "name": "stderr",
     "output_type": "stream",
     "text": [
      "\r",
      " 72%|████████████████████████████████████████████████████████▍                     | 1354/1873 [05:36<02:02,  4.25it/s]"
     ]
    },
    {
     "data": {
      "text/plain": [
       "'new dataset\\\\semiclassical\\\\semiclassicalE30.wav'"
      ]
     },
     "metadata": {},
     "output_type": "display_data"
    },
    {
     "name": "stderr",
     "output_type": "stream",
     "text": [
      "\r",
      " 72%|████████████████████████████████████████████████████████▍                     | 1355/1873 [05:37<02:07,  4.06it/s]"
     ]
    },
    {
     "data": {
      "text/plain": [
       "'new dataset\\\\semiclassical\\\\semiclassicalE31.wav'"
      ]
     },
     "metadata": {},
     "output_type": "display_data"
    },
    {
     "name": "stderr",
     "output_type": "stream",
     "text": [
      "\r",
      " 72%|████████████████████████████████████████████████████████▍                     | 1356/1873 [05:37<02:05,  4.12it/s]"
     ]
    },
    {
     "data": {
      "text/plain": [
       "'new dataset\\\\semiclassical\\\\semiclassicalE32.wav'"
      ]
     },
     "metadata": {},
     "output_type": "display_data"
    },
    {
     "name": "stderr",
     "output_type": "stream",
     "text": [
      "\r",
      " 72%|████████████████████████████████████████████████████████▌                     | 1357/1873 [05:37<02:05,  4.12it/s]"
     ]
    },
    {
     "data": {
      "text/plain": [
       "'new dataset\\\\semiclassical\\\\semiclassicalE33.wav'"
      ]
     },
     "metadata": {},
     "output_type": "display_data"
    },
    {
     "name": "stderr",
     "output_type": "stream",
     "text": [
      "\r",
      " 73%|████████████████████████████████████████████████████████▌                     | 1358/1873 [05:37<02:04,  4.13it/s]"
     ]
    },
    {
     "data": {
      "text/plain": [
       "'new dataset\\\\semiclassical\\\\semiclassicalE34.wav'"
      ]
     },
     "metadata": {},
     "output_type": "display_data"
    },
    {
     "name": "stderr",
     "output_type": "stream",
     "text": [
      "\r",
      " 73%|████████████████████████████████████████████████████████▌                     | 1359/1873 [05:38<02:04,  4.12it/s]"
     ]
    },
    {
     "data": {
      "text/plain": [
       "'new dataset\\\\semiclassical\\\\semiclassicalE36.wav'"
      ]
     },
     "metadata": {},
     "output_type": "display_data"
    },
    {
     "name": "stderr",
     "output_type": "stream",
     "text": [
      "\r",
      " 73%|████████████████████████████████████████████████████████▋                     | 1360/1873 [05:38<02:03,  4.14it/s]"
     ]
    },
    {
     "data": {
      "text/plain": [
       "'new dataset\\\\semiclassical\\\\semiclassicalE37.wav'"
      ]
     },
     "metadata": {},
     "output_type": "display_data"
    },
    {
     "name": "stderr",
     "output_type": "stream",
     "text": [
      "\r",
      " 73%|████████████████████████████████████████████████████████▋                     | 1361/1873 [05:38<02:03,  4.16it/s]"
     ]
    },
    {
     "data": {
      "text/plain": [
       "'new dataset\\\\semiclassical\\\\semiclassicalE38.wav'"
      ]
     },
     "metadata": {},
     "output_type": "display_data"
    },
    {
     "name": "stderr",
     "output_type": "stream",
     "text": [
      "\r",
      " 73%|████████████████████████████████████████████████████████▋                     | 1362/1873 [05:38<02:02,  4.18it/s]"
     ]
    },
    {
     "data": {
      "text/plain": [
       "'new dataset\\\\semiclassical\\\\semiclassicalE39.wav'"
      ]
     },
     "metadata": {},
     "output_type": "display_data"
    },
    {
     "name": "stderr",
     "output_type": "stream",
     "text": [
      "\r",
      " 73%|████████████████████████████████████████████████████████▊                     | 1363/1873 [05:39<02:01,  4.19it/s]"
     ]
    },
    {
     "data": {
      "text/plain": [
       "'new dataset\\\\semiclassical\\\\semiclassicalE4.wav'"
      ]
     },
     "metadata": {},
     "output_type": "display_data"
    },
    {
     "name": "stderr",
     "output_type": "stream",
     "text": [
      "\r",
      " 73%|████████████████████████████████████████████████████████▊                     | 1364/1873 [05:39<02:04,  4.08it/s]"
     ]
    },
    {
     "data": {
      "text/plain": [
       "'new dataset\\\\semiclassical\\\\semiclassicalE40.wav'"
      ]
     },
     "metadata": {},
     "output_type": "display_data"
    },
    {
     "name": "stderr",
     "output_type": "stream",
     "text": [
      "\r",
      " 73%|████████████████████████████████████████████████████████▊                     | 1365/1873 [05:39<02:01,  4.17it/s]"
     ]
    },
    {
     "data": {
      "text/plain": [
       "'new dataset\\\\semiclassical\\\\semiclassicalE43.wav'"
      ]
     },
     "metadata": {},
     "output_type": "display_data"
    },
    {
     "name": "stderr",
     "output_type": "stream",
     "text": [
      "\r",
      " 73%|████████████████████████████████████████████████████████▉                     | 1366/1873 [05:39<02:01,  4.19it/s]"
     ]
    },
    {
     "data": {
      "text/plain": [
       "'new dataset\\\\semiclassical\\\\semiclassicalE44.wav'"
      ]
     },
     "metadata": {},
     "output_type": "display_data"
    },
    {
     "name": "stderr",
     "output_type": "stream",
     "text": [
      "\r",
      " 73%|████████████████████████████████████████████████████████▉                     | 1367/1873 [05:39<02:00,  4.21it/s]"
     ]
    },
    {
     "data": {
      "text/plain": [
       "'new dataset\\\\semiclassical\\\\semiclassicalE45.wav'"
      ]
     },
     "metadata": {},
     "output_type": "display_data"
    },
    {
     "name": "stderr",
     "output_type": "stream",
     "text": [
      "\r",
      " 73%|████████████████████████████████████████████████████████▉                     | 1368/1873 [05:40<02:00,  4.21it/s]"
     ]
    },
    {
     "data": {
      "text/plain": [
       "'new dataset\\\\semiclassical\\\\semiclassicalE46.wav'"
      ]
     },
     "metadata": {},
     "output_type": "display_data"
    },
    {
     "name": "stderr",
     "output_type": "stream",
     "text": [
      "\r",
      " 73%|█████████████████████████████████████████████████████████                     | 1369/1873 [05:40<02:01,  4.14it/s]"
     ]
    },
    {
     "data": {
      "text/plain": [
       "'new dataset\\\\semiclassical\\\\semiclassicalE47.wav'"
      ]
     },
     "metadata": {},
     "output_type": "display_data"
    },
    {
     "name": "stderr",
     "output_type": "stream",
     "text": [
      "\r",
      " 73%|█████████████████████████████████████████████████████████                     | 1370/1873 [05:40<02:00,  4.18it/s]"
     ]
    },
    {
     "data": {
      "text/plain": [
       "'new dataset\\\\semiclassical\\\\semiclassicalE48.wav'"
      ]
     },
     "metadata": {},
     "output_type": "display_data"
    },
    {
     "name": "stderr",
     "output_type": "stream",
     "text": [
      "\r",
      " 73%|█████████████████████████████████████████████████████████                     | 1371/1873 [05:40<02:00,  4.17it/s]"
     ]
    },
    {
     "data": {
      "text/plain": [
       "'new dataset\\\\semiclassical\\\\semiclassicalE49.wav'"
      ]
     },
     "metadata": {},
     "output_type": "display_data"
    },
    {
     "name": "stderr",
     "output_type": "stream",
     "text": [
      "\r",
      " 73%|█████████████████████████████████████████████████████████▏                    | 1372/1873 [05:41<01:58,  4.21it/s]"
     ]
    },
    {
     "data": {
      "text/plain": [
       "'new dataset\\\\semiclassical\\\\semiclassicalE5.wav'"
      ]
     },
     "metadata": {},
     "output_type": "display_data"
    },
    {
     "name": "stderr",
     "output_type": "stream",
     "text": [
      "\r",
      " 73%|█████████████████████████████████████████████████████████▏                    | 1373/1873 [05:41<01:58,  4.24it/s]"
     ]
    },
    {
     "data": {
      "text/plain": [
       "'new dataset\\\\semiclassical\\\\semiclassicalE50.wav'"
      ]
     },
     "metadata": {},
     "output_type": "display_data"
    },
    {
     "name": "stderr",
     "output_type": "stream",
     "text": [
      "\r",
      " 73%|█████████████████████████████████████████████████████████▏                    | 1374/1873 [05:41<01:59,  4.18it/s]"
     ]
    },
    {
     "data": {
      "text/plain": [
       "'new dataset\\\\semiclassical\\\\semiclassicalE51.wav'"
      ]
     },
     "metadata": {},
     "output_type": "display_data"
    },
    {
     "name": "stderr",
     "output_type": "stream",
     "text": [
      "\r",
      " 73%|█████████████████████████████████████████████████████████▎                    | 1375/1873 [05:41<01:59,  4.16it/s]"
     ]
    },
    {
     "data": {
      "text/plain": [
       "'new dataset\\\\semiclassical\\\\semiclassicalE52.wav'"
      ]
     },
     "metadata": {},
     "output_type": "display_data"
    },
    {
     "name": "stderr",
     "output_type": "stream",
     "text": [
      "\r",
      " 73%|█████████████████████████████████████████████████████████▎                    | 1376/1873 [05:42<02:00,  4.12it/s]"
     ]
    },
    {
     "data": {
      "text/plain": [
       "'new dataset\\\\semiclassical\\\\semiclassicalE53.wav'"
      ]
     },
     "metadata": {},
     "output_type": "display_data"
    },
    {
     "name": "stderr",
     "output_type": "stream",
     "text": [
      "\r",
      " 74%|█████████████████████████████████████████████████████████▎                    | 1377/1873 [05:42<02:00,  4.10it/s]"
     ]
    },
    {
     "data": {
      "text/plain": [
       "'new dataset\\\\semiclassical\\\\semiclassicalE54.wav'"
      ]
     },
     "metadata": {},
     "output_type": "display_data"
    },
    {
     "name": "stderr",
     "output_type": "stream",
     "text": [
      "\r",
      " 74%|█████████████████████████████████████████████████████████▍                    | 1378/1873 [05:42<02:00,  4.09it/s]"
     ]
    },
    {
     "data": {
      "text/plain": [
       "'new dataset\\\\semiclassical\\\\semiclassicalE55.wav'"
      ]
     },
     "metadata": {},
     "output_type": "display_data"
    },
    {
     "name": "stderr",
     "output_type": "stream",
     "text": [
      "\r",
      " 74%|█████████████████████████████████████████████████████████▍                    | 1379/1873 [05:42<02:01,  4.07it/s]"
     ]
    },
    {
     "data": {
      "text/plain": [
       "'new dataset\\\\semiclassical\\\\semiclassicalE56.wav'"
      ]
     },
     "metadata": {},
     "output_type": "display_data"
    },
    {
     "name": "stderr",
     "output_type": "stream",
     "text": [
      "\r",
      " 74%|█████████████████████████████████████████████████████████▍                    | 1380/1873 [05:43<01:58,  4.15it/s]"
     ]
    },
    {
     "data": {
      "text/plain": [
       "'new dataset\\\\semiclassical\\\\semiclassicalE57.wav'"
      ]
     },
     "metadata": {},
     "output_type": "display_data"
    },
    {
     "name": "stderr",
     "output_type": "stream",
     "text": [
      "\r",
      " 74%|█████████████████████████████████████████████████████████▌                    | 1381/1873 [05:43<01:58,  4.15it/s]"
     ]
    },
    {
     "data": {
      "text/plain": [
       "'new dataset\\\\semiclassical\\\\semiclassicalE58.wav'"
      ]
     },
     "metadata": {},
     "output_type": "display_data"
    },
    {
     "name": "stderr",
     "output_type": "stream",
     "text": [
      "\r",
      " 74%|█████████████████████████████████████████████████████████▌                    | 1382/1873 [05:43<02:04,  3.95it/s]"
     ]
    },
    {
     "data": {
      "text/plain": [
       "'new dataset\\\\semiclassical\\\\semiclassicalE59.wav'"
      ]
     },
     "metadata": {},
     "output_type": "display_data"
    },
    {
     "name": "stderr",
     "output_type": "stream",
     "text": [
      "\r",
      " 74%|█████████████████████████████████████████████████████████▌                    | 1383/1873 [05:43<02:03,  3.96it/s]"
     ]
    },
    {
     "data": {
      "text/plain": [
       "'new dataset\\\\semiclassical\\\\semiclassicalE6.wav'"
      ]
     },
     "metadata": {},
     "output_type": "display_data"
    },
    {
     "name": "stderr",
     "output_type": "stream",
     "text": [
      "\r",
      " 74%|█████████████████████████████████████████████████████████▋                    | 1384/1873 [05:44<02:00,  4.04it/s]"
     ]
    },
    {
     "data": {
      "text/plain": [
       "'new dataset\\\\semiclassical\\\\semiclassicalE60.wav'"
      ]
     },
     "metadata": {},
     "output_type": "display_data"
    },
    {
     "name": "stderr",
     "output_type": "stream",
     "text": [
      "\r",
      " 74%|█████████████████████████████████████████████████████████▋                    | 1385/1873 [05:44<01:59,  4.09it/s]"
     ]
    },
    {
     "data": {
      "text/plain": [
       "'new dataset\\\\semiclassical\\\\semiclassicalE61.wav'"
      ]
     },
     "metadata": {},
     "output_type": "display_data"
    },
    {
     "name": "stderr",
     "output_type": "stream",
     "text": [
      "\r",
      " 74%|█████████████████████████████████████████████████████████▋                    | 1386/1873 [05:44<01:59,  4.07it/s]"
     ]
    },
    {
     "data": {
      "text/plain": [
       "'new dataset\\\\semiclassical\\\\semiclassicalE62.wav'"
      ]
     },
     "metadata": {},
     "output_type": "display_data"
    },
    {
     "name": "stderr",
     "output_type": "stream",
     "text": [
      "\r",
      " 74%|█████████████████████████████████████████████████████████▊                    | 1387/1873 [05:44<02:00,  4.03it/s]"
     ]
    },
    {
     "data": {
      "text/plain": [
       "'new dataset\\\\semiclassical\\\\semiclassicalE63.wav'"
      ]
     },
     "metadata": {},
     "output_type": "display_data"
    },
    {
     "name": "stderr",
     "output_type": "stream",
     "text": [
      "\r",
      " 74%|█████████████████████████████████████████████████████████▊                    | 1388/1873 [05:45<01:59,  4.07it/s]"
     ]
    },
    {
     "data": {
      "text/plain": [
       "'new dataset\\\\semiclassical\\\\semiclassicalE64.wav'"
      ]
     },
     "metadata": {},
     "output_type": "display_data"
    },
    {
     "name": "stderr",
     "output_type": "stream",
     "text": [
      "\r",
      " 74%|█████████████████████████████████████████████████████████▊                    | 1389/1873 [05:45<01:58,  4.09it/s]"
     ]
    },
    {
     "data": {
      "text/plain": [
       "'new dataset\\\\semiclassical\\\\semiclassicalE65.wav'"
      ]
     },
     "metadata": {},
     "output_type": "display_data"
    },
    {
     "name": "stderr",
     "output_type": "stream",
     "text": [
      "\r",
      " 74%|█████████████████████████████████████████████████████████▉                    | 1390/1873 [05:45<01:56,  4.14it/s]"
     ]
    },
    {
     "data": {
      "text/plain": [
       "'new dataset\\\\semiclassical\\\\semiclassicalE66.wav'"
      ]
     },
     "metadata": {},
     "output_type": "display_data"
    },
    {
     "name": "stderr",
     "output_type": "stream",
     "text": [
      "\r",
      " 74%|█████████████████████████████████████████████████████████▉                    | 1391/1873 [05:45<01:55,  4.16it/s]"
     ]
    },
    {
     "data": {
      "text/plain": [
       "'new dataset\\\\semiclassical\\\\semiclassicalE67.wav'"
      ]
     },
     "metadata": {},
     "output_type": "display_data"
    },
    {
     "name": "stderr",
     "output_type": "stream",
     "text": [
      "\r",
      " 74%|█████████████████████████████████████████████████████████▉                    | 1392/1873 [05:46<02:00,  4.00it/s]"
     ]
    },
    {
     "data": {
      "text/plain": [
       "'new dataset\\\\semiclassical\\\\semiclassicalE68.wav'"
      ]
     },
     "metadata": {},
     "output_type": "display_data"
    },
    {
     "name": "stderr",
     "output_type": "stream",
     "text": [
      "\r",
      " 74%|██████████████████████████████████████████████████████████                    | 1393/1873 [05:46<01:58,  4.07it/s]"
     ]
    },
    {
     "data": {
      "text/plain": [
       "'new dataset\\\\semiclassical\\\\semiclassicalE69.wav'"
      ]
     },
     "metadata": {},
     "output_type": "display_data"
    },
    {
     "name": "stderr",
     "output_type": "stream",
     "text": [
      "\r",
      " 74%|██████████████████████████████████████████████████████████                    | 1394/1873 [05:46<01:57,  4.08it/s]"
     ]
    },
    {
     "data": {
      "text/plain": [
       "'new dataset\\\\semiclassical\\\\semiclassicalE7.wav'"
      ]
     },
     "metadata": {},
     "output_type": "display_data"
    },
    {
     "name": "stderr",
     "output_type": "stream",
     "text": [
      "\r",
      " 74%|██████████████████████████████████████████████████████████                    | 1395/1873 [05:46<01:54,  4.17it/s]"
     ]
    },
    {
     "data": {
      "text/plain": [
       "'new dataset\\\\semiclassical\\\\semiclassicalE70.wav'"
      ]
     },
     "metadata": {},
     "output_type": "display_data"
    },
    {
     "name": "stderr",
     "output_type": "stream",
     "text": [
      "\r",
      " 75%|██████████████████████████████████████████████████████████▏                   | 1396/1873 [05:47<01:53,  4.18it/s]"
     ]
    },
    {
     "data": {
      "text/plain": [
       "'new dataset\\\\semiclassical\\\\semiclassicalE73.wav'"
      ]
     },
     "metadata": {},
     "output_type": "display_data"
    },
    {
     "name": "stderr",
     "output_type": "stream",
     "text": [
      "\r",
      " 75%|██████████████████████████████████████████████████████████▏                   | 1397/1873 [05:47<01:54,  4.15it/s]"
     ]
    },
    {
     "data": {
      "text/plain": [
       "'new dataset\\\\semiclassical\\\\semiclassicalE74.wav'"
      ]
     },
     "metadata": {},
     "output_type": "display_data"
    },
    {
     "name": "stderr",
     "output_type": "stream",
     "text": [
      "\r",
      " 75%|██████████████████████████████████████████████████████████▏                   | 1398/1873 [05:47<01:52,  4.23it/s]"
     ]
    },
    {
     "data": {
      "text/plain": [
       "'new dataset\\\\semiclassical\\\\semiclassicalE75.wav'"
      ]
     },
     "metadata": {},
     "output_type": "display_data"
    },
    {
     "name": "stderr",
     "output_type": "stream",
     "text": [
      "\r",
      " 75%|██████████████████████████████████████████████████████████▎                   | 1399/1873 [05:47<01:51,  4.24it/s]"
     ]
    },
    {
     "data": {
      "text/plain": [
       "'new dataset\\\\semiclassical\\\\semiclassicalE76.wav'"
      ]
     },
     "metadata": {},
     "output_type": "display_data"
    },
    {
     "name": "stderr",
     "output_type": "stream",
     "text": [
      "\r",
      " 75%|██████████████████████████████████████████████████████████▎                   | 1400/1873 [05:47<01:52,  4.21it/s]"
     ]
    },
    {
     "data": {
      "text/plain": [
       "'new dataset\\\\semiclassical\\\\semiclassicalE77.wav'"
      ]
     },
     "metadata": {},
     "output_type": "display_data"
    },
    {
     "name": "stderr",
     "output_type": "stream",
     "text": [
      "\r",
      " 75%|██████████████████████████████████████████████████████████▎                   | 1401/1873 [05:48<01:52,  4.19it/s]"
     ]
    },
    {
     "data": {
      "text/plain": [
       "'new dataset\\\\semiclassical\\\\semiclassicalE78.wav'"
      ]
     },
     "metadata": {},
     "output_type": "display_data"
    },
    {
     "name": "stderr",
     "output_type": "stream",
     "text": [
      "\r",
      " 75%|██████████████████████████████████████████████████████████▍                   | 1402/1873 [05:48<01:55,  4.07it/s]"
     ]
    },
    {
     "data": {
      "text/plain": [
       "'new dataset\\\\semiclassical\\\\semiclassicalE79.wav'"
      ]
     },
     "metadata": {},
     "output_type": "display_data"
    },
    {
     "name": "stderr",
     "output_type": "stream",
     "text": [
      "\r",
      " 75%|██████████████████████████████████████████████████████████▍                   | 1403/1873 [05:48<01:54,  4.09it/s]"
     ]
    },
    {
     "data": {
      "text/plain": [
       "'new dataset\\\\semiclassical\\\\semiclassicalE8.wav'"
      ]
     },
     "metadata": {},
     "output_type": "display_data"
    },
    {
     "name": "stderr",
     "output_type": "stream",
     "text": [
      "\r",
      " 75%|██████████████████████████████████████████████████████████▍                   | 1404/1873 [05:48<01:53,  4.13it/s]"
     ]
    },
    {
     "data": {
      "text/plain": [
       "'new dataset\\\\semiclassical\\\\semiclassicalE80.wav'"
      ]
     },
     "metadata": {},
     "output_type": "display_data"
    },
    {
     "name": "stderr",
     "output_type": "stream",
     "text": [
      "\r",
      " 75%|██████████████████████████████████████████████████████████▌                   | 1405/1873 [05:49<01:51,  4.18it/s]"
     ]
    },
    {
     "data": {
      "text/plain": [
       "'new dataset\\\\semiclassical\\\\semiclassicalE81.wav'"
      ]
     },
     "metadata": {},
     "output_type": "display_data"
    },
    {
     "name": "stderr",
     "output_type": "stream",
     "text": [
      "\r",
      " 75%|██████████████████████████████████████████████████████████▌                   | 1406/1873 [05:49<01:52,  4.14it/s]"
     ]
    },
    {
     "data": {
      "text/plain": [
       "'new dataset\\\\semiclassical\\\\semiclassicalE82.wav'"
      ]
     },
     "metadata": {},
     "output_type": "display_data"
    },
    {
     "name": "stderr",
     "output_type": "stream",
     "text": [
      "\r",
      " 75%|██████████████████████████████████████████████████████████▌                   | 1407/1873 [05:49<01:51,  4.17it/s]"
     ]
    },
    {
     "data": {
      "text/plain": [
       "'new dataset\\\\semiclassical\\\\semiclassicalE9.wav'"
      ]
     },
     "metadata": {},
     "output_type": "display_data"
    },
    {
     "name": "stderr",
     "output_type": "stream",
     "text": [
      "\r",
      " 75%|██████████████████████████████████████████████████████████▋                   | 1408/1873 [05:49<01:53,  4.11it/s]"
     ]
    },
    {
     "data": {
      "text/plain": [
       "'new dataset\\\\sufi\\\\Alif Allah Chambe Di Booti  Nusrat Fateh Ali Khan  complete full version  OSA Worldwide61.wav'"
      ]
     },
     "metadata": {},
     "output_type": "display_data"
    },
    {
     "name": "stderr",
     "output_type": "stream",
     "text": [
      "\r",
      " 75%|██████████████████████████████████████████████████████████▋                   | 1409/1873 [05:50<01:51,  4.17it/s]"
     ]
    },
    {
     "data": {
      "text/plain": [
       "'new dataset\\\\sufi\\\\Arziyan By AR Rahman78.wav'"
      ]
     },
     "metadata": {},
     "output_type": "display_data"
    },
    {
     "name": "stderr",
     "output_type": "stream",
     "text": [
      "\r",
      " 75%|██████████████████████████████████████████████████████████▋                   | 1410/1873 [05:50<01:50,  4.20it/s]"
     ]
    },
    {
     "data": {
      "text/plain": [
       "'new dataset\\\\sufi\\\\Coke Studio Season 9 Tu Kuja Man Kuja Shiraz Uppal _ Rafaqat Ali Khan95.wav'"
      ]
     },
     "metadata": {},
     "output_type": "display_data"
    },
    {
     "name": "stderr",
     "output_type": "stream",
     "text": [
      "\r",
      " 75%|██████████████████████████████████████████████████████████▊                   | 1411/1873 [05:50<01:51,  4.16it/s]"
     ]
    },
    {
     "data": {
      "text/plain": [
       "'new dataset\\\\sufi\\\\cut 1 min - Zehaal-e-Miskeen Makun Taghaful  Amir Khusrau  Nusrat Fateh Ali Khan42.wav'"
      ]
     },
     "metadata": {},
     "output_type": "display_data"
    },
    {
     "name": "stderr",
     "output_type": "stream",
     "text": [
      "\r",
      " 75%|██████████████████████████████████████████████████████████▊                   | 1412/1873 [05:50<01:53,  4.06it/s]"
     ]
    },
    {
     "data": {
      "text/plain": [
       "'new dataset\\\\sufi\\\\cut 2 min Mere Banne ki Baat  Kamil Hyderabadi  Manzoor Niazi27.wav'"
      ]
     },
     "metadata": {},
     "output_type": "display_data"
    },
    {
     "name": "stderr",
     "output_type": "stream",
     "text": [
      "\r",
      " 75%|██████████████████████████████████████████████████████████▊                   | 1413/1873 [05:51<01:51,  4.14it/s]"
     ]
    },
    {
     "data": {
      "text/plain": [
       "'new dataset\\\\sufi\\\\cut 2 min Zikr By AR Rahman10.wav'"
      ]
     },
     "metadata": {},
     "output_type": "display_data"
    },
    {
     "name": "stderr",
     "output_type": "stream",
     "text": [
      "\r",
      " 75%|██████████████████████████████████████████████████████████▉                   | 1414/1873 [05:51<01:49,  4.20it/s]"
     ]
    },
    {
     "data": {
      "text/plain": [
       "'new dataset\\\\sufi\\\\cut 3 min Coke Studio Season 7 Mein Sufi Hoon Ustaad Raees Khan _ Abida Parveen21.wav'"
      ]
     },
     "metadata": {},
     "output_type": "display_data"
    },
    {
     "name": "stderr",
     "output_type": "stream",
     "text": [
      "\r",
      " 76%|██████████████████████████████████████████████████████████▉                   | 1415/1873 [05:51<01:47,  4.25it/s]"
     ]
    },
    {
     "data": {
      "text/plain": [
       "'new dataset\\\\sufi\\\\Haq Ali Ali Mola Ali Ali  Ustad NFAK  Complete Qawwali  Shah e Mardan Ali ll Voice of Heaven157.wav'"
      ]
     },
     "metadata": {},
     "output_type": "display_data"
    },
    {
     "name": "stderr",
     "output_type": "stream",
     "text": [
      "\r",
      " 76%|██████████████████████████████████████████████████████████▉                   | 1416/1873 [05:51<01:49,  4.16it/s]"
     ]
    },
    {
     "data": {
      "text/plain": [
       "'new dataset\\\\sufi\\\\Kanday Utay168.wav'"
      ]
     },
     "metadata": {},
     "output_type": "display_data"
    },
    {
     "name": "stderr",
     "output_type": "stream",
     "text": [
      "\r",
      " 76%|███████████████████████████████████████████████████████████                   | 1417/1873 [05:52<01:49,  4.15it/s]"
     ]
    },
    {
     "data": {
      "text/plain": [
       "'new dataset\\\\sufi\\\\Khwaja Mere Khwaja - Jodhaa Akbar@A. R. RahmanHrithik RoshanAishwarya Rai181.wav'"
      ]
     },
     "metadata": {},
     "output_type": "display_data"
    },
    {
     "name": "stderr",
     "output_type": "stream",
     "text": [
      "\r",
      " 76%|███████████████████████████████████████████████████████████                   | 1418/1873 [05:52<01:48,  4.18it/s]"
     ]
    },
    {
     "data": {
      "text/plain": [
       "'new dataset\\\\sufi\\\\Kinna Sohna Tenu Rab Ne Banaya (Live Full) Ustad Nusrat Fateh Ali Khan Kinna Sona - OSA Worldwide194.wav'"
      ]
     },
     "metadata": {},
     "output_type": "display_data"
    },
    {
     "name": "stderr",
     "output_type": "stream",
     "text": [
      "\r",
      " 76%|███████████████████████████████████████████████████████████                   | 1419/1873 [05:52<01:48,  4.19it/s]"
     ]
    },
    {
     "data": {
      "text/plain": [
       "'new dataset\\\\sufi\\\\Lyrical  Kun Faya Kun Video Song    Rockstar   Ranbir Kapoor    A.R. Rahman210.wav'"
      ]
     },
     "metadata": {},
     "output_type": "display_data"
    },
    {
     "name": "stderr",
     "output_type": "stream",
     "text": [
      "\r",
      " 76%|███████████████████████████████████████████████████████████▏                  | 1420/1873 [05:52<01:49,  4.13it/s]"
     ]
    },
    {
     "data": {
      "text/plain": [
       "'new dataset\\\\sufi\\\\Noor E Khuda Hai  Nusrat Fateh Ali Khan  complete full version  OSA Worldwide242.wav'"
      ]
     },
     "metadata": {},
     "output_type": "display_data"
    },
    {
     "name": "stderr",
     "output_type": "stream",
     "text": [
      "\r",
      " 76%|███████████████████████████████████████████████████████████▏                  | 1421/1873 [05:53<01:48,  4.17it/s]"
     ]
    },
    {
     "data": {
      "text/plain": [
       "'new dataset\\\\sufi\\\\Rabba Lakh Lakh Shukar Manaawa - Nusrat Fateh Ali Khan  Official Audio Song270.wav'"
      ]
     },
     "metadata": {},
     "output_type": "display_data"
    },
    {
     "name": "stderr",
     "output_type": "stream",
     "text": [
      "\r",
      " 76%|███████████████████████████████████████████████████████████▏                  | 1422/1873 [05:53<01:47,  4.20it/s]"
     ]
    },
    {
     "data": {
      "text/plain": [
       "'new dataset\\\\sufi\\\\Sanson Ki Mala Pe by Nusrat Fateh Ali Khan - Hit Hindi Songs with Lyrics284.wav'"
      ]
     },
     "metadata": {},
     "output_type": "display_data"
    },
    {
     "name": "stderr",
     "output_type": "stream",
     "text": [
      "\r",
      " 76%|███████████████████████████████████████████████████████████▎                  | 1423/1873 [05:53<01:46,  4.23it/s]"
     ]
    },
    {
     "data": {
      "text/plain": [
       "'new dataset\\\\sufi\\\\Sanu Ek Pal Chain Na Aave  Nusrat Fateh Ali Khan  Full Version309.wav'"
      ]
     },
     "metadata": {},
     "output_type": "display_data"
    },
    {
     "name": "stderr",
     "output_type": "stream",
     "text": [
      "\r",
      " 76%|███████████████████████████████████████████████████████████▎                  | 1424/1873 [05:53<01:45,  4.24it/s]"
     ]
    },
    {
     "data": {
      "text/plain": [
       "'new dataset\\\\sufi\\\\sufiA10.wav'"
      ]
     },
     "metadata": {},
     "output_type": "display_data"
    },
    {
     "name": "stderr",
     "output_type": "stream",
     "text": [
      "\r",
      " 76%|███████████████████████████████████████████████████████████▎                  | 1425/1873 [05:53<01:45,  4.24it/s]"
     ]
    },
    {
     "data": {
      "text/plain": [
       "'new dataset\\\\sufi\\\\sufiA11.wav'"
      ]
     },
     "metadata": {},
     "output_type": "display_data"
    },
    {
     "name": "stderr",
     "output_type": "stream",
     "text": [
      "\r",
      " 76%|███████████████████████████████████████████████████████████▍                  | 1426/1873 [05:54<01:46,  4.21it/s]"
     ]
    },
    {
     "data": {
      "text/plain": [
       "'new dataset\\\\sufi\\\\sufiA12.wav'"
      ]
     },
     "metadata": {},
     "output_type": "display_data"
    },
    {
     "name": "stderr",
     "output_type": "stream",
     "text": [
      "\r",
      " 76%|███████████████████████████████████████████████████████████▍                  | 1427/1873 [05:54<01:45,  4.22it/s]"
     ]
    },
    {
     "data": {
      "text/plain": [
       "'new dataset\\\\sufi\\\\sufiA13.wav'"
      ]
     },
     "metadata": {},
     "output_type": "display_data"
    },
    {
     "name": "stderr",
     "output_type": "stream",
     "text": [
      "\r",
      " 76%|███████████████████████████████████████████████████████████▍                  | 1428/1873 [05:54<01:45,  4.23it/s]"
     ]
    },
    {
     "data": {
      "text/plain": [
       "'new dataset\\\\sufi\\\\sufiA14.wav'"
      ]
     },
     "metadata": {},
     "output_type": "display_data"
    },
    {
     "name": "stderr",
     "output_type": "stream",
     "text": [
      "\r",
      " 76%|███████████████████████████████████████████████████████████▌                  | 1429/1873 [05:54<01:48,  4.09it/s]"
     ]
    },
    {
     "data": {
      "text/plain": [
       "'new dataset\\\\sufi\\\\sufiA15.wav'"
      ]
     },
     "metadata": {},
     "output_type": "display_data"
    },
    {
     "name": "stderr",
     "output_type": "stream",
     "text": [
      "\r",
      " 76%|███████████████████████████████████████████████████████████▌                  | 1430/1873 [05:55<01:50,  4.02it/s]"
     ]
    },
    {
     "data": {
      "text/plain": [
       "'new dataset\\\\sufi\\\\sufiA16.wav'"
      ]
     },
     "metadata": {},
     "output_type": "display_data"
    },
    {
     "name": "stderr",
     "output_type": "stream",
     "text": [
      "\r",
      " 76%|███████████████████████████████████████████████████████████▌                  | 1431/1873 [05:55<01:48,  4.07it/s]"
     ]
    },
    {
     "data": {
      "text/plain": [
       "'new dataset\\\\sufi\\\\sufiA17.wav'"
      ]
     },
     "metadata": {},
     "output_type": "display_data"
    },
    {
     "name": "stderr",
     "output_type": "stream",
     "text": [
      "\r",
      " 76%|███████████████████████████████████████████████████████████▋                  | 1432/1873 [05:55<01:45,  4.16it/s]"
     ]
    },
    {
     "data": {
      "text/plain": [
       "'new dataset\\\\sufi\\\\sufiA18.wav'"
      ]
     },
     "metadata": {},
     "output_type": "display_data"
    },
    {
     "name": "stderr",
     "output_type": "stream",
     "text": [
      "\r",
      " 77%|███████████████████████████████████████████████████████████▋                  | 1433/1873 [05:55<01:46,  4.13it/s]"
     ]
    },
    {
     "data": {
      "text/plain": [
       "'new dataset\\\\sufi\\\\sufiA19.wav'"
      ]
     },
     "metadata": {},
     "output_type": "display_data"
    },
    {
     "name": "stderr",
     "output_type": "stream",
     "text": [
      "\r",
      " 77%|███████████████████████████████████████████████████████████▋                  | 1434/1873 [05:56<01:47,  4.07it/s]"
     ]
    },
    {
     "data": {
      "text/plain": [
       "'new dataset\\\\sufi\\\\sufiA20.wav'"
      ]
     },
     "metadata": {},
     "output_type": "display_data"
    },
    {
     "name": "stderr",
     "output_type": "stream",
     "text": [
      "\r",
      " 77%|███████████████████████████████████████████████████████████▊                  | 1435/1873 [05:56<01:46,  4.13it/s]"
     ]
    },
    {
     "data": {
      "text/plain": [
       "'new dataset\\\\sufi\\\\sufiA21.wav'"
      ]
     },
     "metadata": {},
     "output_type": "display_data"
    },
    {
     "name": "stderr",
     "output_type": "stream",
     "text": [
      "\r",
      " 77%|███████████████████████████████████████████████████████████▊                  | 1436/1873 [05:56<01:44,  4.17it/s]"
     ]
    },
    {
     "data": {
      "text/plain": [
       "'new dataset\\\\sufi\\\\sufiA22.wav'"
      ]
     },
     "metadata": {},
     "output_type": "display_data"
    },
    {
     "name": "stderr",
     "output_type": "stream",
     "text": [
      "\r",
      " 77%|███████████████████████████████████████████████████████████▊                  | 1437/1873 [05:56<01:44,  4.18it/s]"
     ]
    },
    {
     "data": {
      "text/plain": [
       "'new dataset\\\\sufi\\\\sufiA23.wav'"
      ]
     },
     "metadata": {},
     "output_type": "display_data"
    },
    {
     "name": "stderr",
     "output_type": "stream",
     "text": [
      "\r",
      " 77%|███████████████████████████████████████████████████████████▉                  | 1438/1873 [05:57<01:44,  4.18it/s]"
     ]
    },
    {
     "data": {
      "text/plain": [
       "'new dataset\\\\sufi\\\\sufiA24.wav'"
      ]
     },
     "metadata": {},
     "output_type": "display_data"
    },
    {
     "name": "stderr",
     "output_type": "stream",
     "text": [
      "\r",
      " 77%|███████████████████████████████████████████████████████████▉                  | 1439/1873 [05:57<01:44,  4.16it/s]"
     ]
    },
    {
     "data": {
      "text/plain": [
       "'new dataset\\\\sufi\\\\sufiA25.wav'"
      ]
     },
     "metadata": {},
     "output_type": "display_data"
    },
    {
     "name": "stderr",
     "output_type": "stream",
     "text": [
      "\r",
      " 77%|███████████████████████████████████████████████████████████▉                  | 1440/1873 [05:57<01:43,  4.20it/s]"
     ]
    },
    {
     "data": {
      "text/plain": [
       "'new dataset\\\\sufi\\\\sufiA26.wav'"
      ]
     },
     "metadata": {},
     "output_type": "display_data"
    },
    {
     "name": "stderr",
     "output_type": "stream",
     "text": [
      "\r",
      " 77%|████████████████████████████████████████████████████████████                  | 1441/1873 [05:57<01:42,  4.21it/s]"
     ]
    },
    {
     "data": {
      "text/plain": [
       "'new dataset\\\\sufi\\\\sufiA27.wav'"
      ]
     },
     "metadata": {},
     "output_type": "display_data"
    },
    {
     "name": "stderr",
     "output_type": "stream",
     "text": [
      "\r",
      " 77%|████████████████████████████████████████████████████████████                  | 1442/1873 [05:58<01:43,  4.17it/s]"
     ]
    },
    {
     "data": {
      "text/plain": [
       "'new dataset\\\\sufi\\\\sufiA28.wav'"
      ]
     },
     "metadata": {},
     "output_type": "display_data"
    },
    {
     "name": "stderr",
     "output_type": "stream",
     "text": [
      "\r",
      " 77%|████████████████████████████████████████████████████████████                  | 1443/1873 [05:58<01:43,  4.16it/s]"
     ]
    },
    {
     "data": {
      "text/plain": [
       "'new dataset\\\\sufi\\\\sufiA29.wav'"
      ]
     },
     "metadata": {},
     "output_type": "display_data"
    },
    {
     "name": "stderr",
     "output_type": "stream",
     "text": [
      "\r",
      " 77%|████████████████████████████████████████████████████████████▏                 | 1444/1873 [05:58<01:44,  4.12it/s]"
     ]
    },
    {
     "data": {
      "text/plain": [
       "'new dataset\\\\sufi\\\\sufiA3.wav'"
      ]
     },
     "metadata": {},
     "output_type": "display_data"
    },
    {
     "name": "stderr",
     "output_type": "stream",
     "text": [
      "\r",
      " 77%|████████████████████████████████████████████████████████████▏                 | 1445/1873 [05:58<01:42,  4.18it/s]"
     ]
    },
    {
     "data": {
      "text/plain": [
       "'new dataset\\\\sufi\\\\sufiA30.wav'"
      ]
     },
     "metadata": {},
     "output_type": "display_data"
    },
    {
     "name": "stderr",
     "output_type": "stream",
     "text": [
      "\r",
      " 77%|████████████████████████████████████████████████████████████▏                 | 1446/1873 [05:59<01:42,  4.15it/s]"
     ]
    },
    {
     "data": {
      "text/plain": [
       "'new dataset\\\\sufi\\\\sufiA31.wav'"
      ]
     },
     "metadata": {},
     "output_type": "display_data"
    },
    {
     "name": "stderr",
     "output_type": "stream",
     "text": [
      "\r",
      " 77%|████████████████████████████████████████████████████████████▎                 | 1447/1873 [05:59<01:42,  4.16it/s]"
     ]
    },
    {
     "data": {
      "text/plain": [
       "'new dataset\\\\sufi\\\\sufiA32.wav'"
      ]
     },
     "metadata": {},
     "output_type": "display_data"
    },
    {
     "name": "stderr",
     "output_type": "stream",
     "text": [
      "\r",
      " 77%|████████████████████████████████████████████████████████████▎                 | 1448/1873 [05:59<01:41,  4.18it/s]"
     ]
    },
    {
     "data": {
      "text/plain": [
       "'new dataset\\\\sufi\\\\sufiA33.wav'"
      ]
     },
     "metadata": {},
     "output_type": "display_data"
    },
    {
     "name": "stderr",
     "output_type": "stream",
     "text": [
      "\r",
      " 77%|████████████████████████████████████████████████████████████▎                 | 1449/1873 [05:59<01:41,  4.20it/s]"
     ]
    },
    {
     "data": {
      "text/plain": [
       "'new dataset\\\\sufi\\\\sufiA34.wav'"
      ]
     },
     "metadata": {},
     "output_type": "display_data"
    },
    {
     "name": "stderr",
     "output_type": "stream",
     "text": [
      "\r",
      " 77%|████████████████████████████████████████████████████████████▍                 | 1450/1873 [06:00<01:40,  4.22it/s]"
     ]
    },
    {
     "data": {
      "text/plain": [
       "'new dataset\\\\sufi\\\\sufiA35.wav'"
      ]
     },
     "metadata": {},
     "output_type": "display_data"
    },
    {
     "name": "stderr",
     "output_type": "stream",
     "text": [
      "\r",
      " 77%|████████████████████████████████████████████████████████████▍                 | 1451/1873 [06:00<01:40,  4.21it/s]"
     ]
    },
    {
     "data": {
      "text/plain": [
       "'new dataset\\\\sufi\\\\sufiA36.wav'"
      ]
     },
     "metadata": {},
     "output_type": "display_data"
    },
    {
     "name": "stderr",
     "output_type": "stream",
     "text": [
      "\r",
      " 78%|████████████████████████████████████████████████████████████▍                 | 1452/1873 [06:00<01:40,  4.20it/s]"
     ]
    },
    {
     "data": {
      "text/plain": [
       "'new dataset\\\\sufi\\\\sufiA37.wav'"
      ]
     },
     "metadata": {},
     "output_type": "display_data"
    },
    {
     "name": "stderr",
     "output_type": "stream",
     "text": [
      "\r",
      " 78%|████████████████████████████████████████████████████████████▌                 | 1453/1873 [06:00<01:42,  4.11it/s]"
     ]
    },
    {
     "data": {
      "text/plain": [
       "'new dataset\\\\sufi\\\\sufiA38.wav'"
      ]
     },
     "metadata": {},
     "output_type": "display_data"
    },
    {
     "name": "stderr",
     "output_type": "stream",
     "text": [
      "\r",
      " 78%|████████████████████████████████████████████████████████████▌                 | 1454/1873 [06:00<01:42,  4.10it/s]"
     ]
    },
    {
     "data": {
      "text/plain": [
       "'new dataset\\\\sufi\\\\sufiA39.wav'"
      ]
     },
     "metadata": {},
     "output_type": "display_data"
    },
    {
     "name": "stderr",
     "output_type": "stream",
     "text": [
      "\r",
      " 78%|████████████████████████████████████████████████████████████▌                 | 1455/1873 [06:01<01:40,  4.15it/s]"
     ]
    },
    {
     "data": {
      "text/plain": [
       "'new dataset\\\\sufi\\\\sufiA4.wav'"
      ]
     },
     "metadata": {},
     "output_type": "display_data"
    },
    {
     "name": "stderr",
     "output_type": "stream",
     "text": [
      "\r",
      " 78%|████████████████████████████████████████████████████████████▋                 | 1456/1873 [06:01<01:39,  4.17it/s]"
     ]
    },
    {
     "data": {
      "text/plain": [
       "'new dataset\\\\sufi\\\\sufiA40.wav'"
      ]
     },
     "metadata": {},
     "output_type": "display_data"
    },
    {
     "name": "stderr",
     "output_type": "stream",
     "text": [
      "\r",
      " 78%|████████████████████████████████████████████████████████████▋                 | 1457/1873 [06:01<01:40,  4.15it/s]"
     ]
    },
    {
     "data": {
      "text/plain": [
       "'new dataset\\\\sufi\\\\sufiA41.wav'"
      ]
     },
     "metadata": {},
     "output_type": "display_data"
    },
    {
     "name": "stderr",
     "output_type": "stream",
     "text": [
      "\r",
      " 78%|████████████████████████████████████████████████████████████▋                 | 1458/1873 [06:01<01:41,  4.10it/s]"
     ]
    },
    {
     "data": {
      "text/plain": [
       "'new dataset\\\\sufi\\\\sufiA5.wav'"
      ]
     },
     "metadata": {},
     "output_type": "display_data"
    },
    {
     "name": "stderr",
     "output_type": "stream",
     "text": [
      "\r",
      " 78%|████████████████████████████████████████████████████████████▊                 | 1459/1873 [06:02<01:39,  4.17it/s]"
     ]
    },
    {
     "data": {
      "text/plain": [
       "'new dataset\\\\sufi\\\\sufiA6.wav'"
      ]
     },
     "metadata": {},
     "output_type": "display_data"
    },
    {
     "name": "stderr",
     "output_type": "stream",
     "text": [
      "\r",
      " 78%|████████████████████████████████████████████████████████████▊                 | 1460/1873 [06:02<01:37,  4.21it/s]"
     ]
    },
    {
     "data": {
      "text/plain": [
       "'new dataset\\\\sufi\\\\sufiA7.wav'"
      ]
     },
     "metadata": {},
     "output_type": "display_data"
    },
    {
     "name": "stderr",
     "output_type": "stream",
     "text": [
      "\r",
      " 78%|████████████████████████████████████████████████████████████▊                 | 1461/1873 [06:02<01:37,  4.21it/s]"
     ]
    },
    {
     "data": {
      "text/plain": [
       "'new dataset\\\\sufi\\\\sufiA8.wav'"
      ]
     },
     "metadata": {},
     "output_type": "display_data"
    },
    {
     "name": "stderr",
     "output_type": "stream",
     "text": [
      "\r",
      " 78%|████████████████████████████████████████████████████████████▉                 | 1462/1873 [06:02<01:39,  4.14it/s]"
     ]
    },
    {
     "data": {
      "text/plain": [
       "'new dataset\\\\sufi\\\\sufiA9.wav'"
      ]
     },
     "metadata": {},
     "output_type": "display_data"
    },
    {
     "name": "stderr",
     "output_type": "stream",
     "text": [
      "\r",
      " 78%|████████████████████████████████████████████████████████████▉                 | 1463/1873 [06:03<01:40,  4.08it/s]"
     ]
    },
    {
     "data": {
      "text/plain": [
       "'new dataset\\\\sufi\\\\sufiB10.wav'"
      ]
     },
     "metadata": {},
     "output_type": "display_data"
    },
    {
     "name": "stderr",
     "output_type": "stream",
     "text": [
      "\r",
      " 78%|████████████████████████████████████████████████████████████▉                 | 1464/1873 [06:03<01:39,  4.09it/s]"
     ]
    },
    {
     "data": {
      "text/plain": [
       "'new dataset\\\\sufi\\\\sufiB11.wav'"
      ]
     },
     "metadata": {},
     "output_type": "display_data"
    },
    {
     "name": "stderr",
     "output_type": "stream",
     "text": [
      "\r",
      " 78%|█████████████████████████████████████████████████████████████                 | 1465/1873 [06:03<01:38,  4.13it/s]"
     ]
    },
    {
     "data": {
      "text/plain": [
       "'new dataset\\\\sufi\\\\sufiB12.wav'"
      ]
     },
     "metadata": {},
     "output_type": "display_data"
    },
    {
     "name": "stderr",
     "output_type": "stream",
     "text": [
      "\r",
      " 78%|█████████████████████████████████████████████████████████████                 | 1466/1873 [06:03<01:37,  4.17it/s]"
     ]
    },
    {
     "data": {
      "text/plain": [
       "'new dataset\\\\sufi\\\\sufiB13.wav'"
      ]
     },
     "metadata": {},
     "output_type": "display_data"
    },
    {
     "name": "stderr",
     "output_type": "stream",
     "text": [
      "\r",
      " 78%|█████████████████████████████████████████████████████████████                 | 1467/1873 [06:04<01:37,  4.16it/s]"
     ]
    },
    {
     "data": {
      "text/plain": [
       "'new dataset\\\\sufi\\\\sufiB14.wav'"
      ]
     },
     "metadata": {},
     "output_type": "display_data"
    },
    {
     "name": "stderr",
     "output_type": "stream",
     "text": [
      "\r",
      " 78%|█████████████████████████████████████████████████████████████▏                | 1468/1873 [06:04<01:37,  4.14it/s]"
     ]
    },
    {
     "data": {
      "text/plain": [
       "'new dataset\\\\sufi\\\\sufiB15.wav'"
      ]
     },
     "metadata": {},
     "output_type": "display_data"
    },
    {
     "name": "stderr",
     "output_type": "stream",
     "text": [
      "\r",
      " 78%|█████████████████████████████████████████████████████████████▏                | 1469/1873 [06:04<01:36,  4.21it/s]"
     ]
    },
    {
     "data": {
      "text/plain": [
       "'new dataset\\\\sufi\\\\sufiB16.wav'"
      ]
     },
     "metadata": {},
     "output_type": "display_data"
    },
    {
     "name": "stderr",
     "output_type": "stream",
     "text": [
      "\r",
      " 78%|█████████████████████████████████████████████████████████████▏                | 1470/1873 [06:04<01:35,  4.21it/s]"
     ]
    },
    {
     "data": {
      "text/plain": [
       "'new dataset\\\\sufi\\\\sufiB17.wav'"
      ]
     },
     "metadata": {},
     "output_type": "display_data"
    },
    {
     "name": "stderr",
     "output_type": "stream",
     "text": [
      "\r",
      " 79%|█████████████████████████████████████████████████████████████▎                | 1471/1873 [06:05<01:37,  4.14it/s]"
     ]
    },
    {
     "data": {
      "text/plain": [
       "'new dataset\\\\sufi\\\\sufiB18.wav'"
      ]
     },
     "metadata": {},
     "output_type": "display_data"
    },
    {
     "name": "stderr",
     "output_type": "stream",
     "text": [
      "\r",
      " 79%|█████████████████████████████████████████████████████████████▎                | 1472/1873 [06:05<01:43,  3.86it/s]"
     ]
    },
    {
     "data": {
      "text/plain": [
       "'new dataset\\\\sufi\\\\sufiB19.wav'"
      ]
     },
     "metadata": {},
     "output_type": "display_data"
    },
    {
     "name": "stderr",
     "output_type": "stream",
     "text": [
      "\r",
      " 79%|█████████████████████████████████████████████████████████████▎                | 1473/1873 [06:05<01:41,  3.96it/s]"
     ]
    },
    {
     "data": {
      "text/plain": [
       "'new dataset\\\\sufi\\\\sufiB20.wav'"
      ]
     },
     "metadata": {},
     "output_type": "display_data"
    },
    {
     "name": "stderr",
     "output_type": "stream",
     "text": [
      "\r",
      " 79%|█████████████████████████████████████████████████████████████▍                | 1474/1873 [06:05<01:39,  3.99it/s]"
     ]
    },
    {
     "data": {
      "text/plain": [
       "'new dataset\\\\sufi\\\\sufiB21.wav'"
      ]
     },
     "metadata": {},
     "output_type": "display_data"
    },
    {
     "name": "stderr",
     "output_type": "stream",
     "text": [
      "\r",
      " 79%|█████████████████████████████████████████████████████████████▍                | 1475/1873 [06:06<01:36,  4.11it/s]"
     ]
    },
    {
     "data": {
      "text/plain": [
       "'new dataset\\\\sufi\\\\sufiB22.wav'"
      ]
     },
     "metadata": {},
     "output_type": "display_data"
    },
    {
     "name": "stderr",
     "output_type": "stream",
     "text": [
      "\r",
      " 79%|█████████████████████████████████████████████████████████████▍                | 1476/1873 [06:06<01:36,  4.11it/s]"
     ]
    },
    {
     "data": {
      "text/plain": [
       "'new dataset\\\\sufi\\\\sufiB23.wav'"
      ]
     },
     "metadata": {},
     "output_type": "display_data"
    },
    {
     "name": "stderr",
     "output_type": "stream",
     "text": [
      "\r",
      " 79%|█████████████████████████████████████████████████████████████▌                | 1477/1873 [06:06<01:35,  4.14it/s]"
     ]
    },
    {
     "data": {
      "text/plain": [
       "'new dataset\\\\sufi\\\\sufiB24.wav'"
      ]
     },
     "metadata": {},
     "output_type": "display_data"
    },
    {
     "name": "stderr",
     "output_type": "stream",
     "text": [
      "\r",
      " 79%|█████████████████████████████████████████████████████████████▌                | 1478/1873 [06:06<01:34,  4.17it/s]"
     ]
    },
    {
     "data": {
      "text/plain": [
       "'new dataset\\\\sufi\\\\sufiB25.wav'"
      ]
     },
     "metadata": {},
     "output_type": "display_data"
    },
    {
     "name": "stderr",
     "output_type": "stream",
     "text": [
      "\r",
      " 79%|█████████████████████████████████████████████████████████████▌                | 1479/1873 [06:07<01:34,  4.17it/s]"
     ]
    },
    {
     "data": {
      "text/plain": [
       "'new dataset\\\\sufi\\\\sufiB26.wav'"
      ]
     },
     "metadata": {},
     "output_type": "display_data"
    },
    {
     "name": "stderr",
     "output_type": "stream",
     "text": [
      "\r",
      " 79%|█████████████████████████████████████████████████████████████▋                | 1480/1873 [06:07<01:34,  4.17it/s]"
     ]
    },
    {
     "data": {
      "text/plain": [
       "'new dataset\\\\sufi\\\\sufiB5.wav'"
      ]
     },
     "metadata": {},
     "output_type": "display_data"
    },
    {
     "name": "stderr",
     "output_type": "stream",
     "text": [
      "\r",
      " 79%|█████████████████████████████████████████████████████████████▋                | 1481/1873 [06:07<01:34,  4.17it/s]"
     ]
    },
    {
     "data": {
      "text/plain": [
       "'new dataset\\\\sufi\\\\sufiB6.wav'"
      ]
     },
     "metadata": {},
     "output_type": "display_data"
    },
    {
     "name": "stderr",
     "output_type": "stream",
     "text": [
      "\r",
      " 79%|█████████████████████████████████████████████████████████████▋                | 1482/1873 [06:07<01:33,  4.20it/s]"
     ]
    },
    {
     "data": {
      "text/plain": [
       "'new dataset\\\\sufi\\\\sufiB7.wav'"
      ]
     },
     "metadata": {},
     "output_type": "display_data"
    },
    {
     "name": "stderr",
     "output_type": "stream",
     "text": [
      "\r",
      " 79%|█████████████████████████████████████████████████████████████▊                | 1483/1873 [06:07<01:30,  4.30it/s]"
     ]
    },
    {
     "data": {
      "text/plain": [
       "'new dataset\\\\sufi\\\\sufiB8.wav'"
      ]
     },
     "metadata": {},
     "output_type": "display_data"
    },
    {
     "name": "stderr",
     "output_type": "stream",
     "text": [
      "\r",
      " 79%|█████████████████████████████████████████████████████████████▊                | 1484/1873 [06:08<01:31,  4.27it/s]"
     ]
    },
    {
     "data": {
      "text/plain": [
       "'new dataset\\\\sufi\\\\sufiB9.wav'"
      ]
     },
     "metadata": {},
     "output_type": "display_data"
    },
    {
     "name": "stderr",
     "output_type": "stream",
     "text": [
      "\r",
      " 79%|█████████████████████████████████████████████████████████████▊                | 1485/1873 [06:08<01:31,  4.24it/s]"
     ]
    },
    {
     "data": {
      "text/plain": [
       "'new dataset\\\\sufi\\\\sufiC5.wav'"
      ]
     },
     "metadata": {},
     "output_type": "display_data"
    },
    {
     "name": "stderr",
     "output_type": "stream",
     "text": [
      "\r",
      " 79%|█████████████████████████████████████████████████████████████▉                | 1486/1873 [06:08<01:36,  4.02it/s]"
     ]
    },
    {
     "data": {
      "text/plain": [
       "'new dataset\\\\sufi\\\\sufiC6.wav'"
      ]
     },
     "metadata": {},
     "output_type": "display_data"
    },
    {
     "name": "stderr",
     "output_type": "stream",
     "text": [
      "\r",
      " 79%|█████████████████████████████████████████████████████████████▉                | 1487/1873 [06:08<01:34,  4.06it/s]"
     ]
    },
    {
     "data": {
      "text/plain": [
       "'new dataset\\\\sufi\\\\sufiC7.wav'"
      ]
     },
     "metadata": {},
     "output_type": "display_data"
    },
    {
     "name": "stderr",
     "output_type": "stream",
     "text": [
      "\r",
      " 79%|█████████████████████████████████████████████████████████████▉                | 1488/1873 [06:09<01:34,  4.05it/s]"
     ]
    },
    {
     "data": {
      "text/plain": [
       "'new dataset\\\\sufi\\\\sufiC8.wav'"
      ]
     },
     "metadata": {},
     "output_type": "display_data"
    },
    {
     "name": "stderr",
     "output_type": "stream",
     "text": [
      "\r",
      " 79%|██████████████████████████████████████████████████████████████                | 1489/1873 [06:09<01:33,  4.11it/s]"
     ]
    },
    {
     "data": {
      "text/plain": [
       "'new dataset\\\\sufi\\\\sufiC9.wav'"
      ]
     },
     "metadata": {},
     "output_type": "display_data"
    },
    {
     "name": "stderr",
     "output_type": "stream",
     "text": [
      "\r",
      " 80%|██████████████████████████████████████████████████████████████                | 1490/1873 [06:09<01:33,  4.10it/s]"
     ]
    },
    {
     "data": {
      "text/plain": [
       "'new dataset\\\\sufi\\\\SUFId10.wav'"
      ]
     },
     "metadata": {},
     "output_type": "display_data"
    },
    {
     "name": "stderr",
     "output_type": "stream",
     "text": [
      "\r",
      " 80%|██████████████████████████████████████████████████████████████                | 1491/1873 [06:09<01:32,  4.12it/s]"
     ]
    },
    {
     "data": {
      "text/plain": [
       "'new dataset\\\\sufi\\\\SUFId11.wav'"
      ]
     },
     "metadata": {},
     "output_type": "display_data"
    },
    {
     "name": "stderr",
     "output_type": "stream",
     "text": [
      "\r",
      " 80%|██████████████████████████████████████████████████████████████▏               | 1492/1873 [06:10<01:33,  4.09it/s]"
     ]
    },
    {
     "data": {
      "text/plain": [
       "'new dataset\\\\sufi\\\\SUFId12.wav'"
      ]
     },
     "metadata": {},
     "output_type": "display_data"
    },
    {
     "name": "stderr",
     "output_type": "stream",
     "text": [
      "\r",
      " 80%|██████████████████████████████████████████████████████████████▏               | 1493/1873 [06:10<01:32,  4.11it/s]"
     ]
    },
    {
     "data": {
      "text/plain": [
       "'new dataset\\\\sufi\\\\SUFId13.wav'"
      ]
     },
     "metadata": {},
     "output_type": "display_data"
    },
    {
     "name": "stderr",
     "output_type": "stream",
     "text": [
      "\r",
      " 80%|██████████████████████████████████████████████████████████████▏               | 1494/1873 [06:10<01:30,  4.20it/s]"
     ]
    },
    {
     "data": {
      "text/plain": [
       "'new dataset\\\\sufi\\\\SUFId14.wav'"
      ]
     },
     "metadata": {},
     "output_type": "display_data"
    },
    {
     "name": "stderr",
     "output_type": "stream",
     "text": [
      "\r",
      " 80%|██████████████████████████████████████████████████████████████▎               | 1495/1873 [06:10<01:31,  4.12it/s]"
     ]
    },
    {
     "data": {
      "text/plain": [
       "'new dataset\\\\sufi\\\\SUFId15.wav'"
      ]
     },
     "metadata": {},
     "output_type": "display_data"
    },
    {
     "name": "stderr",
     "output_type": "stream",
     "text": [
      "\r",
      " 80%|██████████████████████████████████████████████████████████████▎               | 1496/1873 [06:11<01:30,  4.18it/s]"
     ]
    },
    {
     "data": {
      "text/plain": [
       "'new dataset\\\\sufi\\\\SUFId16.wav'"
      ]
     },
     "metadata": {},
     "output_type": "display_data"
    },
    {
     "name": "stderr",
     "output_type": "stream",
     "text": [
      "\r",
      " 80%|██████████████████████████████████████████████████████████████▎               | 1497/1873 [06:11<01:31,  4.13it/s]"
     ]
    },
    {
     "data": {
      "text/plain": [
       "'new dataset\\\\sufi\\\\SUFId17.wav'"
      ]
     },
     "metadata": {},
     "output_type": "display_data"
    },
    {
     "name": "stderr",
     "output_type": "stream",
     "text": [
      "\r",
      " 80%|██████████████████████████████████████████████████████████████▍               | 1498/1873 [06:11<01:30,  4.15it/s]"
     ]
    },
    {
     "data": {
      "text/plain": [
       "'new dataset\\\\sufi\\\\SUFId18.wav'"
      ]
     },
     "metadata": {},
     "output_type": "display_data"
    },
    {
     "name": "stderr",
     "output_type": "stream",
     "text": [
      "\r",
      " 80%|██████████████████████████████████████████████████████████████▍               | 1499/1873 [06:11<01:29,  4.16it/s]"
     ]
    },
    {
     "data": {
      "text/plain": [
       "'new dataset\\\\sufi\\\\SUFId19.wav'"
      ]
     },
     "metadata": {},
     "output_type": "display_data"
    },
    {
     "name": "stderr",
     "output_type": "stream",
     "text": [
      "\r",
      " 80%|██████████████████████████████████████████████████████████████▍               | 1500/1873 [06:12<01:29,  4.18it/s]"
     ]
    },
    {
     "data": {
      "text/plain": [
       "'new dataset\\\\sufi\\\\SUFId20.wav'"
      ]
     },
     "metadata": {},
     "output_type": "display_data"
    },
    {
     "name": "stderr",
     "output_type": "stream",
     "text": [
      "\r",
      " 80%|██████████████████████████████████████████████████████████████▌               | 1501/1873 [06:12<01:27,  4.24it/s]"
     ]
    },
    {
     "data": {
      "text/plain": [
       "'new dataset\\\\sufi\\\\SUFId7.wav'"
      ]
     },
     "metadata": {},
     "output_type": "display_data"
    },
    {
     "name": "stderr",
     "output_type": "stream",
     "text": [
      "\r",
      " 80%|██████████████████████████████████████████████████████████████▌               | 1502/1873 [06:12<01:28,  4.21it/s]"
     ]
    },
    {
     "data": {
      "text/plain": [
       "'new dataset\\\\sufi\\\\SUFId8.wav'"
      ]
     },
     "metadata": {},
     "output_type": "display_data"
    },
    {
     "name": "stderr",
     "output_type": "stream",
     "text": [
      "\r",
      " 80%|██████████████████████████████████████████████████████████████▌               | 1503/1873 [06:12<01:27,  4.20it/s]"
     ]
    },
    {
     "data": {
      "text/plain": [
       "'new dataset\\\\sufi\\\\SUFId9.wav'"
      ]
     },
     "metadata": {},
     "output_type": "display_data"
    },
    {
     "name": "stderr",
     "output_type": "stream",
     "text": [
      "\r",
      " 80%|██████████████████████████████████████████████████████████████▋               | 1504/1873 [06:13<01:31,  4.03it/s]"
     ]
    },
    {
     "data": {
      "text/plain": [
       "'new dataset\\\\sufi\\\\sufiE1.wav'"
      ]
     },
     "metadata": {},
     "output_type": "display_data"
    },
    {
     "name": "stderr",
     "output_type": "stream",
     "text": [
      "\r",
      " 80%|██████████████████████████████████████████████████████████████▋               | 1505/1873 [06:13<01:31,  4.01it/s]"
     ]
    },
    {
     "data": {
      "text/plain": [
       "'new dataset\\\\sufi\\\\sufiE10.wav'"
      ]
     },
     "metadata": {},
     "output_type": "display_data"
    },
    {
     "name": "stderr",
     "output_type": "stream",
     "text": [
      "\r",
      " 80%|██████████████████████████████████████████████████████████████▋               | 1506/1873 [06:13<01:29,  4.08it/s]"
     ]
    },
    {
     "data": {
      "text/plain": [
       "'new dataset\\\\sufi\\\\sufiE100.wav'"
      ]
     },
     "metadata": {},
     "output_type": "display_data"
    },
    {
     "name": "stderr",
     "output_type": "stream",
     "text": [
      "\r",
      " 80%|██████████████████████████████████████████████████████████████▊               | 1507/1873 [06:13<01:33,  3.92it/s]"
     ]
    },
    {
     "data": {
      "text/plain": [
       "'new dataset\\\\sufi\\\\sufiE101.wav'"
      ]
     },
     "metadata": {},
     "output_type": "display_data"
    },
    {
     "name": "stderr",
     "output_type": "stream",
     "text": [
      "\r",
      " 81%|██████████████████████████████████████████████████████████████▊               | 1508/1873 [06:14<01:33,  3.92it/s]"
     ]
    },
    {
     "data": {
      "text/plain": [
       "'new dataset\\\\sufi\\\\sufiE102.wav'"
      ]
     },
     "metadata": {},
     "output_type": "display_data"
    },
    {
     "name": "stderr",
     "output_type": "stream",
     "text": [
      "\r",
      " 81%|██████████████████████████████████████████████████████████████▊               | 1509/1873 [06:14<01:35,  3.81it/s]"
     ]
    },
    {
     "data": {
      "text/plain": [
       "'new dataset\\\\sufi\\\\sufiE103.wav'"
      ]
     },
     "metadata": {},
     "output_type": "display_data"
    },
    {
     "name": "stderr",
     "output_type": "stream",
     "text": [
      "\r",
      " 81%|██████████████████████████████████████████████████████████████▉               | 1510/1873 [06:14<01:35,  3.81it/s]"
     ]
    },
    {
     "data": {
      "text/plain": [
       "'new dataset\\\\sufi\\\\sufiE104.wav'"
      ]
     },
     "metadata": {},
     "output_type": "display_data"
    },
    {
     "name": "stderr",
     "output_type": "stream",
     "text": [
      "\r",
      " 81%|██████████████████████████████████████████████████████████████▉               | 1511/1873 [06:14<01:32,  3.90it/s]"
     ]
    },
    {
     "data": {
      "text/plain": [
       "'new dataset\\\\sufi\\\\sufiE105.wav'"
      ]
     },
     "metadata": {},
     "output_type": "display_data"
    },
    {
     "name": "stderr",
     "output_type": "stream",
     "text": [
      "\r",
      " 81%|██████████████████████████████████████████████████████████████▉               | 1512/1873 [06:15<01:30,  4.01it/s]"
     ]
    },
    {
     "data": {
      "text/plain": [
       "'new dataset\\\\sufi\\\\sufiE106.wav'"
      ]
     },
     "metadata": {},
     "output_type": "display_data"
    },
    {
     "name": "stderr",
     "output_type": "stream",
     "text": [
      "\r",
      " 81%|███████████████████████████████████████████████████████████████               | 1513/1873 [06:15<01:29,  4.03it/s]"
     ]
    },
    {
     "data": {
      "text/plain": [
       "'new dataset\\\\sufi\\\\sufiE107.wav'"
      ]
     },
     "metadata": {},
     "output_type": "display_data"
    },
    {
     "name": "stderr",
     "output_type": "stream",
     "text": [
      "\r",
      " 81%|███████████████████████████████████████████████████████████████               | 1514/1873 [06:15<01:28,  4.06it/s]"
     ]
    },
    {
     "data": {
      "text/plain": [
       "'new dataset\\\\sufi\\\\sufiE108.wav'"
      ]
     },
     "metadata": {},
     "output_type": "display_data"
    },
    {
     "name": "stderr",
     "output_type": "stream",
     "text": [
      "\r",
      " 81%|███████████████████████████████████████████████████████████████               | 1515/1873 [06:15<01:27,  4.08it/s]"
     ]
    },
    {
     "data": {
      "text/plain": [
       "'new dataset\\\\sufi\\\\sufiE109.wav'"
      ]
     },
     "metadata": {},
     "output_type": "display_data"
    },
    {
     "name": "stderr",
     "output_type": "stream",
     "text": [
      "\r",
      " 81%|███████████████████████████████████████████████████████████████▏              | 1516/1873 [06:16<01:26,  4.12it/s]"
     ]
    },
    {
     "data": {
      "text/plain": [
       "'new dataset\\\\sufi\\\\sufiE11.wav'"
      ]
     },
     "metadata": {},
     "output_type": "display_data"
    },
    {
     "name": "stderr",
     "output_type": "stream",
     "text": [
      "\r",
      " 81%|███████████████████████████████████████████████████████████████▏              | 1517/1873 [06:16<01:26,  4.14it/s]"
     ]
    },
    {
     "data": {
      "text/plain": [
       "'new dataset\\\\sufi\\\\sufiE110.wav'"
      ]
     },
     "metadata": {},
     "output_type": "display_data"
    },
    {
     "name": "stderr",
     "output_type": "stream",
     "text": [
      "\r",
      " 81%|███████████████████████████████████████████████████████████████▏              | 1518/1873 [06:16<01:29,  3.96it/s]"
     ]
    },
    {
     "data": {
      "text/plain": [
       "'new dataset\\\\sufi\\\\sufiE111.wav'"
      ]
     },
     "metadata": {},
     "output_type": "display_data"
    },
    {
     "name": "stderr",
     "output_type": "stream",
     "text": [
      "\r",
      " 81%|███████████████████████████████████████████████████████████████▎              | 1519/1873 [06:16<01:26,  4.07it/s]"
     ]
    },
    {
     "data": {
      "text/plain": [
       "'new dataset\\\\sufi\\\\sufiE112.wav'"
      ]
     },
     "metadata": {},
     "output_type": "display_data"
    },
    {
     "name": "stderr",
     "output_type": "stream",
     "text": [
      "\r",
      " 81%|███████████████████████████████████████████████████████████████▎              | 1520/1873 [06:17<01:26,  4.10it/s]"
     ]
    },
    {
     "data": {
      "text/plain": [
       "'new dataset\\\\sufi\\\\sufiE113.wav'"
      ]
     },
     "metadata": {},
     "output_type": "display_data"
    },
    {
     "name": "stderr",
     "output_type": "stream",
     "text": [
      "\r",
      " 81%|███████████████████████████████████████████████████████████████▎              | 1521/1873 [06:17<01:25,  4.13it/s]"
     ]
    },
    {
     "data": {
      "text/plain": [
       "'new dataset\\\\sufi\\\\sufiE114.wav'"
      ]
     },
     "metadata": {},
     "output_type": "display_data"
    },
    {
     "name": "stderr",
     "output_type": "stream",
     "text": [
      "\r",
      " 81%|███████████████████████████████████████████████████████████████▍              | 1522/1873 [06:17<01:23,  4.21it/s]"
     ]
    },
    {
     "data": {
      "text/plain": [
       "'new dataset\\\\sufi\\\\sufiE115.wav'"
      ]
     },
     "metadata": {},
     "output_type": "display_data"
    },
    {
     "name": "stderr",
     "output_type": "stream",
     "text": [
      "\r",
      " 81%|███████████████████████████████████████████████████████████████▍              | 1523/1873 [06:17<01:24,  4.15it/s]"
     ]
    },
    {
     "data": {
      "text/plain": [
       "'new dataset\\\\sufi\\\\sufiE116.wav'"
      ]
     },
     "metadata": {},
     "output_type": "display_data"
    },
    {
     "name": "stderr",
     "output_type": "stream",
     "text": [
      "\r",
      " 81%|███████████████████████████████████████████████████████████████▍              | 1524/1873 [06:18<01:24,  4.15it/s]"
     ]
    },
    {
     "data": {
      "text/plain": [
       "'new dataset\\\\sufi\\\\sufiE117.wav'"
      ]
     },
     "metadata": {},
     "output_type": "display_data"
    },
    {
     "name": "stderr",
     "output_type": "stream",
     "text": [
      "\r",
      " 81%|███████████████████████████████████████████████████████████████▌              | 1525/1873 [06:18<01:23,  4.15it/s]"
     ]
    },
    {
     "data": {
      "text/plain": [
       "'new dataset\\\\sufi\\\\sufiE118.wav'"
      ]
     },
     "metadata": {},
     "output_type": "display_data"
    },
    {
     "name": "stderr",
     "output_type": "stream",
     "text": [
      "\r",
      " 81%|███████████████████████████████████████████████████████████████▌              | 1526/1873 [06:18<01:23,  4.14it/s]"
     ]
    },
    {
     "data": {
      "text/plain": [
       "'new dataset\\\\sufi\\\\sufiE119.wav'"
      ]
     },
     "metadata": {},
     "output_type": "display_data"
    },
    {
     "name": "stderr",
     "output_type": "stream",
     "text": [
      "\r",
      " 82%|███████████████████████████████████████████████████████████████▌              | 1527/1873 [06:18<01:22,  4.17it/s]"
     ]
    },
    {
     "data": {
      "text/plain": [
       "'new dataset\\\\sufi\\\\sufiE12.wav'"
      ]
     },
     "metadata": {},
     "output_type": "display_data"
    },
    {
     "name": "stderr",
     "output_type": "stream",
     "text": [
      "\r",
      " 82%|███████████████████████████████████████████████████████████████▋              | 1528/1873 [06:18<01:23,  4.13it/s]"
     ]
    },
    {
     "data": {
      "text/plain": [
       "'new dataset\\\\sufi\\\\sufiE120.wav'"
      ]
     },
     "metadata": {},
     "output_type": "display_data"
    },
    {
     "name": "stderr",
     "output_type": "stream",
     "text": [
      "\r",
      " 82%|███████████████████████████████████████████████████████████████▋              | 1529/1873 [06:19<01:23,  4.12it/s]"
     ]
    },
    {
     "data": {
      "text/plain": [
       "'new dataset\\\\sufi\\\\sufiE121.wav'"
      ]
     },
     "metadata": {},
     "output_type": "display_data"
    },
    {
     "name": "stderr",
     "output_type": "stream",
     "text": [
      "\r",
      " 82%|███████████████████████████████████████████████████████████████▋              | 1530/1873 [06:19<01:22,  4.16it/s]"
     ]
    },
    {
     "data": {
      "text/plain": [
       "'new dataset\\\\sufi\\\\sufiE122.wav'"
      ]
     },
     "metadata": {},
     "output_type": "display_data"
    },
    {
     "name": "stderr",
     "output_type": "stream",
     "text": [
      "\r",
      " 82%|███████████████████████████████████████████████████████████████▊              | 1531/1873 [06:19<01:21,  4.20it/s]"
     ]
    },
    {
     "data": {
      "text/plain": [
       "'new dataset\\\\sufi\\\\sufiE123.wav'"
      ]
     },
     "metadata": {},
     "output_type": "display_data"
    },
    {
     "name": "stderr",
     "output_type": "stream",
     "text": [
      "\r",
      " 82%|███████████████████████████████████████████████████████████████▊              | 1532/1873 [06:19<01:21,  4.18it/s]"
     ]
    },
    {
     "data": {
      "text/plain": [
       "'new dataset\\\\sufi\\\\sufiE124.wav'"
      ]
     },
     "metadata": {},
     "output_type": "display_data"
    },
    {
     "name": "stderr",
     "output_type": "stream",
     "text": [
      "\r",
      " 82%|███████████████████████████████████████████████████████████████▊              | 1533/1873 [06:20<01:20,  4.21it/s]"
     ]
    },
    {
     "data": {
      "text/plain": [
       "'new dataset\\\\sufi\\\\sufiE125.wav'"
      ]
     },
     "metadata": {},
     "output_type": "display_data"
    },
    {
     "name": "stderr",
     "output_type": "stream",
     "text": [
      "\r",
      " 82%|███████████████████████████████████████████████████████████████▉              | 1534/1873 [06:20<01:20,  4.20it/s]"
     ]
    },
    {
     "data": {
      "text/plain": [
       "'new dataset\\\\sufi\\\\sufiE126.wav'"
      ]
     },
     "metadata": {},
     "output_type": "display_data"
    },
    {
     "name": "stderr",
     "output_type": "stream",
     "text": [
      "\r",
      " 82%|███████████████████████████████████████████████████████████████▉              | 1535/1873 [06:20<01:20,  4.21it/s]"
     ]
    },
    {
     "data": {
      "text/plain": [
       "'new dataset\\\\sufi\\\\sufiE127.wav'"
      ]
     },
     "metadata": {},
     "output_type": "display_data"
    },
    {
     "name": "stderr",
     "output_type": "stream",
     "text": [
      "\r",
      " 82%|███████████████████████████████████████████████████████████████▉              | 1536/1873 [06:20<01:21,  4.15it/s]"
     ]
    },
    {
     "data": {
      "text/plain": [
       "'new dataset\\\\sufi\\\\sufiE128.wav'"
      ]
     },
     "metadata": {},
     "output_type": "display_data"
    },
    {
     "name": "stderr",
     "output_type": "stream",
     "text": [
      "\r",
      " 82%|████████████████████████████████████████████████████████████████              | 1537/1873 [06:21<01:21,  4.11it/s]"
     ]
    },
    {
     "data": {
      "text/plain": [
       "'new dataset\\\\sufi\\\\sufiE129.wav'"
      ]
     },
     "metadata": {},
     "output_type": "display_data"
    },
    {
     "name": "stderr",
     "output_type": "stream",
     "text": [
      "\r",
      " 82%|████████████████████████████████████████████████████████████████              | 1538/1873 [06:21<01:21,  4.13it/s]"
     ]
    },
    {
     "data": {
      "text/plain": [
       "'new dataset\\\\sufi\\\\sufiE13.wav'"
      ]
     },
     "metadata": {},
     "output_type": "display_data"
    },
    {
     "name": "stderr",
     "output_type": "stream",
     "text": [
      "\r",
      " 82%|████████████████████████████████████████████████████████████████              | 1539/1873 [06:21<01:19,  4.21it/s]"
     ]
    },
    {
     "data": {
      "text/plain": [
       "'new dataset\\\\sufi\\\\sufiE130.wav'"
      ]
     },
     "metadata": {},
     "output_type": "display_data"
    },
    {
     "name": "stderr",
     "output_type": "stream",
     "text": [
      "\r",
      " 82%|████████████████████████████████████████████████████████████████▏             | 1540/1873 [06:21<01:18,  4.23it/s]"
     ]
    },
    {
     "data": {
      "text/plain": [
       "'new dataset\\\\sufi\\\\sufiE131.wav'"
      ]
     },
     "metadata": {},
     "output_type": "display_data"
    },
    {
     "name": "stderr",
     "output_type": "stream",
     "text": [
      "\r",
      " 82%|████████████████████████████████████████████████████████████████▏             | 1541/1873 [06:22<01:17,  4.27it/s]"
     ]
    },
    {
     "data": {
      "text/plain": [
       "'new dataset\\\\sufi\\\\sufiE132.wav'"
      ]
     },
     "metadata": {},
     "output_type": "display_data"
    },
    {
     "name": "stderr",
     "output_type": "stream",
     "text": [
      "\r",
      " 82%|████████████████████████████████████████████████████████████████▏             | 1542/1873 [06:22<01:19,  4.15it/s]"
     ]
    },
    {
     "data": {
      "text/plain": [
       "'new dataset\\\\sufi\\\\sufiE133.wav'"
      ]
     },
     "metadata": {},
     "output_type": "display_data"
    },
    {
     "name": "stderr",
     "output_type": "stream",
     "text": [
      "\r",
      " 82%|████████████████████████████████████████████████████████████████▎             | 1543/1873 [06:22<01:19,  4.17it/s]"
     ]
    },
    {
     "data": {
      "text/plain": [
       "'new dataset\\\\sufi\\\\sufiE134.wav'"
      ]
     },
     "metadata": {},
     "output_type": "display_data"
    },
    {
     "name": "stderr",
     "output_type": "stream",
     "text": [
      "\r",
      " 82%|████████████████████████████████████████████████████████████████▎             | 1544/1873 [06:22<01:19,  4.15it/s]"
     ]
    },
    {
     "data": {
      "text/plain": [
       "'new dataset\\\\sufi\\\\sufiE135.wav'"
      ]
     },
     "metadata": {},
     "output_type": "display_data"
    },
    {
     "name": "stderr",
     "output_type": "stream",
     "text": [
      "\r",
      " 82%|████████████████████████████████████████████████████████████████▎             | 1545/1873 [06:23<01:18,  4.20it/s]"
     ]
    },
    {
     "data": {
      "text/plain": [
       "'new dataset\\\\sufi\\\\sufiE136.wav'"
      ]
     },
     "metadata": {},
     "output_type": "display_data"
    },
    {
     "name": "stderr",
     "output_type": "stream",
     "text": [
      "\r",
      " 83%|████████████████████████████████████████████████████████████████▍             | 1546/1873 [06:23<01:19,  4.11it/s]"
     ]
    },
    {
     "data": {
      "text/plain": [
       "'new dataset\\\\sufi\\\\sufiE137.wav'"
      ]
     },
     "metadata": {},
     "output_type": "display_data"
    },
    {
     "name": "stderr",
     "output_type": "stream",
     "text": [
      "\r",
      " 83%|████████████████████████████████████████████████████████████████▍             | 1547/1873 [06:23<01:18,  4.17it/s]"
     ]
    },
    {
     "data": {
      "text/plain": [
       "'new dataset\\\\sufi\\\\sufiE138.wav'"
      ]
     },
     "metadata": {},
     "output_type": "display_data"
    },
    {
     "name": "stderr",
     "output_type": "stream",
     "text": [
      "\r",
      " 83%|████████████████████████████████████████████████████████████████▍             | 1548/1873 [06:23<01:17,  4.19it/s]"
     ]
    },
    {
     "data": {
      "text/plain": [
       "'new dataset\\\\sufi\\\\sufiE139.wav'"
      ]
     },
     "metadata": {},
     "output_type": "display_data"
    },
    {
     "name": "stderr",
     "output_type": "stream",
     "text": [
      "\r",
      " 83%|████████████████████████████████████████████████████████████████▌             | 1549/1873 [06:24<01:17,  4.21it/s]"
     ]
    },
    {
     "data": {
      "text/plain": [
       "'new dataset\\\\sufi\\\\sufiE14.wav'"
      ]
     },
     "metadata": {},
     "output_type": "display_data"
    },
    {
     "name": "stderr",
     "output_type": "stream",
     "text": [
      "\r",
      " 83%|████████████████████████████████████████████████████████████████▌             | 1550/1873 [06:24<01:17,  4.19it/s]"
     ]
    },
    {
     "data": {
      "text/plain": [
       "'new dataset\\\\sufi\\\\sufiE140.wav'"
      ]
     },
     "metadata": {},
     "output_type": "display_data"
    },
    {
     "name": "stderr",
     "output_type": "stream",
     "text": [
      "\r",
      " 83%|████████████████████████████████████████████████████████████████▌             | 1551/1873 [06:24<01:18,  4.11it/s]"
     ]
    },
    {
     "data": {
      "text/plain": [
       "'new dataset\\\\sufi\\\\sufiE141.wav'"
      ]
     },
     "metadata": {},
     "output_type": "display_data"
    },
    {
     "name": "stderr",
     "output_type": "stream",
     "text": [
      "\r",
      " 83%|████████████████████████████████████████████████████████████████▋             | 1552/1873 [06:24<01:19,  4.03it/s]"
     ]
    },
    {
     "data": {
      "text/plain": [
       "'new dataset\\\\sufi\\\\sufiE142.wav'"
      ]
     },
     "metadata": {},
     "output_type": "display_data"
    },
    {
     "name": "stderr",
     "output_type": "stream",
     "text": [
      "\r",
      " 83%|████████████████████████████████████████████████████████████████▋             | 1553/1873 [06:25<01:19,  4.02it/s]"
     ]
    },
    {
     "data": {
      "text/plain": [
       "'new dataset\\\\sufi\\\\sufiE143.wav'"
      ]
     },
     "metadata": {},
     "output_type": "display_data"
    },
    {
     "name": "stderr",
     "output_type": "stream",
     "text": [
      "\r",
      " 83%|████████████████████████████████████████████████████████████████▋             | 1554/1873 [06:25<01:19,  4.03it/s]"
     ]
    },
    {
     "data": {
      "text/plain": [
       "'new dataset\\\\sufi\\\\sufiE144.wav'"
      ]
     },
     "metadata": {},
     "output_type": "display_data"
    },
    {
     "name": "stderr",
     "output_type": "stream",
     "text": [
      "\r",
      " 83%|████████████████████████████████████████████████████████████████▊             | 1555/1873 [06:25<01:17,  4.09it/s]"
     ]
    },
    {
     "data": {
      "text/plain": [
       "'new dataset\\\\sufi\\\\sufiE145.wav'"
      ]
     },
     "metadata": {},
     "output_type": "display_data"
    },
    {
     "name": "stderr",
     "output_type": "stream",
     "text": [
      "\r",
      " 83%|████████████████████████████████████████████████████████████████▊             | 1556/1873 [06:25<01:17,  4.09it/s]"
     ]
    },
    {
     "data": {
      "text/plain": [
       "'new dataset\\\\sufi\\\\sufiE146.wav'"
      ]
     },
     "metadata": {},
     "output_type": "display_data"
    },
    {
     "name": "stderr",
     "output_type": "stream",
     "text": [
      "\r",
      " 83%|████████████████████████████████████████████████████████████████▊             | 1557/1873 [06:25<01:17,  4.09it/s]"
     ]
    },
    {
     "data": {
      "text/plain": [
       "'new dataset\\\\sufi\\\\sufiE147.wav'"
      ]
     },
     "metadata": {},
     "output_type": "display_data"
    },
    {
     "name": "stderr",
     "output_type": "stream",
     "text": [
      "\r",
      " 83%|████████████████████████████████████████████████████████████████▉             | 1558/1873 [06:26<01:15,  4.15it/s]"
     ]
    },
    {
     "data": {
      "text/plain": [
       "'new dataset\\\\sufi\\\\sufiE148.wav'"
      ]
     },
     "metadata": {},
     "output_type": "display_data"
    },
    {
     "name": "stderr",
     "output_type": "stream",
     "text": [
      "\r",
      " 83%|████████████████████████████████████████████████████████████████▉             | 1559/1873 [06:26<01:15,  4.15it/s]"
     ]
    },
    {
     "data": {
      "text/plain": [
       "'new dataset\\\\sufi\\\\sufiE149.wav'"
      ]
     },
     "metadata": {},
     "output_type": "display_data"
    },
    {
     "name": "stderr",
     "output_type": "stream",
     "text": [
      "\r",
      " 83%|████████████████████████████████████████████████████████████████▉             | 1560/1873 [06:26<01:16,  4.08it/s]"
     ]
    },
    {
     "data": {
      "text/plain": [
       "'new dataset\\\\sufi\\\\sufiE15.wav'"
      ]
     },
     "metadata": {},
     "output_type": "display_data"
    },
    {
     "name": "stderr",
     "output_type": "stream",
     "text": [
      "\r",
      " 83%|█████████████████████████████████████████████████████████████████             | 1561/1873 [06:26<01:16,  4.09it/s]"
     ]
    },
    {
     "data": {
      "text/plain": [
       "'new dataset\\\\sufi\\\\sufiE150.wav'"
      ]
     },
     "metadata": {},
     "output_type": "display_data"
    },
    {
     "name": "stderr",
     "output_type": "stream",
     "text": [
      "\r",
      " 83%|█████████████████████████████████████████████████████████████████             | 1562/1873 [06:27<01:16,  4.09it/s]"
     ]
    },
    {
     "data": {
      "text/plain": [
       "'new dataset\\\\sufi\\\\sufiE151.wav'"
      ]
     },
     "metadata": {},
     "output_type": "display_data"
    },
    {
     "name": "stderr",
     "output_type": "stream",
     "text": [
      "\r",
      " 83%|█████████████████████████████████████████████████████████████████             | 1563/1873 [06:27<01:16,  4.07it/s]"
     ]
    },
    {
     "data": {
      "text/plain": [
       "'new dataset\\\\sufi\\\\sufiE152.wav'"
      ]
     },
     "metadata": {},
     "output_type": "display_data"
    },
    {
     "name": "stderr",
     "output_type": "stream",
     "text": [
      "\r",
      " 84%|█████████████████████████████████████████████████████████████████▏            | 1564/1873 [06:27<01:15,  4.11it/s]"
     ]
    },
    {
     "data": {
      "text/plain": [
       "'new dataset\\\\sufi\\\\sufiE153.wav'"
      ]
     },
     "metadata": {},
     "output_type": "display_data"
    },
    {
     "name": "stderr",
     "output_type": "stream",
     "text": [
      "\r",
      " 84%|█████████████████████████████████████████████████████████████████▏            | 1565/1873 [06:27<01:15,  4.09it/s]"
     ]
    },
    {
     "data": {
      "text/plain": [
       "'new dataset\\\\sufi\\\\sufiE154.wav'"
      ]
     },
     "metadata": {},
     "output_type": "display_data"
    },
    {
     "name": "stderr",
     "output_type": "stream",
     "text": [
      "\r",
      " 84%|█████████████████████████████████████████████████████████████████▏            | 1566/1873 [06:28<01:14,  4.12it/s]"
     ]
    },
    {
     "data": {
      "text/plain": [
       "'new dataset\\\\sufi\\\\sufiE155.wav'"
      ]
     },
     "metadata": {},
     "output_type": "display_data"
    },
    {
     "name": "stderr",
     "output_type": "stream",
     "text": [
      "\r",
      " 84%|█████████████████████████████████████████████████████████████████▎            | 1567/1873 [06:28<01:13,  4.15it/s]"
     ]
    },
    {
     "data": {
      "text/plain": [
       "'new dataset\\\\sufi\\\\sufiE156.wav'"
      ]
     },
     "metadata": {},
     "output_type": "display_data"
    },
    {
     "name": "stderr",
     "output_type": "stream",
     "text": [
      "\r",
      " 84%|█████████████████████████████████████████████████████████████████▎            | 1568/1873 [06:28<01:12,  4.19it/s]"
     ]
    },
    {
     "data": {
      "text/plain": [
       "'new dataset\\\\sufi\\\\sufiE157.wav'"
      ]
     },
     "metadata": {},
     "output_type": "display_data"
    },
    {
     "name": "stderr",
     "output_type": "stream",
     "text": [
      "\r",
      " 84%|█████████████████████████████████████████████████████████████████▎            | 1569/1873 [06:28<01:12,  4.19it/s]"
     ]
    },
    {
     "data": {
      "text/plain": [
       "'new dataset\\\\sufi\\\\sufiE158.wav'"
      ]
     },
     "metadata": {},
     "output_type": "display_data"
    },
    {
     "name": "stderr",
     "output_type": "stream",
     "text": [
      "\r",
      " 84%|█████████████████████████████████████████████████████████████████▍            | 1570/1873 [06:29<01:13,  4.11it/s]"
     ]
    },
    {
     "data": {
      "text/plain": [
       "'new dataset\\\\sufi\\\\sufiE159.wav'"
      ]
     },
     "metadata": {},
     "output_type": "display_data"
    },
    {
     "name": "stderr",
     "output_type": "stream",
     "text": [
      "\r",
      " 84%|█████████████████████████████████████████████████████████████████▍            | 1571/1873 [06:29<01:12,  4.17it/s]"
     ]
    },
    {
     "data": {
      "text/plain": [
       "'new dataset\\\\sufi\\\\sufiE16.wav'"
      ]
     },
     "metadata": {},
     "output_type": "display_data"
    },
    {
     "name": "stderr",
     "output_type": "stream",
     "text": [
      "\r",
      " 84%|█████████████████████████████████████████████████████████████████▍            | 1572/1873 [06:29<01:11,  4.19it/s]"
     ]
    },
    {
     "data": {
      "text/plain": [
       "'new dataset\\\\sufi\\\\sufiE160.wav'"
      ]
     },
     "metadata": {},
     "output_type": "display_data"
    },
    {
     "name": "stderr",
     "output_type": "stream",
     "text": [
      "\r",
      " 84%|█████████████████████████████████████████████████████████████████▌            | 1573/1873 [06:29<01:11,  4.22it/s]"
     ]
    },
    {
     "data": {
      "text/plain": [
       "'new dataset\\\\sufi\\\\sufiE161.wav'"
      ]
     },
     "metadata": {},
     "output_type": "display_data"
    },
    {
     "name": "stderr",
     "output_type": "stream",
     "text": [
      "\r",
      " 84%|█████████████████████████████████████████████████████████████████▌            | 1574/1873 [06:30<01:11,  4.20it/s]"
     ]
    },
    {
     "data": {
      "text/plain": [
       "'new dataset\\\\sufi\\\\sufiE162.wav'"
      ]
     },
     "metadata": {},
     "output_type": "display_data"
    },
    {
     "name": "stderr",
     "output_type": "stream",
     "text": [
      "\r",
      " 84%|█████████████████████████████████████████████████████████████████▌            | 1575/1873 [06:30<01:12,  4.13it/s]"
     ]
    },
    {
     "data": {
      "text/plain": [
       "'new dataset\\\\sufi\\\\sufiE163.wav'"
      ]
     },
     "metadata": {},
     "output_type": "display_data"
    },
    {
     "name": "stderr",
     "output_type": "stream",
     "text": [
      "\r",
      " 84%|█████████████████████████████████████████████████████████████████▋            | 1576/1873 [06:30<01:11,  4.17it/s]"
     ]
    },
    {
     "data": {
      "text/plain": [
       "'new dataset\\\\sufi\\\\sufiE164.wav'"
      ]
     },
     "metadata": {},
     "output_type": "display_data"
    },
    {
     "name": "stderr",
     "output_type": "stream",
     "text": [
      "\r",
      " 84%|█████████████████████████████████████████████████████████████████▋            | 1577/1873 [06:30<01:09,  4.24it/s]"
     ]
    },
    {
     "data": {
      "text/plain": [
       "'new dataset\\\\sufi\\\\sufiE165.wav'"
      ]
     },
     "metadata": {},
     "output_type": "display_data"
    },
    {
     "name": "stderr",
     "output_type": "stream",
     "text": [
      "\r",
      " 84%|█████████████████████████████████████████████████████████████████▋            | 1578/1873 [06:31<01:09,  4.26it/s]"
     ]
    },
    {
     "data": {
      "text/plain": [
       "'new dataset\\\\sufi\\\\sufiE166.wav'"
      ]
     },
     "metadata": {},
     "output_type": "display_data"
    },
    {
     "name": "stderr",
     "output_type": "stream",
     "text": [
      "\r",
      " 84%|█████████████████████████████████████████████████████████████████▊            | 1579/1873 [06:31<01:11,  4.09it/s]"
     ]
    },
    {
     "data": {
      "text/plain": [
       "'new dataset\\\\sufi\\\\sufiE167.wav'"
      ]
     },
     "metadata": {},
     "output_type": "display_data"
    },
    {
     "name": "stderr",
     "output_type": "stream",
     "text": [
      "\r",
      " 84%|█████████████████████████████████████████████████████████████████▊            | 1580/1873 [06:31<01:11,  4.11it/s]"
     ]
    },
    {
     "data": {
      "text/plain": [
       "'new dataset\\\\sufi\\\\sufiE168.wav'"
      ]
     },
     "metadata": {},
     "output_type": "display_data"
    },
    {
     "name": "stderr",
     "output_type": "stream",
     "text": [
      "\r",
      " 84%|█████████████████████████████████████████████████████████████████▊            | 1581/1873 [06:31<01:10,  4.12it/s]"
     ]
    },
    {
     "data": {
      "text/plain": [
       "'new dataset\\\\sufi\\\\sufiE169.wav'"
      ]
     },
     "metadata": {},
     "output_type": "display_data"
    },
    {
     "name": "stderr",
     "output_type": "stream",
     "text": [
      "\r",
      " 84%|█████████████████████████████████████████████████████████████████▉            | 1582/1873 [06:32<01:09,  4.16it/s]"
     ]
    },
    {
     "data": {
      "text/plain": [
       "'new dataset\\\\sufi\\\\sufiE17.wav'"
      ]
     },
     "metadata": {},
     "output_type": "display_data"
    },
    {
     "name": "stderr",
     "output_type": "stream",
     "text": [
      "\r",
      " 85%|█████████████████████████████████████████████████████████████████▉            | 1583/1873 [06:32<01:08,  4.22it/s]"
     ]
    },
    {
     "data": {
      "text/plain": [
       "'new dataset\\\\sufi\\\\sufiE170.wav'"
      ]
     },
     "metadata": {},
     "output_type": "display_data"
    },
    {
     "name": "stderr",
     "output_type": "stream",
     "text": [
      "\r",
      " 85%|█████████████████████████████████████████████████████████████████▉            | 1584/1873 [06:32<01:09,  4.18it/s]"
     ]
    },
    {
     "data": {
      "text/plain": [
       "'new dataset\\\\sufi\\\\sufiE171.wav'"
      ]
     },
     "metadata": {},
     "output_type": "display_data"
    },
    {
     "name": "stderr",
     "output_type": "stream",
     "text": [
      "\r",
      " 85%|██████████████████████████████████████████████████████████████████            | 1585/1873 [06:32<01:08,  4.23it/s]"
     ]
    },
    {
     "data": {
      "text/plain": [
       "'new dataset\\\\sufi\\\\sufiE172.wav'"
      ]
     },
     "metadata": {},
     "output_type": "display_data"
    },
    {
     "name": "stderr",
     "output_type": "stream",
     "text": [
      "\r",
      " 85%|██████████████████████████████████████████████████████████████████            | 1586/1873 [06:32<01:07,  4.26it/s]"
     ]
    },
    {
     "data": {
      "text/plain": [
       "'new dataset\\\\sufi\\\\sufiE173.wav'"
      ]
     },
     "metadata": {},
     "output_type": "display_data"
    },
    {
     "name": "stderr",
     "output_type": "stream",
     "text": [
      "\r",
      " 85%|██████████████████████████████████████████████████████████████████            | 1587/1873 [06:33<01:07,  4.27it/s]"
     ]
    },
    {
     "data": {
      "text/plain": [
       "'new dataset\\\\sufi\\\\sufiE174.wav'"
      ]
     },
     "metadata": {},
     "output_type": "display_data"
    },
    {
     "name": "stderr",
     "output_type": "stream",
     "text": [
      "\r",
      " 85%|██████████████████████████████████████████████████████████████████▏           | 1588/1873 [06:33<01:07,  4.24it/s]"
     ]
    },
    {
     "data": {
      "text/plain": [
       "'new dataset\\\\sufi\\\\sufiE175.wav'"
      ]
     },
     "metadata": {},
     "output_type": "display_data"
    },
    {
     "name": "stderr",
     "output_type": "stream",
     "text": [
      "\r",
      " 85%|██████████████████████████████████████████████████████████████████▏           | 1589/1873 [06:33<01:08,  4.12it/s]"
     ]
    },
    {
     "data": {
      "text/plain": [
       "'new dataset\\\\sufi\\\\sufiE176.wav'"
      ]
     },
     "metadata": {},
     "output_type": "display_data"
    },
    {
     "name": "stderr",
     "output_type": "stream",
     "text": [
      "\r",
      " 85%|██████████████████████████████████████████████████████████████████▏           | 1590/1873 [06:33<01:07,  4.19it/s]"
     ]
    },
    {
     "data": {
      "text/plain": [
       "'new dataset\\\\sufi\\\\sufiE177.wav'"
      ]
     },
     "metadata": {},
     "output_type": "display_data"
    },
    {
     "name": "stderr",
     "output_type": "stream",
     "text": [
      "\r",
      " 85%|██████████████████████████████████████████████████████████████████▎           | 1591/1873 [06:34<01:07,  4.21it/s]"
     ]
    },
    {
     "data": {
      "text/plain": [
       "'new dataset\\\\sufi\\\\sufiE178.wav'"
      ]
     },
     "metadata": {},
     "output_type": "display_data"
    },
    {
     "name": "stderr",
     "output_type": "stream",
     "text": [
      "\r",
      " 85%|██████████████████████████████████████████████████████████████████▎           | 1592/1873 [06:34<01:06,  4.20it/s]"
     ]
    },
    {
     "data": {
      "text/plain": [
       "'new dataset\\\\sufi\\\\sufiE179.wav'"
      ]
     },
     "metadata": {},
     "output_type": "display_data"
    },
    {
     "name": "stderr",
     "output_type": "stream",
     "text": [
      "\r",
      " 85%|██████████████████████████████████████████████████████████████████▎           | 1593/1873 [06:34<01:06,  4.22it/s]"
     ]
    },
    {
     "data": {
      "text/plain": [
       "'new dataset\\\\sufi\\\\sufiE18.wav'"
      ]
     },
     "metadata": {},
     "output_type": "display_data"
    },
    {
     "name": "stderr",
     "output_type": "stream",
     "text": [
      "\r",
      " 85%|██████████████████████████████████████████████████████████████████▍           | 1594/1873 [06:34<01:06,  4.23it/s]"
     ]
    },
    {
     "data": {
      "text/plain": [
       "'new dataset\\\\sufi\\\\sufiE180.wav'"
      ]
     },
     "metadata": {},
     "output_type": "display_data"
    },
    {
     "name": "stderr",
     "output_type": "stream",
     "text": [
      "\r",
      " 85%|██████████████████████████████████████████████████████████████████▍           | 1595/1873 [06:35<01:04,  4.29it/s]"
     ]
    },
    {
     "data": {
      "text/plain": [
       "'new dataset\\\\sufi\\\\sufiE181.wav'"
      ]
     },
     "metadata": {},
     "output_type": "display_data"
    },
    {
     "name": "stderr",
     "output_type": "stream",
     "text": [
      "\r",
      " 85%|██████████████████████████████████████████████████████████████████▍           | 1596/1873 [06:35<01:05,  4.25it/s]"
     ]
    },
    {
     "data": {
      "text/plain": [
       "'new dataset\\\\sufi\\\\sufiE182.wav'"
      ]
     },
     "metadata": {},
     "output_type": "display_data"
    },
    {
     "name": "stderr",
     "output_type": "stream",
     "text": [
      "\r",
      " 85%|██████████████████████████████████████████████████████████████████▌           | 1597/1873 [06:35<01:04,  4.26it/s]"
     ]
    },
    {
     "data": {
      "text/plain": [
       "'new dataset\\\\sufi\\\\sufiE183.wav'"
      ]
     },
     "metadata": {},
     "output_type": "display_data"
    },
    {
     "name": "stderr",
     "output_type": "stream",
     "text": [
      "\r",
      " 85%|██████████████████████████████████████████████████████████████████▌           | 1598/1873 [06:35<01:05,  4.17it/s]"
     ]
    },
    {
     "data": {
      "text/plain": [
       "'new dataset\\\\sufi\\\\sufiE184.wav'"
      ]
     },
     "metadata": {},
     "output_type": "display_data"
    },
    {
     "name": "stderr",
     "output_type": "stream",
     "text": [
      "\r",
      " 85%|██████████████████████████████████████████████████████████████████▌           | 1599/1873 [06:36<01:05,  4.21it/s]"
     ]
    },
    {
     "data": {
      "text/plain": [
       "'new dataset\\\\sufi\\\\sufiE185.wav'"
      ]
     },
     "metadata": {},
     "output_type": "display_data"
    },
    {
     "name": "stderr",
     "output_type": "stream",
     "text": [
      "\r",
      " 85%|██████████████████████████████████████████████████████████████████▋           | 1600/1873 [06:36<01:04,  4.22it/s]"
     ]
    },
    {
     "data": {
      "text/plain": [
       "'new dataset\\\\sufi\\\\sufiE186.wav'"
      ]
     },
     "metadata": {},
     "output_type": "display_data"
    },
    {
     "name": "stderr",
     "output_type": "stream",
     "text": [
      "\r",
      " 85%|██████████████████████████████████████████████████████████████████▋           | 1601/1873 [06:36<01:05,  4.16it/s]"
     ]
    },
    {
     "data": {
      "text/plain": [
       "'new dataset\\\\sufi\\\\sufiE187.wav'"
      ]
     },
     "metadata": {},
     "output_type": "display_data"
    },
    {
     "name": "stderr",
     "output_type": "stream",
     "text": [
      "\r",
      " 86%|██████████████████████████████████████████████████████████████████▋           | 1602/1873 [06:36<01:04,  4.20it/s]"
     ]
    },
    {
     "data": {
      "text/plain": [
       "'new dataset\\\\sufi\\\\sufiE188.wav'"
      ]
     },
     "metadata": {},
     "output_type": "display_data"
    },
    {
     "name": "stderr",
     "output_type": "stream",
     "text": [
      "\r",
      " 86%|██████████████████████████████████████████████████████████████████▊           | 1603/1873 [06:36<01:04,  4.16it/s]"
     ]
    },
    {
     "data": {
      "text/plain": [
       "'new dataset\\\\sufi\\\\sufiE189.wav'"
      ]
     },
     "metadata": {},
     "output_type": "display_data"
    },
    {
     "name": "stderr",
     "output_type": "stream",
     "text": [
      "\r",
      " 86%|██████████████████████████████████████████████████████████████████▊           | 1604/1873 [06:37<01:03,  4.21it/s]"
     ]
    },
    {
     "data": {
      "text/plain": [
       "'new dataset\\\\sufi\\\\sufiE19.wav'"
      ]
     },
     "metadata": {},
     "output_type": "display_data"
    },
    {
     "name": "stderr",
     "output_type": "stream",
     "text": [
      "\r",
      " 86%|██████████████████████████████████████████████████████████████████▊           | 1605/1873 [06:37<01:04,  4.17it/s]"
     ]
    },
    {
     "data": {
      "text/plain": [
       "'new dataset\\\\sufi\\\\sufiE190.wav'"
      ]
     },
     "metadata": {},
     "output_type": "display_data"
    },
    {
     "name": "stderr",
     "output_type": "stream",
     "text": [
      "\r",
      " 86%|██████████████████████████████████████████████████████████████████▉           | 1606/1873 [06:37<01:03,  4.21it/s]"
     ]
    },
    {
     "data": {
      "text/plain": [
       "'new dataset\\\\sufi\\\\sufiE191.wav'"
      ]
     },
     "metadata": {},
     "output_type": "display_data"
    },
    {
     "name": "stderr",
     "output_type": "stream",
     "text": [
      "\r",
      " 86%|██████████████████████████████████████████████████████████████████▉           | 1607/1873 [06:37<01:02,  4.24it/s]"
     ]
    },
    {
     "data": {
      "text/plain": [
       "'new dataset\\\\sufi\\\\sufiE192.wav'"
      ]
     },
     "metadata": {},
     "output_type": "display_data"
    },
    {
     "name": "stderr",
     "output_type": "stream",
     "text": [
      "\r",
      " 86%|██████████████████████████████████████████████████████████████████▉           | 1608/1873 [06:38<01:02,  4.21it/s]"
     ]
    },
    {
     "data": {
      "text/plain": [
       "'new dataset\\\\sufi\\\\sufiE193.wav'"
      ]
     },
     "metadata": {},
     "output_type": "display_data"
    },
    {
     "name": "stderr",
     "output_type": "stream",
     "text": [
      "\r",
      " 86%|███████████████████████████████████████████████████████████████████           | 1609/1873 [06:38<01:02,  4.19it/s]"
     ]
    },
    {
     "data": {
      "text/plain": [
       "'new dataset\\\\sufi\\\\sufiE194.wav'"
      ]
     },
     "metadata": {},
     "output_type": "display_data"
    },
    {
     "name": "stderr",
     "output_type": "stream",
     "text": [
      "\r",
      " 86%|███████████████████████████████████████████████████████████████████           | 1610/1873 [06:38<01:03,  4.12it/s]"
     ]
    },
    {
     "data": {
      "text/plain": [
       "'new dataset\\\\sufi\\\\sufiE195.wav'"
      ]
     },
     "metadata": {},
     "output_type": "display_data"
    },
    {
     "name": "stderr",
     "output_type": "stream",
     "text": [
      "\r",
      " 86%|███████████████████████████████████████████████████████████████████           | 1611/1873 [06:38<01:04,  4.09it/s]"
     ]
    },
    {
     "data": {
      "text/plain": [
       "'new dataset\\\\sufi\\\\sufiE196.wav'"
      ]
     },
     "metadata": {},
     "output_type": "display_data"
    },
    {
     "name": "stderr",
     "output_type": "stream",
     "text": [
      "\r",
      " 86%|███████████████████████████████████████████████████████████████████▏          | 1612/1873 [06:39<01:04,  4.03it/s]"
     ]
    },
    {
     "data": {
      "text/plain": [
       "'new dataset\\\\sufi\\\\sufiE197.wav'"
      ]
     },
     "metadata": {},
     "output_type": "display_data"
    },
    {
     "name": "stderr",
     "output_type": "stream",
     "text": [
      "\r",
      " 86%|███████████████████████████████████████████████████████████████████▏          | 1613/1873 [06:39<01:04,  4.02it/s]"
     ]
    },
    {
     "data": {
      "text/plain": [
       "'new dataset\\\\sufi\\\\sufiE198.wav'"
      ]
     },
     "metadata": {},
     "output_type": "display_data"
    },
    {
     "name": "stderr",
     "output_type": "stream",
     "text": [
      "\r",
      " 86%|███████████████████████████████████████████████████████████████████▏          | 1614/1873 [06:39<01:03,  4.06it/s]"
     ]
    },
    {
     "data": {
      "text/plain": [
       "'new dataset\\\\sufi\\\\sufiE199.wav'"
      ]
     },
     "metadata": {},
     "output_type": "display_data"
    },
    {
     "name": "stderr",
     "output_type": "stream",
     "text": [
      "\r",
      " 86%|███████████████████████████████████████████████████████████████████▎          | 1615/1873 [06:39<01:03,  4.07it/s]"
     ]
    },
    {
     "data": {
      "text/plain": [
       "'new dataset\\\\sufi\\\\sufiE2.wav'"
      ]
     },
     "metadata": {},
     "output_type": "display_data"
    },
    {
     "name": "stderr",
     "output_type": "stream",
     "text": [
      "\r",
      " 86%|███████████████████████████████████████████████████████████████████▎          | 1616/1873 [06:40<01:01,  4.16it/s]"
     ]
    },
    {
     "data": {
      "text/plain": [
       "'new dataset\\\\sufi\\\\sufiE20.wav'"
      ]
     },
     "metadata": {},
     "output_type": "display_data"
    },
    {
     "name": "stderr",
     "output_type": "stream",
     "text": [
      "\r",
      " 86%|███████████████████████████████████████████████████████████████████▎          | 1617/1873 [06:40<01:03,  4.03it/s]"
     ]
    },
    {
     "data": {
      "text/plain": [
       "'new dataset\\\\sufi\\\\sufiE200.wav'"
      ]
     },
     "metadata": {},
     "output_type": "display_data"
    },
    {
     "name": "stderr",
     "output_type": "stream",
     "text": [
      "\r",
      " 86%|███████████████████████████████████████████████████████████████████▍          | 1618/1873 [06:40<01:02,  4.07it/s]"
     ]
    },
    {
     "data": {
      "text/plain": [
       "'new dataset\\\\sufi\\\\sufiE201.wav'"
      ]
     },
     "metadata": {},
     "output_type": "display_data"
    },
    {
     "name": "stderr",
     "output_type": "stream",
     "text": [
      "\r",
      " 86%|███████████████████████████████████████████████████████████████████▍          | 1619/1873 [06:40<01:03,  4.02it/s]"
     ]
    },
    {
     "data": {
      "text/plain": [
       "'new dataset\\\\sufi\\\\sufiE202.wav'"
      ]
     },
     "metadata": {},
     "output_type": "display_data"
    },
    {
     "name": "stderr",
     "output_type": "stream",
     "text": [
      "\r",
      " 86%|███████████████████████████████████████████████████████████████████▍          | 1620/1873 [06:41<01:03,  3.97it/s]"
     ]
    },
    {
     "data": {
      "text/plain": [
       "'new dataset\\\\sufi\\\\sufiE203.wav'"
      ]
     },
     "metadata": {},
     "output_type": "display_data"
    },
    {
     "name": "stderr",
     "output_type": "stream",
     "text": [
      "\r",
      " 87%|███████████████████████████████████████████████████████████████████▌          | 1621/1873 [06:41<01:05,  3.84it/s]"
     ]
    },
    {
     "data": {
      "text/plain": [
       "'new dataset\\\\sufi\\\\sufiE204.wav'"
      ]
     },
     "metadata": {},
     "output_type": "display_data"
    },
    {
     "name": "stderr",
     "output_type": "stream",
     "text": [
      "\r",
      " 87%|███████████████████████████████████████████████████████████████████▌          | 1622/1873 [06:41<01:04,  3.87it/s]"
     ]
    },
    {
     "data": {
      "text/plain": [
       "'new dataset\\\\sufi\\\\sufiE205.wav'"
      ]
     },
     "metadata": {},
     "output_type": "display_data"
    },
    {
     "name": "stderr",
     "output_type": "stream",
     "text": [
      "\r",
      " 87%|███████████████████████████████████████████████████████████████████▌          | 1623/1873 [06:41<01:03,  3.94it/s]"
     ]
    },
    {
     "data": {
      "text/plain": [
       "'new dataset\\\\sufi\\\\sufiE206.wav'"
      ]
     },
     "metadata": {},
     "output_type": "display_data"
    },
    {
     "name": "stderr",
     "output_type": "stream",
     "text": [
      "\r",
      " 87%|███████████████████████████████████████████████████████████████████▋          | 1624/1873 [06:42<01:02,  3.99it/s]"
     ]
    },
    {
     "data": {
      "text/plain": [
       "'new dataset\\\\sufi\\\\sufiE207.wav'"
      ]
     },
     "metadata": {},
     "output_type": "display_data"
    },
    {
     "name": "stderr",
     "output_type": "stream",
     "text": [
      "\r",
      " 87%|███████████████████████████████████████████████████████████████████▋          | 1625/1873 [06:42<01:01,  4.01it/s]"
     ]
    },
    {
     "data": {
      "text/plain": [
       "'new dataset\\\\sufi\\\\sufiE208.wav'"
      ]
     },
     "metadata": {},
     "output_type": "display_data"
    },
    {
     "name": "stderr",
     "output_type": "stream",
     "text": [
      "\r",
      " 87%|███████████████████████████████████████████████████████████████████▋          | 1626/1873 [06:42<01:02,  3.96it/s]"
     ]
    },
    {
     "data": {
      "text/plain": [
       "'new dataset\\\\sufi\\\\sufiE209.wav'"
      ]
     },
     "metadata": {},
     "output_type": "display_data"
    },
    {
     "name": "stderr",
     "output_type": "stream",
     "text": [
      "\r",
      " 87%|███████████████████████████████████████████████████████████████████▊          | 1627/1873 [06:42<01:01,  4.00it/s]"
     ]
    },
    {
     "data": {
      "text/plain": [
       "'new dataset\\\\sufi\\\\sufiE21.wav'"
      ]
     },
     "metadata": {},
     "output_type": "display_data"
    },
    {
     "name": "stderr",
     "output_type": "stream",
     "text": [
      "\r",
      " 87%|███████████████████████████████████████████████████████████████████▊          | 1628/1873 [06:43<01:00,  4.05it/s]"
     ]
    },
    {
     "data": {
      "text/plain": [
       "'new dataset\\\\sufi\\\\sufiE210.wav'"
      ]
     },
     "metadata": {},
     "output_type": "display_data"
    },
    {
     "name": "stderr",
     "output_type": "stream",
     "text": [
      "\r",
      " 87%|███████████████████████████████████████████████████████████████████▊          | 1629/1873 [06:43<00:59,  4.09it/s]"
     ]
    },
    {
     "data": {
      "text/plain": [
       "'new dataset\\\\sufi\\\\sufiE211.wav'"
      ]
     },
     "metadata": {},
     "output_type": "display_data"
    },
    {
     "name": "stderr",
     "output_type": "stream",
     "text": [
      "\r",
      " 87%|███████████████████████████████████████████████████████████████████▉          | 1630/1873 [06:43<01:00,  4.02it/s]"
     ]
    },
    {
     "data": {
      "text/plain": [
       "'new dataset\\\\sufi\\\\sufiE212.wav'"
      ]
     },
     "metadata": {},
     "output_type": "display_data"
    },
    {
     "name": "stderr",
     "output_type": "stream",
     "text": [
      "\r",
      " 87%|███████████████████████████████████████████████████████████████████▉          | 1631/1873 [06:43<00:59,  4.07it/s]"
     ]
    },
    {
     "data": {
      "text/plain": [
       "'new dataset\\\\sufi\\\\sufiE213.wav'"
      ]
     },
     "metadata": {},
     "output_type": "display_data"
    },
    {
     "name": "stderr",
     "output_type": "stream",
     "text": [
      "\r",
      " 87%|███████████████████████████████████████████████████████████████████▉          | 1632/1873 [06:44<00:58,  4.14it/s]"
     ]
    },
    {
     "data": {
      "text/plain": [
       "'new dataset\\\\sufi\\\\sufiE214.wav'"
      ]
     },
     "metadata": {},
     "output_type": "display_data"
    },
    {
     "name": "stderr",
     "output_type": "stream",
     "text": [
      "\r",
      " 87%|████████████████████████████████████████████████████████████████████          | 1633/1873 [06:44<00:57,  4.15it/s]"
     ]
    },
    {
     "data": {
      "text/plain": [
       "'new dataset\\\\sufi\\\\sufiE215.wav'"
      ]
     },
     "metadata": {},
     "output_type": "display_data"
    },
    {
     "name": "stderr",
     "output_type": "stream",
     "text": [
      "\r",
      " 87%|████████████████████████████████████████████████████████████████████          | 1634/1873 [06:44<00:57,  4.18it/s]"
     ]
    },
    {
     "data": {
      "text/plain": [
       "'new dataset\\\\sufi\\\\sufiE216.wav'"
      ]
     },
     "metadata": {},
     "output_type": "display_data"
    },
    {
     "name": "stderr",
     "output_type": "stream",
     "text": [
      "\r",
      " 87%|████████████████████████████████████████████████████████████████████          | 1635/1873 [06:44<00:58,  4.07it/s]"
     ]
    },
    {
     "data": {
      "text/plain": [
       "'new dataset\\\\sufi\\\\sufiE217.wav'"
      ]
     },
     "metadata": {},
     "output_type": "display_data"
    },
    {
     "name": "stderr",
     "output_type": "stream",
     "text": [
      "\r",
      " 87%|████████████████████████████████████████████████████████████████████▏         | 1636/1873 [06:45<00:57,  4.14it/s]"
     ]
    },
    {
     "data": {
      "text/plain": [
       "'new dataset\\\\sufi\\\\sufiE218.wav'"
      ]
     },
     "metadata": {},
     "output_type": "display_data"
    },
    {
     "name": "stderr",
     "output_type": "stream",
     "text": [
      "\r",
      " 87%|████████████████████████████████████████████████████████████████████▏         | 1637/1873 [06:45<00:57,  4.12it/s]"
     ]
    },
    {
     "data": {
      "text/plain": [
       "'new dataset\\\\sufi\\\\sufiE219.wav'"
      ]
     },
     "metadata": {},
     "output_type": "display_data"
    },
    {
     "name": "stderr",
     "output_type": "stream",
     "text": [
      "\r",
      " 87%|████████████████████████████████████████████████████████████████████▏         | 1638/1873 [06:45<00:56,  4.18it/s]"
     ]
    },
    {
     "data": {
      "text/plain": [
       "'new dataset\\\\sufi\\\\sufiE22.wav'"
      ]
     },
     "metadata": {},
     "output_type": "display_data"
    },
    {
     "name": "stderr",
     "output_type": "stream",
     "text": [
      "\r",
      " 88%|████████████████████████████████████████████████████████████████████▎         | 1639/1873 [06:45<00:54,  4.26it/s]"
     ]
    },
    {
     "data": {
      "text/plain": [
       "'new dataset\\\\sufi\\\\sufiE220.wav'"
      ]
     },
     "metadata": {},
     "output_type": "display_data"
    },
    {
     "name": "stderr",
     "output_type": "stream",
     "text": [
      "\r",
      " 88%|████████████████████████████████████████████████████████████████████▎         | 1640/1873 [06:46<00:56,  4.11it/s]"
     ]
    },
    {
     "data": {
      "text/plain": [
       "'new dataset\\\\sufi\\\\sufiE221.wav'"
      ]
     },
     "metadata": {},
     "output_type": "display_data"
    },
    {
     "name": "stderr",
     "output_type": "stream",
     "text": [
      "\r",
      " 88%|████████████████████████████████████████████████████████████████████▎         | 1641/1873 [06:46<00:56,  4.10it/s]"
     ]
    },
    {
     "data": {
      "text/plain": [
       "'new dataset\\\\sufi\\\\sufiE222.wav'"
      ]
     },
     "metadata": {},
     "output_type": "display_data"
    },
    {
     "name": "stderr",
     "output_type": "stream",
     "text": [
      "\r",
      " 88%|████████████████████████████████████████████████████████████████████▍         | 1642/1873 [06:46<00:58,  3.95it/s]"
     ]
    },
    {
     "data": {
      "text/plain": [
       "'new dataset\\\\sufi\\\\sufiE223.wav'"
      ]
     },
     "metadata": {},
     "output_type": "display_data"
    },
    {
     "name": "stderr",
     "output_type": "stream",
     "text": [
      "\r",
      " 88%|████████████████████████████████████████████████████████████████████▍         | 1643/1873 [06:46<00:58,  3.94it/s]"
     ]
    },
    {
     "data": {
      "text/plain": [
       "'new dataset\\\\sufi\\\\sufiE224.wav'"
      ]
     },
     "metadata": {},
     "output_type": "display_data"
    },
    {
     "name": "stderr",
     "output_type": "stream",
     "text": [
      "\r",
      " 88%|████████████████████████████████████████████████████████████████████▍         | 1644/1873 [06:47<00:55,  4.11it/s]"
     ]
    },
    {
     "data": {
      "text/plain": [
       "'new dataset\\\\sufi\\\\sufiE225.wav'"
      ]
     },
     "metadata": {},
     "output_type": "display_data"
    },
    {
     "name": "stderr",
     "output_type": "stream",
     "text": [
      "\r",
      " 88%|████████████████████████████████████████████████████████████████████▌         | 1645/1873 [06:47<01:16,  3.00it/s]"
     ]
    },
    {
     "data": {
      "text/plain": [
       "'new dataset\\\\sufi\\\\sufiE226.wav'"
      ]
     },
     "metadata": {},
     "output_type": "display_data"
    },
    {
     "name": "stderr",
     "output_type": "stream",
     "text": [
      "\r",
      " 88%|████████████████████████████████████████████████████████████████████▌         | 1646/1873 [06:47<01:02,  3.63it/s]"
     ]
    },
    {
     "data": {
      "text/plain": [
       "'new dataset\\\\sufi\\\\sufiE227.wav'"
      ]
     },
     "metadata": {},
     "output_type": "display_data"
    },
    {
     "name": "stderr",
     "output_type": "stream",
     "text": [
      "\r",
      " 88%|████████████████████████████████████████████████████████████████████▌         | 1647/1873 [06:47<00:50,  4.44it/s]"
     ]
    },
    {
     "data": {
      "text/plain": [
       "'new dataset\\\\sufi\\\\sufiE228.wav'"
      ]
     },
     "metadata": {},
     "output_type": "display_data"
    },
    {
     "data": {
      "text/plain": [
       "'new dataset\\\\sufi\\\\sufiE229.wav'"
      ]
     },
     "metadata": {},
     "output_type": "display_data"
    },
    {
     "name": "stderr",
     "output_type": "stream",
     "text": [
      "\r",
      " 88%|████████████████████████████████████████████████████████████████████▋         | 1649/1873 [06:48<00:36,  6.08it/s]"
     ]
    },
    {
     "data": {
      "text/plain": [
       "'new dataset\\\\sufi\\\\sufiE23.wav'"
      ]
     },
     "metadata": {},
     "output_type": "display_data"
    },
    {
     "name": "stderr",
     "output_type": "stream",
     "text": [
      "\r",
      " 88%|████████████████████████████████████████████████████████████████████▋         | 1650/1873 [06:48<00:33,  6.72it/s]"
     ]
    },
    {
     "data": {
      "text/plain": [
       "'new dataset\\\\sufi\\\\sufiE230.wav'"
      ]
     },
     "metadata": {},
     "output_type": "display_data"
    },
    {
     "name": "stderr",
     "output_type": "stream",
     "text": [
      "\r",
      " 88%|████████████████████████████████████████████████████████████████████▊         | 1651/1873 [06:48<00:30,  7.33it/s]"
     ]
    },
    {
     "data": {
      "text/plain": [
       "'new dataset\\\\sufi\\\\sufiE231.wav'"
      ]
     },
     "metadata": {},
     "output_type": "display_data"
    },
    {
     "name": "stderr",
     "output_type": "stream",
     "text": [
      "\r",
      " 88%|████████████████████████████████████████████████████████████████████▊         | 1652/1873 [06:48<00:28,  7.84it/s]"
     ]
    },
    {
     "data": {
      "text/plain": [
       "'new dataset\\\\sufi\\\\sufiE232.wav'"
      ]
     },
     "metadata": {},
     "output_type": "display_data"
    },
    {
     "data": {
      "text/plain": [
       "'new dataset\\\\sufi\\\\sufiE233.wav'"
      ]
     },
     "metadata": {},
     "output_type": "display_data"
    },
    {
     "name": "stderr",
     "output_type": "stream",
     "text": [
      "\r",
      " 88%|████████████████████████████████████████████████████████████████████▉         | 1654/1873 [06:48<00:24,  8.84it/s]"
     ]
    },
    {
     "data": {
      "text/plain": [
       "'new dataset\\\\sufi\\\\sufiE234.wav'"
      ]
     },
     "metadata": {},
     "output_type": "display_data"
    },
    {
     "name": "stderr",
     "output_type": "stream",
     "text": [
      "\r",
      " 88%|████████████████████████████████████████████████████████████████████▉         | 1655/1873 [06:48<00:24,  8.96it/s]"
     ]
    },
    {
     "data": {
      "text/plain": [
       "'new dataset\\\\sufi\\\\sufiE235.wav'"
      ]
     },
     "metadata": {},
     "output_type": "display_data"
    },
    {
     "name": "stderr",
     "output_type": "stream",
     "text": [
      "\r",
      " 88%|████████████████████████████████████████████████████████████████████▉         | 1656/1873 [06:48<00:23,  9.16it/s]"
     ]
    },
    {
     "data": {
      "text/plain": [
       "'new dataset\\\\sufi\\\\sufiE236.wav'"
      ]
     },
     "metadata": {},
     "output_type": "display_data"
    },
    {
     "data": {
      "text/plain": [
       "'new dataset\\\\sufi\\\\sufiE237.wav'"
      ]
     },
     "metadata": {},
     "output_type": "display_data"
    },
    {
     "name": "stderr",
     "output_type": "stream",
     "text": [
      "\r",
      " 89%|█████████████████████████████████████████████████████████████████████         | 1658/1873 [06:48<00:22,  9.46it/s]"
     ]
    },
    {
     "data": {
      "text/plain": [
       "'new dataset\\\\sufi\\\\sufiE238.wav'"
      ]
     },
     "metadata": {},
     "output_type": "display_data"
    },
    {
     "name": "stderr",
     "output_type": "stream",
     "text": [
      "\r",
      " 89%|█████████████████████████████████████████████████████████████████████         | 1659/1873 [06:49<00:23,  9.24it/s]"
     ]
    },
    {
     "data": {
      "text/plain": [
       "'new dataset\\\\sufi\\\\sufiE239.wav'"
      ]
     },
     "metadata": {},
     "output_type": "display_data"
    },
    {
     "name": "stderr",
     "output_type": "stream",
     "text": [
      "\r",
      " 89%|█████████████████████████████████████████████████████████████████████▏        | 1660/1873 [06:49<00:23,  9.06it/s]"
     ]
    },
    {
     "data": {
      "text/plain": [
       "'new dataset\\\\sufi\\\\sufiE24.wav'"
      ]
     },
     "metadata": {},
     "output_type": "display_data"
    },
    {
     "name": "stderr",
     "output_type": "stream",
     "text": [
      "\r",
      " 89%|█████████████████████████████████████████████████████████████████████▏        | 1661/1873 [06:49<00:23,  8.87it/s]"
     ]
    },
    {
     "data": {
      "text/plain": [
       "'new dataset\\\\sufi\\\\sufiE240.wav'"
      ]
     },
     "metadata": {},
     "output_type": "display_data"
    },
    {
     "name": "stderr",
     "output_type": "stream",
     "text": [
      "\r",
      " 89%|█████████████████████████████████████████████████████████████████████▏        | 1662/1873 [06:49<00:24,  8.71it/s]"
     ]
    },
    {
     "data": {
      "text/plain": [
       "'new dataset\\\\sufi\\\\sufiE241.wav'"
      ]
     },
     "metadata": {},
     "output_type": "display_data"
    },
    {
     "name": "stderr",
     "output_type": "stream",
     "text": [
      "\r",
      " 89%|█████████████████████████████████████████████████████████████████████▎        | 1663/1873 [06:49<00:23,  8.79it/s]"
     ]
    },
    {
     "data": {
      "text/plain": [
       "'new dataset\\\\sufi\\\\sufiE242.wav'"
      ]
     },
     "metadata": {},
     "output_type": "display_data"
    },
    {
     "name": "stderr",
     "output_type": "stream",
     "text": [
      "\r",
      " 89%|█████████████████████████████████████████████████████████████████████▎        | 1664/1873 [06:49<00:23,  8.77it/s]"
     ]
    },
    {
     "data": {
      "text/plain": [
       "'new dataset\\\\sufi\\\\sufiE243.wav'"
      ]
     },
     "metadata": {},
     "output_type": "display_data"
    },
    {
     "name": "stderr",
     "output_type": "stream",
     "text": [
      "\r",
      " 89%|█████████████████████████████████████████████████████████████████████▎        | 1665/1873 [06:49<00:23,  8.77it/s]"
     ]
    },
    {
     "data": {
      "text/plain": [
       "'new dataset\\\\sufi\\\\sufiE244.wav'"
      ]
     },
     "metadata": {},
     "output_type": "display_data"
    },
    {
     "name": "stderr",
     "output_type": "stream",
     "text": [
      "\r",
      " 89%|█████████████████████████████████████████████████████████████████████▍        | 1666/1873 [06:49<00:24,  8.48it/s]"
     ]
    },
    {
     "data": {
      "text/plain": [
       "'new dataset\\\\sufi\\\\sufiE245.wav'"
      ]
     },
     "metadata": {},
     "output_type": "display_data"
    },
    {
     "name": "stderr",
     "output_type": "stream",
     "text": [
      "\r",
      " 89%|█████████████████████████████████████████████████████████████████████▍        | 1667/1873 [06:50<00:24,  8.48it/s]"
     ]
    },
    {
     "data": {
      "text/plain": [
       "'new dataset\\\\sufi\\\\sufiE246.wav'"
      ]
     },
     "metadata": {},
     "output_type": "display_data"
    },
    {
     "name": "stderr",
     "output_type": "stream",
     "text": [
      "\r",
      " 89%|█████████████████████████████████████████████████████████████████████▍        | 1668/1873 [06:50<00:24,  8.46it/s]"
     ]
    },
    {
     "data": {
      "text/plain": [
       "'new dataset\\\\sufi\\\\sufiE247.wav'"
      ]
     },
     "metadata": {},
     "output_type": "display_data"
    },
    {
     "name": "stderr",
     "output_type": "stream",
     "text": [
      "\r",
      " 89%|█████████████████████████████████████████████████████████████████████▌        | 1669/1873 [06:50<00:25,  8.10it/s]"
     ]
    },
    {
     "data": {
      "text/plain": [
       "'new dataset\\\\sufi\\\\sufiE248.wav'"
      ]
     },
     "metadata": {},
     "output_type": "display_data"
    },
    {
     "name": "stderr",
     "output_type": "stream",
     "text": [
      "\r",
      " 89%|█████████████████████████████████████████████████████████████████████▌        | 1670/1873 [06:50<00:24,  8.18it/s]"
     ]
    },
    {
     "data": {
      "text/plain": [
       "'new dataset\\\\sufi\\\\sufiE249.wav'"
      ]
     },
     "metadata": {},
     "output_type": "display_data"
    },
    {
     "name": "stderr",
     "output_type": "stream",
     "text": [
      "\r",
      " 89%|█████████████████████████████████████████████████████████████████████▌        | 1671/1873 [06:50<00:23,  8.53it/s]"
     ]
    },
    {
     "data": {
      "text/plain": [
       "'new dataset\\\\sufi\\\\sufiE25.wav'"
      ]
     },
     "metadata": {},
     "output_type": "display_data"
    },
    {
     "name": "stderr",
     "output_type": "stream",
     "text": [
      "\r",
      " 89%|█████████████████████████████████████████████████████████████████████▋        | 1672/1873 [06:50<00:24,  8.36it/s]"
     ]
    },
    {
     "data": {
      "text/plain": [
       "'new dataset\\\\sufi\\\\sufiE250.wav'"
      ]
     },
     "metadata": {},
     "output_type": "display_data"
    },
    {
     "name": "stderr",
     "output_type": "stream",
     "text": [
      "\r",
      " 89%|█████████████████████████████████████████████████████████████████████▋        | 1673/1873 [06:50<00:23,  8.33it/s]"
     ]
    },
    {
     "data": {
      "text/plain": [
       "'new dataset\\\\sufi\\\\sufiE251.wav'"
      ]
     },
     "metadata": {},
     "output_type": "display_data"
    },
    {
     "name": "stderr",
     "output_type": "stream",
     "text": [
      "\r",
      " 89%|█████████████████████████████████████████████████████████████████████▋        | 1674/1873 [06:50<00:23,  8.30it/s]"
     ]
    },
    {
     "data": {
      "text/plain": [
       "'new dataset\\\\sufi\\\\sufiE252.wav'"
      ]
     },
     "metadata": {},
     "output_type": "display_data"
    },
    {
     "name": "stderr",
     "output_type": "stream",
     "text": [
      "\r",
      " 89%|█████████████████████████████████████████████████████████████████████▊        | 1675/1873 [06:50<00:23,  8.48it/s]"
     ]
    },
    {
     "data": {
      "text/plain": [
       "'new dataset\\\\sufi\\\\sufiE253.wav'"
      ]
     },
     "metadata": {},
     "output_type": "display_data"
    },
    {
     "name": "stderr",
     "output_type": "stream",
     "text": [
      "\r",
      " 89%|█████████████████████████████████████████████████████████████████████▊        | 1676/1873 [06:51<00:24,  8.17it/s]"
     ]
    },
    {
     "data": {
      "text/plain": [
       "'new dataset\\\\sufi\\\\sufiE254.wav'"
      ]
     },
     "metadata": {},
     "output_type": "display_data"
    },
    {
     "name": "stderr",
     "output_type": "stream",
     "text": [
      "\r",
      " 90%|█████████████████████████████████████████████████████████████████████▊        | 1677/1873 [06:51<00:23,  8.26it/s]"
     ]
    },
    {
     "data": {
      "text/plain": [
       "'new dataset\\\\sufi\\\\sufiE255.wav'"
      ]
     },
     "metadata": {},
     "output_type": "display_data"
    },
    {
     "name": "stderr",
     "output_type": "stream",
     "text": [
      "\r",
      " 90%|█████████████████████████████████████████████████████████████████████▉        | 1678/1873 [06:51<00:23,  8.13it/s]"
     ]
    },
    {
     "data": {
      "text/plain": [
       "'new dataset\\\\sufi\\\\sufiE256.wav'"
      ]
     },
     "metadata": {},
     "output_type": "display_data"
    },
    {
     "name": "stderr",
     "output_type": "stream",
     "text": [
      "\r",
      " 90%|█████████████████████████████████████████████████████████████████████▉        | 1679/1873 [06:51<00:22,  8.52it/s]"
     ]
    },
    {
     "data": {
      "text/plain": [
       "'new dataset\\\\sufi\\\\sufiE257.wav'"
      ]
     },
     "metadata": {},
     "output_type": "display_data"
    },
    {
     "name": "stderr",
     "output_type": "stream",
     "text": [
      "\r",
      " 90%|█████████████████████████████████████████████████████████████████████▉        | 1680/1873 [06:51<00:22,  8.56it/s]"
     ]
    },
    {
     "data": {
      "text/plain": [
       "'new dataset\\\\sufi\\\\sufiE258.wav'"
      ]
     },
     "metadata": {},
     "output_type": "display_data"
    },
    {
     "name": "stderr",
     "output_type": "stream",
     "text": [
      "\r",
      " 90%|██████████████████████████████████████████████████████████████████████        | 1681/1873 [06:51<00:22,  8.54it/s]"
     ]
    },
    {
     "data": {
      "text/plain": [
       "'new dataset\\\\sufi\\\\sufiE259.wav'"
      ]
     },
     "metadata": {},
     "output_type": "display_data"
    },
    {
     "name": "stderr",
     "output_type": "stream",
     "text": [
      "\r",
      " 90%|██████████████████████████████████████████████████████████████████████        | 1682/1873 [06:51<00:22,  8.49it/s]"
     ]
    },
    {
     "data": {
      "text/plain": [
       "'new dataset\\\\sufi\\\\sufiE26.wav'"
      ]
     },
     "metadata": {},
     "output_type": "display_data"
    },
    {
     "name": "stderr",
     "output_type": "stream",
     "text": [
      "\r",
      " 90%|██████████████████████████████████████████████████████████████████████        | 1683/1873 [06:51<00:22,  8.43it/s]"
     ]
    },
    {
     "data": {
      "text/plain": [
       "'new dataset\\\\sufi\\\\sufiE260.wav'"
      ]
     },
     "metadata": {},
     "output_type": "display_data"
    },
    {
     "name": "stderr",
     "output_type": "stream",
     "text": [
      "\r",
      " 90%|██████████████████████████████████████████████████████████████████████▏       | 1684/1873 [06:52<00:22,  8.37it/s]"
     ]
    },
    {
     "data": {
      "text/plain": [
       "'new dataset\\\\sufi\\\\sufiE261.wav'"
      ]
     },
     "metadata": {},
     "output_type": "display_data"
    },
    {
     "name": "stderr",
     "output_type": "stream",
     "text": [
      "\r",
      " 90%|██████████████████████████████████████████████████████████████████████▏       | 1685/1873 [06:52<00:23,  8.05it/s]"
     ]
    },
    {
     "data": {
      "text/plain": [
       "'new dataset\\\\sufi\\\\sufiE262.wav'"
      ]
     },
     "metadata": {},
     "output_type": "display_data"
    },
    {
     "name": "stderr",
     "output_type": "stream",
     "text": [
      "\r",
      " 90%|██████████████████████████████████████████████████████████████████████▏       | 1686/1873 [06:52<00:23,  8.04it/s]"
     ]
    },
    {
     "data": {
      "text/plain": [
       "'new dataset\\\\sufi\\\\sufiE263.wav'"
      ]
     },
     "metadata": {},
     "output_type": "display_data"
    },
    {
     "name": "stderr",
     "output_type": "stream",
     "text": [
      "\r",
      " 90%|██████████████████████████████████████████████████████████████████████▎       | 1687/1873 [06:52<00:23,  8.06it/s]"
     ]
    },
    {
     "data": {
      "text/plain": [
       "'new dataset\\\\sufi\\\\sufiE264.wav'"
      ]
     },
     "metadata": {},
     "output_type": "display_data"
    },
    {
     "name": "stderr",
     "output_type": "stream",
     "text": [
      "\r",
      " 90%|██████████████████████████████████████████████████████████████████████▎       | 1688/1873 [06:52<00:23,  7.91it/s]"
     ]
    },
    {
     "data": {
      "text/plain": [
       "'new dataset\\\\sufi\\\\sufiE265.wav'"
      ]
     },
     "metadata": {},
     "output_type": "display_data"
    },
    {
     "name": "stderr",
     "output_type": "stream",
     "text": [
      "\r",
      " 90%|██████████████████████████████████████████████████████████████████████▎       | 1689/1873 [06:52<00:22,  8.05it/s]"
     ]
    },
    {
     "data": {
      "text/plain": [
       "'new dataset\\\\sufi\\\\sufiE266.wav'"
      ]
     },
     "metadata": {},
     "output_type": "display_data"
    },
    {
     "name": "stderr",
     "output_type": "stream",
     "text": [
      "\r",
      " 90%|██████████████████████████████████████████████████████████████████████▍       | 1690/1873 [06:52<00:21,  8.34it/s]"
     ]
    },
    {
     "data": {
      "text/plain": [
       "'new dataset\\\\sufi\\\\sufiE267.wav'"
      ]
     },
     "metadata": {},
     "output_type": "display_data"
    },
    {
     "name": "stderr",
     "output_type": "stream",
     "text": [
      "\r",
      " 90%|██████████████████████████████████████████████████████████████████████▍       | 1691/1873 [06:52<00:22,  8.18it/s]"
     ]
    },
    {
     "data": {
      "text/plain": [
       "'new dataset\\\\sufi\\\\sufiE268.wav'"
      ]
     },
     "metadata": {},
     "output_type": "display_data"
    },
    {
     "name": "stderr",
     "output_type": "stream",
     "text": [
      "\r",
      " 90%|██████████████████████████████████████████████████████████████████████▍       | 1692/1873 [06:53<00:22,  8.21it/s]"
     ]
    },
    {
     "data": {
      "text/plain": [
       "'new dataset\\\\sufi\\\\sufiE269.wav'"
      ]
     },
     "metadata": {},
     "output_type": "display_data"
    },
    {
     "name": "stderr",
     "output_type": "stream",
     "text": [
      "\r",
      " 90%|██████████████████████████████████████████████████████████████████████▌       | 1693/1873 [06:53<00:21,  8.21it/s]"
     ]
    },
    {
     "data": {
      "text/plain": [
       "'new dataset\\\\sufi\\\\sufiE27.wav'"
      ]
     },
     "metadata": {},
     "output_type": "display_data"
    },
    {
     "name": "stderr",
     "output_type": "stream",
     "text": [
      "\r",
      " 90%|██████████████████████████████████████████████████████████████████████▌       | 1694/1873 [06:53<00:21,  8.36it/s]"
     ]
    },
    {
     "data": {
      "text/plain": [
       "'new dataset\\\\sufi\\\\sufiE270.wav'"
      ]
     },
     "metadata": {},
     "output_type": "display_data"
    },
    {
     "name": "stderr",
     "output_type": "stream",
     "text": [
      "\r",
      " 90%|██████████████████████████████████████████████████████████████████████▌       | 1695/1873 [06:53<00:21,  8.40it/s]"
     ]
    },
    {
     "data": {
      "text/plain": [
       "'new dataset\\\\sufi\\\\sufiE271.wav'"
      ]
     },
     "metadata": {},
     "output_type": "display_data"
    },
    {
     "name": "stderr",
     "output_type": "stream",
     "text": [
      "\r",
      " 91%|██████████████████████████████████████████████████████████████████████▋       | 1696/1873 [06:53<00:21,  8.31it/s]"
     ]
    },
    {
     "data": {
      "text/plain": [
       "'new dataset\\\\sufi\\\\sufiE272.wav'"
      ]
     },
     "metadata": {},
     "output_type": "display_data"
    },
    {
     "name": "stderr",
     "output_type": "stream",
     "text": [
      "\r",
      " 91%|██████████████████████████████████████████████████████████████████████▋       | 1697/1873 [06:53<00:21,  8.33it/s]"
     ]
    },
    {
     "data": {
      "text/plain": [
       "'new dataset\\\\sufi\\\\sufiE273.wav'"
      ]
     },
     "metadata": {},
     "output_type": "display_data"
    },
    {
     "name": "stderr",
     "output_type": "stream",
     "text": [
      "\r",
      " 91%|██████████████████████████████████████████████████████████████████████▋       | 1698/1873 [06:53<00:20,  8.39it/s]"
     ]
    },
    {
     "data": {
      "text/plain": [
       "'new dataset\\\\sufi\\\\sufiE274.wav'"
      ]
     },
     "metadata": {},
     "output_type": "display_data"
    },
    {
     "name": "stderr",
     "output_type": "stream",
     "text": [
      "\r",
      " 91%|██████████████████████████████████████████████████████████████████████▊       | 1699/1873 [06:53<00:20,  8.33it/s]"
     ]
    },
    {
     "data": {
      "text/plain": [
       "'new dataset\\\\sufi\\\\sufiE275.wav'"
      ]
     },
     "metadata": {},
     "output_type": "display_data"
    },
    {
     "name": "stderr",
     "output_type": "stream",
     "text": [
      "\r",
      " 91%|██████████████████████████████████████████████████████████████████████▊       | 1700/1873 [06:53<00:20,  8.41it/s]"
     ]
    },
    {
     "data": {
      "text/plain": [
       "'new dataset\\\\sufi\\\\sufiE276.wav'"
      ]
     },
     "metadata": {},
     "output_type": "display_data"
    },
    {
     "name": "stderr",
     "output_type": "stream",
     "text": [
      "\r",
      " 91%|██████████████████████████████████████████████████████████████████████▊       | 1701/1873 [06:54<00:20,  8.45it/s]"
     ]
    },
    {
     "data": {
      "text/plain": [
       "'new dataset\\\\sufi\\\\sufiE277.wav'"
      ]
     },
     "metadata": {},
     "output_type": "display_data"
    },
    {
     "name": "stderr",
     "output_type": "stream",
     "text": [
      "\r",
      " 91%|██████████████████████████████████████████████████████████████████████▉       | 1702/1873 [06:54<00:20,  8.19it/s]"
     ]
    },
    {
     "data": {
      "text/plain": [
       "'new dataset\\\\sufi\\\\sufiE278.wav'"
      ]
     },
     "metadata": {},
     "output_type": "display_data"
    },
    {
     "name": "stderr",
     "output_type": "stream",
     "text": [
      "\r",
      " 91%|██████████████████████████████████████████████████████████████████████▉       | 1703/1873 [06:54<00:20,  8.19it/s]"
     ]
    },
    {
     "data": {
      "text/plain": [
       "'new dataset\\\\sufi\\\\sufiE279.wav'"
      ]
     },
     "metadata": {},
     "output_type": "display_data"
    },
    {
     "name": "stderr",
     "output_type": "stream",
     "text": [
      "\r",
      " 91%|██████████████████████████████████████████████████████████████████████▉       | 1704/1873 [06:54<00:20,  8.18it/s]"
     ]
    },
    {
     "data": {
      "text/plain": [
       "'new dataset\\\\sufi\\\\sufiE28.wav'"
      ]
     },
     "metadata": {},
     "output_type": "display_data"
    },
    {
     "name": "stderr",
     "output_type": "stream",
     "text": [
      "\r",
      " 91%|███████████████████████████████████████████████████████████████████████       | 1705/1873 [06:54<00:20,  8.26it/s]"
     ]
    },
    {
     "data": {
      "text/plain": [
       "'new dataset\\\\sufi\\\\sufiE280.wav'"
      ]
     },
     "metadata": {},
     "output_type": "display_data"
    },
    {
     "name": "stderr",
     "output_type": "stream",
     "text": [
      "\r",
      " 91%|███████████████████████████████████████████████████████████████████████       | 1706/1873 [06:54<00:20,  8.14it/s]"
     ]
    },
    {
     "data": {
      "text/plain": [
       "'new dataset\\\\sufi\\\\sufiE281.wav'"
      ]
     },
     "metadata": {},
     "output_type": "display_data"
    },
    {
     "name": "stderr",
     "output_type": "stream",
     "text": [
      "\r",
      " 91%|███████████████████████████████████████████████████████████████████████       | 1707/1873 [06:54<00:20,  8.11it/s]"
     ]
    },
    {
     "data": {
      "text/plain": [
       "'new dataset\\\\sufi\\\\sufiE282.wav'"
      ]
     },
     "metadata": {},
     "output_type": "display_data"
    },
    {
     "name": "stderr",
     "output_type": "stream",
     "text": [
      "\r",
      " 91%|███████████████████████████████████████████████████████████████████████▏      | 1708/1873 [06:54<00:19,  8.26it/s]"
     ]
    },
    {
     "data": {
      "text/plain": [
       "'new dataset\\\\sufi\\\\sufiE283.wav'"
      ]
     },
     "metadata": {},
     "output_type": "display_data"
    },
    {
     "name": "stderr",
     "output_type": "stream",
     "text": [
      "\r",
      " 91%|███████████████████████████████████████████████████████████████████████▏      | 1709/1873 [06:55<00:19,  8.21it/s]"
     ]
    },
    {
     "data": {
      "text/plain": [
       "'new dataset\\\\sufi\\\\sufiE284.wav'"
      ]
     },
     "metadata": {},
     "output_type": "display_data"
    },
    {
     "name": "stderr",
     "output_type": "stream",
     "text": [
      "\r",
      " 91%|███████████████████████████████████████████████████████████████████████▏      | 1710/1873 [06:55<00:20,  7.94it/s]"
     ]
    },
    {
     "data": {
      "text/plain": [
       "'new dataset\\\\sufi\\\\sufiE285.wav'"
      ]
     },
     "metadata": {},
     "output_type": "display_data"
    },
    {
     "name": "stderr",
     "output_type": "stream",
     "text": [
      "\r",
      " 91%|███████████████████████████████████████████████████████████████████████▎      | 1711/1873 [06:55<00:20,  8.03it/s]"
     ]
    },
    {
     "data": {
      "text/plain": [
       "'new dataset\\\\sufi\\\\sufiE286.wav'"
      ]
     },
     "metadata": {},
     "output_type": "display_data"
    },
    {
     "name": "stderr",
     "output_type": "stream",
     "text": [
      "\r",
      " 91%|███████████████████████████████████████████████████████████████████████▎      | 1712/1873 [06:55<00:19,  8.09it/s]"
     ]
    },
    {
     "data": {
      "text/plain": [
       "'new dataset\\\\sufi\\\\sufiE287.wav'"
      ]
     },
     "metadata": {},
     "output_type": "display_data"
    },
    {
     "name": "stderr",
     "output_type": "stream",
     "text": [
      "\r",
      " 91%|███████████████████████████████████████████████████████████████████████▎      | 1713/1873 [06:55<00:20,  7.93it/s]"
     ]
    },
    {
     "data": {
      "text/plain": [
       "'new dataset\\\\sufi\\\\sufiE288.wav'"
      ]
     },
     "metadata": {},
     "output_type": "display_data"
    },
    {
     "name": "stderr",
     "output_type": "stream",
     "text": [
      "\r",
      " 92%|███████████████████████████████████████████████████████████████████████▍      | 1714/1873 [06:55<00:20,  7.94it/s]"
     ]
    },
    {
     "data": {
      "text/plain": [
       "'new dataset\\\\sufi\\\\sufiE289.wav'"
      ]
     },
     "metadata": {},
     "output_type": "display_data"
    },
    {
     "name": "stderr",
     "output_type": "stream",
     "text": [
      "\r",
      " 92%|███████████████████████████████████████████████████████████████████████▍      | 1715/1873 [06:55<00:20,  7.83it/s]"
     ]
    },
    {
     "data": {
      "text/plain": [
       "'new dataset\\\\sufi\\\\sufiE29.wav'"
      ]
     },
     "metadata": {},
     "output_type": "display_data"
    },
    {
     "name": "stderr",
     "output_type": "stream",
     "text": [
      "\r",
      " 92%|███████████████████████████████████████████████████████████████████████▍      | 1716/1873 [06:55<00:19,  7.98it/s]"
     ]
    },
    {
     "data": {
      "text/plain": [
       "'new dataset\\\\sufi\\\\sufiE290.wav'"
      ]
     },
     "metadata": {},
     "output_type": "display_data"
    },
    {
     "name": "stderr",
     "output_type": "stream",
     "text": [
      "\r",
      " 92%|███████████████████████████████████████████████████████████████████████▌      | 1717/1873 [06:56<00:19,  8.17it/s]"
     ]
    },
    {
     "data": {
      "text/plain": [
       "'new dataset\\\\sufi\\\\sufiE291.wav'"
      ]
     },
     "metadata": {},
     "output_type": "display_data"
    },
    {
     "name": "stderr",
     "output_type": "stream",
     "text": [
      "\r",
      " 92%|███████████████████████████████████████████████████████████████████████▌      | 1718/1873 [06:56<00:18,  8.27it/s]"
     ]
    },
    {
     "data": {
      "text/plain": [
       "'new dataset\\\\sufi\\\\sufiE292.wav'"
      ]
     },
     "metadata": {},
     "output_type": "display_data"
    },
    {
     "name": "stderr",
     "output_type": "stream",
     "text": [
      "\r",
      " 92%|███████████████████████████████████████████████████████████████████████▌      | 1719/1873 [06:56<00:18,  8.25it/s]"
     ]
    },
    {
     "data": {
      "text/plain": [
       "'new dataset\\\\sufi\\\\sufiE293.wav'"
      ]
     },
     "metadata": {},
     "output_type": "display_data"
    },
    {
     "name": "stderr",
     "output_type": "stream",
     "text": [
      "\r",
      " 92%|███████████████████████████████████████████████████████████████████████▋      | 1720/1873 [06:56<00:18,  8.35it/s]"
     ]
    },
    {
     "data": {
      "text/plain": [
       "'new dataset\\\\sufi\\\\sufiE294.wav'"
      ]
     },
     "metadata": {},
     "output_type": "display_data"
    },
    {
     "name": "stderr",
     "output_type": "stream",
     "text": [
      "\r",
      " 92%|███████████████████████████████████████████████████████████████████████▋      | 1721/1873 [06:56<00:18,  8.35it/s]"
     ]
    },
    {
     "data": {
      "text/plain": [
       "'new dataset\\\\sufi\\\\sufiE295.wav'"
      ]
     },
     "metadata": {},
     "output_type": "display_data"
    },
    {
     "name": "stderr",
     "output_type": "stream",
     "text": [
      "\r",
      " 92%|███████████████████████████████████████████████████████████████████████▋      | 1722/1873 [06:56<00:18,  8.38it/s]"
     ]
    },
    {
     "data": {
      "text/plain": [
       "'new dataset\\\\sufi\\\\sufiE296.wav'"
      ]
     },
     "metadata": {},
     "output_type": "display_data"
    },
    {
     "name": "stderr",
     "output_type": "stream",
     "text": [
      "\r",
      " 92%|███████████████████████████████████████████████████████████████████████▊      | 1723/1873 [06:56<00:17,  8.45it/s]"
     ]
    },
    {
     "data": {
      "text/plain": [
       "'new dataset\\\\sufi\\\\sufiE297.wav'"
      ]
     },
     "metadata": {},
     "output_type": "display_data"
    },
    {
     "name": "stderr",
     "output_type": "stream",
     "text": [
      "\r",
      " 92%|███████████████████████████████████████████████████████████████████████▊      | 1724/1873 [06:56<00:17,  8.29it/s]"
     ]
    },
    {
     "data": {
      "text/plain": [
       "'new dataset\\\\sufi\\\\sufiE298.wav'"
      ]
     },
     "metadata": {},
     "output_type": "display_data"
    },
    {
     "name": "stderr",
     "output_type": "stream",
     "text": [
      "\r",
      " 92%|███████████████████████████████████████████████████████████████████████▊      | 1725/1873 [06:57<00:17,  8.39it/s]"
     ]
    },
    {
     "data": {
      "text/plain": [
       "'new dataset\\\\sufi\\\\sufiE299.wav'"
      ]
     },
     "metadata": {},
     "output_type": "display_data"
    },
    {
     "name": "stderr",
     "output_type": "stream",
     "text": [
      "\r",
      " 92%|███████████████████████████████████████████████████████████████████████▉      | 1726/1873 [06:57<00:17,  8.23it/s]"
     ]
    },
    {
     "data": {
      "text/plain": [
       "'new dataset\\\\sufi\\\\sufiE3.wav'"
      ]
     },
     "metadata": {},
     "output_type": "display_data"
    },
    {
     "name": "stderr",
     "output_type": "stream",
     "text": [
      "\r",
      " 92%|███████████████████████████████████████████████████████████████████████▉      | 1727/1873 [06:57<00:18,  8.05it/s]"
     ]
    },
    {
     "data": {
      "text/plain": [
       "'new dataset\\\\sufi\\\\sufiE30.wav'"
      ]
     },
     "metadata": {},
     "output_type": "display_data"
    },
    {
     "name": "stderr",
     "output_type": "stream",
     "text": [
      "\r",
      " 92%|███████████████████████████████████████████████████████████████████████▉      | 1728/1873 [06:57<00:17,  8.06it/s]"
     ]
    },
    {
     "data": {
      "text/plain": [
       "'new dataset\\\\sufi\\\\sufiE300.wav'"
      ]
     },
     "metadata": {},
     "output_type": "display_data"
    },
    {
     "name": "stderr",
     "output_type": "stream",
     "text": [
      "\r",
      " 92%|████████████████████████████████████████████████████████████████████████      | 1729/1873 [06:57<00:18,  7.96it/s]"
     ]
    },
    {
     "data": {
      "text/plain": [
       "'new dataset\\\\sufi\\\\sufiE301.wav'"
      ]
     },
     "metadata": {},
     "output_type": "display_data"
    },
    {
     "name": "stderr",
     "output_type": "stream",
     "text": [
      "\r",
      " 92%|████████████████████████████████████████████████████████████████████████      | 1730/1873 [06:57<00:17,  7.99it/s]"
     ]
    },
    {
     "data": {
      "text/plain": [
       "'new dataset\\\\sufi\\\\sufiE302.wav'"
      ]
     },
     "metadata": {},
     "output_type": "display_data"
    },
    {
     "name": "stderr",
     "output_type": "stream",
     "text": [
      "\r",
      " 92%|████████████████████████████████████████████████████████████████████████      | 1731/1873 [06:57<00:17,  8.00it/s]"
     ]
    },
    {
     "data": {
      "text/plain": [
       "'new dataset\\\\sufi\\\\sufiE303.wav'"
      ]
     },
     "metadata": {},
     "output_type": "display_data"
    },
    {
     "name": "stderr",
     "output_type": "stream",
     "text": [
      "\r",
      " 92%|████████████████████████████████████████████████████████████████████████▏     | 1732/1873 [06:57<00:17,  7.95it/s]"
     ]
    },
    {
     "data": {
      "text/plain": [
       "'new dataset\\\\sufi\\\\sufiE304.wav'"
      ]
     },
     "metadata": {},
     "output_type": "display_data"
    },
    {
     "name": "stderr",
     "output_type": "stream",
     "text": [
      "\r",
      " 93%|████████████████████████████████████████████████████████████████████████▏     | 1733/1873 [06:58<00:17,  7.92it/s]"
     ]
    },
    {
     "data": {
      "text/plain": [
       "'new dataset\\\\sufi\\\\sufiE305.wav'"
      ]
     },
     "metadata": {},
     "output_type": "display_data"
    },
    {
     "name": "stderr",
     "output_type": "stream",
     "text": [
      "\r",
      " 93%|████████████████████████████████████████████████████████████████████████▏     | 1734/1873 [06:58<00:17,  7.94it/s]"
     ]
    },
    {
     "data": {
      "text/plain": [
       "'new dataset\\\\sufi\\\\sufiE306.wav'"
      ]
     },
     "metadata": {},
     "output_type": "display_data"
    },
    {
     "name": "stderr",
     "output_type": "stream",
     "text": [
      "\r",
      " 93%|████████████████████████████████████████████████████████████████████████▎     | 1735/1873 [06:58<00:17,  7.91it/s]"
     ]
    },
    {
     "data": {
      "text/plain": [
       "'new dataset\\\\sufi\\\\sufiE307.wav'"
      ]
     },
     "metadata": {},
     "output_type": "display_data"
    },
    {
     "name": "stderr",
     "output_type": "stream",
     "text": [
      "\r",
      " 93%|████████████████████████████████████████████████████████████████████████▎     | 1736/1873 [06:58<00:16,  8.08it/s]"
     ]
    },
    {
     "data": {
      "text/plain": [
       "'new dataset\\\\sufi\\\\sufiE308.wav'"
      ]
     },
     "metadata": {},
     "output_type": "display_data"
    },
    {
     "name": "stderr",
     "output_type": "stream",
     "text": [
      "\r",
      " 93%|████████████████████████████████████████████████████████████████████████▎     | 1737/1873 [06:58<00:16,  8.12it/s]"
     ]
    },
    {
     "data": {
      "text/plain": [
       "'new dataset\\\\sufi\\\\sufiE309.wav'"
      ]
     },
     "metadata": {},
     "output_type": "display_data"
    },
    {
     "name": "stderr",
     "output_type": "stream",
     "text": [
      "\r",
      " 93%|████████████████████████████████████████████████████████████████████████▍     | 1738/1873 [06:58<00:16,  8.25it/s]"
     ]
    },
    {
     "data": {
      "text/plain": [
       "'new dataset\\\\sufi\\\\sufiE31.wav'"
      ]
     },
     "metadata": {},
     "output_type": "display_data"
    },
    {
     "name": "stderr",
     "output_type": "stream",
     "text": [
      "\r",
      " 93%|████████████████████████████████████████████████████████████████████████▍     | 1739/1873 [06:58<00:16,  8.07it/s]"
     ]
    },
    {
     "data": {
      "text/plain": [
       "'new dataset\\\\sufi\\\\sufiE310.wav'"
      ]
     },
     "metadata": {},
     "output_type": "display_data"
    },
    {
     "name": "stderr",
     "output_type": "stream",
     "text": [
      "\r",
      " 93%|████████████████████████████████████████████████████████████████████████▍     | 1740/1873 [06:58<00:16,  8.14it/s]"
     ]
    },
    {
     "data": {
      "text/plain": [
       "'new dataset\\\\sufi\\\\sufiE311.wav'"
      ]
     },
     "metadata": {},
     "output_type": "display_data"
    },
    {
     "name": "stderr",
     "output_type": "stream",
     "text": [
      "\r",
      " 93%|████████████████████████████████████████████████████████████████████████▌     | 1741/1873 [06:59<00:15,  8.32it/s]"
     ]
    },
    {
     "data": {
      "text/plain": [
       "'new dataset\\\\sufi\\\\sufiE312.wav'"
      ]
     },
     "metadata": {},
     "output_type": "display_data"
    },
    {
     "name": "stderr",
     "output_type": "stream",
     "text": [
      "\r",
      " 93%|████████████████████████████████████████████████████████████████████████▌     | 1742/1873 [06:59<00:16,  8.18it/s]"
     ]
    },
    {
     "data": {
      "text/plain": [
       "'new dataset\\\\sufi\\\\sufiE313.wav'"
      ]
     },
     "metadata": {},
     "output_type": "display_data"
    },
    {
     "name": "stderr",
     "output_type": "stream",
     "text": [
      "\r",
      " 93%|████████████████████████████████████████████████████████████████████████▌     | 1743/1873 [06:59<00:15,  8.28it/s]"
     ]
    },
    {
     "data": {
      "text/plain": [
       "'new dataset\\\\sufi\\\\sufiE314.wav'"
      ]
     },
     "metadata": {},
     "output_type": "display_data"
    },
    {
     "name": "stderr",
     "output_type": "stream",
     "text": [
      "\r",
      " 93%|████████████████████████████████████████████████████████████████████████▋     | 1744/1873 [06:59<00:15,  8.34it/s]"
     ]
    },
    {
     "data": {
      "text/plain": [
       "'new dataset\\\\sufi\\\\sufiE315.wav'"
      ]
     },
     "metadata": {},
     "output_type": "display_data"
    },
    {
     "name": "stderr",
     "output_type": "stream",
     "text": [
      "\r",
      " 93%|████████████████████████████████████████████████████████████████████████▋     | 1745/1873 [06:59<00:15,  8.13it/s]"
     ]
    },
    {
     "data": {
      "text/plain": [
       "'new dataset\\\\sufi\\\\sufiE316.wav'"
      ]
     },
     "metadata": {},
     "output_type": "display_data"
    },
    {
     "name": "stderr",
     "output_type": "stream",
     "text": [
      "\r",
      " 93%|████████████████████████████████████████████████████████████████████████▋     | 1746/1873 [06:59<00:15,  8.16it/s]"
     ]
    },
    {
     "data": {
      "text/plain": [
       "'new dataset\\\\sufi\\\\sufiE317.wav'"
      ]
     },
     "metadata": {},
     "output_type": "display_data"
    },
    {
     "name": "stderr",
     "output_type": "stream",
     "text": [
      "\r",
      " 93%|████████████████████████████████████████████████████████████████████████▊     | 1747/1873 [06:59<00:15,  8.01it/s]"
     ]
    },
    {
     "data": {
      "text/plain": [
       "'new dataset\\\\sufi\\\\sufiE318.wav'"
      ]
     },
     "metadata": {},
     "output_type": "display_data"
    },
    {
     "name": "stderr",
     "output_type": "stream",
     "text": [
      "\r",
      " 93%|████████████████████████████████████████████████████████████████████████▊     | 1748/1873 [06:59<00:15,  8.08it/s]"
     ]
    },
    {
     "data": {
      "text/plain": [
       "'new dataset\\\\sufi\\\\sufiE319.wav'"
      ]
     },
     "metadata": {},
     "output_type": "display_data"
    },
    {
     "name": "stderr",
     "output_type": "stream",
     "text": [
      "\r",
      " 93%|████████████████████████████████████████████████████████████████████████▊     | 1749/1873 [07:00<00:15,  7.98it/s]"
     ]
    },
    {
     "data": {
      "text/plain": [
       "'new dataset\\\\sufi\\\\sufiE32.wav'"
      ]
     },
     "metadata": {},
     "output_type": "display_data"
    },
    {
     "name": "stderr",
     "output_type": "stream",
     "text": [
      "\r",
      " 93%|████████████████████████████████████████████████████████████████████████▉     | 1750/1873 [07:00<00:15,  8.18it/s]"
     ]
    },
    {
     "data": {
      "text/plain": [
       "'new dataset\\\\sufi\\\\sufiE320.wav'"
      ]
     },
     "metadata": {},
     "output_type": "display_data"
    },
    {
     "name": "stderr",
     "output_type": "stream",
     "text": [
      "\r",
      " 93%|████████████████████████████████████████████████████████████████████████▉     | 1751/1873 [07:00<00:15,  7.97it/s]"
     ]
    },
    {
     "data": {
      "text/plain": [
       "'new dataset\\\\sufi\\\\sufiE321.wav'"
      ]
     },
     "metadata": {},
     "output_type": "display_data"
    },
    {
     "name": "stderr",
     "output_type": "stream",
     "text": [
      "\r",
      " 94%|████████████████████████████████████████████████████████████████████████▉     | 1752/1873 [07:00<00:14,  8.07it/s]"
     ]
    },
    {
     "data": {
      "text/plain": [
       "'new dataset\\\\sufi\\\\sufiE322.wav'"
      ]
     },
     "metadata": {},
     "output_type": "display_data"
    },
    {
     "name": "stderr",
     "output_type": "stream",
     "text": [
      "\r",
      " 94%|█████████████████████████████████████████████████████████████████████████     | 1753/1873 [07:00<00:15,  7.98it/s]"
     ]
    },
    {
     "data": {
      "text/plain": [
       "'new dataset\\\\sufi\\\\sufiE323.wav'"
      ]
     },
     "metadata": {},
     "output_type": "display_data"
    },
    {
     "name": "stderr",
     "output_type": "stream",
     "text": [
      "\r",
      " 94%|█████████████████████████████████████████████████████████████████████████     | 1754/1873 [07:00<00:14,  8.00it/s]"
     ]
    },
    {
     "data": {
      "text/plain": [
       "'new dataset\\\\sufi\\\\sufiE324.wav'"
      ]
     },
     "metadata": {},
     "output_type": "display_data"
    },
    {
     "name": "stderr",
     "output_type": "stream",
     "text": [
      "\r",
      " 94%|█████████████████████████████████████████████████████████████████████████     | 1755/1873 [07:00<00:14,  7.88it/s]"
     ]
    },
    {
     "data": {
      "text/plain": [
       "'new dataset\\\\sufi\\\\sufiE325.wav'"
      ]
     },
     "metadata": {},
     "output_type": "display_data"
    },
    {
     "name": "stderr",
     "output_type": "stream",
     "text": [
      "\r",
      " 94%|█████████████████████████████████████████████████████████████████████████▏    | 1756/1873 [07:00<00:14,  7.91it/s]"
     ]
    },
    {
     "data": {
      "text/plain": [
       "'new dataset\\\\sufi\\\\sufiE326.wav'"
      ]
     },
     "metadata": {},
     "output_type": "display_data"
    },
    {
     "name": "stderr",
     "output_type": "stream",
     "text": [
      "\r",
      " 94%|█████████████████████████████████████████████████████████████████████████▏    | 1757/1873 [07:01<00:14,  7.88it/s]"
     ]
    },
    {
     "data": {
      "text/plain": [
       "'new dataset\\\\sufi\\\\sufiE327.wav'"
      ]
     },
     "metadata": {},
     "output_type": "display_data"
    },
    {
     "name": "stderr",
     "output_type": "stream",
     "text": [
      "\r",
      " 94%|█████████████████████████████████████████████████████████████████████████▏    | 1758/1873 [07:01<00:14,  7.93it/s]"
     ]
    },
    {
     "data": {
      "text/plain": [
       "'new dataset\\\\sufi\\\\sufiE328.wav'"
      ]
     },
     "metadata": {},
     "output_type": "display_data"
    },
    {
     "name": "stderr",
     "output_type": "stream",
     "text": [
      "\r",
      " 94%|█████████████████████████████████████████████████████████████████████████▎    | 1759/1873 [07:01<00:14,  7.82it/s]"
     ]
    },
    {
     "data": {
      "text/plain": [
       "'new dataset\\\\sufi\\\\sufiE329.wav'"
      ]
     },
     "metadata": {},
     "output_type": "display_data"
    },
    {
     "name": "stderr",
     "output_type": "stream",
     "text": [
      "\r",
      " 94%|█████████████████████████████████████████████████████████████████████████▎    | 1760/1873 [07:01<00:14,  7.79it/s]"
     ]
    },
    {
     "data": {
      "text/plain": [
       "'new dataset\\\\sufi\\\\sufiE33.wav'"
      ]
     },
     "metadata": {},
     "output_type": "display_data"
    },
    {
     "name": "stderr",
     "output_type": "stream",
     "text": [
      "\r",
      " 94%|█████████████████████████████████████████████████████████████████████████▎    | 1761/1873 [07:01<00:14,  7.83it/s]"
     ]
    },
    {
     "data": {
      "text/plain": [
       "'new dataset\\\\sufi\\\\sufiE330.wav'"
      ]
     },
     "metadata": {},
     "output_type": "display_data"
    },
    {
     "name": "stderr",
     "output_type": "stream",
     "text": [
      "\r",
      " 94%|█████████████████████████████████████████████████████████████████████████▍    | 1762/1873 [07:01<00:14,  7.79it/s]"
     ]
    },
    {
     "data": {
      "text/plain": [
       "'new dataset\\\\sufi\\\\sufiE331.wav'"
      ]
     },
     "metadata": {},
     "output_type": "display_data"
    },
    {
     "name": "stderr",
     "output_type": "stream",
     "text": [
      "\r",
      " 94%|█████████████████████████████████████████████████████████████████████████▍    | 1763/1873 [07:01<00:13,  7.89it/s]"
     ]
    },
    {
     "data": {
      "text/plain": [
       "'new dataset\\\\sufi\\\\sufiE332.wav'"
      ]
     },
     "metadata": {},
     "output_type": "display_data"
    },
    {
     "name": "stderr",
     "output_type": "stream",
     "text": [
      "\r",
      " 94%|█████████████████████████████████████████████████████████████████████████▍    | 1764/1873 [07:01<00:13,  7.99it/s]"
     ]
    },
    {
     "data": {
      "text/plain": [
       "'new dataset\\\\sufi\\\\sufiE333.wav'"
      ]
     },
     "metadata": {},
     "output_type": "display_data"
    },
    {
     "name": "stderr",
     "output_type": "stream",
     "text": [
      "\r",
      " 94%|█████████████████████████████████████████████████████████████████████████▌    | 1765/1873 [07:02<00:13,  7.96it/s]"
     ]
    },
    {
     "data": {
      "text/plain": [
       "'new dataset\\\\sufi\\\\sufiE334.wav'"
      ]
     },
     "metadata": {},
     "output_type": "display_data"
    },
    {
     "name": "stderr",
     "output_type": "stream",
     "text": [
      "\r",
      " 94%|█████████████████████████████████████████████████████████████████████████▌    | 1766/1873 [07:02<00:13,  8.06it/s]"
     ]
    },
    {
     "data": {
      "text/plain": [
       "'new dataset\\\\sufi\\\\sufiE335.wav'"
      ]
     },
     "metadata": {},
     "output_type": "display_data"
    },
    {
     "name": "stderr",
     "output_type": "stream",
     "text": [
      "\r",
      " 94%|█████████████████████████████████████████████████████████████████████████▌    | 1767/1873 [07:02<00:12,  8.19it/s]"
     ]
    },
    {
     "data": {
      "text/plain": [
       "'new dataset\\\\sufi\\\\sufiE336.wav'"
      ]
     },
     "metadata": {},
     "output_type": "display_data"
    },
    {
     "name": "stderr",
     "output_type": "stream",
     "text": [
      "\r",
      " 94%|█████████████████████████████████████████████████████████████████████████▋    | 1768/1873 [07:02<00:12,  8.13it/s]"
     ]
    },
    {
     "data": {
      "text/plain": [
       "'new dataset\\\\sufi\\\\sufiE337.wav'"
      ]
     },
     "metadata": {},
     "output_type": "display_data"
    },
    {
     "name": "stderr",
     "output_type": "stream",
     "text": [
      "\r",
      " 94%|█████████████████████████████████████████████████████████████████████████▋    | 1769/1873 [07:02<00:12,  8.22it/s]"
     ]
    },
    {
     "data": {
      "text/plain": [
       "'new dataset\\\\sufi\\\\sufiE338.wav'"
      ]
     },
     "metadata": {},
     "output_type": "display_data"
    },
    {
     "name": "stderr",
     "output_type": "stream",
     "text": [
      "\r",
      " 95%|█████████████████████████████████████████████████████████████████████████▋    | 1770/1873 [07:02<00:12,  8.22it/s]"
     ]
    },
    {
     "data": {
      "text/plain": [
       "'new dataset\\\\sufi\\\\sufiE339.wav'"
      ]
     },
     "metadata": {},
     "output_type": "display_data"
    },
    {
     "name": "stderr",
     "output_type": "stream",
     "text": [
      "\r",
      " 95%|█████████████████████████████████████████████████████████████████████████▊    | 1771/1873 [07:02<00:12,  8.29it/s]"
     ]
    },
    {
     "data": {
      "text/plain": [
       "'new dataset\\\\sufi\\\\sufiE34.wav'"
      ]
     },
     "metadata": {},
     "output_type": "display_data"
    },
    {
     "name": "stderr",
     "output_type": "stream",
     "text": [
      "\r",
      " 95%|█████████████████████████████████████████████████████████████████████████▊    | 1772/1873 [07:02<00:12,  8.07it/s]"
     ]
    },
    {
     "data": {
      "text/plain": [
       "'new dataset\\\\sufi\\\\sufiE340.wav'"
      ]
     },
     "metadata": {},
     "output_type": "display_data"
    },
    {
     "name": "stderr",
     "output_type": "stream",
     "text": [
      "\r",
      " 95%|█████████████████████████████████████████████████████████████████████████▊    | 1773/1873 [07:03<00:12,  8.03it/s]"
     ]
    },
    {
     "data": {
      "text/plain": [
       "'new dataset\\\\sufi\\\\sufiE341.wav'"
      ]
     },
     "metadata": {},
     "output_type": "display_data"
    },
    {
     "name": "stderr",
     "output_type": "stream",
     "text": [
      "\r",
      " 95%|█████████████████████████████████████████████████████████████████████████▉    | 1774/1873 [07:03<00:12,  8.16it/s]"
     ]
    },
    {
     "data": {
      "text/plain": [
       "'new dataset\\\\sufi\\\\sufiE342.wav'"
      ]
     },
     "metadata": {},
     "output_type": "display_data"
    },
    {
     "name": "stderr",
     "output_type": "stream",
     "text": [
      "\r",
      " 95%|█████████████████████████████████████████████████████████████████████████▉    | 1775/1873 [07:03<00:12,  8.10it/s]"
     ]
    },
    {
     "data": {
      "text/plain": [
       "'new dataset\\\\sufi\\\\sufiE343.wav'"
      ]
     },
     "metadata": {},
     "output_type": "display_data"
    },
    {
     "name": "stderr",
     "output_type": "stream",
     "text": [
      "\r",
      " 95%|█████████████████████████████████████████████████████████████████████████▉    | 1776/1873 [07:03<00:11,  8.24it/s]"
     ]
    },
    {
     "data": {
      "text/plain": [
       "'new dataset\\\\sufi\\\\sufiE344.wav'"
      ]
     },
     "metadata": {},
     "output_type": "display_data"
    },
    {
     "name": "stderr",
     "output_type": "stream",
     "text": [
      "\r",
      " 95%|██████████████████████████████████████████████████████████████████████████    | 1777/1873 [07:03<00:11,  8.43it/s]"
     ]
    },
    {
     "data": {
      "text/plain": [
       "'new dataset\\\\sufi\\\\sufiE345.wav'"
      ]
     },
     "metadata": {},
     "output_type": "display_data"
    },
    {
     "name": "stderr",
     "output_type": "stream",
     "text": [
      "\r",
      " 95%|██████████████████████████████████████████████████████████████████████████    | 1778/1873 [07:03<00:11,  8.45it/s]"
     ]
    },
    {
     "data": {
      "text/plain": [
       "'new dataset\\\\sufi\\\\sufiE346.wav'"
      ]
     },
     "metadata": {},
     "output_type": "display_data"
    },
    {
     "name": "stderr",
     "output_type": "stream",
     "text": [
      "\r",
      " 95%|██████████████████████████████████████████████████████████████████████████    | 1779/1873 [07:03<00:11,  8.22it/s]"
     ]
    },
    {
     "data": {
      "text/plain": [
       "'new dataset\\\\sufi\\\\sufiE347.wav'"
      ]
     },
     "metadata": {},
     "output_type": "display_data"
    },
    {
     "name": "stderr",
     "output_type": "stream",
     "text": [
      "\r",
      " 95%|██████████████████████████████████████████████████████████████████████████▏   | 1780/1873 [07:03<00:11,  8.21it/s]"
     ]
    },
    {
     "data": {
      "text/plain": [
       "'new dataset\\\\sufi\\\\sufiE348.wav'"
      ]
     },
     "metadata": {},
     "output_type": "display_data"
    },
    {
     "name": "stderr",
     "output_type": "stream",
     "text": [
      "\r",
      " 95%|██████████████████████████████████████████████████████████████████████████▏   | 1781/1873 [07:03<00:11,  8.08it/s]"
     ]
    },
    {
     "data": {
      "text/plain": [
       "'new dataset\\\\sufi\\\\sufiE349.wav'"
      ]
     },
     "metadata": {},
     "output_type": "display_data"
    },
    {
     "name": "stderr",
     "output_type": "stream",
     "text": [
      "\r",
      " 95%|██████████████████████████████████████████████████████████████████████████▏   | 1782/1873 [07:04<00:11,  8.12it/s]"
     ]
    },
    {
     "data": {
      "text/plain": [
       "'new dataset\\\\sufi\\\\sufiE35.wav'"
      ]
     },
     "metadata": {},
     "output_type": "display_data"
    },
    {
     "name": "stderr",
     "output_type": "stream",
     "text": [
      "\r",
      " 95%|██████████████████████████████████████████████████████████████████████████▎   | 1783/1873 [07:04<00:11,  8.12it/s]"
     ]
    },
    {
     "data": {
      "text/plain": [
       "'new dataset\\\\sufi\\\\sufiE350.wav'"
      ]
     },
     "metadata": {},
     "output_type": "display_data"
    },
    {
     "name": "stderr",
     "output_type": "stream",
     "text": [
      "\r",
      " 95%|██████████████████████████████████████████████████████████████████████████▎   | 1784/1873 [07:04<00:10,  8.14it/s]"
     ]
    },
    {
     "data": {
      "text/plain": [
       "'new dataset\\\\sufi\\\\sufiE351.wav'"
      ]
     },
     "metadata": {},
     "output_type": "display_data"
    },
    {
     "name": "stderr",
     "output_type": "stream",
     "text": [
      "\r",
      " 95%|██████████████████████████████████████████████████████████████████████████▎   | 1785/1873 [07:04<00:10,  8.35it/s]"
     ]
    },
    {
     "data": {
      "text/plain": [
       "'new dataset\\\\sufi\\\\sufiE352.wav'"
      ]
     },
     "metadata": {},
     "output_type": "display_data"
    },
    {
     "name": "stderr",
     "output_type": "stream",
     "text": [
      "\r",
      " 95%|██████████████████████████████████████████████████████████████████████████▍   | 1786/1873 [07:04<00:10,  8.49it/s]"
     ]
    },
    {
     "data": {
      "text/plain": [
       "'new dataset\\\\sufi\\\\sufiE353.wav'"
      ]
     },
     "metadata": {},
     "output_type": "display_data"
    },
    {
     "name": "stderr",
     "output_type": "stream",
     "text": [
      "\r",
      " 95%|██████████████████████████████████████████████████████████████████████████▍   | 1787/1873 [07:04<00:10,  8.47it/s]"
     ]
    },
    {
     "data": {
      "text/plain": [
       "'new dataset\\\\sufi\\\\sufiE354.wav'"
      ]
     },
     "metadata": {},
     "output_type": "display_data"
    },
    {
     "name": "stderr",
     "output_type": "stream",
     "text": [
      "\r",
      " 95%|██████████████████████████████████████████████████████████████████████████▍   | 1788/1873 [07:04<00:10,  8.36it/s]"
     ]
    },
    {
     "data": {
      "text/plain": [
       "'new dataset\\\\sufi\\\\sufiE355.wav'"
      ]
     },
     "metadata": {},
     "output_type": "display_data"
    },
    {
     "name": "stderr",
     "output_type": "stream",
     "text": [
      "\r",
      " 96%|██████████████████████████████████████████████████████████████████████████▌   | 1789/1873 [07:04<00:10,  8.20it/s]"
     ]
    },
    {
     "data": {
      "text/plain": [
       "'new dataset\\\\sufi\\\\sufiE356.wav'"
      ]
     },
     "metadata": {},
     "output_type": "display_data"
    },
    {
     "name": "stderr",
     "output_type": "stream",
     "text": [
      "\r",
      " 96%|██████████████████████████████████████████████████████████████████████████▌   | 1790/1873 [07:05<00:10,  7.81it/s]"
     ]
    },
    {
     "data": {
      "text/plain": [
       "'new dataset\\\\sufi\\\\sufiE357.wav'"
      ]
     },
     "metadata": {},
     "output_type": "display_data"
    },
    {
     "name": "stderr",
     "output_type": "stream",
     "text": [
      "\r",
      " 96%|██████████████████████████████████████████████████████████████████████████▌   | 1791/1873 [07:05<00:10,  7.85it/s]"
     ]
    },
    {
     "data": {
      "text/plain": [
       "'new dataset\\\\sufi\\\\sufiE358.wav'"
      ]
     },
     "metadata": {},
     "output_type": "display_data"
    },
    {
     "name": "stderr",
     "output_type": "stream",
     "text": [
      "\r",
      " 96%|██████████████████████████████████████████████████████████████████████████▋   | 1792/1873 [07:05<00:10,  7.51it/s]"
     ]
    },
    {
     "data": {
      "text/plain": [
       "'new dataset\\\\sufi\\\\sufiE359.wav'"
      ]
     },
     "metadata": {},
     "output_type": "display_data"
    },
    {
     "name": "stderr",
     "output_type": "stream",
     "text": [
      "\r",
      " 96%|██████████████████████████████████████████████████████████████████████████▋   | 1793/1873 [07:05<00:11,  7.22it/s]"
     ]
    },
    {
     "data": {
      "text/plain": [
       "'new dataset\\\\sufi\\\\sufiE36.wav'"
      ]
     },
     "metadata": {},
     "output_type": "display_data"
    },
    {
     "name": "stderr",
     "output_type": "stream",
     "text": [
      "\r",
      " 96%|██████████████████████████████████████████████████████████████████████████▋   | 1794/1873 [07:05<00:11,  7.15it/s]"
     ]
    },
    {
     "data": {
      "text/plain": [
       "'new dataset\\\\sufi\\\\sufiE360.wav'"
      ]
     },
     "metadata": {},
     "output_type": "display_data"
    },
    {
     "name": "stderr",
     "output_type": "stream",
     "text": [
      "\r",
      " 96%|██████████████████████████████████████████████████████████████████████████▊   | 1795/1873 [07:05<00:10,  7.15it/s]"
     ]
    },
    {
     "data": {
      "text/plain": [
       "'new dataset\\\\sufi\\\\sufiE361.wav'"
      ]
     },
     "metadata": {},
     "output_type": "display_data"
    },
    {
     "name": "stderr",
     "output_type": "stream",
     "text": [
      "\r",
      " 96%|██████████████████████████████████████████████████████████████████████████▊   | 1796/1873 [07:05<00:10,  7.03it/s]"
     ]
    },
    {
     "data": {
      "text/plain": [
       "'new dataset\\\\sufi\\\\sufiE362.wav'"
      ]
     },
     "metadata": {},
     "output_type": "display_data"
    },
    {
     "name": "stderr",
     "output_type": "stream",
     "text": [
      "\r",
      " 96%|██████████████████████████████████████████████████████████████████████████▊   | 1797/1873 [07:06<00:11,  6.60it/s]"
     ]
    },
    {
     "data": {
      "text/plain": [
       "'new dataset\\\\sufi\\\\sufiE363.wav'"
      ]
     },
     "metadata": {},
     "output_type": "display_data"
    },
    {
     "name": "stderr",
     "output_type": "stream",
     "text": [
      "\r",
      " 96%|██████████████████████████████████████████████████████████████████████████▉   | 1798/1873 [07:06<00:11,  6.47it/s]"
     ]
    },
    {
     "data": {
      "text/plain": [
       "'new dataset\\\\sufi\\\\sufiE364.wav'"
      ]
     },
     "metadata": {},
     "output_type": "display_data"
    },
    {
     "name": "stderr",
     "output_type": "stream",
     "text": [
      "\r",
      " 96%|██████████████████████████████████████████████████████████████████████████▉   | 1799/1873 [07:06<00:11,  6.65it/s]"
     ]
    },
    {
     "data": {
      "text/plain": [
       "'new dataset\\\\sufi\\\\sufiE365.wav'"
      ]
     },
     "metadata": {},
     "output_type": "display_data"
    },
    {
     "name": "stderr",
     "output_type": "stream",
     "text": [
      "\r",
      " 96%|██████████████████████████████████████████████████████████████████████████▉   | 1800/1873 [07:06<00:11,  6.64it/s]"
     ]
    },
    {
     "data": {
      "text/plain": [
       "'new dataset\\\\sufi\\\\sufiE366.wav'"
      ]
     },
     "metadata": {},
     "output_type": "display_data"
    },
    {
     "name": "stderr",
     "output_type": "stream",
     "text": [
      "\r",
      " 96%|███████████████████████████████████████████████████████████████████████████   | 1801/1873 [07:06<00:11,  6.48it/s]"
     ]
    },
    {
     "data": {
      "text/plain": [
       "'new dataset\\\\sufi\\\\sufiE37.wav'"
      ]
     },
     "metadata": {},
     "output_type": "display_data"
    },
    {
     "name": "stderr",
     "output_type": "stream",
     "text": [
      "\r",
      " 96%|███████████████████████████████████████████████████████████████████████████   | 1802/1873 [07:06<00:10,  6.62it/s]"
     ]
    },
    {
     "data": {
      "text/plain": [
       "'new dataset\\\\sufi\\\\sufiE38.wav'"
      ]
     },
     "metadata": {},
     "output_type": "display_data"
    },
    {
     "name": "stderr",
     "output_type": "stream",
     "text": [
      "\r",
      " 96%|███████████████████████████████████████████████████████████████████████████   | 1803/1873 [07:07<00:10,  6.74it/s]"
     ]
    },
    {
     "data": {
      "text/plain": [
       "'new dataset\\\\sufi\\\\sufiE39.wav'"
      ]
     },
     "metadata": {},
     "output_type": "display_data"
    },
    {
     "name": "stderr",
     "output_type": "stream",
     "text": [
      "\r",
      " 96%|███████████████████████████████████████████████████████████████████████████▏  | 1804/1873 [07:07<00:10,  6.81it/s]"
     ]
    },
    {
     "data": {
      "text/plain": [
       "'new dataset\\\\sufi\\\\sufiE4.wav'"
      ]
     },
     "metadata": {},
     "output_type": "display_data"
    },
    {
     "name": "stderr",
     "output_type": "stream",
     "text": [
      "\r",
      " 96%|███████████████████████████████████████████████████████████████████████████▏  | 1805/1873 [07:07<00:09,  6.89it/s]"
     ]
    },
    {
     "data": {
      "text/plain": [
       "'new dataset\\\\sufi\\\\sufiE40.wav'"
      ]
     },
     "metadata": {},
     "output_type": "display_data"
    },
    {
     "name": "stderr",
     "output_type": "stream",
     "text": [
      "\r",
      " 96%|███████████████████████████████████████████████████████████████████████████▏  | 1806/1873 [07:07<00:10,  6.65it/s]"
     ]
    },
    {
     "data": {
      "text/plain": [
       "'new dataset\\\\sufi\\\\sufiE41.wav'"
      ]
     },
     "metadata": {},
     "output_type": "display_data"
    },
    {
     "name": "stderr",
     "output_type": "stream",
     "text": [
      "\r",
      " 96%|███████████████████████████████████████████████████████████████████████████▎  | 1807/1873 [07:07<00:10,  6.59it/s]"
     ]
    },
    {
     "data": {
      "text/plain": [
       "'new dataset\\\\sufi\\\\sufiE42.wav'"
      ]
     },
     "metadata": {},
     "output_type": "display_data"
    },
    {
     "name": "stderr",
     "output_type": "stream",
     "text": [
      "\r",
      " 97%|███████████████████████████████████████████████████████████████████████████▎  | 1808/1873 [07:07<00:09,  6.80it/s]"
     ]
    },
    {
     "data": {
      "text/plain": [
       "'new dataset\\\\sufi\\\\sufiE43.wav'"
      ]
     },
     "metadata": {},
     "output_type": "display_data"
    },
    {
     "name": "stderr",
     "output_type": "stream",
     "text": [
      "\r",
      " 97%|███████████████████████████████████████████████████████████████████████████▎  | 1809/1873 [07:07<00:09,  6.93it/s]"
     ]
    },
    {
     "data": {
      "text/plain": [
       "'new dataset\\\\sufi\\\\sufiE44.wav'"
      ]
     },
     "metadata": {},
     "output_type": "display_data"
    },
    {
     "name": "stderr",
     "output_type": "stream",
     "text": [
      "\r",
      " 97%|███████████████████████████████████████████████████████████████████████████▍  | 1810/1873 [07:08<00:09,  6.97it/s]"
     ]
    },
    {
     "data": {
      "text/plain": [
       "'new dataset\\\\sufi\\\\sufiE45.wav'"
      ]
     },
     "metadata": {},
     "output_type": "display_data"
    },
    {
     "name": "stderr",
     "output_type": "stream",
     "text": [
      "\r",
      " 97%|███████████████████████████████████████████████████████████████████████████▍  | 1811/1873 [07:08<00:08,  6.98it/s]"
     ]
    },
    {
     "data": {
      "text/plain": [
       "'new dataset\\\\sufi\\\\sufiE46.wav'"
      ]
     },
     "metadata": {},
     "output_type": "display_data"
    },
    {
     "name": "stderr",
     "output_type": "stream",
     "text": [
      "\r",
      " 97%|███████████████████████████████████████████████████████████████████████████▍  | 1812/1873 [07:08<00:09,  6.68it/s]"
     ]
    },
    {
     "data": {
      "text/plain": [
       "'new dataset\\\\sufi\\\\sufiE47.wav'"
      ]
     },
     "metadata": {},
     "output_type": "display_data"
    },
    {
     "name": "stderr",
     "output_type": "stream",
     "text": [
      "\r",
      " 97%|███████████████████████████████████████████████████████████████████████████▌  | 1813/1873 [07:08<00:09,  6.66it/s]"
     ]
    },
    {
     "data": {
      "text/plain": [
       "'new dataset\\\\sufi\\\\sufiE48.wav'"
      ]
     },
     "metadata": {},
     "output_type": "display_data"
    },
    {
     "name": "stderr",
     "output_type": "stream",
     "text": [
      "\r",
      " 97%|███████████████████████████████████████████████████████████████████████████▌  | 1814/1873 [07:08<00:08,  6.77it/s]"
     ]
    },
    {
     "data": {
      "text/plain": [
       "'new dataset\\\\sufi\\\\sufiE49.wav'"
      ]
     },
     "metadata": {},
     "output_type": "display_data"
    },
    {
     "name": "stderr",
     "output_type": "stream",
     "text": [
      "\r",
      " 97%|███████████████████████████████████████████████████████████████████████████▌  | 1815/1873 [07:08<00:08,  6.76it/s]"
     ]
    },
    {
     "data": {
      "text/plain": [
       "'new dataset\\\\sufi\\\\sufiE5.wav'"
      ]
     },
     "metadata": {},
     "output_type": "display_data"
    },
    {
     "name": "stderr",
     "output_type": "stream",
     "text": [
      "\r",
      " 97%|███████████████████████████████████████████████████████████████████████████▋  | 1816/1873 [07:08<00:08,  6.82it/s]"
     ]
    },
    {
     "data": {
      "text/plain": [
       "'new dataset\\\\sufi\\\\sufiE50.wav'"
      ]
     },
     "metadata": {},
     "output_type": "display_data"
    },
    {
     "name": "stderr",
     "output_type": "stream",
     "text": [
      "\r",
      " 97%|███████████████████████████████████████████████████████████████████████████▋  | 1817/1873 [07:09<00:08,  6.94it/s]"
     ]
    },
    {
     "data": {
      "text/plain": [
       "'new dataset\\\\sufi\\\\sufiE51.wav'"
      ]
     },
     "metadata": {},
     "output_type": "display_data"
    },
    {
     "name": "stderr",
     "output_type": "stream",
     "text": [
      "\r",
      " 97%|███████████████████████████████████████████████████████████████████████████▋  | 1818/1873 [07:09<00:07,  7.01it/s]"
     ]
    },
    {
     "data": {
      "text/plain": [
       "'new dataset\\\\sufi\\\\sufiE52.wav'"
      ]
     },
     "metadata": {},
     "output_type": "display_data"
    },
    {
     "name": "stderr",
     "output_type": "stream",
     "text": [
      "\r",
      " 97%|███████████████████████████████████████████████████████████████████████████▊  | 1819/1873 [07:09<00:07,  6.93it/s]"
     ]
    },
    {
     "data": {
      "text/plain": [
       "'new dataset\\\\sufi\\\\sufiE53.wav'"
      ]
     },
     "metadata": {},
     "output_type": "display_data"
    },
    {
     "name": "stderr",
     "output_type": "stream",
     "text": [
      "\r",
      " 97%|███████████████████████████████████████████████████████████████████████████▊  | 1820/1873 [07:09<00:07,  7.01it/s]"
     ]
    },
    {
     "data": {
      "text/plain": [
       "'new dataset\\\\sufi\\\\sufiE54.wav'"
      ]
     },
     "metadata": {},
     "output_type": "display_data"
    },
    {
     "name": "stderr",
     "output_type": "stream",
     "text": [
      "\r",
      " 97%|███████████████████████████████████████████████████████████████████████████▊  | 1821/1873 [07:09<00:07,  7.13it/s]"
     ]
    },
    {
     "data": {
      "text/plain": [
       "'new dataset\\\\sufi\\\\sufiE55.wav'"
      ]
     },
     "metadata": {},
     "output_type": "display_data"
    },
    {
     "name": "stderr",
     "output_type": "stream",
     "text": [
      "\r",
      " 97%|███████████████████████████████████████████████████████████████████████████▉  | 1822/1873 [07:09<00:07,  7.05it/s]"
     ]
    },
    {
     "data": {
      "text/plain": [
       "'new dataset\\\\sufi\\\\sufiE56.wav'"
      ]
     },
     "metadata": {},
     "output_type": "display_data"
    },
    {
     "name": "stderr",
     "output_type": "stream",
     "text": [
      "\r",
      " 97%|███████████████████████████████████████████████████████████████████████████▉  | 1823/1873 [07:09<00:07,  6.95it/s]"
     ]
    },
    {
     "data": {
      "text/plain": [
       "'new dataset\\\\sufi\\\\sufiE57.wav'"
      ]
     },
     "metadata": {},
     "output_type": "display_data"
    },
    {
     "name": "stderr",
     "output_type": "stream",
     "text": [
      "\r",
      " 97%|███████████████████████████████████████████████████████████████████████████▉  | 1824/1873 [07:10<00:07,  6.98it/s]"
     ]
    },
    {
     "data": {
      "text/plain": [
       "'new dataset\\\\sufi\\\\sufiE58.wav'"
      ]
     },
     "metadata": {},
     "output_type": "display_data"
    },
    {
     "name": "stderr",
     "output_type": "stream",
     "text": [
      "\r",
      " 97%|████████████████████████████████████████████████████████████████████████████  | 1825/1873 [07:10<00:06,  7.16it/s]"
     ]
    },
    {
     "data": {
      "text/plain": [
       "'new dataset\\\\sufi\\\\sufiE59.wav'"
      ]
     },
     "metadata": {},
     "output_type": "display_data"
    },
    {
     "name": "stderr",
     "output_type": "stream",
     "text": [
      "\r",
      " 97%|████████████████████████████████████████████████████████████████████████████  | 1826/1873 [07:10<00:06,  7.23it/s]"
     ]
    },
    {
     "data": {
      "text/plain": [
       "'new dataset\\\\sufi\\\\sufiE6.wav'"
      ]
     },
     "metadata": {},
     "output_type": "display_data"
    },
    {
     "name": "stderr",
     "output_type": "stream",
     "text": [
      "\r",
      " 98%|████████████████████████████████████████████████████████████████████████████  | 1827/1873 [07:10<00:06,  7.20it/s]"
     ]
    },
    {
     "data": {
      "text/plain": [
       "'new dataset\\\\sufi\\\\sufiE60.wav'"
      ]
     },
     "metadata": {},
     "output_type": "display_data"
    },
    {
     "name": "stderr",
     "output_type": "stream",
     "text": [
      "\r",
      " 98%|████████████████████████████████████████████████████████████████████████████▏ | 1828/1873 [07:10<00:06,  6.96it/s]"
     ]
    },
    {
     "data": {
      "text/plain": [
       "'new dataset\\\\sufi\\\\sufiE61.wav'"
      ]
     },
     "metadata": {},
     "output_type": "display_data"
    },
    {
     "name": "stderr",
     "output_type": "stream",
     "text": [
      "\r",
      " 98%|████████████████████████████████████████████████████████████████████████████▏ | 1829/1873 [07:10<00:06,  7.12it/s]"
     ]
    },
    {
     "data": {
      "text/plain": [
       "'new dataset\\\\sufi\\\\sufiE62.wav'"
      ]
     },
     "metadata": {},
     "output_type": "display_data"
    },
    {
     "name": "stderr",
     "output_type": "stream",
     "text": [
      "\r",
      " 98%|████████████████████████████████████████████████████████████████████████████▏ | 1830/1873 [07:10<00:06,  7.05it/s]"
     ]
    },
    {
     "data": {
      "text/plain": [
       "'new dataset\\\\sufi\\\\sufiE63.wav'"
      ]
     },
     "metadata": {},
     "output_type": "display_data"
    },
    {
     "name": "stderr",
     "output_type": "stream",
     "text": [
      "\r",
      " 98%|████████████████████████████████████████████████████████████████████████████▎ | 1831/1873 [07:11<00:05,  7.21it/s]"
     ]
    },
    {
     "data": {
      "text/plain": [
       "'new dataset\\\\sufi\\\\sufiE64.wav'"
      ]
     },
     "metadata": {},
     "output_type": "display_data"
    },
    {
     "name": "stderr",
     "output_type": "stream",
     "text": [
      "\r",
      " 98%|████████████████████████████████████████████████████████████████████████████▎ | 1832/1873 [07:11<00:05,  7.17it/s]"
     ]
    },
    {
     "data": {
      "text/plain": [
       "'new dataset\\\\sufi\\\\sufiE65.wav'"
      ]
     },
     "metadata": {},
     "output_type": "display_data"
    },
    {
     "name": "stderr",
     "output_type": "stream",
     "text": [
      "\r",
      " 98%|████████████████████████████████████████████████████████████████████████████▎ | 1833/1873 [07:11<00:05,  7.12it/s]"
     ]
    },
    {
     "data": {
      "text/plain": [
       "'new dataset\\\\sufi\\\\sufiE66.wav'"
      ]
     },
     "metadata": {},
     "output_type": "display_data"
    },
    {
     "name": "stderr",
     "output_type": "stream",
     "text": [
      "\r",
      " 98%|████████████████████████████████████████████████████████████████████████████▍ | 1834/1873 [07:11<00:05,  6.90it/s]"
     ]
    },
    {
     "data": {
      "text/plain": [
       "'new dataset\\\\sufi\\\\sufiE67.wav'"
      ]
     },
     "metadata": {},
     "output_type": "display_data"
    },
    {
     "name": "stderr",
     "output_type": "stream",
     "text": [
      "\r",
      " 98%|████████████████████████████████████████████████████████████████████████████▍ | 1835/1873 [07:11<00:05,  6.70it/s]"
     ]
    },
    {
     "data": {
      "text/plain": [
       "'new dataset\\\\sufi\\\\sufiE68.wav'"
      ]
     },
     "metadata": {},
     "output_type": "display_data"
    },
    {
     "name": "stderr",
     "output_type": "stream",
     "text": [
      "\r",
      " 98%|████████████████████████████████████████████████████████████████████████████▍ | 1836/1873 [07:11<00:05,  6.40it/s]"
     ]
    },
    {
     "data": {
      "text/plain": [
       "'new dataset\\\\sufi\\\\sufiE69.wav'"
      ]
     },
     "metadata": {},
     "output_type": "display_data"
    },
    {
     "name": "stderr",
     "output_type": "stream",
     "text": [
      "\r",
      " 98%|████████████████████████████████████████████████████████████████████████████▌ | 1837/1873 [07:11<00:05,  6.45it/s]"
     ]
    },
    {
     "data": {
      "text/plain": [
       "'new dataset\\\\sufi\\\\sufiE7.wav'"
      ]
     },
     "metadata": {},
     "output_type": "display_data"
    },
    {
     "name": "stderr",
     "output_type": "stream",
     "text": [
      "\r",
      " 98%|████████████████████████████████████████████████████████████████████████████▌ | 1838/1873 [07:12<00:05,  6.83it/s]"
     ]
    },
    {
     "data": {
      "text/plain": [
       "'new dataset\\\\sufi\\\\sufiE70.wav'"
      ]
     },
     "metadata": {},
     "output_type": "display_data"
    },
    {
     "name": "stderr",
     "output_type": "stream",
     "text": [
      "\r",
      " 98%|████████████████████████████████████████████████████████████████████████████▌ | 1839/1873 [07:12<00:04,  6.83it/s]"
     ]
    },
    {
     "data": {
      "text/plain": [
       "'new dataset\\\\sufi\\\\sufiE71.wav'"
      ]
     },
     "metadata": {},
     "output_type": "display_data"
    },
    {
     "name": "stderr",
     "output_type": "stream",
     "text": [
      "\r",
      " 98%|████████████████████████████████████████████████████████████████████████████▋ | 1840/1873 [07:12<00:05,  6.30it/s]"
     ]
    },
    {
     "data": {
      "text/plain": [
       "'new dataset\\\\sufi\\\\sufiE72.wav'"
      ]
     },
     "metadata": {},
     "output_type": "display_data"
    },
    {
     "name": "stderr",
     "output_type": "stream",
     "text": [
      "\r",
      " 98%|████████████████████████████████████████████████████████████████████████████▋ | 1841/1873 [07:12<00:04,  6.50it/s]"
     ]
    },
    {
     "data": {
      "text/plain": [
       "'new dataset\\\\sufi\\\\sufiE73.wav'"
      ]
     },
     "metadata": {},
     "output_type": "display_data"
    },
    {
     "name": "stderr",
     "output_type": "stream",
     "text": [
      "\r",
      " 98%|████████████████████████████████████████████████████████████████████████████▋ | 1842/1873 [07:12<00:04,  6.66it/s]"
     ]
    },
    {
     "data": {
      "text/plain": [
       "'new dataset\\\\sufi\\\\sufiE74.wav'"
      ]
     },
     "metadata": {},
     "output_type": "display_data"
    },
    {
     "name": "stderr",
     "output_type": "stream",
     "text": [
      "\r",
      " 98%|████████████████████████████████████████████████████████████████████████████▊ | 1843/1873 [07:12<00:04,  6.82it/s]"
     ]
    },
    {
     "data": {
      "text/plain": [
       "'new dataset\\\\sufi\\\\sufiE75.wav'"
      ]
     },
     "metadata": {},
     "output_type": "display_data"
    },
    {
     "name": "stderr",
     "output_type": "stream",
     "text": [
      "\r",
      " 98%|████████████████████████████████████████████████████████████████████████████▊ | 1844/1873 [07:12<00:04,  6.89it/s]"
     ]
    },
    {
     "data": {
      "text/plain": [
       "'new dataset\\\\sufi\\\\sufiE76.wav'"
      ]
     },
     "metadata": {},
     "output_type": "display_data"
    },
    {
     "name": "stderr",
     "output_type": "stream",
     "text": [
      "\r",
      " 99%|████████████████████████████████████████████████████████████████████████████▊ | 1845/1873 [07:13<00:04,  6.97it/s]"
     ]
    },
    {
     "data": {
      "text/plain": [
       "'new dataset\\\\sufi\\\\sufiE77.wav'"
      ]
     },
     "metadata": {},
     "output_type": "display_data"
    },
    {
     "name": "stderr",
     "output_type": "stream",
     "text": [
      "\r",
      " 99%|████████████████████████████████████████████████████████████████████████████▉ | 1846/1873 [07:13<00:03,  7.01it/s]"
     ]
    },
    {
     "data": {
      "text/plain": [
       "'new dataset\\\\sufi\\\\sufiE78.wav'"
      ]
     },
     "metadata": {},
     "output_type": "display_data"
    },
    {
     "name": "stderr",
     "output_type": "stream",
     "text": [
      "\r",
      " 99%|████████████████████████████████████████████████████████████████████████████▉ | 1847/1873 [07:13<00:03,  6.97it/s]"
     ]
    },
    {
     "data": {
      "text/plain": [
       "'new dataset\\\\sufi\\\\sufiE79.wav'"
      ]
     },
     "metadata": {},
     "output_type": "display_data"
    },
    {
     "name": "stderr",
     "output_type": "stream",
     "text": [
      "\r",
      " 99%|████████████████████████████████████████████████████████████████████████████▉ | 1848/1873 [07:13<00:03,  6.95it/s]"
     ]
    },
    {
     "data": {
      "text/plain": [
       "'new dataset\\\\sufi\\\\sufiE8.wav'"
      ]
     },
     "metadata": {},
     "output_type": "display_data"
    },
    {
     "name": "stderr",
     "output_type": "stream",
     "text": [
      "\r",
      " 99%|█████████████████████████████████████████████████████████████████████████████ | 1849/1873 [07:13<00:03,  6.85it/s]"
     ]
    },
    {
     "data": {
      "text/plain": [
       "'new dataset\\\\sufi\\\\sufiE80.wav'"
      ]
     },
     "metadata": {},
     "output_type": "display_data"
    },
    {
     "name": "stderr",
     "output_type": "stream",
     "text": [
      "\r",
      " 99%|█████████████████████████████████████████████████████████████████████████████ | 1850/1873 [07:13<00:03,  6.80it/s]"
     ]
    },
    {
     "data": {
      "text/plain": [
       "'new dataset\\\\sufi\\\\sufiE81.wav'"
      ]
     },
     "metadata": {},
     "output_type": "display_data"
    },
    {
     "name": "stderr",
     "output_type": "stream",
     "text": [
      "\r",
      " 99%|█████████████████████████████████████████████████████████████████████████████ | 1851/1873 [07:14<00:03,  6.86it/s]"
     ]
    },
    {
     "data": {
      "text/plain": [
       "'new dataset\\\\sufi\\\\sufiE82.wav'"
      ]
     },
     "metadata": {},
     "output_type": "display_data"
    },
    {
     "name": "stderr",
     "output_type": "stream",
     "text": [
      "\r",
      " 99%|█████████████████████████████████████████████████████████████████████████████▏| 1852/1873 [07:14<00:03,  6.95it/s]"
     ]
    },
    {
     "data": {
      "text/plain": [
       "'new dataset\\\\sufi\\\\sufiE83.wav'"
      ]
     },
     "metadata": {},
     "output_type": "display_data"
    },
    {
     "name": "stderr",
     "output_type": "stream",
     "text": [
      "\r",
      " 99%|█████████████████████████████████████████████████████████████████████████████▏| 1853/1873 [07:14<00:02,  7.00it/s]"
     ]
    },
    {
     "data": {
      "text/plain": [
       "'new dataset\\\\sufi\\\\sufiE84.wav'"
      ]
     },
     "metadata": {},
     "output_type": "display_data"
    },
    {
     "name": "stderr",
     "output_type": "stream",
     "text": [
      "\r",
      " 99%|█████████████████████████████████████████████████████████████████████████████▏| 1854/1873 [07:14<00:02,  6.93it/s]"
     ]
    },
    {
     "data": {
      "text/plain": [
       "'new dataset\\\\sufi\\\\sufiE85.wav'"
      ]
     },
     "metadata": {},
     "output_type": "display_data"
    },
    {
     "name": "stderr",
     "output_type": "stream",
     "text": [
      "\r",
      " 99%|█████████████████████████████████████████████████████████████████████████████▎| 1855/1873 [07:14<00:02,  7.21it/s]"
     ]
    },
    {
     "data": {
      "text/plain": [
       "'new dataset\\\\sufi\\\\sufiE86.wav'"
      ]
     },
     "metadata": {},
     "output_type": "display_data"
    },
    {
     "name": "stderr",
     "output_type": "stream",
     "text": [
      "\r",
      " 99%|█████████████████████████████████████████████████████████████████████████████▎| 1856/1873 [07:14<00:02,  7.17it/s]"
     ]
    },
    {
     "data": {
      "text/plain": [
       "'new dataset\\\\sufi\\\\sufiE87.wav'"
      ]
     },
     "metadata": {},
     "output_type": "display_data"
    },
    {
     "name": "stderr",
     "output_type": "stream",
     "text": [
      "\r",
      " 99%|█████████████████████████████████████████████████████████████████████████████▎| 1857/1873 [07:14<00:02,  7.09it/s]"
     ]
    },
    {
     "data": {
      "text/plain": [
       "'new dataset\\\\sufi\\\\sufiE88.wav'"
      ]
     },
     "metadata": {},
     "output_type": "display_data"
    },
    {
     "name": "stderr",
     "output_type": "stream",
     "text": [
      "\r",
      " 99%|█████████████████████████████████████████████████████████████████████████████▍| 1858/1873 [07:14<00:02,  7.25it/s]"
     ]
    },
    {
     "data": {
      "text/plain": [
       "'new dataset\\\\sufi\\\\sufiE89.wav'"
      ]
     },
     "metadata": {},
     "output_type": "display_data"
    },
    {
     "name": "stderr",
     "output_type": "stream",
     "text": [
      "\r",
      " 99%|█████████████████████████████████████████████████████████████████████████████▍| 1859/1873 [07:15<00:01,  7.17it/s]"
     ]
    },
    {
     "data": {
      "text/plain": [
       "'new dataset\\\\sufi\\\\sufiE9.wav'"
      ]
     },
     "metadata": {},
     "output_type": "display_data"
    },
    {
     "name": "stderr",
     "output_type": "stream",
     "text": [
      "\r",
      " 99%|█████████████████████████████████████████████████████████████████████████████▍| 1860/1873 [07:15<00:01,  7.21it/s]"
     ]
    },
    {
     "data": {
      "text/plain": [
       "'new dataset\\\\sufi\\\\sufiE90.wav'"
      ]
     },
     "metadata": {},
     "output_type": "display_data"
    },
    {
     "name": "stderr",
     "output_type": "stream",
     "text": [
      "\r",
      " 99%|█████████████████████████████████████████████████████████████████████████████▌| 1861/1873 [07:15<00:01,  7.24it/s]"
     ]
    },
    {
     "data": {
      "text/plain": [
       "'new dataset\\\\sufi\\\\sufiE91.wav'"
      ]
     },
     "metadata": {},
     "output_type": "display_data"
    },
    {
     "name": "stderr",
     "output_type": "stream",
     "text": [
      "\r",
      " 99%|█████████████████████████████████████████████████████████████████████████████▌| 1862/1873 [07:15<00:01,  7.35it/s]"
     ]
    },
    {
     "data": {
      "text/plain": [
       "'new dataset\\\\sufi\\\\sufiE92.wav'"
      ]
     },
     "metadata": {},
     "output_type": "display_data"
    },
    {
     "name": "stderr",
     "output_type": "stream",
     "text": [
      "\r",
      " 99%|█████████████████████████████████████████████████████████████████████████████▌| 1863/1873 [07:15<00:01,  7.26it/s]"
     ]
    },
    {
     "data": {
      "text/plain": [
       "'new dataset\\\\sufi\\\\sufiE93.wav'"
      ]
     },
     "metadata": {},
     "output_type": "display_data"
    },
    {
     "name": "stderr",
     "output_type": "stream",
     "text": [
      "\r",
      "100%|█████████████████████████████████████████████████████████████████████████████▋| 1864/1873 [07:15<00:01,  7.12it/s]"
     ]
    },
    {
     "data": {
      "text/plain": [
       "'new dataset\\\\sufi\\\\sufiE94.wav'"
      ]
     },
     "metadata": {},
     "output_type": "display_data"
    },
    {
     "name": "stderr",
     "output_type": "stream",
     "text": [
      "\r",
      "100%|█████████████████████████████████████████████████████████████████████████████▋| 1865/1873 [07:15<00:01,  7.22it/s]"
     ]
    },
    {
     "data": {
      "text/plain": [
       "'new dataset\\\\sufi\\\\sufiE95.wav'"
      ]
     },
     "metadata": {},
     "output_type": "display_data"
    },
    {
     "name": "stderr",
     "output_type": "stream",
     "text": [
      "\r",
      "100%|█████████████████████████████████████████████████████████████████████████████▋| 1866/1873 [07:16<00:00,  7.29it/s]"
     ]
    },
    {
     "data": {
      "text/plain": [
       "'new dataset\\\\sufi\\\\sufiE96.wav'"
      ]
     },
     "metadata": {},
     "output_type": "display_data"
    },
    {
     "name": "stderr",
     "output_type": "stream",
     "text": [
      "\r",
      "100%|█████████████████████████████████████████████████████████████████████████████▊| 1867/1873 [07:16<00:00,  7.31it/s]"
     ]
    },
    {
     "data": {
      "text/plain": [
       "'new dataset\\\\sufi\\\\sufiE97.wav'"
      ]
     },
     "metadata": {},
     "output_type": "display_data"
    },
    {
     "name": "stderr",
     "output_type": "stream",
     "text": [
      "\r",
      "100%|█████████████████████████████████████████████████████████████████████████████▊| 1868/1873 [07:16<00:00,  7.34it/s]"
     ]
    },
    {
     "data": {
      "text/plain": [
       "'new dataset\\\\sufi\\\\sufiE98.wav'"
      ]
     },
     "metadata": {},
     "output_type": "display_data"
    },
    {
     "name": "stderr",
     "output_type": "stream",
     "text": [
      "\r",
      "100%|█████████████████████████████████████████████████████████████████████████████▊| 1869/1873 [07:16<00:00,  7.33it/s]"
     ]
    },
    {
     "data": {
      "text/plain": [
       "'new dataset\\\\sufi\\\\sufiE99.wav'"
      ]
     },
     "metadata": {},
     "output_type": "display_data"
    },
    {
     "name": "stderr",
     "output_type": "stream",
     "text": [
      "\r",
      "100%|█████████████████████████████████████████████████████████████████████████████▉| 1870/1873 [07:16<00:00,  7.43it/s]"
     ]
    },
    {
     "data": {
      "text/plain": [
       "'new dataset\\\\sufi\\\\Teri Deewani - Kailash Kher  Official Video  Kailasa  Paresh  Naresh319.wav'"
      ]
     },
     "metadata": {},
     "output_type": "display_data"
    },
    {
     "name": "stderr",
     "output_type": "stream",
     "text": [
      "\r",
      "100%|█████████████████████████████████████████████████████████████████████████████▉| 1871/1873 [07:16<00:00,  7.53it/s]"
     ]
    },
    {
     "data": {
      "text/plain": [
       "'new dataset\\\\sufi\\\\Tumhein Dillagi Bhool Jani Paray Gi  Nusrat Fateh Ali Khan  Lyrical Qawwali  Shemaroo Punjabi351.wav'"
      ]
     },
     "metadata": {},
     "output_type": "display_data"
    },
    {
     "name": "stderr",
     "output_type": "stream",
     "text": [
      "\r",
      "100%|█████████████████████████████████████████████████████████████████████████████▉| 1872/1873 [07:16<00:00,  7.56it/s]"
     ]
    },
    {
     "data": {
      "text/plain": [
       "'new dataset\\\\sufi\\\\Woh Hata Rahe Hain Pardah  Ustad Nusrat Fateh Ali Khan  Complete Version  OSA Worldwide367.wav'"
      ]
     },
     "metadata": {},
     "output_type": "display_data"
    },
    {
     "name": "stderr",
     "output_type": "stream",
     "text": [
      "100%|██████████████████████████████████████████████████████████████████████████████| 1873/1873 [07:17<00:00,  4.29it/s]\n"
     ]
    }
   ],
   "source": [
    "# generate Data for model\n",
    "data = []\n",
    "labels = []\n",
    "for path in tqdm(audio_paths):\n",
    "    display(path)\n",
    "    genre = path.split('\\\\')[1]\n",
    "    fmccs = get_frame_mfccs(path)\n",
    "    \n",
    "    for frame in fmccs:\n",
    "        data.append(frame)\n",
    "        labels.append(genre)\n",
    "    "
   ]
  },
  {
   "cell_type": "code",
   "execution_count": 25,
   "metadata": {
    "execution": {
     "iopub.execute_input": "2023-04-16T19:52:07.001158Z",
     "iopub.status.busy": "2023-04-16T19:52:07.000561Z",
     "iopub.status.idle": "2023-04-16T19:52:07.006609Z",
     "shell.execute_reply": "2023-04-16T19:52:07.005378Z",
     "shell.execute_reply.started": "2023-04-16T19:52:07.001118Z"
    }
   },
   "outputs": [],
   "source": [
    "# check if data and label have same length since the above function fails to load some audio files\n",
    "assert len(data) == len(labels)"
   ]
  },
  {
   "cell_type": "code",
   "execution_count": 26,
   "metadata": {},
   "outputs": [
    {
     "data": {
      "text/plain": [
       "18730"
      ]
     },
     "execution_count": 26,
     "metadata": {},
     "output_type": "execute_result"
    }
   ],
   "source": [
    "len(data)"
   ]
  },
  {
   "cell_type": "code",
   "execution_count": 27,
   "metadata": {
    "execution": {
     "iopub.execute_input": "2023-04-17T05:56:15.903499Z",
     "iopub.status.busy": "2023-04-17T05:56:15.902350Z",
     "iopub.status.idle": "2023-04-17T05:56:15.909827Z",
     "shell.execute_reply": "2023-04-17T05:56:15.908611Z",
     "shell.execute_reply.started": "2023-04-17T05:56:15.903443Z"
    }
   },
   "outputs": [],
   "source": [
    "def reshape(data,shape=(26,65)):\n",
    "    assert data.shape == (13,130) , f\"The Data shape should be (13,130) but got {data.shape}\"\n",
    "    data = data.reshape(shape)\n",
    "    data = np.expand_dims(data,axis=-1)\n",
    "    return data"
   ]
  },
  {
   "cell_type": "code",
   "execution_count": 28,
   "metadata": {
    "execution": {
     "iopub.execute_input": "2023-04-17T06:02:11.467890Z",
     "iopub.status.busy": "2023-04-17T06:02:11.466924Z",
     "iopub.status.idle": "2023-04-17T06:02:11.499704Z",
     "shell.execute_reply": "2023-04-17T06:02:11.498733Z",
     "shell.execute_reply.started": "2023-04-17T06:02:11.467851Z"
    }
   },
   "outputs": [
    {
     "data": {
      "text/plain": [
       "(18730, 13, 130)"
      ]
     },
     "execution_count": 28,
     "metadata": {},
     "output_type": "execute_result"
    }
   ],
   "source": [
    "np.array(data).shape"
   ]
  },
  {
   "cell_type": "code",
   "execution_count": 31,
   "metadata": {
    "execution": {
     "iopub.execute_input": "2023-04-17T05:56:41.044620Z",
     "iopub.status.busy": "2023-04-17T05:56:41.043632Z",
     "iopub.status.idle": "2023-04-17T05:56:41.108548Z",
     "shell.execute_reply": "2023-04-17T05:56:41.107499Z",
     "shell.execute_reply.started": "2023-04-17T05:56:41.044581Z"
    }
   },
   "outputs": [],
   "source": [
    "processed_data = np.array([reshape(x) for x in data])"
   ]
  },
  {
   "cell_type": "code",
   "execution_count": 30,
   "metadata": {
    "execution": {
     "iopub.execute_input": "2023-04-17T05:56:52.143508Z",
     "iopub.status.busy": "2023-04-17T05:56:52.141822Z",
     "iopub.status.idle": "2023-04-17T05:56:52.150131Z",
     "shell.execute_reply": "2023-04-17T05:56:52.148957Z",
     "shell.execute_reply.started": "2023-04-17T05:56:52.143457Z"
    }
   },
   "outputs": [
    {
     "data": {
      "text/plain": [
       "(18730, 26, 65, 1)"
      ]
     },
     "execution_count": 30,
     "metadata": {},
     "output_type": "execute_result"
    }
   ],
   "source": [
    "processed_data.shape"
   ]
  },
  {
   "cell_type": "code",
   "execution_count": 32,
   "metadata": {
    "execution": {
     "iopub.execute_input": "2023-04-16T19:52:17.966045Z",
     "iopub.status.busy": "2023-04-16T19:52:17.965258Z",
     "iopub.status.idle": "2023-04-16T19:52:17.974334Z",
     "shell.execute_reply": "2023-04-16T19:52:17.973025Z",
     "shell.execute_reply.started": "2023-04-16T19:52:17.966004Z"
    }
   },
   "outputs": [],
   "source": [
    "# convert text labels to int \n",
    "from sklearn.preprocessing import LabelEncoder\n",
    "lbenc = LabelEncoder()\n",
    "labels = lbenc.fit_transform(labels)\n"
   ]
  },
  {
   "cell_type": "code",
   "execution_count": 33,
   "metadata": {},
   "outputs": [
    {
     "data": {
      "text/plain": [
       "array([0, 0, 0, ..., 4, 4, 4], dtype=int64)"
      ]
     },
     "execution_count": 33,
     "metadata": {},
     "output_type": "execute_result"
    }
   ],
   "source": [
    "labels"
   ]
  },
  {
   "cell_type": "code",
   "execution_count": 18,
   "metadata": {
    "execution": {
     "iopub.execute_input": "2023-04-16T19:52:21.976475Z",
     "iopub.status.busy": "2023-04-16T19:52:21.975394Z",
     "iopub.status.idle": "2023-04-16T19:52:21.983563Z",
     "shell.execute_reply": "2023-04-16T19:52:21.982495Z",
     "shell.execute_reply.started": "2023-04-16T19:52:21.976422Z"
    }
   },
   "outputs": [],
   "source": [
    "classes = lbenc.classes_"
   ]
  },
  {
   "cell_type": "code",
   "execution_count": 36,
   "metadata": {
    "execution": {
     "iopub.execute_input": "2023-04-16T19:52:27.050878Z",
     "iopub.status.busy": "2023-04-16T19:52:27.049863Z",
     "iopub.status.idle": "2023-04-16T19:52:27.058301Z",
     "shell.execute_reply": "2023-04-16T19:52:27.057075Z",
     "shell.execute_reply.started": "2023-04-16T19:52:27.050823Z"
    }
   },
   "outputs": [
    {
     "data": {
      "text/plain": [
       "array(['carnatic', 'folk', 'ghazal', 'semiclassical', 'ghazal'],\n",
       "      dtype='<U13')"
      ]
     },
     "execution_count": 36,
     "metadata": {},
     "output_type": "execute_result"
    }
   ],
   "source": [
    "lbenc.inverse_transform([0,1,2,3,2])"
   ]
  },
  {
   "cell_type": "code",
   "execution_count": 20,
   "metadata": {
    "execution": {
     "iopub.execute_input": "2023-04-16T19:52:33.450955Z",
     "iopub.status.busy": "2023-04-16T19:52:33.449971Z",
     "iopub.status.idle": "2023-04-16T19:52:33.522121Z",
     "shell.execute_reply": "2023-04-16T19:52:33.521100Z",
     "shell.execute_reply.started": "2023-04-16T19:52:33.450902Z"
    }
   },
   "outputs": [],
   "source": [
    "# split the data for training and testing\n",
    "from sklearn.model_selection import train_test_split\n",
    "x_train,x_val,y_train,y_val = train_test_split(processed_data,labels,test_size=0.2,\n",
    "                                               shuffle=True,random_state=42)"
   ]
  },
  {
   "cell_type": "code",
   "execution_count": 21,
   "metadata": {},
   "outputs": [
    {
     "data": {
      "text/plain": [
       "array([4, 2, 0, ..., 4, 0, 2], dtype=int64)"
      ]
     },
     "execution_count": 21,
     "metadata": {},
     "output_type": "execute_result"
    }
   ],
   "source": [
    "y_val"
   ]
  },
  {
   "cell_type": "code",
   "execution_count": 22,
   "metadata": {
    "execution": {
     "iopub.execute_input": "2023-04-17T05:06:01.379315Z",
     "iopub.status.busy": "2023-04-17T05:06:01.378732Z",
     "iopub.status.idle": "2023-04-17T05:06:09.545967Z",
     "shell.execute_reply": "2023-04-17T05:06:09.544865Z",
     "shell.execute_reply.started": "2023-04-17T05:06:01.379286Z"
    }
   },
   "outputs": [],
   "source": [
    "from tensorflow.keras.layers import InputLayer , Conv2D , AveragePooling2D , GlobalAvgPool2D , Dense\n",
    "import tensorflow as tf"
   ]
  },
  {
   "cell_type": "code",
   "execution_count": 23,
   "metadata": {
    "execution": {
     "iopub.execute_input": "2023-04-16T19:52:59.734860Z",
     "iopub.status.busy": "2023-04-16T19:52:59.734230Z",
     "iopub.status.idle": "2023-04-16T19:52:59.857439Z",
     "shell.execute_reply": "2023-04-16T19:52:59.856623Z",
     "shell.execute_reply.started": "2023-04-16T19:52:59.734821Z"
    }
   },
   "outputs": [
    {
     "name": "stdout",
     "output_type": "stream",
     "text": [
      "Model: \"sequential\"\n",
      "_________________________________________________________________\n",
      " Layer (type)                Output Shape              Param #   \n",
      "=================================================================\n",
      " conv2d (Conv2D)             (None, 24, 63, 256)       2560      \n",
      "                                                                 \n",
      " conv2d_1 (Conv2D)           (None, 22, 61, 256)       590080    \n",
      "                                                                 \n",
      " average_pooling2d (AverageP  (None, 11, 31, 256)      0         \n",
      " ooling2D)                                                       \n",
      "                                                                 \n",
      " conv2d_2 (Conv2D)           (None, 9, 29, 256)        590080    \n",
      "                                                                 \n",
      " average_pooling2d_1 (Averag  (None, 5, 15, 256)       0         \n",
      " ePooling2D)                                                     \n",
      "                                                                 \n",
      " conv2d_3 (Conv2D)           (None, 2, 12, 512)        2097664   \n",
      "                                                                 \n",
      " global_average_pooling2d (G  (None, 512)              0         \n",
      " lobalAveragePooling2D)                                          \n",
      "                                                                 \n",
      " dense (Dense)               (None, 256)               131328    \n",
      "                                                                 \n",
      " dense_1 (Dense)             (None, 128)               32896     \n",
      "                                                                 \n",
      " dense_2 (Dense)             (None, 5)                 645       \n",
      "                                                                 \n",
      "=================================================================\n",
      "Total params: 3,445,253\n",
      "Trainable params: 3,445,253\n",
      "Non-trainable params: 0\n",
      "_________________________________________________________________\n"
     ]
    }
   ],
   "source": [
    "model = tf.keras.models.Sequential([\n",
    "    InputLayer(input_shape=(26,65,1)),\n",
    "    Conv2D(256,(3),padding='valid',activation='relu'),\n",
    "    Conv2D(256,(3),padding='valid',activation='relu'),\n",
    "    AveragePooling2D(pool_size=(3),strides=(2),padding='same'),\n",
    "    Conv2D(256,(3),padding='valid',activation='relu'),\n",
    "    AveragePooling2D(pool_size=(3),strides=(2),padding='same'),\n",
    "    Conv2D(512,(4),padding='valid',activation='relu'),\n",
    "    GlobalAvgPool2D(),\n",
    "    Dense(256,activation='relu'),\n",
    "    Dense(128,activation='relu'),\n",
    "    Dense(5,activation='softmax')\n",
    "])\n",
    "model.compile(optimizer=tf.keras.optimizers.Adam(),\n",
    "             loss=tf.keras.losses.sparse_categorical_crossentropy,\n",
    "             metrics=['accuracy'])\n",
    "model.summary()"
   ]
  },
  {
   "cell_type": "code",
   "execution_count": 24,
   "metadata": {},
   "outputs": [],
   "source": [
    "import keras\n",
    "callback = keras.callbacks.EarlyStopping(monitor='loss', min_delta=0, patience=2, verbose=0, mode='auto', baseline=None, restore_best_weights=False)"
   ]
  },
  {
   "cell_type": "code",
   "execution_count": 25,
   "metadata": {
    "execution": {
     "iopub.execute_input": "2023-04-16T19:53:07.902025Z",
     "iopub.status.busy": "2023-04-16T19:53:07.901568Z",
     "iopub.status.idle": "2023-04-16T19:59:34.196463Z",
     "shell.execute_reply": "2023-04-16T19:59:34.195439Z",
     "shell.execute_reply.started": "2023-04-16T19:53:07.901977Z"
    }
   },
   "outputs": [
    {
     "name": "stdout",
     "output_type": "stream",
     "text": [
      "Epoch 1/30\n",
      "469/469 [==============================] - 544s 1s/step - loss: 0.9028 - accuracy: 0.6542\n",
      "Epoch 2/30\n",
      "469/469 [==============================] - 519s 1s/step - loss: 0.5219 - accuracy: 0.8123\n",
      "Epoch 3/30\n",
      "469/469 [==============================] - 498s 1s/step - loss: 0.4085 - accuracy: 0.8530\n",
      "Epoch 4/30\n",
      "469/469 [==============================] - 503s 1s/step - loss: 0.3166 - accuracy: 0.8848\n",
      "Epoch 5/30\n",
      "469/469 [==============================] - 481s 1s/step - loss: 0.2665 - accuracy: 0.9047\n",
      "Epoch 6/30\n",
      "469/469 [==============================] - 486s 1s/step - loss: 0.2306 - accuracy: 0.9173\n",
      "Epoch 7/30\n",
      "469/469 [==============================] - 488s 1s/step - loss: 0.2003 - accuracy: 0.9274\n",
      "Epoch 8/30\n",
      "469/469 [==============================] - 491s 1s/step - loss: 0.1813 - accuracy: 0.9333\n",
      "Epoch 9/30\n",
      "469/469 [==============================] - 494s 1s/step - loss: 0.1581 - accuracy: 0.9423\n",
      "Epoch 10/30\n",
      "469/469 [==============================] - 498s 1s/step - loss: 0.1498 - accuracy: 0.9476\n",
      "Epoch 11/30\n",
      "469/469 [==============================] - 491s 1s/step - loss: 0.1212 - accuracy: 0.9562\n",
      "Epoch 12/30\n",
      "469/469 [==============================] - 490s 1s/step - loss: 0.1166 - accuracy: 0.9580\n",
      "Epoch 13/30\n",
      "469/469 [==============================] - 489s 1s/step - loss: 0.1028 - accuracy: 0.9630\n",
      "Epoch 14/30\n",
      "469/469 [==============================] - 489s 1s/step - loss: 0.0895 - accuracy: 0.9668\n",
      "Epoch 15/30\n",
      "469/469 [==============================] - 490s 1s/step - loss: 0.0886 - accuracy: 0.9675\n",
      "Epoch 16/30\n",
      "469/469 [==============================] - 492s 1s/step - loss: 0.0838 - accuracy: 0.9712\n",
      "Epoch 17/30\n",
      "469/469 [==============================] - 495s 1s/step - loss: 0.0842 - accuracy: 0.9704\n",
      "Epoch 18/30\n",
      "469/469 [==============================] - 489s 1s/step - loss: 0.0743 - accuracy: 0.9746\n",
      "Epoch 19/30\n",
      "469/469 [==============================] - 488s 1s/step - loss: 0.0632 - accuracy: 0.9776\n",
      "Epoch 20/30\n",
      "469/469 [==============================] - 492s 1s/step - loss: 0.0682 - accuracy: 0.9774\n",
      "Epoch 21/30\n",
      "469/469 [==============================] - 493s 1s/step - loss: 0.0709 - accuracy: 0.9752\n"
     ]
    }
   ],
   "source": [
    "history = model.fit(x_train,y_train,batch_size=32,epochs=30, callbacks = [callback])"
   ]
  },
  {
   "cell_type": "code",
   "execution_count": 27,
   "metadata": {
    "execution": {
     "iopub.execute_input": "2023-04-16T19:59:45.923523Z",
     "iopub.status.busy": "2023-04-16T19:59:45.923151Z",
     "iopub.status.idle": "2023-04-16T19:59:46.271669Z",
     "shell.execute_reply": "2023-04-16T19:59:46.270670Z",
     "shell.execute_reply.started": "2023-04-16T19:59:45.923491Z"
    }
   },
   "outputs": [
    {
     "data": {
      "image/png": "[encoded data removed]",
      "text/plain": [
       "<Figure size 432x288 with 2 Axes>"
      ]
     },
     "metadata": {
      "needs_background": "light"
     },
     "output_type": "display_data"
    }
   ],
   "source": [
    "# model training plots\n",
    "epochs = np.arange(1,22)\n",
    "plt.subplot(1,2,1)\n",
    "plt.plot(epochs,history.history['loss'],color='r')\n",
    "plt.title('Model loss (sparse categorical crossentropy)')\n",
    "plt.xlabel('Epochs')\n",
    "plt.ylabel('Loss')\n",
    "plt.tight_layout()\n",
    "plt.subplot(1,2,2)\n",
    "plt.plot(epochs,history.history['accuracy'],color='g')\n",
    "plt.title('Model Accuracy')\n",
    "plt.xlabel('Epochs')\n",
    "plt.ylabel('Accuracy')\n",
    "plt.tight_layout()\n",
    "plt.show()"
   ]
  },
  {
   "cell_type": "code",
   "execution_count": 28,
   "metadata": {
    "execution": {
     "iopub.execute_input": "2023-04-16T19:59:55.701716Z",
     "iopub.status.busy": "2023-04-16T19:59:55.701290Z",
     "iopub.status.idle": "2023-04-16T19:59:55.706626Z",
     "shell.execute_reply": "2023-04-16T19:59:55.705377Z",
     "shell.execute_reply.started": "2023-04-16T19:59:55.701667Z"
    }
   },
   "outputs": [],
   "source": [
    "from sklearn.metrics import f1_score , accuracy_score"
   ]
  },
  {
   "cell_type": "code",
   "execution_count": 29,
   "metadata": {},
   "outputs": [
    {
     "data": {
      "text/plain": [
       "3746"
      ]
     },
     "execution_count": 29,
     "metadata": {},
     "output_type": "execute_result"
    }
   ],
   "source": [
    "len(x_val)"
   ]
  },
  {
   "cell_type": "code",
   "execution_count": 37,
   "metadata": {
    "execution": {
     "iopub.execute_input": "2023-04-16T19:59:57.969449Z",
     "iopub.status.busy": "2023-04-16T19:59:57.968403Z",
     "iopub.status.idle": "2023-04-16T19:59:59.417429Z",
     "shell.execute_reply": "2023-04-16T19:59:59.416350Z",
     "shell.execute_reply.started": "2023-04-16T19:59:57.969406Z"
    }
   },
   "outputs": [
    {
     "ename": "NameError",
     "evalue": "name 'model' is not defined",
     "output_type": "error",
     "traceback": [
      "\u001b[1;31m---------------------------------------------------------------------------\u001b[0m",
      "\u001b[1;31mNameError\u001b[0m                                 Traceback (most recent call last)",
      "Input \u001b[1;32mIn [37]\u001b[0m, in \u001b[0;36m<cell line: 1>\u001b[1;34m()\u001b[0m\n\u001b[1;32m----> 1\u001b[0m pred \u001b[38;5;241m=\u001b[39m \u001b[43mmodel\u001b[49m\u001b[38;5;241m.\u001b[39mpredict(x_val)\n\u001b[0;32m      2\u001b[0m preds \u001b[38;5;241m=\u001b[39m []\n\u001b[0;32m      3\u001b[0m \u001b[38;5;28;01mfor\u001b[39;00m i \u001b[38;5;129;01min\u001b[39;00m pred:\n",
      "\u001b[1;31mNameError\u001b[0m: name 'model' is not defined"
     ]
    }
   ],
   "source": [
    "pred = model.predict(x_val)\n",
    "preds = []\n",
    "for i in pred:\n",
    "    \n",
    "    out = np.argmax(i)\n",
    "    preds.append(out)\n",
    "f1score = f1_score(y_val,preds,average='micro')\n",
    "accuracy = accuracy_score(y_val,preds)"
   ]
  },
  {
   "cell_type": "code",
   "execution_count": 31,
   "metadata": {},
   "outputs": [
    {
     "data": {
      "text/plain": [
       "array([4, 2, 0, ..., 4, 0, 2], dtype=int64)"
      ]
     },
     "execution_count": 31,
     "metadata": {},
     "output_type": "execute_result"
    }
   ],
   "source": [
    "y_val"
   ]
  },
  {
   "cell_type": "code",
   "execution_count": null,
   "metadata": {},
   "outputs": [],
   "source": [
    "x_val"
   ]
  },
  {
   "cell_type": "code",
   "execution_count": 32,
   "metadata": {
    "execution": {
     "iopub.execute_input": "2023-04-16T20:00:05.101243Z",
     "iopub.status.busy": "2023-04-16T20:00:05.100537Z",
     "iopub.status.idle": "2023-04-16T20:00:05.106946Z",
     "shell.execute_reply": "2023-04-16T20:00:05.105781Z",
     "shell.execute_reply.started": "2023-04-16T20:00:05.101204Z"
    }
   },
   "outputs": [
    {
     "name": "stdout",
     "output_type": "stream",
     "text": [
      "The Test Accuracy is 0.9356647090229578 \n",
      " The F1 Score is 0.9356647090229578\n"
     ]
    }
   ],
   "source": [
    "print(f\"The Test Accuracy is {accuracy} \\n The F1 Score is {f1score}\")"
   ]
  },
  {
   "cell_type": "code",
   "execution_count": 33,
   "metadata": {
    "execution": {
     "iopub.execute_input": "2023-04-16T20:00:11.568671Z",
     "iopub.status.busy": "2023-04-16T20:00:11.568307Z",
     "iopub.status.idle": "2023-04-16T20:00:11.573382Z",
     "shell.execute_reply": "2023-04-16T20:00:11.572343Z",
     "shell.execute_reply.started": "2023-04-16T20:00:11.568638Z"
    }
   },
   "outputs": [],
   "source": [
    "from sklearn.metrics import confusion_matrix"
   ]
  },
  {
   "cell_type": "code",
   "execution_count": 34,
   "metadata": {
    "execution": {
     "iopub.execute_input": "2023-04-16T20:00:14.656330Z",
     "iopub.status.busy": "2023-04-16T20:00:14.655954Z",
     "iopub.status.idle": "2023-04-16T20:00:14.664124Z",
     "shell.execute_reply": "2023-04-16T20:00:14.663089Z",
     "shell.execute_reply.started": "2023-04-16T20:00:14.656297Z"
    }
   },
   "outputs": [],
   "source": [
    "cm = confusion_matrix(y_val,preds)"
   ]
  },
  {
   "cell_type": "code",
   "execution_count": 35,
   "metadata": {
    "execution": {
     "iopub.execute_input": "2023-04-16T20:00:16.495082Z",
     "iopub.status.busy": "2023-04-16T20:00:16.494562Z",
     "iopub.status.idle": "2023-04-16T20:00:16.817088Z",
     "shell.execute_reply": "2023-04-16T20:00:16.816011Z",
     "shell.execute_reply.started": "2023-04-16T20:00:16.495038Z"
    }
   },
   "outputs": [
    {
     "data": {
      "image/png": "[encoded data removed]",
      "text/plain": [
       "<Figure size 432x288 with 2 Axes>"
      ]
     },
     "metadata": {
      "needs_background": "light"
     },
     "output_type": "display_data"
    }
   ],
   "source": [
    "plt.imshow(cm, interpolation='nearest', cmap=plt.cm.Blues)\n",
    "plt.title('Confusion matrix')\n",
    "plt.colorbar()\n",
    "tick_marks = np.arange(len(classes))\n",
    "plt.xticks(tick_marks, classes, rotation=45)\n",
    "plt.yticks(tick_marks, classes)\n",
    "fmt = 'd'\n",
    "thresh = cm.max() / 2.\n",
    "for i, j in np.ndindex(cm.shape):\n",
    "    plt.text(j, i, format(cm[i, j], fmt),\n",
    "             horizontalalignment=\"center\",\n",
    "             color=\"white\" if cm[i, j] > thresh else \"black\")\n",
    "plt.tight_layout()\n",
    "plt.ylabel('True label')\n",
    "plt.xlabel('Predicted label')\n",
    "plt.show()"
   ]
  },
  {
   "cell_type": "code",
   "execution_count": 103,
   "metadata": {},
   "outputs": [
    {
     "name": "stdout",
     "output_type": "stream",
     "text": [
      "Successfully Converted:  Ali Zafar   Maula   Official Video.mp3\n"
     ]
    }
   ],
   "source": [
    "from pydub import AudioSegment\n",
    "from mutagen.wave import WAVE\n",
    "import os\n",
    "\n",
    "path = \"C://Users//thash//Desktop//music//temp//test\"\n",
    "dir_list = os.listdir(path)\n",
    "input_file=dir_list[0]\n",
    "try:\n",
    "    output_file = f\"temp/wave/{input_file[:-4]}.wav\"\n",
    "    sound = AudioSegment.from_mp3(f\"temp/test/{input_file}\")\n",
    "    sound.export(output_file, format=\"wav\")\n",
    "    print('Successfully Converted: ', input_file)\n",
    "except CouldntDecodeError:\n",
    "    print('Couldn\\'t convert the file: ', input_file)"
   ]
  },
  {
   "cell_type": "code",
   "execution_count": 104,
   "metadata": {},
   "outputs": [
    {
     "data": {
      "text/plain": [
       "'Ali Zafar   Maula   Official Video.wav'"
      ]
     },
     "metadata": {},
     "output_type": "display_data"
    }
   ],
   "source": [
    "path = \"C://Users//thash//Desktop//music//temp//wave\"\n",
    "dir_list = os.listdir(path)\n",
    "res = []\n",
    "for input_file in dir_list:\n",
    "    display(input_file)\n",
    "    mfccss = get_frame_mfccs(f\"temp/wave/{input_file}\")\n",
    "    for frame in mfccss:\n",
    "        res.append(frame)\n",
    "    "
   ]
  },
  {
   "cell_type": "code",
   "execution_count": 105,
   "metadata": {},
   "outputs": [],
   "source": [
    "def reshape(data1,shape=(26,65)):\n",
    "    assert data1.shape == (13,130) , f\"The Data shape should be (13,130) but got {data.shape}\"\n",
    "    data1 = data1.reshape(shape)\n",
    "    data1 = np.expand_dims(data1,axis=-1)\n",
    "    return data1"
   ]
  },
  {
   "cell_type": "code",
   "execution_count": 106,
   "metadata": {},
   "outputs": [
    {
     "data": {
      "text/plain": [
       "(138, 13, 130)"
      ]
     },
     "execution_count": 106,
     "metadata": {},
     "output_type": "execute_result"
    }
   ],
   "source": [
    "np.array(res).shape"
   ]
  },
  {
   "cell_type": "code",
   "execution_count": 108,
   "metadata": {},
   "outputs": [],
   "source": [
    "processed_res = np.array([reshape(x) for x in res])"
   ]
  },
  {
   "cell_type": "code",
   "execution_count": 109,
   "metadata": {},
   "outputs": [
    {
     "data": {
      "text/plain": [
       "(138, 26, 65, 1)"
      ]
     },
     "execution_count": 109,
     "metadata": {},
     "output_type": "execute_result"
    }
   ],
   "source": [
    "processed_res.shape"
   ]
  },
  {
   "cell_type": "code",
   "execution_count": 110,
   "metadata": {
    "scrolled": true
   },
   "outputs": [
    {
     "name": "stdout",
     "output_type": "stream",
     "text": [
      "5/5 [==============================] - 1s 149ms/step\n",
      "[[2.29992918e-04 7.94533407e-05 9.65412483e-02 2.46594287e-03\n",
      "  9.00683343e-01]\n",
      " [1.95977231e-03 2.34759181e-08 9.93866384e-01 1.65326608e-04\n",
      "  4.00851434e-03]\n",
      " [2.65884787e-01 7.39367900e-10 1.34367034e-01 1.50601729e-04\n",
      "  5.99597633e-01]\n",
      " [6.63410546e-03 1.78732341e-11 9.93246198e-01 8.29854907e-05\n",
      "  3.67163047e-05]\n",
      " [1.00000000e+00 1.39577320e-26 7.97832700e-15 4.10288977e-19\n",
      "  4.42881036e-14]\n",
      " [1.00000000e+00 6.36500537e-22 5.11036523e-16 4.60492680e-14\n",
      "  2.04352136e-14]\n",
      " [1.00000000e+00 5.81793917e-19 2.41659262e-15 1.53293414e-14\n",
      "  3.35736517e-12]\n",
      " [9.99999881e-01 2.52796407e-14 5.11488282e-11 6.40756925e-13\n",
      "  1.52916513e-07]\n",
      " [1.00000000e+00 9.27041330e-18 1.53670094e-15 4.21844808e-17\n",
      "  1.68801292e-11]\n",
      " [2.22926453e-01 1.31517083e-06 7.05796897e-01 6.96023107e-02\n",
      "  1.67298224e-03]\n",
      " [9.99999881e-01 3.63388442e-15 1.13244852e-07 3.42766504e-09\n",
      "  6.04947314e-10]\n",
      " [7.80850351e-01 1.73424315e-08 4.02664579e-02 4.86868806e-03\n",
      "  1.74014479e-01]\n",
      " [3.03100707e-04 1.34524987e-08 1.41246319e-01 2.95623991e-04\n",
      "  8.58154953e-01]\n",
      " [1.71936551e-06 2.06557246e-07 4.11075890e-01 7.33504742e-02\n",
      "  5.15571713e-01]\n",
      " [7.33728939e-07 5.92790457e-05 8.44367146e-02 8.86766315e-01\n",
      "  2.87369154e-02]\n",
      " [2.90231867e-04 1.44455908e-06 3.96005243e-01 5.94004691e-02\n",
      "  5.44302642e-01]\n",
      " [1.62898301e-04 2.23475217e-06 9.44657862e-01 3.20315659e-02\n",
      "  2.31453218e-02]\n",
      " [6.44376774e-09 1.73249646e-07 7.20773757e-01 2.77970761e-01\n",
      "  1.25521398e-03]\n",
      " [1.37092531e-04 4.92459279e-04 1.28914684e-01 2.44714797e-01\n",
      "  6.25741065e-01]\n",
      " [5.87830937e-06 1.25282646e-08 3.92533490e-04 1.87435362e-04\n",
      "  9.99414206e-01]\n",
      " [2.28543195e-06 8.97045140e-08 9.06478882e-01 7.56882057e-02\n",
      "  1.78305972e-02]\n",
      " [3.20097970e-05 8.96286257e-12 9.99938607e-01 2.28566132e-05\n",
      "  6.38460688e-06]\n",
      " [4.72049862e-01 7.25418658e-09 5.07113159e-01 1.00243160e-04\n",
      "  2.07367446e-02]\n",
      " [9.99995947e-01 4.71710671e-10 2.96634994e-10 9.63943037e-10\n",
      "  4.10858956e-06]\n",
      " [9.99999762e-01 2.54550381e-10 3.13186781e-12 2.00658832e-07\n",
      "  4.74948303e-09]\n",
      " [8.43507797e-02 6.00791648e-02 4.35951352e-03 3.59941600e-03\n",
      "  8.47611129e-01]\n",
      " [1.29010205e-10 1.50650718e-15 2.71400927e-14 5.82271888e-17\n",
      "  1.00000000e+00]\n",
      " [6.47978450e-05 7.38582628e-07 2.80425411e-06 1.20846238e-07\n",
      "  9.99931574e-01]\n",
      " [9.61771429e-01 2.07081996e-02 6.13669408e-06 1.59726405e-04\n",
      "  1.73544493e-02]\n",
      " [6.71659827e-01 2.08150991e-03 4.29221988e-03 2.67080665e-01\n",
      "  5.48858307e-02]\n",
      " [1.00000000e+00 9.07688022e-11 1.27648922e-12 7.75941533e-10\n",
      "  2.63648321e-08]\n",
      " [6.24587433e-03 3.32441891e-06 5.78517829e-05 5.07814548e-07\n",
      "  9.93692517e-01]\n",
      " [6.53402926e-03 1.09907626e-06 4.75358451e-04 6.40817801e-04\n",
      "  9.92348671e-01]\n",
      " [4.78744566e-01 7.64792319e-04 1.78789839e-01 2.83908867e-03\n",
      "  3.38861644e-01]\n",
      " [2.35416681e-01 4.81941044e-01 6.69866707e-03 8.07840843e-03\n",
      "  2.67865270e-01]\n",
      " [5.28847992e-01 2.70374268e-01 4.27334346e-02 9.99700576e-02\n",
      "  5.80742359e-02]\n",
      " [7.34625850e-04 6.84408620e-02 7.79963657e-03 4.15903069e-02\n",
      "  8.81434619e-01]\n",
      " [1.70567974e-01 6.63615623e-03 3.63838047e-01 2.48086583e-02\n",
      "  4.34149176e-01]\n",
      " [4.20554080e-09 1.24270134e-11 1.14877469e-06 2.27114492e-06\n",
      "  9.99996543e-01]\n",
      " [3.36296807e-07 2.62282001e-08 5.45360999e-05 1.74017027e-02\n",
      "  9.82543409e-01]\n",
      " [2.44460967e-08 1.42606010e-10 7.01583758e-07 2.02452998e-06\n",
      "  9.99997258e-01]\n",
      " [5.69618311e-11 6.11530005e-14 1.87937239e-08 1.39218810e-06\n",
      "  9.99998569e-01]\n",
      " [2.47788703e-04 7.80362175e-09 2.00242546e-04 5.29280169e-06\n",
      "  9.99546587e-01]\n",
      " [6.37050762e-05 7.74128850e-09 1.94337986e-06 1.26970932e-07\n",
      "  9.99934196e-01]\n",
      " [7.71097898e-01 2.78385793e-04 1.04950485e-03 1.00860096e-04\n",
      "  2.27473393e-01]\n",
      " [4.18532153e-07 1.72771467e-11 7.00567341e-07 2.92132603e-11\n",
      "  9.99998927e-01]\n",
      " [3.62844183e-03 5.21652910e-05 7.41898955e-04 1.51897420e-03\n",
      "  9.94058490e-01]\n",
      " [6.92493131e-06 4.62112212e-06 7.03552912e-04 4.29948032e-01\n",
      "  5.69336891e-01]\n",
      " [3.56421282e-04 4.64615005e-05 3.11175678e-02 5.48203140e-02\n",
      "  9.13659275e-01]\n",
      " [1.70103465e-06 1.41384390e-07 2.73876740e-05 3.28979309e-04\n",
      "  9.99641776e-01]\n",
      " [1.01122159e-05 7.06089764e-08 1.39182930e-05 7.28110829e-03\n",
      "  9.92694736e-01]\n",
      " [5.78306281e-05 9.21854098e-06 1.16562014e-02 1.66730285e-01\n",
      "  8.21546435e-01]\n",
      " [9.99789774e-01 2.25602537e-10 1.13707949e-06 1.99071932e-04\n",
      "  1.00396546e-05]\n",
      " [1.91864878e-04 1.29667853e-04 3.16093862e-02 9.20308352e-01\n",
      "  4.77607101e-02]\n",
      " [6.90146722e-03 1.45514720e-08 4.83146170e-04 3.17455648e-04\n",
      "  9.92297947e-01]\n",
      " [8.66494898e-04 1.69589001e-08 3.82208673e-04 5.10261297e-01\n",
      "  4.88490015e-01]\n",
      " [1.56687429e-06 4.59949012e-09 7.17331059e-05 1.01226142e-05\n",
      "  9.99916553e-01]\n",
      " [2.73776976e-07 4.38976883e-10 4.56710677e-06 3.55575071e-06\n",
      "  9.99991655e-01]\n",
      " [3.27621624e-10 3.55901177e-11 5.65548719e-09 7.83782411e-07\n",
      "  9.99999166e-01]\n",
      " [3.53194948e-04 5.15296197e-05 4.76349553e-04 1.60728358e-02\n",
      "  9.83046114e-01]\n",
      " [2.09977734e-05 7.45981765e-08 9.24662745e-05 1.43197028e-03\n",
      "  9.98454452e-01]\n",
      " [1.02082646e-04 4.54923423e-08 4.58189053e-04 1.06158562e-03\n",
      "  9.98378038e-01]\n",
      " [3.39318853e-04 3.55415104e-04 3.28716636e-02 3.25125381e-02\n",
      "  9.33921099e-01]\n",
      " [2.06334647e-07 4.22505018e-08 3.47670983e-04 2.27431798e-07\n",
      "  9.99651909e-01]\n",
      " [8.01409641e-08 2.13554996e-09 1.99744300e-05 2.05200763e-07\n",
      "  9.99979734e-01]\n",
      " [6.32192432e-09 8.11622525e-13 1.71424688e-07 2.80447554e-09\n",
      "  9.99999762e-01]\n",
      " [1.61888001e-05 2.77468484e-06 3.93959088e-03 1.81373325e-04\n",
      "  9.95860040e-01]\n",
      " [8.18520948e-06 3.54228973e-07 1.88661143e-04 3.10393116e-05\n",
      "  9.99771774e-01]\n",
      " [3.41412961e-03 6.30018301e-03 4.71637435e-02 1.43468454e-01\n",
      "  7.99653471e-01]\n",
      " [2.15723958e-05 4.19978676e-07 6.65470026e-04 1.15241050e-06\n",
      "  9.99311447e-01]\n",
      " [1.30805356e-05 1.41846684e-07 2.41986578e-04 1.61184525e-05\n",
      "  9.99728620e-01]\n",
      " [2.34970685e-05 5.39376742e-05 5.14486013e-03 3.00565362e-02\n",
      "  9.64721203e-01]\n",
      " [7.54487846e-05 1.08424065e-05 1.58376340e-02 7.10281059e-02\n",
      "  9.13047969e-01]\n",
      " [9.89682667e-05 1.72782165e-05 7.95863220e-04 1.42126670e-03\n",
      "  9.97666597e-01]\n",
      " [1.92720927e-06 5.41233419e-07 2.25801432e-06 9.97085512e-01\n",
      "  2.90976046e-03]\n",
      " [6.25321292e-04 1.93443084e-05 3.72795272e-03 4.99136886e-03\n",
      "  9.90636051e-01]\n",
      " [1.66010523e-05 5.09727045e-07 3.12437979e-03 9.96661901e-01\n",
      "  1.96684836e-04]\n",
      " [1.73523877e-04 2.44553439e-06 2.87735602e-03 9.93445516e-01\n",
      "  3.50125437e-03]\n",
      " [4.11393852e-09 2.97654523e-12 9.59593177e-01 4.04067785e-02\n",
      "  2.49032901e-08]\n",
      " [2.84053613e-06 1.24983468e-09 9.99863625e-01 5.00273964e-05\n",
      "  8.34337625e-05]\n",
      " [2.57343591e-09 2.73802231e-14 9.99426842e-01 5.68293850e-04\n",
      "  4.87411808e-06]\n",
      " [3.32785220e-07 7.45839588e-13 9.99825537e-01 1.72521366e-04\n",
      "  1.68814768e-06]\n",
      " [5.89928859e-05 1.32195839e-06 1.62368760e-01 8.36505294e-01\n",
      "  1.06574548e-03]\n",
      " [2.12307144e-02 7.74731016e-05 1.91436161e-03 1.41488051e-03\n",
      "  9.75362599e-01]\n",
      " [7.43013344e-13 1.93976368e-17 7.23959503e-10 4.11915854e-16\n",
      "  1.00000000e+00]\n",
      " [1.21688126e-05 1.78505013e-06 1.30269479e-03 1.69156250e-04\n",
      "  9.98514235e-01]\n",
      " [3.30403805e-06 1.12969758e-06 1.36549247e-03 2.72855468e-05\n",
      "  9.98602808e-01]\n",
      " [3.58825200e-04 9.85393999e-04 6.20343909e-03 5.28806075e-03\n",
      "  9.87164259e-01]\n",
      " [1.21485186e-07 1.23004329e-09 1.97130589e-06 3.94187838e-09\n",
      "  9.99997854e-01]\n",
      " [8.40720276e-08 2.13945953e-07 7.06017381e-05 5.38179954e-08\n",
      "  9.99929070e-01]\n",
      " [1.60125433e-04 1.70278625e-04 5.28643839e-03 5.12221595e-03\n",
      "  9.89260912e-01]\n",
      " [1.07845459e-04 4.05613446e-06 3.11864400e-03 7.47795973e-04\n",
      "  9.96021688e-01]\n",
      " [1.12137105e-03 3.37732676e-03 2.80467002e-03 7.87003398e-01\n",
      "  2.05693260e-01]\n",
      " [1.15108143e-07 1.31036643e-06 5.70659253e-08 9.48407054e-01\n",
      "  5.15914187e-02]\n",
      " [1.28519077e-05 1.49397354e-04 9.98625474e-05 9.97053504e-01\n",
      "  2.68440577e-03]\n",
      " [3.72907962e-05 2.41090259e-09 2.54135610e-08 6.53687104e-09\n",
      "  9.99962687e-01]\n",
      " [4.15202703e-05 2.30859641e-05 6.24937080e-02 7.38862203e-03\n",
      "  9.30053055e-01]\n",
      " [1.17453128e-04 1.55914837e-08 5.65351977e-04 2.78022126e-05\n",
      "  9.99289393e-01]\n",
      " [2.95045145e-04 6.90661545e-05 1.30220996e-02 5.01716696e-02\n",
      "  9.36442077e-01]\n",
      " [2.04588822e-03 2.53185448e-07 5.55134437e-04 1.36348654e-05\n",
      "  9.97385085e-01]\n",
      " [3.52969323e-07 9.91040583e-09 1.18530460e-03 6.22993475e-03\n",
      "  9.92584407e-01]\n",
      " [8.82783279e-05 1.09114131e-04 1.56793837e-02 5.84449291e-01\n",
      "  3.99673909e-01]\n",
      " [5.09469965e-06 2.47909356e-05 5.18703077e-04 3.89756635e-03\n",
      "  9.95553792e-01]\n",
      " [3.47088207e-05 4.79505445e-07 9.45219118e-03 6.09053066e-03\n",
      "  9.84422088e-01]\n",
      " [5.85594098e-04 1.10158435e-05 2.42890930e-03 1.19305499e-01\n",
      "  8.77668977e-01]\n",
      " [7.71434861e-05 1.24994867e-05 7.02650785e-01 1.54821590e-01\n",
      "  1.42438024e-01]\n",
      " [4.27797699e-04 2.80171153e-05 3.68478745e-02 1.48796305e-01\n",
      "  8.13900054e-01]\n",
      " [8.89409046e-10 4.65870176e-10 3.86865961e-09 1.95267447e-07\n",
      "  9.99999762e-01]\n",
      " [3.93100163e-05 3.78971436e-06 4.85144556e-04 6.61052705e-04\n",
      "  9.98810768e-01]\n",
      " [4.78370282e-07 1.91285068e-07 2.59012413e-05 1.21712626e-04\n",
      "  9.99851704e-01]\n",
      " [7.32339061e-07 2.93709306e-08 1.26708561e-04 2.37340544e-04\n",
      "  9.99635220e-01]\n",
      " [3.47573837e-06 1.89286202e-05 5.69624424e-01 1.83304735e-02\n",
      "  4.12022710e-01]\n",
      " [2.51479767e-04 4.11262643e-03 1.04379118e-03 7.02662452e-04\n",
      "  9.93889451e-01]\n",
      " [8.17951441e-05 1.72072533e-03 3.47297359e-03 1.56507920e-02\n",
      "  9.79073763e-01]\n",
      " [4.25023350e-09 3.91565713e-08 1.22479298e-06 7.98540859e-05\n",
      "  9.99918818e-01]\n",
      " [6.67333443e-05 4.04897757e-04 1.25445396e-01 8.60086620e-01\n",
      "  1.39963366e-02]\n",
      " [6.07889160e-06 3.50605728e-06 3.72926705e-03 6.85366627e-04\n",
      "  9.95575786e-01]\n",
      " [6.19372827e-07 2.18891216e-07 2.13735527e-03 9.97777641e-01\n",
      "  8.41372384e-05]\n",
      " [1.52766006e-05 1.06359767e-06 7.38477102e-03 2.95900330e-02\n",
      "  9.63008821e-01]\n",
      " [1.24009175e-05 1.74923582e-04 9.62596059e-01 1.95469316e-02\n",
      "  1.76697131e-02]\n",
      " [1.24558213e-03 3.21088883e-05 9.69002724e-01 5.45685552e-03\n",
      "  2.42626797e-02]\n",
      " [2.42655260e-05 3.96920186e-08 9.43462670e-01 5.24266325e-05\n",
      "  5.64606227e-02]\n",
      " [8.47463889e-05 4.84155680e-06 8.38984907e-01 1.23324558e-01\n",
      "  3.76010761e-02]\n",
      " [3.50593450e-06 2.76337289e-07 8.84064380e-03 1.28355139e-04\n",
      "  9.91027176e-01]\n",
      " [6.99334532e-06 2.31832746e-05 1.89820603e-01 4.02942598e-02\n",
      "  7.69854903e-01]\n",
      " [1.23784803e-05 1.76394747e-06 1.06044337e-02 1.77232409e-03\n",
      "  9.87609029e-01]\n",
      " [3.05771100e-04 1.75120644e-04 8.42259049e-01 6.57604588e-03\n",
      "  1.50684074e-01]\n",
      " [1.45183076e-04 1.70016647e-04 1.03155285e-01 7.94146717e-01\n",
      "  1.02382779e-01]\n",
      " [2.69274660e-05 2.10677299e-05 6.04677200e-01 1.86592005e-02\n",
      "  3.76615584e-01]\n",
      " [4.46674591e-07 8.89563864e-07 9.93152022e-01 6.09030062e-03\n",
      "  7.56299938e-04]\n",
      " [6.33468226e-05 2.02472838e-05 2.67774671e-01 2.49438162e-04\n",
      "  7.31892288e-01]\n",
      " [3.26532609e-04 3.97732481e-04 5.67683816e-01 2.68248133e-02\n",
      "  4.04767096e-01]\n",
      " [4.32088018e-05 8.84404944e-05 1.16569139e-01 2.24808510e-03\n",
      "  8.81051183e-01]\n",
      " [2.30352616e-05 1.97341418e-04 1.07678384e-01 7.01380102e-03\n",
      "  8.85087430e-01]\n",
      " [2.95054688e-05 6.17623300e-05 6.25887811e-01 1.84521437e-01\n",
      "  1.89499527e-01]\n",
      " [3.05024325e-04 2.57030682e-04 7.23159388e-02 2.61675729e-03\n",
      "  9.24505234e-01]\n",
      " [1.09526081e-06 3.51059543e-06 2.04220191e-01 7.94123232e-01\n",
      "  1.65197568e-03]\n",
      " [4.76529316e-10 1.11582852e-11 9.99998927e-01 9.27569943e-07\n",
      "  1.31444779e-07]]\n"
     ]
    }
   ],
   "source": [
    "pred = new_model.predict(processed_res)\n",
    "preds = []\n",
    "for i in pred:\n",
    "    out1 = np.argmax(i)\n",
    "    preds.append(out1)"
   ]
  },
  {
   "cell_type": "code",
   "execution_count": 111,
   "metadata": {},
   "outputs": [
    {
     "data": {
      "text/plain": [
       "Counter({'sufi': 82,\n",
       "         'ghazal': 24,\n",
       "         'carnatic': 16,\n",
       "         'semiclassical': 15,\n",
       "         'folk': 1})"
      ]
     },
     "execution_count": 111,
     "metadata": {},
     "output_type": "execute_result"
    }
   ],
   "source": [
    "from collections import Counter\n",
    "Counter(lbenc.inverse_transform(preds))"
   ]
  },
  {
   "cell_type": "code",
   "execution_count": 101,
   "metadata": {},
   "outputs": [],
   "source": [
    "model.save('cnn_indian1.h5')"
   ]
  },
  {
   "cell_type": "code",
   "execution_count": 102,
   "metadata": {},
   "outputs": [],
   "source": [
    "new_model = keras.models.load_model('cnn_indian1.h5')"
   ]
  },
  {
   "cell_type": "code",
   "execution_count": 76,
   "metadata": {},
   "outputs": [
    {
     "name": "stdout",
     "output_type": "stream",
     "text": [
      "Model: \"sequential\"\n",
      "_________________________________________________________________\n",
      " Layer (type)                Output Shape              Param #   \n",
      "=================================================================\n",
      " conv2d (Conv2D)             (None, 24, 63, 256)       2560      \n",
      "                                                                 \n",
      " conv2d_1 (Conv2D)           (None, 22, 61, 256)       590080    \n",
      "                                                                 \n",
      " average_pooling2d (AverageP  (None, 11, 31, 256)      0         \n",
      " ooling2D)                                                       \n",
      "                                                                 \n",
      " conv2d_2 (Conv2D)           (None, 9, 29, 256)        590080    \n",
      "                                                                 \n",
      " average_pooling2d_1 (Averag  (None, 5, 15, 256)       0         \n",
      " ePooling2D)                                                     \n",
      "                                                                 \n",
      " conv2d_3 (Conv2D)           (None, 2, 12, 512)        2097664   \n",
      "                                                                 \n",
      " global_average_pooling2d (G  (None, 512)              0         \n",
      " lobalAveragePooling2D)                                          \n",
      "                                                                 \n",
      " dense (Dense)               (None, 256)               131328    \n",
      "                                                                 \n",
      " dense_1 (Dense)             (None, 128)               32896     \n",
      "                                                                 \n",
      " dense_2 (Dense)             (None, 5)                 645       \n",
      "                                                                 \n",
      "=================================================================\n",
      "Total params: 3,445,253\n",
      "Trainable params: 3,445,253\n",
      "Non-trainable params: 0\n",
      "_________________________________________________________________\n"
     ]
    }
   ],
   "source": [
    "new_model.summary()"
   ]
  }
 ],
 "metadata": {
  "kernelspec": {
   "display_name": "Python 3 (ipykernel)",
   "language": "python",
   "name": "python3"
  },
  "language_info": {
   "codemirror_mode": {
    "name": "ipython",
    "version": 3
   },
   "file_extension": ".py",
   "mimetype": "text/x-python",
   "name": "python",
   "nbconvert_exporter": "python",
   "pygments_lexer": "ipython3",
   "version": "3.10.2"
  }
 },
 "nbformat": 4,
 "nbformat_minor": 4
}
